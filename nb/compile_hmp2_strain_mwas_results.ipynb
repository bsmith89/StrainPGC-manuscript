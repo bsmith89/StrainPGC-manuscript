{
 "cells": [
  {
   "cell_type": "markdown",
   "metadata": {},
   "source": [
    "### Preamble"
   ]
  },
  {
   "cell_type": "markdown",
   "metadata": {},
   "source": [
    "#### Project Template"
   ]
  },
  {
   "cell_type": "code",
   "execution_count": null,
   "metadata": {},
   "outputs": [],
   "source": [
    "%load_ext autoreload"
   ]
  },
  {
   "cell_type": "code",
   "execution_count": null,
   "metadata": {},
   "outputs": [],
   "source": [
    "import os as _os\n",
    "_os.chdir(_os.environ['PROJECT_ROOT'])\n",
    "_os.path.realpath(_os.path.curdir)"
   ]
  },
  {
   "cell_type": "markdown",
   "metadata": {},
   "source": [
    "#### Imports"
   ]
  },
  {
   "cell_type": "code",
   "execution_count": null,
   "metadata": {},
   "outputs": [],
   "source": [
    "import pandas as pd\n",
    "import numpy as np\n",
    "import scipy as sp\n",
    "import matplotlib.pyplot as plt\n",
    "import seaborn as sns\n",
    "import xarray as xr\n",
    "from lib.pandas_util import idxwhere, aligned_index, align_indexes, invert_mapping\n",
    "import matplotlib as mpl\n",
    "import lib.plot\n",
    "import statsmodels.api as sm\n",
    "from statsmodels.stats.multitest import fdrcorrection\n",
    "from tqdm import tqdm\n",
    "import subprocess\n",
    "from tempfile import mkstemp\n",
    "import time\n",
    "import subprocess\n",
    "from itertools import chain\n",
    "import os\n",
    "from itertools import product\n",
    "from mpl_toolkits.axes_grid1 import make_axes_locatable\n",
    "from datetime import datetime\n",
    "import sys\n",
    "from glob import glob"
   ]
  },
  {
   "cell_type": "code",
   "execution_count": null,
   "metadata": {},
   "outputs": [],
   "source": [
    "import lib.thisproject.data"
   ]
  },
  {
   "cell_type": "markdown",
   "metadata": {},
   "source": [
    "#### Set Style"
   ]
  },
  {
   "cell_type": "code",
   "execution_count": null,
   "metadata": {},
   "outputs": [],
   "source": [
    "sns.set_context('talk')\n",
    "plt.rcParams['figure.dpi'] = 50"
   ]
  },
  {
   "cell_type": "markdown",
   "metadata": {},
   "source": [
    "## Load Data"
   ]
  },
  {
   "cell_type": "code",
   "execution_count": null,
   "metadata": {},
   "outputs": [],
   "source": [
    "mwas = []\n",
    "\n",
    "for path in glob('data/group/xjin_hmp2/species/sp-*/r.proc.gtpro.sfacts-fit.gene99-v22-agg75.spgc_specgene-ref-t25-p95_ss-all_t-30_thresh-corr100-depth250.strain_mwas.tsv'):\n",
    "    species = path[len('data/group/xjin_hmp2/species/sp-'):-len('/r.proc.gtpro.sfacts-fit.gene99-v22-agg75.spgc_specgene-ref-t25-p95_ss-all_t-30_thresh-corr100-depth250.strain_mwas.tsv')]\n",
    "    d = pd.read_table(path)\n",
    "    mwas.append(d.assign(species=species))\n",
    "mwas = pd.concat(mwas)"
   ]
  },
  {
   "cell_type": "code",
   "execution_count": null,
   "metadata": {},
   "outputs": [],
   "source": [
    "len(mwas.gene.unique())"
   ]
  },
  {
   "cell_type": "code",
   "execution_count": null,
   "metadata": {},
   "outputs": [],
   "source": [
    "mwas.sort_values('logratio_pc')#.head(20)"
   ]
  },
  {
   "cell_type": "code",
   "execution_count": null,
   "metadata": {},
   "outputs": [],
   "source": [
    "bins = np.logspace(-5, 0, num=20)\n",
    "# bins = np.linspace(0, 1, num=51)\n",
    "for ibd_diagnosis in mwas.ibd_diagnosis.unique():\n",
    "    plt.hist(mwas[lambda x: x.ibd_diagnosis == ibd_diagnosis].pvalue, label=ibd_diagnosis, alpha=0.5, bins=bins)\n",
    "\n",
    "plt.plot(bins[1:], (bins[1:] - bins[:-1]) * mwas.shape[0] / 3)\n",
    "plt.legend()\n",
    "\n",
    "plt.xscale('log')\n",
    "plt.yscale('log')"
   ]
  },
  {
   "cell_type": "code",
   "execution_count": null,
   "metadata": {},
   "outputs": [],
   "source": [
    "mwas.assign(significant=lambda x: x.pvalue < 1e-3).significant.mean()"
   ]
  },
  {
   "cell_type": "code",
   "execution_count": null,
   "metadata": {},
   "outputs": [],
   "source": [
    "fraction_significant = mwas.assign(significant=lambda x: x.pvalue < 1e-3).groupby(['species', 'ibd_diagnosis']).significant.mean().sort_values(ascending=False)"
   ]
  },
  {
   "cell_type": "code",
   "execution_count": null,
   "metadata": {},
   "outputs": [],
   "source": [
    "fraction_significant.xs('nonIBD', level='ibd_diagnosis')"
   ]
  },
  {
   "cell_type": "code",
   "execution_count": null,
   "metadata": {},
   "outputs": [],
   "source": [
    "fraction_significant.xs('CD', level='ibd_diagnosis')"
   ]
  },
  {
   "cell_type": "code",
   "execution_count": null,
   "metadata": {},
   "outputs": [],
   "source": [
    "fraction_significant.xs('UC', level='ibd_diagnosis')"
   ]
  },
  {
   "cell_type": "code",
   "execution_count": null,
   "metadata": {},
   "outputs": [],
   "source": [
    "num_significant_pvalues = mwas[lambda x: x.pvalue < 1e-2].groupby('species').pvalue.count()\n",
    "total_num_tests = mwas.groupby('species').pvalue.count()\n",
    "\n",
    "(num_significant_pvalues / total_num_tests).fillna(0).sort_values(ascending=False).head(10)"
   ]
  },
  {
   "cell_type": "code",
   "execution_count": null,
   "metadata": {},
   "outputs": [],
   "source": [
    "plt.scatter(\n",
    "    'log_logratio_pc',\n",
    "    'pvalue',\n",
    "    data=mwas.assign(log_logratio_pc=lambda x: np.log2(x.logratio_pc)),\n",
    ")\n",
    "plt.yscale('log')\n",
    "# plt.xscale('log')\n",
    "plt.gca().invert_yaxis()"
   ]
  },
  {
   "cell_type": "code",
   "execution_count": null,
   "metadata": {},
   "outputs": [],
   "source": [
    "d0 = mwas[mwas.ibd_diagnosis == 'UC'].assign(log_logratio_pc=lambda x: np.log2(x.logratio_pc))\n",
    "\n",
    "plt.hist2d(\n",
    "    'log_logratio_pc',\n",
    "    'pvalue',\n",
    "    data=d0,\n",
    "    bins=(np.linspace(-10, 10, num=100), np.logspace(-6, 0, num=100)),\n",
    "    norm=mpl.colors.SymLogNorm(linthresh=2, linscale=3),\n",
    "    cmin=1,\n",
    "    cmap='copper_r',\n",
    ")\n",
    "plt.colorbar()\n",
    "plt.yscale('log')\n",
    "# plt.xscale('log')\n",
    "plt.gca().invert_yaxis()\n",
    "plt.xlabel('Log(Odds Ratio)')\n",
    "plt.ylabel('P-value')\n",
    "\n",
    "d1 = d0[lambda x: (x.gene == 'UHGG000638_01150') & (x.pvalue < 1e-3)]\n",
    "for _, d2 in d1.iterrows():\n",
    "    plt.annotate('', xy=(d2.log_logratio_pc, d2.pvalue), ha='left', va='bottom', xytext=(10, 10), textcoords=\"offset points\", arrowprops=dict())\n",
    "d1"
   ]
  },
  {
   "cell_type": "code",
   "execution_count": null,
   "metadata": {},
   "outputs": [],
   "source": [
    "d1.squeeze().Description"
   ]
  },
  {
   "cell_type": "code",
   "execution_count": null,
   "metadata": {},
   "outputs": [],
   "source": [
    "d0.sort_values('pvalue').head(10)"
   ]
  }
 ],
 "metadata": {
  "kernelspec": {
   "display_name": "default",
   "language": "python",
   "name": "default"
  },
  "language_info": {
   "codemirror_mode": {
    "name": "ipython",
    "version": 3
   },
   "file_extension": ".py",
   "mimetype": "text/x-python",
   "name": "python",
   "nbconvert_exporter": "python",
   "pygments_lexer": "ipython3",
   "version": "3.10.11"
  }
 },
 "nbformat": 4,
 "nbformat_minor": 5
}