{
 "cells": [
  {
   "cell_type": "markdown",
   "metadata": {},
   "source": [
    "## Preamble"
   ]
  },
  {
   "cell_type": "markdown",
   "metadata": {},
   "source": [
    "### Project Template"
   ]
  },
  {
   "cell_type": "code",
   "execution_count": null,
   "metadata": {},
   "outputs": [],
   "source": [
    "%load_ext autoreload"
   ]
  },
  {
   "cell_type": "code",
   "execution_count": null,
   "metadata": {},
   "outputs": [],
   "source": [
    "import os as _os\n",
    "\n",
    "_os.chdir(_os.environ[\"PROJECT_ROOT\"])\n",
    "_os.path.realpath(_os.path.curdir)"
   ]
  },
  {
   "cell_type": "markdown",
   "metadata": {},
   "source": [
    "### Imports"
   ]
  },
  {
   "cell_type": "code",
   "execution_count": null,
   "metadata": {},
   "outputs": [],
   "source": [
    "import os\n",
    "import subprocess\n",
    "import sys\n",
    "import time\n",
    "from datetime import datetime\n",
    "from glob import glob\n",
    "from itertools import chain, product\n",
    "from tempfile import mkstemp\n",
    "\n",
    "import matplotlib as mpl\n",
    "import matplotlib.pyplot as plt\n",
    "import numpy as np\n",
    "import pandas as pd\n",
    "import scipy as sp\n",
    "from scipy.spatial.distance import pdist, squareform\n",
    "import seaborn as sns\n",
    "import sfacts as sf\n",
    "import statsmodels.api as sm\n",
    "import statsmodels.formula.api as smf\n",
    "import xarray as xr\n",
    "from mpl_toolkits.axes_grid1 import make_axes_locatable\n",
    "import mpltern\n",
    "\n",
    "from statsmodels.stats.multitest import fdrcorrection\n",
    "from tqdm import tqdm\n",
    "\n",
    "import lib.plot\n",
    "from lib.dissimilarity import load_dmat_as_pickle\n",
    "from lib.pandas_util import align_indexes, aligned_index, idxwhere, invert_mapping"
   ]
  },
  {
   "cell_type": "code",
   "execution_count": null,
   "metadata": {},
   "outputs": [],
   "source": [
    "import lib.thisproject.data"
   ]
  },
  {
   "cell_type": "markdown",
   "metadata": {},
   "source": [
    "### Set Style"
   ]
  },
  {
   "cell_type": "code",
   "execution_count": null,
   "metadata": {},
   "outputs": [],
   "source": [
    "sns.set_context(\"talk\")\n",
    "plt.rcParams[\"figure.dpi\"] = 100"
   ]
  },
  {
   "cell_type": "code",
   "execution_count": null,
   "metadata": {},
   "outputs": [],
   "source": [
    "genome_type_palette = {\"SPGC\": \"tab:green\", \"MAG\": \"tab:orange\", \"Isolate\": \"tab:blue\", \"Ref\": \"black\"}"
   ]
  },
  {
   "cell_type": "markdown",
   "metadata": {},
   "source": [
    "## Data Setup"
   ]
  },
  {
   "cell_type": "markdown",
   "metadata": {},
   "source": [
    "### Metadata"
   ]
  },
  {
   "cell_type": "code",
   "execution_count": null,
   "metadata": {},
   "outputs": [],
   "source": [
    "species_list = (\n",
    "    pd.read_table(\"meta/species_group.tsv\")[\n",
    "        lambda x: x.species_group_id == \"hmp2\"\n",
    "    ]\n",
    "    .species_id.astype(str)\n",
    "    .unique()\n",
    ")"
   ]
  },
  {
   "cell_type": "code",
   "execution_count": null,
   "metadata": {},
   "outputs": [],
   "source": [
    "def parse_taxonomy_string(taxonomy_string):\n",
    "    values = taxonomy_string.split(\";\")\n",
    "    return pd.Series(values, index=[\"d__\", \"p__\", \"c__\", \"o__\", \"f__\", \"g__\", \"s__\"])"
   ]
  },
  {
   "cell_type": "code",
   "execution_count": null,
   "metadata": {},
   "outputs": [],
   "source": [
    "species_taxonomy_inpath = \"ref/uhgg_genomes_all_v2.tsv\"\n",
    "\n",
    "species_taxonomy = (\n",
    "    pd.read_table(species_taxonomy_inpath)[lambda x: x.Genome == x.Species_rep]\n",
    "    .assign(species_id=lambda x: \"1\" + x.MGnify_accession.str.split(\"-\").str[2])\n",
    "    .set_index(\"species_id\")\n",
    "    .Lineage.apply(parse_taxonomy_string)\n",
    ")\n",
    "species_taxonomy"
   ]
  },
  {
   "cell_type": "code",
   "execution_count": null,
   "metadata": {},
   "outputs": [],
   "source": [
    "phylum_order0 = sorted(species_taxonomy.p__.unique())\n",
    "\n",
    "phylum_palette0 = lib.plot.construct_ordered_palette(\n",
    "    phylum_order0,\n",
    "    cm=\"rainbow\", desaturate_levels=[1.0, 0.5],\n",
    ")\n",
    "\n",
    "for p__ in phylum_order0:\n",
    "    plt.scatter([], [], color=phylum_palette0[p__], label=p__)\n",
    "plt.legend(ncols=4)\n",
    "lib.plot.hide_axes_and_spines()\n",
    "\n",
    "# assert len(set(phylum_palette.values())) == len((phylum_palette.values()))"
   ]
  },
  {
   "cell_type": "markdown",
   "metadata": {},
   "source": [
    "### Strain Statistics"
   ]
  },
  {
   "cell_type": "code",
   "execution_count": null,
   "metadata": {},
   "outputs": [],
   "source": [
    "def classify_genome(x):\n",
    "    if (x.genome_type == \"Isolate\") & x.passes_filter:\n",
    "        return \"isolate\"\n",
    "    elif (x.genome_type == \"Isolate\") & ~x.passes_filter:\n",
    "        return \"isolate_fails_qc\"\n",
    "    elif (x.genome_type == \"MAG\") & x.passes_filter:\n",
    "        return \"mag\"\n",
    "    elif (x.genome_type == \"MAG\") & ~x.passes_filter:\n",
    "        return \"mag_fails_qc\"\n",
    "    elif (x.genome_type == \"SPGC\") & x.passes_filter:\n",
    "        return \"spgc\"\n",
    "    elif (x.genome_type == \"SPGC\") & x.passes_geno_positions & x.passes_in_sample_list:\n",
    "        return \"sfacts_only\"\n",
    "    elif (x.genome_type == \"SPGC\") & ~(\n",
    "        x.passes_geno_positions & x.passes_in_sample_list\n",
    "    ):\n",
    "        return \"sfacts_fails_qc\"\n",
    "    else:\n",
    "        raise ValueError(\"Genome did not match classification criteria:\", x)"
   ]
  },
  {
   "cell_type": "code",
   "execution_count": null,
   "metadata": {},
   "outputs": [],
   "source": [
    "filt_stats = []\n",
    "missing_species = []\n",
    "\n",
    "_species_list = species_list\n",
    "# _species_list = [\"100003\"]\n",
    "\n",
    "for species in tqdm(_species_list):\n",
    "    inpath = f\"data/group/hmp2/species/sp-{species}/r.proc.gtpro.sfacts-fit.gene99_v15-v22-agg75.spgc-fit.strain_meta_spgc_and_ref.tsv\"\n",
    "    if not os.path.exists(inpath):\n",
    "        missing_species.append(species)\n",
    "        continue\n",
    "    data = pd.read_table(inpath).assign(species=species, inpath=inpath)\n",
    "    filt_stats.append(data)\n",
    "filt_stats = pd.concat(filt_stats).assign(\n",
    "    genome_class=lambda x: x.apply(classify_genome, axis=1)\n",
    ")\n",
    "\n",
    "print(\n",
    "    len(missing_species),\n",
    "    \"out of\",\n",
    "    len(_species_list),\n",
    "    \"species are missing stats.\",\n",
    ")"
   ]
  },
  {
   "cell_type": "code",
   "execution_count": null,
   "metadata": {},
   "outputs": [],
   "source": [
    "# Define different subsets of the species:\n",
    "\n",
    "# All species:\n",
    "# species_list\n",
    "\n",
    "# All species with enough positions\n",
    "species_list0 = filt_stats[lambda x: x.passes_geno_positions].species.unique()\n",
    "\n",
    "# All species with sf strains\n",
    "species_list1 = filt_stats[\n",
    "    lambda x: x.passes_geno_positions & x.genome_type.isin([\"SPGC\"])\n",
    "].species.unique()\n",
    "\n",
    "# All species with sf strains to talk about distributions (>=10)\n",
    "species_list1b = idxwhere(\n",
    "    filt_stats[\n",
    "        lambda x: x.passes_geno_positions & x.genome_type.isin([\"SPGC\"])\n",
    "    ].species.value_counts()\n",
    "    >= 10\n",
    ")\n",
    "\n",
    "# All species with spgc strains\n",
    "species_list2 = filt_stats[\n",
    "    lambda x: x.passes_filter & x.genome_type.isin([\"SPGC\"])\n",
    "].species.unique()\n",
    "\n",
    "# All species with enough spgc strains for pangenome analysis (>=10)\n",
    "species_list3 = idxwhere(\n",
    "    filt_stats[\n",
    "        lambda x: x.passes_filter & x.genome_type.isin([\"SPGC\"])\n",
    "    ].species.value_counts()\n",
    "    >= 10\n",
    ")\n",
    "\n",
    "# Species with large numbers of strains (>=20)\n",
    "species_list4 = idxwhere(\n",
    "    filt_stats[\n",
    "        lambda x: x.passes_filter & x.genome_type.isin([\"SPGC\"])\n",
    "    ].species.value_counts()\n",
    "    >= 20\n",
    ")\n",
    "\n",
    "_species_list_map = {\n",
    "    \"All considered species\": species_list,\n",
    "    \"Species with enough genotyped positions\": species_list0,\n",
    "    \"With sfacts strains\": species_list1,\n",
    "    \"With (>=10) sfacts strains\": species_list1b,\n",
    "    \"With SPGC inferences\": species_list2,\n",
    "    \"With >=10 inferences\": species_list3,\n",
    "    \"With >=20 inferences\": species_list4,\n",
    "}\n",
    "for _species_list_name, _species_list in _species_list_map.items():\n",
    "    print(_species_list_name, len(_species_list))\n",
    "    print(species_taxonomy.loc[_species_list].p__.value_counts())\n",
    "    print()"
   ]
  },
  {
   "cell_type": "markdown",
   "metadata": {},
   "source": [
    "## Better phylum palette"
   ]
  },
  {
   "cell_type": "code",
   "execution_count": null,
   "metadata": {},
   "outputs": [],
   "source": [
    "species_taxonomy.loc[species_list1].p__.value_counts()"
   ]
  },
  {
   "cell_type": "code",
   "execution_count": null,
   "metadata": {},
   "outputs": [],
   "source": [
    "phylum_order = [\n",
    "    \"p__Euryarchaeota\",\n",
    "    \"p__Thermoplasmatota\",\n",
    "    \"p__Firmicutes\",\n",
    "    \"p__Firmicutes_A\",\n",
    "    \"p__Firmicutes_C\",\n",
    "    # \"p__Firmicutes_B\", # None in species_list1\n",
    "    # \"p__Firmicutes_G\", # B/G/I not sure how related to C or A\n",
    "    # \"p__Firmicutes_I\", #\n",
    "    # \"p__Cyanobacteria\", # None in species_list1\n",
    "    \"p__Actinobacteriota\",\n",
    "    \"p__Synergistota\",\n",
    "    \"p__Fusobacteriota\",\n",
    "    \"p__Campylobacterota\",\n",
    "    \"p__Proteobacteria\",\n",
    "    \"p__Desulfobacterota_A\",\n",
    "    \"p__Bacteroidota\",\n",
    "    \"p__Verrucomicrobiota\",\n",
    "    # \"dummy0\", # 18\n",
    "    # \"dummy1\", # 19\n",
    "    # \"dummy2\", # 20\n",
    "]\n",
    "\n",
    "phylum_palette = lib.plot.construct_ordered_palette(\n",
    "    phylum_order,\n",
    "    cm=\"rainbow\",\n",
    "    desaturate_levels=[1.0, 0.5],\n",
    ")\n",
    "\n",
    "for p__ in phylum_order:\n",
    "    print(p__, phylum_palette[p__])\n",
    "    plt.scatter([], [], color=phylum_palette[p__], label=p__)\n",
    "plt.legend(ncols=4)\n",
    "lib.plot.hide_axes_and_spines()\n",
    "\n",
    "# assert len(set(phylum_palette.values())) == len((phylum_palette.values()))"
   ]
  },
  {
   "cell_type": "code",
   "execution_count": null,
   "metadata": {},
   "outputs": [],
   "source": []
  },
  {
   "cell_type": "markdown",
   "metadata": {},
   "source": [
    "## Prevalences"
   ]
  },
  {
   "cell_type": "code",
   "execution_count": null,
   "metadata": {},
   "outputs": [],
   "source": [
    "spgc_gene_prevalence = []\n",
    "missing_species = []\n",
    "\n",
    "_species_list = species_list3\n",
    "\n",
    "for species in tqdm(_species_list):\n",
    "    inpath = f\"data/group/hmp2/species/sp-{species}/r.proc.gtpro.sfacts-fit.gene99_v15-v22-agg75.spgc-fit.uhgg-strain_gene.prevalence.tsv\"\n",
    "    if not os.path.exists(inpath):\n",
    "        missing_species.append(species)\n",
    "        continue\n",
    "    data = pd.read_table(inpath, names=['gene_id', 'prevalence'], index_col='gene_id').prevalence\n",
    "    spgc_gene_prevalence.append(data)\n",
    "spgc_gene_prevalence = pd.concat(spgc_gene_prevalence).sort_index()\n",
    "\n",
    "print(\n",
    "    len(missing_species),\n",
    "    \"out of\",\n",
    "    len(_species_list),\n",
    "    \"species are missing stats.\",\n",
    ")"
   ]
  },
  {
   "cell_type": "code",
   "execution_count": null,
   "metadata": {},
   "outputs": [],
   "source": [
    "ref_gene_prevalence = []\n",
    "missing_species = []\n",
    "\n",
    "_species_list = species_list3\n",
    "\n",
    "for species in tqdm(_species_list):\n",
    "    inpath = f\"data/species/sp-{species}/midasdb.gene75_v15.uhgg-strain_gene.prevalence.tsv\"\n",
    "    if not os.path.exists(inpath):\n",
    "        missing_species.append(species)\n",
    "        continue\n",
    "    data = pd.read_table(inpath, names=['gene_id', 'prevalence'], index_col='gene_id').prevalence\n",
    "    ref_gene_prevalence.append(data)\n",
    "ref_gene_prevalence = pd.concat(ref_gene_prevalence).sort_index()\n",
    "\n",
    "print(\n",
    "    len(missing_species),\n",
    "    \"out of\",\n",
    "    len(_species_list),\n",
    "    \"species are missing stats.\",\n",
    ")"
   ]
  },
  {
   "cell_type": "code",
   "execution_count": null,
   "metadata": {},
   "outputs": [],
   "source": [
    "exclude_genes_never_greater_than = 0.01\n",
    "d = pd.DataFrame(dict(ref=ref_gene_prevalence, spgc=spgc_gene_prevalence)).fillna(0)[lambda x: x.max(1) > exclude_genes_never_greater_than]\n",
    "\n",
    "fig, ax = plt.subplots(figsize=(6.5, 5))\n",
    "bins=np.linspace(0, 1, num=51)\n",
    "*_, art = ax.hist2d('ref', 'spgc', data=d, bins=bins, norm=mpl.colors.SymLogNorm(1, vmin=1))\n",
    "fig.colorbar(art, ax=ax, label='Genes (count)')\n",
    "\n",
    "ax.set_aspect(1)\n",
    "ax.set_xlabel('Reference Prevalence')\n",
    "ax.set_ylabel('SPGC Prevalence')\n",
    "\n",
    "ax.annotate('core (\u226590%)', xy=(0.5, 0.901), ha='center', va='bottom', color='white')\n",
    "ax.axhline(0.9, lw=1, linestyle='--', color='white')\n",
    "ax.annotate('shell (15-90%)', xy=(0.5, 0.151), ha='center', va='bottom', color='white')\n",
    "ax.axhline(0.15, lw=1, linestyle='--', color='white')\n",
    "ax.annotate('cloud (<15%)', xy=(0.5, 0.0), ha='center', va='bottom', color='white')\n",
    "\n",
    "sp.stats.pearsonr(d.ref, d.spgc)"
   ]
  },
  {
   "cell_type": "markdown",
   "metadata": {},
   "source": [
    "## Genome Fractions"
   ]
  },
  {
   "cell_type": "code",
   "execution_count": null,
   "metadata": {},
   "outputs": [],
   "source": [
    "# TODO: Gather genome fractions for strains\n",
    "# Filter strains\n",
    "\n",
    "spgc_prevalence_class_counts = []\n",
    "missing_species = []\n",
    "\n",
    "_species_list = species_list2\n",
    "\n",
    "for species in tqdm(_species_list):\n",
    "    inpath = f\"data/group/hmp2/species/sp-{species}/r.proc.gtpro.sfacts-fit.gene99_v15-v22-agg75.spgc-fit.uhgg-strain_gene.prevalence_class_fraction.tsv\"\n",
    "    if not os.path.exists(inpath):\n",
    "        missing_species.append(species)\n",
    "        continue\n",
    "\n",
    "    strain_list = filt_stats[lambda x: (x.species == species) & (x.passes_filter) & (x.genome_type == 'SPGC')].genome_id.unique()\n",
    "    data = pd.read_table(inpath, index_col='strain').rename(index=str).loc[strain_list].assign(species=species).reset_index().set_index(['species', 'strain'])\n",
    "    spgc_prevalence_class_counts.append(data)\n",
    "spgc_prevalence_class_counts = pd.concat(spgc_prevalence_class_counts).sort_index()\n",
    "\n",
    "print(\n",
    "    len(missing_species),\n",
    "    \"out of\",\n",
    "    len(_species_list),\n",
    "    \"species are missing stats.\",\n",
    ")"
   ]
  },
  {
   "cell_type": "code",
   "execution_count": null,
   "metadata": {},
   "outputs": [],
   "source": [
    "spgc_prevalence_class_counts.groupby('species').median().apply(lambda x: x / x.sum(), axis=1)"
   ]
  },
  {
   "cell_type": "code",
   "execution_count": null,
   "metadata": {},
   "outputs": [],
   "source": [
    "median_prevalence_class_fraction = spgc_prevalence_class_counts.groupby('species').median().apply(lambda x: x / x.sum(), axis=1)"
   ]
  },
  {
   "cell_type": "code",
   "execution_count": null,
   "metadata": {},
   "outputs": [],
   "source": [
    "median_prevalence_class_fraction.assign(c=lambda x: x.index.to_series().map(species_taxonomy.p__)).sort_values('c')"
   ]
  },
  {
   "cell_type": "code",
   "execution_count": null,
   "metadata": {},
   "outputs": [],
   "source": [
    "fig = plt.figure(figsize=(8, 8), facecolor='none')\n",
    "ax = fig.add_subplot(projection=\"ternary\", ternary_sum=100.0, rotation=180)\n",
    "ax.grid()\n",
    "\n",
    "\n",
    "ax.set_tlabel(\"Core (%)\")\n",
    "ax.set_llabel(\"Shell (%)\")\n",
    "ax.set_rlabel(\"Cloud (%)\")\n",
    "\n",
    "# ax.set_tlim(20, 100)\n",
    "# ax.set_llim(10, 62)\n",
    "# ax.set_rlim(0, 35)\n",
    "\n",
    "d0 = median_prevalence_class_fraction.loc[species_list3].assign(\n",
    "    p__=lambda x: x.index.to_series().map(species_taxonomy.p__),\n",
    "    num_genomes=spgc_prevalence_class_counts.reset_index()['species'].value_counts(),\n",
    ")\n",
    "\n",
    "_, ax_legend = plt.subplots()\n",
    "\n",
    "for p__ in phylum_order:\n",
    "    d1 = d0[lambda x: x.p__ == p__]\n",
    "    ax.scatter(\n",
    "                \"core\",\n",
    "                \"shell\",\n",
    "                \"cloud\",\n",
    "                data=d1,\n",
    "                color=phylum_palette[p__],\n",
    "                facecolor='none',\n",
    "                s=15,\n",
    "                label='__nolegend__',\n",
    "                # marker=\"o\",\n",
    "                # lw=2,\n",
    "                # facecolor=\"none\",\n",
    "                # alpha=0.85,\n",
    "            )\n",
    "    ax_legend.scatter([], [], color=phylum_palette[p__],\n",
    "                facecolor='none', label=p__, s=50, lw=3)\n",
    "ax_legend.legend(bbox_to_anchor=(1, 0.5))\n",
    "lib.plot.hide_axes_and_spines(ax_legend)"
   ]
  },
  {
   "cell_type": "code",
   "execution_count": null,
   "metadata": {},
   "outputs": [],
   "source": [
    "_reduced_phylum_list = species_taxonomy.loc[species_list3].p__.unique()\n",
    "_reduced_phylum_order = [p__ for p__ in phylum_order if p__ in _reduced_phylum_list]\n",
    "p__meta = pd.DataFrame([], index=_reduced_phylum_order).assign(pos=lambda x: np.arange(len(x)))\n",
    "\n",
    "\n",
    "fig, ax = plt.subplots(figsize=(5, 1), facecolor='none')\n",
    "ax.set_xticks(p__meta.pos.unique())\n",
    "ax.set_xticklabels(p__meta.index.to_series().str.replace('p__', ''), fontdict=dict(weight='heavy'))\n",
    "for xtick, p__, c in zip(ax.get_xticklabels(), p__meta.index.to_series(), p__meta.index.to_series().map(phylum_palette)):\n",
    "    print(xtick, p__, c)\n",
    "    xtick.set_color(c)\n",
    "\n",
    "ax.set_xlabel('Phylum')\n",
    "\n",
    "# # sns.stripplot(x='p__', y='Ref_branch_frac', data=d)\n",
    "\n",
    "lib.plot.rotate_xticklabels(ax=ax, rotation=35)"
   ]
  },
  {
   "cell_type": "markdown",
   "metadata": {},
   "source": [
    "## Enrichment"
   ]
  },
  {
   "cell_type": "code",
   "execution_count": null,
   "metadata": {},
   "outputs": [],
   "source": [
    "cog_category_description = pd.read_table(\n",
    "    \"ref/cog-20.categories.tsv\",\n",
    "    names=[\"cog_category\", \"color\", \"description\"],\n",
    "    index_col=\"cog_category\",\n",
    ").description\n",
    "cog_category_description.sort_index()"
   ]
  },
  {
   "cell_type": "code",
   "execution_count": null,
   "metadata": {},
   "outputs": [],
   "source": [
    "cog_category = []\n",
    "for species in tqdm(species_list3):\n",
    "    cog_category_inpath = f'data/species/sp-{species}/midasdb_v15.emapper.gene75_x_cog_category.tsv'\n",
    "    cog_category.append(pd.read_table(cog_category_inpath))\n",
    "\n",
    "cog_category = pd.concat(cog_category)"
   ]
  },
  {
   "cell_type": "code",
   "execution_count": null,
   "metadata": {},
   "outputs": [],
   "source": [
    "gene_x_cog_category_matrix = cog_category.set_index(['centroid_75', 'cog_category']).assign(annotation=True).unstack('cog_category', fill_value=False).annotation\n",
    "gene_x_cog_category_matrix.sum()"
   ]
  },
  {
   "cell_type": "code",
   "execution_count": null,
   "metadata": {},
   "outputs": [],
   "source": [
    "spgc_prevalence_class = spgc_gene_prevalence.map(\n",
    "    lambda x: np.where(x > 0.9, \"core\", np.where(x > 0.15, \"shell\", np.where(x > 0, \"cloud\", \"absent\")))\n",
    ")"
   ]
  },
  {
   "cell_type": "code",
   "execution_count": null,
   "metadata": {},
   "outputs": [],
   "source": [
    "d0 = (\n",
    "    spgc_prevalence_class.to_frame(\"prevalence_class\")\n",
    "    .join(gene_x_cog_category_matrix)\n",
    "    .assign(\n",
    "        cloud=lambda x: x.prevalence_class == \"cloud\",\n",
    "        shell=lambda x: x.prevalence_class == \"shell\",\n",
    "        core=lambda x: x.prevalence_class == \"core\",\n",
    "        absent=lambda x: x.prevalence_class == \"absent\",\n",
    "    )\n",
    ")[lambda x: ~x.absent]\n",
    "\n",
    "result = []\n",
    "for _prevalence_class, _cog_category in tqdm(\n",
    "    list(product([\"core\", \"shell\", \"cloud\", \"absent\"], gene_x_cog_category_matrix.columns))\n",
    "):\n",
    "    d1 = (\n",
    "        d0[[_prevalence_class, _cog_category]]\n",
    "        .value_counts()\n",
    "        .unstack()\n",
    "        .reindex(index=[True, False], columns=[True, False])\n",
    "        .fillna(0)\n",
    "    )\n",
    "    d1_pc = d1 + 1\n",
    "    log_oddsratio = np.log2(\n",
    "        (d1_pc.loc[True, True] / d1_pc.loc[True, False])\n",
    "        / (d1_pc.loc[False, True] / d1_pc.loc[False, False])\n",
    "    )\n",
    "    result.append(\n",
    "        (_prevalence_class, _cog_category, d1.loc[True, True], log_oddsratio, sp.stats.fisher_exact(d1)[1])\n",
    "    )\n",
    "prevalence_class_cog_category_enrichment = pd.DataFrame(\n",
    "    result, columns=[\"prevalence_class\", \"cog_category\", \"num_genes\", \"log2_oddsratio\", \"pvalue\"]\n",
    ").set_index([\"prevalence_class\", \"cog_category\"])"
   ]
  },
  {
   "cell_type": "code",
   "execution_count": null,
   "metadata": {},
   "outputs": [],
   "source": [
    "d = prevalence_class_cog_category_enrichment\n",
    "\n",
    "d_oddsr = d.log2_oddsratio.unstack(\"prevalence_class\")\n",
    "d_signf = d.pvalue.map(lambda x: np.where(x < 0.05, \"\u00b7\", \"\")).unstack(\n",
    "    \"prevalence_class\"\n",
    ")\n",
    "\n",
    "prevalence_class_order = [\"core\", \"shell\", \"cloud\", \"absent\"]\n",
    "cog_category_order = d_oddsr[\"core\"].sort_values(ascending=False).index\n",
    "\n",
    "fig, ax = plt.subplots(figsize=(10, 10))\n",
    "sns.heatmap(\n",
    "    d_oddsr.loc[cog_category_order, prevalence_class_order],\n",
    "    norm=mpl.colors.PowerNorm(1, vmin=-2, vmax=+2),\n",
    "    cmap=\"coolwarm\",\n",
    "    ax=ax, cbar_kws=dict(extend='both'),\n",
    ")\n",
    "# Annotations (because seaborn annotations are failing)\n",
    "for (i, _cog_category), (j, _prevalence_class) in product(\n",
    "    enumerate(cog_category_order), enumerate(prevalence_class_order)\n",
    "):\n",
    "    ax.annotate(\n",
    "        d_signf.loc[_cog_category, _prevalence_class],\n",
    "        xy=(j + 0.5, i + 0.5),\n",
    "        ha=\"center\",\n",
    "        va=\"center\",\n",
    "    )"
   ]
  },
  {
   "cell_type": "code",
   "execution_count": null,
   "metadata": {},
   "outputs": [],
   "source": [
    "cog_category_label = {\n",
    "    'J': 'Ribosomes / Translation - J',\n",
    "    'A': 'RNA Processing - A',\n",
    "    'K': 'Transcription - K',\n",
    "    'L': 'DNA replication/recombination/repair - L',\n",
    "    'B': 'Chromatin - B',\n",
    "    'D': 'Cell cycle control - D',\n",
    "    'Y': 'Nucleus - Y',\n",
    "    'V': 'Defense - V',\n",
    "    'T': 'Signal transduction - T',\n",
    "    'M': 'Cell envelope - M',\n",
    "    'N': 'Motility - N',\n",
    "    'Z': 'Cytoskeleton - Z',\n",
    "    'W': 'Extracellular structures - W',\n",
    "    'U': 'Secretion / vesicular transport - U',\n",
    "    'O': 'Protein processing - O',\n",
    "    'X': '\"Mobilome\" - X',\n",
    "    'C': 'Energy - C',\n",
    "    'G': 'Carbohydrates - G',\n",
    "    'E': 'Amino acids - E',\n",
    "    'F': 'Nucleotides - F',\n",
    "    'H': 'Coenzymes - H',\n",
    "    'I': 'Lipids - I',\n",
    "    'P': 'Inorganic ions - P',\n",
    "    'Q': 'Secondary metabolites - Q',\n",
    "    'R': 'General only - R',\n",
    "    'S': 'TODO: This shouldn\\'t show up',\n",
    "    'no_category': 'Unknown',\n",
    "}"
   ]
  },
  {
   "cell_type": "code",
   "execution_count": null,
   "metadata": {},
   "outputs": [],
   "source": [
    "prevalence_class_cog_category_enrichment.groupby('cog_category').num_genes.sum().sort_values()"
   ]
  },
  {
   "cell_type": "code",
   "execution_count": null,
   "metadata": {},
   "outputs": [],
   "source": [
    "d = prevalence_class_cog_category_enrichment\n",
    "\n",
    "cog_category_order = d.xs('core').log2_oddsratio.sort_values(ascending=True).index\n",
    "cog_category_idx = pd.Series(np.arange(len(cog_category_order)), index=cog_category_order).rename_axis('cog_category')\n",
    "prevalence_class_order = ['core', 'shell', 'cloud']\n",
    "prevalence_class_idx = pd.Series(np.arange(len(prevalence_class_order)), index=prevalence_class_order).rename_axis('prevalence_class')\n",
    "\n",
    "num_genes_to_size = lambda x: 55 * np.log(x + 1)\n",
    "signif_size = 20\n",
    "\n",
    "d = d.join(prevalence_class_idx.rename('prevalence_class_idx')).join(cog_category_idx.rename('cog_category_idx')).assign(num_genes_s=lambda x: num_genes_to_size(x.num_genes), signif=lambda x: signif_size * (x.pvalue >= 0.05))\n",
    "\n",
    "vmin, vmax = -2, 2\n",
    "\n",
    "fig, ax = plt.subplots(figsize=(2, 12))\n",
    "ax.scatter(x='prevalence_class_idx', y='cog_category_idx', data=d, c='log2_oddsratio', s='num_genes_s', cmap='coolwarm', norm=mpl.colors.PowerNorm(1, vmin=vmin, vmax=vmax), label='__nolegend__')\n",
    "ax.scatter(x='prevalence_class_idx', y='cog_category_idx', data=d, s='signif', color='k', marker='x', label='__nolegend__', lw=1)\n",
    "# for _, d1 in d.iterrows():\n",
    "#     ax.annotate(d1.signif, xy=(d1.prevalence_class_idx, d1.cog_category_idx), ha='center', va='center')\n",
    "\n",
    "\n",
    "\n",
    "ax.set_xlim(-0.5, len(prevalence_class_order) - 0.5)\n",
    "ax.set_ylim(-1.0, len(cog_category_order))\n",
    "ax.set_xticks(prevalence_class_idx)\n",
    "ax.set_xticklabels(prevalence_class_order)\n",
    "ax.set_yticks(cog_category_idx)\n",
    "ax.set_yticklabels([cog_category_label[c] for c in cog_category_order])\n",
    "lib.plot.rotate_xticklabels(ax=ax)\n",
    "\n",
    "# Remove frame\n",
    "ax.spines['top'].set_visible(False)\n",
    "ax.spines['right'].set_visible(False)\n",
    "ax.spines['bottom'].set_visible(False)\n",
    "ax.spines['left'].set_visible(False)\n",
    "\n",
    "for log2_oddsratio in np.linspace(-2, 2, num=5):\n",
    "    ax.scatter([], [], color=mpl.cm.coolwarm((log2_oddsratio - vmin) / (vmax - vmin)), label=log2_oddsratio)\n",
    "for num_genes in np.logspace(0, 4, num=5):\n",
    "    ax.scatter([], [], color='black', label=num_genes, s=num_genes_to_size(num_genes))\n",
    "ax.legend(bbox_to_anchor=(1, 1))\n",
    "# lib.plot.hide_axes_and_spines(ax)"
   ]
  },
  {
   "cell_type": "code",
   "execution_count": null,
   "metadata": {},
   "outputs": [],
   "source": []
  },
  {
   "cell_type": "code",
   "execution_count": null,
   "metadata": {},
   "outputs": [],
   "source": [
    "d\n",
    "prevalence_class_x = [\"core\", \"shell\", \"cloud\"]\n",
    "cog_category_order = d_oddsr[\"core\"].sort_values(ascending=False).index\n",
    "\n",
    "# Sort all matrices:\n"
   ]
  }
 ],
 "metadata": {
  "kernelspec": {
   "display_name": "toolz4",
   "language": "python",
   "name": "toolz4"
  },
  "language_info": {
   "codemirror_mode": {
    "name": "ipython",
    "version": 3
   },
   "file_extension": ".py",
   "mimetype": "text/x-python",
   "name": "python",
   "nbconvert_exporter": "python",
   "pygments_lexer": "ipython3",
   "version": "3.10.13"
  }
 },
 "nbformat": 4,
 "nbformat_minor": 5
}