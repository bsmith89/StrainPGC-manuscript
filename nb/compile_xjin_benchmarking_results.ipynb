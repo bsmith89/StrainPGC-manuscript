{
 "cells": [
  {
   "cell_type": "markdown",
   "metadata": {},
   "source": [
    "### Preamble"
   ]
  },
  {
   "cell_type": "markdown",
   "metadata": {},
   "source": [
    "#### Project Template"
   ]
  },
  {
   "cell_type": "code",
   "execution_count": null,
   "metadata": {},
   "outputs": [],
   "source": [
    "%load_ext autoreload"
   ]
  },
  {
   "cell_type": "code",
   "execution_count": null,
   "metadata": {},
   "outputs": [],
   "source": [
    "import os as _os\n",
    "_os.chdir(_os.environ['PROJECT_ROOT'])\n",
    "_os.path.realpath(_os.path.curdir)"
   ]
  },
  {
   "cell_type": "markdown",
   "metadata": {},
   "source": [
    "#### Imports"
   ]
  },
  {
   "cell_type": "code",
   "execution_count": null,
   "metadata": {},
   "outputs": [],
   "source": [
    "import pandas as pd\n",
    "import numpy as np\n",
    "import scipy as sp\n",
    "import matplotlib.pyplot as plt\n",
    "import seaborn as sns\n",
    "import xarray as xr\n",
    "from lib.pandas_util import idxwhere, aligned_index, align_indexes, invert_mapping\n",
    "import matplotlib as mpl\n",
    "import lib.plot\n",
    "import statsmodels as sm\n",
    "from statsmodels.stats.multitest import fdrcorrection\n",
    "from tqdm import tqdm\n",
    "import subprocess\n",
    "from tempfile import mkstemp\n",
    "import time\n",
    "import subprocess\n",
    "from itertools import chain\n",
    "import os\n",
    "from itertools import product\n",
    "from mpl_toolkits.axes_grid1 import make_axes_locatable\n"
   ]
  },
  {
   "cell_type": "code",
   "execution_count": null,
   "metadata": {},
   "outputs": [],
   "source": [
    "import sfacts as sf"
   ]
  },
  {
   "cell_type": "code",
   "execution_count": null,
   "metadata": {},
   "outputs": [],
   "source": [
    "import lib.thisproject.data"
   ]
  },
  {
   "cell_type": "markdown",
   "metadata": {},
   "source": [
    "#### Set Style"
   ]
  },
  {
   "cell_type": "code",
   "execution_count": null,
   "metadata": {},
   "outputs": [],
   "source": [
    "sns.set_context('talk')\n",
    "plt.rcParams['figure.dpi'] = 50"
   ]
  },
  {
   "cell_type": "markdown",
   "metadata": {},
   "source": [
    "## Set Parameters / Load Data"
   ]
  },
  {
   "cell_type": "code",
   "execution_count": null,
   "metadata": {},
   "outputs": [],
   "source": [
    "Fixed params\n",
    "\n",
    "group='xjin_hmp2'\n",
    "stemA='r.proc'\n",
    "centroid=75\n",
    "stemB = 'filt-poly05-cvrg05.ss-g10000-block0-seed0.fit-sfacts37-s85-seed0'\n",
    "gene_params = f\"99-v22-agg{centroid}\"\n",
    "depth_thresh=\"250\"\n",
    "specgene_params='specgene-ref-t25-p95'"
   ]
  },
  {
   "cell_type": "code",
   "execution_count": null,
   "metadata": {},
   "outputs": [],
   "source": [
    "ref_strains = pd.read_table('meta/genome.tsv', index_col='genome_id')[lambda x: ~x.genome_path.isna()]\n",
    "species_list = ref_strains.species_id.unique()"
   ]
  },
  {
   "cell_type": "code",
   "execution_count": null,
   "metadata": {},
   "outputs": [],
   "source": [
    "# TODO: Make these loop variables\n",
    "seed = 0\n",
    "max_strain_samples = 1\n",
    "\n",
    "xjin_benchmarking = []\n",
    "for max_strain_samples in [-1, 1]:\n",
    "    if max_strain_samples > 0:\n",
    "        ss_params = f\"seed{seed}-n{max_strain_samples}\"\n",
    "    else:\n",
    "        ss_params = \"all\"\n",
    "    for corr_thresh in [0, 0.35]:\n",
    "        corr_thresh_key = int(corr_thresh * 1000)\n",
    "        for species in species_list:\n",
    "            path = f\"data/group/{group}/species/sp-{species}/{stemA}.gtpro.{stemB}.gene{gene_params}.spgc_{specgene_params}_ss-xjin-{ss_params}_thresh-corr{corr_thresh_key}-depth{depth_thresh}.xjin_strain_summary.tsv\"\n",
    "            if not os.path.exists(path):\n",
    "                print(path)\n",
    "                continue\n",
    "\n",
    "            xjin_benchmarking.append(pd.read_table(path).assign(\n",
    "                species=species,\n",
    "                seed=seed,\n",
    "                max_strain_samples=max_strain_samples,\n",
    "                corr_thresh=corr_thresh,\n",
    "            ))\n",
    "\n",
    "xjin_benchmarking = pd.concat(xjin_benchmarking).assign(\n",
    "    # Reasonable filters:\n",
    "    to_drop=lambda x: ( False\n",
    "        | (x.total_num_reference_genomes > 1)\n",
    "        | (x.strain != x.dominant_strain)\n",
    "        | ((x.num_strain_samples != x.max_strain_samples) & (x.max_strain_samples > 0))\n",
    "    )\n",
    ")\n",
    "\n",
    "xjin_benchmarking"
   ]
  },
  {
   "cell_type": "code",
   "execution_count": null,
   "metadata": {},
   "outputs": [],
   "source": [
    "d = (\n",
    "    xjin_benchmarking\n",
    "    [~xjin_benchmarking.to_drop]\n",
    "    .set_index(['species', 'genome_id', 'corr_thresh', 'max_strain_samples'])\n",
    "    .f1\n",
    "    .unstack(['max_strain_samples', 'corr_thresh'])\n",
    "    .rename(columns={0.00: 'depth_only', 0.35: 'corr_filt'})\n",
    "    .rename(columns={-1: 'all_samples', 1: 'one_sample'})\n",
    ")\n",
    "\n",
    "plt.scatter('depth_only', 'corr_filt', data=d['all_samples'], label='all_samples')\n",
    "plt.scatter('depth_only', 'corr_filt', data=d['one_sample'], label='one_sample')\n",
    "plt.plot([0, 1], [0, 1])\n",
    "plt.legend()"
   ]
  },
  {
   "cell_type": "code",
   "execution_count": null,
   "metadata": {},
   "outputs": [],
   "source": []
  }
 ],
 "metadata": {
  "kernelspec": {
   "display_name": "sfacts",
   "language": "python",
   "name": "sfacts"
  },
  "language_info": {
   "codemirror_mode": {
    "name": "ipython",
    "version": 3
   },
   "file_extension": ".py",
   "mimetype": "text/x-python",
   "name": "python",
   "nbconvert_exporter": "python",
   "pygments_lexer": "ipython3",
   "version": "3.10.9"
  }
 },
 "nbformat": 4,
 "nbformat_minor": 5
}