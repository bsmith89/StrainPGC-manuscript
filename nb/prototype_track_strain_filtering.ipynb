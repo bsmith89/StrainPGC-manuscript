{
 "cells": [
  {
   "cell_type": "code",
   "execution_count": null,
   "metadata": {},
   "outputs": [],
   "source": [
    "%load_ext autoreload"
   ]
  },
  {
   "cell_type": "code",
   "execution_count": null,
   "metadata": {},
   "outputs": [],
   "source": [
    "import os as _os\n",
    "_os.chdir(_os.environ['PROJECT_ROOT'])\n",
    "_os.path.realpath(_os.path.curdir)"
   ]
  },
  {
   "cell_type": "markdown",
   "metadata": {},
   "source": [
    "#### Imports"
   ]
  },
  {
   "cell_type": "code",
   "execution_count": null,
   "metadata": {},
   "outputs": [],
   "source": [
    "import pandas as pd\n",
    "import numpy as np\n",
    "import scipy as sp\n",
    "import matplotlib.pyplot as plt\n",
    "import seaborn as sns\n",
    "import xarray as xr\n",
    "from lib.pandas_util import idxwhere, aligned_index, align_indexes, invert_mapping\n",
    "import lib.thisproject.data\n",
    "import matplotlib as mpl\n",
    "import lib.plot\n",
    "import statsmodels as sm\n",
    "from statsmodels.stats.multitest import fdrcorrection\n",
    "from tqdm import tqdm\n",
    "import subprocess\n",
    "from tempfile import mkstemp\n",
    "import time\n",
    "import subprocess\n",
    "from itertools import chain\n",
    "import os\n",
    "from itertools import product\n",
    "from mpl_toolkits.axes_grid1 import make_axes_locatable\n",
    "import lib.thisproject.data"
   ]
  },
  {
   "cell_type": "markdown",
   "metadata": {},
   "source": [
    "### Set Style"
   ]
  },
  {
   "cell_type": "code",
   "execution_count": null,
   "metadata": {},
   "outputs": [],
   "source": [
    "sns.set_context('talk')\n",
    "plt.rcParams['figure.dpi'] = 50"
   ]
  },
  {
   "cell_type": "code",
   "execution_count": null,
   "metadata": {},
   "outputs": [],
   "source": [
    "species_taxonomy = lib.thisproject.data.load_species_taxonomy(\"ref/gtpro/species_taxonomy_ext.tsv\")\n",
    "species_taxonomy"
   ]
  },
  {
   "cell_type": "code",
   "execution_count": null,
   "metadata": {},
   "outputs": [],
   "source": [
    "genomes_meta = (\n",
    "    pd.read_table('ref/midasdb_uhgg/genomes.tsv', index_col='genome')\n",
    "    .rename_axis(index='genome_id')\n",
    "    .rename(lambda s: 'UHGG' + s[len(\"GUT_GENOME\"):])\n",
    ")\n",
    "genomes_meta"
   ]
  },
  {
   "cell_type": "code",
   "execution_count": null,
   "metadata": {},
   "outputs": [],
   "source": [
    "reference_meta = (\n",
    "    pd.read_table('ref/uhgg_genomes_all_4644.tsv', dtype={'species': str}, index_col='Genome')\n",
    "    .rename_axis(index='genome_id')\n",
    "    .rename(lambda s: 'UHGG' + s[len(\"GUT_GENOME\"):])\n",
    "    .join(genomes_meta)\n",
    ")\n",
    "reference_meta"
   ]
  },
  {
   "cell_type": "code",
   "execution_count": null,
   "metadata": {},
   "outputs": [],
   "source": [
    "# - How many samples\n",
    "group = 'xjin_hmp2'  # But drop xjin_ samples\n",
    "\n",
    "sample_list = pd.read_table('meta/mgen_group.tsv')[lambda x: (x.mgen_group == group) & (~x.mgen_id.str.startswith('xjin_'))].mgen_id.to_list()\n",
    "assert len(sample_list) == len(set(sample_list))\n",
    "len(sample_list)"
   ]
  },
  {
   "cell_type": "code",
   "execution_count": null,
   "metadata": {},
   "outputs": [],
   "source": [
    "# - How many species analyzed\n",
    "species_list1 = pd.read_table('meta/species_group.tsv')[lambda x: (x.species_group_id == group)].species_id.to_list()\n",
    "assert len(species_list1) == len(set(species_list1))\n",
    "len(species_list1)"
   ]
  },
  {
   "cell_type": "code",
   "execution_count": null,
   "metadata": {},
   "outputs": [],
   "source": [
    "# - How many species found in xjin_hmp2?\n",
    "# TODO: Remind myself of what my species filters were.\n",
    "species_list2 = [str(x) for x in lib.pandas_util.read_list('data/group/xjin_hmp2/r.proc.pangenomes/pangenomes.species')]\n",
    "len(species_list2)"
   ]
  },
  {
   "cell_type": "code",
   "execution_count": null,
   "metadata": {},
   "outputs": [],
   "source": [
    "# - For each species:\n",
    "species_id = '100022'"
   ]
  },
  {
   "cell_type": "code",
   "execution_count": null,
   "metadata": {},
   "outputs": [],
   "source": [
    "#   - How many species-x-samples pairs at sufficient depth (1x)\n",
    "species_depth = pd.read_table(f'data/group/xjin_hmp2/species/sp-{species_id}/r.proc.gene99-v22-agg75.spgc_specgene-ref-t25-p95.species_depth.tsv', names=['sample', 'depth'], index_col=['sample']).depth.reindex(sample_list, fill_value=0)\n",
    "sample_list2 = idxwhere((species_depth > 1))\n",
    "len(sample_list2)"
   ]
  },
  {
   "cell_type": "code",
   "execution_count": null,
   "metadata": {},
   "outputs": [],
   "source": [
    "#   - How many strains were these collapsed into (with at least 1x depth)\n",
    "strain_frac = pd.read_table(f'data/group/xjin_hmp2/species/sp-{species_id}/r.proc.gtpro.sfacts-fit.comm.tsv', index_col=['sample', 'strain']).community.unstack('strain').loc[sample_list2]\n",
    "strain_depth = (strain_frac.T * species_depth.loc[sample_list2]).T\n",
    "strain_list = idxwhere((strain_depth > 1).any())\n",
    "len(strain_list)"
   ]
  },
  {
   "cell_type": "code",
   "execution_count": null,
   "metadata": {},
   "outputs": [],
   "source": [
    "#   - How many of these had at least one \"pure\" sample\n",
    "strain_list2 = idxwhere((strain_frac[strain_list] > 0.95).any())\n",
    "len(strain_list2)"
   ]
  },
  {
   "cell_type": "code",
   "execution_count": null,
   "metadata": {},
   "outputs": [],
   "source": [
    "#   - How many passed \"species gene frac\" threshold?\n",
    "strain_meta = pd.read_table(f'data/group/xjin_hmp2/species/sp-{species_id}/r.proc.gtpro.sfacts-fit.gene99-v22-agg75.spgc.strain_meta.tsv', index_col='strain')\n",
    "strain_list3 = idxwhere(strain_meta.reindex(strain_list2, fill_value=0).species_gene_frac > 0.9)\n",
    "len(strain_list3)"
   ]
  },
  {
   "cell_type": "code",
   "execution_count": null,
   "metadata": {},
   "outputs": [],
   "source": [
    "#   - How many passed gene count filtering? (These are our final numbers)\n",
    "x = strain_meta.loc[strain_list3].num_genes\n",
    "_df, _loc, _scale = sp.stats.t.fit(x.values, fix_df=2)\n",
    "_dist0 = sp.stats.t(_df, _loc, _scale)\n",
    "_dist1 = sp.stats.norm(_loc, _scale)\n",
    "thresh_max_num_uhgg_genes = _dist1.ppf(0.999)\n",
    "thresh_min_num_uhgg_genes = _dist1.ppf(0.001)\n",
    "\n",
    "strain_list4 = idxwhere((x > thresh_min_num_uhgg_genes) & (x < thresh_max_num_uhgg_genes))\n",
    "len(strain_list4)"
   ]
  },
  {
   "cell_type": "code",
   "execution_count": null,
   "metadata": {},
   "outputs": [],
   "source": [
    "species_strain_counts = {}\n",
    "strain_details = []\n",
    "\n",
    "for species_id in tqdm(species_list2):\n",
    "    #   - How many species-x-samples pairs at sufficient depth (1x)\n",
    "    species_depth = pd.read_table(f'data/group/xjin_hmp2/species/sp-{species_id}/r.proc.gene99-v22-agg75.spgc_specgene-ref-t25-p95.species_depth.tsv', names=['sample', 'depth'], index_col=['sample']).depth.reindex(sample_list, fill_value=0)\n",
    "    sample_list2 = idxwhere((species_depth > 0.05))\n",
    "    \n",
    "    #   - How many strains were these collapsed into (with at least 1x depth)\n",
    "    try:\n",
    "        strain_frac = pd.read_table(f'data/group/xjin_hmp2/species/sp-{species_id}/r.proc.gtpro.sfacts-fit.comm.tsv', index_col=['sample', 'strain']).community.unstack('strain').reindex(sample_list2, fill_value=0)\n",
    "    except FileNotFoundError as err:\n",
    "        print(f\"SFacts output missing for {species_id}.\")\n",
    "        print(err)\n",
    "        continue\n",
    "\n",
    "    strain_list0 = idxwhere((strain_frac > 0.5).any())\n",
    "    strain_depth = (strain_frac.T * species_depth.loc[sample_list2]).T    \n",
    "    #   - How many of these had at least one \"pure\" sample\n",
    "    strain_list1 = idxwhere((strain_frac[strain_list0] > 0.95).any())\n",
    "    \n",
    "    try:\n",
    "        strain_meta = pd.read_table(f'data/group/xjin_hmp2/species/sp-{species_id}/r.proc.gtpro.sfacts-fit.gene99-v22-agg75.spgc.strain_meta.tsv', index_col='strain').loc[strain_list1]\n",
    "    except FileNotFoundError as err:\n",
    "        print(f\"SPGC output missing for {species_id}.\")\n",
    "        print(err)\n",
    "        continue\n",
    "\n",
    "    #   - How many of these had a total depth of >1x?\n",
    "    strain_list2 = idxwhere(strain_meta.sum_depth > 1)  # \n",
    "\n",
    "    #   - How many passed \"species gene frac\" threshold?\n",
    "    strain_list3 = idxwhere(strain_meta.reindex(strain_list2, fill_value=0).species_gene_frac > 0.9)\n",
    "    \n",
    "    #   - How many passed gene count filtering? (These are our final numbers)\n",
    "    x = strain_meta.loc[strain_list3].num_genes\n",
    "    if len(x) < 1:\n",
    "        strain_list4 = []\n",
    "    else:\n",
    "        _df, _loc, _scale = sp.stats.t.fit(x.values, fix_df=2)\n",
    "        _dist0 = sp.stats.t(_df, _loc, _scale)\n",
    "        _dist1 = sp.stats.norm(_loc, _scale)\n",
    "        thresh_max_num_uhgg_genes = _dist1.ppf(0.999)\n",
    "        thresh_min_num_uhgg_genes = _dist1.ppf(0.001)\n",
    "        strain_list4 = idxwhere((x > thresh_min_num_uhgg_genes) & (x < thresh_max_num_uhgg_genes))\n",
    "\n",
    "    species_strain_counts[species_id] = pd.Series(dict(\n",
    "        num_species_samples=len(sample_list2),  # Species depth >1x\n",
    "        num_inferred_strains=len(strain_list0),  # \"Inferred\" means >50% in at least one sample.\n",
    "        num_strains_with_pure_sample=len(strain_list1),  # At least one \"pure\" sample\n",
    "        num_strains_with_sufficient_depth=len(strain_list2),  # >1x depth across all samples  # NOTE: This includes xjin samples.\n",
    "        num_complete_spgc=len(strain_list3),  # Species gene frac >90%\n",
    "        num_passing_spgc=len(strain_list4),  # Not a gene count outlier.\n",
    "    ))\n",
    "    strain_details.append(pd.DataFrame(index=strain_list0).assign(\n",
    "        species=species_id,\n",
    "        strain=lambda x: x.index,\n",
    "        has_inference=True,\n",
    "        has_pure_sample=lambda x: x.index.isin(strain_list1),\n",
    "        has_sufficient_depth=lambda x: x.index.isin(strain_list2),\n",
    "        has_species_genes=lambda x: x.index.isin(strain_list3),\n",
    "        has_reasonable_gene_count=lambda x: x.index.isin(strain_list4),\n",
    "    ))\n",
    "species_strain_counts = pd.DataFrame(species_strain_counts).T\n",
    "strain_details = pd.concat(strain_details).set_index(['species', 'strain'])"
   ]
  },
  {
   "cell_type": "code",
   "execution_count": null,
   "metadata": {},
   "outputs": [],
   "source": [
    "species_strain_counts.sum()"
   ]
  },
  {
   "cell_type": "code",
   "execution_count": null,
   "metadata": {},
   "outputs": [],
   "source": [
    "strain_details.sum()"
   ]
  },
  {
   "cell_type": "code",
   "execution_count": null,
   "metadata": {},
   "outputs": [],
   "source": [
    "species_strain_counts.groupby(species_taxonomy.apply(lambda x: x.p__ + ';' + x.c__, axis=1)).sum().sort_values('num_passing_spgc', ascending=False)"
   ]
  },
  {
   "cell_type": "code",
   "execution_count": null,
   "metadata": {},
   "outputs": [],
   "source": [
    "species_taxonomy[lambda x: x.c__ == 'c__Coriobacteriia']"
   ]
  },
  {
   "cell_type": "code",
   "execution_count": null,
   "metadata": {},
   "outputs": [],
   "source": [
    "species_strain_counts.groupby(species_taxonomy.apply(lambda x: x.p__ + ';' + x.c__, axis=1)).sum()#.sort_values('num_passing_spgc', ascending=False)"
   ]
  },
  {
   "cell_type": "code",
   "execution_count": null,
   "metadata": {},
   "outputs": [],
   "source": [
    "d = (\n",
    "    species_strain_counts\n",
    "    .groupby(\n",
    "        # species_taxonomy.apply(lambda x: x.p__ + ';' + x.c__, axis=1)\n",
    "        species_taxonomy.apply(lambda x: x.p__, axis=1)\n",
    "    )\n",
    "    .sum()\n",
    "    .sort_values('num_passing_spgc', ascending=False)\n",
    "    .T\n",
    ")\n",
    "_palette = lib.plot.construct_ordered_palette(d.columns, cm='rainbow')\n",
    "\n",
    "fig, ax = plt.subplots(figsize=(3, 6))\n",
    "for taxon in d.columns:\n",
    "    ax.plot(d[taxon], c=_palette[taxon], label=taxon, lw=3, alpha=0.8)\n",
    "# d.plot(kind='line')\n",
    "ax.set_yscale('symlog', linthresh=1)\n",
    "ax.set_ylim(1)\n",
    "lib.plot.rotate_xticklabels()\n",
    "ax.legend(bbox_to_anchor=(1, 1))"
   ]
  },
  {
   "cell_type": "code",
   "execution_count": null,
   "metadata": {},
   "outputs": [],
   "source": [
    "d = (\n",
    "    species_strain_counts\n",
    "    .groupby(\n",
    "        # species_taxonomy.apply(lambda x: x.p__ + ';' + x.c__, axis=1)\n",
    "        species_taxonomy.apply(lambda x: x.p__, axis=1)\n",
    "    )\n",
    "    .sum()\n",
    "    .sort_values('num_passing_spgc', ascending=False)\n",
    "    .assign(phylum=lambda x: x.index.to_series().str[len('p__'):])\n",
    "    .set_index('phylum')\n",
    ")\n",
    "_palette = lib.plot.construct_ordered_palette(d.columns, cm='Spectral')\n",
    "\n",
    "fig = plt.figure(figsize=(9, 5))\n",
    "for level in d.columns:\n",
    "    plt.bar(d.index, d[level], color=_palette[level])\n",
    "\n",
    "    \n",
    "plt.yscale('log')\n",
    "plt.ylabel('Count')\n",
    "# plt.legend(bbox_to_anchor=(1, 1))\n",
    "plt.ylim(0.1)\n",
    "plt.yticks(np.logspace(0, 5, num=6), minor=False)\n",
    "plt.yticks([], minor=True)\n",
    "lib.plot.rotate_xticklabels(rotation=25)\n",
    "\n",
    "fig, ax = plt.subplots()\n",
    "_rename_levels = dict(\n",
    "    num_species_samples='Species-Sample Pairs',  # Species depth >1x\n",
    "    num_inferred_strains='Strains Inferred',  # \"Inferred\" means >50% in at least one sample.\n",
    "    num_strains_with_pure_sample='Strains w/ Pure Samples (>95%)',  # At least one \"pure\" sample\n",
    "    num_strains_with_sufficient_depth='+ Sufficient Depth (>1x)',  # >1x depth across all samples  # NOTE: This includes xjin samples.\n",
    "    num_complete_spgc='+ High \"Completeness\" (>90%)',  # Species gene frac >90%\n",
    "    num_passing_spgc='+ Appropriate Gene Count',  # Not a gene count outlier.\n",
    ")\n",
    "for level in d.columns:\n",
    "    ax.bar(d.index, 0, color=_palette[level], label=_rename_levels[level])\n",
    "ax.legend()\n",
    "ax.xaxis.set_visible(False)\n",
    "ax.yaxis.set_visible(False)\n",
    "ax.spines['top'].set_visible(False)\n",
    "ax.spines['right'].set_visible(False)\n",
    "ax.spines['bottom'].set_visible(False)\n",
    "ax.spines['left'].set_visible(False)\n",
    "\n",
    "\n",
    "# fig, ax = plt.subplots()\n",
    "# for level, height in zip(_palette, reversed(np.linspace(0, 1, num=len(_palette) + 1))):\n",
    "#     ax.bar(0, height, color=_palette[level])\n",
    "#     ax.annotate(level, xy=(0, height), ha='center', va='top')"
   ]
  },
  {
   "cell_type": "code",
   "execution_count": null,
   "metadata": {},
   "outputs": [],
   "source": [
    "d = (\n",
    "    species_strain_counts\n",
    "    .groupby(\n",
    "        species_taxonomy.apply(lambda x: x.p__ + ';' + x.c__, axis=1)\n",
    "        # species_taxonomy.apply(lambda x: x.p__, axis=1)\n",
    "    )\n",
    "    .sum()\n",
    "    .sort_values('num_passing_spgc', ascending=False)\n",
    ")\n",
    "_palette = lib.plot.construct_ordered_palette(d.columns, cm='Spectral')\n",
    "\n",
    "for level in d.columns:\n",
    "    plt.bar(d.index, d[level], color=_palette[level], label=level)\n",
    "\n",
    "# for level in reversed(d.columns):\n",
    "#     plt.bar(d.index, 0, color=_palette[level], label=level)\n",
    "\n",
    "plt.yscale('log')\n",
    "plt.legend(bbox_to_anchor=(1, 1))\n",
    "plt.ylim(0.1)\n",
    "plt.yticks(np.logspace(0, 5, num=6), minor=False)\n",
    "plt.yticks([], minor=True)\n",
    "lib.plot.rotate_xticklabels()"
   ]
  },
  {
   "cell_type": "code",
   "execution_count": null,
   "metadata": {},
   "outputs": [],
   "source": [
    "d.sort_values('num_passing_spgc', ascending=False).head(20).index"
   ]
  },
  {
   "cell_type": "code",
   "execution_count": null,
   "metadata": {},
   "outputs": [],
   "source": [
    "# _species_list = ['100022', '102506', '102492']\n",
    "# taxon_list = species_taxonomy.loc[_species_list].taxonomy_string\n",
    "\n",
    "d = (\n",
    "    species_strain_counts\n",
    "    .groupby(\n",
    "        # species_taxonomy.apply(lambda x: x.p__ + ';' + x.c__, axis=1)\n",
    "        species_taxonomy.taxonomy_string\n",
    "    )\n",
    "    .sum()\n",
    "    .sort_values('num_passing_spgc', ascending=False)\n",
    ")\n",
    "taxon_list = d.sort_values('num_species_samples', ascending=False).head(40).index\n",
    "_palette = lib.plot.construct_ordered_palette(d.columns, cm='rainbow')\n",
    "\n",
    "fig, ax = plt.subplots(figsize=(15, 5))\n",
    "for level in d.columns:\n",
    "    plt.bar(taxon_list, d.loc[taxon_list, level], color=_palette[level], label=level)\n",
    "\n",
    "# for level in reversed(d.columns):\n",
    "#     plt.bar(d.index, 0, color=_palette[level], label=level)\n",
    "plt.legend(bbox_to_anchor=(1, 1))\n",
    "\n",
    "plt.yscale('symlog', linthresh=1, linscale=0.1)\n",
    "plt.ylim(0.1)\n",
    "plt.yticks(np.logspace(0, 5, num=6), minor=False)\n",
    "plt.yticks([], minor=True)\n",
    "lib.plot.rotate_xticklabels()"
   ]
  },
  {
   "cell_type": "code",
   "execution_count": null,
   "metadata": {},
   "outputs": [],
   "source": [
    "species_taxonomy[species_taxonomy.s__.str.contains('fragilis')]"
   ]
  },
  {
   "cell_type": "code",
   "execution_count": null,
   "metadata": {},
   "outputs": [],
   "source": [
    "d = (\n",
    "    species_strain_counts\n",
    "    .join(\n",
    "        reference_meta.groupby('species').Genome_type.value_counts().unstack(fill_value=0).rename(str)\n",
    "    )\n",
    "    .join(species_taxonomy)\n",
    ")\n",
    "\n",
    "d.sort_values('num_species_samples', ascending=False).head(40)"
   ]
  },
  {
   "cell_type": "code",
   "execution_count": null,
   "metadata": {},
   "outputs": [],
   "source": [
    "d = (\n",
    "    species_strain_counts\n",
    "    .join(\n",
    "        reference_meta.groupby('species').Genome_type.value_counts().unstack(fill_value=0).rename(str)\n",
    "    )\n",
    "    .join(species_taxonomy)\n",
    "    .sort_values('num_passing_spgc')\n",
    "    # .set_index('taxonomy_string')\n",
    "    [['num_passing_spgc', 'Isolate', 'MAG']]\n",
    ")\n",
    "\n",
    "taxon_list = d.sort_values('num_passing_spgc', ascending=False).head(40).index\n",
    "# _palette = lib.plot.construct_ordered_palette(d.columns, cm='rainbow')\n",
    "\n",
    "fig, ax = plt.subplots(figsize=(15, 5))\n",
    "d.loc[taxon_list].plot.bar(ax=ax)\n",
    "ax.set_yscale('log')"
   ]
  },
  {
   "cell_type": "code",
   "execution_count": null,
   "metadata": {},
   "outputs": [],
   "source": []
  }
 ],
 "metadata": {
  "kernelspec": {
   "display_name": "default",
   "language": "python",
   "name": "default"
  },
  "language_info": {
   "codemirror_mode": {
    "name": "ipython",
    "version": 3
   },
   "file_extension": ".py",
   "mimetype": "text/x-python",
   "name": "python",
   "nbconvert_exporter": "python",
   "pygments_lexer": "ipython3",
   "version": "3.10.11"
  }
 },
 "nbformat": 4,
 "nbformat_minor": 5
}