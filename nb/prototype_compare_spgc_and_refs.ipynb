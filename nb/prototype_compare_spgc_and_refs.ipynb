{
 "cells": [
  {
   "cell_type": "code",
   "execution_count": null,
   "metadata": {},
   "outputs": [],
   "source": [
    "%load_ext autoreload"
   ]
  },
  {
   "cell_type": "code",
   "execution_count": null,
   "metadata": {},
   "outputs": [],
   "source": [
    "import os as _os\n",
    "_os.chdir(_os.environ['PROJECT_ROOT'])\n",
    "_os.path.realpath(_os.path.curdir)"
   ]
  },
  {
   "cell_type": "markdown",
   "metadata": {},
   "source": [
    "#### Imports"
   ]
  },
  {
   "cell_type": "code",
   "execution_count": null,
   "metadata": {},
   "outputs": [],
   "source": [
    "import pandas as pd\n",
    "import numpy as np\n",
    "import scipy as sp\n",
    "import matplotlib.pyplot as plt\n",
    "import seaborn as sns\n",
    "import xarray as xr\n",
    "from lib.pandas_util import idxwhere, aligned_index, align_indexes, invert_mapping\n",
    "import lib.thisproject.data\n",
    "import matplotlib as mpl\n",
    "import lib.plot\n",
    "import statsmodels as sm\n",
    "from statsmodels.stats.multitest import fdrcorrection\n",
    "from tqdm import tqdm\n",
    "import subprocess\n",
    "from tempfile import mkstemp\n",
    "import time\n",
    "import subprocess\n",
    "from itertools import chain\n",
    "import os\n",
    "from itertools import product\n",
    "from mpl_toolkits.axes_grid1 import make_axes_locatable\n",
    "import sfacts as sf"
   ]
  },
  {
   "cell_type": "code",
   "execution_count": null,
   "metadata": {},
   "outputs": [],
   "source": [
    "species_id = '102327'  # '100236'\n",
    "\n",
    "species_taxonomy = lib.thisproject.data.load_species_taxonomy(\"ref/gtpro/species_taxonomy_ext.tsv\")\n",
    "species_taxonomy.loc[species_id]"
   ]
  },
  {
   "cell_type": "code",
   "execution_count": null,
   "metadata": {},
   "outputs": [],
   "source": [
    "sample_to_spgc = pd.read_table(f\"data/group/xjin_hmp2/species/sp-{species_id}/r.proc.gtpro.sfacts-fit.spgc_ss-all.strain_samples.tsv\", index_col='sample').strain.astype(str)\n",
    "\n",
    "spgc_palette = lib.plot.construct_ordered_palette(sample_to_spgc, other=(0.8, 0.8, 0.8, 1.0)) "
   ]
  },
  {
   "cell_type": "code",
   "execution_count": null,
   "metadata": {},
   "outputs": [],
   "source": [
    "sfacts_fit = sf.World.load(f\"data/group/xjin_hmp2/species/sp-{species_id}/r.proc.gtpro.sfacts-fit.world.nc\").drop_low_abundance_strains(0.5)\n",
    "# Strains should be str not int.\n",
    "sfacts_fit.data['strain'] = sfacts_fit.strain.values.astype(str)\n",
    "print(dict(sfacts_fit.sizes))\n",
    "position_ss = sfacts_fit.random_sample(position=min(500, sfacts_fit.sizes['position'])).position\n",
    "\n",
    "# Pre-calculate shared heatmap decorations\n",
    "w = sfacts_fit.sel(position=position_ss)\n",
    "sample_linkage = w.unifrac_linkage()\n",
    "position_linkage = w.metagenotype.linkage(\"position\")\n",
    "sample_colors = w.sample.to_series().map(sample_to_spgc).map(spgc_palette)\n",
    "spgc_linkage = w.genotype.linkage()\n",
    "spgc_colors = w.strain.to_series().map(spgc_palette)"
   ]
  },
  {
   "cell_type": "code",
   "execution_count": null,
   "metadata": {},
   "outputs": [],
   "source": [
    "spgc_est_geno = sf.Metagenotype(sfacts_fit.metagenotype.data.sel(sample=sample_to_spgc.index).groupby(sample_to_spgc.to_xarray()).sum().rename(strain=\"sample\")).to_estimated_genotype(pseudo=1)"
   ]
  },
  {
   "cell_type": "code",
   "execution_count": null,
   "metadata": {},
   "outputs": [],
   "source": [
    "sf.plot.plot_genotype(sf.data.Genotype.concat(dict(mgen=spgc_est_geno, fit=sfacts_fit.genotype), dim='strain').sel(position=position_ss), transpose=True)"
   ]
  },
  {
   "cell_type": "code",
   "execution_count": null,
   "metadata": {},
   "outputs": [],
   "source": [
    "ref_geno = sf.Metagenotype.load(f\"data/species/sp-{species_id}/gtpro_ref.mgtp.nc\").to_estimated_genotype()\n",
    "ref_geno.data['strain'] = ref_geno.strain.to_series().map(lambda s: \"UHGG\" + s[len(\"GUT_GENOME\"):])"
   ]
  },
  {
   "cell_type": "code",
   "execution_count": null,
   "metadata": {},
   "outputs": [],
   "source": [
    "# NOTE: Select any ref genotype that is within the top-5 closest distances from an SPGC strain.\n",
    "spgc_to_ref_geno_cdist = ref_geno.sel(position=spgc_est_geno.position).cdist(spgc_est_geno)\n",
    "ref_list = spgc_to_ref_geno_cdist.apply(lambda x: x.sort_values().head(5).index).stack().unique()"
   ]
  },
  {
   "cell_type": "code",
   "execution_count": null,
   "metadata": {},
   "outputs": [],
   "source": [
    "spgc_meta = pd.read_table(f\"data/group/xjin_hmp2/species/sp-{species_id}/r.proc.gtpro.sfacts-fit.gene99-v22-agg75.spgc_specgene-ref-t25-p95_ss-all_t-30_thresh-corr200-depth250.strain_meta.tsv\", index_col='strain').rename(str)\n",
    "print(spgc_meta.shape)\n",
    "spgc_meta"
   ]
  },
  {
   "cell_type": "code",
   "execution_count": null,
   "metadata": {},
   "outputs": [],
   "source": [
    "ref_gene_copy_number_uhgg = xr.load_dataarray(f\"ref/midasdb_uhgg_pangenomes/{species_id}/gene75.reference_copy_number.nc\")\n",
    "ref_gene_uhgg = (ref_gene_copy_number_uhgg > 0).astype(int).to_pandas().T"
   ]
  },
  {
   "cell_type": "code",
   "execution_count": null,
   "metadata": {},
   "outputs": [],
   "source": [
    "ref_gene_uhgg.shape"
   ]
  },
  {
   "cell_type": "code",
   "execution_count": null,
   "metadata": {},
   "outputs": [],
   "source": [
    "spgc_gene_uhgg = pd.read_table(f\"data/group/xjin_hmp2/species/sp-{species_id}/r.proc.gtpro.sfacts-fit.gene99-v22-agg75.spgc_specgene-ref-t25-p95_ss-all_t-30_thresh-corr200-depth250.strain_gene.tsv\", index_col='gene_id').rename_axis(columns='strain')"
   ]
  },
  {
   "cell_type": "code",
   "execution_count": null,
   "metadata": {},
   "outputs": [],
   "source": [
    "ref_num_genes_uhgg = ref_gene_uhgg.sum()\n",
    "spgc_num_genes_uhgg = spgc_gene_uhgg.sum()"
   ]
  },
  {
   "cell_type": "code",
   "execution_count": null,
   "metadata": {},
   "outputs": [],
   "source": [
    "x = spgc_meta[lambda x: x.species_gene_frac > 0.9].num_genes\n",
    "y = ref_num_genes_uhgg\n",
    "_df, _loc, _scale = sp.stats.t.fit(x.values, fix_df=2)\n",
    "_dist0 = sp.stats.t(_df, _loc, _scale)\n",
    "_dist1 = sp.stats.norm(_loc, _scale)\n",
    "\n",
    "thresh_max_num_uhgg_genes = _dist1.ppf(0.999)\n",
    "thresh_min_num_uhgg_genes = _dist1.ppf(0.001)\n",
    "\n",
    "\n",
    "bins = np.linspace(0, x.max() * 1.5, num=50)\n",
    "xx = np.linspace(0, x.max() * 1.5, num=1000)\n",
    "\n",
    "plt.hist(x, density=True, bins=bins, alpha=0.2)\n",
    "plt.hist(y, density=True, bins=bins, alpha=0.2)\n",
    "\n",
    "plt.plot(xx, _dist0.pdf(xx), color='k')\n",
    "plt.plot(xx, _dist1.pdf(xx), color='k', linestyle='--')\n",
    "plt.axvline(thresh_max_num_uhgg_genes, lw=1, linestyle='--', color='k')\n",
    "plt.axvline(thresh_min_num_uhgg_genes, lw=1, linestyle='--', color='k')"
   ]
  },
  {
   "cell_type": "code",
   "execution_count": null,
   "metadata": {},
   "outputs": [],
   "source": [
    "thresh_min_num_uhgg_genes, thresh_max_num_uhgg_genes"
   ]
  },
  {
   "cell_type": "code",
   "execution_count": null,
   "metadata": {},
   "outputs": [],
   "source": [
    "# NOTE: Select SPGC strains that pass various filters\n",
    "spgc_list = idxwhere(\n",
    "    (spgc_meta.sum_depth > 5)\n",
    "    & (spgc_meta.species_gene_frac > 0.9)\n",
    "    & (spgc_num_genes_uhgg <= thresh_max_num_uhgg_genes)\n",
    "    & (spgc_num_genes_uhgg >= thresh_min_num_uhgg_genes)\n",
    ")\n",
    "\n",
    "print(len(ref_list), len(spgc_list))"
   ]
  },
  {
   "cell_type": "code",
   "execution_count": null,
   "metadata": {},
   "outputs": [],
   "source": [
    "strain_geno = sf.Genotype.concat(dict(\n",
    "    ref=ref_geno.sel(strain=ref_list, position=spgc_est_geno.position),\n",
    "    spgc=spgc_est_geno.sel(strain=spgc_list),\n",
    "), dim='strain', rename=False).mlift('fillna', 0.5)\n",
    "\n",
    "strain_geno_pdist = strain_geno.pdist()\n",
    "strain_geno_linkage = strain_geno.linkage()"
   ]
  },
  {
   "cell_type": "raw",
   "metadata": {},
   "source": [
    "sf.plot.plot_community(w, scaley=0.5, col_linkage_func=lambda w: w.metagenotype.linkage())"
   ]
  },
  {
   "cell_type": "raw",
   "metadata": {},
   "source": [
    "sf.plot.plot_metagenotype(w, col_linkage_func=lambda w: w.metagenotype.linkage())"
   ]
  },
  {
   "cell_type": "code",
   "execution_count": null,
   "metadata": {},
   "outputs": [],
   "source": [
    "sf.plot.plot_genotype(strain_geno.sel(position=position_ss), transpose=True, col_linkage=strain_geno_linkage)"
   ]
  },
  {
   "cell_type": "code",
   "execution_count": null,
   "metadata": {},
   "outputs": [],
   "source": [
    "colors = pd.DataFrame(dict(\n",
    "    is_ref=strain_geno_pdist.index.to_series().isin(ref_list).map({True: 'black', False: 'grey'}),\n",
    "    is_spgc=strain_geno_pdist.index.to_series().isin(spgc_list).map({True: 'black', False: 'grey'}),\n",
    "))\n",
    "sns.clustermap(\n",
    "    strain_geno_pdist,\n",
    "    row_colors=colors,\n",
    "    col_colors=colors,\n",
    "    row_linkage=strain_geno_linkage,\n",
    "    col_linkage=strain_geno_linkage,\n",
    "    # figsize=(40, 40),\n",
    ")"
   ]
  },
  {
   "cell_type": "code",
   "execution_count": null,
   "metadata": {},
   "outputs": [],
   "source": [
    "from scipy.spatial.distance import squareform\n",
    "\n",
    "bins = np.linspace(0, 1)\n",
    "plt.hist(squareform(strain_geno_pdist.loc[ref_list, ref_list]), bins=bins, histtype='step', density=True, label='ref-to-ref')\n",
    "plt.hist(strain_geno_pdist.loc[ref_list, spgc_list].values.flatten(), bins=bins, histtype='step', density=True, label='spgc-to-ref')\n",
    "plt.hist(squareform(strain_geno_pdist.loc[spgc_list, spgc_list]), bins=bins, histtype='step', density=True, label='spgc-to-spgc')\n",
    "plt.legend()"
   ]
  },
  {
   "cell_type": "code",
   "execution_count": null,
   "metadata": {},
   "outputs": [],
   "source": [
    "bins = np.linspace(0, 1, num=200)\n",
    "\n",
    "_pdist = strain_geno_pdist + np.eye(len(strain_geno_pdist))\n",
    "\n",
    "plt.hist(_pdist.loc[ref_list, ref_list].min(), bins=bins, histtype='step', cumulative=True, density=True, label='ref-to-ref')\n",
    "plt.hist(_pdist.loc[ref_list, spgc_list].min(), bins=bins, histtype='step', cumulative=True, density=True, label='spgc-to-ref')\n",
    "plt.hist(_pdist.loc[spgc_list, ref_list].min(), bins=bins, histtype='step', cumulative=True, density=True, label='ref-to-spgc')\n",
    "plt.hist(_pdist.loc[spgc_list, spgc_list].min(), bins=bins, histtype='step', cumulative=True, density=True, label='spgc-to-spgc')\n",
    "\n",
    "plt.legend()\n",
    "# plt.axvline(0.43, lw=1, linestyle='--', color='k')\n",
    "plt.xlabel('minimum distance')\n",
    "plt.ylabel('cumulative fraction')"
   ]
  },
  {
   "cell_type": "raw",
   "metadata": {},
   "source": [
    "# NOTE: Select 5 nearest neighbors for each spgc strain.\n",
    "ref_list = _pdist.loc[_ref_list, spgc_list].apply(lambda x: x.sort_values().head(5).index.to_list()).stack().unique()"
   ]
  },
  {
   "cell_type": "raw",
   "metadata": {},
   "source": [
    "# ref_list = idxwhere(_strain_geno_pdist.loc[_ref_list, spgc_list].min(1) < 0.42)\n",
    "both_geno = sf.Genotype.concat(dict(\n",
    "    ref=ref_geno.sel(position=sfacts_fit.position, strain=ref_list),\n",
    "    spgc=strain_est_geno.sel(strain=[int(s) for s in spgc_list]),\n",
    "), dim='strain', rename=False).mlift('fillna', 0.5)\n",
    "\n",
    "strain_geno_linkage = both_geno.linkage()\n",
    "\n",
    "sf.plot.plot_genotype(both_geno.sel(position=position_ss), transpose=True, col_linkage=strain_geno_linkage)"
   ]
  },
  {
   "cell_type": "raw",
   "metadata": {},
   "source": [
    "_ref = reference_gene_uhgg[ref_list]\n",
    "_spgc = strain_gene_uhgg[spgc_list]\n",
    "both_genes = pd.concat([_ref, _spgc], axis=1).fillna(0).astype(int)[lambda x: x.sum(1) > 0]\n",
    "both_genes.shape"
   ]
  },
  {
   "cell_type": "code",
   "execution_count": null,
   "metadata": {},
   "outputs": [],
   "source": [
    "spgc_gene_uhgg.shape, ref_gene_uhgg.shape"
   ]
  },
  {
   "cell_type": "code",
   "execution_count": null,
   "metadata": {},
   "outputs": [],
   "source": [
    "strain_gene_uhgg = pd.concat([ref_gene_uhgg[ref_list], spgc_gene_uhgg[spgc_list]], axis=1).fillna(0)[lambda x: x.sum(1) > 0]\n",
    "strain_gene_uhgg.shape"
   ]
  },
  {
   "cell_type": "code",
   "execution_count": null,
   "metadata": {},
   "outputs": [],
   "source": [
    "bins = np.linspace(0, 10000)\n",
    "plt.hist(strain_gene_uhgg[ref_list].sum(), bins=bins, histtype='step', label='ref', density=True)\n",
    "plt.hist(strain_gene_uhgg[spgc_list].sum(), bins=bins, histtype='step', label='spgc', density=True)\n",
    "plt.legend()\n",
    "\n",
    "None"
   ]
  },
  {
   "cell_type": "code",
   "execution_count": null,
   "metadata": {},
   "outputs": [],
   "source": [
    "%%time\n",
    "# NOTE: This will take ~2 minutes to run for 40,000 genes.\n",
    "gene_uhgg_cdmat = sp.spatial.distance.pdist(strain_gene_uhgg, metric='cosine')\n",
    "gene_uhgg_pdist = pd.DataFrame(sp.spatial.distance.squareform(gene_uhgg_cdmat), index=strain_gene_uhgg.index, columns=strain_gene_uhgg.index)"
   ]
  },
  {
   "cell_type": "code",
   "execution_count": null,
   "metadata": {},
   "outputs": [],
   "source": [
    "%%time\n",
    "gene_uhgg_linkage = sp.cluster.hierarchy.linkage(gene_uhgg_cdmat, method='average')\n",
    "gene_uhgg_linkage.shape"
   ]
  },
  {
   "cell_type": "code",
   "execution_count": null,
   "metadata": {},
   "outputs": [],
   "source": [
    "strain_gene_uhgg_cdmat = sp.spatial.distance.pdist(strain_gene_uhgg.T, metric='jaccard')\n",
    "strain_gene_uhgg_pdist = pd.DataFrame(sp.spatial.distance.squareform(strain_gene_uhgg_cdmat), index=strain_gene_uhgg.columns, columns=strain_gene_uhgg.columns)\n",
    "\n",
    "assert (strain_geno_pdist.index == strain_gene_uhgg_pdist.index).all()"
   ]
  },
  {
   "cell_type": "code",
   "execution_count": null,
   "metadata": {},
   "outputs": [],
   "source": [
    "strain_gene_uhgg_linkage = sp.cluster.hierarchy.linkage(strain_gene_uhgg_cdmat, method='average')"
   ]
  },
  {
   "cell_type": "code",
   "execution_count": null,
   "metadata": {},
   "outputs": [],
   "source": [
    "x = strain_gene_uhgg\n",
    "_col_linkage = strain_geno_linkage\n",
    "_row_linkage = gene_uhgg_linkage\n",
    "# Order x by leaf order.\n",
    "# See <https://docs.scipy.org/doc/scipy/reference/generated/scipy.cluster.hierarchy.ClusterNode.pre_order.html#scipy.cluster.hierarchy.ClusterNode.pre_order>\n",
    "x = x.iloc[sp.cluster.hierarchy.to_tree(_row_linkage).pre_order(lambda x: x.id)]\n",
    "\n",
    "colors = pd.DataFrame(dict(\n",
    "    is_ref=x.columns.to_series().isin(ref_list).map({True: 'black', False: 'white'}),\n",
    "    is_spgc=x.columns.to_series().isin(spgc_list).map({True: 'black', False: 'white'}),\n",
    "))\n",
    "\n",
    "sns.clustermap(x, row_cluster=False, col_linkage=_col_linkage, col_colors=colors)"
   ]
  },
  {
   "cell_type": "code",
   "execution_count": null,
   "metadata": {},
   "outputs": [],
   "source": [
    "x = strain_gene_uhgg\n",
    "_col_linkage = strain_gene_uhgg_linkage\n",
    "_row_linkage = gene_uhgg_linkage\n",
    "# Order x by leaf order.\n",
    "# See <https://docs.scipy.org/doc/scipy/reference/generated/scipy.cluster.hierarchy.ClusterNode.pre_order.html#scipy.cluster.hierarchy.ClusterNode.pre_order>\n",
    "x = x.iloc[sp.cluster.hierarchy.to_tree(_row_linkage).pre_order(lambda x: x.id)]\n",
    "\n",
    "colors = pd.DataFrame(dict(\n",
    "    is_ref=x.columns.to_series().isin(ref_list).map({True: 'black', False: 'white'}),\n",
    "    is_spgc=x.columns.to_series().isin(spgc_list).map({True: 'black', False: 'white'}),\n",
    "))\n",
    "\n",
    "sns.clustermap(x, row_cluster=False, col_linkage=_col_linkage, col_colors=colors)"
   ]
  },
  {
   "cell_type": "code",
   "execution_count": null,
   "metadata": {},
   "outputs": [],
   "source": [
    "spgc_gene_uhgg_depth = pd.read_table(f\"data/group/xjin_hmp2/species/sp-{species_id}/r.proc.gtpro.sfacts-fit.gene99-v22-agg75.spgc_specgene-ref-t25-p95_ss-all_t-30.strain_depth_ratio.tsv\", index_col=['gene_id', 'strain']).depth.unstack('strain').rename(columns=str)\n",
    "spgc_gene_uhgg_corr = pd.read_table(f\"data/group/xjin_hmp2/species/sp-{species_id}/r.proc.gtpro.sfacts-fit.gene99-v22-agg75.spgc_specgene-ref-t25-p95_ss-all_t-30.strain_correlation.tsv\", index_col=['gene_id', 'strain']).correlation.unstack('strain').rename(columns=str)"
   ]
  },
  {
   "cell_type": "code",
   "execution_count": null,
   "metadata": {},
   "outputs": [],
   "source": [
    "_ref = ref_gene_uhgg[ref_list]\n",
    "_spgc = spgc_gene_uhgg_depth[spgc_list]\n",
    "strain_gene_uhgg_depth = pd.concat([_ref, _spgc], axis=1).fillna(0).loc[strain_gene_uhgg.index]"
   ]
  },
  {
   "cell_type": "code",
   "execution_count": null,
   "metadata": {},
   "outputs": [],
   "source": [
    "_ref = ref_gene_uhgg[ref_list]\n",
    "_spgc = spgc_gene_uhgg_corr[spgc_list]\n",
    "strain_gene_uhgg_corr = pd.concat([_ref, _spgc], axis=1).fillna(0).loc[strain_gene_uhgg.index]"
   ]
  },
  {
   "cell_type": "code",
   "execution_count": null,
   "metadata": {},
   "outputs": [],
   "source": [
    "x = strain_gene_uhgg_depth\n",
    "_col_linkage = strain_gene_uhgg_linkage\n",
    "_row_linkage = gene_uhgg_linkage\n",
    "# Order x by leaf order.\n",
    "# See <https://docs.scipy.org/doc/scipy/reference/generated/scipy.cluster.hierarchy.ClusterNode.pre_order.html#scipy.cluster.hierarchy.ClusterNode.pre_order>\n",
    "x = x.iloc[sp.cluster.hierarchy.to_tree(_row_linkage).pre_order(lambda x: x.id)]\n",
    "\n",
    "colors = pd.DataFrame(dict(\n",
    "    is_ref=x.columns.to_series().isin(ref_list).map({True: 'black', False: 'white'}),\n",
    "    is_spgc=x.columns.to_series().isin(spgc_list).map({True: 'black', False: 'white'}),\n",
    "))\n",
    "\n",
    "sns.clustermap(x, row_cluster=False, col_linkage=_col_linkage, col_colors=colors, norm=mpl.colors.PowerNorm(1/2, vmin=0, vmax=2))"
   ]
  },
  {
   "cell_type": "code",
   "execution_count": null,
   "metadata": {},
   "outputs": [],
   "source": [
    "x = strain_gene_uhgg_corr\n",
    "_col_linkage = strain_gene_uhgg_linkage\n",
    "_row_linkage = gene_uhgg_linkage\n",
    "# Order x by leaf order.\n",
    "# See <https://docs.scipy.org/doc/scipy/reference/generated/scipy.cluster.hierarchy.ClusterNode.pre_order.html#scipy.cluster.hierarchy.ClusterNode.pre_order>\n",
    "x = x.iloc[sp.cluster.hierarchy.to_tree(_row_linkage).pre_order(lambda x: x.id)]\n",
    "\n",
    "colors = pd.DataFrame(dict(\n",
    "    is_ref=x.columns.to_series().isin(ref_list).map({True: 'black', False: 'white'}),\n",
    "    is_spgc=x.columns.to_series().isin(spgc_list).map({True: 'black', False: 'white'}),\n",
    "))\n",
    "\n",
    "sns.clustermap(x, row_cluster=False, col_linkage=_col_linkage, col_colors=colors)"
   ]
  },
  {
   "cell_type": "code",
   "execution_count": null,
   "metadata": {},
   "outputs": [],
   "source": [
    "_pdistA = strain_geno_pdist\n",
    "_pdistB = strain_gene_uhgg_pdist\n",
    "\n",
    "plt.scatter(\n",
    "    squareform(_pdistA.loc[ref_list, ref_list]),\n",
    "    squareform(_pdistB.loc[ref_list, ref_list]),\n",
    "    s=1,\n",
    "    alpha=0.5,\n",
    "    label='ref-ref',\n",
    ")\n",
    "print('ref-ref', sp.stats.pearsonr(\n",
    "    squareform(_pdistA.loc[ref_list, ref_list]),\n",
    "    squareform(_pdistB.loc[ref_list, ref_list]),\n",
    "))\n",
    "\n",
    "plt.scatter(\n",
    "    squareform(_pdistA.loc[spgc_list, spgc_list]),\n",
    "    squareform(_pdistB.loc[spgc_list, spgc_list]),\n",
    "    s=1,\n",
    "    alpha=0.5,\n",
    "    label='spgc-spgc',\n",
    ")\n",
    "print('spgc-spgc', sp.stats.pearsonr(\n",
    "    squareform(_pdistA.loc[spgc_list, spgc_list]),\n",
    "    squareform(_pdistB.loc[spgc_list, spgc_list]),\n",
    "))\n",
    "\n",
    "plt.scatter(\n",
    "    _pdistA.loc[spgc_list, ref_list].values.flatten(),\n",
    "    _pdistB.loc[spgc_list, ref_list].values.flatten(),\n",
    "    s=1,\n",
    "    alpha=0.5,\n",
    "    label='spgc-ref',\n",
    ")\n",
    "print('spgc-ref', sp.stats.pearsonr(\n",
    "    _pdistA.loc[spgc_list, ref_list].values.flatten(),\n",
    "    _pdistB.loc[spgc_list, ref_list].values.flatten(),\n",
    "))\n",
    "\n",
    "plt.legend(markerscale=5)"
   ]
  },
  {
   "cell_type": "code",
   "execution_count": null,
   "metadata": {},
   "outputs": [],
   "source": [
    "bins = np.linspace(0, 1, num=200)\n",
    "\n",
    "_pdistA = strain_geno_pdist\n",
    "_pdistB = strain_gene_uhgg_pdist\n",
    "\n",
    "\n",
    "# Remove the diagonal from \"minimum distance\".\n",
    "_pdistA = _pdistA + np.eye(len(_pdistA))\n",
    "_pdistB = _pdistB + np.eye(len(_pdistB))\n",
    "\n",
    "plt.scatter(\n",
    "    _pdistA.loc[ref_list, ref_list].min(),\n",
    "    _pdistB.loc[ref_list, ref_list].min(),\n",
    "    s=10,\n",
    "    alpha=0.5,\n",
    "    label='ref-to-ref',\n",
    ")\n",
    "plt.scatter(\n",
    "    _pdistA.loc[spgc_list, spgc_list].min(),\n",
    "    _pdistB.loc[spgc_list, spgc_list].min(),\n",
    "    s=10,\n",
    "    alpha=0.5,\n",
    "    label='spgc-to-spgc',\n",
    ")\n",
    "plt.scatter(\n",
    "    _pdistA.loc[spgc_list, ref_list].min(),\n",
    "    _pdistB.loc[spgc_list, ref_list].min(),\n",
    "    s=10,\n",
    "    alpha=0.5,\n",
    "    label='ref-to-spgc',\n",
    ")\n",
    "plt.scatter(\n",
    "    _pdistA.loc[ref_list, spgc_list].min(),\n",
    "    _pdistB.loc[ref_list, spgc_list].min(),\n",
    "    s=10,\n",
    "    alpha=0.5,\n",
    "    label='spgc-to-ref',\n",
    ")\n",
    "plt.xlabel('minimum_genotype_diss')\n",
    "plt.ylabel('minimum_gene_diss')\n",
    "\n",
    "plt.legend()"
   ]
  },
  {
   "cell_type": "code",
   "execution_count": null,
   "metadata": {},
   "outputs": [],
   "source": [
    "_pdistA = strain_geno_pdist\n",
    "_pdistB = strain_gene_uhgg_pdist\n",
    "\n",
    "plt.scatter(\n",
    "    squareform(_pdistA.loc[ref_list, ref_list]),\n",
    "    squareform(_pdistB.loc[ref_list, ref_list]),\n",
    "    s=1,\n",
    "    alpha=0.5,\n",
    "    color='k',\n",
    "    label='ref-ref',\n",
    ")\n",
    "\n",
    "for spgc_strain_id in spgc_list:\n",
    "    plt.scatter(\n",
    "        _pdistA.loc[spgc_strain_id, ref_list],\n",
    "        _pdistB.loc[spgc_strain_id, ref_list],\n",
    "        s=1,\n",
    "        alpha=0.5,\n",
    "        color=spgc_palette[spgc_strain_id],\n",
    "        # label='spgc-ref',\n",
    "    )\n",
    "    print(spgc_strain_id, sp.stats.pearsonr(_pdistA.loc[spgc_strain_id, ref_list], _pdistB.loc[spgc_strain_id, ref_list]))\n",
    "\n",
    "plt.legend()"
   ]
  },
  {
   "cell_type": "code",
   "execution_count": null,
   "metadata": {},
   "outputs": [],
   "source": [
    "ref_gene_uhgg_prevalence = strain_gene_uhgg[ref_list].mean(1)\n",
    "spgc_gene_uhgg_prevalence = strain_gene_uhgg[spgc_list].mean(1)"
   ]
  },
  {
   "cell_type": "code",
   "execution_count": null,
   "metadata": {},
   "outputs": [],
   "source": [
    "x = ref_gene_uhgg_prevalence\n",
    "y = spgc_gene_uhgg_prevalence\n",
    "\n",
    "print(sp.stats.pearsonr(x, y))\n",
    "\n",
    "fig, axs = plt.subplots(2, figsize=(5, 10))\n",
    "\n",
    "bins0 = np.linspace(0.0, 1.0, num=50)\n",
    "axs[0].hist2d(x, y, bins=bins0, norm=mpl.colors.PowerNorm(1/3, vmin=0, vmax=1e3))\n",
    "\n",
    "bins1 = np.linspace(0.1, 0.9, num=40)\n",
    "axs[1].hist2d(x, y, bins=bins1, norm=mpl.colors.PowerNorm(1/3))\n",
    "axs[1].set_xlabel('reference prevalence')\n",
    "axs[1].set_ylabel('inferred prevalence')\n",
    "None"
   ]
  },
  {
   "cell_type": "code",
   "execution_count": null,
   "metadata": {},
   "outputs": [],
   "source": [
    "!head data/species/sp-{species_id}/pangenome.centroids.emapper.d/proteins.emapper.annotations"
   ]
  },
  {
   "cell_type": "code",
   "execution_count": null,
   "metadata": {},
   "outputs": [],
   "source": [
    "uhgg_x_eggnog = pd.read_table(f\"data/species/sp-{species_id}/pangenome.centroids.emapper.gene_x_eggnog.tsv\")"
   ]
  },
  {
   "cell_type": "code",
   "execution_count": null,
   "metadata": {},
   "outputs": [],
   "source": [
    "uhgg_x_top_eggnog = pd.read_table(f\"data/species/sp-{species_id}/pangenome.centroids.emapper.gene_x_top_eggnog.tsv\")"
   ]
  },
  {
   "cell_type": "code",
   "execution_count": null,
   "metadata": {},
   "outputs": [],
   "source": [
    "eggnog_column_names = \"query seed_ortholog evalue score eggNOG_OGs max_annot_lvl COG_category Description Preferred_name GOs EC KEGG_ko KEGG_Pathway KEGG_Module KEGG_Reaction KEGG_rclass BRITE KEGG_TC CAZy BiGG_Reaction PFAMs\".split(\" \")\n",
    "gene_annotations = pd.read_table(f\"data/species/sp-{species_id}/pangenome.centroids.emapper.d/proteins.emapper.annotations\", comment=\"#\", names=eggnog_column_names, index_col=\"query\").rename_axis(index=\"gene_id\").replace({'-': np.nan})\n",
    "gene_annotations.info()"
   ]
  },
  {
   "cell_type": "code",
   "execution_count": null,
   "metadata": {},
   "outputs": [],
   "source": [
    "spgc_extremely_enriched = idxwhere((spgc_gene_uhgg_prevalence - ref_gene_uhgg_prevalence) > 0.9)\n",
    "spgc_extremely_depleted = idxwhere((spgc_gene_uhgg_prevalence - ref_gene_uhgg_prevalence) < -0.9)\n",
    "spgc_very_enriched = idxwhere((spgc_gene_uhgg_prevalence - ref_gene_uhgg_prevalence) > 0.5)\n",
    "spgc_very_depleted = idxwhere((spgc_gene_uhgg_prevalence - ref_gene_uhgg_prevalence) < -0.5)\n",
    "spgc_enriched = idxwhere((spgc_gene_uhgg_prevalence - ref_gene_uhgg_prevalence) > 0.25)\n",
    "spgc_depleted = idxwhere((spgc_gene_uhgg_prevalence - ref_gene_uhgg_prevalence) < -0.25)\n",
    "spgc_similar = idxwhere(((spgc_gene_uhgg_prevalence - ref_gene_uhgg_prevalence) > -0.25) & ((spgc_gene_uhgg_prevalence - ref_gene_uhgg_prevalence) < 0.25))"
   ]
  },
  {
   "cell_type": "code",
   "execution_count": null,
   "metadata": {},
   "outputs": [],
   "source": [
    "spgc_too_common = idxwhere((spgc_gene_uhgg_prevalence > 0.7) & (ref_gene_uhgg_prevalence < 0.1))\n",
    "spgc_too_rare = idxwhere((spgc_gene_uhgg_prevalence < 0.1) & (ref_gene_uhgg_prevalence > 0.7))\n",
    "\n",
    "len(spgc_too_common + spgc_too_rare)"
   ]
  },
  {
   "cell_type": "code",
   "execution_count": null,
   "metadata": {},
   "outputs": [],
   "source": [
    "strain_gene_uhgg_filt = strain_gene_uhgg.drop(index=spgc_too_common + spgc_too_rare)[lambda x: x.sum(1) > 1]"
   ]
  },
  {
   "cell_type": "code",
   "execution_count": null,
   "metadata": {},
   "outputs": [],
   "source": [
    "strain_gene_top_eggnog = (\n",
    "    uhgg_x_top_eggnog\n",
    "    .join(strain_gene_uhgg, on='gene_id')\n",
    "    .drop(columns=['gene_id'])\n",
    "    .groupby('top_eggnog')\n",
    "    .sum()\n",
    "    .gt(0)\n",
    "    [lambda x: x.sum(1) > 0]\n",
    ")\n",
    "strain_gene_top_eggnog"
   ]
  },
  {
   "cell_type": "code",
   "execution_count": null,
   "metadata": {},
   "outputs": [],
   "source": [
    "strain_gene_eggnog = (\n",
    "    uhgg_x_eggnog\n",
    "    .join(strain_gene_uhgg, on='gene_id')\n",
    "    .drop(columns=['gene_id'])\n",
    "    .groupby('eggnog')\n",
    "    .sum()\n",
    "    .gt(0)\n",
    "    [lambda x: x.sum(1) > 0]\n",
    ")\n",
    "strain_gene_eggnog"
   ]
  },
  {
   "cell_type": "code",
   "execution_count": null,
   "metadata": {},
   "outputs": [],
   "source": [
    "strain_gene_filt_eggnog = (\n",
    "    uhgg_x_eggnog\n",
    "    .join(strain_gene_uhgg_filt, on='gene_id')\n",
    "    .drop(columns=['gene_id'])\n",
    "    .groupby('eggnog')\n",
    "    .sum()\n",
    "    .gt(0)\n",
    "    [lambda x: x.sum(1) > 0]\n",
    ")\n",
    "strain_gene_filt_eggnog"
   ]
  },
  {
   "cell_type": "code",
   "execution_count": null,
   "metadata": {},
   "outputs": [],
   "source": [
    "bins = np.linspace(1000, 12500, num=50)\n",
    "# plt.hist(strain_gene[ref_list].sum(), bins=bins, histtype='step', label='ref (uhgg)', density=True, linestyle='--', color='tab:blue', lw=2)\n",
    "# plt.hist(strain_gene[spgc_list].sum(), bins=bins, histtype='step', label='spgc (uhgg)', density=True, linestyle='--', color='tab:orange', lw=2)\n",
    "plt.hist(strain_gene_uhgg_filt[ref_list].sum(), bins=bins, histtype='step', label='ref (filtered uhgg)', density=True, linestyle=':', color='tab:blue', lw=2)\n",
    "plt.hist(strain_gene_uhgg_filt[spgc_list].sum(), bins=bins, histtype='step', label='spgc (filtered uhgg)', density=True, linestyle=':', color='tab:orange', lw=2)\n",
    "plt.hist(strain_gene_eggnog[ref_list].sum(), bins=bins, histtype='step', label='ref (eggnog)', density=True, color='tab:blue')\n",
    "plt.hist(strain_gene_eggnog[spgc_list].sum(), bins=bins, histtype='step', label='spgc (eggnog)', density=True, color='tab:orange')\n",
    "plt.hist(strain_gene_filt_eggnog[ref_list].sum(), bins=bins, histtype='stepfilled', label='ref (filtered eggnog)', density=True, color='tab:blue', alpha=0.5)\n",
    "plt.hist(strain_gene_filt_eggnog[spgc_list].sum(), bins=bins, histtype='stepfilled', label='spgc (filtered eggnog)', density=True, color='tab:orange', alpha=0.5)\n",
    "# plt.hist(strain_gene_top_eggnog[ref_list].sum(), bins=bins, histtype='stepfilled', alpha=0.5, label='ref (top eggnog)', density=True, color='tab:blue')\n",
    "# plt.hist(strain_gene_top_eggnog[spgc_list].sum(), bins=bins, histtype='stepfilled', alpha=0.5, label='spgc (top eggnog)', density=True, color='tab:orange')\n",
    "plt.legend()\n",
    "\n",
    "None"
   ]
  },
  {
   "cell_type": "code",
   "execution_count": null,
   "metadata": {},
   "outputs": [],
   "source": [
    "%%time\n",
    "# NOTE: This will take about ~3 minustrain_gene_filt_eggnogr 40,000 genes.\n",
    "eggnog_filt_cdmat = sp.spatial.distance.pdist(strain_gene_filt_eggnog, metric='cosine')\n",
    "eggnog_filt_pdist = pd.DataFrame(sp.spatial.distance.squareform(eggnog_filt_cdmat), index=strain_gene_filt_eggnog.index, columns=strain_gene_filt_eggnog.index)"
   ]
  },
  {
   "cell_type": "code",
   "execution_count": null,
   "metadata": {},
   "outputs": [],
   "source": [
    "%%time\n",
    "eggnog_filt_linkage = sp.cluster.hierarchy.linkage(eggnog_filt_cdmat, method='average')\n",
    "eggnog_filt_linkage.shape"
   ]
  },
  {
   "cell_type": "code",
   "execution_count": null,
   "metadata": {},
   "outputs": [],
   "source": [
    "strain_eggnog_filt_cdmat = sp.spatial.distance.pdist(strain_gene_filt_eggnog.T, metric='jaccard')\n",
    "strain_eggnog_filt_pdist = pd.DataFrame(sp.spatial.distance.squareform(strain_eggnog_filt_cdmat), index=strain_gene_filt_eggnog.columns, columns=strain_gene_filt_eggnog.columns)"
   ]
  },
  {
   "cell_type": "code",
   "execution_count": null,
   "metadata": {},
   "outputs": [],
   "source": [
    "strain_eggnog_filt_linkage = sp.cluster.hierarchy.linkage(strain_eggnog_filt_cdmat, method='average')"
   ]
  },
  {
   "cell_type": "code",
   "execution_count": null,
   "metadata": {},
   "outputs": [],
   "source": [
    "x = strain_gene_filt_eggnog\n",
    "_col_linkage = strain_geno_linkage\n",
    "_row_linkage = eggnog_filt_linkage\n",
    "# Order x by leaf order.\n",
    "# See <https://docs.scipy.org/doc/scipy/reference/generated/scipy.cluster.hierarchy.ClusterNode.pre_order.html#scipy.cluster.hierarchy.ClusterNode.pre_order>\n",
    "x = x.iloc[sp.cluster.hierarchy.to_tree(_row_linkage).pre_order(lambda x: x.id)]\n",
    "\n",
    "colors = pd.DataFrame(dict(\n",
    "    is_ref=x.columns.to_series().isin(ref_list).map({True: 'black', False: 'white'}),\n",
    "    is_spgc=x.columns.to_series().isin(spgc_list).map({True: 'black', False: 'white'}),\n",
    "))\n",
    "\n",
    "sns.clustermap(x, row_cluster=False, col_linkage=_col_linkage, col_colors=colors)"
   ]
  },
  {
   "cell_type": "code",
   "execution_count": null,
   "metadata": {},
   "outputs": [],
   "source": [
    "x = strain_gene_filt_eggnog\n",
    "_col_linkage = strain_eggnog_filt_linkage\n",
    "_row_linkage = eggnog_filt_linkage\n",
    "# Order x by leaf order.\n",
    "# See <https://docs.scipy.org/doc/scipy/reference/generated/scipy.cluster.hierarchy.ClusterNode.pre_order.html#scipy.cluster.hierarchy.ClusterNode.pre_order>\n",
    "x = x.iloc[sp.cluster.hierarchy.to_tree(_row_linkage).pre_order(lambda x: x.id)]\n",
    "\n",
    "colors = pd.DataFrame(dict(\n",
    "    is_ref=x.columns.to_series().isin(ref_list).map({True: 'black', False: 'white'}),\n",
    "    is_spgc=x.columns.to_series().isin(spgc_list).map({True: 'black', False: 'white'}),\n",
    "))\n",
    "\n",
    "sns.clustermap(x, row_cluster=False, col_linkage=_col_linkage, col_colors=colors)"
   ]
  },
  {
   "cell_type": "code",
   "execution_count": null,
   "metadata": {},
   "outputs": [],
   "source": [
    "_pdistA = strain_geno_pdist\n",
    "_pdistB = strain_eggnog_filt_pdist\n",
    "\n",
    "plt.scatter(\n",
    "    squareform(_pdistA.loc[ref_list, ref_list]),\n",
    "    squareform(_pdistB.loc[ref_list, ref_list]),\n",
    "    s=1,\n",
    "    alpha=0.5,\n",
    "    label='ref-ref',\n",
    ")\n",
    "print('ref-ref', sp.stats.pearsonr(\n",
    "    squareform(_pdistA.loc[ref_list, ref_list]),\n",
    "    squareform(_pdistB.loc[ref_list, ref_list]),\n",
    "))\n",
    "\n",
    "plt.scatter(\n",
    "    squareform(_pdistA.loc[spgc_list, spgc_list]),\n",
    "    squareform(_pdistB.loc[spgc_list, spgc_list]),\n",
    "    s=1,\n",
    "    alpha=0.5,\n",
    "    label='spgc-spgc',\n",
    ")\n",
    "print('spgc-spgc', sp.stats.pearsonr(\n",
    "    squareform(_pdistA.loc[spgc_list, spgc_list]),\n",
    "    squareform(_pdistB.loc[spgc_list, spgc_list]),\n",
    "))\n",
    "\n",
    "plt.scatter(\n",
    "    _pdistA.loc[spgc_list, ref_list].values.flatten(),\n",
    "    _pdistB.loc[spgc_list, ref_list].values.flatten(),\n",
    "    s=1,\n",
    "    alpha=0.5,\n",
    "    label='spgc-ref',\n",
    ")\n",
    "print('spgc-ref', sp.stats.pearsonr(\n",
    "    _pdistA.loc[spgc_list, ref_list].values.flatten(),\n",
    "    _pdistB.loc[spgc_list, ref_list].values.flatten(),\n",
    "))\n",
    "\n",
    "plt.legend(markerscale=5)"
   ]
  },
  {
   "cell_type": "code",
   "execution_count": null,
   "metadata": {},
   "outputs": [],
   "source": [
    "_pdistA = strain_geno_pdist\n",
    "_pdistB = strain_eggnog_filt_pdist\n",
    "\n",
    "\n",
    "# Remove the diagonal from \"minimum distance\".\n",
    "_pdistA = _pdistA + np.eye(len(_pdistA))\n",
    "_pdistB = _pdistB + np.eye(len(_pdistB))\n",
    "\n",
    "plt.scatter(\n",
    "    _pdistA.loc[ref_list, ref_list].min(),\n",
    "    _pdistB.loc[ref_list, ref_list].min(),\n",
    "    s=10,\n",
    "    alpha=0.5,\n",
    "    label='ref-to-ref',\n",
    ")\n",
    "plt.scatter(\n",
    "    _pdistA.loc[spgc_list, spgc_list].min(),\n",
    "    _pdistB.loc[spgc_list, spgc_list].min(),\n",
    "    s=10,\n",
    "    alpha=0.5,\n",
    "    label='spgc-to-spgc',\n",
    ")\n",
    "plt.scatter(\n",
    "    _pdistA.loc[spgc_list, ref_list].min(),\n",
    "    _pdistB.loc[spgc_list, ref_list].min(),\n",
    "    s=10,\n",
    "    alpha=0.5,\n",
    "    label='ref-to-spgc',\n",
    ")\n",
    "plt.scatter(\n",
    "    _pdistA.loc[ref_list, spgc_list].min(),\n",
    "    _pdistB.loc[ref_list, spgc_list].min(),\n",
    "    s=10,\n",
    "    alpha=0.5,\n",
    "    label='spgc-to-ref',\n",
    ")\n",
    "plt.xlabel('minimum_genotype_diss')\n",
    "plt.ylabel('minimum_gene_diss')\n",
    "\n",
    "plt.legend()"
   ]
  },
  {
   "cell_type": "code",
   "execution_count": null,
   "metadata": {},
   "outputs": [],
   "source": [
    "_pdistA = strain_geno_pdist\n",
    "_pdistB = strain_eggnog_filt_pdist\n",
    "\n",
    "plt.scatter(\n",
    "    squareform(_pdistA.loc[ref_list, ref_list]),\n",
    "    squareform(_pdistB.loc[ref_list, ref_list]),\n",
    "    s=1,\n",
    "    alpha=0.5,\n",
    "    color='k',\n",
    "    label='ref-ref',\n",
    ")\n",
    "\n",
    "for spgc_strain_id in spgc_list:\n",
    "    plt.scatter(\n",
    "        _pdistA.loc[spgc_strain_id, ref_list],\n",
    "        _pdistB.loc[spgc_strain_id, ref_list],\n",
    "        s=1,\n",
    "        alpha=0.5,\n",
    "        color=spgc_palette[spgc_strain_id],\n",
    "        # label='spgc-ref',\n",
    "    )\n",
    "    print(spgc_strain_id, sp.stats.pearsonr(_pdistA.loc[spgc_strain_id, ref_list], _pdistB.loc[spgc_strain_id, ref_list]))\n",
    "\n",
    "plt.legend()"
   ]
  },
  {
   "cell_type": "code",
   "execution_count": null,
   "metadata": {},
   "outputs": [],
   "source": [
    "ref_gene_eggnog_prevalence = strain_gene_eggnog[ref_list].mean(1)\n",
    "spgc_gene_eggnog_prevalence = strain_gene_eggnog[spgc_list].mean(1)"
   ]
  },
  {
   "cell_type": "code",
   "execution_count": null,
   "metadata": {},
   "outputs": [],
   "source": [
    "x = ref_gene_eggnog_prevalence\n",
    "y = spgc_gene_eggnog_prevalence\n",
    "\n",
    "print(sp.stats.pearsonr(x, y))\n",
    "\n",
    "fig, axs = plt.subplots(2, figsize=(5, 10))\n",
    "\n",
    "bins0 = np.linspace(0.0, 1.0, num=50)\n",
    "axs[0].hist2d(x, y, bins=bins0, norm=mpl.colors.PowerNorm(1/3, vmin=0, vmax=1e3))\n",
    "\n",
    "bins1 = np.linspace(0.1, 0.9, num=40)\n",
    "axs[1].hist2d(x, y, bins=bins1, norm=mpl.colors.PowerNorm(1/3))\n",
    "axs[1].set_xlabel('reference prevalence')\n",
    "axs[1].set_ylabel('inferred prevalence')\n",
    "None"
   ]
  },
  {
   "cell_type": "code",
   "execution_count": null,
   "metadata": {},
   "outputs": [],
   "source": [
    "colors = pd.DataFrame(dict(\n",
    "    is_spgc=strain_geno_pdist.index.to_series().isin(spgc_list).map({True: 'black', False: 'lightgrey'}),\n",
    "))\n",
    "\n",
    "sns.clustermap(\n",
    "    strain_geno_pdist,\n",
    "    row_colors=colors,\n",
    "    col_colors=colors,\n",
    "    row_linkage=strain_geno_linkage,\n",
    "    col_linkage=strain_eggnog_filt_linkage,\n",
    "    # figsize=(40, 40),\n",
    ")"
   ]
  },
  {
   "cell_type": "code",
   "execution_count": null,
   "metadata": {},
   "outputs": [],
   "source": [
    "colors = pd.DataFrame(dict(\n",
    "    is_spgc=strain_geno_pdist.index.to_series().isin(spgc_list).map({True: 'black', False: 'lightgrey'}),\n",
    "))\n",
    "\n",
    "sns.clustermap(\n",
    "    strain_eggnog_filt_pdist,\n",
    "    row_colors=colors,\n",
    "    col_colors=colors,\n",
    "    row_linkage=strain_geno_linkage,\n",
    "    col_linkage=strain_eggnog_filt_linkage,\n",
    "    # figsize=(40, 40),\n",
    ")"
   ]
  },
  {
   "cell_type": "code",
   "execution_count": null,
   "metadata": {},
   "outputs": [],
   "source": [
    "mgen = pd.read_table('meta/hmp2/mgen.tsv', index_col='library_id')\n",
    "preparation = pd.read_table('meta/hmp2/preparation.tsv', index_col='preparation_id')\n",
    "stool = pd.read_table('meta/hmp2/stool.tsv', index_col='stool_id')\n",
    "subject = pd.read_table('meta/hmp2/subject.tsv', index_col='subject_id')\n",
    "\n",
    "mgen_meta = mgen.join(preparation, on='preparation_id', lsuffix='_mgen', rsuffix='_preparation').join(stool, on='stool_id').join(subject, on='subject_id')"
   ]
  },
  {
   "cell_type": "code",
   "execution_count": null,
   "metadata": {},
   "outputs": [],
   "source": [
    "_row_linkage = gene_uhgg_linkage\n",
    "_gene_data = strain_gene_uhgg\n",
    "\n",
    "u = (sfacts_fit.community.sel(strain=spgc_list).to_pandas().groupby(mgen_meta.subject_id).mean() > 0.2)[lambda x: x.any(1)]\n",
    "v = _gene_data[u.columns]\n",
    "y = ((u @ v.T).T > 0)\n",
    "\n",
    "x = subject.loc[y.columns].ibd_diagnosis\n",
    "\n",
    "col_colors = x.replace({'CD': 'tab:green', 'UC': 'tab:blue', 'nonIBD': 'lightgrey'})\n",
    "row_order = sp.cluster.hierarchy.to_tree(_row_linkage).pre_order(lambda x: x.id)\n",
    "sns.clustermap(y.iloc[row_order], col_colors=col_colors, row_cluster=False)"
   ]
  },
  {
   "cell_type": "code",
   "execution_count": null,
   "metadata": {},
   "outputs": [],
   "source": [
    "%%time\n",
    "\n",
    "test_gene_list = idxwhere((y.mean(1) > 0.25) & (y.mean(1) < 0.75))\n",
    "print(len(test_gene_list))\n",
    "\n",
    "test_results = {}\n",
    "for ibd_diagnosis in x.unique():\n",
    "    for _gene in test_gene_list:\n",
    "        _test = sp.stats.fisher_exact(pd.DataFrame(dict(diagnosis=(x == ibd_diagnosis), gene=y.loc[_gene])).value_counts().unstack().reindex(index=[True, False], columns=[True, False]).fillna(0))\n",
    "        test_results[(ibd_diagnosis, _gene)] = _test.pvalue\n",
    "        \n",
    "test_results = (\n",
    "    pd.Series(test_results)\n",
    "    .rename_axis(['ibd_diagnosis', 'gene'])\n",
    "    .unstack('ibd_diagnosis')\n",
    "    .stack()\n",
    "    .to_frame(name='pvalue')\n",
    "    .assign(fdr=lambda x: fdrcorrection(x.pvalue, method=\"poscorr\")[1])\n",
    "    .join(gene_annotations[['Description', 'COG_category', 'eggNOG_OGs']], on='gene')\n",
    "    .sort_values('pvalue')\n",
    ")"
   ]
  },
  {
   "cell_type": "code",
   "execution_count": null,
   "metadata": {},
   "outputs": [],
   "source": [
    "for ibd_diagnosis in test_results.reset_index().ibd_diagnosis.unique():\n",
    "    plt.hist(test_results.xs(ibd_diagnosis, level='ibd_diagnosis').pvalue + 1e-5, label=ibd_diagnosis, alpha=0.5, bins=np.logspace(-5, 0, num=50))\n",
    "plt.legend()\n",
    "plt.xscale('log')"
   ]
  },
  {
   "cell_type": "code",
   "execution_count": null,
   "metadata": {},
   "outputs": [],
   "source": [
    "test_results.head(10)"
   ]
  },
  {
   "cell_type": "code",
   "execution_count": null,
   "metadata": {},
   "outputs": [],
   "source": [
    "_gene = test_results.index[0][0]\n",
    "print(_gene)\n",
    "pd.DataFrame(dict(diagnosis=x, gene=y.loc[_gene])).value_counts().unstack().fillna(0)"
   ]
  },
  {
   "cell_type": "code",
   "execution_count": null,
   "metadata": {},
   "outputs": [],
   "source": [
    "uhgg_depth = xr.load_dataarray(f\"data/group/xjin_hmp2/species/sp-{species_id}/r.proc.gene99-v22-agg75.depth2.nc\")\n",
    "subject_uhgg_depth = mgen_meta[['subject_id']].join(uhgg_depth.to_pandas()).groupby('subject_id').mean().dropna()"
   ]
  },
  {
   "cell_type": "code",
   "execution_count": null,
   "metadata": {},
   "outputs": [],
   "source": [
    "_row_linkage = gene_uhgg_linkage\n",
    "_gene_data = subject_uhgg_depth.T.loc[test_gene_list]\n",
    "\n",
    "col_colors = subject[['ibd_diagnosis']].replace({'CD': 'tab:green', 'UC': 'tab:blue', 'nonIBD': 'lightgrey'})\n",
    "sns.clustermap(_gene_data, col_colors=col_colors, norm=mpl.colors.SymLogNorm(1e-3), metric='cosine')"
   ]
  },
  {
   "cell_type": "code",
   "execution_count": null,
   "metadata": {},
   "outputs": [],
   "source": [
    "mean_subject_depth = subject_uhgg_depth[_gene]\n",
    "\n",
    "d = subject[['ibd_diagnosis']].join(mean_subject_depth).dropna()\n",
    "for ibd_diagnosis in d.ibd_diagnosis.unique():\n",
    "    plt.hist(d.loc[d.ibd_diagnosis == ibd_diagnosis, _gene] + 1e-4, bins=np.logspace(-4, 3), alpha=0.5, label=ibd_diagnosis)\n",
    "\n",
    "thresh = 1e-3\n",
    "plt.axvline(thresh, lw=1, linestyle='--', color='k')\n",
    "plt.xscale('log')\n",
    "# plt.yscale('log')\n",
    "plt.legend()\n",
    "\n",
    "d.assign(gene=lambda x: x[_gene] > thresh)[['ibd_diagnosis', 'gene']].value_counts().unstack()"
   ]
  },
  {
   "cell_type": "code",
   "execution_count": null,
   "metadata": {},
   "outputs": [],
   "source": []
  }
 ],
 "metadata": {
  "kernelspec": {
   "display_name": "sfacts",
   "language": "python",
   "name": "sfacts"
  },
  "language_info": {
   "codemirror_mode": {
    "name": "ipython",
    "version": 3
   },
   "file_extension": ".py",
   "mimetype": "text/x-python",
   "name": "python",
   "nbconvert_exporter": "python",
   "pygments_lexer": "ipython3",
   "version": "3.10.9"
  }
 },
 "nbformat": 4,
 "nbformat_minor": 5
}