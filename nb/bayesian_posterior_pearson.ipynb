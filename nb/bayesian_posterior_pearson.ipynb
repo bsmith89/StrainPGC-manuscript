{
 "cells": [
  {
   "cell_type": "markdown",
   "metadata": {},
   "source": [
    "# See: https://doi.org/10.1186/1471-2288-3-5"
   ]
  },
  {
   "cell_type": "code",
   "execution_count": null,
   "metadata": {},
   "outputs": [],
   "source": [
    "import scipy as sp\n",
    "import scipy.stats\n",
    "import matplotlib.pyplot as plt\n",
    "import numpy as np"
   ]
  },
  {
   "cell_type": "code",
   "execution_count": null,
   "metadata": {},
   "outputs": [],
   "source": [
    "n = 10\n",
    "\n",
    "x = sp.stats.norm(loc=0, scale=1).rvs(size=n)\n",
    "y = sp.stats.norm(loc=x, scale=1).rvs()\n",
    "\n",
    "plt.scatter(x, y)\n",
    "sp.stats.pearsonr(x, y)"
   ]
  },
  {
   "cell_type": "code",
   "execution_count": null,
   "metadata": {},
   "outputs": [],
   "source": [
    "sp.stats.norm?"
   ]
  },
  {
   "cell_type": "code",
   "execution_count": null,
   "metadata": {},
   "outputs": [],
   "source": [
    "def arctanh_r_post(x, y, r_prior=0, n_prior=0):\n",
    "    n_lik = len(x)\n",
    "    assert len(x) == len(y)\n",
    "    r_lik = sp.stats.pearsonr(x, y)[0]\n",
    "    var_post = 1 / (n_prior + n_lik)\n",
    "    mean_post = var_post * (n_prior * np.arctanh(r_prior) + n_lik * np.arctanh(r_lik))\n",
    "    return sp.stats.norm(loc=mean_post, scale=np.sqrt(var_post))\n",
    "\n",
    "p = tanh_r_post(x, y)\n",
    "\n",
    "np.tanh(p.ppf([0.025, 0.5, 0.975]))"
   ]
  },
  {
   "cell_type": "code",
   "execution_count": null,
   "metadata": {},
   "outputs": [],
   "source": []
  }
 ],
 "metadata": {
  "kernelspec": {
   "display_name": "default",
   "language": "python",
   "name": "default"
  },
  "language_info": {
   "codemirror_mode": {
    "name": "ipython",
    "version": 3
   },
   "file_extension": ".py",
   "mimetype": "text/x-python",
   "name": "python",
   "nbconvert_exporter": "python",
   "pygments_lexer": "ipython3",
   "version": "3.10.4"
  }
 },
 "nbformat": 4,
 "nbformat_minor": 5
}