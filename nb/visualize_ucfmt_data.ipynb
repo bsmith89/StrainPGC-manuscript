{
 "cells": [
  {
   "cell_type": "code",
   "execution_count": null,
   "metadata": {},
   "outputs": [],
   "source": [
    "import os\n",
    "os.chdir('..')\n",
    "os.path.realpath(os.path.curdir)"
   ]
  },
  {
   "cell_type": "code",
   "execution_count": null,
   "metadata": {},
   "outputs": [],
   "source": [
    "import sfacts as sf"
   ]
  },
  {
   "cell_type": "code",
   "execution_count": null,
   "metadata": {},
   "outputs": [],
   "source": [
    "import pandas as pd\n",
    "import numpy as np\n",
    "import scipy as sp"
   ]
  },
  {
   "cell_type": "code",
   "execution_count": null,
   "metadata": {},
   "outputs": [],
   "source": [
    "mgen = pd.read_table('meta/ucfmt/mgen.tsv', index_col=['mgen_id'])\n",
    "sample = pd.read_table('meta/ucfmt/sample.tsv', index_col=['sample_id'])\n",
    "subject = pd.read_table('meta/ucfmt/subject.tsv', index_col=['subject_id'])\n",
    "\n",
    "assert mgen.sample_id.isin(sample.index).all()\n",
    "assert sample.subject_id.isin(subject.index).all()\n",
    "\n",
    "meta_all = mgen.join(sample, on='sample_id').join(subject, on='subject_id')\n",
    "meta_all['fullname'] = meta_all.groupby(['subject_id', 'sample_type_specific']).apply(lambda df: df.assign(_i=range(len(df.index)))).apply(lambda x: x.subject_id + '.' + x.sample_type_specific + '.' + str(x._i), axis=1)"
   ]
  },
  {
   "cell_type": "code",
   "execution_count": null,
   "metadata": {},
   "outputs": [],
   "source": [
    "np.random.seed(0)\n",
    "\n",
    "fit = sf.World.load('data/sp-102478.ucfmt.a.r.proc.gtpro.filt-poly05-cvrg05.ss-g10000-block0-seed0.fit-sfacts11-s75-seed0.world.nc')\n",
    "# fit_rename = fit.data.copy()\n",
    "# fit_rename['sample'] = fit.data.sample.to_series().map(meta['fullname']).to_list()\n",
    "# fit = sf.data.World(fit_rename)\n",
    "\n",
    "meta = meta_all.loc[fit.sample]\n",
    "position_ss = fit.random_sample(position=min(1000, len(fit.position))).position"
   ]
  },
  {
   "cell_type": "code",
   "execution_count": null,
   "metadata": {},
   "outputs": [],
   "source": [
    "sf.plot.plot_community(\n",
    "    fit.sel(position=position_ss),\n",
    "    col_linkage_func=lambda w: w.metagenotype.linkage(),\n",
    ")"
   ]
  },
  {
   "cell_type": "code",
   "execution_count": null,
   "metadata": {},
   "outputs": [],
   "source": [
    "sf.plot.plot_metagenotype(\n",
    "    fit.sel(position=position_ss),\n",
    "    col_linkage_func=lambda w: w.metagenotype.linkage(),\n",
    ")"
   ]
  },
  {
   "cell_type": "code",
   "execution_count": null,
   "metadata": {},
   "outputs": [],
   "source": [
    "subject_id = 'S0024'\n",
    "m = meta[(meta.subject_id == subject_id)]\n",
    "sf.plot_community(fit.sel(sample=m.index), col_cluster=False)"
   ]
  },
  {
   "cell_type": "code",
   "execution_count": null,
   "metadata": {},
   "outputs": [],
   "source": [
    "sf.plot_metagenotype(fit.sel(sample=m.index), col_cluster=False)"
   ]
  },
  {
   "cell_type": "code",
   "execution_count": null,
   "metadata": {},
   "outputs": [],
   "source": []
  }
 ],
 "metadata": {
  "kernelspec": {
   "display_name": "sfacts",
   "language": "python",
   "name": "sfacts"
  },
  "language_info": {
   "codemirror_mode": {
    "name": "ipython",
    "version": 3
   },
   "file_extension": ".py",
   "mimetype": "text/x-python",
   "name": "python",
   "nbconvert_exporter": "python",
   "pygments_lexer": "ipython3",
   "version": "3.9.13"
  }
 },
 "nbformat": 4,
 "nbformat_minor": 5
}