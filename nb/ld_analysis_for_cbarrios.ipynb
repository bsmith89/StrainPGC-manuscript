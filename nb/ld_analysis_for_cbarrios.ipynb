{
 "cells": [
  {
   "cell_type": "code",
   "execution_count": null,
   "metadata": {},
   "outputs": [],
   "source": [
    "%load_ext autoreload"
   ]
  },
  {
   "cell_type": "code",
   "execution_count": null,
   "metadata": {},
   "outputs": [],
   "source": [
    "import os as _os\n",
    "_os.chdir(_os.environ['PROJECT_ROOT'])\n",
    "_os.path.realpath(_os.path.curdir)"
   ]
  },
  {
   "cell_type": "code",
   "execution_count": null,
   "metadata": {},
   "outputs": [],
   "source": [
    "import pandas as pd\n",
    "import numpy as np\n",
    "import scipy as sp\n",
    "import matplotlib.pyplot as plt\n",
    "import seaborn as sns\n",
    "import xarray as xr\n",
    "from lib.pandas_util import idxwhere, aligned_index, align_indexes, invert_mapping\n",
    "import matplotlib as mpl\n",
    "import lib.plot\n",
    "import statsmodels as sm\n",
    "from statsmodels.stats.multitest import fdrcorrection\n",
    "from tqdm import tqdm\n",
    "import subprocess\n",
    "from tempfile import mkstemp\n",
    "import time\n",
    "import subprocess\n",
    "from itertools import chain\n",
    "import os\n",
    "from itertools import product\n",
    "from mpl_toolkits.axes_grid1 import make_axes_locatable\n"
   ]
  },
  {
   "cell_type": "code",
   "execution_count": null,
   "metadata": {},
   "outputs": [],
   "source": [
    "import sfacts as sf"
   ]
  },
  {
   "cell_type": "raw",
   "metadata": {},
   "source": [
    "np.random.seed(5)\n",
    "n = 100\n",
    "\n",
    "ref_geno_ss = sf.Metagenotype.load('data/species/sp-102506/gtpro_ref.mgtp.nc').random_sample(position=100).to_estimated_genotype().to_series().unstack('strain')\n",
    "\n",
    "linear_distance = sp.spatial.distance.pdist(ref_geno_ss.index.to_frame())\n",
    "linkage_disequilibrium = (1 - sp.spatial.distance.pdist(ref_geno_ss, metric='correlation'))**2\n",
    "\n",
    "# sns.regplot(x=np.log10(linear_distance), y=linkage_disequilibrium, scatter_kws=dict(s=1), lowess=True)\n",
    "\n",
    "np.quantile(linkage_disequilibrium, 0.95)"
   ]
  },
  {
   "cell_type": "raw",
   "metadata": {},
   "source": [
    "np.random.seed(5)\n",
    "n = 100\n",
    "\n",
    "ref_geno_ss = sf.Metagenotype.load('data/species/sp-100022/gtpro_ref.mgtp.nc').random_sample(position=100).to_estimated_genotype().to_series().unstack('strain')\n",
    "\n",
    "linear_distance = sp.spatial.distance.pdist(ref_geno_ss.index.to_frame())\n",
    "linkage_disequilibrium = (1 - sp.spatial.distance.pdist(ref_geno_ss, metric='correlation'))**2\n",
    "\n",
    "# sns.regplot(x=np.log10(linear_distance), y=linkage_disequilibrium, scatter_kws=dict(s=1), lowess=True)\n",
    "\n",
    "np.quantile(linkage_disequilibrium, 0.95)"
   ]
  },
  {
   "cell_type": "raw",
   "metadata": {},
   "source": [
    "np.random.seed(5)\n",
    "n = 100\n",
    "\n",
    "ref_geno_ss = sf.Metagenotype.load('data/species/sp-100144/gtpro_ref.mgtp.nc').random_sample(position=100).to_estimated_genotype().to_series().unstack('strain')\n",
    "\n",
    "linear_distance = sp.spatial.distance.pdist(ref_geno_ss.index.to_frame())\n",
    "linkage_disequilibrium = (1 - sp.spatial.distance.pdist(ref_geno_ss, metric='correlation'))**2\n",
    "\n",
    "# sns.regplot(x=np.log10(linear_distance), y=linkage_disequilibrium, scatter_kws=dict(s=1), lowess=True)\n",
    "\n",
    "np.quantile(linkage_disequilibrium, 0.95)"
   ]
  },
  {
   "cell_type": "raw",
   "metadata": {},
   "source": [
    "np.random.seed(0)\n",
    "n = 1000\n",
    "\n",
    "ref_geno_ss = sf.Metagenotype.load('data/species/sp-102321/gtpro_ref.mgtp.nc').random_sample(position=n).to_estimated_genotype().to_series().unstack('strain')\n",
    "\n",
    "linear_distance = sp.spatial.distance.pdist(ref_geno_ss.index.to_frame())\n",
    "linkage_disequilibrium = (1 - sp.spatial.distance.pdist(ref_geno_ss, metric='correlation'))**2\n",
    "\n",
    "# sns.regplot(x=np.log10(linear_distance), y=linkage_disequilibrium, scatter_kws=dict(s=1), lowess=True)\n",
    "\n",
    "np.quantile(linkage_disequilibrium, 0.95)"
   ]
  },
  {
   "cell_type": "raw",
   "metadata": {},
   "source": [
    "d0 = pd.DataFrame(dict(x=linear_distance, y=linkage_disequilibrium)).sort_values('x')\n",
    "\n",
    "for low, high in [(0, 10), (10, 100), (100, 1000), (1000, 10000), (10000, 100000)]:\n",
    "    print(d0[(d0.x >= low) & (d0.x < high)].y.quantile(0.9).round(3), low, high)"
   ]
  },
  {
   "cell_type": "code",
   "execution_count": null,
   "metadata": {},
   "outputs": [],
   "source": [
    "species = 102321\n",
    "np.random.seed(0)\n",
    "n = 4000\n",
    "quantile = 0.9\n",
    "\n",
    "first_bin = 0\n",
    "num_bins = 20\n",
    "boundaries = np.logspace(first_bin, num_bins, num=num_bins - first_bin, base=2).astype(int)\n",
    "\n",
    "ref_geno_ss = sf.Metagenotype.load(f'data/species/sp-{species}/gtpro_ref.mgtp.nc').random_sample(position=n).to_estimated_genotype().to_series().unstack('strain')\n",
    "\n",
    "linear_distance = sp.spatial.distance.pdist(ref_geno_ss.index.to_frame())\n",
    "linkage_disequilibrium = (1 - sp.spatial.distance.pdist(ref_geno_ss, metric='correlation'))**2\n",
    "\n",
    "print('species', species, round(np.quantile(linkage_disequilibrium, quantile), 2))\n",
    "\n",
    "d0 = pd.DataFrame(dict(x=linear_distance, y=linkage_disequilibrium)).sort_values('x')\n",
    "\n",
    "ld_decay = []\n",
    "for low, high in zip(boundaries[:-1], boundaries[1:]):\n",
    "    ld_decay.append((d0[(d0.x >= low) & (d0.x < high)].y.quantile(quantile).round(3), low, high, sum((d0.x >= low) & (d0.x < high))))\n",
    "    # print(*ld_decay[-1])\n",
    "    \n",
    "d1 = pd.DataFrame(ld_decay, columns=['ld90', 'left', 'right', 'n']).assign(\n",
    "    mid=lambda x: x[['left', 'right']].pipe(np.log).mean(1).pipe(np.exp),\n",
    "    # markersize=lambda x: (x.n.pipe(np.log10) + 1) * 10,\n",
    ")\n",
    "    \n",
    "plt.plot('mid', 'ld90', c='k', data=d1)\n",
    "plt.scatter('mid', 'ld90', marker='o', c='n', data=d1, norm=mpl.colors.LogNorm(), zorder=1)\n",
    "\n",
    "plt.colorbar(label='num_pairs')\n",
    "plt.xscale('log')\n",
    "plt.title(species)\n",
    "plt.ylabel('LD90')\n",
    "plt.xlabel('pairwise distance')\n",
    "plt.ylim(0, 1)\n",
    "plt.xlim(left=0.5)"
   ]
  },
  {
   "cell_type": "code",
   "execution_count": null,
   "metadata": {},
   "outputs": [],
   "source": [
    "species = 102506\n",
    "np.random.seed(0)\n",
    "n = 4000\n",
    "quantile = 0.9\n",
    "\n",
    "first_bin = 0\n",
    "num_bins = 20\n",
    "boundaries = np.logspace(first_bin, num_bins, num=num_bins - first_bin, base=2).astype(int)\n",
    "\n",
    "ref_geno_ss = sf.Metagenotype.load(f'data/species/sp-{species}/gtpro_ref.mgtp.nc').random_sample(position=n).to_estimated_genotype().to_series().unstack('strain')\n",
    "\n",
    "linear_distance = sp.spatial.distance.pdist(ref_geno_ss.index.to_frame())\n",
    "linkage_disequilibrium = (1 - sp.spatial.distance.pdist(ref_geno_ss, metric='correlation'))**2\n",
    "\n",
    "print('species', species, round(np.quantile(linkage_disequilibrium, quantile), 2))\n",
    "\n",
    "d0 = pd.DataFrame(dict(x=linear_distance, y=linkage_disequilibrium)).sort_values('x')\n",
    "\n",
    "ld_decay = []\n",
    "for low, high in zip(boundaries[:-1], boundaries[1:]):\n",
    "    ld_decay.append((d0[(d0.x >= low) & (d0.x < high)].y.quantile(quantile).round(3), low, high, sum((d0.x >= low) & (d0.x < high))))\n",
    "    # print(*ld_decay[-1])\n",
    "    \n",
    "d1 = pd.DataFrame(ld_decay, columns=['ld90', 'left', 'right', 'n']).assign(\n",
    "    mid=lambda x: x[['left', 'right']].pipe(np.log).mean(1).pipe(np.exp),\n",
    "    # markersize=lambda x: (x.n.pipe(np.log10) + 1) * 10,\n",
    ")\n",
    "    \n",
    "plt.plot('mid', 'ld90', c='k', data=d1)\n",
    "plt.scatter('mid', 'ld90', marker='o', c='n', data=d1, norm=mpl.colors.LogNorm(), zorder=1)\n",
    "\n",
    "plt.colorbar(label='num_pairs')\n",
    "plt.xscale('log')\n",
    "plt.title(species)\n",
    "plt.ylabel('LD90')\n",
    "plt.xlabel('pairwise distance')\n",
    "plt.ylim(0, 1)\n",
    "plt.xlim(left=0.5)"
   ]
  },
  {
   "cell_type": "code",
   "execution_count": null,
   "metadata": {},
   "outputs": [],
   "source": [
    "species = 100022\n",
    "np.random.seed(0)\n",
    "n = 4000\n",
    "quantile = 0.9\n",
    "\n",
    "first_bin = 0\n",
    "num_bins = 20\n",
    "boundaries = np.logspace(first_bin, num_bins, num=num_bins - first_bin, base=2).astype(int)\n",
    "\n",
    "ref_geno_ss = sf.Metagenotype.load(f'data/species/sp-{species}/gtpro_ref.mgtp.nc').random_sample(position=n).to_estimated_genotype().to_series().unstack('strain')\n",
    "\n",
    "linear_distance = sp.spatial.distance.pdist(ref_geno_ss.index.to_frame())\n",
    "linkage_disequilibrium = (1 - sp.spatial.distance.pdist(ref_geno_ss, metric='correlation'))**2\n",
    "\n",
    "print('species', species, round(np.quantile(linkage_disequilibrium, quantile), 2))\n",
    "\n",
    "d0 = pd.DataFrame(dict(x=linear_distance, y=linkage_disequilibrium)).sort_values('x')\n",
    "\n",
    "ld_decay = []\n",
    "for low, high in zip(boundaries[:-1], boundaries[1:]):\n",
    "    ld_decay.append((d0[(d0.x >= low) & (d0.x < high)].y.quantile(quantile).round(3), low, high, sum((d0.x >= low) & (d0.x < high))))\n",
    "    # print(*ld_decay[-1])\n",
    "    \n",
    "d1 = pd.DataFrame(ld_decay, columns=['ld90', 'left', 'right', 'n']).assign(\n",
    "    mid=lambda x: x[['left', 'right']].pipe(np.log).mean(1).pipe(np.exp),\n",
    "    # markersize=lambda x: (x.n.pipe(np.log10) + 1) * 10,\n",
    ")\n",
    "    \n",
    "plt.plot('mid', 'ld90', c='k', data=d1)\n",
    "plt.scatter('mid', 'ld90', marker='o', c='n', data=d1, norm=mpl.colors.LogNorm(), zorder=1)\n",
    "\n",
    "plt.colorbar(label='num_pairs')\n",
    "plt.xscale('log')\n",
    "plt.title(species)\n",
    "plt.ylabel('LD90')\n",
    "plt.xlabel('pairwise distance')\n",
    "plt.ylim(0, 1)\n",
    "plt.xlim(left=0.5)"
   ]
  },
  {
   "cell_type": "code",
   "execution_count": null,
   "metadata": {},
   "outputs": [],
   "source": [
    "ref_cn = xr.load_dataarray('ref/midasdb_uhgg_pangenomes/102321/gene75.reference_copy_number.nc')\n",
    "ref_cn"
   ]
  },
  {
   "cell_type": "code",
   "execution_count": null,
   "metadata": {},
   "outputs": [],
   "source": [
    "plt.hist((ref_cn > 0).mean(\"genome_id\"))\n",
    "plt.yscale('log')"
   ]
  },
  {
   "cell_type": "code",
   "execution_count": null,
   "metadata": {},
   "outputs": [],
   "source": [
    "gene_freq = (ref_cn > 0).mean(\"genome_id\")"
   ]
  },
  {
   "cell_type": "code",
   "execution_count": null,
   "metadata": {},
   "outputs": [],
   "source": [
    "((gene_freq > 0.1) & (gene_freq < 0.9)).sum()"
   ]
  },
  {
   "cell_type": "code",
   "execution_count": null,
   "metadata": {},
   "outputs": [],
   "source": [
    "d = pd.read_table('test.depth.tsv', names=['gene_id', 'position', 'tally'], index_col=['gene_id', 'position']).squeeze()\n",
    "d_ns = pd.read_table('test.depth-nosecondary.tsv', names=['gene_id', 'position', 'tally'], index_col=['gene_id', 'position']).squeeze()\n"
   ]
  },
  {
   "cell_type": "code",
   "execution_count": null,
   "metadata": {},
   "outputs": [],
   "source": [
    "plt.plot(d.xs('UHGG000135_00003', level='gene_id'))\n",
    "plt.plot(d_ns.xs('UHGG000135_00003', level='gene_id'))"
   ]
  },
  {
   "cell_type": "code",
   "execution_count": null,
   "metadata": {},
   "outputs": [],
   "source": []
  }
 ],
 "metadata": {
  "kernelspec": {
   "display_name": "sfacts",
   "language": "python",
   "name": "sfacts"
  },
  "language_info": {
   "codemirror_mode": {
    "name": "ipython",
    "version": 3
   },
   "file_extension": ".py",
   "mimetype": "text/x-python",
   "name": "python",
   "nbconvert_exporter": "python",
   "pygments_lexer": "ipython3",
   "version": "3.10.9"
  }
 },
 "nbformat": 4,
 "nbformat_minor": 5
}