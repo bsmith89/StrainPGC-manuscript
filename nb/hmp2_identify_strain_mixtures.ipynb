{
 "cells": [
  {
   "cell_type": "code",
   "execution_count": null,
   "metadata": {},
   "outputs": [],
   "source": [
    "import os as _os\n",
    "_os.chdir('..')"
   ]
  },
  {
   "cell_type": "code",
   "execution_count": null,
   "metadata": {},
   "outputs": [],
   "source": [
    "import pandas as pd\n",
    "import matplotlib.pyplot as plt\n",
    "import numpy as np\n",
    "import scipy as sp\n",
    "from operator import eq, sub\n",
    "import scipy.stats\n",
    "import scipy as sp\n",
    "import seaborn as sns\n",
    "from lib.pandas_util import idxwhere\n",
    "import sfacts as sf\n",
    "from tqdm import tqdm"
   ]
  },
  {
   "cell_type": "code",
   "execution_count": null,
   "metadata": {},
   "outputs": [],
   "source": [
    "mgen = pd.read_table('meta/mgen.tsv', index_col='library_id')\n",
    "preparation = pd.read_table('meta/preparation.tsv', index_col='preparation_id')\n",
    "stool = pd.read_table('meta/stool.tsv', index_col='stool_id')\n",
    "visit = pd.read_tabsfacts'meta/visit.tsv', index_col='visit_id')\n",
    "subject = pd.read_table('meta/subject.tsv', index_col='subject_id')\n",
    "\n",
    "mgen_meta = (\n",
    "    mgen\n",
    "    .join(preparation.drop(columns='library_type'), on='preparation_id')\n",
    "    .join(stool, on='stool_id')\n",
    "    .join(visit, on='visit_id')\n",
    "    .join(subject, on='subject_id')\n",
    ")\n",
    "\n",
    "assert not any(mgen_meta.subject_id.isna())\n",
    "\n",
    "# mgen_meta.columns"
   ]
  },
  {
   "cell_type": "code",
   "execution_count": null,
   "metadata": {},
   "outputs": [],
   "source": [
    "species_taxonomy = pd.read_table('ref/gtpro/species_taxonomy_ext.tsv', names=['genome_id', 'species_id', 'taxonomy_string']).assign(species_id=lambda x: x.species_id.astype(str)).set_index('species_id').taxonomy_string\n",
    "species_taxonomy = species_taxonomy.str.split(';').to_frame()\n",
    "\n",
    "for level_name, level_number in [('p__', 2), ('f__', 5), ('s__', 7)]:\n",
    "    species_taxonomy = species_taxonomy.assign(**{level_name: species_taxonomy['taxonomy_string'].apply(lambda x: ';'.join(x[:level_number]))})\n",
    "    \n",
    "species_taxonomy"
   ]
  },
  {
   "cell_type": "code",
   "execution_count": null,
   "metadata": {},
   "outputs": [],
   "source": [
    "species_depth = pd.read_table('data/core.a.r.proc.gtpro.species_depth.tsv', index_col=['sample', 'species_id']).squeeze().unstack('species_id', fill_value=0)\n",
    "species_list = species_depth.columns.astype(str).to_list()"
   ]
  },
  {
   "cell_type": "code",
   "execution_count": null,
   "metadata": {},
   "outputs": [],
   "source": []
  },
  {
   "cell_type": "code",
   "execution_count": null,
   "metadata": {},
   "outputs": [],
   "source": [
    "import warnings\n",
    "\n",
    "warnings.filterwarnings('ignore', message='divide by zero encountered in log2', category=RuntimeWarning, lineno=727)\n",
    "\n",
    "_result = {}\n",
    "for species_id in tqdm(species_list):\n",
    "    path = f'data/sp-{species_id}.core.a.r.proc.gtpro.filt-poly05-cvrg05.mgen.nc'\n",
    "    if not os.path.exists(path):\n",
    "        continue\n",
    "    world = sf.World.load(path)\n",
    "    _result[species_id] = (float(world.metagenotype.entropy().mean()), world.sizes['position'], world.sizes['sample'])\n",
    "result = pd.DataFrame(_result, index=['entropy', 'num_positions', 'num_samples']).T"
   ]
  },
  {
   "cell_type": "code",
   "execution_count": null,
   "metadata": {},
   "outputs": [],
   "source": [
    "result"
   ]
  },
  {
   "cell_type": "code",
   "execution_count": null,
   "metadata": {},
   "outputs": [],
   "source": [
    "species_taxonomy.join(result).sort_values('entropy', ascending=False).head(20)"
   ]
  },
  {
   "cell_type": "code",
   "execution_count": null,
   "metadata": {},
   "outputs": [],
   "source": []
  }
 ],
 "metadata": {
  "kernelspec": {
   "display_name": "Python 3 (ipykernel)",
   "language": "python",
   "name": "python3"
  },
  "language_info": {
   "codemirror_mode": {
    "name": "ipython",
    "version": 3
   },
   "file_extension": ".py",
   "mimetype": "text/x-python",
   "name": "python",
   "nbconvert_exporter": "python",
   "pygments_lexer": "ipython3",
   "version": "3.9.10"
  }
 },
 "nbformat": 4,
 "nbformat_minor": 5
}