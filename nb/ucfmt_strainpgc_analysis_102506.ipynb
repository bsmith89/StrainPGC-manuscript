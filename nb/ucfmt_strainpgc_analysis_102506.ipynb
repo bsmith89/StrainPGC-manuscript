{
 "cells": [
  {
   "cell_type": "markdown",
   "metadata": {},
   "source": [
    "## Preamble"
   ]
  },
  {
   "cell_type": "markdown",
   "metadata": {},
   "source": [
    "### Project Template"
   ]
  },
  {
   "cell_type": "code",
   "execution_count": null,
   "metadata": {},
   "outputs": [],
   "source": [
    "%load_ext autoreload"
   ]
  },
  {
   "cell_type": "code",
   "execution_count": null,
   "metadata": {},
   "outputs": [],
   "source": [
    "import os as _os\n",
    "\n",
    "_os.chdir(_os.environ[\"PROJECT_ROOT\"])\n",
    "_os.path.realpath(_os.path.curdir)"
   ]
  },
  {
   "cell_type": "markdown",
   "metadata": {},
   "source": [
    "### Imports"
   ]
  },
  {
   "cell_type": "code",
   "execution_count": null,
   "metadata": {},
   "outputs": [],
   "source": [
    "import os\n",
    "import subprocess\n",
    "import sys\n",
    "import time\n",
    "from datetime import datetime\n",
    "from glob import glob\n",
    "from itertools import chain, product\n",
    "from tempfile import mkstemp\n",
    "\n",
    "import matplotlib as mpl\n",
    "import matplotlib.pyplot as plt\n",
    "import numpy as np\n",
    "import pandas as pd\n",
    "import scipy as sp\n",
    "from scipy.spatial.distance import pdist, squareform\n",
    "import seaborn as sns\n",
    "import sfacts as sf\n",
    "import statsmodels.api as sm\n",
    "import statsmodels.formula.api as smf\n",
    "import xarray as xr\n",
    "from mpl_toolkits.axes_grid1 import make_axes_locatable\n",
    "import matplotlib.ticker as mtick\n",
    "import mpltern\n",
    "\n",
    "from statsmodels.stats.multitest import fdrcorrection\n",
    "from tqdm import tqdm\n",
    "\n",
    "import lib.plot\n",
    "from lib.dissimilarity import load_dmat_as_pickle\n",
    "from lib.pandas_util import align_indexes, aligned_index, idxwhere, invert_mapping"
   ]
  },
  {
   "cell_type": "code",
   "execution_count": null,
   "metadata": {},
   "outputs": [],
   "source": [
    "def linkage_order(linkage, labels):\n",
    "    return labels[sp.cluster.hierarchy.to_tree(linkage).pre_order(lambda x: x.id)]\n",
    "\n",
    "def plot_stacked_barplot(data, x_var, order, palette=None, ax=None, **kwargs):\n",
    "    if ax is None:\n",
    "        ax = plt.subplot()\n",
    "    if palette is None:\n",
    "        palette = lib.plot.construct_ordered_palette(order)\n",
    "\n",
    "    # Bar styles\n",
    "    bar_kwargs = dict(\n",
    "        width=1.0,\n",
    "        alpha=1.0,\n",
    "        edgecolor=\"k\",\n",
    "        lw=1,\n",
    "    )\n",
    "    bar_kwargs.update(kwargs)\n",
    "\n",
    "    # Plot each bar segment\n",
    "    _last_top = 0\n",
    "    for y_var in order:\n",
    "        ax.bar(\n",
    "            x=data[x_var],\n",
    "            height=data[y_var],\n",
    "            bottom=_last_top,\n",
    "            label=y_var,\n",
    "            color=palette[y_var],\n",
    "            **bar_kwargs,\n",
    "        )\n",
    "        _last_top += data[y_var]\n",
    "    ax.set_xticks(data[x_var].values)\n",
    "    return ax\n",
    "\n",
    "\n",
    "plot_stacked_barplot(\n",
    "    pd.DataFrame(dict(t=[0, 1, 2], y1=[0.0, 0.5, 1.0], y2=[1.0, 0.5, 0.0])),\n",
    "    x_var=\"t\",\n",
    "    order=[\"y1\", \"y2\"],\n",
    ")"
   ]
  },
  {
   "cell_type": "code",
   "execution_count": null,
   "metadata": {},
   "outputs": [],
   "source": [
    "import lib.thisproject.data"
   ]
  },
  {
   "cell_type": "markdown",
   "metadata": {},
   "source": [
    "### Set Style"
   ]
  },
  {
   "cell_type": "code",
   "execution_count": null,
   "metadata": {},
   "outputs": [],
   "source": [
    "sns.set_context(\"talk\")\n",
    "plt.rcParams[\"figure.dpi\"] = 100"
   ]
  },
  {
   "cell_type": "markdown",
   "metadata": {},
   "source": [
    "## Metadata"
   ]
  },
  {
   "cell_type": "code",
   "execution_count": null,
   "metadata": {},
   "outputs": [],
   "source": [
    "mgen = pd.read_table(\"meta/ucfmt/mgen.tsv\", index_col=\"mgen_id\")\n",
    "sample = pd.read_table(\"meta/ucfmt/sample.tsv\", index_col=\"sample_id\")\n",
    "subject = pd.read_table(\"meta/ucfmt/subject.tsv\", index_col=\"subject_id\")\n",
    "assert mgen.sample_id.isin(sample.index).all()\n",
    "\n",
    "mgen_meta = mgen.join(sample, on=\"sample_id\").join(subject, on=\"subject_id\")"
   ]
  },
  {
   "cell_type": "markdown",
   "metadata": {},
   "source": [
    "### StrainPGC Post-filtering Strains"
   ]
  },
  {
   "cell_type": "code",
   "execution_count": null,
   "metadata": {},
   "outputs": [],
   "source": [
    "spgc_meta = pd.read_table(f'data/group/ucfmt/species/sp-102506/r.proc.gtpro.sfacts-fit.gene99_v15-v22-agg75.spgc-fit.strain_meta_spgc_and_ref.tsv', index_col='genome_id')\n",
    "spgc_strain_list = spgc_meta[lambda x: x.passes_filter & x.genome_type.isin(['SPGC'])].index.astype(int).values\n",
    "len(spgc_strain_list)"
   ]
  },
  {
   "cell_type": "markdown",
   "metadata": {},
   "source": [
    "## Strain tracking"
   ]
  },
  {
   "cell_type": "code",
   "execution_count": null,
   "metadata": {},
   "outputs": [],
   "source": [
    "strain_fit = sf.data.World.load('data/group/ucfmt/species/sp-102506/r.proc.gtpro.sfacts-fit.world.nc').rename_coords(strain=str)\n",
    "\n",
    "np.random.seed(0)\n",
    "position_ss = strain_fit.random_sample(position=1000).position\n",
    "sample_linkage = strain_fit.unifrac_linkage(optimal_ordering=True)\n",
    "sample_linkage_alt = strain_fit.metagenotype.linkage(optimal_ordering=True)\n",
    "strain_linkage = strain_fit.genotype.linkage(optimal_ordering=True)\n",
    "position_linkage = strain_fit.metagenotype.sel(position=position_ss).linkage('position')\n",
    "\n",
    "print(sf.evaluation.metagenotype_error2(strain_fit, discretized=True)[0])"
   ]
  },
  {
   "cell_type": "markdown",
   "metadata": {},
   "source": [
    "### Visualize strain tracking"
   ]
  },
  {
   "cell_type": "code",
   "execution_count": null,
   "metadata": {},
   "outputs": [],
   "source": [
    "focal_strains = ['6', '9', '33',\n",
    "                 '38',  # Unfortunately low-quality gene content inferences. :-/\n",
    "                ]  # Defined based on dominant, donor strains in followup samples."
   ]
  },
  {
   "cell_type": "code",
   "execution_count": null,
   "metadata": {},
   "outputs": [],
   "source": [
    "strain_order = [s for s in \n",
    "    linkage_order(\n",
    "        strain_linkage,\n",
    "        strain_fit.strain.values,\n",
    "    )]\n",
    "    # ) if s in spgc_strain_list]\n",
    "\n",
    "if \"-1\" in strain_order:\n",
    "    strain_order.remove(\"-1\")  # Drop \"other\" strain.\n",
    "strain_order.append(\"-1\")  # Add to end of list\n",
    "\n",
    "strain_palette = lib.plot.construct_ordered_palette(\n",
    "    strain_order,  # Linkage order, I believe\n",
    "    cm=\"turbo\", vmin=0.05, vmax=0.95,\n",
    "    extend={\"-1\": \"silver\"},\n",
    "    desaturate_levels=[1.0],\n",
    ")\n",
    "\n",
    "# Desaturate non-focal strains\n",
    "for strain in strain_palette:\n",
    "    if strain == \"-1\":\n",
    "        continue\n",
    "    if strain not in focal_strains:\n",
    "        strain_palette[strain] = sns.set_hls_values(strain_palette[strain], l=0.35, s=0.7)\n",
    "    else:\n",
    "        strain_palette[strain] = sns.set_hls_values(strain_palette[strain], l=0.75, s=1.0)"
   ]
  },
  {
   "cell_type": "code",
   "execution_count": null,
   "metadata": {},
   "outputs": [],
   "source": [
    "strain_colors = pd.Series(strain_order, index=strain_order).map(strain_palette).to_frame()\n",
    "\n",
    "sf.plot.plot_metagenotype(strain_fit.sel(position=position_ss), col_linkage=sample_linkage_alt)\n",
    "sf.plot.plot_community(strain_fit.sel(position=position_ss), col_linkage=sample_linkage_alt, row_linkage=strain_linkage, row_colors=strain_colors)"
   ]
  },
  {
   "cell_type": "code",
   "execution_count": null,
   "metadata": {},
   "outputs": [],
   "source": [
    "sf.plot.plot_genotype(strain_fit.sel(position=position_ss), row_linkage=strain_linkage, row_colors=strain_colors)"
   ]
  },
  {
   "cell_type": "code",
   "execution_count": null,
   "metadata": {},
   "outputs": [],
   "source": [
    "strain_samples = pd.read_table('data/group/ucfmt/species/sp-102506/r.proc.gtpro.sfacts-fit.spgc_ss-all.strain_samples.tsv', names=['sample', 'strain'], dtype=str)\n",
    "strain_samples[lambda x: x.strain.isin(focal_strains)].sort_values('strain').strain.value_counts()"
   ]
  },
  {
   "cell_type": "code",
   "execution_count": null,
   "metadata": {},
   "outputs": [],
   "source": [
    "focal_strain_samples = idxwhere((strain_fit.community.data.sel(strain=focal_strains).max(\"strain\") > 0.75).to_series())\n",
    "w = strain_fit.sel(position=position_ss, sample=focal_strain_samples).drop_low_abundance_strains(0.001)\n",
    "sf.plot.plot_community(w, col_linkage_func=lambda w: w.metagenotype.linkage())\n",
    "sf.plot.plot_metagenotype(w, row_linkage_func=lambda w: position_linkage, col_linkage_func=lambda w: w.metagenotype.linkage())"
   ]
  },
  {
   "cell_type": "code",
   "execution_count": null,
   "metadata": {},
   "outputs": [],
   "source": [
    "sample_type_specific_relabel = {\n",
    "    'donor_enema': 'D',\n",
    "    'donor_initial': 'D',\n",
    "    'donor_capsule': 'D',\n",
    "    'baseline': 'B',\n",
    "    'post_antibiotic': 'pA',\n",
    "    'pre_maintenance_1': 'M1',\n",
    "    'pre_maintenance_2': 'M2',\n",
    "    'pre_maintenance_3': 'M3',\n",
    "    'pre_maintenance_4': 'M4',\n",
    "    'pre_maintenance_5': 'M5',\n",
    "    'pre_maintenance_6': 'M6',\n",
    "    'followup_1': 'F1',\n",
    "    'followup_2': 'F2',\n",
    "    'followup_3': 'F3',\n",
    "}"
   ]
  },
  {
   "cell_type": "code",
   "execution_count": null,
   "metadata": {},
   "outputs": [],
   "source": [
    "for strain, c in strain_colors.squeeze().items():\n",
    "    plt.scatter([], [], c=c, label=strain)\n",
    "plt.legend(ncols=3)\n",
    "lib.plot.hide_axes_and_spines()"
   ]
  },
  {
   "cell_type": "code",
   "execution_count": null,
   "metadata": {},
   "outputs": [],
   "source": [
    "_meta = mgen_meta\n",
    "subject_order = [\"D0044\", \"D0097\", \"D0485\"]\n",
    "\n",
    "fig, axs = plt.subplots(1, len(subject_order), figsize=(5 * len(subject_order), 2), squeeze=False)\n",
    "for subject_id, ax in zip(subject_order, axs.flatten()):\n",
    "    sample_list = (\n",
    "        _meta[\n",
    "            lambda x: (x.subject_id == subject_id)\n",
    "            & (x.index.isin(strain_fit.sample.values))\n",
    "        ]\n",
    "        # .sort_values('collection_days_post_fmt')  # This will be useful for subjects, but not donors\n",
    "        .index\n",
    "    )\n",
    "\n",
    "    if len(sample_list) < 2:\n",
    "        sample_order = sample_list\n",
    "    else:\n",
    "        sample_order = list(\n",
    "            linkage_order(\n",
    "                strain_fit.sel(sample=sample_list).metagenotype.linkage(\n",
    "                    optimal_ordering=True\n",
    "                ),\n",
    "                sample_list,\n",
    "            )\n",
    "        )\n",
    "\n",
    "    if len(sample_list) < 1:\n",
    "        subject_comm = pd.DataFrame([], columns=[-1])\n",
    "    else:\n",
    "        subject_comm = (\n",
    "            strain_fit.sel(sample=sample_order).keep_only_strain_list(strain_order)\n",
    "            # .drop_low_abundance_strains(\n",
    "            #     0.0, agg_strain_coord=-1\n",
    "            # )  # TODO: Check that this adds to the alread-existing strain_-1\n",
    "            .community.to_pandas()\n",
    "        )\n",
    "\n",
    "    d = (\n",
    "        _meta.reindex(sample_order)\n",
    "        # .dropna(subset=[\"collection_date_relative_een_end\"])\n",
    "        # .sort_values(\"collection_date_relative_een_end\")\n",
    "        .assign(\n",
    "            t=lambda x: range(len(x)),\n",
    "        )\n",
    "    ).join(subject_comm)\n",
    "    # d.loc[d.index[:num_offset_samples], 't'] -= 0.7  # Offset width\n",
    "\n",
    "    plot_stacked_barplot(\n",
    "        data=d,\n",
    "        x_var=\"t\",\n",
    "        order=[s for s in strain_order if s in subject_comm.columns],\n",
    "        palette=strain_palette,\n",
    "        ax=ax,\n",
    "        width=0.8,\n",
    "        lw=0.5,\n",
    "    )\n",
    "\n",
    "    ax.set_title(subject_id)\n",
    "    ax.set_xticklabels(\n",
    "        d.sample_type_specific.map(sample_type_specific_relabel),\n",
    "        fontsize=12,\n",
    "    )\n",
    "    ax.set_aspect(9, anchor=\"NW\")\n",
    "    ax.set_ylim(0, 1.0)\n",
    "    lib.plot.rotate_xticklabels(rotation=90, ax=ax, ha=\"center\")\n",
    "    ax.set_yticks(np.linspace(0, 1.0, num=3))\n",
    "    ax.yaxis.set_major_formatter(mtick.PercentFormatter(xmax=1, symbol=\"%\"))\n",
    "    if not d.empty:\n",
    "        ax.set_xlim(d.t.min() - 0.5, d.t.max() + 0.5)\n",
    "    ax.spines[[\"right\", \"top\"]].set_visible(False)"
   ]
  },
  {
   "cell_type": "code",
   "execution_count": null,
   "metadata": {},
   "outputs": [],
   "source": [
    "donor_subject_order = ['D0044', 'D0097', 'D0485']\n",
    "_meta = mgen_meta.loc[strain_fit.sample.values][lambda x:\n",
    "    x.recipient\n",
    "    # & ~x.sra_accession.isna()\n",
    "]\n",
    "\n",
    "for donor in donor_subject_order:\n",
    "    subject_order = _meta[lambda x: x.donor_subject_id == donor].subject_id.value_counts().index    \n",
    "    fig, axs = plt.subplots(1, len(subject_order), figsize=(3 * len(subject_order), 2), squeeze=False, sharey=True)\n",
    "    for subject_id, ax in zip(subject_order, axs.flatten()):\n",
    "        sample_order = (\n",
    "            _meta[\n",
    "                lambda x: (x.subject_id == subject_id)\n",
    "                & (x.index.isin(strain_fit.sample.values))\n",
    "            ]\n",
    "            .sort_values('collection_days_post_fmt')\n",
    "            .index\n",
    "        )\n",
    "    \n",
    "        if len(sample_order) < 1:\n",
    "            subject_comm = pd.DataFrame([], columns=[-1])\n",
    "        else:\n",
    "            subject_comm = (\n",
    "                strain_fit.sel(sample=sample_order).keep_only_strain_list(strain_order)\n",
    "                # .drop_low_abundance_strains(\n",
    "                #     0.0, agg_strain_coord=-1\n",
    "                # )  # TODO: Check that this adds to the alread-existing strain_-1\n",
    "                .community.to_pandas()\n",
    "            )\n",
    "    \n",
    "        d = (\n",
    "            _meta.reindex(sample_order)\n",
    "            # .dropna(subset=[\"collection_date_relative_een_end\"])\n",
    "            # .sort_values(\"collection_date_relative_een_end\")\n",
    "            .assign(\n",
    "                t=lambda x: range(len(x)),\n",
    "            )\n",
    "        ).join(subject_comm)\n",
    "        # d.loc[d.index[:num_offset_samples], 't'] -= 0.7  # Offset width\n",
    "\n",
    "        plot_stacked_barplot(\n",
    "            data=d,\n",
    "            x_var=\"t\",\n",
    "            order=[s for s in strain_order if s in subject_comm.columns],\n",
    "            palette=strain_palette,\n",
    "            ax=ax,\n",
    "            width=0.8,\n",
    "            lw=0.5,\n",
    "        )\n",
    "    \n",
    "        ax.set_title(subject_id)\n",
    "        ax.set_xticklabels(\n",
    "            d.sample_type_specific.map(sample_type_specific_relabel),\n",
    "            fontsize=12,\n",
    "        )\n",
    "        ax.set_aspect(10, anchor=\"NW\")\n",
    "        ax.set_ylim(0, 1.0)\n",
    "        lib.plot.rotate_xticklabels(rotation=90, ax=ax, ha=\"center\")\n",
    "        ax.set_yticks(np.linspace(0, 1.0, num=3))\n",
    "        ax.yaxis.set_major_formatter(mtick.PercentFormatter(xmax=1, symbol=\"%\"))\n",
    "        if not d.empty:\n",
    "            ax.set_xlim(d.t.min() - 0.5, d.t.max() + 0.5)\n",
    "        ax.spines[[\"right\", \"top\"]].set_visible(False)"
   ]
  },
  {
   "cell_type": "markdown",
   "metadata": {},
   "source": [
    "## Dominant strains from donors / recipients"
   ]
  },
  {
   "cell_type": "raw",
   "metadata": {},
   "source": [
    "engrafting_strains = [\n",
    "    '6',  # D44\n",
    "    '38',  # D44\n",
    "    '34',  # D485  * Notice also in persistent strains list\n",
    "    '9',  # D97\n",
    "]\n",
    "not_engrafting_strains = [\n",
    "    '22',  # D44\n",
    "    '33',  # D97  * Notice also in lost strains list\n",
    "    '2',  # D97\n",
    "]\n",
    "persistent_strains = [\n",
    "    '34',  # S55  * Notice also in engrafting strains list\n",
    "    '25', # S60  * Notice also in lost strains list\n",
    "]\n",
    "lost_strains = [\n",
    "    '33',  # D97  * Notice also in not engrafting strains list\n",
    "    '47',  # S27 / S13\n",
    "    '21',  # S24\n",
    "    '20', # S47\n",
    "    '7',  # S21\n",
    "    '25', # S4  * Notice also in persistent strains list\n",
    "]\n",
    "\n",
    "all_strains = list(set(engrafting_strains) | set(not_engrafting_strains) | set(persistent_strains) | set(lost_strains))\n",
    "len(all_strains)"
   ]
  },
  {
   "cell_type": "code",
   "execution_count": null,
   "metadata": {},
   "outputs": [],
   "source": [
    "spgc_meta[lambda x: x.passes_filter & (x.genome_type == 'SPGC')]"
   ]
  },
  {
   "cell_type": "code",
   "execution_count": null,
   "metadata": {},
   "outputs": [],
   "source": [
    "spgc_meta.loc[np.array(focal_strains).astype(str)]"
   ]
  },
  {
   "cell_type": "markdown",
   "metadata": {},
   "source": [
    "## Compare to reference database? (maybe?)"
   ]
  },
  {
   "cell_type": "code",
   "execution_count": null,
   "metadata": {},
   "outputs": [],
   "source": [
    "pd.read_table('ref/midasdb_uhgg_v15/metadata/genomes-all_metadata.tsv').columns"
   ]
  },
  {
   "cell_type": "code",
   "execution_count": null,
   "metadata": {},
   "outputs": [],
   "source": [
    "ref_meta = pd.read_table(\n",
    "    \"ref/midasdb_uhgg_v15/metadata/2023-11-11-genomes-all_metadata.tsv\",\n",
    "    names=[\n",
    "        \"Genome\",\n",
    "        \"Genome_type\",\n",
    "        \"Length\",\n",
    "        \"N_contigs\",\n",
    "        \"N50\",\n",
    "        \"GC_content\",\n",
    "        \"Completeness\",\n",
    "        \"Contamination\",\n",
    "        \"rRNA_5S\",\n",
    "        \"rRNA_16S\",\n",
    "        \"rRNA_23S\",\n",
    "        \"tRNAs\",\n",
    "        \"Genome_accession\",\n",
    "        \"Species_rep\",\n",
    "        \"Lineage\",\n",
    "        \"Sample_accession\",\n",
    "        \"Study_accession\",\n",
    "        \"Country\",\n",
    "        \"Continent\",\n",
    "        \"FTP_download\",\n",
    "        \"_20\",\n",
    "        \"_21\",\n",
    "    ],\n",
    ").set_index('Genome_accession')\n",
    "ref_meta"
   ]
  },
  {
   "cell_type": "code",
   "execution_count": null,
   "metadata": {},
   "outputs": [],
   "source": [
    "geno_pdmat = lib.dissimilarity.load_dmat_as_pickle('data/group/ucfmt/species/sp-102506/r.proc.gtpro.sfacts-fit.spgc_ss-all.geno_uhgg-v15_pdist-mask10-pseudo10.pkl')\n",
    "d = geno_pdmat.loc[spgc_meta.genome_type.isin(['Isolate', 'MAG']), all_strains]\n",
    "pd.DataFrame(dict(min_diss=d.min(), ref=d.idxmin())).assign(Sample_accession=lambda x: ref_meta.loc[x.ref].Sample_accession.values)"
   ]
  },
  {
   "cell_type": "markdown",
   "metadata": {},
   "source": [
    "## Inter-strain differences"
   ]
  },
  {
   "cell_type": "markdown",
   "metadata": {},
   "source": [
    "## Differential Gene Content"
   ]
  },
  {
   "cell_type": "markdown",
   "metadata": {},
   "source": [
    "## Gene Annotations"
   ]
  },
  {
   "cell_type": "code",
   "execution_count": null,
   "metadata": {},
   "outputs": [],
   "source": [
    "gene_content_uhgg = pd.read_table('data/group/ucfmt/species/sp-102506/r.proc.gtpro.sfacts-fit.gene99_v15-v22-agg75.spgc-fit.uhgg-strain_gene.tsv', index_col='gene_id').astype(bool)\n",
    "gene_content_uhgg = gene_content_uhgg.drop(idxwhere(gene_content_uhgg.sum(1) == 0))"
   ]
  },
  {
   "cell_type": "code",
   "execution_count": null,
   "metadata": {},
   "outputs": [],
   "source": [
    "gene_content_eggnog = pd.read_table('data/group/ucfmt/species/sp-102506/r.proc.gtpro.sfacts-fit.gene99_v15-v22-agg75.spgc-fit.eggnog-strain_gene.tsv', index_col='gene_id').astype(bool)\n",
    "gene_content_eggnog = gene_content_eggnog.drop(idxwhere(gene_content_eggnog.sum(1) == 0))"
   ]
  },
  {
   "cell_type": "code",
   "execution_count": null,
   "metadata": {},
   "outputs": [],
   "source": [
    "gene_content_uhgg[focal_strains][lambda x: x.sum(1) > 0].value_counts().sort_index()"
   ]
  },
  {
   "cell_type": "code",
   "execution_count": null,
   "metadata": {},
   "outputs": [],
   "source": [
    "gene_prevalence_ref_eggnog = pd.read_table('data/species/sp-102506/midasdb.gene75_v15.eggnog-strain_gene.prevalence.tsv', names=['gene_id', 'prevalence'], index_col='gene_id').prevalence\n",
    "gene_prevalence_hmp2_eggnog = pd.read_table('data/group/hmp2/species/sp-102506/r.proc.gtpro.sfacts-fit.gene99_v15-v22-agg75.spgc-fit.eggnog-strain_gene.prevalence.tsv', names=['gene_id', 'prevalence'], index_col='gene_id').prevalence"
   ]
  },
  {
   "cell_type": "code",
   "execution_count": null,
   "metadata": {},
   "outputs": [],
   "source": [
    "gene_prevalence_ref_uhgg = pd.read_table('data/species/sp-102506/midasdb.gene75_v15.uhgg-strain_gene.prevalence.tsv', names=['gene_id', 'prevalence'], index_col='gene_id').prevalence\n",
    "gene_prevalence_hmp2_uhgg = pd.read_table('data/group/hmp2/species/sp-102506/r.proc.gtpro.sfacts-fit.gene99_v15-v22-agg75.spgc-fit.uhgg-strain_gene.prevalence.tsv', names=['gene_id', 'prevalence'], index_col='gene_id').prevalence"
   ]
  },
  {
   "cell_type": "code",
   "execution_count": null,
   "metadata": {},
   "outputs": [],
   "source": [
    "d0 = gene_prevalence_hmp2_eggnog.to_frame().join(gene_content_eggnog).groupby(['6', '9']).prevalence\n",
    "\n",
    "fig, axs = plt.subplots(2, 2, sharex=True, sharey=True)\n",
    "bins = np.linspace(0, 1, num=11)\n",
    "for (focal_strain_gene_type, (k, c)), ax in zip({'neither': ((False, False), 'silver'), 'D44': ((True, False), strain_palette['6']), 'D97': ((False, True), strain_palette['9']), 'both': ((True, True), 'black')}.items(), axs.T.flatten()):\n",
    "    d1 = d0.get_group(k)\n",
    "    ax.set_title(focal_strain_gene_type)\n",
    "    ax.hist(d1, bins=bins, density=True, label=focal_strain_gene_type, color=c, alpha=0.5, histtype='stepfilled')\n",
    "    ax.hist(d1, bins=bins, density=True, label=focal_strain_gene_type, color=c, alpha=0.85, histtype='step')\n",
    "    # ax.annotate(len(d1), xy=(0.5, 0.5), xycoords='axes fraction')\n",
    "\n",
    "fig.tight_layout()"
   ]
  },
  {
   "cell_type": "code",
   "execution_count": null,
   "metadata": {},
   "outputs": [],
   "source": [
    "d0 = gene_prevalence_hmp2_uhgg.to_frame().join(gene_content_uhgg).groupby(['6', '9']).prevalence\n",
    "\n",
    "fig, axs = plt.subplots(2, 2, sharex=True, sharey=True)\n",
    "bins = np.linspace(0, 1, num=11)\n",
    "for (focal_strain_gene_type, (k, c)), ax in zip({'neither': ((False, False), 'silver'), 'D44': ((True, False), strain_palette['6']), 'D97': ((False, True), strain_palette['9']), 'both': ((True, True), 'black')}.items(), axs.T.flatten()):\n",
    "    d1 = d0.get_group(k)\n",
    "    ax.set_title(focal_strain_gene_type)\n",
    "    ax.hist(d1, bins=bins, density=True, label=focal_strain_gene_type, color=c, alpha=0.5, histtype='stepfilled')\n",
    "    ax.hist(d1, bins=bins, density=True, label=focal_strain_gene_type, color=c, alpha=0.85, histtype='step')\n",
    "    if not focal_strain_gene_type == 'neither':\n",
    "        ax.annotate(len(d1), xy=(0.5, 0.5), xycoords='axes fraction')\n",
    "\n",
    "fig.tight_layout()"
   ]
  },
  {
   "cell_type": "code",
   "execution_count": null,
   "metadata": {},
   "outputs": [],
   "source": [
    "low_prevalence_genes_in_all_focal_strains = idxwhere(gene_prevalence_hmp2_uhgg[idxwhere(gene_content_uhgg[focal_strains].all(1))] < 0.2)\n",
    "low_prevalence_genes_in_all_focal_strains"
   ]
  },
  {
   "cell_type": "code",
   "execution_count": null,
   "metadata": {},
   "outputs": [],
   "source": [
    "from matplotlib_venn import venn2\n",
    "\n",
    "venn2([set(idxwhere(gene_content_uhgg['6'])),set(idxwhere(gene_content_uhgg['9']))], set_labels=['D44', 'D97'], set_colors=[strain_palette['6'], strain_palette['9']])"
   ]
  },
  {
   "cell_type": "raw",
   "metadata": {},
   "source": [
    "bins = np.linspace(0, 1, num=10)\n",
    "\n",
    "_palette = {'all': 'black', 'engrafting': 'tab:orange', 'not_engrafting': 'tab:blue', 'persistent': 'tab:red', 'lost': 'tab:green'}\n",
    "_lists = {'all': all_strains, 'engrafting': engrafting_strains, 'not_engrafting': not_engrafting_strains, 'persistent': persistent_strains, 'lost': lost_strains}\n",
    "\n",
    "for label in _lists:\n",
    "    plt.hist(gene_content[_lists[label]].mean(1), bins=bins, density=True, histtype='step', alpha=0.8, color=_palette[label], label='__nolegend__')\n",
    "    plt.hist(gene_content[_lists[label]].mean(1), bins=bins, density=True, histtype='stepfilled', alpha=0.3, color=_palette[label], label=label)\n",
    "# plt.hist(gene_content[engrafting_strains].mean(1), bins=bins)\n",
    "# plt.hist(gene_content[not_engrafting_strains].mean(1), bins=bins)\n",
    "# plt.hist(gene_content[persistent_strains].mean(1), bins=bins)\n",
    "# plt.hist(gene_content[lost_strains].mean(1), bins=bins)"
   ]
  },
  {
   "cell_type": "code",
   "execution_count": null,
   "metadata": {},
   "outputs": [],
   "source": [
    "gene_clust = pd.read_table('data/group/hmp2/species/sp-102506/r.proc.gtpro.sfacts-fit.gene99_v15-v22-agg75.spgc-fit.uhgg-strain_gene.gene_clust-t10.tsv', names=['gene_id', 'clust'], index_col='gene_id').clust\n",
    "gene_clust.value_counts()"
   ]
  },
  {
   "cell_type": "code",
   "execution_count": null,
   "metadata": {},
   "outputs": [],
   "source": [
    "gene_content_clust = (\n",
    "    gene_content_uhgg.groupby(gene_clust)\n",
    "    .mean()\n",
    "    .drop([-1, -2, -3, -4], errors=\"ignore\")\n",
    "    .drop(idxwhere(gene_clust.value_counts() <= 1), errors=\"ignore\")\n",
    ")"
   ]
  },
  {
   "cell_type": "code",
   "execution_count": null,
   "metadata": {},
   "outputs": [],
   "source": [
    "# Presence of an HMP2/SPGC defined gene cluster requires 80% of the genes in it to be found in the strain\n",
    "\n",
    "venn2([set(idxwhere(gene_content_clust['6'] > 0.8)),set(idxwhere(gene_content_clust['9'] > 0.8))], set_labels=['D44', 'D97'], set_colors=[strain_palette['6'], strain_palette['9']])"
   ]
  },
  {
   "cell_type": "code",
   "execution_count": null,
   "metadata": {},
   "outputs": [],
   "source": [
    "clust_d44 = set(idxwhere(gene_content_clust['6'] > 0.8))\n",
    "clust_d97 = set(idxwhere(gene_content_clust['9'] > 0.8))"
   ]
  },
  {
   "cell_type": "code",
   "execution_count": null,
   "metadata": {},
   "outputs": [],
   "source": [
    "pd.DataFrame(\n",
    "    dict(\n",
    "        clust_size=gene_clust.value_counts(),\n",
    "        d44_frac=gene_content_clust[\"6\"],\n",
    "        d97_frac=gene_content_clust[\"9\"],\n",
    "    )\n",
    ")[lambda x: (x.d44_frac > 0.8) & (x.d97_frac > 0.8)].sort_values(\n",
    "    \"clust_size\", ascending=False\n",
    ").head(10)"
   ]
  },
  {
   "cell_type": "code",
   "execution_count": null,
   "metadata": {},
   "outputs": [],
   "source": [
    "pd.DataFrame(\n",
    "    dict(\n",
    "        clust_size=gene_clust.value_counts(),\n",
    "        d44_frac=gene_content_clust[\"6\"],\n",
    "        d97_frac=gene_content_clust[\"9\"],\n",
    "    )\n",
    ")[lambda x: (x.d44_frac > 0.8) & (x.d97_frac <= 0.8)].sort_values(\n",
    "    \"clust_size\", ascending=False\n",
    ").head(10)"
   ]
  },
  {
   "cell_type": "code",
   "execution_count": null,
   "metadata": {},
   "outputs": [],
   "source": [
    "pd.DataFrame(\n",
    "    dict(\n",
    "        clust_size=gene_clust.value_counts(),\n",
    "        d44_frac=gene_content_clust[\"6\"],\n",
    "        d97_frac=gene_content_clust[\"9\"],\n",
    "    )\n",
    ")[lambda x: (x.d44_frac <= 0.8) & (x.d97_frac > 0.8)].sort_values(\n",
    "    \"clust_size\", ascending=False\n",
    ").head(10)"
   ]
  },
  {
   "cell_type": "code",
   "execution_count": null,
   "metadata": {},
   "outputs": [],
   "source": [
    "gene_annotation = pd.read_table('data/species/sp-102506/midasdb_v15.gene75_meta.tsv', index_col='gene_id')"
   ]
  },
  {
   "cell_type": "code",
   "execution_count": null,
   "metadata": {},
   "outputs": [],
   "source": [
    "gene_x_cog = pd.read_table('data/species/sp-102506/midasdb_v15.emapper.gene75_x_cog.tsv').drop_duplicates()\n",
    "cog_x_cog_pathway = pd.read_table('ref/cog-20.meta.tsv', encoding='latin1', names=['cog', 'cog_categories', 'description', 'preferred_name', 'cog_pathway', '_5', 'color_hex'], index_col='cog').cog_pathway"
   ]
  },
  {
   "cell_type": "code",
   "execution_count": null,
   "metadata": {},
   "outputs": [],
   "source": [
    "gene_annotation.loc[idxwhere(gene_clust == 534)].join(gene_content_uhgg[['6', '9']])"
   ]
  },
  {
   "cell_type": "code",
   "execution_count": null,
   "metadata": {},
   "outputs": [],
   "source": [
    "gene_annotation.loc[idxwhere(gene_clust == 3003)].join(gene_content_uhgg[['6', '9']])"
   ]
  },
  {
   "cell_type": "code",
   "execution_count": null,
   "metadata": {},
   "outputs": [],
   "source": [
    "gene_annotation.loc[idxwhere(gene_clust == 656)].join(gene_content_uhgg[['6', '9']])"
   ]
  },
  {
   "cell_type": "code",
   "execution_count": null,
   "metadata": {},
   "outputs": [],
   "source": [
    "gene_annotation.loc[low_prevalence_genes_in_all_focal_strains]"
   ]
  },
  {
   "cell_type": "code",
   "execution_count": null,
   "metadata": {},
   "outputs": [],
   "source": [
    "hmp2_strain_meta = pd.read_table('data/group/hmp2/species/sp-102506/r.proc.gtpro.sfacts-fit.gene99_v15-v22-agg75.spgc-fit.strain_meta_for_analysis.tsv', index_col='genome_id')\n",
    "hmp2_strain_list = idxwhere((hmp2_strain_meta.genome_type == 'SPGC') & hmp2_strain_meta.passes_filter)\n",
    "len(hmp2_strain_list)"
   ]
  },
  {
   "cell_type": "code",
   "execution_count": null,
   "metadata": {},
   "outputs": [],
   "source": [
    "hmp2_geno = sf.Metagenotype.load('data/group/hmp2/species/sp-102506/r.proc.gtpro.sfacts-fit.spgc_ss-all.mgtp.nc').rename_coords(sample=str).sel(sample=hmp2_strain_list).to_estimated_genotype().discretized(max_ambiguity=0.1).rename_coords(strain=lambda s: f'hmp2_{s}')\n",
    "ucfmt_geno = sf.Metagenotype.load('data/group/ucfmt/species/sp-102506/r.proc.gtpro.sfacts-fit.spgc_ss-all.mgtp.nc').rename_coords(sample=str).to_estimated_genotype().discretized(max_ambiguity=0.1)\n",
    "\n",
    "combined_geno = sf.Genotype.concat(dict(hmp2=hmp2_geno, ucfmt=ucfmt_geno.sel(strain=focal_strains)), dim='strain', rename=False)\n"
   ]
  },
  {
   "cell_type": "code",
   "execution_count": null,
   "metadata": {},
   "outputs": [],
   "source": [
    "from scripts.calculate_pairwise_genotype_masked_hamming_distance import native_masked_hamming_distance_pdist\n",
    "\n",
    "combined_mgtp_geno_pdist = pd.DataFrame(squareform(native_masked_hamming_distance_pdist(combined_geno.values, pseudo=1)), index=combined_geno.strain, columns=combined_geno.strain)\n",
    "combined_mgtp_geno_linkage = sp.cluster.hierarchy.linkage(squareform(combined_mgtp_geno_pdist), method='average', optimal_ordering=True)"
   ]
  },
  {
   "cell_type": "code",
   "execution_count": null,
   "metadata": {},
   "outputs": [],
   "source": [
    "sf.plot.plot_genotype(combined_geno.sel(position=position_ss), row_linkage_func=lambda w: combined_mgtp_geno_linkage, col_linkage_func=lambda w: position_linkage, row_colors=strain_colors)"
   ]
  },
  {
   "cell_type": "code",
   "execution_count": null,
   "metadata": {},
   "outputs": [],
   "source": [
    "gene_content_hmp2_uhgg = pd.read_table('data/group/hmp2/species/sp-102506/r.proc.gtpro.sfacts-fit.gene99_v15-v22-agg75.spgc-fit.uhgg-strain_gene.tsv', index_col='gene_id')[hmp2_strain_list].astype(bool).rename(columns=lambda s: f'hmp2_{s}')\n",
    "gene_content_ucfmt_uhgg = gene_content_uhgg[focal_strains]  # pd.read_table('data/group/ucfmt/species/sp-102506/r.proc.gtpro.sfacts-fit.gene99_v15-v22-agg75.spgc-fit.uhgg-strain_gene.tsv', index_col='gene_id').astype(bool)\n",
    "gene_content_combined = pd.concat([gene_content_hmp2_uhgg, gene_content_ucfmt_uhgg], axis='columns').fillna(False)"
   ]
  },
  {
   "cell_type": "raw",
   "metadata": {},
   "source": [
    "d = gene_content_combined[\n",
    "    lambda x: (gene_prevalence_hmp2_uhgg > 0.15) & (gene_prevalence_hmp2_uhgg < 0.9)\n",
    "]\n",
    "\n",
    "cg = sns.clustermap(\n",
    "    d,\n",
    "    col_linkage=combined_mgtp_geno_linkage,\n",
    "    metric=\"cosine\",\n",
    "    xticklabels=False,\n",
    "    yticklabels=False,\n",
    "    figsize=(12, 10),\n",
    "    tree_kws=dict(lw=2),\n",
    ")\n",
    "cg.ax_row_dendrogram.set_visible(False)\n",
    "cg.ax_cbar.set_visible(False)\n",
    "\n",
    "d.shape"
   ]
  },
  {
   "cell_type": "code",
   "execution_count": null,
   "metadata": {},
   "outputs": [],
   "source": [
    "d = gene_content_combined[\n",
    "    lambda x: (gene_prevalence_hmp2_uhgg > 0.15) & (gene_prevalence_hmp2_uhgg < 0.9)\n",
    "]\n",
    "\n",
    "cg = sns.clustermap(\n",
    "    d,\n",
    "    col_linkage=combined_mgtp_geno_linkage,\n",
    "    metric=\"cosine\",\n",
    "    xticklabels=False,\n",
    "    yticklabels=False,\n",
    "    figsize=(10, 4),\n",
    "    tree_kws=dict(lw=1),\n",
    "    dendrogram_ratio=0.3,\n",
    ")\n",
    "cg.ax_row_dendrogram.set_visible(False)\n",
    "cg.ax_cbar.set_visible(False)\n",
    "\n",
    "d.shape"
   ]
  },
  {
   "cell_type": "code",
   "execution_count": null,
   "metadata": {},
   "outputs": [],
   "source": [
    "d = gene_content_combined[lambda x: (gene_prevalence_hmp2_uhgg > 0.15) & (gene_prevalence_hmp2_uhgg < 0.9)]\n",
    "\n",
    "cg = sns.clustermap(d, col_linkage=combined_mgtp_geno_linkage, col_colors=strain_colors, metric='cosine', xticklabels=False, yticklabels=False, figsize=(10, 4), tree_kws=dict(lw=1),     dendrogram_ratio=0.3)\n",
    "cg.ax_row_dendrogram.set_visible(False)\n",
    "cg.ax_cbar.set_visible(False)"
   ]
  },
  {
   "cell_type": "code",
   "execution_count": null,
   "metadata": {},
   "outputs": [],
   "source": [
    "combined_gene_content_pdist = lib.dissimilarity.dmatrix(gene_content_combined[\n",
    "    lambda x: (gene_prevalence_hmp2_uhgg > 0.15) & (gene_prevalence_hmp2_uhgg < 0.9)\n",
    "].T, metric='jaccard')\n",
    "\n",
    "_strain_list = combined_gene_content_pdist.index\n",
    "_x = squareform(combined_mgtp_geno_pdist.loc[_strain_list, _strain_list])\n",
    "_y = squareform(combined_gene_content_pdist.loc[_strain_list, _strain_list])\n",
    "\n",
    "sp.stats.pearsonr(_x, _y)"
   ]
  },
  {
   "cell_type": "code",
   "execution_count": null,
   "metadata": {},
   "outputs": [],
   "source": [
    "sns.clustermap(combined_mgtp_geno_pdist, row_linkage=combined_mgtp_geno_linkage, col_linkage=combined_mgtp_geno_linkage, col_colors=strain_colors, row_colors=strain_colors, )"
   ]
  },
  {
   "cell_type": "code",
   "execution_count": null,
   "metadata": {},
   "outputs": [],
   "source": [
    "gene_x_cog_category_matrix = pd.read_table('data/species/sp-102506/midasdb_v15.emapper.gene75_x_cog_category.tsv').assign(flag=True).set_index(['centroid_75', 'cog_category']).flag.unstack('cog_category', fill_value=False)"
   ]
  },
  {
   "cell_type": "raw",
   "metadata": {},
   "source": [
    "pd.DataFrame.set_index("
   ]
  },
  {
   "cell_type": "raw",
   "metadata": {},
   "source": [
    "import upsetplot\n",
    "from upsetplot import UpSet\n",
    "\n",
    "d0 = gene_content_ucfmt_uhgg[focal_strains][lambda x: x.sum(1) > 0]\n",
    "d1 = (\n",
    "    d0.assign(\n",
    "        prevalence=gene_prevalence_hmp2_uhgg,\n",
    "        function=gene_x_cog_category_matrix['N'],\n",
    "    )\n",
    "    .reset_index()\n",
    "    .set_index(focal_strains, drop=False)\n",
    "    # [lambda x: x[focal_strains].apply(lambda y: (y.values == np.array((True, True, False, False))).all(), axis=1)]\n",
    ")\n",
    "\n",
    "# fig = plt.figure(figsize=(10, 10))\n",
    "upset = UpSet(\n",
    "    data=d1,\n",
    "    sort_by=\"-degree\",\n",
    "    orientation=\"vertical\",\n",
    "    sort_categories_by=\"input\",\n",
    "    subset_size=\"count\",\n",
    "    intersection_plot_elements=2,\n",
    "    # element_size=80,\n",
    "    # element_size=10,\n",
    "    totals_plot_elements=2,\n",
    ")\n",
    "upset.add_catplot(value=\"prevalence\", kind=\"boxen\", color=\"grey\", showfliers=False, elements=4)\n",
    "# upset.add_stacked_bars('function')\n",
    "upset"
   ]
  },
  {
   "cell_type": "raw",
   "metadata": {},
   "source": [
    "d0 = gene_content_ucfmt_uhgg[focal_strains][lambda x: x.sum(1) > 0]\n",
    "d1 = (\n",
    "    d0.assign(\n",
    "        prevalence=gene_prevalence_hmp2_uhgg,\n",
    "        function=gene_x_cog_category_matrix['N'],\n",
    "    )\n",
    "    .reset_index()\n",
    "    # .set_index(focal_strains, drop=False)\n",
    "    # [lambda x: x[focal_strains].apply(lambda y: (y.values == np.array((True, True, False, False))).all(), axis=1)]\n",
    "    .groupby(focal_strains)\n",
    ")\n",
    "\n",
    "d2 = pd.concat(d1.get_group(k) for k in [(True, True, True, True), (True, True, False, False), (False, False, True, True), (False, False, True, False), (False, False, False, True)]).set_index(focal_strains, drop=False)\n",
    "\n",
    "# fig = plt.figure(figsize=(10, 10))\n",
    "upset = UpSet(\n",
    "    data=d2,\n",
    "    sort_by=\"-input\",\n",
    "    orientation=\"horizontal\",\n",
    "    sort_categories_by=\"input\",\n",
    "    subset_size=\"count\",\n",
    "    intersection_plot_elements=2,\n",
    "    # element_size=80,\n",
    "    # element_size=10,\n",
    "    totals_plot_elements=2,\n",
    ")\n",
    "upset.add_catplot(value=\"prevalence\", kind=\"boxen\", color=\"grey\", showfliers=False, elements=4)\n",
    "upset"
   ]
  },
  {
   "cell_type": "code",
   "execution_count": null,
   "metadata": {},
   "outputs": [],
   "source": [
    "d0 = gene_content_ucfmt_uhgg[focal_strains][lambda x: x.sum(1) > 0]\n",
    "d1 = (\n",
    "    d0.assign(\n",
    "        prevalence=gene_prevalence_hmp2_uhgg,\n",
    "        cat_n=gene_x_cog_category_matrix['N'],\n",
    "        cat_x=gene_x_cog_category_matrix['X'],\n",
    "        cat_u=gene_x_cog_category_matrix['U'],\n",
    "        # cat_code=lambda x: x.cat_n * 1 + x.cat_x * 2\n",
    "    )\n",
    "    .fillna({'cat_n': False, 'cat_x': False, 'cat_u': False})\n",
    "    .reset_index()\n",
    "    # .set_index(focal_strains, drop=False)\n",
    "    # [lambda x: x[focal_strains].apply(lambda y: (y.values == np.array((True, True, False, False))).all(), axis=1)]\n",
    "    .groupby(focal_strains)\n",
    ")\n",
    "\n",
    "set_to_label = {(True, True, True, True): 'all_4_strains', (True, True, False, False): 'in_high_only', (False, False, True, True): 'not_in_high', (False, False, True, False): 'not_in_high', (False, False, False, True): 'not_in_high'}\n",
    "d2 = pd.concat(d1.get_group(k).assign(label=label) for k, label in set_to_label.items()).assign(pos=lambda x: x.label.map({'all_4_strains': 0, 'in_high_only': 1, 'not_in_high': 2}))\n",
    "\n",
    "cat_n_fraction = d2[['pos', 'cat_n']].value_counts() / d2[['pos']].value_counts()\n",
    "cat_x_fraction = d2[['pos', 'cat_x']].value_counts() / d2[['pos']].value_counts()\n",
    "cat_u_fraction = d2[['pos', 'cat_u']].value_counts() / d2[['pos']].value_counts()\n",
    "\n",
    "fig, axs = plt.subplots(4, sharex=True, figsize=(6, 10), gridspec_kw=dict(height_ratios=(0.15, 0.15, 0.4, 0.25)))\n",
    "\n",
    "sns.barplot(x='pos', y='count', data=d2['pos'].value_counts().reset_index(), ax=axs[3], color='grey', linewidth=2, edgecolor='black')\n",
    "sns.boxenplot(x='pos', y='prevalence', data=d2, ax=axs[2], showfliers=False, color='grey', linewidth=2, linecolor='black')\n",
    "sns.barplot(x='pos', y='count', data=cat_n_fraction.xs(True, level='cat_n').reset_index(), ax=axs[1], color='tab:blue', edgecolor='tab:blue', alpha=0.8, lw=2)\n",
    "sns.barplot(x='pos', y='count', data=cat_x_fraction.xs(True, level='cat_x').reset_index(), ax=axs[0], color='tab:orange', edgecolor='tab:orange', alpha=0.8, lw=2)\n",
    "\n",
    "for i in [0, 1]:\n",
    "    axs[i].set_ylim(0, 0.15)"
   ]
  },
  {
   "cell_type": "code",
   "execution_count": null,
   "metadata": {},
   "outputs": [],
   "source": [
    "d2.groupby('label').prevalence.quantile([0.25, 0.5, 0.75])"
   ]
  },
  {
   "cell_type": "raw",
   "metadata": {},
   "source": [
    "import upsetplot\n",
    "from upsetplot import UpSet\n",
    "\n",
    "d0 = gene_content_ucfmt_uhgg[focal_strains][lambda x: x.sum(1) > 0]\n",
    "d1 = (\n",
    "    d0.assign(\n",
    "        prevalence=gene_prevalence_hmp2_uhgg,\n",
    "        function=gene_x_cog_category_matrix['N'],\n",
    "    )\n",
    "    .reset_index()\n",
    "    # .set_index(focal_strains, drop=False)\n",
    "    # [lambda x: x[focal_strains].apply(lambda y: (y.values == np.array((True, True, False, False))).all(), axis=1)]\n",
    ")\n",
    "\n",
    "# fig = plt.figure(figsize=(10, 10))\n",
    "upset = UpSet(\n",
    "    data=d1,\n",
    "    sort_by=\"-degree\",\n",
    "    orientation=\"vertical\",\n",
    "    sort_categories_by=\"input\",\n",
    "    subset_size=\"count\",\n",
    "    intersection_plot_elements=2,\n",
    "    # element_size=80,\n",
    "    # element_size=10,\n",
    "    totals_plot_elements=2,\n",
    ")\n",
    "upset.add_catplot(value=\"prevalence\", kind=\"boxen\", color=\"grey\", showfliers=False, elements=4)\n",
    "# upset.add_stacked_bars('function')\n",
    "upset"
   ]
  },
  {
   "cell_type": "raw",
   "metadata": {},
   "source": [
    "engrafting_only_genes = idxwhere((gene_content_ucfmt_uhgg[['6', '9']].sum(1) == 2) & (gene_content_ucfmt_uhgg[['38', '33']].sum(1) == 0))\n",
    "not_engrafting_only_genes = idxwhere((gene_content_ucfmt_uhgg[['38', '33']].sum(1) == 2) & (gene_content_ucfmt_uhgg[['6', '9']].sum(1) == 0))\n",
    "\n",
    "len(engrafting_only_genes), len(not_engrafting_only_genes), len(set(engrafting_only_genes) & set(not_engrafting_only_genes))"
   ]
  },
  {
   "cell_type": "raw",
   "metadata": {},
   "source": [
    "plt.hist(gene_prevalence_hmp2_uhgg.loc[engrafting_only_genes])\n",
    "plt.hist(gene_prevalence_hmp2_uhgg.loc[not_engrafting_only_genes])"
   ]
  },
  {
   "cell_type": "raw",
   "metadata": {},
   "source": [
    "pd.read_table('data/species/sp-102506/midasdb_v15.gene75_x_amr.tsv')[lambda x: x.centroid_75.isin(engrafting_only_genes)]"
   ]
  },
  {
   "cell_type": "raw",
   "metadata": {},
   "source": [
    "pd.read_table('data/species/sp-102506/midasdb_v15.gene75_x_genomad_virus.tsv')[lambda x: x.centroid_75.isin(engrafting_only_genes)]"
   ]
  },
  {
   "cell_type": "markdown",
   "metadata": {},
   "source": [
    "## HE-associated clusters"
   ]
  },
  {
   "cell_type": "code",
   "execution_count": null,
   "metadata": {},
   "outputs": [],
   "source": [
    "d0 = gene_content_ucfmt_uhgg[focal_strains][lambda x: x.sum(1) > 0]\n",
    "d1 = (\n",
    "    d0.assign(\n",
    "        prevalence=gene_prevalence_hmp2_uhgg,\n",
    "        clust=gene_clust,\n",
    "    )\n",
    "    .reset_index()\n",
    "    # .set_index(focal_strains, drop=False)\n",
    "    # [lambda x: x[focal_strains].apply(lambda y: (y.values == np.array((True, True, False, False))).all(), axis=1)]\n",
    "    .groupby(focal_strains)\n",
    ")\n",
    "\n",
    "set_to_label = {(True, True, True, True): 'all_4_strains', (True, True, False, False): 'in_high_only', (False, False, True, True): 'not_in_high', (False, False, True, False): 'not_in_high', (False, False, False, True): 'not_in_high'}\n",
    "d2 = pd.concat(d1.get_group(k).assign(label=label) for k, label in set_to_label.items()).assign(pos=lambda x: x.label.map({'all_4_strains': 0, 'in_high_only': 1, 'not_in_high': 2}))\n",
    "\n",
    "d2.groupby(['clust', 'label']).prevalence.agg(['median', 'count']).unstack('label', fill_value=0).reorder_levels([1, 0], axis='columns').sort_index(axis='columns').sort_values(('in_high_only', 'count'), ascending=False).assign(clust_size=gene_clust.value_counts()).head(10)"
   ]
  },
  {
   "cell_type": "code",
   "execution_count": null,
   "metadata": {},
   "outputs": [],
   "source": [
    "clust = 2594\n",
    "\n",
    "print(gene_x_cog_category_matrix.reindex(idxwhere(gene_clust == clust)).sum().sort_values(ascending=False).head(5))\n",
    "gene_annotation.loc[idxwhere(gene_clust == clust)].join(gene_content_uhgg[focal_strains]).sort_values('Preferred_name')"
   ]
  },
  {
   "cell_type": "code",
   "execution_count": null,
   "metadata": {},
   "outputs": [],
   "source": [
    "clust = 805\n",
    "\n",
    "print(gene_x_cog_category_matrix.reindex(idxwhere(gene_clust == clust)).sum().sort_values(ascending=False).head(5))\n",
    "gene_annotation.loc[idxwhere(gene_clust == clust)].join(gene_content_uhgg[focal_strains]).sort_values('Preferred_name')"
   ]
  },
  {
   "cell_type": "code",
   "execution_count": null,
   "metadata": {},
   "outputs": [],
   "source": [
    "clust = 1751\n",
    "\n",
    "print(gene_x_cog_category_matrix.reindex(idxwhere(gene_clust == clust)).sum().sort_values(ascending=False).head(5))\n",
    "gene_annotation.loc[idxwhere(gene_clust == clust)].join(gene_content_uhgg[focal_strains]).sort_values('Preferred_name')"
   ]
  },
  {
   "cell_type": "code",
   "execution_count": null,
   "metadata": {},
   "outputs": [],
   "source": [
    "clust = 806\n",
    "\n",
    "print(gene_x_cog_category_matrix.reindex(idxwhere(gene_clust == clust)).sum().sort_values(ascending=False).head(5))\n",
    "gene_annotation.loc[idxwhere(gene_clust == clust)].join(gene_content_uhgg[focal_strains]).sort_values('Preferred_name')"
   ]
  },
  {
   "cell_type": "code",
   "execution_count": null,
   "metadata": {},
   "outputs": [],
   "source": [
    "clust = 1250\n",
    "\n",
    "print(gene_x_cog_category_matrix.reindex(idxwhere(gene_clust == clust)).sum().sort_values(ascending=False).head(5))\n",
    "gene_annotation.loc[idxwhere(gene_clust == clust)].join(gene_content_uhgg[focal_strains]).sort_values('Preferred_name')"
   ]
  },
  {
   "cell_type": "code",
   "execution_count": null,
   "metadata": {},
   "outputs": [],
   "source": [
    "clust = 2808\n",
    "\n",
    "print(gene_x_cog_category_matrix.reindex(idxwhere(gene_clust == clust)).sum().sort_values(ascending=False).head(5))\n",
    "gene_annotation.loc[idxwhere(gene_clust == clust)].join(gene_content_uhgg[focal_strains]).sort_values('Preferred_name')"
   ]
  },
  {
   "cell_type": "code",
   "execution_count": null,
   "metadata": {},
   "outputs": [],
   "source": [
    "clust = 2891\n",
    "\n",
    "print(gene_x_cog_category_matrix.reindex(idxwhere(gene_clust == clust)).sum().sort_values(ascending=False).head(5))\n",
    "gene_annotation.loc[idxwhere(gene_clust == clust)].join(gene_content_uhgg[focal_strains]).sort_values('Preferred_name')"
   ]
  },
  {
   "cell_type": "code",
   "execution_count": null,
   "metadata": {},
   "outputs": [],
   "source": [
    "clust = 2820\n",
    "\n",
    "print(gene_x_cog_category_matrix.reindex(idxwhere(gene_clust == clust)).sum().sort_values(ascending=False).head(5))\n",
    "gene_annotation.loc[idxwhere(gene_clust == clust)].join(gene_content_uhgg[focal_strains]).sort_values('Preferred_name')"
   ]
  },
  {
   "cell_type": "markdown",
   "metadata": {},
   "source": [
    "## D44 vs. D97 HE-associated clusters"
   ]
  },
  {
   "cell_type": "code",
   "execution_count": null,
   "metadata": {},
   "outputs": [],
   "source": [
    "gene_content_ucfmt_uhgg[['6', '9']].value_counts()"
   ]
  },
  {
   "cell_type": "markdown",
   "metadata": {},
   "source": [
    "### D44"
   ]
  },
  {
   "cell_type": "code",
   "execution_count": null,
   "metadata": {},
   "outputs": [],
   "source": [
    "d0 = gene_content_ucfmt_uhgg[['6', '9']][lambda x: x.sum(1) > 0]\n",
    "d1 = (\n",
    "    d0.assign(\n",
    "        prevalence=gene_prevalence_hmp2_uhgg,\n",
    "        clust=gene_clust,\n",
    "    )\n",
    "    .reset_index()\n",
    "    # .set_index(focal_strains, drop=False)\n",
    "    # [lambda x: x[focal_strains].apply(lambda y: (y.values == np.array((True, True, False, False))).all(), axis=1)]\n",
    "    .groupby(['6', '9'])\n",
    ")\n",
    "\n",
    "set_to_label = {(True, False): 'd44_only', (False, True): 'd97_only'}\n",
    "d2 = pd.concat(d1.get_group(k).assign(label=label) for k, label in set_to_label.items())\n",
    "\n",
    "d2.groupby(['clust', 'label']).prevalence.agg(['median', 'count']).unstack('label', fill_value=0).reorder_levels([1, 0], axis='columns').sort_index(axis='columns').sort_values(('d44_only', 'count'), ascending=False).assign(clust_size=gene_clust.value_counts()).head(15)"
   ]
  },
  {
   "cell_type": "code",
   "execution_count": null,
   "metadata": {},
   "outputs": [],
   "source": [
    "clust = 1252\n",
    "\n",
    "print(gene_x_cog_category_matrix.reindex(idxwhere(gene_clust == clust)).sum().sort_values(ascending=False).head(5))\n",
    "gene_annotation.loc[idxwhere(gene_clust == clust)].join(gene_content_uhgg[focal_strains]).sort_values('Preferred_name')"
   ]
  },
  {
   "cell_type": "code",
   "execution_count": null,
   "metadata": {},
   "outputs": [],
   "source": [
    "clust = 698\n",
    "\n",
    "print(gene_x_cog_category_matrix.reindex(idxwhere(gene_clust == clust)).sum().sort_values(ascending=False).head(5))\n",
    "gene_annotation.loc[idxwhere(gene_clust == clust)].join(gene_content_uhgg[focal_strains]).sort_values('Preferred_name')"
   ]
  },
  {
   "cell_type": "markdown",
   "metadata": {},
   "source": [
    "### D97"
   ]
  },
  {
   "cell_type": "code",
   "execution_count": null,
   "metadata": {},
   "outputs": [],
   "source": [
    "d0 = gene_content_ucfmt_uhgg[['6', '9']][lambda x: x.sum(1) > 0]\n",
    "d1 = (\n",
    "    d0.assign(\n",
    "        prevalence=gene_prevalence_hmp2_uhgg,\n",
    "        clust=gene_clust,\n",
    "    )\n",
    "    .reset_index()\n",
    "    # .set_index(focal_strains, drop=False)\n",
    "    # [lambda x: x[focal_strains].apply(lambda y: (y.values == np.array((True, True, False, False))).all(), axis=1)]\n",
    "    .groupby(['6', '9'])\n",
    ")\n",
    "\n",
    "set_to_label = {(True, False): 'd44_only', (False, True): 'd97_only'}\n",
    "d2 = pd.concat(d1.get_group(k).assign(label=label) for k, label in set_to_label.items())\n",
    "\n",
    "d2.groupby(['clust', 'label']).prevalence.agg(['median', 'count']).unstack('label', fill_value=0).reorder_levels([1, 0], axis='columns').sort_index(axis='columns').sort_values(('d97_only', 'count'), ascending=False).assign(clust_size=gene_clust.value_counts()).head(10)"
   ]
  },
  {
   "cell_type": "code",
   "execution_count": null,
   "metadata": {},
   "outputs": [],
   "source": [
    "clust = 1102\n",
    "\n",
    "print(gene_x_cog_category_matrix.reindex(idxwhere(gene_clust == clust)).sum().sort_values(ascending=False).head(5))\n",
    "gene_annotation.loc[idxwhere(gene_clust == clust)].join(gene_content_uhgg[focal_strains]).sort_values('Preferred_name')"
   ]
  },
  {
   "cell_type": "code",
   "execution_count": null,
   "metadata": {},
   "outputs": [],
   "source": [
    "clust = 3003\n",
    "\n",
    "print(gene_x_cog_category_matrix.reindex(idxwhere(gene_clust == clust)).sum().sort_values(ascending=False).head(5))\n",
    "gene_annotation.loc[idxwhere(gene_clust == clust)].join(gene_content_uhgg[focal_strains]).sort_values('Preferred_name')"
   ]
  },
  {
   "cell_type": "markdown",
   "metadata": {},
   "source": [
    "## GO-term enrichment"
   ]
  },
  {
   "cell_type": "code",
   "execution_count": null,
   "metadata": {},
   "outputs": [],
   "source": [
    "gene_x_go = pd.read_table('data/species/sp-102506/midasdb_v15.emapper.gene75_x_go.tsv')\n",
    "gene_x_go"
   ]
  },
  {
   "cell_type": "code",
   "execution_count": null,
   "metadata": {},
   "outputs": [],
   "source": [
    "d0 = gene_content_ucfmt_uhgg[focal_strains][lambda x: x.sum(1) > 0]\n",
    "d1 = (\n",
    "    d0.assign(\n",
    "        prevalence=gene_prevalence_hmp2_uhgg,\n",
    "    ).groupby(focal_strains)\n",
    "    # .reset_index()\n",
    "    # .set_index(focal_strains, drop=False)\n",
    "    # [lambda x: x[focal_strains].apply(lambda y: (y.values == np.array((True, True, False, False))).all(), axis=1)]\n",
    ")\n",
    "\n",
    "high_strain_gene = d1.get_group((True, True, False, False)).index\n",
    "not_high_strain_gene = pd.concat([d1.get_group((False, False, True, True)), d1.get_group((False, False, True, False)), d1.get_group((False, False, False, True))]).index\n",
    "print(len(high_strain_gene), len(not_high_strain_gene))\n",
    "\n",
    "d2 = (\n",
    "    gene_x_go.set_index([\"centroid_75\", \"go\"])\n",
    "    .assign(flag=True)\n",
    "    .flag.unstack(\"go\", fill_value=False)\n",
    "    .assign(\n",
    "        which_strain_set=lambda x: np.where(\n",
    "            x.index.isin(high_strain_gene),\n",
    "            \"high\",\n",
    "            np.where(x.index.isin(not_high_strain_gene), \"not_high\", np.nan),\n",
    "        )\n",
    "    )[lambda x: x.which_strain_set.isin([\"high\", \"not_high\"])]\n",
    ")\n",
    "\n",
    "go_term_list = idxwhere(d2.drop(['which_strain_set'], axis='columns').sum() > 3)\n",
    "print(len(go_term_list))\n",
    "\n",
    "results = []\n",
    "for go_term in go_term_list:\n",
    "    d3 = d2[[go_term, 'which_strain_set']].value_counts().unstack().reindex(index=[False, True], columns=['high', 'not_high']).fillna(0)\n",
    "    contingency_pc = d3 + 1\n",
    "    log2_odds_ratio_pc = np.log2((contingency_pc.loc[True, 'high'] / contingency_pc.loc[True, 'not_high']) / (contingency_pc.loc[False, 'high'] / contingency_pc.loc[False, 'not_high']))\n",
    "    results.append((go_term, contingency_pc.loc[True, 'high'], log2_odds_ratio_pc, sp.stats.fisher_exact(d3)[1],))\n",
    "\n",
    "results = pd.DataFrame(results, columns=['go_term', 'tally', 'log2_odds_ratio_pc', 'pvalue'])"
   ]
  },
  {
   "cell_type": "code",
   "execution_count": null,
   "metadata": {},
   "outputs": [],
   "source": [
    "results.assign(fdr=lambda x: fdrcorrection(x.pvalue)[1]).sort_values('pvalue').head(20)"
   ]
  },
  {
   "cell_type": "code",
   "execution_count": null,
   "metadata": {},
   "outputs": [],
   "source": [
    "d0 = (\n",
    "    gene_x_cog_category_matrix\n",
    "    .assign(\n",
    "        which_strain_set=lambda x: np.where(\n",
    "            x.index.isin(high_strain_gene),\n",
    "            \"high\",\n",
    "            np.where(x.index.isin(not_high_strain_gene), \"not_high\", np.nan),\n",
    "        )\n",
    "    )[lambda x: x.which_strain_set.isin([\"high\", \"not_high\"])]\n",
    ")\n",
    "\n",
    "results = []\n",
    "for cog_category in gene_x_cog_category_matrix.columns:\n",
    "    d1 = d0[[cog_category, 'which_strain_set']].value_counts().unstack().reindex(index=[False, True], columns=['high', 'not_high']).fillna(0)\n",
    "    contingency_pc = d1 + 0\n",
    "    log2_odds_ratio_pc = np.log2((contingency_pc.loc[True, 'high'] / contingency_pc.loc[True, 'not_high']) / (contingency_pc.loc[False, 'high'] / contingency_pc.loc[False, 'not_high']))\n",
    "    results.append((cog_category, contingency_pc.loc[True, 'high'], log2_odds_ratio_pc, sp.stats.fisher_exact(d1)[1],))\n",
    "\n",
    "results = pd.DataFrame(results, columns=['cog_category', 'tally', 'log2_odds_ratio_pc', 'pvalue']).assign(fdr=lambda x: fdrcorrection(x.pvalue)[1])\n",
    "\n",
    "results.sort_values('pvalue').head(20)"
   ]
  }
 ],
 "metadata": {
  "kernelspec": {
   "display_name": "toolz4",
   "language": "python",
   "name": "toolz4"
  },
  "language_info": {
   "codemirror_mode": {
    "name": "ipython",
    "version": 3
   },
   "file_extension": ".py",
   "mimetype": "text/x-python",
   "name": "python",
   "nbconvert_exporter": "python",
   "pygments_lexer": "ipython3",
   "version": "3.10.13"
  }
 },
 "nbformat": 4,
 "nbformat_minor": 5
}