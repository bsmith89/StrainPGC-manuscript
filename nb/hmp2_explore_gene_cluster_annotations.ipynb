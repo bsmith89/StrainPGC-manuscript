{
 "cells": [
  {
   "cell_type": "markdown",
   "metadata": {},
   "source": [
    "## Preamble"
   ]
  },
  {
   "cell_type": "markdown",
   "metadata": {},
   "source": [
    "### Project Template"
   ]
  },
  {
   "cell_type": "code",
   "execution_count": null,
   "metadata": {},
   "outputs": [],
   "source": [
    "%load_ext autoreload"
   ]
  },
  {
   "cell_type": "code",
   "execution_count": null,
   "metadata": {},
   "outputs": [],
   "source": [
    "import os as _os\n",
    "\n",
    "_os.chdir(_os.environ[\"PROJECT_ROOT\"])\n",
    "_os.path.realpath(_os.path.curdir)"
   ]
  },
  {
   "cell_type": "markdown",
   "metadata": {},
   "source": [
    "### Imports"
   ]
  },
  {
   "cell_type": "code",
   "execution_count": null,
   "metadata": {},
   "outputs": [],
   "source": [
    "import os\n",
    "import subprocess\n",
    "import sys\n",
    "import time\n",
    "from datetime import datetime\n",
    "from glob import glob\n",
    "from itertools import chain, product\n",
    "from tempfile import mkstemp\n",
    "\n",
    "import matplotlib as mpl\n",
    "import matplotlib.pyplot as plt\n",
    "import numpy as np\n",
    "import pandas as pd\n",
    "import scipy as sp\n",
    "import seaborn as sns\n",
    "import sfacts as sf\n",
    "import statsmodels.api as sm\n",
    "import statsmodels.formula.api as smf\n",
    "import xarray as xr\n",
    "from mpl_toolkits.axes_grid1 import make_axes_locatable\n",
    "from statsmodels.stats.multitest import fdrcorrection\n",
    "from tqdm import tqdm\n",
    "\n",
    "import lib.plot\n",
    "from lib.dissimilarity import load_dmat_as_pickle\n",
    "from lib.pandas_util import align_indexes, aligned_index, idxwhere, invert_mapping"
   ]
  },
  {
   "cell_type": "code",
   "execution_count": null,
   "metadata": {},
   "outputs": [],
   "source": [
    "import lib.thisproject.data"
   ]
  },
  {
   "cell_type": "markdown",
   "metadata": {},
   "source": [
    "### Set Style"
   ]
  },
  {
   "cell_type": "code",
   "execution_count": null,
   "metadata": {},
   "outputs": [],
   "source": [
    "sns.set_context(\"talk\")\n",
    "plt.rcParams[\"figure.dpi\"] = 100"
   ]
  },
  {
   "cell_type": "markdown",
   "metadata": {},
   "source": [
    "## Metadata"
   ]
  },
  {
   "cell_type": "code",
   "execution_count": null,
   "metadata": {},
   "outputs": [],
   "source": [
    "species_list = (\n",
    "    pd.read_table(\"meta/species_group.tsv\")[\n",
    "        lambda x: x.species_group_id == \"hmp2\"\n",
    "    ]\n",
    "    .species_id.astype(str)\n",
    "    .unique()\n",
    ")"
   ]
  },
  {
   "cell_type": "code",
   "execution_count": null,
   "metadata": {},
   "outputs": [],
   "source": [
    "def parse_taxonomy_string(taxonomy_string):\n",
    "    values = taxonomy_string.split(\";\")\n",
    "    return pd.Series(values, index=[\"d__\", \"p__\", \"c__\", \"o__\", \"f__\", \"g__\", \"s__\"])"
   ]
  },
  {
   "cell_type": "code",
   "execution_count": null,
   "metadata": {},
   "outputs": [],
   "source": [
    "species_taxonomy_inpath = \"ref/uhgg_genomes_all_v2.tsv\"\n",
    "\n",
    "species_taxonomy = (\n",
    "    pd.read_table(species_taxonomy_inpath)[lambda x: x.Genome == x.Species_rep]\n",
    "    .assign(species_id=lambda x: \"1\" + x.MGnify_accession.str.split(\"-\").str[2])\n",
    "    .set_index(\"species_id\")\n",
    "    .Lineage.apply(parse_taxonomy_string)\n",
    ")\n",
    "species_taxonomy"
   ]
  },
  {
   "cell_type": "code",
   "execution_count": null,
   "metadata": {},
   "outputs": [],
   "source": [
    "phylum_order = [\n",
    "    \"p__Euryarchaeota\",\n",
    "    \"p__Thermoplasmatota\",\n",
    "    \"p__Firmicutes\",\n",
    "    \"p__Firmicutes_A\",\n",
    "    \"p__Firmicutes_C\",\n",
    "    # \"p__Firmicutes_B\", # None in species_list1\n",
    "    # \"p__Firmicutes_G\", # B/G/I not sure how related to C or A\n",
    "    # \"p__Firmicutes_I\", #\n",
    "    # \"p__Cyanobacteria\", # None in species_list1\n",
    "    \"p__Actinobacteriota\",\n",
    "    \"p__Synergistota\",\n",
    "    \"p__Fusobacteriota\",\n",
    "    \"p__Campylobacterota\",\n",
    "    \"p__Proteobacteria\",\n",
    "    \"p__Desulfobacterota_A\",\n",
    "    \"p__Bacteroidota\",\n",
    "    \"p__Verrucomicrobiota\",\n",
    "    # \"dummy0\", # 18\n",
    "    # \"dummy1\", # 19\n",
    "    # \"dummy2\", # 20\n",
    "]\n",
    "\n",
    "phylum_palette = lib.plot.construct_ordered_palette(\n",
    "    phylum_order,\n",
    "    cm=\"rainbow\",\n",
    "    desaturate_levels=[1.0, 0.5],\n",
    ")\n",
    "\n",
    "for p__ in phylum_order:\n",
    "    print(p__, phylum_palette[p__])\n",
    "    plt.scatter([], [], color=phylum_palette[p__], label=p__)\n",
    "plt.legend(ncols=4)\n",
    "lib.plot.hide_axes_and_spines()\n",
    "\n",
    "# assert len(set(phylum_palette.values())) == len((phylum_palette.values()))"
   ]
  },
  {
   "cell_type": "markdown",
   "metadata": {},
   "source": [
    "## Analysis"
   ]
  },
  {
   "cell_type": "code",
   "execution_count": null,
   "metadata": {},
   "outputs": [],
   "source": [
    "species = '103166'\n",
    "\n",
    "cog_category_inpath = f'data/species/sp-{species}/midasdb_v15.emapper.gene75_x_cog_category.tsv'\n",
    "eggnog_inpath = f'data/species/sp-{species}/midasdb_v15.emapper.gene75_x_eggnog.tsv'\n",
    "ko_inpath = f'data/species/sp-{species}/midasdb_v15.emapper.gene75_x_ko.tsv'\n",
    "amr_inpath = f'data/species/sp-{species}/midasdb_v15.gene75_x_amr.tsv'\n",
    "plasmid_inpath = f'data/species/sp-{species}/midasdb_v15.gene75_x_genomad_plasmid.tsv'\n",
    "phage_inpath = f'data/species/sp-{species}/midasdb_v15.gene75_x_genomad_virus.tsv'\n",
    "emapper_inpath = f'ref/midasdb_uhgg_v15/pangenomes/{species}/eggnog.tsv'\n",
    "clust_inpath = f'data/group/hmp2/species/sp-{species}/r.proc.gtpro.sfacts-fit.gene99_v15-v22-agg75.spgc-fit.uhgg-strain_gene.gene_clust-t10.tsv'\n",
    "gene_family_inpath = f'ref/midasdb_uhgg_v15/pangenomes/{species}/gene_info.txt'\n",
    "morans_i_inpath = f'data/group/hmp2/species/sp-{species}/r.proc.gtpro.sfacts-fit.gene99_v15-v22-agg75.spgc-fit.uhgg-strain_gene.morans_i.tsv'\n",
    "prevalence_inpath = f'data/group/hmp2/species/sp-{species}/r.proc.gtpro.sfacts-fit.gene99_v15-v22-agg75.spgc-fit.uhgg-strain_gene.prevalence.tsv'\n",
    "kegg_module_inpath = f'data/species/sp-{species}/midasdb_v15.emapper.gene75_x_kegg_module.tsv'\n",
    "\n",
    "pdist_inpath = f'data/group/hmp2/species/sp-{species}/r.proc.gtpro.sfacts-fit.spgc_ss-all.geno_uhgg-v15_pdist-mask10-pseudo10.pkl'\n",
    "strain_gene_inpath = f\"data/group/hmp2/species/sp-{species}/r.proc.gtpro.sfacts-fit.gene99_v15-v22-agg75.spgc-fit.uhgg-strain_gene.tsv\""
   ]
  },
  {
   "cell_type": "code",
   "execution_count": null,
   "metadata": {},
   "outputs": [],
   "source": [
    "gene_family = pd.read_table(gene_family_inpath, index_col=\"gene_id\")"
   ]
  },
  {
   "cell_type": "code",
   "execution_count": null,
   "metadata": {},
   "outputs": [],
   "source": [
    "kegg_module = pd.read_table(kegg_module_inpath)"
   ]
  },
  {
   "cell_type": "code",
   "execution_count": null,
   "metadata": {},
   "outputs": [],
   "source": [
    "emapper_all = pd.read_table(emapper_inpath, index_col='#query').rename_axis('centroid_99')\n",
    "description = emapper_all.reindex(gene_family.centroid_75.unique()).dropna(subset=['seed_ortholog']).rename_axis('centroid_75')"
   ]
  },
  {
   "cell_type": "code",
   "execution_count": null,
   "metadata": {},
   "outputs": [],
   "source": [
    "phage = pd.read_table(phage_inpath)#.groupby('centroid_75')\n",
    "plasmid = pd.read_table(plasmid_inpath)\n",
    "amr = pd.read_table(amr_inpath)\n",
    "\n",
    "clust = pd.read_table(clust_inpath, names=['centroid_75', 'clust'], index_col='centroid_75').clust\n",
    "clust_size = clust.value_counts()\n",
    "# clust = clust[lambda x: (x >= 0) & x.isin(idxwhere(clust_size > 1))]\n",
    "\n",
    "morans_i = pd.read_table(morans_i_inpath, names=['centroid_75', 'morans_i'], index_col='centroid_75').morans_i.dropna()\n",
    "prevalence = pd.read_table(prevalence_inpath, names=['centroid_75', 'prevalence'], index_col='centroid_75').prevalence"
   ]
  },
  {
   "cell_type": "code",
   "execution_count": null,
   "metadata": {},
   "outputs": [],
   "source": [
    "eggnog = pd.read_table(eggnog_inpath)\n",
    "cog_category = pd.read_table(cog_category_inpath)"
   ]
  },
  {
   "cell_type": "code",
   "execution_count": null,
   "metadata": {},
   "outputs": [],
   "source": [
    "from scipy.cluster.hierarchy import linkage\n",
    "from scipy.spatial.distance import squareform\n",
    "\n",
    "strain_gene = pd.read_table(strain_gene_inpath, index_col='gene_id')\n",
    "geno_dmat = lib.dissimilarity.load_dmat_as_pickle(pdist_inpath).loc[strain_gene.columns, strain_gene.columns]\n",
    "geno_linkage = linkage(squareform(geno_dmat), optimal_ordering=True)"
   ]
  },
  {
   "cell_type": "raw",
   "metadata": {},
   "source": [
    "plt.hist(morans_i, bins=100)\n",
    "None"
   ]
  },
  {
   "cell_type": "code",
   "execution_count": null,
   "metadata": {},
   "outputs": [],
   "source": [
    "d = description[['Preferred_name', 'Description']].reindex(gene_family.centroid_75.unique()).assign(morans_i=morans_i).assign(\n",
    "    cog_category=cog_category.groupby('centroid_75').cog_category.apply(''.join),\n",
    "    eggnog=eggnog.groupby('centroid_75').eggnog.apply(';'.join),\n",
    "    kegg_module=kegg_module.groupby('centroid_75').kegg_module.apply(';'.join),\n",
    "    clust=clust,\n",
    "    csize=lambda x: x.clust.map(clust_size),\n",
    "    plasmid=plasmid.groupby('centroid_75').annotation_accessions.apply(';'.join),\n",
    "    phage=phage.groupby('centroid_75').annotation_accessions.apply(';'.join),\n",
    "    amr=amr.groupby('centroid_75').accession_no.apply(';'.join),\n",
    "    prevalence=prevalence,\n",
    ")\n",
    "\n",
    "# d[lambda x: ~x.clust.isna() & (prevalence > 0.1) & (prevalence < 0.9)].sort_values('csize', ascending=False).head(10)"
   ]
  },
  {
   "cell_type": "code",
   "execution_count": null,
   "metadata": {},
   "outputs": [],
   "source": [
    "# clust_inpath = f'data/group/hmp2/species/sp-{species}/r.proc.gtpro.sfacts-fit.gene99_v15-v22-agg75.spgc-fit.uhgg-strain_gene.gene_clust-t10.tsv'\n",
    "# kegg_module_inpath = f'data/species/sp-{species}/midasdb_v15.emapper.gene75_x_kegg_module.tsv'\n",
    "# clust = pd.read_table(clust_inpath, names=['centroid_75', 'clust'], index_col='centroid_75').clust\n",
    "# clust_size = clust.value_counts()\n",
    "# kegg_module = pd.read_table(kegg_module_inpath)\n",
    "\n",
    "\n",
    "x = kegg_module.join(clust, on='centroid_75')[['clust', 'kegg_module']][lambda x: x.clust >= 0]\n",
    "non_singleton_clusters = idxwhere(clust_size > 1)\n",
    "\n",
    "\n",
    "\n",
    "fig, ax = plt.subplots()\n",
    "# ax2 = plt.twinx(ax1)\n",
    "# ax2.invert_yaxis()\n",
    "\n",
    "xmax = 15\n",
    "bins = np.arange(xmax) - 0.5\n",
    "\n",
    "# ax.hist(x[lambda y: y.clust.isin(non_singleton_clusters)].value_counts(), bins=np.arange(xmax) - 0.5, alpha=0.5, align='mid', color='tab:blue')\n",
    "obs_counts = x[lambda y: y.clust.isin(non_singleton_clusters)].value_counts()\n",
    "ax.hist(obs_counts, bins=bins, alpha=1.0, histtype='step', lw=2, align='mid', color='tab:orange', density=False, label='__nolegend__')\n",
    "\n",
    "\n",
    "np.random.seed(0)\n",
    "n_reps = 100\n",
    "all_perm_counts = []\n",
    "for i in range(n_reps):\n",
    "    x_perm = x.assign(clust=lambda x: x.clust.sample(frac=1).values)\n",
    "    x_counts = x_perm[lambda y: y.clust.isin(non_singleton_clusters)].value_counts()\n",
    "    all_perm_counts.append(x_counts)\n",
    "    ax.hist(x_counts, bins=bins, alpha=0.8 / n_reps, align='mid', color='k', density=False, label='__nolegend__')\n",
    "\n",
    "ax.scatter([], [], edgecolor='tab:orange', facecolor='none', lw=2, label='observed', marker='s', s=200)\n",
    "ax.scatter([], [], c='black', alpha=0.2, label='null', marker='s', s=200, lw=0)\n",
    "ax.legend(loc='upper right')\n",
    "\n",
    "ax.set_xticks([1, 3, 5, 7, 9, 11])\n",
    "ax.set_xlabel('Genes per Module')\n",
    "ax.set_ylabel('Cluster-Modules (count)')\n",
    "\n",
    "ax.set_yscale('symlog', linthresh=1, linscale=0.1)\n",
    "\n",
    "# # ax1.set_yscale('symlog')\n",
    "# # ax2.set_yscale('symlog')\n",
    "# ax.set_ylim(0, 1000)\n",
    "# ax.set_yticks(np.array([1e-3, 1e-2, 1e-1, 1]))\n",
    "\n",
    "x[lambda y: y.clust.isin(non_singleton_clusters)].value_counts().to_frame('tally').reset_index().join(clust_size, on='clust').head(20)"
   ]
  },
  {
   "cell_type": "code",
   "execution_count": null,
   "metadata": {},
   "outputs": [],
   "source": [
    "# Simple summary of permutation test results for modules\n",
    "\n",
    "for min_num_counts in [2, 3, 4, 5, 6, 7, 8]:\n",
    "    print(\n",
    "        # Threshold num genes\n",
    "        min_num_counts,\n",
    "        # Observed num clusters\n",
    "        (obs_counts >= min_num_counts).sum(),\n",
    "        # Max result under permutation\n",
    "        np.array([(perm_counts >= min_num_counts).sum() for perm_counts in all_perm_counts]).max(),\n",
    "    )"
   ]
  },
  {
   "cell_type": "code",
   "execution_count": null,
   "metadata": {},
   "outputs": [],
   "source": [
    "# clust_inpath = f'data/group/hmp2/species/sp-{species}/r.proc.gtpro.sfacts-fit.gene99_v15-v22-agg75.spgc-fit.uhgg-strain_gene.gene_clust-t10.tsv'\n",
    "# kegg_module_inpath = f'data/species/sp-{species}/midasdb_v15.emapper.gene75_x_kegg_module.tsv'\n",
    "# cog_category_inpath = f'data/species/sp-{species}/midasdb_v15.emapper.gene75_x_cog_category.tsv'\n",
    "# clust = pd.read_table(clust_inpath, names=['centroid_75', 'clust'], index_col='centroid_75').clust\n",
    "# clust_size = clust.value_counts()\n",
    "# cog_category = pd.read_table(cog_category_inpath)\n",
    "\n",
    "\n",
    "x = cog_category[lambda x: x.cog_category != 'no_category'].join(clust, on='centroid_75')[['clust', 'cog_category']][lambda x: x.clust >= 0]\n",
    "non_singleton_clusters = idxwhere(clust_size > 1)\n",
    "\n",
    "\n",
    "\n",
    "fig, ax = plt.subplots()\n",
    "# ax2 = plt.twinx(ax1)\n",
    "# ax2.invert_yaxis()\n",
    "\n",
    "xmax = 15\n",
    "bins = np.arange(xmax) - 0.5\n",
    "\n",
    "# ax.hist(x[lambda y: y.clust.isin(non_singleton_clusters)].value_counts(), bins=np.arange(xmax) - 0.5, alpha=0.5, align='mid', color='tab:blue')\n",
    "obs_counts = x[lambda y: y.clust.isin(non_singleton_clusters)].value_counts()\n",
    "ax.hist(obs_counts, bins=bins, alpha=1.0, histtype='step', lw=2, align='mid', color='tab:orange', density=False, label='__nolegend__')\n",
    "\n",
    "\n",
    "np.random.seed(0)\n",
    "n_reps = 100\n",
    "all_perm_counts = []\n",
    "for i in range(n_reps):\n",
    "    x_perm = x.assign(clust=lambda x: x.clust.sample(frac=1).values)\n",
    "    x_counts = x_perm[lambda y: y.clust.isin(non_singleton_clusters)].value_counts()\n",
    "    all_perm_counts.append(x_counts)\n",
    "    ax.hist(x_counts, bins=bins, alpha=0.8 / n_reps, align='mid', color='k', density=False, label='__nolegend__')\n",
    "\n",
    "ax.scatter([], [], edgecolor='tab:orange', facecolor='none', lw=2, label='observed', marker='s', s=200)\n",
    "ax.scatter([], [], c='black', alpha=0.2, label='null', marker='s', s=200, lw=0)\n",
    "ax.legend(loc='upper right')\n",
    "\n",
    "ax.set_xticks([1, 3, 5, 7, 9, 11])\n",
    "ax.set_xlabel('Genes per Module')\n",
    "ax.set_ylabel('Cluster-Categories (count)')\n",
    "\n",
    "ax.set_yscale('symlog', linthresh=1, linscale=0.1)\n",
    "\n",
    "# # ax1.set_yscale('symlog')\n",
    "# # ax2.set_yscale('symlog')\n",
    "# ax.set_ylim(0, 1000)\n",
    "# ax.set_yticks(np.array([1e-3, 1e-2, 1e-1, 1]))\n",
    "\n",
    "x[lambda y: y.clust.isin(non_singleton_clusters)].value_counts().to_frame('tally').reset_index().join(clust_size, on='clust').head(20)"
   ]
  },
  {
   "cell_type": "code",
   "execution_count": null,
   "metadata": {},
   "outputs": [],
   "source": [
    "# Simple summary of permutation test results for modules\n",
    "\n",
    "for min_num_counts in [2, 3, 4, 5, 6, 7, 8]:\n",
    "    print(\n",
    "        # Threshold num genes\n",
    "        min_num_counts,\n",
    "        # Observed num clusters\n",
    "        (obs_counts >= min_num_counts).sum(),\n",
    "        # Max result under permutation\n",
    "        np.array([(perm_counts >= min_num_counts).sum() for perm_counts in all_perm_counts]).max(),\n",
    "    )"
   ]
  },
  {
   "cell_type": "code",
   "execution_count": null,
   "metadata": {},
   "outputs": [],
   "source": [
    "d[lambda x: x.clust == 2441].head(50)"
   ]
  },
  {
   "cell_type": "code",
   "execution_count": null,
   "metadata": {},
   "outputs": [],
   "source": [
    "sns.clustermap(strain_gene[clust == 2441], col_linkage=geno_linkage)"
   ]
  },
  {
   "cell_type": "markdown",
   "metadata": {},
   "source": [
    "## Higher rate of same-categories and same-module (plasmids?) matching in clusters"
   ]
  },
  {
   "cell_type": "code",
   "execution_count": null,
   "metadata": {},
   "outputs": [],
   "source": [
    "# Gather clusters for all species (among a particular species list, that is)\n",
    "# Gather annotations for all genes in these clusters\n",
    "# Put everything together and do the same analysis as above"
   ]
  },
  {
   "cell_type": "code",
   "execution_count": null,
   "metadata": {},
   "outputs": [],
   "source": [
    "species_list4 = [\n",
    "    \"102492\",\n",
    "    \"103694\",\n",
    "    \"100022\",\n",
    "    \"102545\",\n",
    "    \"102272\",\n",
    "    \"102478\",\n",
    "    \"101300\",\n",
    "    \"101346\",\n",
    "    \"102438\",\n",
    "    \"101302\",\n",
    "    \"100254\",\n",
    "    \"100217\",\n",
    "    \"102549\",\n",
    "    \"100271\",\n",
    "    \"101378\",\n",
    "    \"100196\",\n",
    "    \"103899\",\n",
    "    \"102528\",\n",
    "    \"100074\",\n",
    "    \"102321\",\n",
    "    \"101345\",\n",
    "    \"104158\",\n",
    "    \"100251\",\n",
    "    \"100562\",\n",
    "    \"100099\",\n",
    "    \"100209\",\n",
    "    \"100078\",\n",
    "    \"101830\",\n",
    "    \"103681\",\n",
    "    \"100003\",\n",
    "    \"103702\",\n",
    "    \"101337\",\n",
    "    \"100044\",\n",
    "    \"103937\",\n",
    "    \"102517\",\n",
    "    \"103166\",\n",
    "    \"103686\",\n",
    "    \"102506\",\n",
    "    \"102327\",\n",
    "    \"101338\",\n",
    "    \"102040\",\n",
    "    \"102274\",\n",
    "    \"100205\",\n",
    "    \"102292\",\n",
    "    \"100208\",\n",
    "    \"100144\",\n",
    "    \"101292\",\n",
    "    \"100038\",\n",
    "    \"103439\",\n",
    "    \"100233\",\n",
    "    \"102454\",\n",
    "    \"100154\",\n",
    "    \"101374\",\n",
    "]\n",
    "\n",
    "clust = []\n",
    "kegg_module = []\n",
    "cog_category = []\n",
    "plasmid = []\n",
    "phage = []\n",
    "\n",
    "for species in tqdm(species_list4):\n",
    "    clust_inpath = f'data/group/hmp2/species/sp-{species}/r.proc.gtpro.sfacts-fit.gene99_v15-v22-agg75.spgc-fit.uhgg-strain_gene.gene_clust-t10.tsv'\n",
    "    kegg_module_inpath = f'data/species/sp-{species}/midasdb_v15.emapper.gene75_x_kegg_module.tsv'\n",
    "    cog_category_inpath = f'data/species/sp-{species}/midasdb_v15.emapper.gene75_x_cog_category.tsv'\n",
    "    plasmid_inpath = f'data/species/sp-{species}/midasdb_v15.gene75_x_genomad_plasmid.tsv'\n",
    "    phage_inpath = f'data/species/sp-{species}/midasdb_v15.gene75_x_genomad_virus.tsv'\n",
    "    clust.append(pd.read_table(clust_inpath, names=['centroid_75', 'clust']).assign(species=species))\n",
    "    kegg_module.append(pd.read_table(kegg_module_inpath))\n",
    "    cog_category.append(pd.read_table(cog_category_inpath))\n",
    "    plasmid.append(pd.read_table(plasmid_inpath))\n",
    "    phage.append(pd.read_table(phage_inpath))\n",
    "\n",
    "clust = pd.concat(clust).assign(clust_label=lambda x: x.clust.astype(str) + '_' + x.species)\n",
    "kegg_module = pd.concat(kegg_module)\n",
    "cog_category = pd.concat(cog_category)\n",
    "plasmid = pd.concat(plasmid)\n",
    "phage = pd.concat(phage)"
   ]
  },
  {
   "cell_type": "code",
   "execution_count": null,
   "metadata": {},
   "outputs": [],
   "source": []
  },
  {
   "cell_type": "code",
   "execution_count": null,
   "metadata": {},
   "outputs": [],
   "source": [
    "bins = np.array([2**i for i in range(1, 11)])\n",
    "\n",
    "d = (\n",
    "    clust[lambda x: x.clust >= 0]\n",
    "    .groupby(\"species\")\n",
    "    .apply(\n",
    "        lambda d: pd.Series(\n",
    "            np.histogram(d.clust_label.value_counts(), bins=bins)[0], index=bins[:-1]\n",
    "        )\n",
    "    )\n",
    ")\n",
    "# Order by total number of genes in clusters with size \u22652\n",
    "species_order = (\n",
    "    (\n",
    "        clust[lambda x: x.clust >= 0][[\"species\", \"clust\"]].value_counts()[\n",
    "            lambda x: x > 1\n",
    "        ]\n",
    "    )\n",
    "    .groupby(\"species\")\n",
    "    .sum()\n",
    "    .sort_values(ascending=False)\n",
    "    .index\n",
    ")\n",
    "\n",
    "row_colors = (\n",
    "    d.index.to_series().map(species_taxonomy.p__).map(phylum_palette).rename(\"phylum\")\n",
    ")\n",
    "\n",
    "cg = sns.clustermap(\n",
    "    d.loc[species_order].drop(columns=[1], errors=\"ignore\"),\n",
    "    norm=mpl.colors.SymLogNorm(1, vmin=0, vmax=2_000),\n",
    "    cmap=sns.color_palette(\"rocket\", as_cmap=True),\n",
    "    xticklabels=1,\n",
    "    yticklabels=0,\n",
    "    col_cluster=False,\n",
    "    row_cluster=False,\n",
    "    row_colors=row_colors,\n",
    "    figsize=(6, 5),\n",
    "    cbar_pos=None,\n",
    ")"
   ]
  },
  {
   "cell_type": "code",
   "execution_count": null,
   "metadata": {},
   "outputs": [],
   "source": [
    "fig = plt.figure(figsize=(2, 5), facecolor='none')\n",
    "plt.scatter([], [], c=[], norm=mpl.colors.SymLogNorm(1, vmin=0, vmax=2_000), cmap=sns.color_palette(\"rocket\", as_cmap=True), )\n",
    "plt.colorbar()\n",
    "lib.plot.hide_axes_and_spines()"
   ]
  },
  {
   "cell_type": "code",
   "execution_count": null,
   "metadata": {},
   "outputs": [],
   "source": [
    "non_singleton_clusters = idxwhere((clust[lambda x: x.clust >= 0].clust_label.value_counts() > 1))\n",
    "len(non_singleton_clusters)"
   ]
  },
  {
   "cell_type": "markdown",
   "metadata": {},
   "source": [
    "### KEGG Modules"
   ]
  },
  {
   "cell_type": "code",
   "execution_count": null,
   "metadata": {},
   "outputs": [],
   "source": [
    "_annot = kegg_module.rename(columns={\"kegg_module\": \"annot\"})\n",
    "\n",
    "all_counted_genes_clust_info = clust[lambda x: x.clust > 0]\n",
    "obs_clust_annot_count = pd.merge(\n",
    "    all_counted_genes_clust_info, _annot, on=\"centroid_75\", how=\"left\"\n",
    ")[[\"clust_label\", \"annot\"]].value_counts().groupby('clust_label').max()\n",
    "\n",
    "np.random.seed(0)\n",
    "n_perm = 100\n",
    "perm_clust_annot_count_list = []\n",
    "for i in tqdm(range(n_perm)):\n",
    "    perm_clust_annot_count = pd.merge(\n",
    "        all_counted_genes_clust_info.groupby(\"species\").apply(\n",
    "            lambda d: d.assign(clust_label=lambda x: x.clust_label.sample(frac=1).values)\n",
    "        ),\n",
    "        _annot,\n",
    "        on=\"centroid_75\",\n",
    "        how=\"left\",\n",
    "    )[[\"clust_label\", \"annot\"]].value_counts().groupby('clust_label').max()\n",
    "    perm_clust_annot_count_list.append(perm_clust_annot_count)"
   ]
  },
  {
   "cell_type": "code",
   "execution_count": null,
   "metadata": {},
   "outputs": [],
   "source": [
    "bins = np.arange(obs_clust_annot_count.max()) + 1\n",
    "\n",
    "\n",
    "perm_histogram2d = pd.DataFrame(np.stack([np.histogram(perm_clust_annot_count, bins=bins)[0] for perm_clust_annot_count in perm_clust_annot_count_list]), columns=bins[:-1])\n",
    "obs_histogram = pd.Series(np.histogram(obs_clust_annot_count, bins=bins)[0], index=bins[:-1])\n",
    "\n",
    "sns.clustermap(perm_histogram2d, norm=mpl.colors.SymLogNorm(linthresh=1), row_cluster=False, col_cluster=False, )"
   ]
  },
  {
   "cell_type": "code",
   "execution_count": null,
   "metadata": {},
   "outputs": [],
   "source": [
    "fig, ax = plt.subplots(figsize=(6, 3))\n",
    "\n",
    "for perm_clust_annot_count in perm_clust_annot_count_list:\n",
    "    ax.hist(perm_clust_annot_count, bins=bins, align='left', color='k', alpha=0.5 / n_perm)\n",
    "\n",
    "ax.stairs(perm_histogram2d.mean(0), bins - 0.5, edgecolor='k', facecolor='none', lw=1)\n",
    "\n",
    "ax.hist(obs_clust_annot_count, bins=bins, align='left', histtype=\"step\", color='tab:orange', )\n",
    "ax.set_yscale('symlog', linthresh=1, linscale=0.1)\n",
    "\n",
    "ax.scatter([], [], edgecolor='tab:orange', facecolor='none', lw=2, label='observed', marker='s', s=200)\n",
    "ax.scatter([], [], edgecolor='k', facecolor='silver', label='null', marker='s', s=200, lw=1)\n",
    "ax.legend(loc='upper right')\n",
    "\n",
    "ax.set_xticks(np.concatenate([np.arange(1, 8, step=2), np.arange(10, obs_clust_annot_count.max() + 1, step=5)]))\n",
    "ax.set_xlabel('Module Annotations')\n",
    "ax.set_ylabel('Clusters (count)')\n",
    "ax.set_ylim(0, 1e5)\n",
    "ax.set_yticks(np.logspace(0, 5, num=6))"
   ]
  },
  {
   "cell_type": "code",
   "execution_count": null,
   "metadata": {},
   "outputs": [],
   "source": [
    "(perm_histogram2d.iloc[:,::-1].cumsum(1).iloc[:,::-1].mean() / obs_histogram.iloc[::-1].cumsum().iloc[::-1]).head(20)"
   ]
  },
  {
   "cell_type": "markdown",
   "metadata": {},
   "source": [
    "### Plasmid / Phage"
   ]
  },
  {
   "cell_type": "code",
   "execution_count": null,
   "metadata": {},
   "outputs": [],
   "source": [
    "_annot = pd.DataFrame(dict(phage=phage.assign(phage=True)[['centroid_75', 'phage']].drop_duplicates().set_index('centroid_75').phage,\n",
    "                  plasmid=plasmid.assign(plasmid=True)[['centroid_75', 'plasmid']].drop_duplicates().set_index('centroid_75').plasmid,\n",
    "                 )).stack().sort_values().rename_axis(['centroid_75', 'annot']).reset_index().drop(columns=[0])\n",
    "\n",
    "\n",
    "all_counted_genes_clust_info = clust[lambda x: x.clust > 0]\n",
    "obs_clust_annot_count = pd.merge(\n",
    "    all_counted_genes_clust_info, _annot, on=\"centroid_75\", how=\"left\"\n",
    ")[[\"clust_label\", \"annot\"]].value_counts().groupby('clust_label').max()\n",
    "\n",
    "np.random.seed(0)\n",
    "n_perm = 100\n",
    "perm_clust_annot_count_list = []\n",
    "for i in tqdm(range(n_perm)):\n",
    "    perm_clust_annot_count = pd.merge(\n",
    "        all_counted_genes_clust_info.groupby(\"species\").apply(\n",
    "            lambda d: d.assign(clust_label=lambda x: x.clust_label.sample(frac=1).values)\n",
    "        ),\n",
    "        _annot,\n",
    "        on=\"centroid_75\",\n",
    "        how=\"left\",\n",
    "    )[[\"clust_label\", \"annot\"]].value_counts().groupby('clust_label').max()\n",
    "    perm_clust_annot_count_list.append(perm_clust_annot_count)"
   ]
  },
  {
   "cell_type": "code",
   "execution_count": null,
   "metadata": {},
   "outputs": [],
   "source": [
    "bins = np.arange(obs_clust_annot_count.max()) + 1\n",
    "\n",
    "perm_histogram2d = pd.DataFrame(np.stack([np.histogram(perm_clust_annot_count, bins=bins)[0] for perm_clust_annot_count in perm_clust_annot_count_list]), columns=bins[:-1])\n",
    "obs_histogram = pd.Series(np.histogram(obs_clust_annot_count, bins=bins)[0], index=bins[:-1])\n",
    "\n",
    "sns.clustermap(perm_histogram2d, norm=mpl.colors.SymLogNorm(linthresh=1), row_cluster=False, col_cluster=False, )"
   ]
  },
  {
   "cell_type": "code",
   "execution_count": null,
   "metadata": {},
   "outputs": [],
   "source": [
    "fig, ax = plt.subplots(figsize=(6, 3))\n",
    "\n",
    "for perm_clust_annot_count in perm_clust_annot_count_list:\n",
    "    ax.hist(perm_clust_annot_count, bins=bins, align='left', color='k', alpha=0.5 / n_perm)\n",
    "\n",
    "ax.stairs(perm_histogram2d.mean(0), bins - 0.5, edgecolor='k', facecolor='none', lw=1)\n",
    "\n",
    "ax.hist(obs_clust_annot_count, bins=bins, align='left', histtype=\"step\", color='tab:orange', )\n",
    "ax.set_yscale('symlog', linthresh=1, linscale=0.1)\n",
    "\n",
    "ax.scatter([], [], edgecolor='tab:orange', facecolor='none', lw=2, label='observed', marker='s', s=200)\n",
    "ax.scatter([], [], edgecolor='k', facecolor='silver', label='null', marker='s', s=200, lw=1)\n",
    "ax.legend(loc='upper right')\n",
    "\n",
    "ax.set_xticks(np.concatenate([np.arange(1, 8, step=2), np.arange(10, obs_clust_annot_count.max() + 1, step=5)]))\n",
    "ax.set_xlabel('Phage or Plasmid Annotations')\n",
    "ax.set_ylabel('Clusters (count)')\n",
    "ax.set_ylim(0, 1e5)"
   ]
  },
  {
   "cell_type": "code",
   "execution_count": null,
   "metadata": {},
   "outputs": [],
   "source": [
    "(perm_histogram2d.iloc[:,::-1].cumsum(1).iloc[:,::-1].mean() / obs_histogram.iloc[::-1].cumsum().iloc[::-1]).head(20)"
   ]
  },
  {
   "cell_type": "markdown",
   "metadata": {},
   "source": [
    "### COG Categories"
   ]
  },
  {
   "cell_type": "code",
   "execution_count": null,
   "metadata": {},
   "outputs": [],
   "source": [
    "_annot = cog_category[lambda x: x.cog_category != 'no_category'].rename(columns={\"cog_category\": \"annot\"})\n",
    "\n",
    "\n",
    "\n",
    "all_counted_genes_clust_info = clust[lambda x: x.clust > 0]\n",
    "obs_clust_annot_count = pd.merge(\n",
    "    all_counted_genes_clust_info, _annot, on=\"centroid_75\", how=\"left\"\n",
    ")[[\"clust_label\", \"annot\"]].value_counts().groupby('clust_label').max()\n",
    "\n",
    "np.random.seed(0)\n",
    "n_perm = 100\n",
    "perm_clust_annot_count_list = []\n",
    "for i in tqdm(range(n_perm)):\n",
    "    perm_clust_annot_count = pd.merge(\n",
    "        all_counted_genes_clust_info.groupby(\"species\").apply(\n",
    "            lambda d: d.assign(clust_label=lambda x: x.clust_label.sample(frac=1).values)\n",
    "        ),\n",
    "        _annot,\n",
    "        on=\"centroid_75\",\n",
    "        how=\"left\",\n",
    "    )[[\"clust_label\", \"annot\"]].value_counts().groupby('clust_label').max()\n",
    "    perm_clust_annot_count_list.append(perm_clust_annot_count)"
   ]
  },
  {
   "cell_type": "code",
   "execution_count": null,
   "metadata": {},
   "outputs": [],
   "source": [
    "bins = np.arange(obs_clust_annot_count.max()) + 1\n",
    "\n",
    "perm_histogram2d = pd.DataFrame(np.stack([np.histogram(perm_clust_annot_count, bins=bins)[0] for perm_clust_annot_count in perm_clust_annot_count_list]), columns=bins[:-1])\n",
    "obs_histogram = pd.Series(np.histogram(obs_clust_annot_count, bins=bins)[0], index=bins[:-1])\n",
    "\n",
    "sns.clustermap(perm_histogram2d, norm=mpl.colors.SymLogNorm(linthresh=1), row_cluster=False, col_cluster=False, )"
   ]
  },
  {
   "cell_type": "code",
   "execution_count": null,
   "metadata": {},
   "outputs": [],
   "source": [
    "fig, ax = plt.subplots(figsize=(6, 3))\n",
    "\n",
    "for perm_clust_annot_count in perm_clust_annot_count_list:\n",
    "    ax.hist(perm_clust_annot_count, bins=bins, align='left', color='k', alpha=0.5 / n_perm)\n",
    "\n",
    "ax.stairs(perm_histogram2d.mean(0), bins - 0.5, edgecolor='k', facecolor='none', lw=1)\n",
    "\n",
    "ax.hist(obs_clust_annot_count, bins=bins, align='left', histtype=\"step\", color='tab:orange', )\n",
    "ax.set_yscale('symlog', linthresh=1, linscale=0.1)\n",
    "\n",
    "ax.scatter([], [], edgecolor='tab:orange', facecolor='none', lw=2, label='observed', marker='s', s=200)\n",
    "ax.scatter([], [], edgecolor='k', facecolor='silver', label='null', marker='s', s=200, lw=1)\n",
    "ax.legend(loc='upper right')\n",
    "\n",
    "ax.set_xticks(np.concatenate([np.arange(1, 8, step=2), np.arange(10, obs_clust_annot_count.max() + 1, step=5)]))\n",
    "ax.set_xlabel('Num. Genes (most common)')\n",
    "ax.set_ylabel('Clusters (count)')"
   ]
  },
  {
   "cell_type": "code",
   "execution_count": null,
   "metadata": {},
   "outputs": [],
   "source": [
    "(perm_histogram2d.iloc[:,::-1].cumsum(1).iloc[:,::-1].mean() / obs_histogram.iloc[::-1].cumsum().iloc[::-1]).head(20)"
   ]
  },
  {
   "cell_type": "raw",
   "metadata": {},
   "source": [
    "# Simple summary of permutation test results for modules\n",
    "\n",
    "for min_num_counts in np.arange(2, 15):\n",
    "    print(\n",
    "        # Threshold num genes\n",
    "        min_num_counts,\n",
    "        # Observed num clusters\n",
    "        (obs_clust_annot_count >= min_num_counts).sum(),\n",
    "        # Max result under permutation\n",
    "        (perm_clust_annot_count >= min_num_counts).sum(),\n",
    "    )"
   ]
  },
  {
   "cell_type": "code",
   "execution_count": null,
   "metadata": {},
   "outputs": [],
   "source": []
  }
 ],
 "metadata": {
  "kernelspec": {
   "display_name": "toolz4",
   "language": "python",
   "name": "toolz4"
  },
  "language_info": {
   "codemirror_mode": {
    "name": "ipython",
    "version": 3
   },
   "file_extension": ".py",
   "mimetype": "text/x-python",
   "name": "python",
   "nbconvert_exporter": "python",
   "pygments_lexer": "ipython3",
   "version": "3.10.13"
  }
 },
 "nbformat": 4,
 "nbformat_minor": 5
}