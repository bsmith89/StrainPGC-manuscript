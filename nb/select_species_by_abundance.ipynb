{
 "cells": [
  {
   "cell_type": "markdown",
   "metadata": {},
   "source": [
    "### Preamble"
   ]
  },
  {
   "cell_type": "markdown",
   "metadata": {},
   "source": [
    "#### Project Template"
   ]
  },
  {
   "cell_type": "code",
   "execution_count": null,
   "metadata": {},
   "outputs": [],
   "source": [
    "%load_ext autoreload"
   ]
  },
  {
   "cell_type": "code",
   "execution_count": null,
   "metadata": {},
   "outputs": [],
   "source": [
    "import os as _os\n",
    "_os.chdir(_os.environ['PROJECT_ROOT'])\n",
    "_os.path.realpath(_os.path.curdir)"
   ]
  },
  {
   "cell_type": "markdown",
   "metadata": {},
   "source": [
    "#### Imports"
   ]
  },
  {
   "cell_type": "code",
   "execution_count": null,
   "metadata": {},
   "outputs": [],
   "source": [
    "import pandas as pd\n",
    "import numpy as np\n",
    "import scipy as sp\n",
    "import matplotlib.pyplot as plt\n",
    "import seaborn as sns\n",
    "import xarray as xr\n",
    "from lib.pandas_util import idxwhere, aligned_index, align_indexes, invert_mapping\n",
    "import matplotlib as mpl\n",
    "import lib.plot\n",
    "import statsmodels as sm\n",
    "from statsmodels.stats.multitest import fdrcorrection\n",
    "from tqdm import tqdm\n",
    "import subprocess\n",
    "from tempfile import mkstemp\n",
    "import time\n",
    "import subprocess\n",
    "from itertools import chain\n",
    "import os\n",
    "from itertools import product\n",
    "from mpl_toolkits.axes_grid1 import make_axes_locatable\n"
   ]
  },
  {
   "cell_type": "code",
   "execution_count": null,
   "metadata": {},
   "outputs": [],
   "source": [
    "import sfacts as sf"
   ]
  },
  {
   "cell_type": "code",
   "execution_count": null,
   "metadata": {},
   "outputs": [],
   "source": [
    "import lib.thisproject.data"
   ]
  },
  {
   "cell_type": "markdown",
   "metadata": {},
   "source": [
    "#### Set Style"
   ]
  },
  {
   "cell_type": "code",
   "execution_count": null,
   "metadata": {},
   "outputs": [],
   "source": [
    "sns.set_context('talk')\n",
    "plt.rcParams['figure.dpi'] = 50"
   ]
  },
  {
   "cell_type": "markdown",
   "metadata": {},
   "source": [
    "## Set Parameters / Load Initial Data"
   ]
  },
  {
   "cell_type": "code",
   "execution_count": null,
   "metadata": {},
   "outputs": [],
   "source": [
    "path_patterns = {}\n",
    "path_params = {}"
   ]
  },
  {
   "cell_type": "code",
   "execution_count": null,
   "metadata": {},
   "outputs": [],
   "source": [
    "# Add new parameters.\n",
    "path_params.update(dict(\n",
    "    group_subset='xjin',\n",
    "    group='xjin_hmp2',\n",
    "    stemA='r.proc',\n",
    "))\n",
    "\n",
    "# Add new patterns.\n",
    "path_patterns.update(dict(\n",
    "    species_taxonomy=\"ref/gtpro/species_taxonomy_ext.tsv\",\n",
    "    all_species_depth_subset=\"data/group/{group_subset}/{stemA}.gtpro.species_depth.tsv\",\n",
    "    all_species_depth=\"data/group/{group}/{stemA}.gtpro.species_depth.tsv\",\n",
    "    midasdb_genomes=\"ref/uhgg_genomes_all_4644.tsv\",\n",
    "    strain_genomes=\"meta/genome.tsv\",\n",
    "))\n",
    "\n",
    "# This part is generic and should be run after ever new batch of path_patterns and path_params is added.\n",
    "path = {k: path_patterns[k].format(**path_params) for k in path_patterns}\n",
    "_path_exists = {}\n",
    "for p in path:\n",
    "    _path_exists[path[p]] = os.path.exists(path[p])\n",
    "assert all(_path_exists.values()), '\\n'.join([\"Missing files:\"] + [p for p in path_exists if not path_exists[p]])"
   ]
  },
  {
   "cell_type": "markdown",
   "metadata": {},
   "source": [
    "### Species Abundance"
   ]
  },
  {
   "cell_type": "code",
   "execution_count": null,
   "metadata": {},
   "outputs": [],
   "source": [
    "species_depth = lib.thisproject.data.load_species_depth(path['all_species_depth'])\n",
    "# species_depth_subset = lib.thisproject.data.load_species_depth(path['all_species_depth_subset'])\n",
    "rabund = species_depth.apply(lambda x: x / x.sum(), axis=1)\n",
    "# rabund_subset = species_depth_subset.apply(lambda x: x / x.sum(), axis=1)\n",
    "\n",
    "n_species = 40\n",
    "top_species = (rabund > 1e-5).sum().sort_values(ascending=False).head(n_species).index\n",
    "\n",
    "fig, axs = plt.subplots(n_species, figsize=(10, 0.5 * n_species), sharex=True, sharey=True)\n",
    "\n",
    "bins = np.logspace(-7, 0, num=51)\n",
    "\n",
    "for species_id, ax in zip(top_species, axs):\n",
    "    # ax.hist(rabund_subset[species_id], bins=bins, alpha=0.7)\n",
    "    ax.hist(rabund[species_id], bins=bins, alpha=0.7)\n",
    "    ax.set_xscale('log')\n",
    "    prevalence = (rabund[species_id] > 1e-5).mean()\n",
    "    ax.set_title(\"\")\n",
    "    # ax.set_xticks()\n",
    "    # ax.set_yticks()\n",
    "    ax.yaxis.set_visible(False)\n",
    "    ax.xaxis.set_visible(False)\n",
    "    ax.patch.set_alpha(0.0)\n",
    "    for spine in ['left', 'right', 'top', 'bottom']:\n",
    "        ax.spines[spine].set_visible(False)\n",
    "    ax.annotate(f'{species_id} ({prevalence:0.0%})', xy=(0.05, 0.1), ha='left', xycoords=\"axes fraction\")\n",
    "    ax.set_xlim(left=1e-7)\n",
    "    ax.set_ylim(top=300)\n",
    "    \n",
    "ax.xaxis.set_visible(True)\n",
    "ax.spines['bottom'].set_visible(True)\n",
    "\n",
    "# fig.subplots_adjust(hspace=-0.75)"
   ]
  },
  {
   "cell_type": "code",
   "execution_count": null,
   "metadata": {},
   "outputs": [],
   "source": [
    "n_species = 40\n",
    "top_species = (species_depth > 1e-3).sum().sort_values(ascending=False).head(n_species).index\n",
    "\n",
    "fig, axs = plt.subplots(n_species, figsize=(10, 0.5 * n_species), sharex=True, sharey=True)\n",
    "\n",
    "bins = np.logspace(-3, 4, num=51)\n",
    "\n",
    "for species_id, ax in zip(top_species, axs):\n",
    "    # ax.hist(rabund_subset[species_id], bins=bins, alpha=0.7)\n",
    "    ax.hist(species_depth[species_id], bins=bins, alpha=0.7)\n",
    "    ax.set_xscale('log')\n",
    "    prevalence = (species_depth[species_id] > 1e-3).mean()\n",
    "    ax.set_title(\"\")\n",
    "    # ax.set_xticks()\n",
    "    # ax.set_yticks()\n",
    "    ax.yaxis.set_visible(False)\n",
    "    ax.xaxis.set_visible(False)\n",
    "    ax.patch.set_alpha(0.0)\n",
    "    for spine in ['left', 'right', 'top', 'bottom']:\n",
    "        ax.spines[spine].set_visible(False)\n",
    "    ax.annotate(f'{species_id} ({prevalence:0.0%})', xy=(0.05, 0.1), ha='left', xycoords=\"axes fraction\")\n",
    "    ax.set_xlim(left=1e-7)\n",
    "    ax.set_ylim(top=300)\n",
    "    \n",
    "ax.xaxis.set_visible(True)\n",
    "ax.spines['bottom'].set_visible(True)\n",
    "\n",
    "# fig.subplots_adjust(hspace=-0.75)"
   ]
  },
  {
   "cell_type": "code",
   "execution_count": null,
   "metadata": {},
   "outputs": [],
   "source": [
    "sns.clustermap(species_depth_subset, norm=mpl.colors.PowerNorm(1/5), metric='cosine')"
   ]
  },
  {
   "cell_type": "code",
   "execution_count": null,
   "metadata": {},
   "outputs": [],
   "source": [
    "species_depth_corr = pd.DataFrame(sp.spatial.distance.squareform(sp.spatial.distance.pdist(species_depth_subset.T, metric='cosine')), index=species_depth_subset.columns, columns=species_depth_subset.columns)"
   ]
  },
  {
   "cell_type": "code",
   "execution_count": null,
   "metadata": {},
   "outputs": [],
   "source": [
    "sns.clustermap(1 - species_depth_corr, figsize=(20, 20))"
   ]
  },
  {
   "cell_type": "markdown",
   "metadata": {},
   "source": [
    "#### !!!! Set Focal Species"
   ]
  },
  {
   "cell_type": "code",
   "execution_count": null,
   "metadata": {},
   "outputs": [],
   "source": [
    "species = '100076'  # '100236'\n",
    "\n",
    "species_taxonomy = lib.thisproject.data.load_species_taxonomy(path[\"species_taxonomy\"])\n",
    "species_taxonomy.loc[species]"
   ]
  },
  {
   "cell_type": "code",
   "execution_count": null,
   "metadata": {},
   "outputs": [],
   "source": []
  }
 ],
 "metadata": {
  "kernelspec": {
   "display_name": "sfacts",
   "language": "python",
   "name": "sfacts"
  },
  "language_info": {
   "codemirror_mode": {
    "name": "ipython",
    "version": 3
   },
   "file_extension": ".py",
   "mimetype": "text/x-python",
   "name": "python",
   "nbconvert_exporter": "python",
   "pygments_lexer": "ipython3",
   "version": "3.10.9"
  }
 },
 "nbformat": 4,
 "nbformat_minor": 5
}