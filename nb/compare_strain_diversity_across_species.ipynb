{
 "cells": [
  {
   "cell_type": "code",
   "execution_count": null,
   "metadata": {},
   "outputs": [],
   "source": [
    "%load_ext autoreload"
   ]
  },
  {
   "cell_type": "code",
   "execution_count": null,
   "metadata": {},
   "outputs": [],
   "source": [
    "%autoreload"
   ]
  },
  {
   "cell_type": "code",
   "execution_count": null,
   "metadata": {},
   "outputs": [],
   "source": [
    "import os\n",
    "os.chdir('..')\n",
    "os.path.realpath(os.path.curdir)"
   ]
  },
  {
   "cell_type": "code",
   "execution_count": null,
   "metadata": {},
   "outputs": [],
   "source": [
    "import xarray as xr\n",
    "from glob import glob\n",
    "import pandas as pd\n",
    "from lib.pandas_util import idxwhere\n",
    "from sklearn.cluster import AgglomerativeClustering\n",
    "import sfacts as sf\n",
    "import matplotlib as mpl\n",
    "import matplotlib.pyplot as plt\n",
    "from lib.plot import construct_ordered_palette\n",
    "from tqdm import tqdm\n",
    "import numpy as np\n",
    "import seaborn as sns"
   ]
  },
  {
   "cell_type": "code",
   "execution_count": null,
   "metadata": {},
   "outputs": [],
   "source": [
    "group = 'hmp2'"
   ]
  },
  {
   "cell_type": "code",
   "execution_count": null,
   "metadata": {},
   "outputs": [],
   "source": [
    "shi2021_s7 = pd.read_table('/pollard/home/bsmith/Projects/haplo-manuscript/raw/shi2021_s7.tsv', index_col=['Sample ID']).rename_axis(index='sample_id')[lambda x: x.Study != 'LeChatelierE_2013']\n",
    "shi2021_s8 = pd.read_table('/pollard/home/bsmith/Projects/haplo-manuscript/raw/shi2021_s8.tsv', index_col='NCBI Accession Number')\n",
    "shi2021_s13 = pd.read_table('/pollard/home/bsmith/Projects/haplo-manuscript/raw/shi2021_s13.tsv', index_col='NCBI Accession Number')[lambda x: x.Study != 'LeChatelierE_2013']\n",
    "\n",
    "meta = shi2021_s8.join(shi2021_s7, on='Sample ID', rsuffix='_').drop(columns=['Study_'])\n",
    "\n",
    "meta.head()"
   ]
  },
  {
   "cell_type": "code",
   "execution_count": null,
   "metadata": {},
   "outputs": [],
   "source": [
    "species_taxonomy = pd.read_table('ref/gtpro/species_taxonomy_ext.tsv', names=['genome_id', 'species_id', 'taxonomy_string']).assign(species_id=lambda x: x.species_id.astype(str)).set_index('species_id')[['taxonomy_string']].assign(taxonomy_split=lambda x: x.taxonomy_string.str.split(';'))\n",
    "\n",
    "for level_name, level_number in [('p__', 1), ('c__', 2), ('o__', 3), ('f__', 4), ('g__', 5), ('s__', 6)]:\n",
    "    species_taxonomy = species_taxonomy.assign(**{level_name: species_taxonomy.taxonomy_split.apply(lambda x: x[level_number])}) \n",
    "species_taxonomy = species_taxonomy.drop(columns=['taxonomy_split'])"
   ]
  },
  {
   "cell_type": "code",
   "execution_count": null,
   "metadata": {},
   "outputs": [],
   "source": [
    "num_species_sample = {}\n",
    "num_species_position = {}\n",
    "species_list = []\n",
    "\n",
    "for path in glob(f'data/sp-*.{group}.a.r.proc.gtpro.filt-poly05-cvrg10.mgen.pdist.nc'):\n",
    "    species_id = path[len('data/sp-'):-len(f'.{group}.a.r.proc.gtpro.filt-poly05-cvrg10.mgen.pdist.nc')]\n",
    "    sizes = xr.open_dataset(f'data/sp-{species_id}.{group}.a.r.proc.gtpro.filt-poly05-cvrg10.mgen.nc').sizes\n",
    "    num_species_sample[species_id] = sizes['sample']\n",
    "    num_species_position[species_id] = sizes['position']\n",
    "    if (num_species_sample[species_id] > 100) and (num_species_position[species_id] > 100):\n",
    "        species_list.append(species_id)"
   ]
  },
  {
   "cell_type": "code",
   "execution_count": null,
   "metadata": {},
   "outputs": [],
   "source": [
    "sorted(species_list)[-10:]"
   ]
  },
  {
   "cell_type": "code",
   "execution_count": null,
   "metadata": {},
   "outputs": [],
   "source": [
    "species_strain_label = {}\n",
    "species_strain_counts = {}\n",
    "\n",
    "phyla = species_taxonomy.loc[species_list].p__.unique()\n",
    "palette = construct_ordered_palette(phyla, cm='tab20')\n",
    "\n",
    "for species_id in tqdm(species_list):\n",
    "    pdmat = xr.load_dataarray(f'data/sp-{species_id}.{group}.a.r.proc.gtpro.filt-poly05-cvrg10.mgen.pdist.nc')\n",
    "    agg = pd.Series(AgglomerativeClustering(n_clusters=None, distance_threshold=0.1, affinity='precomputed', linkage='complete').fit(pdmat).labels_, index=pdmat.sampleA)\n",
    "    species_strain_label[species_id] = agg.astype(str)\n",
    "    species_strain_counts[species_id] = agg.value_counts()"
   ]
  },
  {
   "cell_type": "code",
   "execution_count": null,
   "metadata": {},
   "outputs": [],
   "source": [
    "species_data = pd.DataFrame(\n",
    "    {s: (species_strain_counts[s].sum(), len(species_strain_counts[s])) for s in species_strain_counts},\n",
    "    index=['num_samples', 'num_strains']\n",
    ").T.assign(samples_per_strain=lambda x: x.num_samples / x.num_strains).join(species_taxonomy).sort_values('taxonomy_string')\n",
    "\n",
    "taxa = species_data.p__.unique()\n",
    "palette = construct_ordered_palette(taxa, cm='tab20')\n",
    "\n",
    "plt.scatter('num_samples', 'num_strains', data=species_data, c=species_data.p__.map(palette), label='__none__')\n",
    "plt.yscale('log')\n",
    "plt.xscale('log')\n",
    "\n",
    "for tax in species_data.p__.unique():\n",
    "    plt.scatter([], [], label=tax, color=palette[tax])\n",
    "plt.plot([0, 1e4], [0, 1e4], lw=1, linestyle='--', color='grey', zorder=0)\n",
    "plt.legend(bbox_to_anchor=(1, 1))"
   ]
  },
  {
   "cell_type": "code",
   "execution_count": null,
   "metadata": {},
   "outputs": [],
   "source": [
    "def rarifaction(value_counts):\n",
    "    x = pd.Series(\n",
    "        np.random.choice(\n",
    "            value_counts.index,\n",
    "            size=value_counts.sum(),\n",
    "            replace=True,\n",
    "            p=value_counts / value_counts.sum()\n",
    "        )\n",
    "    )\n",
    "    return (~pd.Series.duplicated(x)).cumsum()\n",
    "\n",
    "fig, ax = plt.subplots(figsize=(10, 10))\n",
    "\n",
    "for species_id in species_list:\n",
    "    ax.plot(rarifaction(species_strain_counts[species_id]), color=palette[species_taxonomy.loc[species_id].p__])\n",
    "\n",
    "for p__ in phyla:\n",
    "    ax.scatter([], [], label=p__, color=palette[p__])\n",
    "    \n",
    "ax.plot([0, 1e3], [0, 1e3], lw=1, linestyle='--', color='k')\n",
    "ax.set_aspect(1)\n",
    "\n",
    "ax.legend(bbox_to_anchor=(1, 1))"
   ]
  },
  {
   "cell_type": "code",
   "execution_count": null,
   "metadata": {},
   "outputs": [],
   "source": [
    "lib.plot.boxplot_with_points(x='p__', y='samples_per_strain', palette=palette, data=species_data[species_data.num_samples > 200])\n",
    "lib.plot.rotate_xticklabels()"
   ]
  },
  {
   "cell_type": "raw",
   "metadata": {},
   "source": [
    "from scipy.spatial.distance import pdist, squareform\n",
    "\n",
    "d = pd.DataFrame(species_strain_label).astype(float)\n",
    "d = d.loc[d.notna().sum(1) > 20, d.notna().sum() > 100]\n",
    "\n",
    "num_strains = d.notna().sum(1)\n",
    "\n",
    "def frac_shared_strains(x, y):\n",
    "    \"Fraction of all x strains shared by y where both have an assignment.\"\n",
    "    return (x == y).sum() / sum(~np.isnan(x) & ~np.isnan(y))\n",
    "\n",
    "def num_shared_strains(x, y):\n",
    "    \"Number of all x strains.\"\n",
    "    return (x == y).sum()\n",
    "\n",
    "shared_strains = pd.DataFrame(squareform(pdist(d, metric=num_shared_strains)), index=d.index, columns=d.index)\n",
    "shared_strains = shared_strains + np.diag(num_strains)"
   ]
  },
  {
   "cell_type": "raw",
   "metadata": {},
   "source": [
    "shared_strains.astype(int).to_csv('zshi_shared_strains_matrix.tsv', sep='\\t')"
   ]
  },
  {
   "cell_type": "raw",
   "metadata": {},
   "source": [
    "meta.loc[['ERR209457', 'ERR321468']]"
   ]
  },
  {
   "cell_type": "code",
   "execution_count": null,
   "metadata": {},
   "outputs": [],
   "source": [
    "frac_shared_strains = shared_strains / np.diag(shared_strains)"
   ]
  },
  {
   "cell_type": "code",
   "execution_count": null,
   "metadata": {},
   "outputs": [],
   "source": [
    "shared_strains.stack().reset_index()[lambda x: x.level_0 < x.level_1].sort_values([0], ascending=False).head(50)"
   ]
  },
  {
   "cell_type": "code",
   "execution_count": null,
   "metadata": {},
   "outputs": [],
   "source": [
    "plt.hist(shared_strains.stack(), bins=np.arange(0, 100))\n",
    "plt.yscale('log')"
   ]
  },
  {
   "cell_type": "raw",
   "metadata": {},
   "source": [
    "d = meta.loc[shared_strains.index]\n",
    "\n",
    "same_country = pd.DataFrame(squareform(pdist(d[['Country']].values, metric=lambda x, y: x == y)), index=d.index, columns=d.index)\n",
    "same_country = same_country + np.eye(len(same_country))"
   ]
  },
  {
   "cell_type": "raw",
   "metadata": {},
   "source": [
    "same_country.astype(int).to_csv('zshi_same_country_matrix.tsv', sep='\\t')"
   ]
  },
  {
   "cell_type": "code",
   "execution_count": null,
   "metadata": {},
   "outputs": [],
   "source": [
    "shared_strains_same_country = shared_strains.unstack()[same_country.unstack().astype(bool)]\n",
    "shared_strains_diff_country = shared_strains.unstack()[~same_country.unstack().astype(bool)]"
   ]
  },
  {
   "cell_type": "code",
   "execution_count": null,
   "metadata": {},
   "outputs": [],
   "source": [
    "bins = np.arange(100)\n",
    "plt.hist(shared_strains_same_country, bins=bins, alpha=0.5, label='same')\n",
    "plt.hist(shared_strains_diff_country, bins=bins, alpha=0.5, label='diff')\n",
    "plt.yscale('log')\n",
    "plt.legend()"
   ]
  },
  {
   "cell_type": "code",
   "execution_count": null,
   "metadata": {},
   "outputs": [],
   "source": [
    "species_data.sort_values(['samples_per_strain'], ascending=False).head(20)"
   ]
  },
  {
   "cell_type": "code",
   "execution_count": null,
   "metadata": {},
   "outputs": [],
   "source": [
    "species_data.loc['100170']"
   ]
  },
  {
   "cell_type": "code",
   "execution_count": null,
   "metadata": {},
   "outputs": [],
   "source": [
    "species_data[species_data.f__ == 'f__Rikenellaceae']"
   ]
  },
  {
   "cell_type": "code",
   "execution_count": null,
   "metadata": {},
   "outputs": [],
   "source": [
    "species_id = '102506'\n",
    "mgen = sf.Metagenotype.load(f'data/sp-{species_id}.zshi.a.r.proc.gtpro.filt-poly05-cvrg10.mgen.nc')\n",
    "mgen_ss = mgen.random_sample(position=1)\n",
    "pdmat = xr.load_dataarray(f'data/sp-{species_id}.zshi.a.r.proc.gtpro.filt-poly05-cvrg10.mgen.pdist.nc')\n",
    "clust = pd.Series(AgglomerativeClustering(n_clusters=None, distance_threshold=0.1, affinity='precomputed', linkage='complete').fit(pdmat).labels_, index=pdmat.sampleA, name='clust')\n",
    "clust_size = clust.value_counts()"
   ]
  },
  {
   "cell_type": "code",
   "execution_count": null,
   "metadata": {},
   "outputs": [],
   "source": [
    "mgen.sizes, clust_size.head()"
   ]
  },
  {
   "cell_type": "code",
   "execution_count": null,
   "metadata": {},
   "outputs": [],
   "source": [
    "c = clust_size.index[0]\n",
    "print(c)\n",
    "\n",
    "in_clust = idxwhere(clust == c)\n",
    "close_to_clust = idxwhere(pdmat.loc[in_clust].to_pandas().max() < 0.2)\n",
    "sister_clust = clust.loc[close_to_clust].unique()\n",
    "sample_list = idxwhere(clust.sort_values().isin(sister_clust))\n",
    "m = mgen.sel(sample=sample_list)\n",
    "position_order = m.select_variable_positions(0.02).sel(sample=idxwhere(clust == c)).sum(\"sample\").to_series().unstack().apply(lambda x: x/x.sum(), axis=1).sort_values('alt').index.to_list()\n",
    "\n",
    "print(len(in_clust), len(sample_list), len(position_order))\n",
    "\n",
    "sf.plot.plot_metagenotype(\n",
    "    m.sel(position=position_order),\n",
    "    row_cluster=False,\n",
    "    col_linkage_func=lambda w: m.metagenotype.linkage(),\n",
    "    col_colors_func=lambda w: xr.Dataset(dict(\n",
    "        aa=clust.rename_axis('sample').loc[w.sample].mod(20),\n",
    "        bb=w.sample.isin(in_clust).astype(int),\n",
    "    )),\n",
    "    row_col_annotation_cmap=mpl.cm.tab20,\n",
    "    # scaley=0.05,\n",
    ")"
   ]
  },
  {
   "cell_type": "code",
   "execution_count": null,
   "metadata": {},
   "outputs": [],
   "source": [
    "m2 = sf.Metagenotype(\n",
    "    m.to_series().unstack(\"sample\").groupby(clust, axis='columns').sum().rename_axis(columns='sample').stack().reorder_levels(('sample', 'position', 'allele')).to_xarray()\n",
    ")\n",
    "sf.plot.plot_metagenotype(\n",
    "    m2.sel(position=position_order),\n",
    "    row_cluster=False,\n",
    ")"
   ]
  },
  {
   "cell_type": "code",
   "execution_count": null,
   "metadata": {},
   "outputs": [],
   "source": [
    "plt.hist(np.abs(m2.sel(sample=[c]).to_estimated_genotype().to_series().squeeze() - 0.5) + 0.5, bins=22)\n",
    "plt.yscale('log')\n",
    "None"
   ]
  },
  {
   "cell_type": "code",
   "execution_count": null,
   "metadata": {},
   "outputs": [],
   "source": [
    "from scipy.spatial.distance import squareform\n",
    "plt.hist(squareform(pdmat.sel(sampleA=sample_list, sampleB=sample_list).values), bins=np.linspace(0, 0.2, num=44))\n",
    "plt.yscale('log')"
   ]
  },
  {
   "cell_type": "code",
   "execution_count": null,
   "metadata": {},
   "outputs": [],
   "source": [
    "pd.read_table('/pollard/home/bsmith/Projects/haplo-manuscript/raw/shi2021_s13.tsv')"
   ]
  },
  {
   "cell_type": "code",
   "execution_count": null,
   "metadata": {},
   "outputs": [],
   "source": [
    "shi2021_s13[shi2021_s13['Sample ID'].duplicated(keep=False)].sort_values('Sample ID').Study.unique()"
   ]
  },
  {
   "cell_type": "code",
   "execution_count": null,
   "metadata": {},
   "outputs": [],
   "source": [
    "mgen_meta['Country'].value_counts()"
   ]
  },
  {
   "cell_type": "code",
   "execution_count": null,
   "metadata": {},
   "outputs": [],
   "source": [
    "import lib.plot\n",
    "\n",
    "fig, ax = plt.subplots(figsize=(10, 10))\n",
    "\n",
    "# color_palette\n",
    "\n",
    "_ = lib.plot.ordination_plot(\n",
    "    pdmat_square,\n",
    "    meta=mgen_meta,\n",
    "    ordin=lib.plot.pca_ordination,\n",
    "    ordin_kws={},\n",
    "    colorby='Study',\n",
    "    color_palette=lib.plot.construct_ordered_palette(mgen_meta.Study.sort_values()),\n",
    "    ax=ax,\n",
    "    edgecolor_palette={'__none__': 'none'},\n",
    "    # scatter_kws={'alpha': 0.5},\n",
    ")"
   ]
  }
 ],
 "metadata": {
  "kernelspec": {
   "display_name": "sfacts",
   "language": "python",
   "name": "sfacts"
  },
  "language_info": {
   "codemirror_mode": {
    "name": "ipython",
    "version": 3
   },
   "file_extension": ".py",
   "mimetype": "text/x-python",
   "name": "python",
   "nbconvert_exporter": "python",
   "pygments_lexer": "ipython3",
   "version": "3.10.6"
  }
 },
 "nbformat": 4,
 "nbformat_minor": 5
}