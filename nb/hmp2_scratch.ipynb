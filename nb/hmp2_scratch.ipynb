{
 "cells": [
  {
   "cell_type": "code",
   "execution_count": null,
   "metadata": {},
   "outputs": [],
   "source": [
    "import os as _os\n",
    "\n",
    "_os.chdir('..')"
   ]
  },
  {
   "cell_type": "code",
   "execution_count": null,
   "metadata": {},
   "outputs": [],
   "source": [
    "%load_ext autoreload\n",
    "%autoreload 0"
   ]
  },
  {
   "cell_type": "code",
   "execution_count": null,
   "metadata": {},
   "outputs": [],
   "source": [
    "%autoreload"
   ]
  },
  {
   "cell_type": "code",
   "execution_count": null,
   "metadata": {},
   "outputs": [],
   "source": [
    "import sfacts as sf"
   ]
  },
  {
   "cell_type": "code",
   "execution_count": null,
   "metadata": {},
   "outputs": [],
   "source": [
    "import numpy as np\n",
    "import pandas as pd\n",
    "import xarray as xr\n",
    "import matplotlib.pyplot as plt\n",
    "import seaborn as sns\n",
    "import scipy as sp\n",
    "import matplotlib as mpl\n",
    "import scipy as sp\n",
    "from operator import eq\n",
    "from itertools import cycle\n"
   ]
  },
  {
   "cell_type": "code",
   "execution_count": null,
   "metadata": {},
   "outputs": [],
   "source": [
    "def expected_sample_entropy(w, discretized=False):\n",
    "    if discretized:\n",
    "        gen = w.genotype.discretized().data\n",
    "    else:\n",
    "        gen = w.genotype.data\n",
    "        \n",
    "    com = w.community.data\n",
    "    depth = w.metagenotype.total_counts()\n",
    "        \n",
    "    return ((sf.math.binary_entropy(com @ gen) * depth).sum(\"position\") / depth.sum(\"position\")).rename(\"entropy\")\n",
    "\n",
    "def max_strain_depth(w):\n",
    "    return (w.community.data * w.metagenotype.mean_depth()).max('sample').rename('depth')\n",
    "\n",
    "def total_strain_depth(w):\n",
    "    return (w.community.data * w.metagenotype.mean_depth()).sum('sample').rename('depth')"
   ]
  },
  {
   "cell_type": "code",
   "execution_count": null,
   "metadata": {},
   "outputs": [],
   "source": [
    "mgen = pd.read_table('meta/mgen.tsv', index_col='library_id')\n",
    "preparation = pd.read_table('meta/preparation.tsv', index_col='preparation_id')\n",
    "stool = pd.read_table('meta/stool.tsv', index_col='stool_id')\n",
    "visit = pd.read_table('meta/visit.tsv', index_col='visit_id')\n",
    "subject = pd.read_table('meta/subject.tsv', index_col='subject_id')\n",
    "\n",
    "meta_all = (\n",
    "    mgen\n",
    "    .join(preparation.drop(columns='library_type'), on='preparation_id')\n",
    "    .join(stool, on='stool_id')\n",
    "    .join(visit, on='visit_id', rsuffix='_')\n",
    "    .join(subject, on='subject_id')\n",
    ")\n",
    "\n",
    "assert not any(meta_all.subject_id.isna())\n",
    "\n",
    "# meta.columns"
   ]
  },
  {
   "cell_type": "code",
   "execution_count": null,
   "metadata": {},
   "outputs": [],
   "source": [
    "species_id = '100022'"
   ]
  },
  {
   "cell_type": "code",
   "execution_count": null,
   "metadata": {},
   "outputs": [],
   "source": [
    "metagenotype_stem = f'data/sp-{species_id}.hmp2.a.r.proc.gtpro.filt-poly05-cvrg05'\n",
    "metagenotype = sf.Metagenotype.load(f'{metagenotype_stem}.mgen.nc')\n",
    "world_path = f'{metagenotype_stem}.ss-g10000-block0-seed0.fit-sfacts11-s75-seed0.world.nc'\n",
    "world = sf.World.load(world_path)\n",
    "print(world_path)\n",
    "\n",
    "meta = meta_all.loc[world.sample].sort_values(['subject_id', 'visit_date'])\n",
    "metagenotype = metagenotype.sel(sample=meta.index)\n",
    "world = world.sel(sample=meta.index)\n",
    "world_collapse = world.collapse_strains(thresh=0.05, discretized=True)\n",
    "\n",
    "same_subject = sp.spatial.distance.pdist(meta.subject_id.values.reshape((-1, 1)), metric=eq).astype(bool)\n",
    "\n",
    "n_position_ss = min(world.sizes['position'], 1000)\n",
    "w_ss = world.random_sample(position=n_position_ss).sel(strain=world.community.max(\"sample\") > 0.01)\n",
    "w_ssc = world_collapse.sel(position=w_ss.position).sel(strain=world_collapse.community.max(\"sample\") > 0.01)\n",
    "\n",
    "print(metagenotype.sizes['sample'])\n",
    "print(metagenotype.sizes['position'], world.sizes['position'])\n",
    "print(world.sizes['strain'], w_ss.sizes['strain'], w_ssc.sizes['strain'])"
   ]
  },
  {
   "cell_type": "code",
   "execution_count": null,
   "metadata": {},
   "outputs": [],
   "source": [
    "sf.evaluation.metagenotype_error2(world, discretized=True)"
   ]
  },
  {
   "cell_type": "code",
   "execution_count": null,
   "metadata": {},
   "outputs": [],
   "source": [
    "# plt.scatter(world.data.rho, world.community.data.max('sample'))\n",
    "plt.scatter(world.data.rho, world.community.data.mean('sample'))"
   ]
  },
  {
   "cell_type": "code",
   "execution_count": null,
   "metadata": {},
   "outputs": [],
   "source": [
    "_uf = w_ss.unifrac_pdist(discretized=True)\n",
    "_mg = w_ss.metagenotype.pdist()\n",
    "\n",
    "d = pd.DataFrame(dict(x=sp.spatial.distance.squareform(_mg), y=sp.spatial.distance.squareform(_uf)))\n",
    "sns.jointplot(x='x', y='y', data=d, kind='hex', norm=mpl.colors.PowerNorm(1/2))\n",
    "sp.stats.pearsonr(d.x, d.y)"
   ]
  },
  {
   "cell_type": "code",
   "execution_count": null,
   "metadata": {},
   "outputs": [],
   "source": [
    "from itertools import cycle\n",
    "\n",
    "subject_index_mod = {k: v for k, v in zip(meta.subject_id.unique(), cycle(range(20)))}\n",
    "diagnosis_map = dict(zip(meta.ibd_diagnosis.unique(), range(100)))\n",
    "site_map = dict(zip(meta.site.unique(), range(100)))\n",
    "\n",
    "\n",
    "\n",
    "sf.plot.plot_community(\n",
    "    w_ss.sel(sample=meta.index),\n",
    "    col_colors_func=lambda w: xr.Dataset(dict(\n",
    "        site=meta.loc[w.sample].site.map(site_map),\n",
    "        diagnosis=meta.loc[w.sample].ibd_diagnosis.map(diagnosis_map),\n",
    "        subject=meta.loc[w.sample].subject_id.map(subject_index_mod),\n",
    "    )),\n",
    "    row_col_annotation_cmap=mpl.cm.tab20,\n",
    "    row_linkage_func=lambda w: w.genotype.discretized().linkage(dim=\"strain\"),\n",
    "    scalex=0.05,\n",
    "    xticklabels=0,\n",
    "    col_cluster=False,\n",
    "    # col_linkage_func=lambda w: w.unifrac_linkage(),\n",
    "    # norm=mpl.colors.PowerNorm(1),\n",
    ")"
   ]
  },
  {
   "cell_type": "code",
   "execution_count": null,
   "metadata": {},
   "outputs": [],
   "source": [
    "subject_index_mod = {k: v for k, v in zip(meta.subject_id.unique(), cycle(range(20)))}\n",
    "\n",
    "sf.plot.plot_metagenotype(\n",
    "    w_ss.sel(sample=meta.index),\n",
    "    col_colors_func=lambda w: xr.Dataset(dict(\n",
    "        site=meta.loc[w.sample].site.map(site_map),\n",
    "        diagnosis=meta.loc[w.sample].ibd_diagnosis.map(diagnosis_map),\n",
    "        subject=meta.loc[w.sample].subject_id.map(subject_index_mod),\n",
    "    )),\n",
    "    row_col_annotation_cmap=mpl.cm.tab20,\n",
    "    scalex=0.05,\n",
    "    xticklabels=0,\n",
    "    col_cluster=False,\n",
    "    # col_linkage_func=lambda w: w.unifrac_linkage(),\n",
    ")"
   ]
  },
  {
   "cell_type": "code",
   "execution_count": null,
   "metadata": {},
   "outputs": [],
   "source": [
    "sf.plot.plot_dominance(\n",
    "    w_ss.sel(sample=meta.index),\n",
    "    col_colors_func=lambda w: xr.Dataset(dict(\n",
    "        site=meta.loc[w.sample].site.map(site_map),\n",
    "        diagnosis=meta.loc[w.sample].ibd_diagnosis.map(diagnosis_map),\n",
    "        subject=meta.loc[w.sample].subject_id.map(subject_index_mod),\n",
    "    )),\n",
    "    row_col_annotation_cmap=mpl.cm.tab20,\n",
    "    row_linkage_func=lambda w: w.metagenotype.linkage(dim=\"position\"),\n",
    "    scalex=0.05,\n",
    "    xticklabels=0,\n",
    "    col_cluster=False,\n",
    "    # col_linkage_func=lambda w: w.unifrac_linkage(),\n",
    ")"
   ]
  },
  {
   "cell_type": "code",
   "execution_count": null,
   "metadata": {},
   "outputs": [],
   "source": [
    "sf.plot_genotype(\n",
    "    w_ss,\n",
    "    row_colors_func=lambda w: xr.Dataset(dict(\n",
    "        _=np.log(total_strain_depth(w)),\n",
    "\n",
    "    )),\n",
    "    row_linkage_func=lambda w: w.genotype.discretized().linkage(dim=\"strain\"),\n",
    "    col_linkage_func=lambda w: w.metagenotype.linkage(dim=\"position\"),\n",
    "    scalex=0.05,\n",
    "    xticklabels=0,\n",
    ")"
   ]
  },
  {
   "cell_type": "code",
   "execution_count": null,
   "metadata": {},
   "outputs": [],
   "source": [
    "plt.hist(world.genotype.to_series().values, bins=np.linspace(0, 1, num=501))\n",
    "plt.yscale('log')\n",
    "None"
   ]
  },
  {
   "cell_type": "code",
   "execution_count": null,
   "metadata": {},
   "outputs": [],
   "source": [
    "sf.plot_community(\n",
    "    w_ssc,\n",
    "    col_colors_func=lambda w: xr.Dataset(dict(\n",
    "        subject=meta.loc[w.sample].subject_id.map(subject_index_mod),\n",
    "    )),\n",
    "    row_col_annotation_cmap=mpl.cm.tab20,\n",
    "    col_linkage_func=lambda w: w.metagenotype.linkage(dim=\"sample\"),\n",
    "    row_linkage_func=lambda w: w.genotype.discretized().linkage(dim=\"strain\"),\n",
    "    scalex=0.05,\n",
    "    xticklabels=0,\n",
    ")"
   ]
  },
  {
   "cell_type": "code",
   "execution_count": null,
   "metadata": {},
   "outputs": [],
   "source": [
    "sf.plot.plot_metagenotype(\n",
    "    w_ssc,\n",
    "    col_colors_func=lambda w: xr.Dataset(dict(\n",
    "        subject=meta.loc[w.sample].subject_id.map(subject_index_mod),\n",
    "    )),\n",
    "    row_col_annotation_cmap=mpl.cm.tab20,\n",
    "    col_linkage_func=lambda w: w.metagenotype.linkage(dim=\"sample\"),\n",
    "    scalex=0.05,\n",
    "    xticklabels=0,\n",
    ")"
   ]
  },
  {
   "cell_type": "code",
   "execution_count": null,
   "metadata": {},
   "outputs": [],
   "source": [
    "sf.plot.plot_dominance(\n",
    "    w_ssc,\n",
    "    matrix_func=lambda w: w.metagenotype.dominant_allele_fraction(pseudo=0).T,\n",
    "    col_colors_func=lambda w: xr.Dataset(dict(\n",
    "        site=meta.loc[w.sample].site.map(site_map),\n",
    "        diagnosis=meta.loc[w.sample].ibd_diagnosis.map(diagnosis_map),\n",
    "        subject=meta.loc[w.sample].subject_id.map(subject_index_mod),\n",
    "    )),\n",
    "    row_col_annotation_cmap=mpl.cm.tab20,\n",
    "    row_linkage_func=lambda w: w.metagenotype.linkage(dim=\"position\"),\n",
    "    col_linkage_func=lambda w: w.metagenotype.linkage(dim=\"sample\"),\n",
    "    scalex=0.05,\n",
    "    xticklabels=0,\n",
    ")"
   ]
  },
  {
   "cell_type": "code",
   "execution_count": null,
   "metadata": {},
   "outputs": [],
   "source": [
    "sf.plot.plot_depth(\n",
    "    w_ss,\n",
    "    col_colors_func=lambda w: xr.Dataset(dict(\n",
    "        site=meta.loc[w.sample].site.map(site_map),\n",
    "        diagnosis=meta.loc[w.sample].ibd_diagnosis.map(diagnosis_map),\n",
    "        subject=meta.loc[w.sample].subject_id.map(subject_index_mod),\n",
    "    )),\n",
    "    row_col_annotation_cmap=mpl.cm.tab20,\n",
    "    row_linkage_func=lambda w: w.metagenotype.linkage(dim=\"position\"),\n",
    "    col_linkage_func=lambda w: w.metagenotype.linkage(dim=\"sample\"),\n",
    "    scalex=0.05,\n",
    "    xticklabels=0,\n",
    ")"
   ]
  },
  {
   "cell_type": "code",
   "execution_count": null,
   "metadata": {},
   "outputs": [],
   "source": [
    "sf.plot_community(\n",
    "    w_ssc,\n",
    "    col_colors_func=lambda w: xr.Dataset(dict(\n",
    "        subject=meta.loc[w.sample].subject_id.map(subject_index_mod),\n",
    "    )),\n",
    "    row_col_annotation_cmap=mpl.cm.tab20,\n",
    "    col_linkage_func=lambda w: w.unifrac_linkage(),\n",
    "    row_linkage_func=lambda w: w.genotype.discretized().linkage(dim=\"strain\"),\n",
    "    scalex=0.05,\n",
    "    xticklabels=0,\n",
    ")"
   ]
  },
  {
   "cell_type": "code",
   "execution_count": null,
   "metadata": {},
   "outputs": [],
   "source": [
    "sf.plot.plot_metagenotype(\n",
    "    w_ssc,\n",
    "    col_colors_func=lambda w: xr.Dataset(dict(\n",
    "        subject=meta.loc[w.sample].subject_id.map(subject_index_mod),\n",
    "    )),\n",
    "    row_col_annotation_cmap=mpl.cm.tab20,\n",
    "    col_linkage_func=lambda w: w.unifrac_linkage(),\n",
    "    scalex=0.05,\n",
    "    xticklabels=0,\n",
    ")"
   ]
  },
  {
   "cell_type": "code",
   "execution_count": null,
   "metadata": {},
   "outputs": [],
   "source": [
    "sf.plot.plot_dominance(\n",
    "    w_ssc,\n",
    "    matrix_func=lambda w: w.metagenotype.dominant_allele_fraction(pseudo=0).T,\n",
    "    col_colors_func=lambda w: xr.Dataset(dict(\n",
    "        site=meta.loc[w.sample].site.map(site_map),\n",
    "        diagnosis=meta.loc[w.sample].ibd_diagnosis.map(diagnosis_map),\n",
    "        subject=meta.loc[w.sample].subject_id.map(subject_index_mod),\n",
    "    )),\n",
    "    row_col_annotation_cmap=mpl.cm.tab20,\n",
    "    row_linkage_func=lambda w: w.metagenotype.linkage(dim=\"position\"),\n",
    "    col_linkage_func=lambda w: w.unifrac_linkage(),\n",
    "    scalex=0.05,\n",
    "    xticklabels=0,\n",
    ")"
   ]
  },
  {
   "cell_type": "code",
   "execution_count": null,
   "metadata": {},
   "outputs": [],
   "source": [
    "uf_dist = sp.spatial.distance.squareform(sf.unifrac.unifrac_pdist(world))\n",
    "ufc_dist = sp.spatial.distance.squareform(sf.unifrac.unifrac_pdist(world_collapse))\n",
    "bc_dist = sp.spatial.distance.squareform(world.community.pdist(dim='sample'))\n",
    "bcc_dist = sp.spatial.distance.squareform(world_collapse.community.pdist(dim='sample'))\n",
    "mg_dist = sp.spatial.distance.squareform(world.metagenotype.pdist(dim='sample'))\n",
    "mg_cos_dist = sp.spatial.distance.squareform(world.metagenotype.cosine_pdist(dim='sample'))\n",
    "\n",
    "# mg_all_dist = sp.spatial.distance.squareform(metagenotype.pdist(dim='sample'))\n",
    "# mg_all_cos_dist = sp.spatial.distance.squareform(metagenotype.cosine_pdist(dim='sample'))\n"
   ]
  },
  {
   "cell_type": "code",
   "execution_count": null,
   "metadata": {},
   "outputs": [],
   "source": [
    "bins = np.linspace(0, 1, num=51)\n",
    "\n",
    "all_dists = [uf_dist, bcc_dist, mg_dist, mg_cos_dist]\n",
    "\n",
    "fig, axs = plt.subplots(2, 2, sharex=True, sharey=True)\n",
    "\n",
    "for ax, dist in  zip(axs.flatten(), all_dists):\n",
    "    fig = plt.figure()\n",
    "    ax.hist(dist[~same_subject], bins=bins, density=True, alpha=0.5, label='trans')\n",
    "    ax.hist(dist[same_subject], bins=bins, density=True, alpha=0.5, label='cis')\n",
    "    ax.set_yscale('log')\n",
    "    mwu, p = sp.stats.mannwhitneyu(dist[~same_subject], dist[same_subject])\n",
    "    auc = mwu / (len(dist[~same_subject]) * len(dist[same_subject]))\n",
    "    print(auc)\n",
    "    \n",
    "axs[0, 1].legend()"
   ]
  },
  {
   "cell_type": "code",
   "execution_count": null,
   "metadata": {},
   "outputs": [],
   "source": [
    "plt.scatter(mg_dist, uf_dist, s=0.1, alpha=0.2)\n",
    "# sns.regplot(x=mg_dist, y=uf_dist, scatter=False, color='black', lowess=True)"
   ]
  },
  {
   "cell_type": "code",
   "execution_count": null,
   "metadata": {},
   "outputs": [],
   "source": [
    "plt.scatter(\n",
    "    'mgen_entropy',\n",
    "    'expect_entropy',\n",
    "    c='depth',\n",
    "    data=pd.DataFrame(dict(\n",
    "        mgen_entropy=world.metagenotype.entropy(),\n",
    "        expect_entropy=expected_sample_entropy(world, discretized=True),\n",
    "        depth=world.metagenotype.mean_depth(),\n",
    "        hcov=world.metagenotype.horizontal_coverage(),\n",
    "    )),\n",
    "    s=3,\n",
    "    norm=mpl.colors.LogNorm(),\n",
    ")\n",
    "plt.colorbar()\n",
    "\n",
    "# plt.yscale('log')\n",
    "# plt.xscale('log')"
   ]
  },
  {
   "cell_type": "code",
   "execution_count": null,
   "metadata": {},
   "outputs": [],
   "source": [
    "d = pd.DataFrame(dict(\n",
    "        mgen_entropy=world.metagenotype.entropy(),\n",
    "        expect_entropy=expected_sample_entropy(world, discretized=True),\n",
    "        depth=world.metagenotype.mean_depth(),\n",
    "        hcov=world.metagenotype.horizontal_coverage(),\n",
    "    ))\n",
    "\n",
    "print('WMAE:', (np.abs(d.mgen_entropy - d.expect_entropy) * d.depth).sum() / d.depth.sum())\n",
    "print('CORR:', sp.stats.pearsonr(np.sqrt(d.expect_entropy), np.sqrt(d.mgen_entropy))[0])\n",
    "print('SPEAR:', sp.stats.spearmanr(np.sqrt(d.expect_entropy), np.sqrt(d.mgen_entropy))[0])"
   ]
  },
  {
   "cell_type": "code",
   "execution_count": null,
   "metadata": {},
   "outputs": [],
   "source": [
    "plt.scatter(\n",
    "    'total_depth',\n",
    "    'geno_entropy',\n",
    "    c='max_depth',\n",
    "    data=pd.DataFrame(dict(\n",
    "        geno_entropy=w_ss.genotype.entropy(),\n",
    "        max_depth=max_strain_depth(w_ss),\n",
    "        total_depth=total_strain_depth(w_ss),\n",
    "    )),\n",
    ")\n",
    "plt.colorbar()"
   ]
  },
  {
   "cell_type": "code",
   "execution_count": null,
   "metadata": {},
   "outputs": [],
   "source": [
    "plt.scatter(\n",
    "    'total_depth',\n",
    "    'geno_entropy',\n",
    "    c='max_depth',\n",
    "    data=pd.DataFrame(dict(\n",
    "        geno_entropy=w_ssc.genotype.entropy(),\n",
    "        max_depth=max_strain_depth(w_ssc),\n",
    "        total_depth=total_strain_depth(w_ssc),\n",
    "    )),\n",
    ")\n",
    "plt.colorbar()"
   ]
  },
  {
   "cell_type": "code",
   "execution_count": null,
   "metadata": {},
   "outputs": [],
   "source": []
  }
 ],
 "metadata": {
  "kernelspec": {
   "display_name": "Python 3 (ipykernel)",
   "language": "python",
   "name": "python3"
  },
  "language_info": {
   "codemirror_mode": {
    "name": "ipython",
    "version": 3
   },
   "file_extension": ".py",
   "mimetype": "text/x-python",
   "name": "python",
   "nbconvert_exporter": "python",
   "pygments_lexer": "ipython3",
   "version": "3.9.12"
  }
 },
 "nbformat": 4,
 "nbformat_minor": 5
}