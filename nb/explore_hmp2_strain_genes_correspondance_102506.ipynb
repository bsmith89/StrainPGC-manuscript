{
 "cells": [
  {
   "cell_type": "code",
   "execution_count": null,
   "metadata": {},
   "outputs": [],
   "source": [
    "%load_ext autoreload"
   ]
  },
  {
   "cell_type": "code",
   "execution_count": null,
   "metadata": {},
   "outputs": [],
   "source": [
    "import os\n",
    "os.chdir('..')\n",
    "os.path.realpath(os.path.curdir)"
   ]
  },
  {
   "cell_type": "code",
   "execution_count": null,
   "metadata": {},
   "outputs": [],
   "source": [
    "import pandas as pd\n",
    "import numpy as np\n",
    "import scipy as sp\n",
    "import matplotlib.pyplot as plt\n",
    "import seaborn as sns\n",
    "import xarray as xr\n",
    "from lib.pandas_util import idxwhere, repeated\n",
    "import matplotlib as mpl\n",
    "import lib.plot\n",
    "import statsmodels as sm\n",
    "from statsmodels.stats.multitest import fdrcorrection\n",
    "from tqdm import tqdm"
   ]
  },
  {
   "cell_type": "code",
   "execution_count": null,
   "metadata": {},
   "outputs": [],
   "source": [
    "import sfacts as sf"
   ]
  },
  {
   "cell_type": "code",
   "execution_count": null,
   "metadata": {},
   "outputs": [],
   "source": [
    "mgen = pd.read_table('meta/hmp2/mgen.tsv', index_col='library_id')\n",
    "preparation = pd.read_table('meta/hmp2/preparation.tsv', index_col='preparation_id')\n",
    "stool = pd.read_table('meta/hmp2/stool.tsv', index_col='stool_id')\n",
    "visit = pd.read_table('meta/hmp2/visit.tsv', index_col='visit_id')\n",
    "subject = pd.read_table('meta/hmp2/subject.tsv', index_col='subject_id')\n",
    "\n",
    "mgen_meta = (\n",
    "    mgen\n",
    "    .join(preparation.drop(columns='library_type'), on='preparation_id')\n",
    "    .join(stool, on='stool_id')\n",
    "    .join(visit, on='visit_id', rsuffix='_')\n",
    "    .join(subject, on='subject_id')\n",
    ")\n",
    "\n",
    "assert not any(mgen_meta.subject_id.isna())\n",
    "\n",
    "# meta.columns"
   ]
  },
  {
   "cell_type": "code",
   "execution_count": null,
   "metadata": {},
   "outputs": [],
   "source": [
    "_subject_week = (\n",
    "    visit\n",
    "    .join(subject, on='subject_id')\n",
    "    .reset_index()\n",
    "    .dropna(subset=['subject_id', 'week_number'])\n",
    "    .groupby(['subject_id', 'week_number'])\n",
    "    .apply(lambda d: d.loc[d.notna().sum(1).sort_values().index[-1]])\n",
    "    .assign(subject_week_id=lambda x: x.subject_id + '_' + x.week_number.astype(int).astype(str))\n",
    "    .set_index('subject_week_id')\n",
    "    .join(stool.groupby('visit_id').fecal_calprotectin.mean(), on='visit_id')\n",
    "    .sort_values(['subject_id', 'week_number'])\n",
    ")\n",
    "\n",
    "mgen_to_subject_week = mgen_meta.dropna(subset=['week_number']).apply(lambda x: x.subject_id + '_' + str(int(x.week_number)), axis=1).rename('subject_week_id')\n",
    "mgen_to_subject_week\n",
    "#.groupby(['subject_id', 'week_number']).visit_id.count().sort_values(ascending=False)"
   ]
  },
  {
   "cell_type": "code",
   "execution_count": null,
   "metadata": {},
   "outputs": [],
   "source": [
    "species_depth = (\n",
    "    pd.read_table('data/hmp2.a.r.proc.gtpro.species_depth.tsv', index_col=['sample', 'species_id'])\n",
    "    .squeeze()\n",
    "    .unstack('species_id', fill_value=0)\n",
    "    .groupby(mgen_to_subject_week)\n",
    "    .sum()\n",
    ")\n",
    "species_depth.columns = species_depth.columns.astype(str)"
   ]
  },
  {
   "cell_type": "code",
   "execution_count": null,
   "metadata": {},
   "outputs": [],
   "source": [
    "subject_week = _subject_week.assign(has_mgen=lambda x: x.index.isin(species_depth.index))"
   ]
  },
  {
   "cell_type": "code",
   "execution_count": null,
   "metadata": {},
   "outputs": [],
   "source": [
    "strain_depth = pd.read_table(\n",
    "    'data_temp/hmp2.a.r.proc.gtpro.filt-poly05-cvrg05.ss-g10000-block0-seed0.fit-sfacts18-s75-seed0.strain_depth.tsv',\n",
    "    # names=['library_id', 'species_strain_id', 'depth'],\n",
    "    index_col=['sample', 'strain'],\n",
    ").squeeze().unstack('strain', fill_value=0).groupby(mgen_to_subject_week).sum()\n",
    "\n",
    "plt.hist(strain_depth.sum(1) - species_depth.sum(1), bins=50)\n",
    "None"
   ]
  },
  {
   "cell_type": "code",
   "execution_count": null,
   "metadata": {},
   "outputs": [],
   "source": [
    "species_rabund = species_depth.divide(species_depth.sum(1), axis=0)\n",
    "strain_rabund = strain_depth.divide(strain_depth.sum(1), axis=0)"
   ]
  },
  {
   "cell_type": "code",
   "execution_count": null,
   "metadata": {},
   "outputs": [],
   "source": [
    "species_taxonomy = pd.read_table('ref/gtpro/species_taxonomy_ext.tsv', names=['genome_id', 'species_id', 'taxonomy_string']).assign(species_id=lambda x: x.species_id.astype(str)).set_index('species_id')[['taxonomy_string']].assign(taxonomy_split=lambda x: x.taxonomy_string.str.split(';'))\n",
    "\n",
    "for level_name, level_number in [('p__', 1), ('c__', 2), ('o__', 3), ('f__', 4), ('g__', 5), ('s__', 6)]:\n",
    "    species_taxonomy = species_taxonomy.assign(**{level_name: species_taxonomy.taxonomy_split.apply(lambda x: x[level_number])}) \n",
    "species_taxonomy = species_taxonomy.drop(columns=['taxonomy_split'])\n",
    "    \n",
    "strain_taxonomy = strain_depth.columns.to_series().str.split('-').str[0].to_frame(name='species_id').join(species_taxonomy, on='species_id')\n",
    "\n",
    "species_taxonomy = strain_taxonomy.drop_duplicates(subset=['species_id']).set_index('species_id')"
   ]
  },
  {
   "cell_type": "markdown",
   "metadata": {},
   "source": [
    "## E. coli MIDAS Genes"
   ]
  },
  {
   "cell_type": "code",
   "execution_count": null,
   "metadata": {},
   "outputs": [],
   "source": [
    "gene_clusters = pd.read_table('ref_temp/midasdb_uhgg/pangenomes/102506/cluster_info.txt', index_col='centroid_99')"
   ]
  },
  {
   "cell_type": "code",
   "execution_count": null,
   "metadata": {},
   "outputs": [],
   "source": [
    "# FIXME: Install python-lz4 into the sfacts module so I can open this file as 'data_temp/sp-102506.hmp2.a.r.proc.midas_merge/genes/102506/102506.genes_depth.tsv.lz4' instead?\n",
    "genes_depth = pd.read_table('data_temp/sp-102506.hmp2.a.r.proc.midas_genes.depth.tsv', index_col='gene_id').groupby(mgen_to_subject_week, axis='columns').sum().T"
   ]
  },
  {
   "cell_type": "code",
   "execution_count": null,
   "metadata": {},
   "outputs": [],
   "source": [
    "genes_depth_75 = genes_depth.groupby(gene_clusters.centroid_75, axis='columns').sum()"
   ]
  },
  {
   "cell_type": "code",
   "execution_count": null,
   "metadata": {},
   "outputs": [],
   "source": [
    "mean_depth_present_genes = genes_depth_75.T.apply(lambda x: x[x > 0].median())"
   ]
  },
  {
   "cell_type": "code",
   "execution_count": null,
   "metadata": {},
   "outputs": [],
   "source": [
    "species_depth['102506'].sort_values()"
   ]
  },
  {
   "cell_type": "code",
   "execution_count": null,
   "metadata": {},
   "outputs": [],
   "source": [
    "plt.hist(np.log10(genes_depth_75.loc['C3009_10'] + 1e-3), bins=100)\n",
    "plt.axvline(np.log10(species_depth.loc['C3009_10', '102506']))\n",
    "plt.yscale('log')"
   ]
  },
  {
   "cell_type": "code",
   "execution_count": null,
   "metadata": {},
   "outputs": [],
   "source": [
    "def trim_gmean_nonzero(x, proportiontocut, axis=0):\n",
    "    return np.exp(sp.stats.trim_mean(np.log(x[lambda x: x > 0]), proportiontocut, axis=axis))"
   ]
  },
  {
   "cell_type": "code",
   "execution_count": null,
   "metadata": {},
   "outputs": [],
   "source": [
    "def trim_mean_top_n(x, n, proportiontocut, axis=0):\n",
    "    return sp.stats.trim_mean(np.sort(x)[-n:], proportiontocut, axis=axis)"
   ]
  },
  {
   "cell_type": "code",
   "execution_count": null,
   "metadata": {},
   "outputs": [],
   "source": [
    "mean_depth_present_genesB = genes_depth_75.T.apply(lambda x: x[x > 0].median())\n",
    "mean_depth_present_genesA = genes_depth_75.T.apply(trim_gmean_nonzero, proportiontocut=0.1)\n",
    "mean_depth_present_genes = genes_depth_75.T.apply(trim_mean_top_n, n=2000, proportiontocut=0.3)"
   ]
  },
  {
   "cell_type": "code",
   "execution_count": null,
   "metadata": {},
   "outputs": [],
   "source": [
    "d = pd.DataFrame(dict(species=species_depth['102506'], genes=mean_depth_present_genes))\n",
    "plt.scatter('species', 'genes', data=d)\n",
    "plt.plot([0, 1e2], [0, 1e2])\n",
    "plt.yscale('symlog')\n",
    "plt.xscale('symlog')"
   ]
  },
  {
   "cell_type": "markdown",
   "metadata": {},
   "source": [
    "## E. coli Strains"
   ]
  },
  {
   "cell_type": "code",
   "execution_count": null,
   "metadata": {},
   "outputs": [],
   "source": [
    "ecoli_strain_depth = strain_depth.loc[:, strain_taxonomy.species_id == '102506']"
   ]
  },
  {
   "cell_type": "code",
   "execution_count": null,
   "metadata": {},
   "outputs": [],
   "source": [
    "sns.clustermap(ecoli_strain_depth, norm=mpl.colors.PowerNorm(1/10))"
   ]
  },
  {
   "cell_type": "code",
   "execution_count": null,
   "metadata": {},
   "outputs": [],
   "source": [
    "d = (ecoli_strain_depth > 1e-3).sum().sort_values(ascending=False)\n",
    "top_strains = d.head(20).index"
   ]
  },
  {
   "cell_type": "code",
   "execution_count": null,
   "metadata": {},
   "outputs": [],
   "source": [
    "d.head()"
   ]
  },
  {
   "cell_type": "markdown",
   "metadata": {},
   "source": [
    "### Full-species"
   ]
  },
  {
   "cell_type": "code",
   "execution_count": null,
   "metadata": {},
   "outputs": [],
   "source": [
    "ecoli_samples = idxwhere(species_depth['102506'] > 1.0)\n",
    "no_ecoli_samples = idxwhere(species_depth['102506'] < 1e-5)\n",
    "len(ecoli_samples), len(no_ecoli_samples)"
   ]
  },
  {
   "cell_type": "code",
   "execution_count": null,
   "metadata": {},
   "outputs": [],
   "source": [
    "d = pd.DataFrame(dict(species=species_depth['102506'], genes=mean_depth_present_genes))\n",
    "plt.scatter('species', 'genes', data=d)\n",
    "plt.plot([0, 1e2], [0, 1e2])\n",
    "plt.yscale('symlog')\n",
    "plt.xscale('symlog')"
   ]
  },
  {
   "cell_type": "code",
   "execution_count": null,
   "metadata": {},
   "outputs": [],
   "source": [
    "x = species_depth\n",
    "y = genes_depth_75.loc[species_depth.index]\n",
    "gene_species_cos_dist = pd.DataFrame(sp.spatial.distance.cdist(x.T, y.T, metric='cosine'), index=x.columns, columns=y.columns)"
   ]
  },
  {
   "cell_type": "code",
   "execution_count": null,
   "metadata": {},
   "outputs": [],
   "source": [
    "species_thresh = 0.1\n",
    "species_gene_hits = idxwhere(gene_species_cos_dist.loc['102506'] < species_thresh)\n",
    "len(species_gene_hits)"
   ]
  },
  {
   "cell_type": "code",
   "execution_count": null,
   "metadata": {},
   "outputs": [],
   "source": [
    "gene_species_cos_dist.idxmin().value_counts().head(5)"
   ]
  },
  {
   "cell_type": "code",
   "execution_count": null,
   "metadata": {},
   "outputs": [],
   "source": [
    "bins = np.linspace(0, 1, num=101)\n",
    "plt.hist(gene_species_cos_dist.loc['102506'], bins=bins)\n",
    "plt.hist(gene_species_cos_dist.loc['102506', gene_species_cos_dist.idxmin() == '102506'], bins=bins)\n",
    "plt.hist(gene_species_cos_dist.loc['102506'].reindex(gene_clusters.marker_id.dropna().index, axis='columns').dropna(), bins=bins)\n",
    "plt.axvline(species_thresh, lw=1, linestyle='--', color='k')\n",
    "\n",
    "plt.yscale('log')\n",
    "None"
   ]
  },
  {
   "cell_type": "code",
   "execution_count": null,
   "metadata": {},
   "outputs": [],
   "source": [
    "gene_clusters.loc[species_gene_hits].marker_id.dropna().value_counts()"
   ]
  },
  {
   "cell_type": "code",
   "execution_count": null,
   "metadata": {},
   "outputs": [],
   "source": [
    "sns.clustermap(genes_depth_75[species_gene_hits].loc[ecoli_samples], norm=mpl.colors.SymLogNorm(linthresh=0.5), metric='cosine')"
   ]
  },
  {
   "cell_type": "code",
   "execution_count": null,
   "metadata": {},
   "outputs": [],
   "source": [
    "mean_depth_species_genes = genes_depth_75[species_gene_hits].apply(sp.stats.trim_mean, proportiontocut=0.1, axis=1)\n",
    "mean_depth_species_genes.sort_values(ascending=False).head(10)"
   ]
  },
  {
   "cell_type": "code",
   "execution_count": null,
   "metadata": {},
   "outputs": [],
   "source": [
    "d = pd.DataFrame(dict(species=species_depth['102506'], genes=mean_depth_species_genes))\n",
    "plt.scatter('species', 'genes', data=d)\n",
    "plt.plot([0, 1e2], [0, 1e2])\n",
    "plt.yscale('symlog')\n",
    "plt.xscale('symlog')"
   ]
  },
  {
   "cell_type": "code",
   "execution_count": null,
   "metadata": {},
   "outputs": [],
   "source": [
    "d = pd.DataFrame(dict(species=species_depth['102506'], genes=genes_depth_75[gene_clusters.loc[species_gene_hits].marker_id.dropna().index].mean(1)))\n",
    "plt.scatter('species', 'genes', data=d)\n",
    "plt.plot([0, 1e2], [0, 1e2])\n",
    "plt.yscale('symlog')\n",
    "plt.xscale('symlog')"
   ]
  },
  {
   "cell_type": "code",
   "execution_count": null,
   "metadata": {},
   "outputs": [],
   "source": [
    "depth_ratio_75 = genes_depth_75.divide(mean_depth_species_genes, axis=0)  # TODO: Should this be the 75% clustering???\n",
    "depth_ratio = genes_depth.divide(mean_depth_species_genes, axis=0)  # TODO: Should this be the 75% clustering???"
   ]
  },
  {
   "cell_type": "code",
   "execution_count": null,
   "metadata": {},
   "outputs": [],
   "source": [
    "d = np.log2(depth_ratio_75.loc[ecoli_samples] + 1e-2).dropna().T\n",
    "sns.jointplot(x='C3009_10', y='M2034_42', data=d.assign(hits=lambda x: x.index.isin(species_gene_hits)), hue='hits',  alpha=0.5, s=2)\n",
    "None"
   ]
  },
  {
   "cell_type": "markdown",
   "metadata": {},
   "source": [
    "### Strain 102506-2"
   ]
  },
  {
   "cell_type": "code",
   "execution_count": null,
   "metadata": {},
   "outputs": [],
   "source": [
    "strain_id = top_strains[0]\n",
    "strain_id"
   ]
  },
  {
   "cell_type": "code",
   "execution_count": null,
   "metadata": {},
   "outputs": [],
   "source": [
    "pure_samples = idxwhere((ecoli_strain_depth.apply(lambda x: x / x.sum(), axis=1) > 0.95).any(1))\n",
    "pure_samples_with_strain = list(set(ecoli_samples) & set(idxwhere((ecoli_strain_depth.idxmax(1) == strain_id))) & set(pure_samples))\n",
    "focal_samples = list(set(pure_samples_with_strain) | set(no_ecoli_samples))\n",
    "len(pure_samples_with_strain), len(focal_samples)"
   ]
  },
  {
   "cell_type": "code",
   "execution_count": null,
   "metadata": {},
   "outputs": [],
   "source": [
    "d = pd.DataFrame(dict(species=species_depth['102506'], genes=mean_depth_species_genes))\n",
    "plt.scatter('species', 'genes', data=d.loc[focal_samples])\n",
    "plt.plot([0, 1e2], [0, 1e2])\n",
    "plt.yscale('symlog')\n",
    "plt.xscale('symlog')"
   ]
  },
  {
   "cell_type": "code",
   "execution_count": null,
   "metadata": {},
   "outputs": [],
   "source": [
    "x = species_depth.loc[focal_samples]\n",
    "y = genes_depth.loc[focal_samples]\n",
    "gene_strain_cos_dist = pd.DataFrame(sp.spatial.distance.cdist(x.T, y.T, metric='cosine'), index=x.columns, columns=y.columns)"
   ]
  },
  {
   "cell_type": "code",
   "execution_count": null,
   "metadata": {},
   "outputs": [],
   "source": [
    "strain_thresh = 0.2\n",
    "strain_gene_hits = idxwhere(gene_strain_cos_dist.loc['102506'] < strain_thresh)\n",
    "len(strain_gene_hits)"
   ]
  },
  {
   "cell_type": "code",
   "execution_count": null,
   "metadata": {},
   "outputs": [],
   "source": [
    "gene_strain_cos_dist.idxmin().value_counts().head(5)"
   ]
  },
  {
   "cell_type": "code",
   "execution_count": null,
   "metadata": {},
   "outputs": [],
   "source": [
    "bins = np.linspace(0, 1, num=101)\n",
    "plt.hist(gene_strain_cos_dist.loc['102506'], bins=bins)\n",
    "plt.hist(gene_strain_cos_dist.loc['102506', gene_strain_cos_dist.idxmin() == '102506'], bins=bins)\n",
    "plt.hist(gene_strain_cos_dist.loc['102506'].reindex(gene_clusters.marker_id.dropna().index, axis='columns').dropna(), bins=bins)\n",
    "\n",
    "plt.yscale('log')\n",
    "None"
   ]
  },
  {
   "cell_type": "code",
   "execution_count": null,
   "metadata": {},
   "outputs": [],
   "source": [
    "gene_clusters.loc[strain_gene_hits].marker_id.dropna().value_counts()"
   ]
  },
  {
   "cell_type": "code",
   "execution_count": null,
   "metadata": {},
   "outputs": [],
   "source": [
    "sns.clustermap(genes_depth[strain_gene_hits].loc[ecoli_samples], norm=mpl.colors.SymLogNorm(linthresh=1e-1), metric='cosine')"
   ]
  },
  {
   "cell_type": "code",
   "execution_count": null,
   "metadata": {},
   "outputs": [],
   "source": [
    "sns.clustermap(genes_depth[strain_gene_hits].loc[pure_samples_with_strain], norm=mpl.colors.SymLogNorm(linthresh=1e-1), metric='cosine')"
   ]
  },
  {
   "cell_type": "code",
   "execution_count": null,
   "metadata": {},
   "outputs": [],
   "source": [
    "d0 = np.log2(strain_mean_depth_ratio)\n",
    "d1 = np.log2(depth_ratio.loc[pure_samples_with_strain].mean())\n",
    "\n",
    "bins = np.linspace(-10, 5, num=51)\n",
    "\n",
    "d2 = pd.DataFrame(dict(mean_depth_ratio=d1, wmean_depth_ratio=d0)).assign(hit=lambda x: x.index.isin(strain_gene_hits))\n",
    "\n",
    "g = sns.jointplot(data=d2, x='wmean_depth_ratio', y='mean_depth_ratio', hue='hit')\n",
    "g.ax_joint.plot([-6, 6], [-6, 6], color='k')\n",
    "# plt.hist(d0, bins=bins)\n",
    "# plt.hist(d0.reindex(idxwhere(gene_clusters.marker_id.notna())).dropna(), bins=bins)\n",
    "\n",
    "# plt.hist(d1, bins=bins)\n",
    "# plt.hist(d1.reindex(idxwhere(gene_clusters.marker_id.notna())).dropna(), bins=bins)\n",
    "# plt.yscale('log')\n",
    "None"
   ]
  },
  {
   "cell_type": "code",
   "execution_count": null,
   "metadata": {},
   "outputs": [],
   "source": [
    "best_strain_gene_match = gene_strain_cos_dist.loc['102506'].fillna(1.0).groupby(gene_clusters.centroid_75).idxmin()\n",
    "assert best_strain_gene_match.is_unique and best_strain_gene_match.index.is_unique\n",
    "strain_to_species_gene = best_strain_gene_match.to_frame('centroid_99').reset_index().set_index('centroid_99', drop=False)['centroid_75']\n",
    "strain_to_species_gene"
   ]
  },
  {
   "cell_type": "code",
   "execution_count": null,
   "metadata": {},
   "outputs": [],
   "source": [
    "strain_gene_info = (\n",
    "    strain_mean_depth_ratio\n",
    "    .to_frame('depth_ratio')\n",
    "    .assign(\n",
    "        marker_id=gene_clusters.marker_id,\n",
    "        strain_cos=gene_strain_cos_dist.loc['102506'].fillna(1.0),\n",
    "        # species_cos=gene_species_cos_dist.loc['102506'].fillna(1.0),\n",
    "        species_gene_id=strain_to_species_gene,\n",
    "    )\n",
    "    .join(gene_species_cos_dist.loc['102506'].to_frame('species_cos'), on='species_gene_id')\n",
    "    .assign(species_cos=lambda x: x.species_cos.fillna(1.0))\n",
    "    .assign(hit=lambda x: (x.depth_ratio > 0.2) & ((x.strain_cos < 0.2) | (x.species_cos < 0.2)))\n",
    ")"
   ]
  },
  {
   "cell_type": "code",
   "execution_count": null,
   "metadata": {},
   "outputs": [],
   "source": [
    "d = strain_gene_info[lambda x: (x.depth_ratio > 0.2) & ((x.strain_cos < 0.2) | (x.species_cos < 0.2))].sort_values('depth_ratio')\n",
    "\n",
    "plt.scatter('strain_cos', 'species_cos', data=d, c='depth_ratio', s=5, norm=mpl.colors.LogNorm())\n",
    "plt.yscale('log')\n",
    "plt.xscale('log')\n",
    "plt.colorbar()\n",
    "\n",
    "print(len(d.marker_id.value_counts()))\n",
    "d.marker_id.value_counts()"
   ]
  },
  {
   "cell_type": "code",
   "execution_count": null,
   "metadata": {},
   "outputs": [],
   "source": [
    "mean_depth_species_genes.loc[pure_samples_with_strain].sort_values(ascending=False).head(20)"
   ]
  },
  {
   "cell_type": "code",
   "execution_count": null,
   "metadata": {},
   "outputs": [],
   "source": [
    "x, y = 'M2064_53', 'H4040_22'\n",
    "d = np.log2(depth_ratio.loc[[x, y]] + 1e-2).dropna().T.join(strain_gene_info)\n",
    "sns.jointplot(x=x, y=y, data=d.sort_values('hit'), hue='hit', s=3, marginal_kws=dict(common_norm=False))"
   ]
  },
  {
   "cell_type": "code",
   "execution_count": null,
   "metadata": {},
   "outputs": [],
   "source": [
    "sns.clustermap(genes_depth[idxwhere(strain_gene_info.hit)].loc[pure_samples_with_strain], norm=mpl.colors.SymLogNorm(linthresh=1e-1), metric='cosine')"
   ]
  },
  {
   "cell_type": "code",
   "execution_count": null,
   "metadata": {},
   "outputs": [],
   "source": [
    "d = (depth_ratio / strain_gene_info.depth_ratio).loc[ecoli_samples, strain_gene_info.hit].dropna()\n",
    "\n",
    "sns.clustermap(\n",
    "    d,\n",
    "    norm=mpl.colors.SymLogNorm(linthresh=1e-1, vmin=1e-2, vmax=1e2),\n",
    "    metric='cosine',\n",
    "    row_colors=d.index.to_series().isin(pure_samples_with_strain).map({False: 'blue', True: 'red'}),\n",
    ")"
   ]
  },
  {
   "cell_type": "code",
   "execution_count": null,
   "metadata": {},
   "outputs": [],
   "source": [
    "idxwhere(mgen_to_subject_week == 'C3023_36')"
   ]
  },
  {
   "cell_type": "code",
   "execution_count": null,
   "metadata": {},
   "outputs": [],
   "source": [
    "C3023_36_rerun = pd.read_table('data_temp/sp-102506.hmp2.a.r.proc.midas_output/CSM7KOTA_G110632/genes/102506.genes.tsv', index_col=['gene_id'])"
   ]
  },
  {
   "cell_type": "code",
   "execution_count": null,
   "metadata": {},
   "outputs": [],
   "source": [
    "d = C3023_36_rerun['mean_coverage'].to_frame('mean_coverage_new').join(genes_depth.loc['C3023_36'].to_frame('mean_coverage_old')).fillna(1e-2).apply(np.log2)\n",
    "\n",
    "plt.scatter(x='mean_coverage_old', y='mean_coverage_new', data=d, s=2)\n",
    "# plt.yscale('symlog', linthresh=1e-2)\n",
    "# plt.xscale('symlog', linthresh=1e-2)\n",
    "# plt.ylim(-1e-2, 1e4)\n",
    "# plt.xlim(-1e-2, 1e4)"
   ]
  },
  {
   "cell_type": "code",
   "execution_count": null,
   "metadata": {},
   "outputs": [],
   "source": []
  }
 ],
 "metadata": {
  "kernelspec": {
   "display_name": "sfacts",
   "language": "python",
   "name": "sfacts"
  },
  "language_info": {
   "codemirror_mode": {
    "name": "ipython",
    "version": 3
   },
   "file_extension": ".py",
   "mimetype": "text/x-python",
   "name": "python",
   "nbconvert_exporter": "python",
   "pygments_lexer": "ipython3",
   "version": "3.10.5"
  }
 },
 "nbformat": 4,
 "nbformat_minor": 5
}