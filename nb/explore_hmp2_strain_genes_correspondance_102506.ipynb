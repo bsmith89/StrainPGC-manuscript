{
 "cells": [
  {
   "cell_type": "markdown",
   "metadata": {},
   "source": [
    "# Preamble"
   ]
  },
  {
   "cell_type": "code",
   "execution_count": null,
   "metadata": {},
   "outputs": [],
   "source": [
    "%load_ext autoreload"
   ]
  },
  {
   "cell_type": "code",
   "execution_count": null,
   "metadata": {},
   "outputs": [],
   "source": [
    "import os\n",
    "os.chdir('..')\n",
    "os.path.realpath(os.path.curdir)"
   ]
  },
  {
   "cell_type": "code",
   "execution_count": null,
   "metadata": {},
   "outputs": [],
   "source": [
    "import pandas as pd\n",
    "import numpy as np\n",
    "import scipy as sp\n",
    "import matplotlib.pyplot as plt\n",
    "import seaborn as sns\n",
    "import xarray as xr\n",
    "from lib.pandas_util import idxwhere, repeated\n",
    "import matplotlib as mpl\n",
    "import lib.plot\n",
    "import statsmodels as sm\n",
    "from statsmodels.stats.multitest import fdrcorrection\n",
    "from tqdm import tqdm"
   ]
  },
  {
   "cell_type": "code",
   "execution_count": null,
   "metadata": {},
   "outputs": [],
   "source": [
    "import sfacts as sf"
   ]
  },
  {
   "cell_type": "markdown",
   "metadata": {},
   "source": [
    "## Set Parameters"
   ]
  },
  {
   "cell_type": "code",
   "execution_count": null,
   "metadata": {},
   "outputs": [],
   "source": [
    "species_id = '102506'"
   ]
  },
  {
   "cell_type": "markdown",
   "metadata": {},
   "source": [
    "# Load Data"
   ]
  },
  {
   "cell_type": "markdown",
   "metadata": {},
   "source": [
    "## Sample Metadata"
   ]
  },
  {
   "cell_type": "code",
   "execution_count": null,
   "metadata": {},
   "outputs": [],
   "source": [
    "mgen = pd.read_table('meta/hmp2/mgen.tsv', index_col='library_id')\n",
    "preparation = pd.read_table('meta/hmp2/preparation.tsv', index_col='preparation_id')\n",
    "stool = pd.read_table('meta/hmp2/stool.tsv', index_col='stool_id')\n",
    "visit = pd.read_table('meta/hmp2/visit.tsv', index_col='visit_id')\n",
    "subject = pd.read_table('meta/hmp2/subject.tsv', index_col='subject_id')\n",
    "\n",
    "mgen_meta = (\n",
    "    mgen\n",
    "    .join(preparation.drop(columns='library_type'), on='preparation_id')\n",
    "    .join(stool, on='stool_id')\n",
    "    .join(visit, on='visit_id', rsuffix='_')\n",
    "    .join(subject, on='subject_id')\n",
    ")\n",
    "\n",
    "assert not any(mgen_meta.subject_id.isna())\n",
    "\n",
    "# meta.columns"
   ]
  },
  {
   "cell_type": "code",
   "execution_count": null,
   "metadata": {},
   "outputs": [],
   "source": [
    "_subject_week = (\n",
    "    visit\n",
    "    .join(subject, on='subject_id')\n",
    "    .reset_index()\n",
    "    .dropna(subset=['subject_id', 'week_number'])\n",
    "    .groupby(['subject_id', 'week_number'])\n",
    "    .apply(lambda d: d.loc[d.notna().sum(1).sort_values().index[-1]])\n",
    "    .assign(subject_week_id=lambda x: x.subject_id + '_' + x.week_number.astype(int).astype(str))\n",
    "    .set_index('subject_week_id')\n",
    "    .join(stool.groupby('visit_id').fecal_calprotectin.mean(), on='visit_id')\n",
    "    .sort_values(['subject_id', 'week_number'])\n",
    ")\n",
    "\n",
    "mgen_to_subject_week = mgen_meta.dropna(subset=['week_number']).apply(lambda x: x.subject_id + '_' + str(int(x.week_number)), axis=1).rename('subject_week_id')\n",
    "mgen_to_subject_week\n",
    "#.groupby(['subject_id', 'week_number']).visit_id.count().sort_values(ascending=False)"
   ]
  },
  {
   "cell_type": "markdown",
   "metadata": {},
   "source": [
    "## Species"
   ]
  },
  {
   "cell_type": "code",
   "execution_count": null,
   "metadata": {},
   "outputs": [],
   "source": [
    "species_depth = (\n",
    "    pd.read_table('data/hmp2.a.r.proc.gtpro.species_depth.tsv', index_col=['sample', 'species_id'])\n",
    "    .squeeze()\n",
    "    .unstack('species_id', fill_value=0)\n",
    "    .groupby(mgen_to_subject_week)\n",
    "    .sum()\n",
    ")\n",
    "species_depth.columns = species_depth.columns.astype(str)"
   ]
  },
  {
   "cell_type": "code",
   "execution_count": null,
   "metadata": {},
   "outputs": [],
   "source": [
    "subject_week = _subject_week.assign(has_mgen=lambda x: x.index.isin(species_depth.index))"
   ]
  },
  {
   "cell_type": "markdown",
   "metadata": {},
   "source": [
    "## Strains"
   ]
  },
  {
   "cell_type": "code",
   "execution_count": null,
   "metadata": {},
   "outputs": [],
   "source": [
    "strain_depth = pd.read_table(\n",
    "    'data_temp/hmp2.a.r.proc.gtpro.filt-poly05-cvrg05.ss-g10000-block0-seed0.fit-sfacts18-s75-seed0.strain_depth.tsv',\n",
    "    # names=['library_id', 'species_strain_id', 'depth'],\n",
    "    index_col=['sample', 'strain'],\n",
    ").squeeze().unstack('strain', fill_value=0).groupby(mgen_to_subject_week).sum()\n",
    "\n",
    "plt.hist(strain_depth.sum(1) - species_depth.sum(1), bins=50)\n",
    "None"
   ]
  },
  {
   "cell_type": "code",
   "execution_count": null,
   "metadata": {},
   "outputs": [],
   "source": [
    "species_rabund = species_depth.divide(species_depth.sum(1), axis=0)\n",
    "strain_rabund = strain_depth.divide(strain_depth.sum(1), axis=0)"
   ]
  },
  {
   "cell_type": "markdown",
   "metadata": {},
   "source": [
    "## Taxonomy"
   ]
  },
  {
   "cell_type": "code",
   "execution_count": null,
   "metadata": {},
   "outputs": [],
   "source": [
    "species_taxonomy = pd.read_table('ref/gtpro/species_taxonomy_ext.tsv', names=['genome_id', 'species_id', 'taxonomy_string']).assign(species_id=lambda x: x.species_id.astype(str)).set_index('species_id')[['taxonomy_string']].assign(taxonomy_split=lambda x: x.taxonomy_string.str.split(';'))\n",
    "\n",
    "for level_name, level_number in [('p__', 1), ('c__', 2), ('o__', 3), ('f__', 4), ('g__', 5), ('s__', 6)]:\n",
    "    species_taxonomy = species_taxonomy.assign(**{level_name: species_taxonomy.taxonomy_split.apply(lambda x: x[level_number])}) \n",
    "species_taxonomy = species_taxonomy.drop(columns=['taxonomy_split'])\n",
    "    \n",
    "strain_taxonomy = strain_depth.columns.to_series().str.split('-').str[0].to_frame(name='species_id').join(species_taxonomy, on='species_id')\n",
    "\n",
    "species_taxonomy = strain_taxonomy.drop_duplicates(subset=['species_id']).set_index('species_id')"
   ]
  },
  {
   "cell_type": "markdown",
   "metadata": {},
   "source": [
    "## Genes"
   ]
  },
  {
   "cell_type": "code",
   "execution_count": null,
   "metadata": {},
   "outputs": [],
   "source": [
    "gene_clusters = pd.read_table(f'ref_temp/midasdb_uhgg/pangenomes/{species_id}/cluster_info.txt', index_col='centroid_99')"
   ]
  },
  {
   "cell_type": "code",
   "execution_count": null,
   "metadata": {},
   "outputs": [],
   "source": [
    "# FIXME: Install python-lz4 into the sfacts module so I can open this file as 'data_temp/sp-102506.hmp2.a.r.proc.midas_merge/genes/102506/102506.genes_depth.tsv.lz4' instead?\n",
    "genes_depth = pd.read_table(f'data_temp/sp-{species_id}.hmp2.a.r.proc.midas_genes.depth.tsv', index_col='gene_id').groupby(mgen_to_subject_week, axis='columns').sum().T"
   ]
  },
  {
   "cell_type": "code",
   "execution_count": null,
   "metadata": {},
   "outputs": [],
   "source": [
    "genes_depth_75 = genes_depth.groupby(gene_clusters.centroid_75, axis='columns').sum()"
   ]
  },
  {
   "cell_type": "code",
   "execution_count": null,
   "metadata": {},
   "outputs": [],
   "source": [
    "mean_depth_present_genes = genes_depth_75.T.apply(lambda x: x[x > 0].median())\n",
    "mean_marker_depth = genes_depth.groupby(gene_clusters.marker_id, axis='columns').sum().mean(1)"
   ]
  },
  {
   "cell_type": "code",
   "execution_count": null,
   "metadata": {},
   "outputs": [],
   "source": [
    "species_depth[species_id].sort_values()"
   ]
  },
  {
   "cell_type": "code",
   "execution_count": null,
   "metadata": {},
   "outputs": [],
   "source": [
    "plt.hist(np.log10(genes_depth_75.loc['C3009_10'] + 1e-3), bins=100)\n",
    "plt.axvline(np.log10(species_depth.loc['C3009_10', species_id]))\n",
    "plt.yscale('log')"
   ]
  },
  {
   "cell_type": "code",
   "execution_count": null,
   "metadata": {},
   "outputs": [],
   "source": [
    "def trim_gmean_nonzero(x, proportiontocut, axis=0):\n",
    "    return np.exp(sp.stats.trim_mean(np.log(x[lambda x: x > 0]), proportiontocut, axis=axis))"
   ]
  },
  {
   "cell_type": "code",
   "execution_count": null,
   "metadata": {},
   "outputs": [],
   "source": [
    "def trim_mean_top_n(x, n, proportiontocut, axis=0):\n",
    "    return sp.stats.trim_mean(np.sort(x)[-n:], proportiontocut, axis=axis)"
   ]
  },
  {
   "cell_type": "code",
   "execution_count": null,
   "metadata": {},
   "outputs": [],
   "source": [
    "mean_depth_present_genesB = genes_depth_75.T.apply(lambda x: x[x > 0].median())\n",
    "mean_depth_present_genesA = genes_depth_75.T.apply(trim_gmean_nonzero, proportiontocut=0.1)\n",
    "mean_depth_present_genes = genes_depth_75.T.apply(trim_mean_top_n, n=2000, proportiontocut=0.3)"
   ]
  },
  {
   "cell_type": "markdown",
   "metadata": {},
   "source": [
    "# Focal Species"
   ]
  },
  {
   "cell_type": "code",
   "execution_count": null,
   "metadata": {},
   "outputs": [],
   "source": [
    "focal_species_strain_depth = strain_depth.loc[:, strain_taxonomy.species_id == species_id]\n",
    "focal_species_strain_rabund = focal_species_strain_depth.divide(focal_species_strain_depth.sum(1), axis=0)"
   ]
  },
  {
   "cell_type": "code",
   "execution_count": null,
   "metadata": {},
   "outputs": [],
   "source": [
    "sns.clustermap(focal_species_strain_depth, norm=mpl.colors.PowerNorm(1/10))"
   ]
  },
  {
   "cell_type": "code",
   "execution_count": null,
   "metadata": {},
   "outputs": [],
   "source": [
    "strain_rabund_thresh = 0.95\n",
    "focal_sample_species_depth_thresh_pres = 0.5\n",
    "focal_sample_species_depth_thresh_abs = 1e-3\n",
    "\n",
    "d0 = (\n",
    "    (focal_species_strain_depth > focal_sample_species_depth_thresh_pres)\n",
    "    & (focal_species_strain_rabund > strain_rabund_thresh)\n",
    ")\n",
    "num_samples = d0.sum().sort_values(ascending=False)\n",
    "num_subjects = d0.groupby(subject_week.subject_id).any().sum().sort_values(ascending=False).head()\n",
    "\n",
    "strain_sample_counts = pd.DataFrame(dict(\n",
    "    num_samples=d0.sum(),\n",
    "    num_subjects=d0.groupby(subject_week.subject_id).any().sum(),\n",
    ")).sort_values('num_samples', ascending=False)\n",
    "\n",
    "top_strains = strain_sample_counts.head(20).index\n",
    "\n",
    "strain_sample_counts.head(8)"
   ]
  },
  {
   "cell_type": "markdown",
   "metadata": {},
   "source": [
    "## Species Genes"
   ]
  },
  {
   "cell_type": "markdown",
   "metadata": {},
   "source": [
    "### Select high-coverage and no-coverage samples"
   ]
  },
  {
   "cell_type": "code",
   "execution_count": null,
   "metadata": {},
   "outputs": [],
   "source": [
    "species_samples = idxwhere(species_depth[species_id] > focal_sample_species_depth_thresh_pres)\n",
    "no_species_samples = idxwhere(species_depth[species_id] < focal_sample_species_depth_thresh_abs)\n",
    "len(species_samples), len(no_species_samples)"
   ]
  },
  {
   "cell_type": "markdown",
   "metadata": {},
   "source": [
    "### Comparison of GT-Pro and MIDAS depth estimates"
   ]
  },
  {
   "cell_type": "code",
   "execution_count": null,
   "metadata": {},
   "outputs": [],
   "source": [
    "d = pd.DataFrame(dict(species=species_depth[species_id], genes=mean_marker_depth))\n",
    "plt.scatter('species', 'genes', data=d, alpha=0.4)\n",
    "plt.scatter('species', 'genes', data=d.loc[species_samples], s=2)\n",
    "plt.scatter('species', 'genes', data=d.loc[no_species_samples], s=2)\n",
    "plt.plot([0, 1e2], [0, 1e2])\n",
    "plt.yscale('symlog', linthresh=focal_sample_species_depth_thresh_abs)\n",
    "plt.xscale('symlog', linthresh=focal_sample_species_depth_thresh_abs)"
   ]
  },
  {
   "cell_type": "markdown",
   "metadata": {},
   "source": [
    "### Identify species core genes"
   ]
  },
  {
   "cell_type": "code",
   "execution_count": null,
   "metadata": {},
   "outputs": [],
   "source": [
    "focal_samples = list(set(species_samples) | set(no_species_samples))"
   ]
  },
  {
   "cell_type": "code",
   "execution_count": null,
   "metadata": {},
   "outputs": [],
   "source": [
    "x = species_depth.loc[focal_samples]\n",
    "y = genes_depth_75.loc[focal_samples]\n",
    "\n",
    "_transf = np.cbrt\n",
    "\n",
    "gene_species_cos_dist = pd.DataFrame(sp.spatial.distance.cdist(_transf(x.T), _transf(y.T), metric='cosine'), index=x.columns, columns=y.columns)"
   ]
  },
  {
   "cell_type": "code",
   "execution_count": null,
   "metadata": {},
   "outputs": [],
   "source": [
    "species_prefilt_thresh = 0.1\n",
    "species_gene_hits = idxwhere(gene_species_cos_dist.loc[species_id] < species_prefilt_thresh)\n",
    "len(species_gene_hits)"
   ]
  },
  {
   "cell_type": "code",
   "execution_count": null,
   "metadata": {},
   "outputs": [],
   "source": [
    "pd.DataFrame(dict(\n",
    "    closest_species=gene_species_cos_dist.idxmin().value_counts(),\n",
    "    hit_species=(gene_species_cos_dist < species_prefilt_thresh).sum(1),\n",
    ")).join(species_taxonomy[['f__', 'g__']]).sort_values('hit_species', ascending=False).head(5)"
   ]
  },
  {
   "cell_type": "code",
   "execution_count": null,
   "metadata": {},
   "outputs": [],
   "source": [
    "bins = np.linspace(0, 1, num=101)\n",
    "plt.hist(gene_species_cos_dist.loc[species_id], bins=bins)\n",
    "plt.hist(gene_species_cos_dist.loc[species_id, gene_species_cos_dist.idxmin() == species_id], bins=bins)\n",
    "plt.hist(gene_species_cos_dist.loc[species_id].reindex(gene_clusters.marker_id.dropna().index, axis='columns').dropna(), bins=bins)\n",
    "plt.axvline(species_prefilt_thresh, lw=1, linestyle='--', color='k')\n",
    "\n",
    "plt.yscale('log')\n",
    "None"
   ]
  },
  {
   "cell_type": "markdown",
   "metadata": {},
   "source": [
    "## Why do many genes in the focal species pangenome correlated with other species as well?"
   ]
  },
  {
   "cell_type": "code",
   "execution_count": null,
   "metadata": {},
   "outputs": [],
   "source": [
    "plt.scatter(gene_species_cos_dist.loc['102506'], gene_species_cos_dist.loc['102538'], s=1)"
   ]
  },
  {
   "cell_type": "markdown",
   "metadata": {},
   "source": [
    "Is it because the two species are themselves correlated."
   ]
  },
  {
   "cell_type": "code",
   "execution_count": null,
   "metadata": {},
   "outputs": [],
   "source": [
    "x, y = species_depth.loc[focal_samples, '102506'], species_depth.loc[focal_samples, '102538']\n",
    "plt.scatter(x, y, alpha=0.2)\n",
    "plt.xscale('symlog', linthresh=1e-3)\n",
    "plt.yscale('symlog', linthresh=1e-3)\n",
    "sp.stats.pearsonr(x, y)"
   ]
  },
  {
   "cell_type": "markdown",
   "metadata": {},
   "source": [
    "This suggests that it is instead because of pangenome cross-mapping."
   ]
  },
  {
   "cell_type": "markdown",
   "metadata": {},
   "source": [
    "### How does the distribution of depth-correlation compare to a null distribution?"
   ]
  },
  {
   "cell_type": "code",
   "execution_count": null,
   "metadata": {},
   "outputs": [],
   "source": [
    "x = species_depth.loc[focal_samples]\n",
    "y = genes_depth_75.loc[focal_samples]\n",
    "\n",
    "x_permute = x.copy()\n",
    "x_permute.index = np.random.choice(x.index, size=len(x.index), replace=False)\n",
    "x_permute = x_permute.loc[x.index]\n",
    "\n",
    "_transf = np.cbrt\n",
    "\n",
    "gene_species_cos_dist_permute = pd.DataFrame(sp.spatial.distance.cdist(_transf(x_permute.T), _transf(y.T), metric='cosine'), index=x.columns, columns=y.columns)"
   ]
  },
  {
   "cell_type": "code",
   "execution_count": null,
   "metadata": {},
   "outputs": [],
   "source": [
    "bins = np.linspace(0, 1, num=101)\n",
    "plt.hist(gene_species_cos_dist_permute.loc[species_id], bins=bins)\n",
    "plt.hist(gene_species_cos_dist_permute.loc[species_id, gene_species_cos_dist_permute.idxmin() == species_id], bins=bins)\n",
    "plt.hist(gene_species_cos_dist_permute.loc[species_id].reindex(gene_clusters.marker_id.dropna().index, axis='columns').dropna(), bins=bins)\n",
    "\n",
    "plt.yscale('log')\n",
    "None"
   ]
  },
  {
   "cell_type": "markdown",
   "metadata": {},
   "source": [
    "### Assess core gene hits"
   ]
  },
  {
   "cell_type": "code",
   "execution_count": null,
   "metadata": {},
   "outputs": [],
   "source": [
    "d = gene_clusters.loc[species_gene_hits].marker_id.dropna().value_counts()\n",
    "print(len(d))\n",
    "d"
   ]
  },
  {
   "cell_type": "code",
   "execution_count": null,
   "metadata": {},
   "outputs": [],
   "source": [
    "sns.clustermap(genes_depth_75[species_gene_hits].loc[species_samples], norm=mpl.colors.SymLogNorm(linthresh=0.5), metric='cosine')"
   ]
  },
  {
   "cell_type": "code",
   "execution_count": null,
   "metadata": {},
   "outputs": [],
   "source": [
    "mean_depth_species_genes = genes_depth_75[species_gene_hits].apply(sp.stats.trim_mean, proportiontocut=0.1, axis=1)\n",
    "mean_depth_species_genes.sort_values(ascending=False).head(10)"
   ]
  },
  {
   "cell_type": "code",
   "execution_count": null,
   "metadata": {},
   "outputs": [],
   "source": [
    "d = pd.DataFrame(dict(species=species_depth[species_id], genes=mean_depth_species_genes))\n",
    "plt.scatter('species', 'genes', data=d)\n",
    "plt.plot([0, 1e2], [0, 1e2])\n",
    "plt.yscale('symlog')\n",
    "plt.xscale('symlog')"
   ]
  },
  {
   "cell_type": "markdown",
   "metadata": {},
   "source": [
    "#### Why are species depths lower when estimated from genes\n",
    "\n",
    "I believe this may be happening due to read stealing by similar genes."
   ]
  },
  {
   "cell_type": "code",
   "execution_count": null,
   "metadata": {},
   "outputs": [],
   "source": [
    "d = pd.DataFrame(dict(species=species_depth[species_id], genes=mean_marker_depth))\n",
    "plt.scatter('species', 'genes', data=d)\n",
    "plt.plot([0, 1e2], [0, 1e2])\n",
    "plt.yscale('symlog')\n",
    "plt.xscale('symlog')"
   ]
  },
  {
   "cell_type": "code",
   "execution_count": null,
   "metadata": {},
   "outputs": [],
   "source": [
    "d = pd.DataFrame(dict(species=species_depth[species_id], genes=mean_depth_species_genes))\n",
    "plt.scatter('species', 'genes', data=d)\n",
    "plt.plot([0, 1e2], [0, 1e2])\n",
    "# plt.yscale('symlog')\n",
    "# plt.xscale('symlog')"
   ]
  },
  {
   "cell_type": "code",
   "execution_count": null,
   "metadata": {},
   "outputs": [],
   "source": [
    "depth_ratio_75 = genes_depth_75.divide(mean_depth_species_genes, axis=0)\n",
    "depth_ratio = genes_depth.divide(mean_depth_species_genes, axis=0)"
   ]
  },
  {
   "cell_type": "code",
   "execution_count": null,
   "metadata": {},
   "outputs": [],
   "source": [
    "d = np.log2(depth_ratio_75.loc[species_samples] + 1e-2).dropna().T\n",
    "sns.jointplot(x='C3009_10', y='M2034_42', data=d.assign(hits=lambda x: x.index.isin(species_gene_hits)), hue='hits',  alpha=0.5, s=2)\n",
    "None"
   ]
  },
  {
   "cell_type": "markdown",
   "metadata": {},
   "source": [
    "## Strain Genes"
   ]
  },
  {
   "cell_type": "code",
   "execution_count": null,
   "metadata": {},
   "outputs": [],
   "source": [
    "strain_rank = 6\n",
    "strain_id = top_strains[strain_rank]\n",
    "strain_id"
   ]
  },
  {
   "cell_type": "markdown",
   "metadata": {},
   "source": [
    "### Select focal samples"
   ]
  },
  {
   "cell_type": "code",
   "execution_count": null,
   "metadata": {},
   "outputs": [],
   "source": [
    "pure_samples = idxwhere((focal_species_strain_depth.apply(lambda x: x / x.sum(), axis=1) > strain_rabund_thresh).any(1))\n",
    "pure_samples_with_strain = list(set(species_samples) & set(idxwhere((focal_species_strain_depth.idxmax(1) == strain_id))) & set(pure_samples))\n",
    "focal_samples = list(set(pure_samples_with_strain) | set(no_species_samples))\n",
    "len(pure_samples_with_strain), len(focal_samples)"
   ]
  },
  {
   "cell_type": "markdown",
   "metadata": {},
   "source": [
    "### Depth estimate comparison"
   ]
  },
  {
   "cell_type": "code",
   "execution_count": null,
   "metadata": {},
   "outputs": [],
   "source": [
    "d = pd.DataFrame(dict(species=species_depth[species_id], genes=mean_depth_species_genes))\n",
    "plt.scatter('species', 'genes', data=d.loc[focal_samples])\n",
    "plt.plot([0, 1e2], [0, 1e2])\n",
    "plt.yscale('symlog')\n",
    "plt.xscale('symlog')"
   ]
  },
  {
   "cell_type": "markdown",
   "metadata": {},
   "source": [
    "### Identify depth correlated genes in focal samples"
   ]
  },
  {
   "cell_type": "code",
   "execution_count": null,
   "metadata": {},
   "outputs": [],
   "source": [
    "x = species_depth.loc[focal_samples]\n",
    "y = genes_depth.loc[focal_samples]\n",
    "\n",
    "_transf = np.cbrt\n",
    "\n",
    "gene_strain_cos_dist = pd.DataFrame(sp.spatial.distance.cdist(_transf(x.T), _transf(y.T), metric='cosine'), index=x.columns, columns=y.columns)"
   ]
  },
  {
   "cell_type": "code",
   "execution_count": null,
   "metadata": {},
   "outputs": [],
   "source": [
    "strain_prefilt_thresh = 0.3\n",
    "strain_gene_maybe_hits = idxwhere(gene_strain_cos_dist.loc[species_id] < strain_prefilt_thresh)\n",
    "len(strain_gene_maybe_hits)"
   ]
  },
  {
   "cell_type": "code",
   "execution_count": null,
   "metadata": {},
   "outputs": [],
   "source": [
    "pd.DataFrame(dict(\n",
    "    closest_species=gene_strain_cos_dist.idxmin().value_counts(),\n",
    "    hit_species=(gene_strain_cos_dist < strain_prefilt_thresh).sum(1),\n",
    ")).join(species_taxonomy[['f__', 'g__']]).sort_values('hit_species', ascending=False).head(5)"
   ]
  },
  {
   "cell_type": "code",
   "execution_count": null,
   "metadata": {},
   "outputs": [],
   "source": [
    "bins = np.linspace(0, 1, num=101)\n",
    "plt.hist(gene_strain_cos_dist.loc[species_id], bins=bins)\n",
    "plt.hist(gene_strain_cos_dist.loc[species_id, gene_strain_cos_dist.idxmin() == species_id], bins=bins)\n",
    "plt.hist(gene_strain_cos_dist.loc[species_id].reindex(gene_clusters.marker_id.dropna().index, axis='columns').dropna(), bins=bins)\n",
    "\n",
    "plt.yscale('log')\n",
    "None"
   ]
  },
  {
   "cell_type": "markdown",
   "metadata": {},
   "source": [
    "### How does the distribution of depth-correlation compare to a null distribution?"
   ]
  },
  {
   "cell_type": "code",
   "execution_count": null,
   "metadata": {},
   "outputs": [],
   "source": [
    "x = species_depth.loc[focal_samples]\n",
    "y = genes_depth.loc[focal_samples]\n",
    "\n",
    "x_permute = x.copy()\n",
    "x_permute.index = np.random.choice(x.index, size=len(x.index), replace=False)\n",
    "x_permute = x_permute.loc[x.index]\n",
    "\n",
    "_transf = np.cbrt\n",
    "\n",
    "gene_strain_cos_dist_permute = pd.DataFrame(sp.spatial.distance.cdist(_transf(x_permute.T), _transf(y.T), metric='cosine'), index=x.columns, columns=y.columns)"
   ]
  },
  {
   "cell_type": "code",
   "execution_count": null,
   "metadata": {},
   "outputs": [],
   "source": [
    "bins = np.linspace(0, 1, num=101)\n",
    "plt.hist(gene_strain_cos_dist_permute.loc[species_id], bins=bins)\n",
    "plt.hist(gene_strain_cos_dist_permute.loc[species_id, gene_strain_cos_dist_permute.idxmin() == species_id], bins=bins)\n",
    "plt.hist(gene_strain_cos_dist_permute.loc[species_id].reindex(gene_clusters.marker_id.dropna().index, axis='columns').dropna(), bins=bins)\n",
    "\n",
    "plt.yscale('log')\n",
    "None"
   ]
  },
  {
   "cell_type": "markdown",
   "metadata": {},
   "source": [
    "### Assess depth-correlated genes"
   ]
  },
  {
   "cell_type": "code",
   "execution_count": null,
   "metadata": {},
   "outputs": [],
   "source": [
    "d = gene_clusters.loc[strain_gene_maybe_hits].marker_id.dropna().value_counts()\n",
    "print(len(d))\n",
    "d"
   ]
  },
  {
   "cell_type": "code",
   "execution_count": null,
   "metadata": {},
   "outputs": [],
   "source": [
    "d = genes_depth.loc[species_samples, strain_gene_maybe_hits]\n",
    "e0 = np.log(focal_species_strain_depth[strain_id] + 1e-3)\n",
    "e1 = ((e0 - e0.min()) / (e0.max() - e0.min()))\n",
    "\n",
    "sns.clustermap(\n",
    "    d,\n",
    "    norm=mpl.colors.SymLogNorm(linthresh=1.0),\n",
    "    metric='cosine',\n",
    "    row_colors=pd.DataFrame(dict(\n",
    "        focal=d.index.to_series().isin(pure_samples_with_strain).astype(float).map(mpl.cm.viridis),\n",
    "        depth=e1.map(mpl.cm.viridis),\n",
    "        rabund=focal_species_strain_rabund[strain_id].map(mpl.cm.viridis),\n",
    "    )),\n",
    ")"
   ]
  },
  {
   "cell_type": "code",
   "execution_count": null,
   "metadata": {},
   "outputs": [],
   "source": [
    "d = genes_depth.loc[pure_samples_with_strain, strain_gene_maybe_hits]\n",
    "\n",
    "sns.clustermap(\n",
    "    d,\n",
    "    norm=mpl.colors.SymLogNorm(linthresh=1.0),\n",
    "    metric='cosine'\n",
    ")"
   ]
  },
  {
   "cell_type": "markdown",
   "metadata": {},
   "source": [
    "### Compare gene depth-ratio estimates"
   ]
  },
  {
   "cell_type": "code",
   "execution_count": null,
   "metadata": {},
   "outputs": [],
   "source": [
    "total_strain_gene_depth = genes_depth.loc[pure_samples_with_strain].sum()\n",
    "strain_mean_depth_ratio = total_strain_gene_depth / total_strain_gene_depth[strain_gene_maybe_hits].mean()"
   ]
  },
  {
   "cell_type": "code",
   "execution_count": null,
   "metadata": {},
   "outputs": [],
   "source": [
    "d0 = np.log2(strain_mean_depth_ratio)\n",
    "d1 = np.log2(depth_ratio.loc[pure_samples_with_strain].mean())\n",
    "\n",
    "bins = np.linspace(-10, 5, num=51)\n",
    "\n",
    "d2 = pd.DataFrame(dict(mean_depth_ratio=d1, wmean_depth_ratio=d0)).assign(hit=lambda x: x.index.isin(strain_gene_maybe_hits))\n",
    "\n",
    "g = sns.jointplot(data=d2, x='wmean_depth_ratio', y='mean_depth_ratio', hue='hit')\n",
    "g.ax_joint.plot([-6, 6], [-6, 6], color='k')\n",
    "# plt.hist(d0, bins=bins)\n",
    "# plt.hist(d0.reindex(idxwhere(gene_clusters.marker_id.notna())).dropna(), bins=bins)\n",
    "\n",
    "# plt.hist(d1, bins=bins)\n",
    "# plt.hist(d1.reindex(idxwhere(gene_clusters.marker_id.notna())).dropna(), bins=bins)\n",
    "# plt.yscale('log')\n",
    "None"
   ]
  },
  {
   "cell_type": "markdown",
   "metadata": {},
   "source": [
    "#### Why does a weighted mean result in a higher estimate?\n",
    "\n",
    "I believe there is a bias due to truncating the coverage when few reads map to a gene."
   ]
  },
  {
   "cell_type": "markdown",
   "metadata": {},
   "source": [
    "## Pick strain genes"
   ]
  },
  {
   "cell_type": "code",
   "execution_count": null,
   "metadata": {},
   "outputs": [],
   "source": [
    "best_strain_gene_match = gene_strain_cos_dist.loc[species_id].fillna(1.0).groupby(gene_clusters.centroid_75).idxmin()\n",
    "assert best_strain_gene_match.is_unique and best_strain_gene_match.index.is_unique\n",
    "strain_to_species_gene = best_strain_gene_match.to_frame('centroid_99').reset_index().set_index('centroid_99', drop=False)['centroid_75']\n",
    "strain_to_species_gene"
   ]
  },
  {
   "cell_type": "code",
   "execution_count": null,
   "metadata": {},
   "outputs": [],
   "source": [
    "depth_ratio_thresh = 0.2\n",
    "strain_cos_thresh = 0.3\n",
    "species_cos_thresh = 0.3\n",
    "\n",
    "strain_gene_info = (\n",
    "    strain_mean_depth_ratio\n",
    "    .to_frame('depth_ratio')\n",
    "    .assign(\n",
    "        marker_id=gene_clusters.marker_id,\n",
    "        strain_cos=gene_strain_cos_dist.loc[species_id].fillna(1.0),\n",
    "        # species_cos=gene_species_cos_dist.loc[species_id].fillna(1.0),\n",
    "        species_gene_id=strain_to_species_gene,\n",
    "    )\n",
    "    .join(gene_species_cos_dist.loc[species_id].to_frame('species_cos'), on='species_gene_id')\n",
    "    .assign(species_cos=lambda x: x.species_cos.fillna(1.0))\n",
    "    .assign(hit=lambda x: (x.depth_ratio > depth_ratio_thresh) & ((x.strain_cos < strain_cos_thresh) | (x.species_cos < species_cos_thresh)))\n",
    "    .join(gene_clusters.drop(columns=['marker_id']))\n",
    ")\n",
    "\n",
    "strain_gene_info[strain_gene_info.hit]"
   ]
  },
  {
   "cell_type": "markdown",
   "metadata": {},
   "source": [
    "## Assess strain genes"
   ]
  },
  {
   "cell_type": "code",
   "execution_count": null,
   "metadata": {},
   "outputs": [],
   "source": [
    "d = strain_gene_info[strain_gene_info.hit].sort_values('depth_ratio')\n",
    "\n",
    "plt.scatter('strain_cos', 'species_cos', data=d, c='depth_ratio', s=5, norm=mpl.colors.LogNorm())\n",
    "plt.yscale('log')\n",
    "plt.xscale('log')\n",
    "plt.colorbar()\n",
    "\n",
    "print(len(d), len(d.marker_id.value_counts()))\n",
    "d.marker_id.value_counts()"
   ]
  },
  {
   "cell_type": "markdown",
   "metadata": {},
   "source": [
    "### Why multiple hits to the same marker genes? (\"contamination\" / \"redundancy\")"
   ]
  },
  {
   "cell_type": "code",
   "execution_count": null,
   "metadata": {},
   "outputs": [],
   "source": [
    "strain_gene_info[strain_gene_info.marker_id == 'B000082'].sort_values('strain_cos')"
   ]
  },
  {
   "cell_type": "markdown",
   "metadata": {},
   "source": [
    "Two hits to B000082 may be read stealing. Together they only have 1.45x depth and the correlation\n",
    "is on the lower side for one of them (cos diss of 0.18). They also have the same centroid_90 (although not centroid_95)."
   ]
  },
  {
   "cell_type": "code",
   "execution_count": null,
   "metadata": {},
   "outputs": [],
   "source": [
    "strain_gene_info[strain_gene_info.marker_id == 'B000086'].sort_values('strain_cos')"
   ]
  },
  {
   "cell_type": "markdown",
   "metadata": {},
   "source": [
    "Two hits to B000086 seems likely to be read stealing. Together they have 1.15x depth and the correlation\n",
    "is on the lower side for one of them (cos diss of 0.24).\n",
    "They also have the same centroid_90 (although not centroid_95)."
   ]
  },
  {
   "cell_type": "code",
   "execution_count": null,
   "metadata": {},
   "outputs": [],
   "source": [
    "strain_gene_info[strain_gene_info.marker_id == 'B000081'].sort_values('strain_cos')"
   ]
  },
  {
   "cell_type": "markdown",
   "metadata": {},
   "source": [
    "Two hits to B000081 seems less likely to be read stealing. Together they only have >2x depth and the correlation\n",
    "is relatively high for both. They also do not share a centroid_75.\n",
    "\n",
    "What does it mean that one of them is way longer than all of the others?"
   ]
  },
  {
   "cell_type": "markdown",
   "metadata": {},
   "source": [
    "### How often would we miss \"species genes\" in the strain-specific analysis?"
   ]
  },
  {
   "cell_type": "code",
   "execution_count": null,
   "metadata": {},
   "outputs": [],
   "source": [
    "d = strain_gene_info.sort_values('depth_ratio').assign(\n",
    "    log_strain_cos=lambda x: np.log(x.strain_cos),\n",
    "    log_species_cos=lambda x: np.log(x.species_cos),\n",
    ")\n",
    "\n",
    "plt.scatter('strain_cos', 'species_cos', data=d[d.hit], c='depth_ratio', s=5, norm=mpl.colors.LogNorm())\n",
    "sns.kdeplot(x='strain_cos', y='species_cos', log_scale=True, data=d.sample(n=10000), color='black', alpha=1.0, linewidths=1, zorder=1)\n",
    "\n",
    "\n",
    "plt.axvline(0.3, lw=1, linestyle='--', color='k')\n",
    "plt.axhline(0.3, lw=1, linestyle='--', color='k')\n",
    "# plt.yscale('log')\n",
    "# plt.xscale('log')\n",
    "plt.colorbar()\n",
    "print('Fraction of hits uncorrelated with strain:', (d[d.hit].strain_cos > 0.3).mean())\n",
    "print('Fraction of hits uncorrelated with species:', (d[d.hit].species_cos > 0.3).mean())\n",
    "print('Fraction of hits correlated with strain AND speces:', ((d[d.hit].species_cos < 0.3) & (d[d.hit].strain_cos < 0.3)).mean())"
   ]
  },
  {
   "cell_type": "markdown",
   "metadata": {},
   "source": [
    "As much as 40% of the time, apparently."
   ]
  },
  {
   "cell_type": "markdown",
   "metadata": {},
   "source": [
    "### Are the strains really the same across subjects?"
   ]
  },
  {
   "cell_type": "code",
   "execution_count": null,
   "metadata": {},
   "outputs": [],
   "source": [
    "mean_depth_species_genes.loc[pure_samples_with_strain].sort_values(ascending=False).head(20)"
   ]
  },
  {
   "cell_type": "code",
   "execution_count": null,
   "metadata": {},
   "outputs": [],
   "source": [
    "x, y = 'M2064_53', 'H4040_22'\n",
    "d = np.log2(depth_ratio.loc[[x, y]] + 1e-2).dropna().T.join(strain_gene_info)\n",
    "sns.jointplot(x=x, y=y, data=d.sort_values('hit'), hue='hit', s=3, marginal_kws=dict(common_norm=False))"
   ]
  },
  {
   "cell_type": "code",
   "execution_count": null,
   "metadata": {},
   "outputs": [],
   "source": [
    "d = genes_depth.loc[pure_samples_with_strain, strain_gene_info.hit]\n",
    "# d = (depth_ratio / strain_gene_info.depth_ratio).loc[species_samples, strain_gene_info.hit].dropna()\n",
    "\n",
    "sns.clustermap(\n",
    "    d,\n",
    "    norm=mpl.colors.SymLogNorm(linthresh=1.0),\n",
    "    metric='cosine',\n",
    ")"
   ]
  },
  {
   "cell_type": "code",
   "execution_count": null,
   "metadata": {},
   "outputs": [],
   "source": [
    "d = genes_depth.loc[species_samples, strain_gene_info.hit]\n",
    "e0 = np.log(focal_species_strain_depth[strain_id] + 1e-3)\n",
    "e1 = ((e0 - e0.min()) / (e0.max() - e0.min()))\n",
    "\n",
    "sns.clustermap(\n",
    "    d,\n",
    "    norm=mpl.colors.SymLogNorm(linthresh=1.0),\n",
    "    metric='cosine',\n",
    "    row_colors=pd.DataFrame(dict(\n",
    "        focal=d.index.to_series().isin(pure_samples_with_strain).astype(float).map(mpl.cm.viridis),\n",
    "        depth=e1.map(mpl.cm.viridis),\n",
    "        rabund=focal_species_strain_rabund[strain_id].map(mpl.cm.viridis),\n",
    "    )),\n",
    ")"
   ]
  },
  {
   "cell_type": "markdown",
   "metadata": {},
   "source": [
    "### Do multiple hits to the same gene cluster make sense?"
   ]
  },
  {
   "cell_type": "markdown",
   "metadata": {},
   "source": [
    "#### How often do we get multiple hits to clust_75\n",
    "\n",
    "Much less frequently than in the database."
   ]
  },
  {
   "cell_type": "code",
   "execution_count": null,
   "metadata": {},
   "outputs": [],
   "source": [
    "d = strain_gene_info.groupby(['centroid_75', 'hit']).size().unstack(fill_value=0)\n",
    "\n",
    "bins = np.linspace(0, 20, 21)\n",
    "plt.hist(d[False], bins=bins)\n",
    "plt.hist(d[True], bins=bins, alpha=0.5)\n",
    "\n",
    "plt.yscale('log')\n",
    "# plt.xlim(0, 10)\n",
    "d.sort_values(True, ascending=False).head(5)"
   ]
  },
  {
   "cell_type": "markdown",
   "metadata": {},
   "source": [
    "#### Are these groups of homologous genes sensible?"
   ]
  },
  {
   "cell_type": "code",
   "execution_count": null,
   "metadata": {},
   "outputs": [],
   "source": [
    "strain_gene_info[strain_gene_info.centroid_75 == 'UHGG144776_03235'].sort_values(['strain_cos'])"
   ]
  },
  {
   "cell_type": "markdown",
   "metadata": {},
   "source": [
    "Maybe! For instance, clust_75 'UHGG144776_03235' has 8 copies,\n",
    "but they _all_ have different centroid_95\n",
    "(suggesting that they're not doing too too much read-stealing),\n",
    "and they all have depth_ratios of > 0.25, which suggests that\n",
    "the gene family gets a ton of coverage across samples\n",
    "(maybe 8x across all of the homologues).\n",
    "\n",
    "Interestingly, it's also a Type IV secretion system (or maybe conjugative machinery) according\n",
    "to the nr annotation:\n",
    "\n",
    "> ```\n",
    "UHGG146925_03529 (WP_113394767.1): type IV conjugative transfer system protein TraL [Shigella sonnei]\n",
    "Function assigned by HMM accession: TIGR02762.1\n",
    "```"
   ]
  },
  {
   "cell_type": "code",
   "execution_count": null,
   "metadata": {},
   "outputs": [],
   "source": [
    "strain_gene_info[strain_gene_info.centroid_75 == 'UHGG079207_00971'].sort_values(['strain_cos']).head(10)"
   ]
  },
  {
   "cell_type": "markdown",
   "metadata": {},
   "source": [
    "Another for instance: clust_75 'UHGG144776_03235' has 7 copies and\n",
    "many have different centroid_95 (suggesting that they're not doing too too much read-stealing).\n",
    "They also all have depth_ratios of > 0.25, and\n",
    "the clust_75 may have a total of >8x across all of the homologues.\n",
    "\n",
    "In the nr, this sequence is annotated as a transposase.\n",
    "\n",
    "> ```\n",
    "UHGG140415_04958 (ATB16992.1): IS3 family transposase (plasmid) [Escherichia coli]\n",
    "Function assigned by sequence similarity to: WP_076612086.1\n",
    "```"
   ]
  },
  {
   "cell_type": "markdown",
   "metadata": {},
   "source": [
    "## What can we say about these genes?"
   ]
  },
  {
   "cell_type": "markdown",
   "metadata": {},
   "source": [
    "### What functions do some species genes have?"
   ]
  },
  {
   "cell_type": "code",
   "execution_count": null,
   "metadata": {},
   "outputs": [],
   "source": [
    "strain_gene_info[strain_gene_info.hit].sort_values('species_cos').head(5)"
   ]
  },
  {
   "cell_type": "markdown",
   "metadata": {},
   "source": [
    "- UHGG146766_03472 is assigned \"regulatory protein mokC [Escherichia coli B088]\" by blastx\n",
    "- UHGG146766_00719 is assigned \"hypothetical protein [Escherichia coli]\" by blastx\n",
    "- UHGG143923_02826 is assigned \"alkyl hydroperoxide reductase subunit F [Escherichia coli]\" by blastx"
   ]
  },
  {
   "cell_type": "markdown",
   "metadata": {},
   "source": [
    "### What functions do some strain genes have?"
   ]
  },
  {
   "cell_type": "code",
   "execution_count": null,
   "metadata": {},
   "outputs": [],
   "source": [
    "strain_gene_info[strain_gene_info.hit].sort_values('strain_cos').head(20)"
   ]
  },
  {
   "cell_type": "markdown",
   "metadata": {},
   "source": [
    "- UHGG001882_03784 is assigned \"hypothetical protein [Escherichia coli]\" by blastx\n",
    "- UHGG051562_01340 is assigned \"unnamed protein product [Klebsiella pneumoniae]\" by blastx\n",
    "- UHGG212210_02494 is assigned \"glutamine-hydrolyzing GMP synthase [Escherichia coli]\" by blastx\n",
    "- UHGG000026_01858 is assigned \"type I-F CRISPR-associated protein Csy3 [Escherichia coli]\""
   ]
  },
  {
   "cell_type": "markdown",
   "metadata": {},
   "source": [
    "### What functions do some species-only genes have?"
   ]
  },
  {
   "cell_type": "code",
   "execution_count": null,
   "metadata": {},
   "outputs": [],
   "source": [
    "strain_gene_info[lambda x: x.hit & (x.strain_cos > 0.3)].sort_values('species_cos').head(5)"
   ]
  },
  {
   "cell_type": "markdown",
   "metadata": {},
   "source": [
    "- UHGG144539_05148 = tRNA dihydrouridine synthase DusB [Escherichia coli]\n",
    "- UHGG034380_01358 = heme exporter protein B [Escherichia coli]\n",
    "- UHGG140694_05370 = hypothetical protein C9900_19320 [Salmonella enterica subsp. enterica serovar Kentucky]\n",
    "- UHGG222834_02353 = 50S ribosomal protein L5 [Enterobacteriaceae]\n",
    "- UHGG146130_04125 = conserved hypothetical protein [Escherichia coli 042]"
   ]
  },
  {
   "cell_type": "markdown",
   "metadata": {},
   "source": [
    "## Various Characterizations of strains"
   ]
  },
  {
   "cell_type": "code",
   "execution_count": null,
   "metadata": {},
   "outputs": [],
   "source": [
    "# Moderate positive relationship between gene length and correlation.\n",
    "# (Among hits, highly correlated genes tend to be shorter.)\n",
    "\n",
    "d = strain_gene_info[strain_gene_info.hit].sort_values('species_cos')\n",
    "# d1 = d0.assign(rank=range(1, len(d0) + 1))\n",
    "plt.scatter(x='species_cos', y='centroid_99_length', data=d, s=1)\n",
    "sns.kdeplot(x='species_cos', y='centroid_99_length', data=d, log_scale=True, linewidths=1, color='k')\n",
    "\n",
    "sp.stats.spearmanr(d['centroid_99_length'], d['species_cos'])"
   ]
  },
  {
   "cell_type": "code",
   "execution_count": null,
   "metadata": {},
   "outputs": [],
   "source": [
    "# Slight negative relationship between gene length and estimated depth.\n",
    "d = strain_gene_info[strain_gene_info.hit]\n",
    "\n",
    "plt.scatter('centroid_99_length', 'depth_ratio', data=d, s=1)\n",
    "plt.yscale('log')\n",
    "plt.xscale('log')\n",
    "\n",
    "sp.stats.spearmanr(d['centroid_99_length'], d['depth_ratio'])"
   ]
  },
  {
   "cell_type": "code",
   "execution_count": null,
   "metadata": {},
   "outputs": [],
   "source": [
    "# Moderate negative relationship between \"strain-ness\" and estimated depth.\n",
    "d = strain_gene_info[strain_gene_info.hit].assign(strain_species_ratio = lambda x: (1 - x.strain_cos) / (1 - x.species_cos))\n",
    "\n",
    "plt.scatter('strain_species_ratio', 'depth_ratio', data=d, s=1)\n",
    "plt.yscale('log')\n",
    "plt.xscale('log')\n",
    "\n",
    "sp.stats.spearmanr(d['strain_species_ratio'], d['depth_ratio'])"
   ]
  },
  {
   "cell_type": "markdown",
   "metadata": {},
   "source": [
    "# Cross-strain Comparison"
   ]
  },
  {
   "cell_type": "markdown",
   "metadata": {},
   "source": [
    "## Write gene table"
   ]
  },
  {
   "cell_type": "code",
   "execution_count": null,
   "metadata": {},
   "outputs": [],
   "source": [
    "path = f'{strain_id}.tsv'\n",
    "print(path)\n",
    "strain_gene_info.to_csv(path, sep='\\t')"
   ]
  },
  {
   "cell_type": "markdown",
   "metadata": {},
   "source": [
    "## Load tables and compare"
   ]
  },
  {
   "cell_type": "code",
   "execution_count": null,
   "metadata": {},
   "outputs": [],
   "source": [
    "strain_list = top_strains[:7]  # ['102506-2', '102506-5', '102506-6', '102506-11', '102506-28', '102506-24', '102506-4']\n",
    "all_strains_gene_info = {}\n",
    "for _strain_id in strain_list:\n",
    "    all_strains_gene_info[_strain_id] = pd.read_table(f'{_strain_id}.tsv', index_col='gene_id')"
   ]
  },
  {
   "cell_type": "code",
   "execution_count": null,
   "metadata": {},
   "outputs": [],
   "source": [
    "all_strains_gene_hits = pd.DataFrame({k: all_strains_gene_info[k].hit for k in all_strains_gene_info})\n",
    "all_strains_gene_hits.value_counts().sort_index()"
   ]
  },
  {
   "cell_type": "code",
   "execution_count": null,
   "metadata": {},
   "outputs": [],
   "source": [
    "all_strains_gene_hits_75 = pd.DataFrame({k: all_strains_gene_info[k].groupby(gene_clusters.centroid_75).hit.any() for k in all_strains_gene_info})\n",
    "all_strains_gene_hits_75.value_counts().sort_index()"
   ]
  },
  {
   "cell_type": "code",
   "execution_count": null,
   "metadata": {},
   "outputs": [],
   "source": [
    "pure_samples_with_strains = list(\n",
    "    set(species_samples)\n",
    "    & set(idxwhere((focal_species_strain_depth.idxmax(1).isin(strain_list))))\n",
    "    & set(pure_samples)\n",
    ")\n",
    "\n",
    "strain_hit = idxwhere(\n",
    "    all_strains_gene_hits.any(1)\n",
    ")\n",
    "\n",
    "sample_dominant_strain = focal_species_strain_rabund.idxmax(1)\n",
    "strain_sample_palette = lib.plot.construct_ordered_palette(strain_list, cm='tab20')\n",
    "subject_palette = lib.plot.construct_ordered_palette(subject_week.sort_values(['site', 'subject_id']).subject_id, cm='Spectral')\n",
    "\n",
    "\n",
    "d = genes_depth.loc[pure_samples_with_strains, strain_hit]\n",
    "\n",
    "sns.clustermap(\n",
    "    d,\n",
    "    norm=mpl.colors.SymLogNorm(linthresh=1.0),\n",
    "    metric='cosine',\n",
    "    # col_colors=pd.DataFrame(dict(\n",
    "    #     a=strain_gene_infoA.hit.astype(float).map(mpl.cm.viridis),\n",
    "    #     b=strain_gene_infoB.hit.astype(float).map(mpl.cm.viridis),\n",
    "    # )),\n",
    "    row_colors=pd.DataFrame(dict(\n",
    "        subject=subject_week.subject_id.map(subject_palette),\n",
    "        pure=sample_dominant_strain.map(strain_sample_palette),\n",
    "        depth=(np.cbrt(species_depth[species_id]) / 3).map(mpl.cm.viridis),\n",
    "    )),\n",
    ")"
   ]
  },
  {
   "cell_type": "code",
   "execution_count": null,
   "metadata": {},
   "outputs": [],
   "source": [
    "strain_depth[_strain_id][lambda x: x > 0.5].std()\n",
    "# Since we know this ahead of time, we could select our cutoff for samples based on this relationship."
   ]
  },
  {
   "cell_type": "code",
   "execution_count": null,
   "metadata": {},
   "outputs": [],
   "source": [
    "fig = plt.figure(figsize=(10, 5))\n",
    "\n",
    "for _strain_id in strain_list:\n",
    "    num_sample = strain_sample_counts.loc[_strain_id, 'num_samples']\n",
    "    stdev_depth = strain_depth[_strain_id][lambda x: x > focal_sample_species_depth_thresh_pres].std()\n",
    "    quality_index = stdev_depth * np.sqrt(num_sample)\n",
    "    sns.kdeplot(all_strains_gene_info[_strain_id].loc[all_strains_gene_hits.all(1), 'strain_cos'], label=f\"{_strain_id}\", c=strain_sample_palette[_strain_id], lw=np.cbrt(quality_index))\n",
    "    sns.kdeplot(all_strains_gene_info[_strain_id].loc[lambda x: x.species_gene_id.isin(species_gene_hits), 'strain_cos'], c=strain_sample_palette[_strain_id], linestyle='--')\n",
    "\n",
    "plt.axvline(strain_cos_thresh, linestyle='--', lw=1, color='grey')\n",
    "plt.legend() "
   ]
  }
 ],
 "metadata": {
  "kernelspec": {
   "display_name": "sfacts",
   "language": "python",
   "name": "sfacts"
  },
  "language_info": {
   "codemirror_mode": {
    "name": "ipython",
    "version": 3
   },
   "file_extension": ".py",
   "mimetype": "text/x-python",
   "name": "python",
   "nbconvert_exporter": "python",
   "pygments_lexer": "ipython3",
   "version": "3.10.5"
  }
 },
 "nbformat": 4,
 "nbformat_minor": 5
}