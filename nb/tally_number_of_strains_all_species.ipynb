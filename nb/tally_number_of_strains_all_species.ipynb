{
 "cells": [
  {
   "cell_type": "code",
   "execution_count": null,
   "metadata": {},
   "outputs": [],
   "source": [
    "%load_ext autoreload"
   ]
  },
  {
   "cell_type": "code",
   "execution_count": null,
   "metadata": {},
   "outputs": [],
   "source": [
    "import os as _os\n",
    "_os.chdir(_os.environ['PROJECT_ROOT'])\n",
    "_os.path.realpath(_os.path.curdir)"
   ]
  },
  {
   "cell_type": "markdown",
   "metadata": {},
   "source": [
    "#### Imports"
   ]
  },
  {
   "cell_type": "code",
   "execution_count": null,
   "metadata": {},
   "outputs": [],
   "source": [
    "import pandas as pd\n",
    "import numpy as np\n",
    "import scipy as sp\n",
    "import matplotlib.pyplot as plt\n",
    "import seaborn as sns\n",
    "import xarray as xr\n",
    "from lib.pandas_util import idxwhere, aligned_index, align_indexes, invert_mapping\n",
    "import lib.thisproject.data\n",
    "import matplotlib as mpl\n",
    "import lib.plot\n",
    "import statsmodels as sm\n",
    "from statsmodels.stats.multitest import fdrcorrection\n",
    "from tqdm import tqdm\n",
    "import subprocess\n",
    "from tempfile import mkstemp\n",
    "import time\n",
    "import subprocess\n",
    "from itertools import chain\n",
    "import os\n",
    "from itertools import product\n",
    "from mpl_toolkits.axes_grid1 import make_axes_locatable\n",
    "import sfacts as sf\n",
    "import lib.thisproject.data"
   ]
  },
  {
   "cell_type": "code",
   "execution_count": null,
   "metadata": {},
   "outputs": [],
   "source": [
    "species_depth = lib.thisproject.data.load_species_depth(\"data/group/xjin_hmp2/r.proc.gtpro.species_depth.tsv\")\n",
    "# species_depth_subset = lib.thisproject.data.load_species_depth(path['all_species_depth_subset'])\n",
    "rabund = species_depth.apply(lambda x: x / x.sum(), axis=1)\n",
    "# rabund_subset = species_depth_subset.apply(lambda x: x / x.sum(), axis=1)\n",
    "\n",
    "n_species = 40\n",
    "top_species = (species_depth > 1e-3).sum().sort_values(ascending=False).head(n_species).index\n",
    "\n",
    "fig, axs = plt.subplots(n_species, figsize=(5, 0.25 * n_species), sharex=True, sharey=True)\n",
    "\n",
    "bins = np.logspace(-3, 4, num=51)\n",
    "\n",
    "for species_id, ax in zip(top_species, axs):\n",
    "    # ax.hist(rabund_subset[species_id], bins=bins, alpha=0.7)\n",
    "    ax.hist(species_depth[species_id], bins=bins, alpha=0.7)\n",
    "    ax.set_xscale('log')\n",
    "    prevalence = (species_depth[species_id] > 1e-3).mean()\n",
    "    ax.set_title(\"\")\n",
    "    # ax.set_xticks()\n",
    "    # ax.set_yticks()\n",
    "    ax.yaxis.set_visible(False)\n",
    "    ax.xaxis.set_visible(False)\n",
    "    ax.patch.set_alpha(0.0)\n",
    "    for spine in ['left', 'right', 'top', 'bottom']:\n",
    "        ax.spines[spine].set_visible(False)\n",
    "    ax.annotate(f'{species_id} ({prevalence:0.0%})', xy=(0.05, 0.1), ha='left', xycoords=\"axes fraction\")\n",
    "    ax.set_xlim(left=1e-7)\n",
    "    ax.set_ylim(top=300)\n",
    "    \n",
    "ax.xaxis.set_visible(True)\n",
    "ax.spines['bottom'].set_visible(True)\n",
    "\n",
    "# fig.subplots_adjust(hspace=-0.75)"
   ]
  },
  {
   "cell_type": "code",
   "execution_count": null,
   "metadata": {},
   "outputs": [],
   "source": [
    "num_samples_with_depth_gt_half = (species_depth > 0.5).sum()\n",
    "\n",
    "bins = [0] + list(np.logspace(0, 4))\n",
    "plt.hist(num_samples_with_depth_gt1, bins=bins)\n",
    "plt.xscale('symlog', linthresh=1.0, linscale=0.1)"
   ]
  },
  {
   "cell_type": "code",
   "execution_count": null,
   "metadata": {},
   "outputs": [],
   "source": [
    "# species_id = '100099'  # '100236'\n",
    "\n",
    "species_taxonomy = lib.thisproject.data.load_species_taxonomy(\"ref/gtpro/species_taxonomy_ext.tsv\")\n",
    "species_taxonomy.assign(num_samples_with_depth_gt_half=num_samples_with_depth_gt_half).fillna(0).sort_values('num_samples_with_depth_gt_half', ascending=False).head(10).drop(columns=['taxonomy_string'])"
   ]
  },
  {
   "cell_type": "code",
   "execution_count": null,
   "metadata": {},
   "outputs": [],
   "source": [
    "num_strains_raw = {}\n",
    "for species_id in num_samples_with_depth_gt_half.index:\n",
    "    try:\n",
    "        _spgc_meta = pd.read_table(f\"data/group/xjin_hmp2/species/sp-{species_id}/r.proc.gtpro.sfacts-fit.gene99-v22-agg75.spgc_specgene-ref-t25-p95_ss-all_t-30_thresh-corr200-depth250.strain_meta.tsv\", index_col='strain').rename(str)\n",
    "    except FileNotFoundError as err:\n",
    "        print(err)\n",
    "        continue\n",
    "    num_strains_raw[species_id] = _spgc_meta.shape[0]\n",
    "    \n",
    "num_strains_raw = pd.Series(num_strains_raw)"
   ]
  },
  {
   "cell_type": "code",
   "execution_count": null,
   "metadata": {},
   "outputs": [],
   "source": [
    "d = species_taxonomy.assign(num_samples_with_depth_gt_half=num_samples_with_depth_gt_half, num_strains_raw=num_strains_raw).fillna(0)\n",
    "plt.scatter('num_samples_with_depth_gt_half', 'num_strains_raw', data=d)\n",
    "plt.yscale('log')\n",
    "plt.xscale('log')\n",
    "plt.xlabel('num_samples_with_depth_gt_half')\n",
    "plt.ylabel('num_strains_raw')"
   ]
  },
  {
   "cell_type": "code",
   "execution_count": null,
   "metadata": {},
   "outputs": [],
   "source": [
    "num_strains_filt = {}\n",
    "num_strains_raw = {}\n",
    "\n",
    "for species_id in tqdm(num_samples_with_depth_gt_half.index):\n",
    "    try:\n",
    "        _spgc_meta = pd.read_table(f\"data/group/xjin_hmp2/species/sp-{species_id}/r.proc.gtpro.sfacts-fit.gene99-v22-agg75.spgc_specgene-ref-t25-p95_ss-all_t-30_thresh-corr200-depth250.strain_meta.tsv\", index_col='strain').rename(str)\n",
    "    except FileNotFoundError as err:\n",
    "        pass # print(species_id, \"File missing.\")\n",
    "    else:\n",
    "        num_strains_raw[species_id] = _spgc_meta.shape[0]\n",
    "        x = _spgc_meta[_spgc_meta.species_gene_frac > 0.9].num_genes\n",
    "        if len(x) < 1:\n",
    "            pass # print(species_id, \"No strains have >90% of species genes.\")\n",
    "            num_strains_filt[species_id] = 0\n",
    "        else:\n",
    "            _df, _loc, _scale = sp.stats.t.fit(x.values, fix_df=2)\n",
    "            _dist0 = sp.stats.t(_df, _loc, _scale)\n",
    "            _dist1 = sp.stats.norm(_loc, _scale)\n",
    "            thresh_max_num_uhgg_genes = _dist1.ppf(0.999)\n",
    "            thresh_min_num_uhgg_genes = _dist1.ppf(0.001)\n",
    "            num_strains_filt[species_id] = (\n",
    "                (_spgc_meta.sum_depth > 5)\n",
    "                & (_spgc_meta.species_gene_frac > 0.9)\n",
    "                & (_spgc_meta.num_genes <= thresh_max_num_uhgg_genes)\n",
    "                & (_spgc_meta.num_genes >= thresh_min_num_uhgg_genes)\n",
    "            ).sum()\n",
    "    \n",
    "num_strains_filt = pd.Series(num_strains_filt)\n",
    "num_strains_raw = pd.Series(num_strains_raw)"
   ]
  },
  {
   "cell_type": "code",
   "execution_count": null,
   "metadata": {},
   "outputs": [],
   "source": [
    "num_strains_filt.sum()"
   ]
  },
  {
   "cell_type": "code",
   "execution_count": null,
   "metadata": {},
   "outputs": [],
   "source": [
    "d0 = (\n",
    "    pd.DataFrame(dict(\n",
    "        num_strains_filt=num_strains_filt,\n",
    "        num_strains_raw=num_strains_raw,\n",
    "        num_samples_with_depth_gt_half=num_samples_with_depth_gt_half,\n",
    "    ))\n",
    "    .fillna(0)\n",
    "    .join(species_taxonomy)\n",
    "    .sort_values('num_strains_filt', ascending=False)\n",
    ")\n",
    "\n",
    "o__order = d0['o__'].value_counts().index.values\n",
    "top_o = o__order[:5]\n",
    "o__palette = lib.plot.construct_ordered_palette(top_o)\n",
    "plt.scatter('num_strains_raw', 'num_strains_filt', data=d0, c='num_samples_with_depth_gt_half', norm=mpl.colors.SymLogNorm(1.0))\n",
    "plt.colorbar()\n",
    "plt.xlabel('num_strains_raw')\n",
    "plt.ylabel('num_strains_filt')\n",
    "plt.xscale('symlog')\n",
    "plt.yscale('symlog')"
   ]
  },
  {
   "cell_type": "code",
   "execution_count": null,
   "metadata": {},
   "outputs": [],
   "source": [
    "d0 = (\n",
    "    pd.DataFrame(dict(\n",
    "        num_strains_filt=num_strains_filt,\n",
    "        num_strains_raw=num_strains_raw,\n",
    "        num_samples_with_depth_gt_half=num_samples_with_depth_gt_half,\n",
    "    ))\n",
    "    .join(species_taxonomy)\n",
    "    .sort_values('num_strains_filt', ascending=False)\n",
    ")\n",
    "\n",
    "o__order = d0['o__'].value_counts().index.values\n",
    "top_o = o__order[:10]\n",
    "o__palette = lib.plot.construct_ordered_palette(top_o, cm='tab20')\n",
    "\n",
    "for o__ in o__order:\n",
    "    d1 = d0[d0.o__ == o__]\n",
    "    plt.scatter('num_strains_raw', 'num_strains_filt', data=d1, c=o__palette[o__], label=o__)\n",
    "plt.xlabel('num_strains_raw')\n",
    "plt.ylabel('num_strains_filt')\n",
    "plt.xscale('symlog')\n",
    "plt.yscale('symlog')\n",
    "plt.legend(bbox_to_anchor=(1, 1))\n",
    "\n",
    "d"
   ]
  },
  {
   "cell_type": "code",
   "execution_count": null,
   "metadata": {},
   "outputs": [],
   "source": [
    "d0 = (\n",
    "    pd.DataFrame(dict(\n",
    "        num_strains_filt=num_strains_filt,\n",
    "        num_strains_raw=num_strains_raw,\n",
    "        num_samples_with_depth_gt_half=num_samples_with_depth_gt_half,\n",
    "    ))\n",
    "    .assign(num_filtered_out=lambda x: x.num_strains_raw - x.num_strains_filt)\n",
    "    .join(species_taxonomy)\n",
    "    .sort_values('num_strains_filt', ascending=False)\n",
    ")\n",
    "\n",
    "d0.sort_values('num_filtered_out', ascending=False)"
   ]
  },
  {
   "cell_type": "code",
   "execution_count": null,
   "metadata": {},
   "outputs": [],
   "source": [
    "d0.sort_values('num_strains_filt', ascending=False)"
   ]
  },
  {
   "cell_type": "code",
   "execution_count": null,
   "metadata": {},
   "outputs": [],
   "source": []
  }
 ],
 "metadata": {
  "kernelspec": {
   "display_name": "default",
   "language": "python",
   "name": "default"
  },
  "language_info": {
   "codemirror_mode": {
    "name": "ipython",
    "version": 3
   },
   "file_extension": ".py",
   "mimetype": "text/x-python",
   "name": "python",
   "nbconvert_exporter": "python",
   "pygments_lexer": "ipython3",
   "version": "3.10.11"
  }
 },
 "nbformat": 4,
 "nbformat_minor": 5
}