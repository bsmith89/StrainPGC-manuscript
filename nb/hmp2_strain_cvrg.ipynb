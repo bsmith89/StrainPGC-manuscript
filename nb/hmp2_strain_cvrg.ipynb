{
 "cells": [
  {
   "cell_type": "code",
   "execution_count": null,
   "metadata": {},
   "outputs": [],
   "source": [
    "import os as _os\n",
    "_os.chdir('..')"
   ]
  },
  {
   "cell_type": "code",
   "execution_count": null,
   "metadata": {},
   "outputs": [],
   "source": [
    "import pandas as pd\n",
    "import matplotlib.pyplot as plt\n",
    "import numpy as np\n",
    "import scipy as sp\n",
    "from operator import eq, sub\n",
    "import scipy.stats\n",
    "import scipy as sp\n",
    "import seaborn as sns\n",
    "from lib.pandas_util import idxwhere\n",
    "import matplotlib as mpl"
   ]
  },
  {
   "cell_type": "code",
   "execution_count": null,
   "metadata": {},
   "outputs": [],
   "source": [
    "mgen = pd.read_table('meta/mgen.tsv', index_col='library_id')\n",
    "preparation = pd.read_table('meta/preparation.tsv', index_col='preparation_id')\n",
    "stool = pd.read_table('meta/stool.tsv', index_col='stool_id')\n",
    "visit = pd.read_table('meta/visit.tsv', index_col='visit_id')\n",
    "subject = pd.read_table('meta/subject.tsv', index_col='subject_id')\n",
    "\n",
    "mgen_meta = (\n",
    "    mgen\n",
    "    .join(preparation.drop(columns='library_type'), on='preparation_id')\n",
    "    .join(stool, on='stool_id')\n",
    "    .join(visit, on='visit_id', rsuffix='_')\n",
    "    .join(subject, on='subject_id')\n",
    ")\n",
    "\n",
    "assert not any(mgen_meta.subject_id.isna())\n",
    "\n",
    "# mgen_meta.columns"
   ]
  },
  {
   "cell_type": "code",
   "execution_count": null,
   "metadata": {},
   "outputs": [],
   "source": [
    "species_taxonomy = pd.read_table('ref/gtpro/species_taxonomy_ext.tsv', names=['genome_id', 'species_id', 'taxonomy_string']).assign(species_id=lambda x: x.species_id.astype(str)).set_index('species_id').taxonomy_string\n",
    "species_taxonomy = species_taxonomy.str.split(';').to_frame()\n",
    "\n",
    "for level_name, level_number in [('p__', 2), ('f__', 5), ('s__', 7)]:\n",
    "    species_taxonomy = species_taxonomy.assign(**{level_name: species_taxonomy['taxonomy_string'].apply(lambda x: ';'.join(x[:level_number]))})\n",
    "    \n",
    "species_taxonomy"
   ]
  },
  {
   "cell_type": "code",
   "execution_count": null,
   "metadata": {},
   "outputs": [],
   "source": [
    "strain_depth_with_minor = pd.read_table(\n",
    "    'data/hmp2.a.r.proc.gtpro.filt-poly05-cvrg05.fit-sfacts9-s75-g10000-seed0.collapse-10.strain_depth.tsv',\n",
    "    # names=['library_id', 'species_strain_id', 'depth'],\n",
    "    index_col=['sample', 'strain'],\n",
    ").squeeze().unstack('strain', fill_value=0)"
   ]
  },
  {
   "cell_type": "code",
   "execution_count": null,
   "metadata": {},
   "outputs": [],
   "source": [
    "strain_taxonomy = strain_depth_with_minor.columns.to_series().str.split('-').str[0].to_frame(name='species_id').join(species_taxonomy, on='species_id')"
   ]
  },
  {
   "cell_type": "code",
   "execution_count": null,
   "metadata": {},
   "outputs": [],
   "source": [
    "species_depth = pd.read_table('data/hmp2.a.r.proc.gtpro.species_depth.tsv', index_col=['sample', 'species_id']).squeeze().unstack('species_id', fill_value=0)\n",
    "plt.hist(strain_depth_with_minor.sum(1) - species_depth.sum(1))"
   ]
  },
  {
   "cell_type": "code",
   "execution_count": null,
   "metadata": {},
   "outputs": [],
   "source": [
    "species_rabund = species_depth.divide(species_depth.sum(1), axis=0)"
   ]
  },
  {
   "cell_type": "code",
   "execution_count": null,
   "metadata": {},
   "outputs": [],
   "source": [
    "thresh = 0.5\n",
    "\n",
    "strain_collapse = strain_depth_with_minor.columns.to_series()\n",
    "strain_other = strain_collapse.str.rsplit('-', 1).str[0] + '-other'\n",
    "strain_collapse = strain_collapse.where(strain_depth_with_minor.max() > thresh, strain_other)\n",
    "\n",
    "strain_collapse.value_counts().shape"
   ]
  },
  {
   "cell_type": "code",
   "execution_count": null,
   "metadata": {},
   "outputs": [],
   "source": [
    "strain_depth = strain_depth_with_minor.groupby(strain_collapse, axis='columns').sum()"
   ]
  },
  {
   "cell_type": "code",
   "execution_count": null,
   "metadata": {},
   "outputs": [],
   "source": [
    "plt.hist(strain_depth_with_minor.sum(1) - strain_depth.sum(1))"
   ]
  },
  {
   "cell_type": "code",
   "execution_count": null,
   "metadata": {},
   "outputs": [],
   "source": [
    "strain_rabund = strain_depth.divide(strain_depth.sum(1), axis=0)"
   ]
  },
  {
   "cell_type": "code",
   "execution_count": null,
   "metadata": {},
   "outputs": [],
   "source": [
    "plt.hist(np.log10(strain_rabund.max()), bins=np.linspace(-5, 0, num=51))\n",
    "None"
   ]
  },
  {
   "cell_type": "code",
   "execution_count": null,
   "metadata": {},
   "outputs": [],
   "source": [
    "species_bc_dist = sp.spatial.distance.pdist(species_depth.divide(species_depth.sum(1), axis=0), metric='braycurtis')"
   ]
  },
  {
   "cell_type": "code",
   "execution_count": null,
   "metadata": {},
   "outputs": [],
   "source": [
    "bc_dist = sp.spatial.distance.pdist(strain_rabund, metric='braycurtis')\n",
    "same_subject = sp.spatial.distance.pdist(mgen_meta.loc[strain_rabund.index].subject_id.values.reshape((-1, 1)), metric=eq).astype(bool)"
   ]
  },
  {
   "cell_type": "code",
   "execution_count": null,
   "metadata": {},
   "outputs": [],
   "source": [
    "species_bc_dist = sp.spatial.distance.pdist(species_rabund, metric='braycurtis')"
   ]
  },
  {
   "cell_type": "code",
   "execution_count": null,
   "metadata": {},
   "outputs": [],
   "source": [
    "bins = np.linspace(0, 1, num=51)\n",
    "dist = species_bc_dist\n",
    "\n",
    "fig, ax = plt.subplots()\n",
    "ax.hist(dist[~same_subject], bins=bins, density=True, alpha=0.5, label='trans')\n",
    "ax.hist(dist[same_subject], bins=bins, density=True, alpha=0.5, label='cis')\n",
    "ax.set_yscale('log')\n",
    "mwu, p = sp.stats.mannwhitneyu(dist[~same_subject], dist[same_subject])\n",
    "auc = mwu / (len(dist[~same_subject]) * len(dist[same_subject]))\n",
    "print(auc)\n",
    "    \n",
    "ax.legend()"
   ]
  },
  {
   "cell_type": "code",
   "execution_count": null,
   "metadata": {},
   "outputs": [],
   "source": [
    "bins = np.linspace(0, 1, num=51)\n",
    "dist = bc_dist\n",
    "\n",
    "fig, ax = plt.subplots()\n",
    "ax.hist(dist[~same_subject], bins=bins, density=True, alpha=0.5, label='trans')\n",
    "ax.hist(dist[same_subject], bins=bins, density=True, alpha=0.5, label='cis')\n",
    "ax.set_yscale('log')\n",
    "mwu, p = sp.stats.mannwhitneyu(dist[~same_subject], dist[same_subject])\n",
    "auc = mwu / (len(dist[~same_subject]) * len(dist[same_subject]))\n",
    "print(auc)\n",
    "    \n",
    "ax.legend()"
   ]
  },
  {
   "cell_type": "code",
   "execution_count": null,
   "metadata": {},
   "outputs": [],
   "source": [
    "jc_dist = sp.spatial.distance.pdist(\n",
    "    strain_rabund.loc[:, strain_rabund.columns.str.split('-').str[1] != 'other'] > 1e-5,\n",
    "    metric='jaccard',\n",
    ")"
   ]
  },
  {
   "cell_type": "code",
   "execution_count": null,
   "metadata": {},
   "outputs": [],
   "source": [
    "species_jc_dist = sp.spatial.distance.pdist(\n",
    "    species_rabund > 1e-5,\n",
    "    metric='jaccard',\n",
    ")"
   ]
  },
  {
   "cell_type": "code",
   "execution_count": null,
   "metadata": {},
   "outputs": [],
   "source": [
    "bins = np.linspace(0, 1, num=51)\n",
    "dist = jc_dist\n",
    "\n",
    "fig, ax = plt.subplots()\n",
    "ax.hist(dist[~same_subject], bins=bins, density=True, alpha=0.5, label='trans')\n",
    "ax.hist(dist[same_subject], bins=bins, density=True, alpha=0.5, label='cis')\n",
    "ax.set_yscale('log')\n",
    "mwu, p = sp.stats.mannwhitneyu(dist[~same_subject], dist[same_subject])\n",
    "auc = mwu / (len(dist[~same_subject]) * len(dist[same_subject]))\n",
    "print(auc)\n",
    "    \n",
    "ax.legend()"
   ]
  },
  {
   "cell_type": "code",
   "execution_count": null,
   "metadata": {},
   "outputs": [],
   "source": [
    "bins = np.linspace(0, 1, num=51)\n",
    "dist = species_jc_dist\n",
    "\n",
    "fig, ax = plt.subplots()\n",
    "ax.hist(dist[~same_subject], bins=bins, density=True, alpha=0.5, label='trans')\n",
    "ax.hist(dist[same_subject], bins=bins, density=True, alpha=0.5, label='cis')\n",
    "ax.set_yscale('log')\n",
    "mwu, p = sp.stats.mannwhitneyu(dist[~same_subject], dist[same_subject])\n",
    "auc = mwu / (len(dist[~same_subject]) * len(dist[same_subject]))\n",
    "print(auc)\n",
    "    \n",
    "ax.legend()"
   ]
  },
  {
   "cell_type": "code",
   "execution_count": null,
   "metadata": {},
   "outputs": [],
   "source": [
    "shared_species = sp.spatial.distance.pdist(species_rabund > 1e-5, metric=lambda u, v: (u * v).sum())"
   ]
  },
  {
   "cell_type": "code",
   "execution_count": null,
   "metadata": {},
   "outputs": [],
   "source": [
    "shared_strains = sp.spatial.distance.pdist(strain_rabund > 1e-5, metric=lambda u, v: (u * v).sum())"
   ]
  },
  {
   "cell_type": "code",
   "execution_count": null,
   "metadata": {},
   "outputs": [],
   "source": [
    "bins = np.linspace(0, 500, num=501)\n",
    "dist = shared_strains\n",
    "\n",
    "fig, ax = plt.subplots()\n",
    "ax.hist(dist[~same_subject], bins=bins, density=True, alpha=0.5, label='trans')\n",
    "ax.hist(dist[same_subject], bins=bins, density=True, alpha=0.5, label='cis')\n",
    "ax.set_yscale('log')\n",
    "    \n",
    "ax.legend()"
   ]
  },
  {
   "cell_type": "code",
   "execution_count": null,
   "metadata": {},
   "outputs": [],
   "source": [
    "bins = np.linspace(0, 500, num=501)\n",
    "dist = shared_species\n",
    "\n",
    "fig, ax = plt.subplots()\n",
    "ax.hist(dist[~same_subject], bins=bins, density=True, alpha=0.5, label='trans')\n",
    "ax.hist(dist[same_subject], bins=bins, density=True, alpha=0.5, label='cis')\n",
    "ax.set_yscale('log')\n",
    "    \n",
    "ax.legend()"
   ]
  },
  {
   "cell_type": "code",
   "execution_count": null,
   "metadata": {},
   "outputs": [],
   "source": [
    "bins = np.linspace(0, 1, num=501)\n",
    "dist = 1 / (shared_strains + 1)\n",
    "\n",
    "fig, ax = plt.subplots()\n",
    "ax.hist(dist[~same_subject], bins=bins, density=True, alpha=0.5, label='trans')\n",
    "ax.hist(dist[same_subject], bins=bins, density=True, alpha=0.5, label='cis')\n",
    "ax.set_yscale('log')\n",
    "mwu, p = sp.stats.mannwhitneyu(dist[~same_subject], dist[same_subject])\n",
    "auc = mwu / (len(dist[~same_subject]) * len(dist[same_subject]))\n",
    "print(auc)\n",
    "\n",
    "ax.set_xlim(right=0.2)\n",
    "    \n",
    "ax.legend()"
   ]
  },
  {
   "cell_type": "code",
   "execution_count": null,
   "metadata": {},
   "outputs": [],
   "source": [
    "frac_shared_strains = sp.spatial.distance.pdist(strain_rabund > 1e-5, metric=lambda u, v: 2 * (u * v).sum() / (u.sum() + v.sum()))"
   ]
  },
  {
   "cell_type": "code",
   "execution_count": null,
   "metadata": {},
   "outputs": [],
   "source": [
    "bins = np.linspace(0, 1, num=51)\n",
    "dist = 1 - frac_shared_strains\n",
    "\n",
    "fig, ax = plt.subplots()\n",
    "ax.hist(dist[~same_subject], bins=bins, density=True, alpha=0.5, label='trans')\n",
    "ax.hist(dist[same_subject], bins=bins, density=True, alpha=0.5, label='cis')\n",
    "ax.set_yscale('log')\n",
    "mwu, p = sp.stats.mannwhitneyu(dist[~same_subject], dist[same_subject])\n",
    "auc = mwu / (len(dist[~same_subject]) * len(dist[same_subject]))\n",
    "print(auc)\n",
    "    \n",
    "ax.legend()"
   ]
  },
  {
   "cell_type": "code",
   "execution_count": null,
   "metadata": {},
   "outputs": [],
   "source": [
    "frac_shared_species = sp.spatial.distance.pdist(species_rabund > 1e-5, metric=lambda u, v: 2 * (u * v).sum() / (u.sum() + v.sum()))"
   ]
  },
  {
   "cell_type": "code",
   "execution_count": null,
   "metadata": {},
   "outputs": [],
   "source": [
    "bins = np.linspace(0, 1, num=51)\n",
    "dist = 1 - frac_shared_species\n",
    "\n",
    "fig, ax = plt.subplots()\n",
    "ax.hist(dist[~same_subject], bins=bins, density=True, alpha=0.5, label='trans')\n",
    "ax.hist(dist[same_subject], bins=bins, density=True, alpha=0.5, label='cis')\n",
    "ax.set_yscale('log')\n",
    "mwu, p = sp.stats.mannwhitneyu(dist[~same_subject], dist[same_subject])\n",
    "auc = mwu / (len(dist[~same_subject]) * len(dist[same_subject]))\n",
    "print(auc)\n",
    "    \n",
    "ax.legend()"
   ]
  },
  {
   "cell_type": "code",
   "execution_count": null,
   "metadata": {},
   "outputs": [],
   "source": [
    "time_delta = sp.spatial.distance.pdist(mgen_meta.loc[strain_rabund.index][['week_number']], metric=lambda u, v: np.abs(u - v))\n",
    "pairwise_dist = pd.DataFrame(dict(\n",
    "    same_subject=same_subject,\n",
    "    bc_dist=bc_dist,\n",
    "    time_delta=time_delta,\n",
    "    jc_dist=jc_dist,\n",
    "    species_jc_dist=species_jc_dist,\n",
    "    species_bc_dist=species_bc_dist,\n",
    "    frac_shared_strains=frac_shared_strains\n",
    ")).dropna()"
   ]
  },
  {
   "cell_type": "code",
   "execution_count": null,
   "metadata": {},
   "outputs": [],
   "source": []
  },
  {
   "cell_type": "code",
   "execution_count": null,
   "metadata": {},
   "outputs": [],
   "source": [
    "k = 'jc_dist'\n",
    "d = pairwise_dist[lambda x: x.same_subject]\n",
    "\n",
    "plt.hexbin('time_delta', k, data=d, gridsize=(56, 50), norm=mpl.colors.PowerNorm(1/3, vmin=0), cmap='Greys')\n",
    "sns.regplot('time_delta', k, data=d, scatter_kws=dict(s=1, alpha=0.2), scatter=False, lowess=True, color='k')\n",
    "sp.stats.spearmanr(d.time_delta, d[k])"
   ]
  },
  {
   "cell_type": "code",
   "execution_count": null,
   "metadata": {},
   "outputs": [],
   "source": [
    "k = 'species_jc_dist'\n",
    "d = pairwise_dist[lambda x: x.same_subject]\n",
    "\n",
    "plt.hexbin('time_delta', k, data=d, gridsize=(56, 50), norm=mpl.colors.PowerNorm(1/3, vmin=0), cmap='Greys')\n",
    "sns.regplot('time_delta', k, data=d, scatter_kws=dict(s=1, alpha=0.2), scatter=False, lowess=True, color='k')\n",
    "sp.stats.spearmanr(d.time_delta, d[k])"
   ]
  },
  {
   "cell_type": "code",
   "execution_count": null,
   "metadata": {},
   "outputs": [],
   "source": [
    "k = 'frac_shared_strains'\n",
    "d = pairwise_dist[lambda x: ~x.same_subject]\n",
    "\n",
    "plt.scatter('time_delta', k, data=d, s=1, alpha=0.2)\n",
    "sns.regplot('time_delta', k, data=d, scatter_kws=dict(s=1, alpha=0.2), scatter=False, lowess=True, color='k')\n",
    "sp.stats.spearmanr(d.time_delta, d[k])"
   ]
  },
  {
   "cell_type": "code",
   "execution_count": null,
   "metadata": {},
   "outputs": [],
   "source": [
    "k = 'bc_dist'\n",
    "d = pairwise_dist[lambda x: x.same_subject]\n",
    "\n",
    "plt.hexbin('time_delta', k, data=d, gridsize=(28, 20), norm=mpl.colors.PowerNorm(1/2, vmin=0), cmap='Greys')\n",
    "sns.regplot('time_delta', k, data=d, scatter_kws=dict(s=1, alpha=0.2), scatter=False, lowess=True, color='r')\n",
    "sp.stats.spearmanr(d.time_delta, d[k])"
   ]
  },
  {
   "cell_type": "code",
   "execution_count": null,
   "metadata": {},
   "outputs": [],
   "source": [
    "k = 'species_bc_dist'\n",
    "d = pairwise_dist[lambda x: x.same_subject]\n",
    "\n",
    "plt.hexbin('time_delta', k, data=d, gridsize=(28, 20), norm=mpl.colors.PowerNorm(1/2, vmin=0), cmap='Greys')\n",
    "sns.regplot('time_delta', k, data=d, scatter_kws=dict(s=1, alpha=0.2), scatter=False, lowess=True, color='r')\n",
    "sp.stats.spearmanr(d.time_delta, d[k])"
   ]
  },
  {
   "cell_type": "code",
   "execution_count": null,
   "metadata": {},
   "outputs": [],
   "source": [
    "k = 'bc_dist'\n",
    "d = pairwise_dist[lambda x: ~x.same_subject]\n",
    "\n",
    "plt.scatter('time_delta', k, data=d, s=1, alpha=0.2)\n",
    "sns.regplot('time_delta', k, data=d, scatter_kws=dict(s=1, alpha=0.2), scatter=False, lowess=True, color='k')\n",
    "sp.stats.spearmanr(d.time_delta, d[k])"
   ]
  },
  {
   "cell_type": "code",
   "execution_count": null,
   "metadata": {},
   "outputs": [],
   "source": [
    "k = 'jc_dist'\n",
    "d = pairwise_dist[lambda x: x.same_subject]\n",
    "\n",
    "plt.scatter('time_delta', k, data=d, s=1, alpha=0.2)\n",
    "sns.regplot('time_delta', k, data=d, scatter_kws=dict(s=1, alpha=0.2), scatter=False, lowess=True, color='k')\n",
    "sp.stats.spearmanr(d.time_delta, d[k])"
   ]
  },
  {
   "cell_type": "code",
   "execution_count": null,
   "metadata": {},
   "outputs": [],
   "source": [
    "k = 'shared_strains'\n",
    "d = pairwise_dist[lambda x: x.same_subject]\n",
    "\n",
    "plt.scatter('time_delta', k, data=d, s=1, alpha=0.2)\n",
    "sns.regplot('time_delta', k, data=d, scatter_kws=dict(s=1, alpha=0.2), scatter=False, lowess=True, color='k')\n",
    "sp.stats.spearmanr(d.time_delta, d[k])"
   ]
  },
  {
   "cell_type": "code",
   "execution_count": null,
   "metadata": {},
   "outputs": [],
   "source": [
    "mgen_meta_baseline = mgen_meta.loc[strain_rabund.index].groupby('subject_id').apply(lambda d: d.sort_values('week_number').head(1)).reset_index('subject_id', drop=True)\n",
    "baseline_library = mgen_meta_baseline.index.to_series()"
   ]
  },
  {
   "cell_type": "code",
   "execution_count": null,
   "metadata": {},
   "outputs": [],
   "source": [
    "import lib.plot\n",
    "\n",
    "lib.plot.ordination_plot(\n",
    "    pd.DataFrame(sp.spatial.distance.squareform(bc_dist), index=strain_rabund.index, columns=strain_rabund.index),\n",
    "    meta=mgen_meta,\n",
    "    subset=baseline_library,\n",
    "    ordin=lib.plot.nmds2_ordination,\n",
    "    ordin_kws={},\n",
    "    colorby='ibd_diagnosis',\n",
    "    scatter_kws=dict(lw=0),\n",
    ")\n",
    "None"
   ]
  },
  {
   "cell_type": "code",
   "execution_count": null,
   "metadata": {},
   "outputs": [],
   "source": [
    "_depth = species_depth.loc[baseline_library]\n",
    "_n_taxa = len(_depth.columns)\n",
    "_rabund = _depth.divide(_depth.sum(1), axis=0)\n",
    "\n",
    "c = 'tab:blue'\n",
    "\n",
    "_prevalence = (_rabund > 1e-5).mean()\n",
    "_mean_rabund = _rabund.mean()\n",
    "_decreasing_prevalence = (_rabund > 1e-5).mean().sort_values(ascending=False).index\n",
    "_quantile_rabund = _rabund.loc[:, _decreasing_prevalence].cumsum(1).quantile([0.0, 0.05, 0.25, 0.5, 0.75, 0.95, 1.0]).T\n",
    "\n",
    "xx = np.arange(_n_taxa)\n",
    "plt.plot(xx, _quantile_rabund[0.5], c=c, lw=2, label='median_rabund')\n",
    "plt.fill_between(xx, _quantile_rabund[0.0], _quantile_rabund[1.0], color=c, alpha=0.05, edgecolor=None)\n",
    "plt.fill_between(xx, _quantile_rabund[0.05], _quantile_rabund[0.95], color=c, alpha=0.2, edgecolor=None)\n",
    "plt.fill_between(xx, _quantile_rabund[0.25], _quantile_rabund[0.75], color=c, alpha=0.2, edgecolor=None)\n",
    "\n",
    "plt.axvline((_quantile_rabund[0.0] < 0.99).sum(), linestyle='--', lw=1, color='grey')"
   ]
  },
  {
   "cell_type": "code",
   "execution_count": null,
   "metadata": {},
   "outputs": [],
   "source": [
    "_depth = strain_depth.loc[baseline_library]\n",
    "_n_taxa = len(_depth.columns)\n",
    "_rabund = _depth.divide(_depth.sum(1), axis=0)\n",
    "\n",
    "c = 'tab:blue'\n",
    "\n",
    "_prevalence = (_rabund > 1e-5).mean()\n",
    "_mean_rabund = _rabund.mean()\n",
    "_decreasing_prevalence = (_rabund > 1e-5).mean().sort_values(ascending=False).index\n",
    "_quantile_rabund = _rabund.loc[:, _decreasing_prevalence].cumsum(1).quantile([0.0, 0.05, 0.25, 0.5, 0.75, 0.95, 1.0]).T\n",
    "\n",
    "xx = np.arange(_n_taxa)\n",
    "plt.plot(xx, _quantile_rabund[0.5], c=c, lw=2, label='median_rabund')\n",
    "plt.fill_between(xx, _quantile_rabund[0.0], _quantile_rabund[1.0], color=c, alpha=0.05, edgecolor=None)\n",
    "plt.fill_between(xx, _quantile_rabund[0.05], _quantile_rabund[0.95], color=c, alpha=0.2, edgecolor=None)\n",
    "plt.fill_between(xx, _quantile_rabund[0.25], _quantile_rabund[0.75], color=c, alpha=0.2, edgecolor=None)\n",
    "\n",
    "plt.axvline((_quantile_rabund[0.0] < 0.99).sum(), linestyle='--', lw=1, color='grey')\n",
    "\n",
    "print('Unique species:', len(set(map(lambda s: s.split('-')[0], idxwhere(_quantile_rabund[0.0] < 0.99)))))"
   ]
  },
  {
   "cell_type": "code",
   "execution_count": null,
   "metadata": {},
   "outputs": [],
   "source": [
    "_depth = strain_depth\n",
    "_n_taxa = len(_depth.columns)\n",
    "_rabund = _depth.divide(_depth.sum(1), axis=0)\n",
    "\n",
    "c = 'tab:blue'\n",
    "\n",
    "_prevalence = (_rabund > 1e-5).mean()\n",
    "_mean_rabund = _rabund.mean()\n",
    "_decreasing_prevalence = (_rabund > 1e-5).mean().sort_values(ascending=False).index\n",
    "_quantile_rabund = _rabund.loc[:, _decreasing_prevalence].cumsum(1).quantile([0.0, 0.05, 0.25, 0.5, 0.75, 0.95, 1.0]).T\n",
    "\n",
    "xx = np.arange(_n_taxa)\n",
    "plt.plot(xx, _quantile_rabund[0.5], c=c, lw=2, label='median_rabund')\n",
    "plt.fill_between(xx, _quantile_rabund[0.0], _quantile_rabund[1.0], color=c, alpha=0.05, edgecolor=None)\n",
    "plt.fill_between(xx, _quantile_rabund[0.05], _quantile_rabund[0.95], color=c, alpha=0.2, edgecolor=None)\n",
    "plt.fill_between(xx, _quantile_rabund[0.25], _quantile_rabund[0.75], color=c, alpha=0.2, edgecolor=None)\n",
    "\n",
    "plt.axvline((_quantile_rabund[0.0] < 0.99).sum(), linestyle='--', lw=1, color='grey')\n",
    "\n",
    "print('Unique species:', len(set(map(lambda s: s.split('-')[0], idxwhere(_quantile_rabund[0.0] < 0.99)))))"
   ]
  },
  {
   "cell_type": "code",
   "execution_count": null,
   "metadata": {},
   "outputs": [],
   "source": [
    "_same_subject.shape"
   ]
  },
  {
   "cell_type": "code",
   "execution_count": null,
   "metadata": {},
   "outputs": [],
   "source": [
    "from tqdm import tqdm\n",
    "\n",
    "strain_to_species = strain_rabund.columns.to_series().str.split('-').str[0]\n",
    "same_subject_matrix = pd.DataFrame(\n",
    "    sp.spatial.distance.squareform(same_subject),\n",
    "    index=strain_rabund.index,\n",
    "    columns=strain_rabund.index\n",
    ")\n",
    "\n",
    "out = {}\n",
    "for species_id in tqdm(strain_to_species.unique()):\n",
    "    d = strain_rabund.loc[:, strain_to_species == species_id]\n",
    "    d = d.divide(d.sum(1), axis=0).dropna()\n",
    "    num_subjects = len(mgen_meta.loc[d.index].subject_id.unique())\n",
    "    _dist = sp.spatial.distance.pdist(d, metric='braycurtis')\n",
    "    _same_subject = sp.spatial.distance.squareform(same_subject_matrix.loc[d.index, d.index])\n",
    "    if (_same_subject.mean() == 1) or (_same_subject.mean() == 0):\n",
    "        continue\n",
    "    mwu, p = sp.stats.mannwhitneyu(_dist[~_same_subject], _dist[_same_subject])\n",
    "    out[species_id] = mwu / (len(_dist[~_same_subject]) * len(_dist[_same_subject])), num_subjects"
   ]
  },
  {
   "cell_type": "code",
   "execution_count": null,
   "metadata": {},
   "outputs": [],
   "source": [
    "d = pd.DataFrame(out, index=['auc', 'num_subjects']).T\n",
    "\n",
    "plt.scatter('auc', 'num_subjects', data=d, s=5, alpha=0.7)\n",
    "plt.xlim(-0.05, 1.05)"
   ]
  },
  {
   "cell_type": "code",
   "execution_count": null,
   "metadata": {},
   "outputs": [],
   "source": [
    "((d.auc > 0.9) & (d.num_subjects > 50)).sum()"
   ]
  },
  {
   "cell_type": "code",
   "execution_count": null,
   "metadata": {},
   "outputs": [],
   "source": [
    "d.join(species_taxonomy[['p__', 'f__', 's__']]).sort_values('num_subjects').tail(20)"
   ]
  },
  {
   "cell_type": "code",
   "execution_count": null,
   "metadata": {},
   "outputs": [],
   "source": [
    "plt.hist(pd.Series(auc), bins=np.linspace(0, 1, num=101))"
   ]
  },
  {
   "cell_type": "code",
   "execution_count": null,
   "metadata": {},
   "outputs": [],
   "source": []
  }
 ],
 "metadata": {
  "kernelspec": {
   "display_name": "Python 3 (ipykernel)",
   "language": "python",
   "name": "python3"
  },
  "language_info": {
   "codemirror_mode": {
    "name": "ipython",
    "version": 3
   },
   "file_extension": ".py",
   "mimetype": "text/x-python",
   "name": "python",
   "nbconvert_exporter": "python",
   "pygments_lexer": "ipython3",
   "version": "3.9.12"
  }
 },
 "nbformat": 4,
 "nbformat_minor": 5
}