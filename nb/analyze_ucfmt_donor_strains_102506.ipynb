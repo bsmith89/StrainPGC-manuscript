{
 "cells": [
  {
   "cell_type": "markdown",
   "metadata": {},
   "source": [
    "## Preamble"
   ]
  },
  {
   "cell_type": "markdown",
   "metadata": {},
   "source": [
    "### Project Template"
   ]
  },
  {
   "cell_type": "code",
   "execution_count": null,
   "metadata": {},
   "outputs": [],
   "source": [
    "%load_ext autoreload"
   ]
  },
  {
   "cell_type": "code",
   "execution_count": null,
   "metadata": {},
   "outputs": [],
   "source": [
    "import os as _os\n",
    "\n",
    "_os.chdir(_os.environ[\"PROJECT_ROOT\"])\n",
    "_os.path.realpath(_os.path.curdir)"
   ]
  },
  {
   "cell_type": "markdown",
   "metadata": {},
   "source": [
    "### Imports"
   ]
  },
  {
   "cell_type": "code",
   "execution_count": null,
   "metadata": {},
   "outputs": [],
   "source": [
    "import os\n",
    "import subprocess\n",
    "import sys\n",
    "import time\n",
    "from datetime import datetime\n",
    "from glob import glob\n",
    "from itertools import chain, product\n",
    "from tempfile import mkstemp\n",
    "\n",
    "import matplotlib as mpl\n",
    "import matplotlib.pyplot as plt\n",
    "import matplotlib.ticker as mtick\n",
    "import mpltern\n",
    "import numpy as np\n",
    "import pandas as pd\n",
    "import scipy as sp\n",
    "import seaborn as sns\n",
    "import sfacts as sf\n",
    "import statsmodels.api as sm\n",
    "import statsmodels.formula.api as smf\n",
    "import xarray as xr\n",
    "from mpl_toolkits.axes_grid1 import make_axes_locatable\n",
    "from scipy.spatial.distance import pdist, squareform\n",
    "from statsmodels.stats.multitest import fdrcorrection\n",
    "from tqdm import tqdm\n",
    "\n",
    "import lib.plot\n",
    "from lib.dissimilarity import load_dmat_as_pickle\n",
    "from lib.pandas_util import align_indexes, aligned_index, idxwhere, invert_mapping"
   ]
  },
  {
   "cell_type": "code",
   "execution_count": null,
   "metadata": {},
   "outputs": [],
   "source": [
    "def linkage_order(linkage, labels):\n",
    "    return labels[sp.cluster.hierarchy.to_tree(linkage).pre_order(lambda x: x.id)]\n",
    "\n",
    "\n",
    "def plot_stacked_barplot(data, x_var, order, palette=None, ax=None, **kwargs):\n",
    "    if ax is None:\n",
    "        ax = plt.subplot()\n",
    "    if palette is None:\n",
    "        palette = lib.plot.construct_ordered_palette(order)\n",
    "\n",
    "    # Bar styles\n",
    "    bar_kwargs = dict(\n",
    "        width=1.0,\n",
    "        alpha=1.0,\n",
    "        edgecolor=\"k\",\n",
    "        lw=1,\n",
    "    )\n",
    "    bar_kwargs.update(kwargs)\n",
    "\n",
    "    # Plot each bar segment\n",
    "    _last_top = 0\n",
    "    for y_var in order:\n",
    "        ax.bar(\n",
    "            x=data[x_var],\n",
    "            height=data[y_var],\n",
    "            bottom=_last_top,\n",
    "            label=y_var,\n",
    "            color=palette[y_var],\n",
    "            **bar_kwargs,\n",
    "        )\n",
    "        _last_top += data[y_var]\n",
    "    ax.set_xticks(data[x_var].values)\n",
    "    return ax\n",
    "\n",
    "\n",
    "plot_stacked_barplot(\n",
    "    pd.DataFrame(dict(t=[0, 1, 2], y1=[0.0, 0.5, 1.0], y2=[1.0, 0.5, 0.0])),\n",
    "    x_var=\"t\",\n",
    "    order=[\"y1\", \"y2\"],\n",
    ")"
   ]
  },
  {
   "cell_type": "code",
   "execution_count": null,
   "metadata": {},
   "outputs": [],
   "source": [
    "import lib.thisproject.data"
   ]
  },
  {
   "cell_type": "markdown",
   "metadata": {},
   "source": [
    "### Set Style"
   ]
  },
  {
   "cell_type": "code",
   "execution_count": null,
   "metadata": {},
   "outputs": [],
   "source": [
    "sns.set_context(\"talk\")\n",
    "plt.rcParams[\"figure.dpi\"] = 100"
   ]
  },
  {
   "cell_type": "markdown",
   "metadata": {},
   "source": [
    "## Metadata"
   ]
  },
  {
   "cell_type": "code",
   "execution_count": null,
   "metadata": {},
   "outputs": [],
   "source": [
    "mgen = pd.read_table(\"meta/ucfmt/mgen.tsv\", index_col=\"mgen_id\")\n",
    "sample = pd.read_table(\"meta/ucfmt/sample.tsv\", index_col=\"sample_id\")\n",
    "subject = pd.read_table(\"meta/ucfmt/subject.tsv\", index_col=\"subject_id\")\n",
    "assert mgen.sample_id.isin(sample.index).all()\n",
    "\n",
    "mgen_meta = mgen.join(sample, on=\"sample_id\").join(subject, on=\"subject_id\")"
   ]
  },
  {
   "cell_type": "markdown",
   "metadata": {},
   "source": [
    "### StrainPGC Post-filtering Strains"
   ]
  },
  {
   "cell_type": "code",
   "execution_count": null,
   "metadata": {},
   "outputs": [],
   "source": [
    "spgc_meta = pd.read_table(\n",
    "    f\"data/group/ucfmt/species/sp-102506/r.proc.gtpro.sfacts-fit.gene99_v15-v22-agg75.spgc-fit.strain_meta_spgc_and_ref.tsv\",\n",
    "    index_col=\"genome_id\",\n",
    ")\n",
    "spgc_strain_list = (\n",
    "    spgc_meta[lambda x: x.passes_filter & x.genome_type.isin([\"SPGC\"])]\n",
    "    .index.astype(int)\n",
    "    .values\n",
    ")\n",
    "len(spgc_strain_list)"
   ]
  },
  {
   "cell_type": "markdown",
   "metadata": {},
   "source": [
    "## Strain tracking"
   ]
  },
  {
   "cell_type": "code",
   "execution_count": null,
   "metadata": {},
   "outputs": [],
   "source": [
    "strain_fit = sf.data.World.load(\n",
    "    \"data/group/ucfmt/species/sp-102506/r.proc.gtpro.sfacts-fit.world.nc\"\n",
    ").rename_coords(strain=str)\n",
    "\n",
    "np.random.seed(0)\n",
    "position_ss = strain_fit.random_sample(position=1000).position\n",
    "sample_linkage = strain_fit.unifrac_linkage(optimal_ordering=True)\n",
    "sample_linkage_alt = strain_fit.metagenotype.linkage(optimal_ordering=True)\n",
    "strain_linkage = strain_fit.genotype.linkage(optimal_ordering=True)\n",
    "position_linkage = strain_fit.metagenotype.sel(position=position_ss).linkage(\"position\")\n",
    "\n",
    "print(sf.evaluation.metagenotype_error2(strain_fit, discretized=True)[0])"
   ]
  },
  {
   "cell_type": "markdown",
   "metadata": {},
   "source": [
    "### Visualize strain tracking"
   ]
  },
  {
   "cell_type": "code",
   "execution_count": null,
   "metadata": {},
   "outputs": [],
   "source": [
    "spgc_meta[lambda x: x.genome_type.isin([\"SPGC\"])].dropna(axis=\"columns\")"
   ]
  },
  {
   "cell_type": "code",
   "execution_count": null,
   "metadata": {},
   "outputs": [],
   "source": [
    "ucfmt_strains = list(\n",
    "    spgc_meta[lambda x: x.genome_type.isin([\"SPGC\"]) & x.passes_filter].index\n",
    ")"
   ]
  },
  {
   "cell_type": "code",
   "execution_count": null,
   "metadata": {},
   "outputs": [],
   "source": [
    "focal_strains = [\n",
    "    \"6\",\n",
    "    \"9\",  #'33',\n",
    "    # '38',  # Unfortunately low-quality gene content inferences. :-/\n",
    "]  # Defined based on dominant, donor strains in followup samples."
   ]
  },
  {
   "cell_type": "code",
   "execution_count": null,
   "metadata": {},
   "outputs": [],
   "source": [
    "strain_order = [\n",
    "    s\n",
    "    for s in linkage_order(\n",
    "        strain_linkage,\n",
    "        strain_fit.strain.values,\n",
    "    )\n",
    "]\n",
    "# ) if s in spgc_strain_list]\n",
    "\n",
    "if \"-1\" in strain_order:\n",
    "    strain_order.remove(\"-1\")  # Drop \"other\" strain.\n",
    "strain_order.append(\"-1\")  # Add to end of list\n",
    "\n",
    "strain_palette = lib.plot.construct_ordered_palette(\n",
    "    strain_order,  # Linkage order, I believe\n",
    "    cm=\"turbo\",\n",
    "    vmin=0.05,\n",
    "    vmax=0.95,\n",
    "    extend={\"-1\": \"silver\"},\n",
    "    desaturate_levels=[1.0],\n",
    ")\n",
    "\n",
    "# Desaturate non-focal strains\n",
    "for strain in strain_palette:\n",
    "    if strain == \"-1\":\n",
    "        continue\n",
    "    if strain not in focal_strains:\n",
    "        strain_palette[strain] = sns.set_hls_values(\n",
    "            strain_palette[strain], l=0.35, s=0.7\n",
    "        )\n",
    "    else:\n",
    "        strain_palette[strain] = sns.set_hls_values(\n",
    "            strain_palette[strain], l=0.75, s=1.0\n",
    "        )"
   ]
  },
  {
   "cell_type": "code",
   "execution_count": null,
   "metadata": {},
   "outputs": [],
   "source": [
    "strain_colors = (\n",
    "    pd.Series(strain_order, index=strain_order).map(strain_palette).to_frame()\n",
    ")\n",
    "\n",
    "sf.plot.plot_metagenotype(\n",
    "    strain_fit.sel(position=position_ss), col_linkage=sample_linkage_alt\n",
    ")\n",
    "sf.plot.plot_community(\n",
    "    strain_fit.sel(position=position_ss),\n",
    "    col_linkage=sample_linkage_alt,\n",
    "    row_linkage=strain_linkage,\n",
    "    row_colors=strain_colors,\n",
    ")"
   ]
  },
  {
   "cell_type": "raw",
   "metadata": {},
   "source": [
    "strain_fit.community.sel(sample=idxwhere(strain_fit.sample.to_series().str.startswith('DS0044'))).max(\"sample\").to_series().sort_values(ascending=False).head(5)"
   ]
  },
  {
   "cell_type": "code",
   "execution_count": null,
   "metadata": {},
   "outputs": [],
   "source": [
    "sf.plot.plot_genotype(\n",
    "    strain_fit.sel(position=position_ss),\n",
    "    row_linkage=strain_linkage,\n",
    "    row_colors=strain_colors,\n",
    ")"
   ]
  },
  {
   "cell_type": "code",
   "execution_count": null,
   "metadata": {},
   "outputs": [],
   "source": [
    "strain_samples = pd.read_table(\n",
    "    \"data/group/ucfmt/species/sp-102506/r.proc.gtpro.sfacts-fit.spgc_ss-all.strain_samples.tsv\",\n",
    "    names=[\"sample\", \"strain\"],\n",
    "    dtype=str,\n",
    ")\n",
    "strain_samples[lambda x: x.strain.isin(focal_strains)].sort_values(\n",
    "    \"strain\"\n",
    ").strain.value_counts()"
   ]
  },
  {
   "cell_type": "code",
   "execution_count": null,
   "metadata": {},
   "outputs": [],
   "source": [
    "focal_strain_samples = idxwhere(\n",
    "    (\n",
    "        strain_fit.community.data.sel(strain=focal_strains).max(\"strain\") > 0.75\n",
    "    ).to_series()\n",
    ")\n",
    "w = strain_fit.sel(\n",
    "    position=position_ss, sample=focal_strain_samples\n",
    ").drop_low_abundance_strains(0.001)\n",
    "sf.plot.plot_community(w, col_linkage_func=lambda w: w.metagenotype.linkage())\n",
    "sf.plot.plot_metagenotype(\n",
    "    w,\n",
    "    row_linkage_func=lambda w: position_linkage,\n",
    "    col_linkage_func=lambda w: w.metagenotype.linkage(),\n",
    ")"
   ]
  },
  {
   "cell_type": "code",
   "execution_count": null,
   "metadata": {},
   "outputs": [],
   "source": [
    "sample_type_specific_relabel = {\n",
    "    \"donor_enema\": \"D\",\n",
    "    \"donor_initial\": \"D\",\n",
    "    \"donor_capsule\": \"D\",\n",
    "    \"baseline\": \"B\",\n",
    "    \"post_antibiotic\": \"pA\",\n",
    "    \"pre_maintenance_1\": \"M1\",\n",
    "    \"pre_maintenance_2\": \"M2\",\n",
    "    \"pre_maintenance_3\": \"M3\",\n",
    "    \"pre_maintenance_4\": \"M4\",\n",
    "    \"pre_maintenance_5\": \"M5\",\n",
    "    \"pre_maintenance_6\": \"M6\",\n",
    "    \"followup_1\": \"F1\",\n",
    "    \"followup_2\": \"F2\",\n",
    "    \"followup_3\": \"F3\",\n",
    "}"
   ]
  },
  {
   "cell_type": "code",
   "execution_count": null,
   "metadata": {},
   "outputs": [],
   "source": [
    "for strain, c in strain_colors.squeeze().items():\n",
    "    plt.scatter([], [], c=c, label=strain)\n",
    "plt.legend(ncols=3)\n",
    "lib.plot.hide_axes_and_spines()"
   ]
  },
  {
   "cell_type": "code",
   "execution_count": null,
   "metadata": {},
   "outputs": [],
   "source": [
    "_meta = mgen_meta\n",
    "subject_order = [\"D0044\", \"D0097\", \"D0485\"]\n",
    "\n",
    "fig, axs = plt.subplots(\n",
    "    1, len(subject_order), figsize=(5 * len(subject_order), 2), squeeze=False\n",
    ")\n",
    "for subject_id, ax in zip(subject_order, axs.flatten()):\n",
    "    sample_list = (\n",
    "        _meta[\n",
    "            lambda x: (x.subject_id == subject_id)\n",
    "            & (x.index.isin(strain_fit.sample.values))\n",
    "        ]\n",
    "        # .sort_values('collection_days_post_fmt')  # This will be useful for subjects, but not donors\n",
    "        .index\n",
    "    )\n",
    "\n",
    "    if len(sample_list) < 2:\n",
    "        sample_order = sample_list\n",
    "    else:\n",
    "        sample_order = list(\n",
    "            linkage_order(\n",
    "                strain_fit.sel(sample=sample_list).metagenotype.linkage(\n",
    "                    optimal_ordering=True\n",
    "                ),\n",
    "                sample_list,\n",
    "            )\n",
    "        )\n",
    "\n",
    "    if len(sample_list) < 1:\n",
    "        subject_comm = pd.DataFrame([], columns=[-1])\n",
    "    else:\n",
    "        subject_comm = (\n",
    "            strain_fit.sel(sample=sample_order).keep_only_strain_list(strain_order)\n",
    "            # .drop_low_abundance_strains(\n",
    "            #     0.0, agg_strain_coord=-1\n",
    "            # )  # TODO: Check that this adds to the alread-existing strain_-1\n",
    "            .community.to_pandas()\n",
    "        )\n",
    "\n",
    "    d = (\n",
    "        _meta.reindex(sample_order)\n",
    "        # .dropna(subset=[\"collection_date_relative_een_end\"])\n",
    "        # .sort_values(\"collection_date_relative_een_end\")\n",
    "        .assign(\n",
    "            t=lambda x: range(len(x)),\n",
    "        )\n",
    "    ).join(subject_comm)\n",
    "    # d.loc[d.index[:num_offset_samples], 't'] -= 0.7  # Offset width\n",
    "\n",
    "    plot_stacked_barplot(\n",
    "        data=d,\n",
    "        x_var=\"t\",\n",
    "        order=[s for s in strain_order if s in subject_comm.columns],\n",
    "        palette=strain_palette,\n",
    "        ax=ax,\n",
    "        width=0.8,\n",
    "        lw=0.5,\n",
    "    )\n",
    "\n",
    "    ax.set_title(subject_id)\n",
    "    ax.set_xticklabels(\n",
    "        d.sample_type_specific.map(sample_type_specific_relabel),\n",
    "        fontsize=12,\n",
    "    )\n",
    "    ax.set_aspect(9, anchor=\"NW\")\n",
    "    ax.set_ylim(0, 1.0)\n",
    "    lib.plot.rotate_xticklabels(rotation=90, ax=ax, ha=\"center\")\n",
    "    ax.set_yticks(np.linspace(0, 1.0, num=3))\n",
    "    ax.yaxis.set_major_formatter(mtick.PercentFormatter(xmax=1, symbol=\"%\"))\n",
    "    if not d.empty:\n",
    "        ax.set_xlim(d.t.min() - 0.5, d.t.max() + 0.5)\n",
    "    ax.spines[[\"right\", \"top\"]].set_visible(False)"
   ]
  },
  {
   "cell_type": "code",
   "execution_count": null,
   "metadata": {},
   "outputs": [],
   "source": [
    "donor_subject_order = [\"D0044\", \"D0097\", \"D0485\"]\n",
    "_meta = mgen_meta.loc[strain_fit.sample.values][\n",
    "    lambda x: x.recipient\n",
    "    # & ~x.sra_accession.isna()\n",
    "]\n",
    "\n",
    "for donor in donor_subject_order:\n",
    "    subject_order = (\n",
    "        _meta[lambda x: x.donor_subject_id == donor].subject_id.value_counts().index\n",
    "    )\n",
    "    fig, axs = plt.subplots(\n",
    "        1,\n",
    "        len(subject_order),\n",
    "        figsize=(3 * len(subject_order), 2),\n",
    "        squeeze=False,\n",
    "        sharey=True,\n",
    "    )\n",
    "    for subject_id, ax in zip(subject_order, axs.flatten()):\n",
    "        sample_order = (\n",
    "            _meta[\n",
    "                lambda x: (x.subject_id == subject_id)\n",
    "                & (x.index.isin(strain_fit.sample.values))\n",
    "            ]\n",
    "            .sort_values(\"collection_days_post_fmt\")\n",
    "            .index\n",
    "        )\n",
    "\n",
    "        if len(sample_order) < 1:\n",
    "            subject_comm = pd.DataFrame([], columns=[-1])\n",
    "        else:\n",
    "            subject_comm = (\n",
    "                strain_fit.sel(sample=sample_order).keep_only_strain_list(strain_order)\n",
    "                # .drop_low_abundance_strains(\n",
    "                #     0.0, agg_strain_coord=-1\n",
    "                # )  # TODO: Check that this adds to the alread-existing strain_-1\n",
    "                .community.to_pandas()\n",
    "            )\n",
    "\n",
    "        d = (\n",
    "            _meta.reindex(sample_order)\n",
    "            # .dropna(subset=[\"collection_date_relative_een_end\"])\n",
    "            # .sort_values(\"collection_date_relative_een_end\")\n",
    "            .assign(\n",
    "                t=lambda x: range(len(x)),\n",
    "            )\n",
    "        ).join(subject_comm)\n",
    "        # d.loc[d.index[:num_offset_samples], 't'] -= 0.7  # Offset width\n",
    "\n",
    "        plot_stacked_barplot(\n",
    "            data=d,\n",
    "            x_var=\"t\",\n",
    "            order=[s for s in strain_order if s in subject_comm.columns],\n",
    "            palette=strain_palette,\n",
    "            ax=ax,\n",
    "            width=0.8,\n",
    "            lw=0.5,\n",
    "        )\n",
    "\n",
    "        ax.set_title(subject_id)\n",
    "        ax.set_xticklabels(\n",
    "            d.sample_type_specific.map(sample_type_specific_relabel),\n",
    "            fontsize=12,\n",
    "        )\n",
    "        ax.set_aspect(10, anchor=\"NW\")\n",
    "        ax.set_ylim(0, 1.0)\n",
    "        lib.plot.rotate_xticklabels(rotation=90, ax=ax, ha=\"center\")\n",
    "        ax.set_yticks(np.linspace(0, 1.0, num=3))\n",
    "        ax.yaxis.set_major_formatter(mtick.PercentFormatter(xmax=1, symbol=\"%\"))\n",
    "        if not d.empty:\n",
    "            ax.set_xlim(d.t.min() - 0.5, d.t.max() + 0.5)\n",
    "        ax.spines[[\"right\", \"top\"]].set_visible(False)"
   ]
  },
  {
   "cell_type": "markdown",
   "metadata": {},
   "source": [
    "## Dominant strains from donors / recipients"
   ]
  },
  {
   "cell_type": "raw",
   "metadata": {},
   "source": [
    "engrafting_strains = [\n",
    "    '6',  # D44\n",
    "    '38',  # D44\n",
    "    '34',  # D485  * Notice also in persistent strains list\n",
    "    '9',  # D97\n",
    "]\n",
    "not_engrafting_strains = [\n",
    "    '22',  # D44\n",
    "    '33',  # D97  * Notice also in lost strains list\n",
    "    '2',  # D97\n",
    "]\n",
    "persistent_strains = [\n",
    "    '34',  # S55  * Notice also in engrafting strains list\n",
    "    '25', # S60  * Notice also in lost strains list\n",
    "]\n",
    "lost_strains = [\n",
    "    '33',  # D97  * Notice also in not engrafting strains list\n",
    "    '47',  # S27 / S13\n",
    "    '21',  # S24\n",
    "    '20', # S47\n",
    "    '7',  # S21\n",
    "    '25', # S4  * Notice also in persistent strains list\n",
    "]\n",
    "\n",
    "all_strains = list(set(engrafting_strains) | set(not_engrafting_strains) | set(persistent_strains) | set(lost_strains))\n",
    "len(all_strains)"
   ]
  },
  {
   "cell_type": "code",
   "execution_count": null,
   "metadata": {},
   "outputs": [],
   "source": [
    "spgc_meta[lambda x: x.passes_filter & (x.genome_type == \"SPGC\")]"
   ]
  },
  {
   "cell_type": "code",
   "execution_count": null,
   "metadata": {},
   "outputs": [],
   "source": [
    "spgc_meta.loc[np.array(focal_strains).astype(str)]"
   ]
  },
  {
   "cell_type": "markdown",
   "metadata": {},
   "source": [
    "## Compare to reference database? (maybe?)"
   ]
  },
  {
   "cell_type": "code",
   "execution_count": null,
   "metadata": {},
   "outputs": [],
   "source": [
    "pd.read_table(\"ref/midasdb_uhgg_v15/metadata/genomes-all_metadata.tsv\").columns"
   ]
  },
  {
   "cell_type": "code",
   "execution_count": null,
   "metadata": {},
   "outputs": [],
   "source": [
    "ref_meta = pd.read_table(\n",
    "    \"ref/midasdb_uhgg_v15/metadata/2023-11-11-genomes-all_metadata.tsv\",\n",
    "    names=[\n",
    "        \"Genome\",\n",
    "        \"Genome_type\",\n",
    "        \"Length\",\n",
    "        \"N_contigs\",\n",
    "        \"N50\",\n",
    "        \"GC_content\",\n",
    "        \"Completeness\",\n",
    "        \"Contamination\",\n",
    "        \"rRNA_5S\",\n",
    "        \"rRNA_16S\",\n",
    "        \"rRNA_23S\",\n",
    "        \"tRNAs\",\n",
    "        \"Genome_accession\",\n",
    "        \"Species_rep\",\n",
    "        \"Lineage\",\n",
    "        \"Sample_accession\",\n",
    "        \"Study_accession\",\n",
    "        \"Country\",\n",
    "        \"Continent\",\n",
    "        \"FTP_download\",\n",
    "        \"_20\",\n",
    "        \"_21\",\n",
    "    ],\n",
    ").set_index(\"Genome_accession\")\n",
    "ref_meta"
   ]
  },
  {
   "cell_type": "code",
   "execution_count": null,
   "metadata": {},
   "outputs": [],
   "source": [
    "geno_pdmat = lib.dissimilarity.load_dmat_as_pickle(\n",
    "    \"data/group/ucfmt/species/sp-102506/r.proc.gtpro.sfacts-fit.spgc_ss-all.geno_uhgg-v15_pdist-mask10-pseudo10.pkl\"\n",
    ")\n",
    "d = geno_pdmat.loc[spgc_meta.genome_type.isin([\"Isolate\", \"MAG\"]), focal_strains]\n",
    "pd.DataFrame(dict(min_diss=d.min(), ref=d.idxmin())).assign(\n",
    "    Sample_accession=lambda x: ref_meta.loc[x.ref].Sample_accession.values\n",
    ")"
   ]
  },
  {
   "cell_type": "markdown",
   "metadata": {},
   "source": [
    "## Inter-strain differences"
   ]
  },
  {
   "cell_type": "markdown",
   "metadata": {},
   "source": [
    "## Differential Gene Content"
   ]
  },
  {
   "cell_type": "markdown",
   "metadata": {},
   "source": [
    "## Gene Annotations"
   ]
  },
  {
   "cell_type": "code",
   "execution_count": null,
   "metadata": {},
   "outputs": [],
   "source": [
    "gene_content_uhgg = pd.read_table(\n",
    "    \"data/group/ucfmt/species/sp-102506/r.proc.gtpro.sfacts-fit.gene99_v15-v22-agg75.spgc-fit.uhgg-strain_gene.tsv\",\n",
    "    index_col=\"gene_id\",\n",
    ").astype(bool)\n",
    "gene_content_uhgg = gene_content_uhgg.drop(idxwhere(gene_content_uhgg.sum(1) == 0))"
   ]
  },
  {
   "cell_type": "code",
   "execution_count": null,
   "metadata": {},
   "outputs": [],
   "source": [
    "gene_content_eggnog = pd.read_table(\n",
    "    \"data/group/ucfmt/species/sp-102506/r.proc.gtpro.sfacts-fit.gene99_v15-v22-agg75.spgc-fit.eggnog-strain_gene.tsv\",\n",
    "    index_col=\"gene_id\",\n",
    ").astype(bool)\n",
    "gene_content_eggnog = gene_content_eggnog.drop(\n",
    "    idxwhere(gene_content_eggnog.sum(1) == 0)\n",
    ")"
   ]
  },
  {
   "cell_type": "code",
   "execution_count": null,
   "metadata": {},
   "outputs": [],
   "source": [
    "gene_content_uhgg[focal_strains][lambda x: x.sum(1) > 0].value_counts().sort_index()"
   ]
  },
  {
   "cell_type": "code",
   "execution_count": null,
   "metadata": {},
   "outputs": [],
   "source": [
    "gene_prevalence_ref_eggnog = pd.read_table(\n",
    "    \"data/species/sp-102506/midasdb.gene75_v15.eggnog-strain_gene.prevalence.tsv\",\n",
    "    names=[\"gene_id\", \"prevalence\"],\n",
    "    index_col=\"gene_id\",\n",
    ").prevalence\n",
    "gene_prevalence_hmp2_eggnog = pd.read_table(\n",
    "    \"data/group/hmp2/species/sp-102506/r.proc.gtpro.sfacts-fit.gene99_v15-v22-agg75.spgc-fit.eggnog-strain_gene.prevalence.tsv\",\n",
    "    names=[\"gene_id\", \"prevalence\"],\n",
    "    index_col=\"gene_id\",\n",
    ").prevalence"
   ]
  },
  {
   "cell_type": "code",
   "execution_count": null,
   "metadata": {},
   "outputs": [],
   "source": [
    "gene_prevalence_ref_uhgg = pd.read_table(\n",
    "    \"data/species/sp-102506/midasdb.gene75_v15.uhgg-strain_gene.prevalence.tsv\",\n",
    "    names=[\"gene_id\", \"prevalence\"],\n",
    "    index_col=\"gene_id\",\n",
    ").prevalence\n",
    "gene_prevalence_hmp2_uhgg = pd.read_table(\n",
    "    \"data/group/hmp2/species/sp-102506/r.proc.gtpro.sfacts-fit.gene99_v15-v22-agg75.spgc-fit.uhgg-strain_gene.prevalence.tsv\",\n",
    "    names=[\"gene_id\", \"prevalence\"],\n",
    "    index_col=\"gene_id\",\n",
    ").prevalence"
   ]
  },
  {
   "cell_type": "code",
   "execution_count": null,
   "metadata": {},
   "outputs": [],
   "source": [
    "d0 = (\n",
    "    gene_prevalence_hmp2_eggnog.to_frame()\n",
    "    .join(gene_content_eggnog)\n",
    "    .groupby([\"6\", \"9\"])\n",
    "    .prevalence\n",
    ")\n",
    "\n",
    "fig, axs = plt.subplots(2, 2, sharex=True, sharey=True)\n",
    "bins = np.linspace(0, 1, num=11)\n",
    "for (focal_strain_gene_type, (k, c)), ax in zip(\n",
    "    {\n",
    "        \"neither\": ((False, False), \"silver\"),\n",
    "        \"D44\": ((True, False), strain_palette[\"6\"]),\n",
    "        \"D97\": ((False, True), strain_palette[\"9\"]),\n",
    "        \"both\": ((True, True), \"black\"),\n",
    "    }.items(),\n",
    "    axs.T.flatten(),\n",
    "):\n",
    "    d1 = d0.get_group(k)\n",
    "    ax.set_title(focal_strain_gene_type)\n",
    "    ax.hist(\n",
    "        d1,\n",
    "        bins=bins,\n",
    "        density=True,\n",
    "        label=focal_strain_gene_type,\n",
    "        color=c,\n",
    "        alpha=0.5,\n",
    "        histtype=\"stepfilled\",\n",
    "    )\n",
    "    ax.hist(\n",
    "        d1,\n",
    "        bins=bins,\n",
    "        density=True,\n",
    "        label=focal_strain_gene_type,\n",
    "        color=c,\n",
    "        alpha=0.85,\n",
    "        histtype=\"step\",\n",
    "    )\n",
    "    # ax.annotate(len(d1), xy=(0.5, 0.5), xycoords='axes fraction')\n",
    "\n",
    "fig.tight_layout()"
   ]
  },
  {
   "cell_type": "code",
   "execution_count": null,
   "metadata": {},
   "outputs": [],
   "source": [
    "d0 = (\n",
    "    gene_prevalence_hmp2_uhgg.to_frame()\n",
    "    .join(gene_content_uhgg)\n",
    "    .groupby([\"6\", \"9\"])\n",
    "    .prevalence\n",
    ")\n",
    "\n",
    "fig, axs = plt.subplots(2, 2, sharex=True, sharey=True)\n",
    "bins = np.linspace(0, 1, num=11)\n",
    "for (focal_strain_gene_type, (k, c)), ax in zip(\n",
    "    {\n",
    "        \"neither\": ((False, False), \"silver\"),\n",
    "        \"D44\": ((True, False), strain_palette[\"6\"]),\n",
    "        \"D97\": ((False, True), strain_palette[\"9\"]),\n",
    "        \"both\": ((True, True), \"black\"),\n",
    "    }.items(),\n",
    "    axs.T.flatten(),\n",
    "):\n",
    "    d1 = d0.get_group(k)\n",
    "    ax.set_title(focal_strain_gene_type)\n",
    "    ax.hist(\n",
    "        d1,\n",
    "        bins=bins,\n",
    "        density=True,\n",
    "        label=focal_strain_gene_type,\n",
    "        color=c,\n",
    "        alpha=0.5,\n",
    "        histtype=\"stepfilled\",\n",
    "    )\n",
    "    ax.hist(\n",
    "        d1,\n",
    "        bins=bins,\n",
    "        density=True,\n",
    "        label=focal_strain_gene_type,\n",
    "        color=c,\n",
    "        alpha=0.85,\n",
    "        histtype=\"step\",\n",
    "    )\n",
    "    if not focal_strain_gene_type == \"neither\":\n",
    "        ax.annotate(len(d1), xy=(0.5, 0.5), xycoords=\"axes fraction\")\n",
    "\n",
    "fig.tight_layout()"
   ]
  },
  {
   "cell_type": "code",
   "execution_count": null,
   "metadata": {},
   "outputs": [],
   "source": [
    "low_prevalence_genes_in_all_focal_strains = idxwhere(\n",
    "    gene_prevalence_hmp2_uhgg[idxwhere(gene_content_uhgg[focal_strains].all(1))] < 0.2\n",
    ")\n",
    "low_prevalence_genes_in_all_focal_strains"
   ]
  },
  {
   "cell_type": "code",
   "execution_count": null,
   "metadata": {},
   "outputs": [],
   "source": [
    "from matplotlib_venn import venn2\n",
    "\n",
    "venn2(\n",
    "    [set(idxwhere(gene_content_uhgg[\"6\"])), set(idxwhere(gene_content_uhgg[\"9\"]))],\n",
    "    set_labels=[\"D44\", \"D97\"],\n",
    "    set_colors=[strain_palette[\"6\"], strain_palette[\"9\"]],\n",
    ")"
   ]
  },
  {
   "cell_type": "raw",
   "metadata": {},
   "source": [
    "bins = np.linspace(0, 1, num=10)\n",
    "\n",
    "_palette = {'all': 'black', 'engrafting': 'tab:orange', 'not_engrafting': 'tab:blue', 'persistent': 'tab:red', 'lost': 'tab:green'}\n",
    "_lists = {'all': all_strains, 'engrafting': engrafting_strains, 'not_engrafting': not_engrafting_strains, 'persistent': persistent_strains, 'lost': lost_strains}\n",
    "\n",
    "for label in _lists:\n",
    "    plt.hist(gene_content[_lists[label]].mean(1), bins=bins, density=True, histtype='step', alpha=0.8, color=_palette[label], label='__nolegend__')\n",
    "    plt.hist(gene_content[_lists[label]].mean(1), bins=bins, density=True, histtype='stepfilled', alpha=0.3, color=_palette[label], label=label)\n",
    "# plt.hist(gene_content[engrafting_strains].mean(1), bins=bins)\n",
    "# plt.hist(gene_content[not_engrafting_strains].mean(1), bins=bins)\n",
    "# plt.hist(gene_content[persistent_strains].mean(1), bins=bins)\n",
    "# plt.hist(gene_content[lost_strains].mean(1), bins=bins)"
   ]
  },
  {
   "cell_type": "code",
   "execution_count": null,
   "metadata": {},
   "outputs": [],
   "source": [
    "gene_clust = pd.read_table(\n",
    "    \"data/group/hmp2/species/sp-102506/r.proc.gtpro.sfacts-fit.gene99_v15-v22-agg75.spgc-fit.uhgg-strain_gene.gene_clust-t10.tsv\",\n",
    "    names=[\"gene_id\", \"clust\"],\n",
    "    index_col=\"gene_id\",\n",
    ").clust\n",
    "gene_clust.value_counts()"
   ]
  },
  {
   "cell_type": "code",
   "execution_count": null,
   "metadata": {},
   "outputs": [],
   "source": [
    "gene_content_clust = (\n",
    "    gene_content_uhgg.groupby(gene_clust)\n",
    "    .mean()\n",
    "    .drop([-1, -2, -3, -4], errors=\"ignore\")\n",
    "    .drop(idxwhere(gene_clust.value_counts() <= 1), errors=\"ignore\")\n",
    ")"
   ]
  },
  {
   "cell_type": "code",
   "execution_count": null,
   "metadata": {},
   "outputs": [],
   "source": [
    "# Presence of an HMP2/SPGC defined gene cluster requires 80% of the genes in it to be found in the strain\n",
    "\n",
    "venn2(\n",
    "    [\n",
    "        set(idxwhere(gene_content_clust[\"6\"] > 0.8)),\n",
    "        set(idxwhere(gene_content_clust[\"9\"] > 0.8)),\n",
    "    ],\n",
    "    set_labels=[\"D44\", \"D97\"],\n",
    "    set_colors=[strain_palette[\"6\"], strain_palette[\"9\"]],\n",
    ")"
   ]
  },
  {
   "cell_type": "code",
   "execution_count": null,
   "metadata": {},
   "outputs": [],
   "source": [
    "clust_d44 = set(idxwhere(gene_content_clust[\"6\"] > 0.8))\n",
    "clust_d97 = set(idxwhere(gene_content_clust[\"9\"] > 0.8))"
   ]
  },
  {
   "cell_type": "code",
   "execution_count": null,
   "metadata": {},
   "outputs": [],
   "source": [
    "pd.DataFrame(\n",
    "    dict(\n",
    "        clust_size=gene_clust.value_counts(),\n",
    "        d44_frac=gene_content_clust[\"6\"],\n",
    "        d97_frac=gene_content_clust[\"9\"],\n",
    "    )\n",
    ")[lambda x: (x.d44_frac > 0.8) & (x.d97_frac > 0.8)].sort_values(\n",
    "    \"clust_size\", ascending=False\n",
    ").head(\n",
    "    10\n",
    ")"
   ]
  },
  {
   "cell_type": "code",
   "execution_count": null,
   "metadata": {},
   "outputs": [],
   "source": [
    "pd.DataFrame(\n",
    "    dict(\n",
    "        clust_size=gene_clust.value_counts(),\n",
    "        d44_frac=gene_content_clust[\"6\"],\n",
    "        d97_frac=gene_content_clust[\"9\"],\n",
    "    )\n",
    ")[lambda x: (x.d44_frac > 0.8) & (x.d97_frac <= 0.8)].sort_values(\n",
    "    \"clust_size\", ascending=False\n",
    ").head(\n",
    "    10\n",
    ")"
   ]
  },
  {
   "cell_type": "code",
   "execution_count": null,
   "metadata": {},
   "outputs": [],
   "source": [
    "pd.DataFrame(\n",
    "    dict(\n",
    "        clust_size=gene_clust.value_counts(),\n",
    "        d44_frac=gene_content_clust[\"6\"],\n",
    "        d97_frac=gene_content_clust[\"9\"],\n",
    "    )\n",
    ")[lambda x: (x.d44_frac <= 0.8) & (x.d97_frac > 0.8)].sort_values(\n",
    "    \"clust_size\", ascending=False\n",
    ").head(\n",
    "    10\n",
    ")"
   ]
  },
  {
   "cell_type": "code",
   "execution_count": null,
   "metadata": {},
   "outputs": [],
   "source": [
    "gene_annotation = pd.read_table(\n",
    "    \"data/species/sp-102506/midasdb_v15.gene75_meta.tsv\", index_col=\"gene_id\"\n",
    ")"
   ]
  },
  {
   "cell_type": "code",
   "execution_count": null,
   "metadata": {},
   "outputs": [],
   "source": [
    "gene_x_cog = pd.read_table(\n",
    "    \"data/species/sp-102506/midasdb_v15.emapper.gene75_x_cog.tsv\"\n",
    ").drop_duplicates()\n",
    "cog_x_cog_pathway = pd.read_table(\n",
    "    \"ref/cog-20.meta.tsv\",\n",
    "    encoding=\"latin1\",\n",
    "    names=[\n",
    "        \"cog\",\n",
    "        \"cog_categories\",\n",
    "        \"description\",\n",
    "        \"preferred_name\",\n",
    "        \"cog_pathway\",\n",
    "        \"_5\",\n",
    "        \"color_hex\",\n",
    "    ],\n",
    "    index_col=\"cog\",\n",
    ").cog_pathway"
   ]
  },
  {
   "cell_type": "code",
   "execution_count": null,
   "metadata": {},
   "outputs": [],
   "source": [
    "gene_annotation.loc[idxwhere(gene_clust == 534)].join(gene_content_uhgg[[\"6\", \"9\"]])"
   ]
  },
  {
   "cell_type": "code",
   "execution_count": null,
   "metadata": {},
   "outputs": [],
   "source": [
    "gene_annotation.loc[idxwhere(gene_clust == 3003)].join(gene_content_uhgg[[\"6\", \"9\"]])"
   ]
  },
  {
   "cell_type": "code",
   "execution_count": null,
   "metadata": {},
   "outputs": [],
   "source": [
    "gene_annotation.loc[idxwhere(gene_clust == 656)].join(gene_content_uhgg[[\"6\", \"9\"]])"
   ]
  },
  {
   "cell_type": "code",
   "execution_count": null,
   "metadata": {},
   "outputs": [],
   "source": [
    "gene_annotation.loc[low_prevalence_genes_in_all_focal_strains]"
   ]
  },
  {
   "cell_type": "code",
   "execution_count": null,
   "metadata": {},
   "outputs": [],
   "source": [
    "hmp2_strain_meta = pd.read_table(\n",
    "    \"data/group/hmp2/species/sp-102506/r.proc.gtpro.sfacts-fit.gene99_v15-v22-agg75.spgc-fit.strain_meta_for_analysis.tsv\",\n",
    "    index_col=\"genome_id\",\n",
    ")\n",
    "hmp2_strain_list = idxwhere(\n",
    "    (hmp2_strain_meta.genome_type == \"SPGC\") & hmp2_strain_meta.passes_filter\n",
    ")\n",
    "len(hmp2_strain_list)"
   ]
  },
  {
   "cell_type": "code",
   "execution_count": null,
   "metadata": {},
   "outputs": [],
   "source": [
    "hmp2_geno = (\n",
    "    sf.Metagenotype.load(\n",
    "        \"data/group/hmp2/species/sp-102506/r.proc.gtpro.sfacts-fit.spgc_ss-all.mgtp.nc\"\n",
    "    )\n",
    "    .rename_coords(sample=str)\n",
    "    .sel(sample=hmp2_strain_list)\n",
    "    .to_estimated_genotype()\n",
    "    .discretized(max_ambiguity=0.1)\n",
    "    .rename_coords(strain=lambda s: f\"hmp2_{s}\")\n",
    ")\n",
    "ucfmt_geno = (\n",
    "    sf.Metagenotype.load(\n",
    "        \"data/group/ucfmt/species/sp-102506/r.proc.gtpro.sfacts-fit.spgc_ss-all.mgtp.nc\"\n",
    "    )\n",
    "    .rename_coords(sample=str)\n",
    "    .to_estimated_genotype()\n",
    "    .discretized(max_ambiguity=0.1)\n",
    ")\n",
    "\n",
    "combined_geno = sf.Genotype.concat(\n",
    "    dict(hmp2=hmp2_geno, ucfmt=ucfmt_geno.sel(strain=ucfmt_strains)),\n",
    "    dim=\"strain\",\n",
    "    rename=False,\n",
    ")"
   ]
  },
  {
   "cell_type": "code",
   "execution_count": null,
   "metadata": {},
   "outputs": [],
   "source": [
    "from scripts.calculate_pairwise_genotype_masked_hamming_distance import (\n",
    "    native_masked_hamming_distance_pdist,\n",
    ")\n",
    "\n",
    "combined_mgtp_geno_pdist = pd.DataFrame(\n",
    "    squareform(native_masked_hamming_distance_pdist(combined_geno.values, pseudo=1)),\n",
    "    index=combined_geno.strain,\n",
    "    columns=combined_geno.strain,\n",
    ")\n",
    "combined_mgtp_geno_linkage = sp.cluster.hierarchy.linkage(\n",
    "    squareform(combined_mgtp_geno_pdist), method=\"average\", optimal_ordering=True\n",
    ")"
   ]
  },
  {
   "cell_type": "code",
   "execution_count": null,
   "metadata": {},
   "outputs": [],
   "source": [
    "sf.plot.plot_genotype(\n",
    "    combined_geno.sel(position=position_ss),\n",
    "    row_linkage_func=lambda w: combined_mgtp_geno_linkage,\n",
    "    col_linkage_func=lambda w: position_linkage,\n",
    "    row_colors=strain_colors,\n",
    ")"
   ]
  },
  {
   "cell_type": "code",
   "execution_count": null,
   "metadata": {},
   "outputs": [],
   "source": [
    "gene_content_hmp2_uhgg = (\n",
    "    pd.read_table(\n",
    "        \"data/group/hmp2/species/sp-102506/r.proc.gtpro.sfacts-fit.gene99_v15-v22-agg75.spgc-fit.uhgg-strain_gene.tsv\",\n",
    "        index_col=\"gene_id\",\n",
    "    )[hmp2_strain_list]\n",
    "    .astype(bool)\n",
    "    .rename(columns=lambda s: f\"hmp2_{s}\")\n",
    ")\n",
    "gene_content_ucfmt_uhgg = gene_content_uhgg[\n",
    "    ucfmt_strains\n",
    "]  # pd.read_table('data/group/ucfmt/species/sp-102506/r.proc.gtpro.sfacts-fit.gene99_v15-v22-agg75.spgc-fit.uhgg-strain_gene.tsv', index_col='gene_id').astype(bool)\n",
    "gene_content_combined = pd.concat(\n",
    "    [gene_content_hmp2_uhgg, gene_content_ucfmt_uhgg], axis=\"columns\"\n",
    ").fillna(False)"
   ]
  },
  {
   "cell_type": "raw",
   "metadata": {},
   "source": [
    "d = gene_content_combined[\n",
    "    lambda x: (gene_prevalence_hmp2_uhgg > 0.15) & (gene_prevalence_hmp2_uhgg < 0.9)\n",
    "]\n",
    "\n",
    "cg = sns.clustermap(\n",
    "    d,\n",
    "    col_linkage=combined_mgtp_geno_linkage,\n",
    "    metric=\"cosine\",\n",
    "    xticklabels=False,\n",
    "    yticklabels=False,\n",
    "    figsize=(12, 10),\n",
    "    tree_kws=dict(lw=2),\n",
    ")\n",
    "cg.ax_row_dendrogram.set_visible(False)\n",
    "cg.ax_cbar.set_visible(False)\n",
    "\n",
    "d.shape"
   ]
  },
  {
   "cell_type": "code",
   "execution_count": null,
   "metadata": {},
   "outputs": [],
   "source": [
    "d = gene_content_combined[\n",
    "    lambda x: (gene_prevalence_hmp2_uhgg > 0.15) & (gene_prevalence_hmp2_uhgg < 0.9)\n",
    "]\n",
    "\n",
    "cg = sns.clustermap(\n",
    "    d,\n",
    "    col_linkage=combined_mgtp_geno_linkage,\n",
    "    metric=\"cosine\",\n",
    "    cmap=\"Grays\",\n",
    "    xticklabels=False,\n",
    "    yticklabels=False,\n",
    "    figsize=(10, 5),\n",
    "    tree_kws=dict(lw=1),\n",
    "    dendrogram_ratio=0.4,\n",
    ")\n",
    "cg.ax_heatmap.set_ylabel(\"\")\n",
    "cg.ax_row_dendrogram.set_visible(False)\n",
    "cg.ax_cbar.set_visible(False)\n",
    "\n",
    "d.shape"
   ]
  },
  {
   "cell_type": "code",
   "execution_count": null,
   "metadata": {},
   "outputs": [],
   "source": [
    "gene_content_combined[\n",
    "    lambda x: (gene_prevalence_hmp2_uhgg > 0.15) & (gene_prevalence_hmp2_uhgg < 0.9)\n",
    "].dropna(axis=\"columns\").dropna(axis=\"rows\").shape"
   ]
  },
  {
   "cell_type": "code",
   "execution_count": null,
   "metadata": {},
   "outputs": [],
   "source": [
    "d = gene_content_combined[\n",
    "    lambda x: (gene_prevalence_hmp2_uhgg > 0.15) & (gene_prevalence_hmp2_uhgg < 0.9)\n",
    "]\n",
    "\n",
    "cg = sns.clustermap(\n",
    "    d,\n",
    "    col_linkage=combined_mgtp_geno_linkage,\n",
    "    col_colors=strain_colors,\n",
    "    metric=\"cosine\",\n",
    "    xticklabels=False,\n",
    "    yticklabels=False,\n",
    "    figsize=(10, 4),\n",
    "    tree_kws=dict(lw=1),\n",
    "    dendrogram_ratio=0.3,\n",
    ")\n",
    "cg.ax_row_dendrogram.set_visible(False)\n",
    "cg.ax_cbar.set_visible(False)"
   ]
  },
  {
   "cell_type": "code",
   "execution_count": null,
   "metadata": {},
   "outputs": [],
   "source": [
    "combined_gene_content_pdist = lib.dissimilarity.dmatrix(\n",
    "    gene_content_combined[\n",
    "        lambda x: (gene_prevalence_hmp2_uhgg > 0.15) & (gene_prevalence_hmp2_uhgg < 0.9)\n",
    "    ].T,\n",
    "    metric=\"jaccard\",\n",
    ")\n",
    "\n",
    "_strain_list = combined_gene_content_pdist.index\n",
    "_x = squareform(combined_mgtp_geno_pdist.loc[_strain_list, _strain_list])\n",
    "_y = squareform(combined_gene_content_pdist.loc[_strain_list, _strain_list])\n",
    "\n",
    "plt.scatter(_x, _y)\n",
    "sp.stats.pearsonr(_x, _y)"
   ]
  },
  {
   "cell_type": "code",
   "execution_count": null,
   "metadata": {},
   "outputs": [],
   "source": [
    "sns.clustermap(\n",
    "    combined_mgtp_geno_pdist,\n",
    "    row_linkage=combined_mgtp_geno_linkage,\n",
    "    col_linkage=combined_mgtp_geno_linkage,\n",
    "    col_colors=strain_colors,\n",
    "    row_colors=strain_colors,\n",
    ")"
   ]
  },
  {
   "cell_type": "code",
   "execution_count": null,
   "metadata": {},
   "outputs": [],
   "source": [
    "d0 = gene_content_combined[\n",
    "    lambda x: (gene_prevalence_hmp2_uhgg > 0.15) & (gene_prevalence_hmp2_uhgg < 0.9)\n",
    "]\n",
    "\n",
    "pdist = lib.dissimilarity.dmatrix(d0.T, metric=\"jaccard\")\n",
    "\n",
    "sns.clustermap(\n",
    "    pdist,\n",
    "    row_linkage=combined_mgtp_geno_linkage,\n",
    "    col_linkage=combined_mgtp_geno_linkage,\n",
    "    col_colors=strain_colors,\n",
    "    row_colors=strain_colors,\n",
    ")"
   ]
  },
  {
   "cell_type": "code",
   "execution_count": null,
   "metadata": {},
   "outputs": [],
   "source": [
    "gene_x_cog_category_matrix = (\n",
    "    pd.read_table(\n",
    "        \"data/species/sp-102506/midasdb_v15.emapper.gene75_x_cog_category.tsv\"\n",
    "    )\n",
    "    .assign(flag=True)\n",
    "    .set_index([\"centroid_75\", \"cog_category\"])\n",
    "    .flag.unstack(\"cog_category\", fill_value=False)\n",
    ")"
   ]
  },
  {
   "cell_type": "code",
   "execution_count": null,
   "metadata": {},
   "outputs": [],
   "source": [
    "d = gene_content_ucfmt_uhgg\n",
    "\n",
    "venn2(\n",
    "    [set(idxwhere(d[\"9\"])), set(idxwhere(d[\"6\"]))],\n",
    "    set_labels=[\"\", \"\"],\n",
    "    set_colors=[strain_palette[\"9\"], strain_palette[\"6\"]],\n",
    ")"
   ]
  },
  {
   "cell_type": "code",
   "execution_count": null,
   "metadata": {},
   "outputs": [],
   "source": [
    "d = gene_content_eggnog\n",
    "\n",
    "venn2(\n",
    "    [set(idxwhere(d[\"9\"])), set(idxwhere(d[\"6\"]))],\n",
    "    set_labels=[\"\", \"\"],\n",
    "    set_colors=[strain_palette[\"9\"], strain_palette[\"6\"]],\n",
    ")"
   ]
  },
  {
   "cell_type": "code",
   "execution_count": null,
   "metadata": {},
   "outputs": [],
   "source": [
    "drop_clusters = set(idxwhere(gene_clust.value_counts() < 2) + [-4, -3, -2, -1])\n",
    "d = (gene_content_ucfmt_uhgg.groupby(gene_clust).mean() >= 0.75).drop(\n",
    "    drop_clusters, errors=\"ignore\"\n",
    ")\n",
    "\n",
    "venn2(\n",
    "    [set(idxwhere(d[\"9\"])), set(idxwhere(d[\"6\"]))],\n",
    "    set_labels=[\"\", \"\"],\n",
    "    set_colors=[strain_palette[\"9\"], strain_palette[\"6\"]],\n",
    ")"
   ]
  },
  {
   "cell_type": "code",
   "execution_count": null,
   "metadata": {},
   "outputs": [],
   "source": [
    "gene_x_amr = pd.read_table(\"data/species/sp-102506/midasdb_v15.gene75_x_amr.tsv\")\n",
    "amr_gene_list = gene_x_amr.centroid_75.unique()\n",
    "len(amr_gene_list)"
   ]
  },
  {
   "cell_type": "code",
   "execution_count": null,
   "metadata": {},
   "outputs": [],
   "source": [
    "gene_content_ucfmt_uhgg.reindex(\n",
    "    index=amr_gene_list, columns=focal_strains, fill_value=False\n",
    ").sum()"
   ]
  },
  {
   "cell_type": "code",
   "execution_count": null,
   "metadata": {},
   "outputs": [],
   "source": [
    "gene_content_ucfmt_uhgg.reindex(\n",
    "    index=amr_gene_list, columns=focal_strains, fill_value=False\n",
    ")[lambda x: x.sum(1) > 0]"
   ]
  },
  {
   "cell_type": "code",
   "execution_count": null,
   "metadata": {},
   "outputs": [],
   "source": [
    "focal_strain_amr_hits = gene_x_amr[\n",
    "    lambda x: x.centroid_75.isin(\n",
    "        idxwhere(gene_content_ucfmt_uhgg[focal_strains].any(axis=1))\n",
    "    )\n",
    "]\n",
    "focal_strain_amr_list = focal_strain_amr_hits.accession_no.values\n",
    "focal_strain_amr_hits.sort_values(\"centroid_75\")"
   ]
  },
  {
   "cell_type": "code",
   "execution_count": null,
   "metadata": {},
   "outputs": [],
   "source": [
    "resfinder = pd.read_table(\"ref/midasdb_uhgg_v15/pangenomes/102506/resfinder.tsv\")[\n",
    "    [\"resistance_gene\", \"phenotype\", \"accession_no\"]\n",
    "].drop_duplicates()\n",
    "resfinder"
   ]
  },
  {
   "cell_type": "code",
   "execution_count": null,
   "metadata": {},
   "outputs": [],
   "source": [
    "resfinder[lambda x: x.accession_no.isin(focal_strain_amr_list)].sort_values(\n",
    "    \"accession_no\"\n",
    ")"
   ]
  },
  {
   "cell_type": "code",
   "execution_count": null,
   "metadata": {},
   "outputs": [],
   "source": [
    "resfinder[lambda x: x.accession_no.isin(focal_strain_amr_list)].sort_values(\n",
    "    \"accession_no\"\n",
    ").phenotype.str.split(\", \").explode().value_counts()"
   ]
  },
  {
   "cell_type": "code",
   "execution_count": null,
   "metadata": {},
   "outputs": [],
   "source": [
    "d = gene_content_combined.loc[amr_gene_list][lambda x: x.sum(1) > 0]\n",
    "\n",
    "cg = sns.clustermap(\n",
    "    d,\n",
    "    col_linkage=combined_mgtp_geno_linkage,\n",
    "    col_colors=strain_colors,\n",
    "    metric=\"cosine\",\n",
    "    xticklabels=False,\n",
    "    yticklabels=False,\n",
    "    figsize=(10, 4),\n",
    "    tree_kws=dict(lw=1),\n",
    "    dendrogram_ratio=0.3,\n",
    ")\n",
    "cg.ax_row_dendrogram.set_visible(False)\n",
    "cg.ax_cbar.set_visible(False)"
   ]
  },
  {
   "cell_type": "code",
   "execution_count": null,
   "metadata": {},
   "outputs": [],
   "source": [
    "drop_clusters = set(idxwhere(gene_clust.value_counts() < 2) + [-4, -3, -2, -1])\n",
    "clust_content_combined = (\n",
    "    gene_content_combined.groupby(gene_clust).mean() >= 0.75\n",
    ").drop(drop_clusters, errors=\"ignore\")\n",
    "d = clust_content_combined\n",
    "\n",
    "cg = sns.clustermap(\n",
    "    d,\n",
    "    col_linkage=combined_mgtp_geno_linkage,\n",
    "    col_colors=strain_colors,\n",
    "    metric=\"cosine\",\n",
    "    xticklabels=False,\n",
    "    yticklabels=False,\n",
    "    figsize=(10, 4),\n",
    "    tree_kws=dict(lw=1),\n",
    "    dendrogram_ratio=0.3,\n",
    ")\n",
    "cg.ax_row_dendrogram.set_visible(False)\n",
    "cg.ax_cbar.set_visible(False)"
   ]
  },
  {
   "cell_type": "markdown",
   "metadata": {},
   "source": [
    "## Strain-9"
   ]
  },
  {
   "cell_type": "code",
   "execution_count": null,
   "metadata": {},
   "outputs": [],
   "source": [
    "strain6_only_clust_list = idxwhere(\n",
    "    (~clust_content_combined[\"6\"] & clust_content_combined[\"9\"])\n",
    ")\n",
    "gene_clust.value_counts().to_frame(\"total_genes\").assign(\n",
    "    cat=gene_x_cog_category_matrix.groupby(gene_clust)\n",
    "    .sum()\n",
    "    .apply(lambda x: x[lambda x: x > 0].sort_values(ascending=False).to_dict(), axis=1)\n",
    ").loc[strain6_only_clust_list].sort_values(\"total_genes\", ascending=False).head(20)"
   ]
  },
  {
   "cell_type": "markdown",
   "metadata": {},
   "source": [
    "### Clust-2751"
   ]
  },
  {
   "cell_type": "code",
   "execution_count": null,
   "metadata": {},
   "outputs": [],
   "source": [
    "clust = [2751]\n",
    "_clust_annotations = (\n",
    "    gene_annotation.loc[idxwhere(gene_clust.isin(clust))]\n",
    "    .join(gene_clust)\n",
    "    .join(gene_content_uhgg[focal_strains])\n",
    "    .sort_values(\"Preferred_name\")\n",
    ")\n",
    "print(gene_clust[lambda x: x.isin(clust)].value_counts())\n",
    "print(\n",
    "    gene_content_uhgg.reindex(_clust_annotations.index)[focal_strains]\n",
    "    .value_counts()\n",
    "    .unstack(fill_value=0)\n",
    ")\n",
    "print(\n",
    "    gene_x_cog_category_matrix.reindex(idxwhere(gene_clust.isin(clust)))\n",
    "    .sum()\n",
    "    .sort_values(ascending=False)[lambda x: x > 0]\n",
    ")\n",
    "# _clust_annotations"
   ]
  },
  {
   "cell_type": "code",
   "execution_count": null,
   "metadata": {},
   "outputs": [],
   "source": [
    "for gene_id, x in _clust_annotations.iterrows():\n",
    "    print(\n",
    "        gene_id,\n",
    "        x.Preferred_name,\n",
    "        x.Description,\n",
    "        x.eggNOG_OGs,\n",
    "        idxwhere(x[focal_strains]),\n",
    "    )\n",
    "    print()"
   ]
  },
  {
   "cell_type": "markdown",
   "metadata": {},
   "source": [
    "#### type iv / pil / pilin"
   ]
  },
  {
   "cell_type": "code",
   "execution_count": null,
   "metadata": {},
   "outputs": [],
   "source": [
    "_related_annotations = (\n",
    "    gene_annotation[\n",
    "        lambda x: (x.Preferred_name.fillna(\"\").str.lower().str.startswith(\"pil\"))\n",
    "        | (x.Description.fillna(\"\").str.lower().str.contains(\"pilin\"))\n",
    "        | (x.Description.fillna(\"\").str.lower().str.contains(\"type iv secre\"))\n",
    "    ]\n",
    "    .join(gene_clust)\n",
    "    .join(gene_content_uhgg[focal_strains])[\n",
    "        lambda x: x[[\"6\", \"9\"]].fillna(False).any(axis=1)\n",
    "    ]\n",
    "    .sort_values(\"Preferred_name\")\n",
    ")\n",
    "\n",
    "print(\n",
    "    _related_annotations[[\"clust\", *focal_strains]].value_counts().unstack(fill_value=0)\n",
    ")"
   ]
  },
  {
   "cell_type": "code",
   "execution_count": null,
   "metadata": {},
   "outputs": [],
   "source": [
    "for gene_id, x in _related_annotations.iterrows():\n",
    "    print(\n",
    "        gene_id,\n",
    "        x.clust,\n",
    "        idxwhere(x[focal_strains]),\n",
    "        x.Preferred_name,\n",
    "        x.Description,\n",
    "        x.eggNOG_OGs,\n",
    "    )\n",
    "    print()"
   ]
  },
  {
   "cell_type": "markdown",
   "metadata": {},
   "source": [
    "### Clust-1069"
   ]
  },
  {
   "cell_type": "code",
   "execution_count": null,
   "metadata": {},
   "outputs": [],
   "source": [
    "clust = [1069]\n",
    "_clust_annotations = (\n",
    "    gene_annotation.loc[idxwhere(gene_clust.isin(clust))]\n",
    "    .join(gene_clust)\n",
    "    .join(gene_content_uhgg[focal_strains])\n",
    "    .sort_values(\"Preferred_name\")\n",
    ")\n",
    "print(gene_clust[lambda x: x.isin(clust)].value_counts())\n",
    "print(\n",
    "    gene_content_uhgg.reindex(_clust_annotations.index)[focal_strains]\n",
    "    .value_counts()\n",
    "    .unstack()\n",
    ")\n",
    "print(\n",
    "    gene_x_cog_category_matrix.reindex(idxwhere(gene_clust.isin(clust)))\n",
    "    .sum()\n",
    "    .sort_values(ascending=False)[lambda x: x > 0]\n",
    ")\n",
    "# _clust_annotations"
   ]
  },
  {
   "cell_type": "code",
   "execution_count": null,
   "metadata": {},
   "outputs": [],
   "source": [
    "for gene_id, x in _clust_annotations.iterrows():\n",
    "    print(\n",
    "        gene_id,\n",
    "        x.Preferred_name,\n",
    "        x.Description,\n",
    "        x.eggNOG_OGs,\n",
    "        idxwhere(x[focal_strains]),\n",
    "    )\n",
    "    print()"
   ]
  },
  {
   "cell_type": "markdown",
   "metadata": {},
   "source": [
    "#### sgc / yjh operons"
   ]
  },
  {
   "cell_type": "code",
   "execution_count": null,
   "metadata": {},
   "outputs": [],
   "source": [
    "_related_annotations = (\n",
    "    gene_annotation[\n",
    "        lambda x: (x.Preferred_name.fillna(\"\").str.lower().str.startswith(\"sgc\"))\n",
    "        | (x.Preferred_name.fillna(\"\").str.lower().str.startswith(\"yjh\"))\n",
    "        # | (x.Description.fillna('').str.lower().str.contains('pilin'))\n",
    "        # | (x.Description.fillna('').str.lower().str.contains('type iv secre'))\n",
    "    ]\n",
    "    .join(gene_clust)\n",
    "    .join(gene_content_uhgg[focal_strains])[\n",
    "        lambda x: x[[\"6\", \"9\"]].fillna(False).any(axis=1)\n",
    "    ]\n",
    "    .sort_values(\"Preferred_name\")\n",
    ")\n",
    "\n",
    "print(\n",
    "    _related_annotations[[\"clust\", *focal_strains]].value_counts().unstack(fill_value=0)\n",
    ")"
   ]
  },
  {
   "cell_type": "code",
   "execution_count": null,
   "metadata": {},
   "outputs": [],
   "source": [
    "for _, x in _related_annotations.iterrows():\n",
    "    print(\n",
    "        gene_id,\n",
    "        x.clust,\n",
    "        idxwhere(x[focal_strains]),\n",
    "        x.Preferred_name,\n",
    "        x.Description,\n",
    "        x.eggNOG_OGs,\n",
    "    )\n",
    "    print()"
   ]
  },
  {
   "cell_type": "markdown",
   "metadata": {},
   "source": [
    "### Clust-2528"
   ]
  },
  {
   "cell_type": "code",
   "execution_count": null,
   "metadata": {},
   "outputs": [],
   "source": [
    "clust = [2528]\n",
    "_clust_annotations = (\n",
    "    gene_annotation.loc[idxwhere(gene_clust.isin(clust))]\n",
    "    .join(gene_clust)\n",
    "    .join(gene_content_uhgg[focal_strains])\n",
    "    .sort_values(\"Preferred_name\")\n",
    ")\n",
    "print(gene_clust[lambda x: x.isin(clust)].value_counts())\n",
    "print(\n",
    "    gene_content_uhgg.reindex(_clust_annotations.index)[focal_strains]\n",
    "    .value_counts()\n",
    "    .unstack(fill_value=0)\n",
    ")\n",
    "print(\n",
    "    gene_x_cog_category_matrix.reindex(idxwhere(gene_clust.isin(clust)))\n",
    "    .sum()\n",
    "    .sort_values(ascending=False)[lambda x: x > 0]\n",
    ")\n",
    "# _clust_annotations"
   ]
  },
  {
   "cell_type": "code",
   "execution_count": null,
   "metadata": {},
   "outputs": [],
   "source": [
    "for gene_id, x in _clust_annotations.iterrows():\n",
    "    print(\n",
    "        gene_id,\n",
    "        x.Preferred_name,\n",
    "        x.Description,\n",
    "        x.eggNOG_OGs,\n",
    "        idxwhere(x[focal_strains].fillna(False)),\n",
    "    )\n",
    "    print()"
   ]
  },
  {
   "cell_type": "markdown",
   "metadata": {},
   "source": [
    "#### Fimbrial / capsule polysaccharide / yad"
   ]
  },
  {
   "cell_type": "code",
   "execution_count": null,
   "metadata": {},
   "outputs": [],
   "source": [
    "_related_annotations = (\n",
    "    gene_annotation[\n",
    "        lambda x: False\n",
    "        | (x.Preferred_name.fillna(\"\").str.lower().str.startswith(\"yad\"))\n",
    "        # | (x.Preferred_name.fillna('').str.lower().str.startswith('yjh'))\n",
    "        # | (x.Description.fillna('').str.lower().str.contains('fimbrial'))\n",
    "        # | (x.Description.fillna('').str.lower().str.contains('capsul'))\n",
    "    ]\n",
    "    .join(gene_clust)\n",
    "    .join(gene_content_uhgg[focal_strains])[\n",
    "        lambda x: x[[\"6\", \"9\"]].fillna(False).any(axis=1)\n",
    "    ]\n",
    "    .sort_values(\"Preferred_name\")\n",
    ")\n",
    "\n",
    "print(_related_annotations[[\"clust\", *focal_strains]].sum())\n",
    "print(\n",
    "    _related_annotations[[\"clust\", *focal_strains]].value_counts().unstack(fill_value=0)\n",
    ")"
   ]
  },
  {
   "cell_type": "code",
   "execution_count": null,
   "metadata": {},
   "outputs": [],
   "source": [
    "for gene_id, x in _related_annotations.iterrows():\n",
    "    print(\n",
    "        gene_id,\n",
    "        x.clust,\n",
    "        idxwhere(x[focal_strains]),\n",
    "        x.Preferred_name,\n",
    "        x.Description,\n",
    "        x.eggNOG_OGs,\n",
    "    )\n",
    "    print()"
   ]
  },
  {
   "cell_type": "markdown",
   "metadata": {},
   "source": [
    "### Clust-455"
   ]
  },
  {
   "cell_type": "code",
   "execution_count": null,
   "metadata": {},
   "outputs": [],
   "source": [
    "clust = [455]\n",
    "_clust_annotations = (\n",
    "    gene_annotation.loc[idxwhere(gene_clust.isin(clust))]\n",
    "    .join(gene_clust)\n",
    "    .join(gene_content_uhgg[focal_strains])\n",
    "    .sort_values(\"Preferred_name\")\n",
    ")\n",
    "print(gene_clust[lambda x: x.isin(clust)].value_counts())\n",
    "print(\n",
    "    gene_content_uhgg.reindex(_clust_annotations.index)[focal_strains]\n",
    "    .value_counts()\n",
    "    .unstack()\n",
    ")\n",
    "print(\n",
    "    gene_x_cog_category_matrix.reindex(idxwhere(gene_clust.isin(clust)))\n",
    "    .sum()\n",
    "    .sort_values(ascending=False)[lambda x: x > 0]\n",
    ")\n",
    "# _clust_annotations"
   ]
  },
  {
   "cell_type": "code",
   "execution_count": null,
   "metadata": {},
   "outputs": [],
   "source": [
    "for gene_id, x in _clust_annotations.iterrows():\n",
    "    print(\n",
    "        gene_id,\n",
    "        x.Preferred_name,\n",
    "        x.Description,\n",
    "        x.eggNOG_OGs,\n",
    "        idxwhere(x[focal_strains]),\n",
    "    )\n",
    "    print()"
   ]
  },
  {
   "cell_type": "markdown",
   "metadata": {},
   "source": [
    "#### fab operon"
   ]
  },
  {
   "cell_type": "code",
   "execution_count": null,
   "metadata": {},
   "outputs": [],
   "source": [
    "_related_annotations = (\n",
    "    gene_annotation[\n",
    "        lambda x: False\n",
    "        | (x.Preferred_name.fillna(\"\").str.lower().str.startswith(\"fab\"))\n",
    "        # | (x.Preferred_name.fillna('').str.lower().str.startswith('yjh'))\n",
    "        # | (x.Description.fillna('').str.lower().str.contains('lipoprotein'))\n",
    "        # | (x.Description.fillna('').str.lower().str.contains('Capsule polysaccharide'))\n",
    "    ]\n",
    "    .join(gene_clust)\n",
    "    .join(gene_content_uhgg[focal_strains])[\n",
    "        lambda x: x[[\"6\", \"9\"]].fillna(False).any(axis=1)\n",
    "    ]\n",
    "    .sort_values(\"Preferred_name\")\n",
    ")\n",
    "\n",
    "print(_related_annotations[[\"clust\", *focal_strains]].sum())\n",
    "print(\n",
    "    _related_annotations[[\"clust\", *focal_strains]].value_counts().unstack(fill_value=0)\n",
    ")"
   ]
  },
  {
   "cell_type": "code",
   "execution_count": null,
   "metadata": {},
   "outputs": [],
   "source": [
    "for gene_id, x in _related_annotations.iterrows():\n",
    "    print(\n",
    "        gene_id,\n",
    "        x.clust,\n",
    "        idxwhere(x[focal_strains]),\n",
    "        x.Preferred_name,\n",
    "        x.Description,\n",
    "        x.eggNOG_OGs,\n",
    "    )\n",
    "    print()"
   ]
  },
  {
   "cell_type": "markdown",
   "metadata": {},
   "source": [
    "### Clust-538"
   ]
  },
  {
   "cell_type": "code",
   "execution_count": null,
   "metadata": {},
   "outputs": [],
   "source": [
    "clust = [538]\n",
    "_clust_annotations = (\n",
    "    gene_annotation.loc[idxwhere(gene_clust.isin(clust))]\n",
    "    .join(gene_clust)\n",
    "    .join(gene_content_uhgg[focal_strains])\n",
    "    .sort_values(\"Preferred_name\")\n",
    ")\n",
    "print(gene_clust[lambda x: x.isin(clust)].value_counts())\n",
    "print(\n",
    "    gene_content_uhgg.reindex(_clust_annotations.index)[focal_strains]\n",
    "    .value_counts()\n",
    "    .unstack()\n",
    ")\n",
    "print(\n",
    "    gene_x_cog_category_matrix.reindex(idxwhere(gene_clust.isin(clust)))\n",
    "    .sum()\n",
    "    .sort_values(ascending=False)[lambda x: x > 0]\n",
    ")\n",
    "# _clust_annotations"
   ]
  },
  {
   "cell_type": "code",
   "execution_count": null,
   "metadata": {},
   "outputs": [],
   "source": [
    "for gene_id, x in _clust_annotations.iterrows():\n",
    "    print(\n",
    "        gene_id,\n",
    "        x.Preferred_name,\n",
    "        x.Description,\n",
    "        x.eggNOG_OGs,\n",
    "        idxwhere(x[focal_strains]),\n",
    "    )\n",
    "    print()"
   ]
  },
  {
   "cell_type": "markdown",
   "metadata": {},
   "source": [
    "#### T6SS"
   ]
  },
  {
   "cell_type": "code",
   "execution_count": null,
   "metadata": {},
   "outputs": [],
   "source": [
    "_related_annotations = (\n",
    "    gene_annotation[\n",
    "        lambda x: (x.Preferred_name.fillna(\"\").str.lower().str.startswith(\"imp\"))\n",
    "        | (x.Preferred_name.fillna(\"\").str.lower().str.startswith(\"vas\"))\n",
    "        # | (x.Preferred_name.fillna('').str.lower().str.startswith('yjh'))\n",
    "        | (x.Description.fillna(\"\").str.lower().str.contains(\"type vi secret\"))\n",
    "        # | (x.Description.fillna('').str.lower().str.contains('Capsule polysaccharide'))\n",
    "    ]\n",
    "    .join(gene_clust)\n",
    "    .join(gene_content_uhgg[focal_strains])[\n",
    "        lambda x: x[[\"6\", \"9\"]].fillna(False).any(axis=1)\n",
    "    ]\n",
    "    .sort_values(\"Preferred_name\")\n",
    ")\n",
    "\n",
    "print(\n",
    "    _related_annotations[[\"clust\", *focal_strains]].value_counts().unstack(fill_value=0)\n",
    ")"
   ]
  },
  {
   "cell_type": "code",
   "execution_count": null,
   "metadata": {},
   "outputs": [],
   "source": [
    "for gene_id, x in _related_annotations.iterrows():\n",
    "    print(\n",
    "        gene_id,\n",
    "        x.clust,\n",
    "        idxwhere(x[focal_strains]),\n",
    "        x.Preferred_name,\n",
    "        x.Description,\n",
    "        x.eggNOG_OGs,\n",
    "    )\n",
    "    print()"
   ]
  },
  {
   "cell_type": "markdown",
   "metadata": {},
   "source": [
    "#### secretion"
   ]
  },
  {
   "cell_type": "code",
   "execution_count": null,
   "metadata": {},
   "outputs": [],
   "source": [
    "_related_annotations = (\n",
    "    gene_annotation[\n",
    "        lambda x: False\n",
    "        # (x.Preferred_name.fillna('').str.lower().str.startswith('glc'))\n",
    "        # | (x.Preferred_name.fillna('').str.lower().str.startswith('JD73_'))\n",
    "        # | (x.Preferred_name.fillna('').str.lower().str.startswith('yjh'))\n",
    "        | (x.Description.fillna(\"\").str.lower().str.contains(\"secretion\"))\n",
    "        # | (x.Description.fillna('').str.lower().str.contains('Capsule polysaccharide'))\n",
    "    ]\n",
    "    .join(gene_clust)\n",
    "    .join(gene_content_uhgg[focal_strains])[\n",
    "        lambda x: x[[\"6\", \"9\"]].fillna(False).any(axis=1)\n",
    "    ]\n",
    "    .sort_values(\"Preferred_name\")\n",
    ")\n",
    "\n",
    "print(\n",
    "    _related_annotations[[\"clust\", *focal_strains]].value_counts().unstack(fill_value=0)\n",
    ")"
   ]
  },
  {
   "cell_type": "code",
   "execution_count": null,
   "metadata": {},
   "outputs": [],
   "source": [
    "for gene_id, x in _related_annotations.iterrows():\n",
    "    print(\n",
    "        gene_id,\n",
    "        x.clust,\n",
    "        idxwhere(x[focal_strains]),\n",
    "        x.Preferred_name,\n",
    "        x.Description,\n",
    "        x.eggNOG_OGs,\n",
    "    )\n",
    "    print()"
   ]
  },
  {
   "cell_type": "markdown",
   "metadata": {},
   "source": [
    "### Clust-220"
   ]
  },
  {
   "cell_type": "code",
   "execution_count": null,
   "metadata": {},
   "outputs": [],
   "source": [
    "clust = [220]\n",
    "_clust_annotations = (\n",
    "    gene_annotation.loc[idxwhere(gene_clust.isin(clust))]\n",
    "    .join(gene_clust)\n",
    "    .join(gene_content_uhgg[focal_strains])\n",
    "    .sort_values(\"Preferred_name\")\n",
    ")\n",
    "print(gene_clust[lambda x: x.isin(clust)].value_counts())\n",
    "print(\n",
    "    gene_content_uhgg.reindex(_clust_annotations.index)[focal_strains]\n",
    "    .value_counts()\n",
    "    .unstack(fill_value=0)\n",
    ")\n",
    "print(\n",
    "    gene_x_cog_category_matrix.reindex(idxwhere(gene_clust.isin(clust)))\n",
    "    .sum()\n",
    "    .sort_values(ascending=False)[lambda x: x > 0]\n",
    ")\n",
    "# _clust_annotations"
   ]
  },
  {
   "cell_type": "code",
   "execution_count": null,
   "metadata": {},
   "outputs": [],
   "source": [
    "for gene_id, x in _clust_annotations.iterrows():\n",
    "    print(\n",
    "        gene_id,\n",
    "        x.Preferred_name,\n",
    "        x.Description,\n",
    "        x.eggNOG_OGs,\n",
    "        idxwhere(x[focal_strains]),\n",
    "    )\n",
    "    print()"
   ]
  },
  {
   "cell_type": "markdown",
   "metadata": {},
   "source": [
    "#### glc"
   ]
  },
  {
   "cell_type": "code",
   "execution_count": null,
   "metadata": {},
   "outputs": [],
   "source": [
    "_related_annotations = (\n",
    "    gene_annotation[\n",
    "        lambda x: (x.Preferred_name.fillna(\"\").str.lower().str.startswith(\"glc\"))\n",
    "        # | (x.Preferred_name.fillna('').str.lower().str.startswith('JD73_'))\n",
    "        # | (x.Preferred_name.fillna('').str.lower().str.startswith('yjh'))\n",
    "        # | (x.Description.fillna('').str.lower().str.contains('type vi secret'))\n",
    "        # | (x.Description.fillna('').str.lower().str.contains('Capsule polysaccharide'))\n",
    "    ]\n",
    "    .join(gene_clust)\n",
    "    .join(gene_content_uhgg[focal_strains])[\n",
    "        lambda x: x[[\"6\", \"9\"]].fillna(False).any(axis=1)\n",
    "    ]\n",
    "    .sort_values(\"Preferred_name\")\n",
    ")\n",
    "\n",
    "print(\n",
    "    _related_annotations[[\"clust\", *focal_strains]].value_counts().unstack(fill_value=0)\n",
    ")"
   ]
  },
  {
   "cell_type": "code",
   "execution_count": null,
   "metadata": {},
   "outputs": [],
   "source": [
    "for gene_id, x in _related_annotations.iterrows():\n",
    "    print(\n",
    "        gene_id,\n",
    "        x.clust,\n",
    "        idxwhere(x[focal_strains]),\n",
    "        x.Preferred_name,\n",
    "        x.Description,\n",
    "        x.eggNOG_OGs,\n",
    "    )\n",
    "    print()"
   ]
  },
  {
   "cell_type": "markdown",
   "metadata": {},
   "source": [
    "### Clust-1960"
   ]
  },
  {
   "cell_type": "code",
   "execution_count": null,
   "metadata": {},
   "outputs": [],
   "source": [
    "clust = [1960]\n",
    "_clust_annotations = (\n",
    "    gene_annotation.loc[idxwhere(gene_clust.isin(clust))]\n",
    "    .join(gene_clust)\n",
    "    .join(gene_content_uhgg[focal_strains])\n",
    "    .sort_values(\"Preferred_name\")\n",
    ")\n",
    "print(gene_clust[lambda x: x.isin(clust)].value_counts())\n",
    "print(\n",
    "    gene_content_uhgg.reindex(_clust_annotations.index)[focal_strains]\n",
    "    .value_counts()\n",
    "    .unstack(fill_value=0)\n",
    ")\n",
    "print(\n",
    "    gene_x_cog_category_matrix.reindex(idxwhere(gene_clust.isin(clust)))\n",
    "    .sum()\n",
    "    .sort_values(ascending=False)[lambda x: x > 0]\n",
    ")\n",
    "# _clust_annotations"
   ]
  },
  {
   "cell_type": "code",
   "execution_count": null,
   "metadata": {},
   "outputs": [],
   "source": [
    "for gene_id, x in _clust_annotations.iterrows():\n",
    "    print(\n",
    "        gene_id,\n",
    "        x.Preferred_name,\n",
    "        x.Description,\n",
    "        x.eggNOG_OGs,\n",
    "        idxwhere(x[focal_strains]),\n",
    "    )\n",
    "    print()"
   ]
  },
  {
   "cell_type": "markdown",
   "metadata": {},
   "source": [
    "#### ycg"
   ]
  },
  {
   "cell_type": "code",
   "execution_count": null,
   "metadata": {},
   "outputs": [],
   "source": [
    "_related_annotations = (\n",
    "    gene_annotation[\n",
    "        lambda x: (x.Preferred_name.fillna(\"\").str.lower().str.startswith(\"ycg\"))\n",
    "        # | (x.Preferred_name.fillna('').str.lower().str.startswith('vas'))\n",
    "        # | (x.Preferred_name.fillna('').str.lower().str.startswith('yjh'))\n",
    "        # | (x.Description.fillna('').str.lower().str.contains('type vi secret'))\n",
    "        # | (x.Description.fillna('').str.lower().str.contains('Capsule polysaccharide'))\n",
    "    ]\n",
    "    .join(gene_clust)\n",
    "    .join(gene_content_uhgg[focal_strains])[\n",
    "        lambda x: x[[\"6\", \"9\"]].fillna(False).any(axis=1)\n",
    "    ]\n",
    "    .sort_values(\"Preferred_name\")\n",
    ")\n",
    "\n",
    "print(\n",
    "    gene_content_uhgg.loc[_related_annotations.index, focal_strains]\n",
    "    .value_counts()\n",
    "    .unstack(fill_value=0)\n",
    ")"
   ]
  },
  {
   "cell_type": "code",
   "execution_count": null,
   "metadata": {},
   "outputs": [],
   "source": [
    "for gene_id, x in _related_annotations.iterrows():\n",
    "    print(\n",
    "        gene_id,\n",
    "        x.clust,\n",
    "        idxwhere(x[focal_strains]),\n",
    "        x.Preferred_name,\n",
    "        x.Description,\n",
    "        x.eggNOG_OGs,\n",
    "    )\n",
    "    print()"
   ]
  },
  {
   "cell_type": "markdown",
   "metadata": {},
   "source": [
    "### Clust-2464"
   ]
  },
  {
   "cell_type": "code",
   "execution_count": null,
   "metadata": {},
   "outputs": [],
   "source": [
    "clust = [2464]\n",
    "_clust_annotations = (\n",
    "    gene_annotation.loc[idxwhere(gene_clust.isin(clust))]\n",
    "    .join(gene_clust)\n",
    "    .join(gene_content_uhgg[focal_strains])\n",
    "    .sort_values(\"Preferred_name\")\n",
    ")\n",
    "print(gene_clust[lambda x: x.isin(clust)].value_counts())\n",
    "print(\n",
    "    gene_content_uhgg.reindex(_clust_annotations.index)[focal_strains]\n",
    "    .value_counts()\n",
    "    .unstack(fill_value=0)\n",
    ")\n",
    "print(\n",
    "    gene_x_cog_category_matrix.reindex(idxwhere(gene_clust.isin(clust)))\n",
    "    .sum()\n",
    "    .sort_values(ascending=False)[lambda x: x > 0]\n",
    ")\n",
    "# _clust_annotations"
   ]
  },
  {
   "cell_type": "code",
   "execution_count": null,
   "metadata": {},
   "outputs": [],
   "source": [
    "for gene_id, x in _clust_annotations.iterrows():\n",
    "    print(\n",
    "        gene_id,\n",
    "        x.Preferred_name,\n",
    "        x.Description,\n",
    "        x.eggNOG_OGs,\n",
    "        idxwhere(x[focal_strains]),\n",
    "    )\n",
    "    print()"
   ]
  },
  {
   "cell_type": "markdown",
   "metadata": {},
   "source": [
    "### Clust-2785"
   ]
  },
  {
   "cell_type": "code",
   "execution_count": null,
   "metadata": {},
   "outputs": [],
   "source": [
    "clust = [2785]\n",
    "_clust_annotations = (\n",
    "    gene_annotation.loc[idxwhere(gene_clust.isin(clust))]\n",
    "    .join(gene_clust)\n",
    "    .join(gene_content_uhgg[focal_strains])\n",
    "    .sort_values(\"Preferred_name\")\n",
    ")\n",
    "print(gene_clust[lambda x: x.isin(clust)].value_counts())\n",
    "print(\n",
    "    gene_content_uhgg.reindex(_clust_annotations.index)[focal_strains]\n",
    "    .value_counts()\n",
    "    .unstack(fill_value=0)\n",
    ")\n",
    "print(\n",
    "    gene_x_cog_category_matrix.reindex(idxwhere(gene_clust.isin(clust)))\n",
    "    .sum()\n",
    "    .sort_values(ascending=False)[lambda x: x > 0]\n",
    ")\n",
    "# _clust_annotations"
   ]
  },
  {
   "cell_type": "code",
   "execution_count": null,
   "metadata": {},
   "outputs": [],
   "source": [
    "for gene_id, x in _clust_annotations.iterrows():\n",
    "    print(\n",
    "        gene_id,\n",
    "        x.Preferred_name,\n",
    "        x.Description,\n",
    "        x.eggNOG_OGs,\n",
    "        idxwhere(x[focal_strains]),\n",
    "    )\n",
    "    print()"
   ]
  },
  {
   "cell_type": "markdown",
   "metadata": {},
   "source": [
    "### Clust-935"
   ]
  },
  {
   "cell_type": "code",
   "execution_count": null,
   "metadata": {},
   "outputs": [],
   "source": [
    "clust = [935]\n",
    "_clust_annotations = (\n",
    "    gene_annotation.loc[idxwhere(gene_clust.isin(clust))]\n",
    "    .join(gene_clust)\n",
    "    .join(gene_content_uhgg[focal_strains])\n",
    "    .sort_values(\"Preferred_name\")\n",
    ")\n",
    "print(gene_clust[lambda x: x.isin(clust)].value_counts())\n",
    "print(\n",
    "    gene_content_uhgg.reindex(_clust_annotations.index)[focal_strains]\n",
    "    .value_counts()\n",
    "    .unstack(fill_value=0)\n",
    ")\n",
    "print(\n",
    "    gene_x_cog_category_matrix.reindex(idxwhere(gene_clust.isin(clust)))\n",
    "    .sum()\n",
    "    .sort_values(ascending=False)[lambda x: x > 0]\n",
    ")\n",
    "# # _clust_annotations"
   ]
  },
  {
   "cell_type": "code",
   "execution_count": null,
   "metadata": {},
   "outputs": [],
   "source": [
    "for gene_id, x in _clust_annotations.iterrows():\n",
    "    print(\n",
    "        gene_id,\n",
    "        x.Preferred_name,\n",
    "        x.Description,\n",
    "        x.eggNOG_OGs,\n",
    "        idxwhere(x[focal_strains]),\n",
    "    )\n",
    "    print()"
   ]
  },
  {
   "cell_type": "markdown",
   "metadata": {},
   "source": [
    "#### ecp*/mat*"
   ]
  },
  {
   "cell_type": "code",
   "execution_count": null,
   "metadata": {},
   "outputs": [],
   "source": [
    "_related_annotations = (\n",
    "    gene_annotation[\n",
    "        lambda x: (x.Preferred_name.fillna(\"\").str.lower().str.startswith(\"ecp\"))\n",
    "        | (x.Preferred_name.fillna(\"\").str.lower().str.startswith(\"mat\"))\n",
    "        # | (x.Preferred_name.fillna('').str.lower().str.startswith('yjh'))\n",
    "        # | (x.Description.fillna('').str.lower().str.contains('type vi secret'))\n",
    "        # | (x.Description.fillna('').str.lower().str.contains('Capsule polysaccharide'))\n",
    "    ]\n",
    "    .join(gene_clust)\n",
    "    .join(gene_content_uhgg[focal_strains])[\n",
    "        lambda x: x[[\"6\", \"9\"]].fillna(False).any(axis=1)\n",
    "    ]\n",
    "    .sort_values(\"Preferred_name\")\n",
    ")\n",
    "\n",
    "print(\n",
    "    gene_content_uhgg.loc[_related_annotations.index, focal_strains]\n",
    "    .value_counts()\n",
    "    .unstack(fill_value=0)\n",
    ")"
   ]
  },
  {
   "cell_type": "code",
   "execution_count": null,
   "metadata": {},
   "outputs": [],
   "source": [
    "for gene_id, x in _related_annotations.iterrows():\n",
    "    print(\n",
    "        gene_id,\n",
    "        x.clust,\n",
    "        idxwhere(x[focal_strains]),\n",
    "        x.Preferred_name,\n",
    "        x.Description,\n",
    "        x.eggNOG_OGs,\n",
    "    )\n",
    "    print()"
   ]
  },
  {
   "cell_type": "markdown",
   "metadata": {},
   "source": [
    "### Clust-1897"
   ]
  },
  {
   "cell_type": "code",
   "execution_count": null,
   "metadata": {},
   "outputs": [],
   "source": [
    "clust = [1897]\n",
    "_clust_annotations = (\n",
    "    gene_annotation.loc[idxwhere(gene_clust.isin(clust))]\n",
    "    .join(gene_clust)\n",
    "    .join(gene_content_uhgg[focal_strains])\n",
    "    .sort_values(\"Preferred_name\")\n",
    ")\n",
    "print(gene_clust[lambda x: x.isin(clust)].value_counts())\n",
    "print(\n",
    "    gene_content_uhgg.reindex(_clust_annotations.index)[focal_strains]\n",
    "    .value_counts()\n",
    "    .unstack(fill_value=0)\n",
    ")\n",
    "print(\n",
    "    gene_x_cog_category_matrix.reindex(idxwhere(gene_clust.isin(clust)))\n",
    "    .sum()\n",
    "    .sort_values(ascending=False)[lambda x: x > 0]\n",
    ")\n",
    "# _clust_annotations"
   ]
  },
  {
   "cell_type": "code",
   "execution_count": null,
   "metadata": {},
   "outputs": [],
   "source": [
    "for gene_id, x in _clust_annotations.iterrows():\n",
    "    print(\n",
    "        gene_id,\n",
    "        x.Preferred_name,\n",
    "        x.Description,\n",
    "        x.eggNOG_OGs,\n",
    "        idxwhere(x[focal_strains]),\n",
    "    )\n",
    "    print()"
   ]
  },
  {
   "cell_type": "markdown",
   "metadata": {},
   "source": [
    "#### hpa meta-operon"
   ]
  },
  {
   "cell_type": "code",
   "execution_count": null,
   "metadata": {},
   "outputs": [],
   "source": [
    "_related_annotations = (\n",
    "    gene_annotation[\n",
    "        lambda x: (x.Preferred_name.fillna(\"\").str.lower().str.startswith(\"hpa\"))\n",
    "        # | (x.Preferred_name.fillna('').str.lower().str.startswith('jd73_'))\n",
    "        # | (x.Preferred_name.fillna('').str.lower().str.startswith('yjh'))\n",
    "        # | (x.Description.fillna('').str.lower().str.contains('glycolate '))\n",
    "        # | (x.Description.fillna('').str.lower().str.contains('Capsule polysaccharide'))\n",
    "    ]\n",
    "    .join(gene_clust)\n",
    "    .join(gene_content_uhgg[focal_strains])[\n",
    "        lambda x: x[[\"6\", \"9\"]].fillna(False).any(axis=1)\n",
    "    ]\n",
    "    .sort_values(\"Preferred_name\")\n",
    ")\n",
    "\n",
    "print(\n",
    "    _related_annotations[[\"clust\", *focal_strains]].value_counts().unstack(fill_value=0)\n",
    ")"
   ]
  },
  {
   "cell_type": "code",
   "execution_count": null,
   "metadata": {},
   "outputs": [],
   "source": [
    "for gene_id, x in _related_annotations.iterrows():\n",
    "    print(\n",
    "        gene_id,\n",
    "        x.clust,\n",
    "        idxwhere(x[focal_strains]),\n",
    "        x.Preferred_name,\n",
    "        x.Description,\n",
    "        x.eggNOG_OGs,\n",
    "    )\n",
    "    print()"
   ]
  },
  {
   "cell_type": "markdown",
   "metadata": {},
   "source": [
    "### Clust-1032"
   ]
  },
  {
   "cell_type": "code",
   "execution_count": null,
   "metadata": {},
   "outputs": [],
   "source": [
    "clust = [1032]\n",
    "_clust_annotations = (\n",
    "    gene_annotation.loc[idxwhere(gene_clust.isin(clust))]\n",
    "    .join(gene_clust)\n",
    "    .join(gene_content_uhgg[focal_strains])\n",
    "    .sort_values(\"Preferred_name\")\n",
    ")\n",
    "print(gene_clust[lambda x: x.isin(clust)].value_counts())\n",
    "print(\n",
    "    gene_content_uhgg.reindex(_clust_annotations.index)[focal_strains]\n",
    "    .value_counts()\n",
    "    .unstack(fill_value=0)\n",
    ")\n",
    "print(\n",
    "    gene_x_cog_category_matrix.reindex(idxwhere(gene_clust.isin(clust)))\n",
    "    .sum()\n",
    "    .sort_values(ascending=False)[lambda x: x > 0]\n",
    ")\n",
    "# _clust_annotations"
   ]
  },
  {
   "cell_type": "code",
   "execution_count": null,
   "metadata": {},
   "outputs": [],
   "source": [
    "for gene_id, x in _clust_annotations.iterrows():\n",
    "    print(\n",
    "        gene_id,\n",
    "        x.Preferred_name,\n",
    "        x.Description,\n",
    "        x.eggNOG_OGs,\n",
    "        idxwhere(x[focal_strains]),\n",
    "    )\n",
    "    print()"
   ]
  },
  {
   "cell_type": "markdown",
   "metadata": {},
   "source": [
    "#### tra* operon"
   ]
  },
  {
   "cell_type": "code",
   "execution_count": null,
   "metadata": {},
   "outputs": [],
   "source": [
    "_related_annotations = (\n",
    "    gene_annotation[\n",
    "        lambda x: (x.Preferred_name.fillna(\"\").str.lower().str.startswith(\"tra\"))\n",
    "        # | (x.Preferred_name.fillna('').str.lower().str.startswith('jd73_'))\n",
    "        # | (x.Preferred_name.fillna('').str.lower().str.startswith('yjh'))\n",
    "        # | (x.Description.fillna('').str.lower().str.contains('tra '))\n",
    "        # | (x.Description.fillna('').str.lower().str.contains('Capsule polysaccharide'))\n",
    "    ]\n",
    "    .join(gene_clust)\n",
    "    .join(gene_content_uhgg[focal_strains])[\n",
    "        lambda x: x[[\"6\", \"9\"]].fillna(False).any(axis=1)\n",
    "    ]\n",
    "    .sort_values(\"Preferred_name\")\n",
    ")\n",
    "\n",
    "print(\n",
    "    _related_annotations[[\"clust\", *focal_strains]].value_counts().unstack(fill_value=0)\n",
    ")"
   ]
  },
  {
   "cell_type": "code",
   "execution_count": null,
   "metadata": {},
   "outputs": [],
   "source": [
    "for gene_id, x in _related_annotations.iterrows():\n",
    "    print(\n",
    "        gene_id,\n",
    "        x.clust,\n",
    "        idxwhere(x[focal_strains]),\n",
    "        x.Preferred_name,\n",
    "        x.Description,\n",
    "        x.eggNOG_OGs,\n",
    "    )\n",
    "    print()"
   ]
  },
  {
   "cell_type": "markdown",
   "metadata": {},
   "source": [
    "### Clust-157/158/159"
   ]
  },
  {
   "cell_type": "code",
   "execution_count": null,
   "metadata": {},
   "outputs": [],
   "source": [
    "clust = [157, 158, 159]\n",
    "\n",
    "_clust_annotations = (\n",
    "    gene_annotation.join(gene_clust)[lambda x: x.clust.isin(clust)]\n",
    "    .join(gene_content_uhgg[focal_strains])\n",
    "    .sort_values(\"Preferred_name\")\n",
    ")\n",
    "print(gene_clust[lambda x: x.isin(clust)].value_counts())\n",
    "print(\n",
    "    gene_content_uhgg.reindex(_clust_annotations.index)[focal_strains]\n",
    "    .value_counts()\n",
    "    .unstack()\n",
    ")\n",
    "print(\n",
    "    gene_x_cog_category_matrix.reindex(idxwhere(gene_clust.isin(clust)))\n",
    "    .sum()\n",
    "    .sort_values(ascending=False)[lambda x: x > 0]\n",
    ")\n",
    "# _clust_annotations"
   ]
  },
  {
   "cell_type": "code",
   "execution_count": null,
   "metadata": {},
   "outputs": [],
   "source": [
    "for gene_id, x in _clust_annotations.iterrows():\n",
    "    print(\n",
    "        gene_id,\n",
    "        x.clust,\n",
    "        x.Preferred_name,\n",
    "        x.Description,\n",
    "        x.eggNOG_OGs,\n",
    "        idxwhere(x[focal_strains]),\n",
    "    )\n",
    "    print()"
   ]
  },
  {
   "cell_type": "markdown",
   "metadata": {},
   "source": [
    "#### pdu*"
   ]
  },
  {
   "cell_type": "code",
   "execution_count": null,
   "metadata": {},
   "outputs": [],
   "source": [
    "_related_annotations = (\n",
    "    gene_annotation[\n",
    "        lambda x: (x.Preferred_name.fillna(\"\").str.lower().str.startswith(\"pdu\"))\n",
    "        # | (x.Preferred_name.fillna('').str.lower().str.startswith('jd73_'))\n",
    "        # | (x.Preferred_name.fillna('').str.lower().str.startswith('yjh'))\n",
    "        # | (x.Description.fillna('').str.lower().str.contains('glycolate '))\n",
    "        # | (x.Description.fillna('').str.lower().str.contains('Capsule polysaccharide'))\n",
    "    ]\n",
    "    .join(gene_clust)\n",
    "    .join(gene_content_uhgg[focal_strains])[\n",
    "        lambda x: x[[\"6\", \"9\"]].fillna(False).any(axis=1)\n",
    "    ]\n",
    "    .sort_values(\"Preferred_name\")\n",
    ")\n",
    "\n",
    "print(\n",
    "    _related_annotations[[\"clust\", *focal_strains]].value_counts().unstack(fill_value=0)\n",
    ")"
   ]
  },
  {
   "cell_type": "code",
   "execution_count": null,
   "metadata": {},
   "outputs": [],
   "source": [
    "for gene_id, x in _related_annotations.iterrows():\n",
    "    print(\n",
    "        gene_id,\n",
    "        x.clust,\n",
    "        idxwhere(x[focal_strains]),\n",
    "        x.Preferred_name,\n",
    "        x.Description,\n",
    "        x.eggNOG_OGs,\n",
    "    )\n",
    "    print()"
   ]
  },
  {
   "cell_type": "markdown",
   "metadata": {},
   "source": [
    "#### cob*"
   ]
  },
  {
   "cell_type": "code",
   "execution_count": null,
   "metadata": {},
   "outputs": [],
   "source": [
    "_related_annotations = (\n",
    "    gene_annotation[\n",
    "        lambda x: (x.Preferred_name.fillna(\"\").str.lower().str.startswith(\"cob\"))\n",
    "        # | (x.Preferred_name.fillna('').str.lower().str.startswith('jd73_'))\n",
    "        # | (x.Preferred_name.fillna('').str.lower().str.startswith('yjh'))\n",
    "        # | (x.Description.fillna('').str.lower().str.contains('glycolate '))\n",
    "        # | (x.Description.fillna('').str.lower().str.contains('Capsule polysaccharide'))\n",
    "    ]\n",
    "    .join(gene_clust)\n",
    "    .join(gene_content_uhgg[focal_strains])[\n",
    "        lambda x: x[[\"6\", \"9\"]].fillna(False).any(axis=1)\n",
    "    ]\n",
    "    .sort_values(\"Preferred_name\")\n",
    ")\n",
    "\n",
    "print(\n",
    "    _related_annotations[[\"clust\", *focal_strains]].value_counts().unstack(fill_value=0)\n",
    ")"
   ]
  },
  {
   "cell_type": "code",
   "execution_count": null,
   "metadata": {},
   "outputs": [],
   "source": [
    "for gene_id, x in _related_annotations.iterrows():\n",
    "    print(\n",
    "        gene_id,\n",
    "        x.clust,\n",
    "        idxwhere(x[focal_strains]),\n",
    "        x.Preferred_name,\n",
    "        x.Description,\n",
    "        x.eggNOG_OGs,\n",
    "    )\n",
    "    print()"
   ]
  },
  {
   "cell_type": "markdown",
   "metadata": {},
   "source": [
    "### Clust-2076"
   ]
  },
  {
   "cell_type": "code",
   "execution_count": null,
   "metadata": {},
   "outputs": [],
   "source": [
    "clust = [2076]\n",
    "\n",
    "_clust_annotations = (\n",
    "    gene_annotation.loc[idxwhere(gene_clust.isin(clust))]\n",
    "    .join(gene_content_uhgg[focal_strains])\n",
    "    .sort_values(\"Preferred_name\")\n",
    ")\n",
    "print(gene_clust[lambda x: x.isin(clust)].value_counts())\n",
    "print(\n",
    "    gene_content_uhgg.reindex(_clust_annotations.index)[focal_strains]\n",
    "    .value_counts()\n",
    "    .unstack()\n",
    ")\n",
    "print(\n",
    "    gene_x_cog_category_matrix.reindex(idxwhere(gene_clust.isin(clust)))\n",
    "    .sum()\n",
    "    .sort_values(ascending=False)[lambda x: x > 0]\n",
    ")\n",
    "# _clust_annotations"
   ]
  },
  {
   "cell_type": "code",
   "execution_count": null,
   "metadata": {},
   "outputs": [],
   "source": [
    "for gene_id, x in _clust_annotations.iterrows():\n",
    "    print(\n",
    "        gene_id,\n",
    "        x.Preferred_name,\n",
    "        x.Description,\n",
    "        x.eggNOG_OGs,\n",
    "        idxwhere(x[focal_strains]),\n",
    "    )\n",
    "    print()"
   ]
  },
  {
   "cell_type": "markdown",
   "metadata": {},
   "source": [
    "#### yih*"
   ]
  },
  {
   "cell_type": "code",
   "execution_count": null,
   "metadata": {},
   "outputs": [],
   "source": [
    "_related_annotations = (\n",
    "    gene_annotation[\n",
    "        lambda x: (x.Preferred_name.fillna(\"\").str.lower().str.startswith(\"yih\"))\n",
    "        # | (x.Preferred_name.fillna('').str.lower().str.startswith('jd73_'))\n",
    "        # | (x.Preferred_name.fillna('').str.lower().str.startswith('yjh'))\n",
    "        # | (x.Description.fillna('').str.lower().str.contains('glycolate '))\n",
    "        # | (x.Description.fillna('').str.lower().str.contains('Capsule polysaccharide'))\n",
    "    ]\n",
    "    .join(gene_clust)\n",
    "    .join(gene_content_uhgg[focal_strains])[\n",
    "        lambda x: x[[\"6\", \"9\"]].fillna(False).any(axis=1)\n",
    "    ]\n",
    "    .sort_values(\"Preferred_name\")\n",
    ")\n",
    "\n",
    "print(\n",
    "    _related_annotations[[\"clust\", *focal_strains]].value_counts().unstack(fill_value=0)\n",
    ")"
   ]
  },
  {
   "cell_type": "code",
   "execution_count": null,
   "metadata": {},
   "outputs": [],
   "source": [
    "for gene_id, x in _related_annotations.iterrows():\n",
    "    print(\n",
    "        gene_id,\n",
    "        x.clust,\n",
    "        idxwhere(x[focal_strains]),\n",
    "        x.Preferred_name,\n",
    "        x.Description,\n",
    "        x.eggNOG_OGs,\n",
    "    )\n",
    "    print()"
   ]
  },
  {
   "cell_type": "markdown",
   "metadata": {},
   "source": [
    "### Clust-2821"
   ]
  },
  {
   "cell_type": "code",
   "execution_count": null,
   "metadata": {},
   "outputs": [],
   "source": [
    "clust = [2821]\n",
    "\n",
    "_clust_annotations = (\n",
    "    gene_annotation.loc[idxwhere(gene_clust.isin(clust))]\n",
    "    .join(gene_content_uhgg[focal_strains])\n",
    "    .sort_values(\"Preferred_name\")\n",
    ")\n",
    "print(gene_clust[lambda x: x.isin(clust)].value_counts())\n",
    "print(\n",
    "    gene_content_uhgg.reindex(_clust_annotations.index)[focal_strains]\n",
    "    .value_counts()\n",
    "    .unstack()\n",
    ")\n",
    "print(\n",
    "    gene_x_cog_category_matrix.reindex(idxwhere(gene_clust.isin(clust)))\n",
    "    .sum()\n",
    "    .sort_values(ascending=False)[lambda x: x > 0]\n",
    ")\n",
    "# _clust_annotations"
   ]
  },
  {
   "cell_type": "code",
   "execution_count": null,
   "metadata": {},
   "outputs": [],
   "source": [
    "for gene_id, x in _clust_annotations.iterrows():\n",
    "    print(\n",
    "        gene_id,\n",
    "        x.Preferred_name,\n",
    "        x.Description,\n",
    "        x.eggNOG_OGs,\n",
    "        idxwhere(x[focal_strains]),\n",
    "    )\n",
    "    print()"
   ]
  },
  {
   "cell_type": "markdown",
   "metadata": {},
   "source": [
    "#### fim* / fimbrial / pap"
   ]
  },
  {
   "cell_type": "code",
   "execution_count": null,
   "metadata": {},
   "outputs": [],
   "source": [
    "_related_annotations = (\n",
    "    gene_annotation[\n",
    "        lambda x: (x.Preferred_name.fillna(\"\").str.lower().str.startswith(\"fim\"))\n",
    "        | (x.Preferred_name.fillna(\"\").str.lower().str.startswith(\"pap\"))\n",
    "        # | (x.Preferred_name.fillna('').str.lower().str.startswith('jd73_'))\n",
    "        # | (x.Preferred_name.fillna('').str.lower().str.startswith('yjh'))\n",
    "        | (x.Description.fillna(\"\").str.lower().str.contains(\"fimbrial\"))\n",
    "        # | (x.Description.fillna('').str.lower().str.contains('Capsule polysaccharide'))\n",
    "    ]\n",
    "    .join(gene_clust)\n",
    "    .join(gene_content_uhgg[focal_strains])[\n",
    "        lambda x: x[[\"6\", \"9\"]].fillna(False).any(axis=1)\n",
    "    ]\n",
    "    .sort_values(\"Preferred_name\")\n",
    ")\n",
    "\n",
    "print(\n",
    "    _related_annotations[[\"clust\", *focal_strains]].value_counts().unstack(fill_value=0)\n",
    ")"
   ]
  },
  {
   "cell_type": "code",
   "execution_count": null,
   "metadata": {},
   "outputs": [],
   "source": [
    "for gene_id, x in _related_annotations.iterrows():\n",
    "    print(\n",
    "        gene_id,\n",
    "        x.clust,\n",
    "        idxwhere(x[focal_strains]),\n",
    "        x.Preferred_name,\n",
    "        x.Description,\n",
    "        x.eggNOG_OGs,\n",
    "    )\n",
    "    print()"
   ]
  },
  {
   "cell_type": "markdown",
   "metadata": {},
   "source": [
    "## Strain-6"
   ]
  },
  {
   "cell_type": "code",
   "execution_count": null,
   "metadata": {},
   "outputs": [],
   "source": [
    "strain6_only_clust_list = idxwhere(\n",
    "    (clust_content_combined[\"6\"] & ~clust_content_combined[\"9\"])\n",
    ")\n",
    "gene_clust.value_counts().to_frame(\"total_genes\").assign(\n",
    "    cat=gene_x_cog_category_matrix.groupby(gene_clust)\n",
    "    .sum()\n",
    "    .apply(lambda x: x[lambda x: x > 0].sort_values(ascending=False).to_dict(), axis=1)\n",
    ").loc[strain6_only_clust_list].sort_values(\"total_genes\", ascending=False).head(20)"
   ]
  },
  {
   "cell_type": "markdown",
   "metadata": {},
   "source": [
    "### Clust-648"
   ]
  },
  {
   "cell_type": "code",
   "execution_count": null,
   "metadata": {},
   "outputs": [],
   "source": [
    "clust = [648]\n",
    "_clust_annotations = (\n",
    "    gene_annotation.loc[idxwhere(gene_clust.isin(clust))]\n",
    "    .join(gene_clust)\n",
    "    .join(gene_content_uhgg[focal_strains])\n",
    "    .sort_values(\"Preferred_name\")\n",
    ")\n",
    "print(gene_clust[lambda x: x.isin(clust)].value_counts())\n",
    "print(\n",
    "    gene_content_uhgg.reindex(_clust_annotations.index)[focal_strains]\n",
    "    .value_counts()\n",
    "    .unstack(fill_value=0)\n",
    ")\n",
    "print(\n",
    "    gene_x_cog_category_matrix.reindex(idxwhere(gene_clust.isin(clust)))\n",
    "    .sum()\n",
    "    .sort_values(ascending=False)[lambda x: x > 0]\n",
    ")\n",
    "# _clust_annotations"
   ]
  },
  {
   "cell_type": "code",
   "execution_count": null,
   "metadata": {},
   "outputs": [],
   "source": [
    "for gene_id, x in _clust_annotations.iterrows():\n",
    "    print(\n",
    "        gene_id,\n",
    "        x.Preferred_name,\n",
    "        x.Description,\n",
    "        x.eggNOG_OGs,\n",
    "        idxwhere(x[focal_strains]),\n",
    "    )\n",
    "    print()"
   ]
  },
  {
   "cell_type": "markdown",
   "metadata": {},
   "source": [
    "### Clust-43"
   ]
  },
  {
   "cell_type": "code",
   "execution_count": null,
   "metadata": {},
   "outputs": [],
   "source": [
    "clust = [43]\n",
    "_clust_annotations = (\n",
    "    gene_annotation.loc[idxwhere(gene_clust.isin(clust))]\n",
    "    .join(gene_clust)\n",
    "    .join(gene_content_uhgg[focal_strains])\n",
    "    .sort_values(\"Preferred_name\")\n",
    ")\n",
    "print(gene_clust[lambda x: x.isin(clust)].value_counts())\n",
    "print(\n",
    "    gene_content_uhgg.reindex(_clust_annotations.index)[focal_strains]\n",
    "    .value_counts()\n",
    "    .unstack(fill_value=0)\n",
    ")\n",
    "print(\n",
    "    gene_x_cog_category_matrix.reindex(idxwhere(gene_clust.isin(clust)))\n",
    "    .sum()\n",
    "    .sort_values(ascending=False)[lambda x: x > 0]\n",
    ")\n",
    "# _clust_annotations"
   ]
  },
  {
   "cell_type": "code",
   "execution_count": null,
   "metadata": {},
   "outputs": [],
   "source": [
    "for gene_id, x in _clust_annotations.iterrows():\n",
    "    print(\n",
    "        gene_id,\n",
    "        x.Preferred_name,\n",
    "        x.Description,\n",
    "        x.eggNOG_OGs,\n",
    "        idxwhere(x[focal_strains].fillna(False)),\n",
    "    )\n",
    "    print()"
   ]
  },
  {
   "cell_type": "markdown",
   "metadata": {},
   "source": [
    "#### TODO: Related annotations"
   ]
  },
  {
   "cell_type": "code",
   "execution_count": null,
   "metadata": {},
   "outputs": [],
   "source": [
    "_related_annotations = (\n",
    "    gene_annotation[\n",
    "        lambda x: (x.Preferred_name.fillna(\"\").str.lower().str.startswith(\"TODO\"))\n",
    "        | (x.Description.fillna(\"\").str.lower().str.contains(\"TODO\"))\n",
    "    ]\n",
    "    .join(gene_clust)\n",
    "    .join(gene_content_uhgg[focal_strains])[\n",
    "        lambda x: x[[\"6\", \"9\"]].fillna(False).any(axis=1)\n",
    "    ]\n",
    "    .sort_values(\"Preferred_name\")\n",
    ")\n",
    "\n",
    "print(\n",
    "    gene_content_uhgg.loc[_related_annotations.index, focal_strains]\n",
    "    .value_counts()\n",
    "    .unstack(fill_value=0)\n",
    ")"
   ]
  },
  {
   "cell_type": "code",
   "execution_count": null,
   "metadata": {},
   "outputs": [],
   "source": [
    "for gene_id, x in _related_annotations.iterrows():\n",
    "    print(\n",
    "        gene_id,\n",
    "        x.clust,\n",
    "        idxwhere(x[focal_strains]),\n",
    "        x.Preferred_name,\n",
    "        x.Description,\n",
    "        x.eggNOG_OGs,\n",
    "    )\n",
    "    print()"
   ]
  },
  {
   "cell_type": "markdown",
   "metadata": {},
   "source": [
    "### Clust-3081"
   ]
  },
  {
   "cell_type": "code",
   "execution_count": null,
   "metadata": {},
   "outputs": [],
   "source": [
    "clust = [3081]\n",
    "_clust_annotations = (\n",
    "    gene_annotation.loc[idxwhere(gene_clust.isin(clust))]\n",
    "    .join(gene_clust)\n",
    "    .join(gene_content_uhgg[focal_strains])\n",
    "    .sort_values(\"Preferred_name\")\n",
    ")\n",
    "print(gene_clust[lambda x: x.isin(clust)].value_counts())\n",
    "print(\n",
    "    gene_content_uhgg.reindex(_clust_annotations.index)[focal_strains]\n",
    "    .value_counts()\n",
    "    .unstack(fill_value=0)\n",
    ")\n",
    "print(\n",
    "    gene_x_cog_category_matrix.reindex(idxwhere(gene_clust.isin(clust)))\n",
    "    .sum()\n",
    "    .sort_values(ascending=False)[lambda x: x > 0]\n",
    ")\n",
    "# _clust_annotations"
   ]
  },
  {
   "cell_type": "code",
   "execution_count": null,
   "metadata": {},
   "outputs": [],
   "source": [
    "for gene_id, x in _clust_annotations.iterrows():\n",
    "    print(\n",
    "        gene_id,\n",
    "        x.Preferred_name,\n",
    "        x.Description,\n",
    "        x.eggNOG_OGs,\n",
    "        idxwhere(x[focal_strains].fillna(False)),\n",
    "    )\n",
    "    print()"
   ]
  },
  {
   "cell_type": "markdown",
   "metadata": {},
   "source": [
    "#### Ethanolamine"
   ]
  },
  {
   "cell_type": "code",
   "execution_count": null,
   "metadata": {},
   "outputs": [],
   "source": [
    "_related_annotations = (\n",
    "    gene_annotation[\n",
    "        lambda x:\n",
    "        # (x.Preferred_name.fillna('').str.lower().str.startswith('TODO'))\n",
    "        (x.Description.fillna(\"\").str.lower().str.contains(\"ethanolamine\"))\n",
    "    ]\n",
    "    .join(gene_clust)\n",
    "    .join(gene_content_uhgg[focal_strains])[\n",
    "        lambda x: x[[\"6\", \"9\"]].fillna(False).any(axis=1)\n",
    "    ]\n",
    "    .sort_values(\"Preferred_name\")\n",
    ")\n",
    "\n",
    "print(\n",
    "    gene_content_uhgg.loc[_related_annotations.index, focal_strains]\n",
    "    .value_counts()\n",
    "    .unstack(fill_value=0)\n",
    ")"
   ]
  },
  {
   "cell_type": "code",
   "execution_count": null,
   "metadata": {},
   "outputs": [],
   "source": [
    "for gene_id, x in _related_annotations.iterrows():\n",
    "    print(\n",
    "        gene_id,\n",
    "        x.clust,\n",
    "        idxwhere(x[focal_strains]),\n",
    "        x.Preferred_name,\n",
    "        x.Description,\n",
    "        x.eggNOG_OGs,\n",
    "    )\n",
    "    print()"
   ]
  },
  {
   "cell_type": "markdown",
   "metadata": {},
   "source": [
    "### Clust-190"
   ]
  },
  {
   "cell_type": "code",
   "execution_count": null,
   "metadata": {},
   "outputs": [],
   "source": [
    "clust = [190]\n",
    "_clust_annotations = (\n",
    "    gene_annotation.loc[idxwhere(gene_clust.isin(clust))]\n",
    "    .join(gene_clust)\n",
    "    .join(gene_content_uhgg[focal_strains])\n",
    "    .sort_values(\"Preferred_name\")\n",
    ")\n",
    "print(gene_clust[lambda x: x.isin(clust)].value_counts())\n",
    "print(\n",
    "    gene_content_uhgg.reindex(_clust_annotations.index)[focal_strains]\n",
    "    .value_counts()\n",
    "    .unstack(fill_value=0)\n",
    ")\n",
    "print(\n",
    "    gene_x_cog_category_matrix.reindex(idxwhere(gene_clust.isin(clust)))\n",
    "    .sum()\n",
    "    .sort_values(ascending=False)[lambda x: x > 0]\n",
    ")\n",
    "# _clust_annotations"
   ]
  },
  {
   "cell_type": "code",
   "execution_count": null,
   "metadata": {},
   "outputs": [],
   "source": [
    "for gene_id, x in _clust_annotations.iterrows():\n",
    "    print(\n",
    "        gene_id,\n",
    "        x.Preferred_name,\n",
    "        x.Description,\n",
    "        x.eggNOG_OGs,\n",
    "        idxwhere(x[focal_strains].fillna(False)),\n",
    "    )\n",
    "    print()"
   ]
  },
  {
   "cell_type": "markdown",
   "metadata": {},
   "source": [
    "#### yih* : See above"
   ]
  },
  {
   "cell_type": "markdown",
   "metadata": {},
   "source": [
    "### Clust-681"
   ]
  },
  {
   "cell_type": "code",
   "execution_count": null,
   "metadata": {},
   "outputs": [],
   "source": [
    "clust = [681]\n",
    "_clust_annotations = (\n",
    "    gene_annotation.loc[idxwhere(gene_clust.isin(clust))]\n",
    "    .join(gene_clust)\n",
    "    .join(gene_content_uhgg[focal_strains])\n",
    "    .sort_values(\"Preferred_name\")\n",
    ")\n",
    "print(gene_clust[lambda x: x.isin(clust)].value_counts())\n",
    "print(\n",
    "    gene_content_uhgg.reindex(_clust_annotations.index)[focal_strains]\n",
    "    .value_counts()\n",
    "    .unstack(fill_value=0)\n",
    ")\n",
    "print(\n",
    "    gene_x_cog_category_matrix.reindex(idxwhere(gene_clust.isin(clust)))\n",
    "    .sum()\n",
    "    .sort_values(ascending=False)[lambda x: x > 0]\n",
    ")\n",
    "# _clust_annotations"
   ]
  },
  {
   "cell_type": "code",
   "execution_count": null,
   "metadata": {},
   "outputs": [],
   "source": [
    "for gene_id, x in _clust_annotations.iterrows():\n",
    "    print(\n",
    "        gene_id,\n",
    "        x.Preferred_name,\n",
    "        x.Description,\n",
    "        x.eggNOG_OGs,\n",
    "        idxwhere(x[focal_strains].fillna(False)),\n",
    "    )\n",
    "    print()"
   ]
  },
  {
   "cell_type": "markdown",
   "metadata": {},
   "source": [
    "#### Capsule polysaccharide"
   ]
  },
  {
   "cell_type": "code",
   "execution_count": null,
   "metadata": {},
   "outputs": [],
   "source": [
    "_related_annotations = (\n",
    "    gene_annotation[\n",
    "        lambda x: (x.Preferred_name.fillna(\"\").str.lower().str.startswith(\"kps\"))\n",
    "        | (x.Description.fillna(\"\").str.lower().str.contains(\"capsule polysac\"))\n",
    "    ]\n",
    "    .join(gene_clust)\n",
    "    .join(gene_content_uhgg[focal_strains])[\n",
    "        lambda x: x[[\"6\", \"9\"]].fillna(False).any(axis=1)\n",
    "    ]\n",
    "    .sort_values(\"Preferred_name\")\n",
    ")\n",
    "\n",
    "print(\n",
    "    _related_annotations[[\"clust\", *focal_strains]].value_counts().unstack(fill_value=0)\n",
    ")"
   ]
  },
  {
   "cell_type": "code",
   "execution_count": null,
   "metadata": {},
   "outputs": [],
   "source": [
    "for gene_id, x in _related_annotations.iterrows():\n",
    "    print(\n",
    "        gene_id,\n",
    "        x.clust,\n",
    "        idxwhere(x[focal_strains]),\n",
    "        x.Preferred_name,\n",
    "        x.Description,\n",
    "        x.eggNOG_OGs,\n",
    "    )\n",
    "    print()"
   ]
  },
  {
   "cell_type": "markdown",
   "metadata": {},
   "source": [
    "### Clust-701"
   ]
  },
  {
   "cell_type": "code",
   "execution_count": null,
   "metadata": {},
   "outputs": [],
   "source": [
    "clust = [701]\n",
    "_clust_annotations = (\n",
    "    gene_annotation.loc[idxwhere(gene_clust.isin(clust))]\n",
    "    .join(gene_clust)\n",
    "    .join(gene_content_uhgg[focal_strains])\n",
    "    .sort_values(\"Preferred_name\")\n",
    ")\n",
    "print(gene_clust[lambda x: x.isin(clust)].value_counts())\n",
    "print(\n",
    "    gene_content_uhgg.reindex(_clust_annotations.index)[focal_strains]\n",
    "    .value_counts()\n",
    "    .unstack(fill_value=0)\n",
    ")\n",
    "print(\n",
    "    gene_x_cog_category_matrix.reindex(idxwhere(gene_clust.isin(clust)))\n",
    "    .sum()\n",
    "    .sort_values(ascending=False)[lambda x: x > 0]\n",
    ")\n",
    "# _clust_annotations"
   ]
  },
  {
   "cell_type": "code",
   "execution_count": null,
   "metadata": {},
   "outputs": [],
   "source": [
    "for gene_id, x in _clust_annotations.iterrows():\n",
    "    print(\n",
    "        gene_id,\n",
    "        x.Preferred_name,\n",
    "        x.Description,\n",
    "        x.eggNOG_OGs,\n",
    "        idxwhere(x[focal_strains].fillna(False)),\n",
    "    )\n",
    "    print()"
   ]
  },
  {
   "cell_type": "markdown",
   "metadata": {},
   "source": [
    "### Clust-1950"
   ]
  },
  {
   "cell_type": "code",
   "execution_count": null,
   "metadata": {},
   "outputs": [],
   "source": [
    "clust = [1950]\n",
    "_clust_annotations = (\n",
    "    gene_annotation.loc[idxwhere(gene_clust.isin(clust))]\n",
    "    .join(gene_clust)\n",
    "    .join(gene_content_uhgg[focal_strains])\n",
    "    .sort_values(\"Preferred_name\")\n",
    ")\n",
    "print(gene_clust[lambda x: x.isin(clust)].value_counts())\n",
    "print(\n",
    "    gene_content_uhgg.reindex(_clust_annotations.index)[focal_strains]\n",
    "    .value_counts()\n",
    "    .unstack(fill_value=0)\n",
    ")\n",
    "print(\n",
    "    gene_x_cog_category_matrix.reindex(idxwhere(gene_clust.isin(clust)))\n",
    "    .sum()\n",
    "    .sort_values(ascending=False)[lambda x: x > 0]\n",
    ")\n",
    "# _clust_annotations"
   ]
  },
  {
   "cell_type": "code",
   "execution_count": null,
   "metadata": {},
   "outputs": [],
   "source": [
    "for gene_id, x in _clust_annotations.iterrows():\n",
    "    print(\n",
    "        gene_id,\n",
    "        x.Preferred_name,\n",
    "        x.Description,\n",
    "        x.eggNOG_OGs,\n",
    "        idxwhere(x[focal_strains].fillna(False)),\n",
    "    )\n",
    "    print()"
   ]
  },
  {
   "cell_type": "markdown",
   "metadata": {},
   "source": [
    "#### frv*"
   ]
  },
  {
   "cell_type": "code",
   "execution_count": null,
   "metadata": {},
   "outputs": [],
   "source": [
    "_related_annotations = (\n",
    "    gene_annotation[\n",
    "        lambda x: (x.Preferred_name.fillna(\"\").str.lower().str.startswith(\"frv\"))\n",
    "        | (\n",
    "            x.Description.fillna(\"\")\n",
    "            .str.lower()\n",
    "            .str.contains(\n",
    "                \"phosphoenolpyruvate-dependent sugar phosphotransferase system\"\n",
    "            )\n",
    "        )\n",
    "    ]\n",
    "    .join(gene_clust)\n",
    "    .join(gene_content_uhgg[focal_strains])[\n",
    "        lambda x: x[[\"6\", \"9\"]].fillna(False).any(axis=1)\n",
    "    ]\n",
    "    .sort_values(\"Preferred_name\")\n",
    ")\n",
    "\n",
    "print(\n",
    "    _related_annotations[[\"clust\", *focal_strains]].value_counts().unstack(fill_value=0)\n",
    ")"
   ]
  },
  {
   "cell_type": "code",
   "execution_count": null,
   "metadata": {},
   "outputs": [],
   "source": [
    "for gene_id, x in _related_annotations.iterrows():\n",
    "    print(\n",
    "        gene_id,\n",
    "        x.clust,\n",
    "        idxwhere(x[focal_strains]),\n",
    "        x.Preferred_name,\n",
    "        x.Description,\n",
    "        x.eggNOG_OGs,\n",
    "    )\n",
    "    print()"
   ]
  }
 ],
 "metadata": {
  "kernelspec": {
   "display_name": "toolz4",
   "language": "python",
   "name": "toolz4"
  },
  "language_info": {
   "codemirror_mode": {
    "name": "ipython",
    "version": 3
   },
   "file_extension": ".py",
   "mimetype": "text/x-python",
   "name": "python",
   "nbconvert_exporter": "python",
   "pygments_lexer": "ipython3",
   "version": "3.10.13"
  }
 },
 "nbformat": 4,
 "nbformat_minor": 5
}