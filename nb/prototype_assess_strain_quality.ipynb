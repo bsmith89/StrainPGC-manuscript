{
 "cells": [
  {
   "cell_type": "markdown",
   "metadata": {},
   "source": [
    "# Preamble"
   ]
  },
  {
   "cell_type": "code",
   "execution_count": null,
   "metadata": {},
   "outputs": [],
   "source": [
    "%load_ext autoreload"
   ]
  },
  {
   "cell_type": "code",
   "execution_count": null,
   "metadata": {},
   "outputs": [],
   "source": [
    "import os\n",
    "os.chdir('..')\n",
    "os.path.realpath(os.path.curdir)"
   ]
  },
  {
   "cell_type": "code",
   "execution_count": null,
   "metadata": {},
   "outputs": [],
   "source": [
    "import pandas as pd\n",
    "import numpy as np\n",
    "import scipy as sp\n",
    "import matplotlib.pyplot as plt\n",
    "import seaborn as sns\n",
    "import xarray as xr\n",
    "from lib.pandas_util import idxwhere, align_indexes\n",
    "import matplotlib as mpl\n",
    "import lib.plot\n",
    "import statsmodels as sm\n",
    "from statsmodels.stats.multitest import fdrcorrection\n",
    "from tqdm import tqdm\n",
    "import subprocess\n",
    "from tempfile import mkstemp\n",
    "import time"
   ]
  },
  {
   "cell_type": "code",
   "execution_count": null,
   "metadata": {},
   "outputs": [],
   "source": [
    "import sfacts as sf"
   ]
  },
  {
   "cell_type": "code",
   "execution_count": null,
   "metadata": {},
   "outputs": [],
   "source": [
    "all_species_gtpro_depth = pd.read_table(f'data/hmp2.a.r.proc.gtpro.species_depth.tsv', dtype=dict(sample=str, species_id=str, depth=float), index_col=['sample', 'species_id']).squeeze().unstack('species_id', fill_value=0)\n",
    "all_species_gtpro_depth"
   ]
  },
  {
   "cell_type": "code",
   "execution_count": null,
   "metadata": {},
   "outputs": [],
   "source": [
    "species_taxonomy = pd.read_table('ref/gtpro/species_taxonomy_ext.tsv', names=['genome_id', 'species_id', 'taxonomy_string']).assign(species_id=lambda x: x.species_id.astype(str)).set_index('species_id')[['taxonomy_string']].assign(taxonomy_split=lambda x: x.taxonomy_string.str.split(';'))\n",
    "\n",
    "for level_name, level_number in [('p__', 1), ('c__', 2), ('o__', 3), ('f__', 4), ('g__', 5), ('s__', 6)]:\n",
    "    species_taxonomy = species_taxonomy.assign(**{level_name: species_taxonomy.taxonomy_split.apply(lambda x: x[level_number])}) \n",
    "species_taxonomy = species_taxonomy.drop(columns=['taxonomy_split']).loc[all_species_gtpro_depth.columns]"
   ]
  },
  {
   "cell_type": "code",
   "execution_count": null,
   "metadata": {},
   "outputs": [],
   "source": [
    "(all_species_gtpro_depth > 0.5).sum().sort_values(ascending=False)"
   ]
  },
  {
   "cell_type": "code",
   "execution_count": null,
   "metadata": {},
   "outputs": [],
   "source": [
    "species_id = '102506'"
   ]
  },
  {
   "cell_type": "code",
   "execution_count": null,
   "metadata": {},
   "outputs": [],
   "source": [
    "species_taxonomy.loc[species_id]"
   ]
  },
  {
   "cell_type": "code",
   "execution_count": null,
   "metadata": {},
   "outputs": [],
   "source": [
    "fit = sf.World.load(f'data_temp/sp-{species_id}.hmp2.a.r.proc.gtpro.filt-poly05-cvrg05.ss-g10000-block0-seed0.fit-sfacts26-s75-seed0.world.nc').drop_low_abundance_strains(0.05)\n",
    "fit.sizes"
   ]
  },
  {
   "cell_type": "code",
   "execution_count": null,
   "metadata": {},
   "outputs": [],
   "source": [
    "# sf.plot.plot_community(w25, col_linkage_func=lambda w: w.metagenotype.linkage())\n",
    "sf.plot.plot_community(fit, col_linkage_func=lambda w: w.metagenotype.linkage())"
   ]
  },
  {
   "cell_type": "code",
   "execution_count": null,
   "metadata": {},
   "outputs": [],
   "source": [
    "strain_frac = pd.read_table(f'data_temp/sp-{species_id}.hmp2.a.r.proc.gtpro.filt-poly05-cvrg05.ss-g10000-block0-seed0.fit-sfacts26-s75-seed0.comm.tsv', index_col=['sample', 'strain']).squeeze().unstack(fill_value=0)\n",
    "strain_frac.shape"
   ]
  },
  {
   "cell_type": "code",
   "execution_count": null,
   "metadata": {},
   "outputs": [],
   "source": [
    "species_gene_depth = pd.read_table(f'data_temp/sp-{species_id}.hmp2.a.r.proc.midas_gene75.species_depth.tsv', names=['sample', 'depth'], index_col='sample').squeeze()\n",
    "gtpro_depth = pd.read_table(f'data/hmp2.a.r.proc.gtpro.species_depth.tsv', dtype=dict(sample=str, species_id=str, depth=float), index_col=['sample', 'species_id']).squeeze().unstack('species_id', fill_value=0)[species_id]"
   ]
  },
  {
   "cell_type": "code",
   "execution_count": null,
   "metadata": {},
   "outputs": [],
   "source": [
    "d = pd.DataFrame(dict(gene=species_gene_depth, gtpro=gtpro_depth))\n",
    "\n",
    "plt.scatter('gtpro', 'gene', data=d, s=3, alpha=0.3)\n",
    "plt.plot([0, 1e2], [0, 1e2])\n",
    "plt.yscale('symlog', linthresh=1e-4)\n",
    "plt.xscale('symlog', linthresh=1e-4)"
   ]
  },
  {
   "cell_type": "code",
   "execution_count": null,
   "metadata": {},
   "outputs": [],
   "source": [
    "d = pd.DataFrame(dict(gene=species_gene_depth, gtpro=gtpro_depth))\n",
    "\n",
    "_trnsf = np.cbrt\n",
    "\n",
    "plt.scatter('gtpro', 'gene', data=_trnsf(d), s=3, alpha=0.3)\n",
    "plt.plot([_trnsf(0), _trnsf(1e2)], [_trnsf(0), _trnsf(1e2)])\n",
    "# plt.yscale('symlog', linthresh=1e-4)\n",
    "# plt.xscale('symlog', linthresh=1e-4)"
   ]
  },
  {
   "cell_type": "code",
   "execution_count": null,
   "metadata": {},
   "outputs": [],
   "source": [
    "species_corr = pd.read_table(f'data_temp/sp-{species_id}.hmp2.a.r.proc.midas_gene75.species_correlation.tsv', names=['sample', 'correlation'], index_col='sample').squeeze()\n",
    "species_depth_ratio = pd.read_table(f'data_temp/sp-{species_id}.hmp2.a.r.proc.midas_gene75.species_depth_ratio.tsv', names=['sample', 'depth_ratio'], index_col='sample').squeeze()"
   ]
  },
  {
   "cell_type": "code",
   "execution_count": null,
   "metadata": {},
   "outputs": [],
   "source": [
    "plt.hist(np.log10(species_depth_ratio[species_corr > 0.95]), bins=100)\n",
    "None"
   ]
  },
  {
   "cell_type": "code",
   "execution_count": null,
   "metadata": {},
   "outputs": [],
   "source": [
    "np.log10(species_depth_ratio[species_corr > 0.95]).std()"
   ]
  },
  {
   "cell_type": "code",
   "execution_count": null,
   "metadata": {},
   "outputs": [],
   "source": [
    "strain_corr_75 = pd.read_table(f'data_temp/sp-{species_id}.hmp2.a.r.proc.gtpro.filt-poly05-cvrg05.ss-g10000-block0-seed0.fit-sfacts26-s75-seed0.midas_gene75.strain_correlation.tsv', index_col=['gene_id', 'strain']).squeeze().unstack(fill_value=0)\n",
    "strain_depth_75 = pd.read_table(f'data_temp/sp-{species_id}.hmp2.a.r.proc.gtpro.filt-poly05-cvrg05.ss-g10000-block0-seed0.fit-sfacts26-s75-seed0.midas_gene75.strain_depth_ratio.tsv', index_col=['gene_id', 'strain']).squeeze().unstack()\n",
    "strain_corr_75, strain_depth_75 = align_indexes(*align_indexes(strain_corr_75, strain_depth_75), axis=\"columns\")"
   ]
  },
  {
   "cell_type": "code",
   "execution_count": null,
   "metadata": {},
   "outputs": [],
   "source": [
    "gene_meta = pd.read_table(f'ref_temp/midasdb_uhgg/pangenomes/{species_id}/cluster_info.txt').set_index('centroid_99', drop=False).rename_axis(index='gene_id')"
   ]
  },
  {
   "cell_type": "code",
   "execution_count": null,
   "metadata": {},
   "outputs": [],
   "source": [
    "gene_annotations = pd.read_table('ref_temp/midasdb_uhgg.102506.centroid_75.tsv', index_col='locus_tag')\n",
    "cog_meta = pd.read_table(\n",
    "    'ref/cog-20.meta.tsv',\n",
    "    names=['cog', 'categories', 'description', 'gene', 'pathway', '_1', '_2'],\n",
    "    index_col=['cog']\n",
    ")\n",
    "cog_meta"
   ]
  },
  {
   "cell_type": "code",
   "execution_count": null,
   "metadata": {},
   "outputs": [],
   "source": [
    "cog_category = pd.read_table('ref/cog-20.categories.tsv', names=['category', 'description'], index_col='category')"
   ]
  },
  {
   "cell_type": "code",
   "execution_count": null,
   "metadata": {},
   "outputs": [],
   "source": [
    "gene_depth_75 = xr.load_dataarray(f'data_temp/sp-{species_id}.hmp2.a.r.proc.midas_gene75.depth.nc')"
   ]
  },
  {
   "cell_type": "code",
   "execution_count": null,
   "metadata": {},
   "outputs": [],
   "source": [
    "species_genes = idxwhere(species_corr > 0.95)"
   ]
  },
  {
   "cell_type": "raw",
   "metadata": {},
   "source": [
    "pseudo = 1e-5\n",
    "species_gene_log_depth_std = strain_depth_75.loc[species_genes].apply(lambda x: np.log(x + pseudo)).std()\n",
    "strain_gene_log_depth_std = strain_depth_75[strain_corr_75 > strain_meta.strain_selection_threshold].apply(lambda x: np.log(x + pseudo)).std()\n",
    "ratio_log_depth_std = strain_gene_log_depth_std / species_gene_log_depth_std\n",
    "\n",
    "ratio_log_depth_std.sort_values()"
   ]
  },
  {
   "cell_type": "code",
   "execution_count": null,
   "metadata": {},
   "outputs": [],
   "source": [
    "strain_threshold = pd.read_table(\n",
    "    f'data_temp/sp-{species_id}.hmp2.a.r.proc.gtpro.filt-poly05-cvrg05.ss-g10000-block0-seed0.fit-sfacts26-s75-seed0.midas_gene75.strain_correlation_threshold.tsv',\n",
    "    names=['strain', 'threshold'], index_col='strain',\n",
    ").squeeze()\n",
    "# strain_threshold.to_frame().assign(ratio_log_depth_std=ratio_log_depth_std).sort_values('ratio_log_depth_std').head(20)\n",
    "strain_threshold.sort_values(ascending=False)"
   ]
  },
  {
   "cell_type": "code",
   "execution_count": null,
   "metadata": {},
   "outputs": [],
   "source": [
    "strain = 15"
   ]
  },
  {
   "cell_type": "code",
   "execution_count": null,
   "metadata": {},
   "outputs": [],
   "source": [
    "d = strain_depth_75[\n",
    "    strain_corr_75[strain]\n",
    "    # > 0.8\n",
    "    > strain_threshold[strain]\n",
    "]\n",
    "\n",
    "sns.clustermap(\n",
    "    d,\n",
    "    metric='cosine',\n",
    "    norm=mpl.colors.SymLogNorm(linthresh=1e-4, vmin=0.1, vmax=10)\n",
    ")"
   ]
  },
  {
   "cell_type": "code",
   "execution_count": null,
   "metadata": {},
   "outputs": [],
   "source": [
    "d = strain_corr_75[\n",
    "    strain_corr_75[strain]\n",
    "    # > 0.8\n",
    "    > strain_threshold[strain]\n",
    "]\n",
    "\n",
    "sns.clustermap(\n",
    "    d,\n",
    "    metric='cosine',\n",
    ")"
   ]
  },
  {
   "cell_type": "code",
   "execution_count": null,
   "metadata": {},
   "outputs": [],
   "source": [
    "d = gene_depth_75.sel(\n",
    "    gene_id=idxwhere(\n",
    "        strain_corr_75[strain]\n",
    "        > strain_threshold[strain]\n",
    "        # > 0.8\n",
    "    ),\n",
    "    sample=idxwhere(strain_frac[strain] > 0.95),\n",
    ").to_series().unstack()\n",
    "print(d.shape)\n",
    "\n",
    "sns.clustermap(d, metric='cosine', norm=mpl.colors.SymLogNorm(linthresh=0.1))"
   ]
  },
  {
   "cell_type": "code",
   "execution_count": null,
   "metadata": {},
   "outputs": [],
   "source": [
    "sample_list = idxwhere(strain_frac[strain] > 0.95)\n",
    "mgen_allele_totals = fit.metagenotype.sel(sample=sample_list).sum(\"sample\")\n",
    "position_order = (\n",
    "    (\n",
    "        mgen_allele_totals.sel(allele=\"alt\")\n",
    "        / mgen_allele_totals.sum(\"allele\")\n",
    "    )\n",
    "    .to_series()\n",
    "    .dropna()\n",
    "    [lambda x: (0 < x) & (1 > x)]\n",
    "    .sort_values()\n",
    "    .index\n",
    ")\n",
    "\n",
    "sf.plot.plot_metagenotype(\n",
    "    fit.sel(\n",
    "        sample=sample_list,\n",
    "        position=position_order,\n",
    "    ),\n",
    "    # row_cluster=False,\n",
    ")"
   ]
  },
  {
   "cell_type": "code",
   "execution_count": null,
   "metadata": {},
   "outputs": [],
   "source": [
    "species_corr_thresh = 0.95\n",
    "strain_corr_quantile = 0.95\n",
    "\n",
    "\n",
    "d0 = pd.DataFrame(dict(\n",
    "    strain_max_diss=1 - strain_corr_75[strain].groupby(gene_meta.centroid_75).max(),\n",
    "    species_diss=1 - species_corr,\n",
    "    depth_ratio=strain_depth_75[strain].groupby(gene_meta.centroid_75).sum(),\n",
    "))\n",
    "\n",
    "fig, ax = plt.subplots(figsize=(12, 10))\n",
    "\n",
    "ax.scatter(\n",
    "    'strain_max_diss', 'species_diss', c='depth_ratio', data=d0,\n",
    "    s=2, alpha=0.7, norm=mpl.colors.SymLogNorm(linthresh=1e-4, vmin=1e-1, vmax=10),\n",
    ")\n",
    "ax.set_xscale('log')\n",
    "ax.set_yscale('log')\n",
    "ax.axhline(1 - species_corr_thresh, lw=1, linestyle=':', c='k')\n",
    "\n",
    "ax1 = ax.twinx()\n",
    "d1 = d0[d0['species_diss'] < (1 - species_corr_thresh)]\n",
    "sns.kdeplot(d1.strain_max_diss, ax=ax1)\n",
    "ax1.set_ylim(ymax=ax1.get_ylim()[1] * 5)\n",
    "q = 1 - d1.strain_max_diss.quantile(strain_corr_quantile)\n",
    "ax1.axvline(1 - q, lw=1, linestyle='--', c='k')\n",
    "\n",
    "print(\n",
    "    q,\n",
    "    (d0.strain_max_diss < 1 - q).sum(),\n",
    "    d0[d0.strain_max_diss < 1 - q].depth_ratio.sum(),\n",
    "    (strain_depth_75[strain] * (strain_corr_75[strain] > q)).sum()\n",
    ")"
   ]
  },
  {
   "cell_type": "code",
   "execution_count": null,
   "metadata": {},
   "outputs": [],
   "source": [
    "gene_list = idxwhere((strain_corr_75 > strain_threshold).any(1))\n",
    "d = strain_depth_75.loc[gene_list]\n",
    "\n",
    "sns.clustermap(\n",
    "    d,\n",
    "    metric='cosine',\n",
    "    norm=mpl.colors.SymLogNorm(linthresh=1e-4, vmin=0.2, vmax=5)\n",
    ")"
   ]
  },
  {
   "cell_type": "code",
   "execution_count": null,
   "metadata": {},
   "outputs": [],
   "source": [
    "gene_list = idxwhere((strain_corr_75 > strain_threshold).any(1))\n",
    "d = strain_corr_75.loc[gene_list]\n",
    "\n",
    "sns.clustermap(\n",
    "    d,\n",
    "    metric='cosine',\n",
    ")"
   ]
  },
  {
   "cell_type": "code",
   "execution_count": null,
   "metadata": {},
   "outputs": [],
   "source": [
    "depth_ratio_bound = 5\n",
    "\n",
    "gene_list = idxwhere((strain_corr_75 > strain_threshold).any(1))\n",
    "depth_hit = (strain_depth_75.loc[gene_list] < depth_ratio_bound) & (strain_depth_75.loc[gene_list] > 1 / depth_ratio_bound)\n",
    "high_depth = strain_depth_75 > depth_ratio_bound\n",
    "corr_hit = strain_corr_75.loc[gene_list] > strain_threshold\n",
    "white = depth_hit & corr_hit\n",
    "grey = depth_hit ^ corr_hit\n",
    "black = ~depth_hit & ~corr_hit\n",
    "grey_high_depth = corr_hit & high_depth\n",
    "\n",
    "bins = np.linspace(0, 1, num=21)\n",
    "\n",
    "plt.hist(white.mean(1), bins=bins, label='white all')\n",
    "plt.hist(white.mean(1)[species_corr > 0.95], bins=bins, label='white species genes')\n",
    "plt.hist(grey.mean(1)[species_corr > 0.95], bins=bins, label='grey species genes')\n",
    "plt.hist(grey_high_depth.mean(1)[species_corr > 0.95], bins=bins, label='grey high depth species genes')\n",
    "plt.hist(black.mean(1)[species_corr > 0.95], bins=bins, label='black species genes')\n",
    "\n",
    "plt.legend()\n",
    "None"
   ]
  },
  {
   "cell_type": "code",
   "execution_count": null,
   "metadata": {},
   "outputs": [],
   "source": [
    "genes_list = idxwhere(white.mean(1) > 0.9)\n",
    "d = strain_depth_75.loc[genes_list]\n",
    "\n",
    "sns.clustermap(\n",
    "    d,\n",
    "    metric='cosine',\n",
    "    norm=mpl.colors.SymLogNorm(linthresh=1e-4, vmin=0.2, vmax=5)\n",
    ")\n",
    "\n",
    "print(\n",
    "    gene_annotations\n",
    "    .loc[genes_list]\n",
    "    .COG.to_frame()\n",
    "    .join(cog_meta, on='COG')\n",
    "    .pathway\n",
    "    .value_counts()\n",
    "    .sort_values(ascending=False)\n",
    "    .head(10)\n",
    ")\n",
    "\n",
    "print(\n",
    "    gene_annotations\n",
    "    .loc[genes_list]\n",
    "    .COG.to_frame()\n",
    "    .join(cog_meta, on='COG')\n",
    "    .categories\n",
    "    .value_counts()\n",
    "    .sort_values(ascending=False)\n",
    "    .head(10)\n",
    "    .to_frame()\n",
    "    .join(cog_category)\n",
    ")"
   ]
  },
  {
   "cell_type": "code",
   "execution_count": null,
   "metadata": {},
   "outputs": [],
   "source": [
    "genes_list = idxwhere((white.mean(1) > 0.05) & (black.mean(1) > 0.8))\n",
    "d = strain_depth_75.loc[genes_list]\n",
    "\n",
    "sns.clustermap(\n",
    "    d,\n",
    "    metric='cosine',\n",
    "    norm=mpl.colors.SymLogNorm(linthresh=1e-4, vmin=0.2, vmax=5)\n",
    ")\n",
    "\n",
    "print(\n",
    "    gene_annotations\n",
    "    .loc[genes_list]\n",
    "    .COG.to_frame()\n",
    "    .join(cog_meta, on='COG')\n",
    "    .pathway\n",
    "    .value_counts()\n",
    "    .sort_values(ascending=False)\n",
    "    .head(10)\n",
    ")\n",
    "\n",
    "print(\n",
    "    gene_annotations\n",
    "    .loc[genes_list]\n",
    "    .COG.to_frame()\n",
    "    .join(cog_meta, on='COG')\n",
    "    .categories\n",
    "    .value_counts()\n",
    "    .sort_values(ascending=False)\n",
    "    .head(10)\n",
    "    .to_frame()\n",
    "    .join(cog_category)\n",
    ")"
   ]
  },
  {
   "cell_type": "code",
   "execution_count": null,
   "metadata": {},
   "outputs": [],
   "source": [
    "genes_list = idxwhere((white.mean(1) > 0.2) & (black.mean(1) > 0.2))\n",
    "d = strain_depth_75.loc[genes_list]\n",
    "\n",
    "sns.clustermap(\n",
    "    d,\n",
    "    metric='cosine',\n",
    "    norm=mpl.colors.SymLogNorm(linthresh=1e-4, vmin=0.2, vmax=5)\n",
    ")\n",
    "\n",
    "print(\n",
    "    gene_annotations\n",
    "    .loc[genes_list]\n",
    "    .COG.to_frame()\n",
    "    .join(cog_meta, on='COG')\n",
    "    .pathway\n",
    "    .value_counts()\n",
    "    .sort_values(ascending=False)\n",
    "    .head(10)\n",
    ")\n",
    "\n",
    "print(\n",
    "    gene_annotations\n",
    "    .loc[genes_list]\n",
    "    .COG.to_frame()\n",
    "    .join(cog_meta, on='COG')\n",
    "    .categories\n",
    "    .value_counts()\n",
    "    .sort_values(ascending=False)\n",
    "    .head(10)\n",
    "    .to_frame()\n",
    "    .join(cog_category)\n",
    ")"
   ]
  },
  {
   "cell_type": "code",
   "execution_count": null,
   "metadata": {},
   "outputs": [],
   "source": [
    "y = species_corr\n",
    "x = white.sum(1)\n",
    "x, y = align_indexes(x, y)\n",
    "\n",
    "plt.scatter(x, y, alpha=0.1, s=1)"
   ]
  },
  {
   "cell_type": "raw",
   "metadata": {},
   "source": [
    "import subprocess\n",
    "\n",
    "with subprocess.Popen(['lz4cat', f'ref_temp/midasdb_uhgg.{species_id}.tsv.lz4'], stdout=subprocess.PIPE) as f:\n",
    "    gene_annotations = pd.read_table(f.stdout, index_col='locus_tag')\n",
    "gene_annotations = gene_annotations.loc[gene_meta.centroid_75.unique()]\n",
    "gene_annotations = gene_annotations[gene_annotations.ftype != 'gene']\n",
    "gene_annotations.to_csv('ref_temp/midasdb_uhgg.102506.centroid_75.tsv', sep='\\t')"
   ]
  },
  {
   "cell_type": "code",
   "execution_count": null,
   "metadata": {},
   "outputs": [],
   "source": [
    "d0 = gene_depth_75.sel(\n",
    "    gene_id=idxwhere(species_corr > 0.95),\n",
    ").to_series().unstack()\n",
    "\n",
    "x = gtpro_depth\n",
    "y = (d0.std() / d0.mean()).sort_values(ascending=False)\n",
    "\n",
    "d1 = pd.DataFrame(dict(x=x, y=y))\n",
    "\n",
    "plt.scatter('x', 'y', data=d1, s=1)\n",
    "plt.yscale('log')\n",
    "plt.xscale('log')\n",
    "\n",
    "# sns.clustermap(\n",
    "#     d,\n",
    "#     metric='cosine',\n",
    "#     norm=mpl.colors.SymLogNorm(linthresh=0.1),\n",
    "# )\n",
    "\n",
    "number_genes_in_depth_range = ((strain_depth_75 > 0.2) & (strain_depth_75 < 5)).sum()\n",
    "number_genes_in_depth_range"
   ]
  },
  {
   "cell_type": "code",
   "execution_count": null,
   "metadata": {},
   "outputs": [],
   "source": [
    "gene_meta = pd.read_table(f'ref_temp/midasdb_uhgg/pangenomes/{species_id}/cluster_info.txt').set_index('centroid_99', drop=False).rename_axis(index='gene_id')"
   ]
  },
  {
   "cell_type": "code",
   "execution_count": null,
   "metadata": {},
   "outputs": [],
   "source": [
    "thresh = 5\n",
    "\n",
    "genes_in_depth_range = (strain_depth_75 < thresh) & (strain_depth_75 > 1 / thresh)\n",
    "ratio_genes_in_depth_range = (\n",
    "    (genes_in_depth_range & (strain_corr_75 > strain_meta.strain_selection_threshold)).sum()\n",
    "    / genes_in_depth_range.sum()\n",
    ")\n",
    "\n",
    "ratio_genes_in_depth_range"
   ]
  },
  {
   "cell_type": "code",
   "execution_count": null,
   "metadata": {},
   "outputs": [],
   "source": [
    "strain_meta.number_strain_agg_hit"
   ]
  },
  {
   "cell_type": "code",
   "execution_count": null,
   "metadata": {},
   "outputs": [],
   "source": [
    "thresh = 5\n",
    "\n",
    "genes_in_depth_range = (strain_depth_75 < thresh) & (strain_depth_75 > 1 / thresh)\n",
    "genes_in_depth_range_and_hit = (genes_in_depth_range & (strain_corr_75 > strain_meta.strain_selection_threshold))\n",
    "\n",
    "ratio_genes_in_depth_range = genes_in_depth_range_and_hit.sum() / genes_in_depth_range.sum()\n",
    "frac_genes_in_depth_range = genes_in_depth_range_and_hit.sum() / strain_meta.number_strain_agg_hit\n",
    "\n",
    "frac_genes_in_depth_range"
   ]
  },
  {
   "cell_type": "code",
   "execution_count": null,
   "metadata": {},
   "outputs": [],
   "source": []
  },
  {
   "cell_type": "code",
   "execution_count": null,
   "metadata": {},
   "outputs": [],
   "source": [
    "gene_depth_99 = xr.load_dataarray(f'data_temp/sp-{species_id}.hmp2.a.r.proc.midas_gene99.depth.nc')\n",
    "gene_depth_95 = xr.load_dataarray(f'data_temp/sp-{species_id}.hmp2.a.r.proc.midas_gene95.depth.nc')\n",
    "gene_depth_75 = xr.load_dataarray(f'data_temp/sp-{species_id}.hmp2.a.r.proc.midas_gene75.depth.nc')"
   ]
  },
  {
   "cell_type": "code",
   "execution_count": null,
   "metadata": {},
   "outputs": [],
   "source": [
    "strain_corr_99 = pd.read_table(f'data_temp/sp-{species_id}.hmp2.a.r.proc.gtpro.filt-poly05-cvrg05.ss-g10000-block0-seed0.fit-sfacts26-s75-seed0.midas_gene99.strain_correlation.tsv', index_col=['gene_id', 'strain']).squeeze().unstack(fill_value=0)\n",
    "strain_depth_99 = pd.read_table(f'data_temp/sp-{species_id}.hmp2.a.r.proc.gtpro.filt-poly05-cvrg05.ss-g10000-block0-seed0.fit-sfacts26-s75-seed0.midas_gene99.strain_depth_ratio.tsv', index_col=['gene_id', 'strain']).squeeze().unstack()\n",
    "strain_corr_99, strain_depth_99 = align_indexes(*align_indexes(strain_corr_99, strain_depth_99), axis=\"columns\")"
   ]
  },
  {
   "cell_type": "code",
   "execution_count": null,
   "metadata": {},
   "outputs": [],
   "source": [
    "strain_corr_95 = pd.read_table(f'data_temp/sp-{species_id}.hmp2.a.r.proc.gtpro.filt-poly05-cvrg05.ss-g10000-block0-seed0.fit-sfacts26-s75-seed0.midas_gene95.strain_correlation.tsv', index_col=['gene_id', 'strain']).squeeze().unstack(fill_value=0)\n",
    "strain_depth_95 = pd.read_table(f'data_temp/sp-{species_id}.hmp2.a.r.proc.gtpro.filt-poly05-cvrg05.ss-g10000-block0-seed0.fit-sfacts26-s75-seed0.midas_gene95.strain_depth_ratio.tsv', index_col=['gene_id', 'strain']).squeeze().unstack()\n",
    "strain_corr_95, strain_depth_95 = align_indexes(*align_indexes(strain_corr_95, strain_depth_95), axis=\"columns\")"
   ]
  },
  {
   "cell_type": "code",
   "execution_count": null,
   "metadata": {},
   "outputs": [],
   "source": [
    "strain_corr_90 = pd.read_table(f'data_temp/sp-{species_id}.hmp2.a.r.proc.gtpro.filt-poly05-cvrg05.ss-g10000-block0-seed0.fit-sfacts26-s75-seed0.midas_gene90.strain_correlation.tsv', index_col=['gene_id', 'strain']).squeeze().unstack(fill_value=0)\n",
    "strain_depth_90 = pd.read_table(f'data_temp/sp-{species_id}.hmp2.a.r.proc.gtpro.filt-poly05-cvrg05.ss-g10000-block0-seed0.fit-sfacts26-s75-seed0.midas_gene90.strain_depth_ratio.tsv', index_col=['gene_id', 'strain']).squeeze().unstack()\n",
    "strain_corr_90, strain_depth_90 = align_indexes(*align_indexes(strain_corr_90, strain_depth_90), axis=\"columns\")"
   ]
  },
  {
   "cell_type": "code",
   "execution_count": null,
   "metadata": {},
   "outputs": [],
   "source": [
    "(strain_frac > 0.95).sum().sort_values(ascending=False).head(20)"
   ]
  },
  {
   "cell_type": "code",
   "execution_count": null,
   "metadata": {},
   "outputs": [],
   "source": []
  },
  {
   "cell_type": "code",
   "execution_count": null,
   "metadata": {},
   "outputs": [],
   "source": [
    "# Snakefile\n",
    "species='102506'\n",
    "stemA='hmp2.a.r.proc'\n",
    "stemB='filt-poly05-cvrg05.ss-g10000-block0-seed0.fit-sfacts26-s75-seed0'\n",
    "centroid='90'\n",
    "\n",
    "import pandas as pd\n",
    "from scipy.stats import trim_mean\n",
    "from lib.pandas_util import align_indexes, idxwhere\n",
    "\n",
    "# Script Args\n",
    "outpath = f\"data_temp/sp-{species}.{stemA}.gtpro.{stemB}.midas_gene{centroid}.strain_correlation_threshold.tsv\"\n",
    "species_corr_path=f\"data_temp/sp-{species}.{stemA}.midas_gene75.species_correlation.tsv\"\n",
    "strain_corr_path=f\"data_temp/sp-{species}.{stemA}.gtpro.{stemB}.midas_gene{centroid}.strain_correlation.tsv\"\n",
    "gene_meta_path=f\"ref_temp/midasdb_uhgg/pangenomes/{species}/cluster_info.txt\"  # TODO: Add to recipe\n",
    "strain_depth_path=f\"data_temp/sp-{species}.{stemA}.gtpro.{stemB}.midas_gene{centroid}.strain_depth_ratio.tsv\"  # Only used for depth profiling\n",
    "aggregate_genes_by=\"centroid_75\"\n",
    "species_corr_threshold=float(0.95)\n",
    "strain_corr_quantile=float(0.95)\n",
    "trim_frac=float(0.2)  # Only used for calculating mean species-gene depth\n",
    "\n",
    "\n",
    "\n",
    "\n",
    "species_corr_agg = pd.read_table(species_corr_path, names=['gene_id', 'correlation'], index_col='gene_id').squeeze()\n",
    "strain_corr = pd.read_table(strain_corr_path, index_col=['gene_id', 'strain']).squeeze().unstack(fill_value=0)\n",
    "gene_meta = pd.read_table(gene_meta_path).set_index('centroid_99', drop=False).rename_axis(index='gene_id')\n",
    "strain_depth = pd.read_table(strain_depth_path, index_col=['gene_id', 'strain']).squeeze().unstack()\n",
    "\n",
    "# Align Data\n",
    "strain_corr, strain_depth = align_indexes(*align_indexes(strain_corr, strain_depth), axis='columns')\n",
    "\n",
    "strain_corr_agg = strain_corr.groupby(gene_meta[aggregate_genes_by]).max()\n",
    "strain_depth_agg = strain_depth.groupby(gene_meta[aggregate_genes_by]).sum()\n",
    "species_corr_agg, strain_corr_agg, strain_depth_agg = align_indexes(species_corr_agg, strain_corr_agg, strain_depth_agg)\n",
    "\n",
    "\n",
    "# Calculate the strain correlation threshold for each strain at which strain_corr_quantile\n",
    "# of the species genes (defined as those passing the species_corr_threshold)\n",
    "# are also assigned to the strain.\n",
    "species_agg_hit = species_corr_agg > species_corr_threshold\n",
    "number_species_agg_hit = species_agg_hit.sum()\n",
    "strain_selection_threshold = strain_corr_agg.reindex(idxwhere(species_agg_hit)).quantile(1 - strain_corr_quantile)\n",
    "\n",
    "# Stats on aggregated gene hits (aggs where best hit is over threshold)\n",
    "strain_agg_hit = strain_corr_agg.gt(strain_selection_threshold)\n",
    "number_strain_agg_hit = strain_agg_hit.sum()\n",
    "total_depth_ratio_strain_agg_hit = (strain_depth_agg * strain_agg_hit).sum()\n",
    "\n",
    "# Stats on aggregated gene hits (aggs where best hit is over threshold) that were also species hits\n",
    "strain_species_agg_hit = (agg_hit.T & species_agg_hit).T\n",
    "number_strain_species_agg_hit = strain_species_agg_hit.sum()\n",
    "total_depth_ratio_species_agg_hit = (strain_depth_agg.T * species_agg_hit).T.sum()\n",
    "total_depth_ratio_strain_species_agg_hit = (strain_depth_agg * strain_species_agg_hit).sum()\n",
    "mean_depth_ratio_strain_species_agg_hit = (strain_depth_agg[strain_species_agg_hit]).apply(lambda x: trim_mean(x.dropna(), proportiontocut=trim_frac))\n",
    "mean_depth_ratio_species_agg_hit = (strain_depth_agg[species_agg_hit]).apply(lambda x: trim_mean(x.dropna(), proportiontocut=trim_frac))\n",
    "# TODO: Calculate ratio of total depth ratios between \"known\" species aggs and the strain-specific aggs.\n",
    "# frac_total_depth_ratio_species_agg_hit = total_depth_ratio_strain_species_agg_hit / total_depth_ratio_species_agg_hit\n",
    "\n",
    "# Stats on gene hits (not aggregated)\n",
    "strain_gene_hit = strain_corr.gt(strain_selection_threshold)\n",
    "\n",
    "agg_depth_ratio_strain_gene_hit = strain_depth[strain_gene_hit].groupby(gene_meta[aggregate_genes_by]).sum().reindex(species_corr_agg.index).fillna(0)\n",
    "agg_tally_strain_gene_hit = strain_depth[strain_gene_hit].notna().groupby(gene_meta[aggregate_genes_by]).sum().reindex(species_corr_agg.index).fillna(0).sum()\n",
    "number_strain_gene_hit = agg_tally_strain_gene_hit.sum()\n",
    "total_depth_ratio_strain_gene_hit = agg_depth_ratio_strain_gene_hit.sum()\n",
    "\n",
    "\n",
    "# Stats on gene hits aggregated after selection\n",
    "number_strain_species_gene_hit = agg_tally_strain_gene_hit[species_agg_hit].sum()\n",
    "total_depth_ratio_strain_species_gene_hit = agg_depth_ratio_strain_gene_hit[species_agg_hit].sum()\n",
    "\n",
    "\n",
    "\n",
    "mean_depth_ratio_strain_species_gene_hit = agg_depth_ratio_strain_gene_hit[species_agg_hit].apply(trim_mean, proportiontocut=trim_frac)\n",
    "# TODO: Calculate ratio of depth ratios between \"known\" species genes and the newly identified genes.\n",
    "# frac_total_depth_ratio_species_gene_hit = total_depth_ratio_strain_species_gene_hit / total_depth_ratio_species_agg_hit\n",
    "\n",
    "out = pd.DataFrame(dict(\n",
    "    strain_selection_threshold=strain_selection_threshold,\n",
    "    number_species_agg=number_species_agg_hit,\n",
    "    number_strain_agg_hit=number_strain_agg_hit,\n",
    "    total_depth_ratio_strain_agg_hit=total_depth_ratio_strain_agg_hit,\n",
    "    number_strain_species_agg_hit=number_strain_species_agg_hit,\n",
    "    total_depth_ratio_species_agg_hit=total_depth_ratio_species_agg_hit,\n",
    "    total_depth_ratio_strain_species_agg_hit=total_depth_ratio_strain_species_agg_hit,\n",
    "    # frac_total_depth_ratio_species_agg_hit=frac_total_depth_ratio_species_agg_hit,\n",
    "    mean_depth_ratio_strain_species_agg_hit=mean_depth_ratio_strain_species_agg_hit,\n",
    "    mean_depth_ratio_species_agg_hit=mean_depth_ratio_species_agg_hit,\n",
    "    number_strain_gene_hit=number_strain_gene_hit,\n",
    "    total_depth_ratio_strain_gene_hit=total_depth_ratio_strain_gene_hit,\n",
    "    number_strain_species_gene_hit=number_strain_species_gene_hit,\n",
    "    total_depth_ratio_strain_species_gene_hit=total_depth_ratio_strain_species_gene_hit,\n",
    "    mean_depth_ratio_strain_species_gene_hit=mean_depth_ratio_strain_species_gene_hit,\n",
    "))\n",
    "\n",
    "# out.to_csv(..."
   ]
  },
  {
   "cell_type": "code",
   "execution_count": null,
   "metadata": {},
   "outputs": [],
   "source": [
    "strain_depth[strain_gene_hit].notna().groupby(gene_meta[aggregate_genes_by]).sum().reindex(species_corr_agg.index).fillna(0).sum()\n"
   ]
  },
  {
   "cell_type": "code",
   "execution_count": null,
   "metadata": {},
   "outputs": [],
   "source": [
    "number_strain_gene_hit"
   ]
  },
  {
   "cell_type": "code",
   "execution_count": null,
   "metadata": {},
   "outputs": [],
   "source": [
    "total_depth_ratio_strain_species_gene_hit / total_depth_ratio_species_agg_hit"
   ]
  },
  {
   "cell_type": "code",
   "execution_count": null,
   "metadata": {},
   "outputs": [],
   "source": [
    "bins = np.linspace(0, 1, nupairplot1)\n",
    "\n",
    "plt.hist(species_corr, bins=bins)\n",
    "None"
   ]
  },
  {
   "cell_type": "code",
   "execution_count": null,
   "metadata": {},
   "outputs": [],
   "source": [
    "thresh = 0.9\n",
    "pseudo = 1e-7\n",
    "\n",
    "bins = np.linspace(np.log2(pseudo), np.log2(1000), num=101)\n",
    "plt.hist(np.log2(species_depth_ratio + pseudo), bins=bins)\n",
    "plt.hist(np.log2(species_depth_ratio[species_corr > thresh] + pseudo), bins=bins)\n",
    "plt.yscale('log')\n",
    "\n",
    "plt.axvline(np.log2(1), lw=1, linestyle='--', color='k')\n",
    "plt.axvline(np.log2(0.2), lw=0.5, linestyle=':', color='k')\n",
    "plt.axvline(np.log2(5), lw=0.5, linestyle=':', color='k')\n",
    "\n",
    "None"
   ]
  },
  {
   "cell_type": "code",
   "execution_count": null,
   "metadata": {},
   "outputs": [],
   "source": [
    "plt.hist(np.log10(species_gene_depth + 1e-5), bins=100)\n",
    "plt.hist(np.log10(species_gene_depth.loc[idxwhere(strain_frac.max(1) > 0.95)] + 1e-5), bins=100)\n",
    "plt.yscale('log')\n",
    "None"
   ]
  },
  {
   "cell_type": "code",
   "execution_count": null,
   "metadata": {},
   "outputs": [],
   "source": [
    "bins = np.linspace(0, 1, num=101)\n",
    "plt.hist(strain_corr_99[strain], bins=bins)\n",
    "plt.hist(strain_corr_99[strain][(strain_depth_99[strain] > 0.5) & (strain_depth_99[strain] < 2)], bins=bins)\n",
    "\n",
    "plt.yscale('log')\n",
    "None"
   ]
  },
  {
   "cell_type": "code",
   "execution_count": null,
   "metadata": {},
   "outputs": [],
   "source": [
    "bins = np.linspace(0, 1, num=101)\n",
    "plt.hist(strain_corr_95[strain], bins=bins)\n",
    "plt.hist(strain_corr_95[strain][(strain_depth_95[strain] > 0.5) & (strain_depth_95[strain] < 2)], bins=bins)\n",
    "\n",
    "plt.yscale('log')\n",
    "None"
   ]
  },
  {
   "cell_type": "code",
   "execution_count": null,
   "metadata": {},
   "outputs": [],
   "source": [
    "bins = np.linspace(0, 1, num=101)\n",
    "plt.hist(strain_corr_90[strain], bins=bins)\n",
    "plt.hist(strain_corr_90[strain][(strain_depth_90[strain] > 0.5) & (strain_depth_90[strain] < 2)], bins=bins)\n",
    "\n",
    "plt.yscale('log')\n",
    "None"
   ]
  },
  {
   "cell_type": "code",
   "execution_count": null,
   "metadata": {},
   "outputs": [],
   "source": [
    "(\n",
    "    species_depth_ratio[species_corr > 0.95].sum(),\n",
    "    (strain_depth_95[_strain] * (strain_corr_95[_strain] > q)).groupby(gene_meta.centroid_75).sum().reindex(idxwhere(species_corr > 0.95)).fillna(0).sum(),\n",
    ")"
   ]
  },
  {
   "cell_type": "code",
   "execution_count": null,
   "metadata": {},
   "outputs": [],
   "source": [
    "plt.scatter(\n",
    "    species_depth_ratio[species_corr > 0.95],\n",
    "    (strain_depth_95[_strain] * (strain_corr_95[_strain] > q)).groupby(gene_meta.centroid_75).sum().reindex(idxwhere(species_corr > 0.95)).fillna(0),\n",
    "    s=5, alpha=0.5,\n",
    ")\n",
    "plt.plot([0, 5], [0, 5])"
   ]
  },
  {
   "cell_type": "code",
   "execution_count": null,
   "metadata": {},
   "outputs": [],
   "source": []
  },
  {
   "cell_type": "code",
   "execution_count": null,
   "metadata": {},
   "outputs": [],
   "source": []
  },
  {
   "cell_type": "code",
   "execution_count": null,
   "metadata": {},
   "outputs": [],
   "source": [
    "thresh = 0.9\n",
    "pseudo = 1e-7\n",
    "\n",
    "bins = np.linspace(np.log2(pseudo), np.log2(1000), num=101)\n",
    "plt.hist(np.log2(strain_depth_99[strain] + pseudo), bins=bins)\n",
    "plt.hist(np.log2(strain_depth_99.loc[strain_corr_99[strain] > thresh, strain] + pseudo), bins=bins)\n",
    "\n",
    "plt.axvline(np.log2(1), lw=1, linestyle='--', color='k')\n",
    "plt.yscale('log')\n",
    "\n",
    "None"
   ]
  },
  {
   "cell_type": "code",
   "execution_count": null,
   "metadata": {},
   "outputs": [],
   "source": [
    "thresh = 0.9\n",
    "pseudo = 1e-7\n",
    "\n",
    "bins = np.linspace(np.log2(pseudo), np.log2(1000), num=101)\n",
    "plt.hist(np.log2(strain_depth_95[strain] + pseudo), bins=bins)\n",
    "plt.hist(np.log2(strain_depth_95.loc[strain_corr_95[strain] > thresh, strain] + pseudo), bins=bins)\n",
    "\n",
    "plt.axvline(np.log2(1), lw=1, linestyle='--', color='k')\n",
    "plt.yscale('log')\n",
    "\n",
    "None"
   ]
  },
  {
   "cell_type": "code",
   "execution_count": null,
   "metadata": {},
   "outputs": [],
   "source": [
    "thresh = 0.9\n",
    "pseudo = 1e-7\n",
    "\n",
    "bins = np.linspace(np.log2(pseudo), np.log2(1000), num=101)\n",
    "plt.hist(np.log2(strain_depth_90[strain] + pseudo), bins=bins)\n",
    "plt.hist(np.log2(strain_depth_90.loc[strain_corr_90[strain] > thresh, strain] + pseudo), bins=bins)\n",
    "\n",
    "plt.axvline(np.log2(1), lw=1, linestyle='--', color='k')\n",
    "plt.yscale('log')\n",
    "\n",
    "None"
   ]
  },
  {
   "cell_type": "code",
   "execution_count": null,
   "metadata": {},
   "outputs": [],
   "source": [
    "thresh = 0.9\n",
    "pseudo = 1e-7\n",
    "bins = np.linspace(np.log2(pseudo), np.log2(1000), num=101)\n",
    "\n",
    "\n",
    "sample_list = idxwhere(strain_frac[strain] > 0.95)\n",
    "gene_list = idxwhere(strain_corr_99[strain] > thresh)\n",
    "d2 = strain_depth_99.loc[:, strain].groupby(gene_meta.centroid_75).sum()\n",
    "d3 = strain_depth_99.loc[gene_list, strain].groupby(gene_meta.centroid_75).sum()\n",
    "\n",
    "plt.hist(np.log2(d2 + pseudo), bins=bins)\n",
    "plt.hist(np.log2(d3 + pseudo), bins=bins)\n",
    "\n",
    "plt.axvline(np.log2(1), lw=1, linestyle='--', color='k')\n",
    "plt.axvline(np.log2(0.2), lw=0.5, linestyle=':', color='k')\n",
    "plt.axvline(np.log2(5), lw=0.5, linestyle=':', color='k')\n",
    "\n",
    "\n",
    "\n",
    "plt.yscale('log')\n"
   ]
  },
  {
   "cell_type": "code",
   "execution_count": null,
   "metadata": {},
   "outputs": [],
   "source": [
    "thresh = 0.9\n",
    "pseudo = 1e-7\n",
    "bins = np.linspace(np.log2(pseudo), np.log2(1000), num=101)\n",
    "\n",
    "\n",
    "sample_list = idxwhere(strain_frac[strain] > 0.95)\n",
    "gene_list = idxwhere(strain_corr_95[strain] > thresh)\n",
    "d2 = strain_depth_95.loc[:, strain].groupby(gene_meta.centroid_75).sum()\n",
    "d3 = strain_depth_95.loc[gene_list, strain].groupby(gene_meta.centroid_75).sum()\n",
    "\n",
    "plt.hist(np.log2(d2 + pseudo), bins=bins)\n",
    "plt.hist(np.log2(d3 + pseudo), bins=bins)\n",
    "\n",
    "plt.axvline(np.log2(1), lw=1, linestyle='--', color='k')\n",
    "plt.axvline(np.log2(0.2), lw=0.5, linestyle=':', color='k')\n",
    "plt.axvline(np.log2(5), lw=0.5, linestyle=':', color='k')\n",
    "\n",
    "\n",
    "\n",
    "plt.yscale('log')\n"
   ]
  },
  {
   "cell_type": "code",
   "execution_count": null,
   "metadata": {},
   "outputs": [],
   "source": [
    "thresh = 0.9\n",
    "pseudo = 1e-7\n",
    "bins = np.linspace(np.log2(pseudo), np.log2(1000), num=101)\n",
    "\n",
    "\n",
    "sample_list = idxwhere(strain_frac[strain] > 0.95)\n",
    "gene_list = idxwhere(strain_corr_90[strain] > thresh)\n",
    "d2 = strain_depth_90.loc[:, strain].groupby(gene_meta.centroid_75).sum()\n",
    "d3 = strain_depth_90.loc[gene_list, strain].groupby(gene_meta.centroid_75).sum()\n",
    "\n",
    "plt.hist(np.log2(d2 + pseudo), bins=bins)\n",
    "plt.hist(np.log2(d3 + pseudo), bins=bins)\n",
    "\n",
    "plt.axvline(np.log2(1), lw=1, linestyle='--', color='k')\n",
    "plt.axvline(np.log2(0.2), lw=0.5, linestyle=':', color='k')\n",
    "plt.axvline(np.log2(5), lw=0.5, linestyle=':', color='k')\n",
    "\n",
    "\n",
    "\n",
    "plt.yscale('log')\n"
   ]
  },
  {
   "cell_type": "code",
   "execution_count": null,
   "metadata": {},
   "outputs": [],
   "source": [
    "thresh = 0.9\n",
    "pseudo = 1e-7\n",
    "bins = np.linspace(np.log2(pseudo), np.log2(1000), num=101)\n",
    "\n",
    "aggregate_at = 'centroid_75'\n",
    "\n",
    "\n",
    "gene99_list = idxwhere(strain_corr_99[strain] > thresh)\n",
    "gene_agg_list = list(gene_meta.loc[gene99_list][aggregate_at].unique())\n",
    "\n",
    "d = pd.DataFrame(dict(\n",
    "    any99=strain_depth_99.loc[:, strain].groupby(gene_meta[aggregate_at]).sum().loc[gene_agg_list],\n",
    "    hit99 = strain_depth_99.loc[gene99_list, strain].groupby(gene_meta[aggregate_at]).sum(),\n",
    "))\n",
    "\n",
    "plt.hist(np.log2(d['any99']), bins=bins)\n",
    "plt.hist(np.log2(d['hit99']), bins=bins, alpha=0.7)\n",
    "\n",
    "None"
   ]
  },
  {
   "cell_type": "code",
   "execution_count": null,
   "metadata": {},
   "outputs": [],
   "source": [
    "thresh = 0.9\n",
    "pseudo = 1e-7\n",
    "bins = np.linspace(np.log2(pseudo), np.log2(1000), num=101)\n",
    "\n",
    "aggregate_at = 'centroid_75'\n",
    "\n",
    "\n",
    "gene95_list = idxwhere(strain_corr_95[strain] > thresh)\n",
    "gene_agg_list = list(gene_meta.loc[gene95_list][aggregate_at].unique())\n",
    "\n",
    "d = pd.DataFrame(dict(\n",
    "    any95=strain_depth_95.loc[:, strain].groupby(gene_meta[aggregate_at]).sum().loc[gene_agg_list],\n",
    "    hit95 = strain_depth_95.loc[gene95_list, strain].groupby(gene_meta[aggregate_at]).sum(),\n",
    "))\n",
    "\n",
    "plt.hist(np.log2(d['any95']), bins=bins)\n",
    "plt.hist(np.log2(d['hit95']), bins=bins, alpha=0.7)\n",
    "\n",
    "None"
   ]
  },
  {
   "cell_type": "code",
   "execution_count": null,
   "metadata": {},
   "outputs": [],
   "source": [
    "thresh = 0.9\n",
    "pseudo = 1e-7\n",
    "bins = np.linspace(np.log2(pseudo), np.log2(1000), num=101)\n",
    "\n",
    "aggregate_at = 'centroid_75'\n",
    "\n",
    "\n",
    "gene90_list = idxwhere(strain_corr_90[strain] > thresh)\n",
    "gene_agg_list = list(gene_meta.loc[gene90_list][aggregate_at].unique())\n",
    "\n",
    "d = pd.DataFrame(dict(\n",
    "    any90=strain_depth_90.loc[:, strain].groupby(gene_meta[aggregate_at]).sum().loc[gene_agg_list],\n",
    "    hit90 = strain_depth_90.loc[gene90_list, strain].groupby(gene_meta[aggregate_at]).sum(),\n",
    "))\n",
    "\n",
    "plt.hist(np.log2(d['any90']), bins=bins)\n",
    "plt.hist(np.log2(d['hit90']), bins=bins, alpha=0.7)\n",
    "\n",
    "None"
   ]
  },
  {
   "cell_type": "code",
   "execution_count": null,
   "metadata": {},
   "outputs": [],
   "source": [
    "thresh = 0.9\n",
    "pseudo = 1e-7\n",
    "bins = np.linspace(np.log2(pseudo), np.log2(1000), num=101)\n",
    "\n",
    "\n",
    "gene99_list = idxwhere(strain_corr_99[strain] > thresh)\n",
    "\n",
    "for aggregate_at in reversed(['centroid_99', 'centroid_95', 'centroid_90', 'centroid_85', 'centroid_80', 'centroid_75']):\n",
    "    gene_agg_list = list(gene_meta.loc[gene99_list][aggregate_at].unique())\n",
    "\n",
    "    d = pd.DataFrame(dict(\n",
    "        any99=strain_depth_99.loc[:, strain].groupby(gene_meta[aggregate_at]).sum().loc[gene_agg_list],\n",
    "        hit99 = strain_depth_99.loc[gene99_list, strain].groupby(gene_meta[aggregate_at]).sum(),\n",
    "    ))\n",
    "    # plt.hist(np.log2(d['any99']), bins=bins)\n",
    "    sns.kdeplot(np.log2(d['hit99']), label=aggregate_at)\n",
    "plt.legend()"
   ]
  },
  {
   "cell_type": "code",
   "execution_count": null,
   "metadata": {},
   "outputs": [],
   "source": [
    "thresh = 0.9\n",
    "pseudo = 1e-7\n",
    "bins = np.linspace(np.log2(pseudo), np.log2(1000), num=101)\n",
    "\n",
    "\n",
    "gene95_list = idxwhere(strain_corr_95[strain] > thresh)\n",
    "\n",
    "for aggregate_at in reversed(['centroid_95', 'centroid_90', 'centroid_85', 'centroid_80', 'centroid_75']):\n",
    "    gene_agg_list = list(gene_meta.loc[gene95_list][aggregate_at].unique())\n",
    "\n",
    "    d = pd.DataFrame(dict(\n",
    "        any95=strain_depth_95.loc[:, strain].groupby(gene_meta[aggregate_at]).sum().loc[gene_agg_list],\n",
    "        hit95 = strain_depth_95.loc[gene95_list, strain].groupby(gene_meta[aggregate_at]).sum(),\n",
    "    ))\n",
    "    # plt.hist(np.log2(d['any95']), bins=bins)\n",
    "    sns.kdeplot(np.log2(d['hit95']), label=aggregate_at)\n",
    "plt.legend()"
   ]
  },
  {
   "cell_type": "code",
   "execution_count": null,
   "metadata": {},
   "outputs": [],
   "source": [
    "thresh = 0.8\n",
    "pseudo = 1e-7\n",
    "bins = np.linspace(np.log2(pseudo), np.log2(1000), num=101)\n",
    "\n",
    "\n",
    "gene99_list = idxwhere(strain_corr_99[strain] > thresh)\n",
    "\n",
    "for aggregate_at in reversed(['centroid_99', 'centroid_95', 'centroid_90', 'centroid_85', 'centroid_80', 'centroid_75']):\n",
    "    gene_agg_list = list(gene_meta.loc[gene99_list][aggregate_at].unique())\n",
    "\n",
    "    d = pd.DataFrame(dict(\n",
    "        any99=strain_depth_99.loc[:, strain].groupby(gene_meta[aggregate_at]).sum().loc[gene_agg_list],\n",
    "        hit99 = strain_depth_99.loc[gene99_list, strain].groupby(gene_meta[aggregate_at]).sum(),\n",
    "    ))\n",
    "    sns.kdeplot(d['any99'], log_scale=True, label=aggregate_at)\n",
    "plt.legend()"
   ]
  },
  {
   "cell_type": "code",
   "execution_count": null,
   "metadata": {},
   "outputs": [],
   "source": [
    "thresh = 0.8\n",
    "pseudo = 1e-7\n",
    "bins = np.linspace(np.log2(pseudo), np.log2(1000), num=101)\n",
    "\n",
    "\n",
    "gene95_list = idxwhere(strain_corr_95[strain] > thresh)\n",
    "\n",
    "for aggregate_at in reversed(['centroid_95', 'centroid_90', 'centroid_85', 'centroid_80', 'centroid_75']):\n",
    "    gene_agg_list = list(gene_meta.loc[gene95_list][aggregate_at].unique())\n",
    "\n",
    "    d = pd.DataFrame(dict(\n",
    "        any95=strain_depth_95.loc[:, strain].groupby(gene_meta[aggregate_at]).sum().loc[gene_agg_list],\n",
    "        hit95 = strain_depth_95.loc[gene95_list, strain].groupby(gene_meta[aggregate_at]).sum(),\n",
    "    ))\n",
    "    # plt.hist(np.log2(d['any95']), bins=bins)\n",
    "    sns.kdeplot(np.log2(d['any95']), label=aggregate_at)\n",
    "plt.legend()"
   ]
  },
  {
   "cell_type": "code",
   "execution_count": null,
   "metadata": {},
   "outputs": [],
   "source": [
    "thresh = 0.5\n",
    "pseudo = 1e-7\n",
    "bins = np.linspace(np.log2(pseudo), np.log2(1000), num=101)\n",
    "\n",
    "\n",
    "gene99_list = idxwhere(strain_corr_99[strain] > thresh)\n",
    "\n",
    "for aggregate_at in reversed(['centroid_99', 'centroid_95', 'centroid_90', 'centroid_85', 'centroid_80', 'centroid_75']):\n",
    "    gene_agg_list = list(gene_meta.loc[gene99_list][aggregate_at].unique())\n",
    "\n",
    "    d = pd.DataFrame(dict(\n",
    "        any99=strain_depth_99.loc[:, strain].groupby(gene_meta[aggregate_at]).sum().loc[gene_agg_list],\n",
    "        hit99 = strain_depth_99.loc[gene99_list, strain].groupby(gene_meta[aggregate_at]).sum(),\n",
    "    ))\n",
    "    sns.kdeplot(np.log2(d['any99']), label=aggregate_at)\n",
    "plt.legend()"
   ]
  },
  {
   "cell_type": "code",
   "execution_count": null,
   "metadata": {},
   "outputs": [],
   "source": [
    "thresh = 0.5\n",
    "pseudo = 1e-7\n",
    "bins = np.linspace(np.log2(pseudo), np.log2(1000), num=101)\n",
    "\n",
    "\n",
    "gene95_list = idxwhere(strain_corr_95[strain] > thresh)\n",
    "\n",
    "for aggregate_at in reversed(['centroid_95', 'centroid_90', 'centroid_85', 'centroid_80', 'centroid_75']):\n",
    "    gene_agg_list = list(gene_meta.loc[gene95_list][aggregate_at].unique())\n",
    "\n",
    "    d = pd.DataFrame(dict(\n",
    "        any95=strain_depth_95.loc[:, strain].groupby(gene_meta[aggregate_at]).sum().loc[gene_agg_list],\n",
    "        hit95 = strain_depth_95.loc[gene95_list, strain].groupby(gene_meta[aggregate_at]).sum(),\n",
    "    ))\n",
    "    sns.kdeplot(np.log2(d['any95']), label=aggregate_at)\n",
    "plt.legend()"
   ]
  },
  {
   "cell_type": "code",
   "execution_count": null,
   "metadata": {},
   "outputs": [],
   "source": [
    "plt.scatter('any99', 'hit99', data=np.log2(d), s=1)"
   ]
  },
  {
   "cell_type": "code",
   "execution_count": null,
   "metadata": {},
   "outputs": [],
   "source": [
    "thresh = 0.9\n",
    "\n",
    "sample_list = idxwhere(strain_frac[strain] > 0.95)\n",
    "decoy_sample_list = idxwhere((strain_frac[decoy_strains] > 0.95).any(1))\n",
    "\n",
    "gene_list = idxwhere(strain_corr_99[strain] > thresh)\n",
    "decoy_gene_list = list(set(idxwhere((strain_corr_99[decoy_strains] > thresh).any(1))) - set(gene_list))\n",
    "\n",
    "gene75_list = list(gene_meta.loc[gene_list].centroid_75.unique())\n",
    "decoy_gene75_list = list(set(gene_meta.loc[decoy_gene_list].centroid_75.unique()) - set(gene75_list))\n",
    "\n",
    "row_colors = pd.Series([0]*len(decoy_sample_list) + [1]*len(sample_list), index=decoy_sample_list + sample_list).map({0: 'black', 1: 'red'})\n",
    "col_colors = pd.Series([0]*len(decoy_gene75_list) + [1]*len(gene75_list), index=decoy_gene75_list + gene75_list).map({0: 'black', 1: 'red'})\n",
    "\n",
    "# NOTE: This looks at the summed depth for ALL genes in any strain, not just the correlated genes.\n",
    "d = gene_depth_99.sel(sample=sample_list + decoy_sample_list, gene_id=gene_list + decoy_gene_list).groupby(gene_meta.centroid_75.to_xarray().sel(gene_id=(gene_list + decoy_gene_list))).sum().to_series().unstack().T\n",
    "print(d.shape)\n",
    "\n",
    "sns.clustermap(\n",
    "    d, metric='cosine',\n",
    "    norm=mpl.colors.SymLogNorm(linthresh=1e-3),\n",
    "    row_colors=row_colors,\n",
    "    col_colors=col_colors,\n",
    ")"
   ]
  },
  {
   "cell_type": "code",
   "execution_count": null,
   "metadata": {},
   "outputs": [],
   "source": [
    "strain_corr_75"
   ]
  },
  {
   "cell_type": "code",
   "execution_count": null,
   "metadata": {},
   "outputs": [],
   "source": [
    "cutoff = 0.95\n",
    "strain_hit = set(idxwhere(strain_corr_75[strain] > cutoff))\n",
    "species_hit = set(idxwhere(species_corr > cutoff))\n",
    "\n",
    "len(species_hit), len(strain_hit), len(species_hit | strain_hit), len(species_hit - strain_hit), len(strain_hit - species_hit)"
   ]
  },
  {
   "cell_type": "code",
   "execution_count": null,
   "metadata": {},
   "outputs": [],
   "source": [
    "x, y = align_indexes(strain_corr_75[strain], species_corr)\n",
    "\n",
    "plt.scatter(x, y, s=1)"
   ]
  },
  {
   "cell_type": "code",
   "execution_count": null,
   "metadata": {},
   "outputs": [],
   "source": [
    "pseudo = 1e-5\n",
    "d = strain_depth[strain] + pseudo\n",
    "c = strain_corr[strain]\n",
    "\n",
    "bins = np.linspace(np.log2(pseudo), np.log2(d.max()), num=101)\n",
    "plt.hist(np.log2(d), bins=bins)\n",
    "plt.hist(np.log2(d[c > 0.5]), bins=bins, alpha=0.5)\n",
    "\n",
    "plt.yscale('log')"
   ]
  },
  {
   "cell_type": "code",
   "execution_count": null,
   "metadata": {},
   "outputs": [],
   "source": [
    "pseudo = 1e-5\n",
    "cutoff = 0.5\n",
    "d = strain_depth[strain] + pseudo\n",
    "c = strain_corr[strain]\n",
    "\n",
    "bins = np.linspace(np.log2(pseudo), np.log2(d.max()), num=101)\n",
    "plt.hist(np.log2(d.groupby(gene_meta.centroid_75).sum()), bins=bins)\n",
    "plt.hist(np.log2(d[c > cutoff].groupby(gene_meta.centroid_75).sum()), bins=bins, alpha=0.5)\n",
    "\n",
    "plt.axvline(np.log2(1), lw=1, linestyle='--', color='k')\n",
    "plt.axvline(np.log2(1/5), lw=0.5, linestyle=':', color='k')\n",
    "\n",
    "plt.yscale('log')"
   ]
  },
  {
   "cell_type": "code",
   "execution_count": null,
   "metadata": {},
   "outputs": [],
   "source": [
    "pseudo = 1e-5\n",
    "cutoff = 0.5\n",
    "d = strain_depth[strain] + pseudo\n",
    "c = strain_corr[strain]\n",
    "\n",
    "bins = None  # np.linspace(np.log2(pseudo), np.log2(d.max()), num=101)\n",
    "# plt.hist(np.log2(d.groupby(gene_meta.centroid_75).sum()), bins=bins)\n",
    "# plt.hist(np.log2(d[c > cutoff].groupby(gene_meta.centroid_75).sum()), bins=bins, alpha=0.5)\n",
    "\n",
    "plt.figure()\n",
    "plt.hist(np.log2(d.groupby(gene_meta.marker_id).sum()), bins=bins, alpha=0.5)\n",
    "plt.hist(np.log2(d[(c > cutoff)].groupby(gene_meta.marker_id).sum()), bins=bins, alpha=0.5)\n",
    "plt.axvline(0, lw=1, linestyle='--', color='k')\n",
    "plt.yscale('log')\n",
    "\n",
    "\n",
    "plt.figure()\n",
    "plt.scatter(x='_all', y='_hit', data=pd.DataFrame(dict(_all=d.groupby(gene_meta.marker_id).sum(), _hit=d[(c > cutoff)].groupby(gene_meta.marker_id).sum())))\n",
    "plt.plot([0, 2], [0, 2])"
   ]
  },
  {
   "cell_type": "code",
   "execution_count": null,
   "metadata": {},
   "outputs": [],
   "source": [
    "species_gene_list = idxwhere(species_corr > 0.95)\n",
    "len(species_gene_list)"
   ]
  },
  {
   "cell_type": "code",
   "execution_count": null,
   "metadata": {},
   "outputs": [],
   "source": [
    "mean_gene_depth = pd.read_table(f'data_temp/sp-{species_id}.hmp2.a.r.proc.midas.species_gene_depth_ratio.tsv', names=['sample', 'depth'], index_col='sample').squeeze()"
   ]
  },
  {
   "cell_type": "code",
   "execution_count": null,
   "metadata": {},
   "outputs": [],
   "source": [
    "bins = np.linspace(-5, 5, num=101)\n",
    "\n",
    "species_hit = idxwhere(species_corr > 0.95)\n",
    "sns.kdeplot(np.log2(mean_gene_depth[species_hit] + 1e-5), label='all', color='k', lw=2)\n",
    "\n",
    "for cutoff in [0.95, 0.9, 0.8, 0.7, 0.5]:\n",
    "    sns.kdeplot(np.log2(strain_depth[strain][strain_corr[strain] > cutoff].groupby(gene_meta.centroid_75).sum().reindex(species_hit).fillna(0) + 1e-5), label=cutoff)\n",
    "plt.legend()\n"
   ]
  },
  {
   "cell_type": "code",
   "execution_count": null,
   "metadata": {},
   "outputs": [],
   "source": [
    "bins = np.linspace(-5, 5, num=101)\n",
    "pseudo = 1e-1\n",
    "\n",
    "species_hit = idxwhere(species_corr > 0.95)\n",
    "\n",
    "for cutoff in [0.95, 0.9, 0.8, 0.7, 0.5]:\n",
    "    plt.scatter(\n",
    "        np.log2(mean_gene_depth[species_hit] + pseudo),\n",
    "        np.log2(strain_depth[strain][strain_corr[strain] > cutoff].groupby(gene_meta.centroid_75).sum().reindex(species_hit).fillna(0) + pseudo),\n",
    "        label=cutoff,\n",
    "        s=3,\n",
    "        alpha=0.5,\n",
    "    )\n",
    "plt.plot([np.log2(pseudo), np.log2(1e1)], [np.log2(pseudo), np.log2(1e1)])\n",
    "plt.legend()\n"
   ]
  },
  {
   "cell_type": "code",
   "execution_count": null,
   "metadata": {},
   "outputs": [],
   "source": [
    "strain_depth[strain][strain_corr[strain] > cutoff].groupby(gene_meta.centroid_75).sum().reindex(species_hit).isna().sum()"
   ]
  },
  {
   "cell_type": "code",
   "execution_count": null,
   "metadata": {},
   "outputs": [],
   "source": [
    "bins = np.linspace(0, 210)  # np.linspace(-5, 5, num=101)\n",
    "\n",
    "for cutoff in reversed([0.95, 0.9, 0.8, 0.7, 0.5]):\n",
    "    d = strain_depth[strain][strain_corr[strain] > cutoff].groupby(gene_meta.centroid_75).sum()\n",
    "    plt.hist(d, bins=bins)\n",
    "    print(cutoff, d.sum())\n",
    "\n",
    "plt.yscale('log')"
   ]
  },
  {
   "cell_type": "code",
   "execution_count": null,
   "metadata": {},
   "outputs": [],
   "source": [
    "print(strain_depth[strain][strain_corr[strain] > 0.7].groupby(gene_meta.centroid_75).sum().sum())"
   ]
  },
  {
   "cell_type": "code",
   "execution_count": null,
   "metadata": {},
   "outputs": [],
   "source": [
    "for cutoff in [0.99, 0.95, 0.9, 0.8, 0.7, 0.5, 0]:\n",
    "    x = mean_gene_depth[species_hit] + pseudo\n",
    "    y = strain_depth[strain][strain_corr[strain] > cutoff].groupby(gene_meta.centroid_75).sum().reindex(species_hit).fillna(0)\n",
    "    print(cutoff, y.sum(), y.sum() / x.sum(), x.sum())"
   ]
  },
  {
   "cell_type": "code",
   "execution_count": null,
   "metadata": {},
   "outputs": [],
   "source": [
    "plt.hist(np.log2(strain_depth[strain][strain_corr[strain] > 0.7].groupby(gene_meta.centroid_75).sum().fillna(0)), bins=50)"
   ]
  },
  {
   "cell_type": "code",
   "execution_count": null,
   "metadata": {},
   "outputs": [],
   "source": [
    "gene_depth_75 = gene_depth.groupby(gene_meta.loc[gene_depth.gene_id].centroid_75.to_xarray()).sum().rename(dict(centroid_75='gene_id'))"
   ]
  },
  {
   "cell_type": "code",
   "execution_count": null,
   "metadata": {},
   "outputs": [],
   "source": [
    "d = (\n",
    "    gene_depth\n",
    "    .sel(gene_id=idxwhere(strain_corr[strain] > 0.7), sample=idxwhere(strain_frac[strain] > 0.95))\n",
    "    .to_series()\n",
    "    .unstack()\n",
    "    .groupby(gene_meta.centroid_75)\n",
    "    .sum()\n",
    ")\n",
    "# d = d / species_gene_depth.loc[d.columns]"
   ]
  },
  {
   "cell_type": "raw",
   "metadata": {},
   "source": [
    "plt.hist(np.log2(d.mean(1)), bins=51)\n",
    "None"
   ]
  },
  {
   "cell_type": "code",
   "execution_count": null,
   "metadata": {},
   "outputs": [],
   "source": [
    "sns.clustermap(d, norm=mpl.colors.PowerNorm(1/7, vmin=0.1, vmax=100), metric='cosine')"
   ]
  },
  {
   "cell_type": "code",
   "execution_count": null,
   "metadata": {},
   "outputs": [],
   "source": [
    "plt.hist(np.log2(d.mean(1)), bins=51)"
   ]
  },
  {
   "cell_type": "code",
   "execution_count": null,
   "metadata": {},
   "outputs": [],
   "source": [
    "sns.clustermap(np.log2(d), metric='cosine')"
   ]
  },
  {
   "cell_type": "code",
   "execution_count": null,
   "metadata": {},
   "outputs": [],
   "source": []
  }
 ],
 "metadata": {
  "kernelspec": {
   "display_name": "sfacts",
   "language": "python",
   "name": "sfacts"
  },
  "language_info": {
   "codemirror_mode": {
    "name": "ipython",
    "version": 3
   },
   "file_extension": ".py",
   "mimetype": "text/x-python",
   "name": "python",
   "nbconvert_exporter": "python",
   "pygments_lexer": "ipython3",
   "version": "3.10.6"
  }
 },
 "nbformat": 4,
 "nbformat_minor": 5
}