{
 "cells": [
  {
   "cell_type": "code",
   "execution_count": null,
   "metadata": {},
   "outputs": [],
   "source": [
    "%load_ext autoreload"
   ]
  },
  {
   "cell_type": "code",
   "execution_count": null,
   "metadata": {},
   "outputs": [],
   "source": [
    "import os as _os\n",
    "_os.chdir(_os.environ['PROJECT_ROOT'])\n",
    "_os.path.realpath(_os.path.curdir)"
   ]
  },
  {
   "cell_type": "code",
   "execution_count": null,
   "metadata": {},
   "outputs": [],
   "source": [
    "import pandas as pd\n",
    "import numpy as np\n",
    "import scipy as sp\n",
    "import matplotlib.pyplot as plt\n",
    "import seaborn as sns\n",
    "import xarray as xr\n",
    "from lib.pandas_util import idxwhere, align_indexes, invert_mapping\n",
    "import matplotlib as mpl\n",
    "import lib.plot\n",
    "import statsmodels as sm\n",
    "from statsmodels.stats.multitest import fdrcorrection\n",
    "from tqdm import tqdm\n",
    "import subprocess\n",
    "from tempfile import mkstemp\n",
    "import time\n",
    "import subprocess\n",
    "from itertools import chain\n",
    "from scipy.spatial.distance import pdist, squareform"
   ]
  },
  {
   "cell_type": "code",
   "execution_count": null,
   "metadata": {},
   "outputs": [],
   "source": [
    "import sfacts as sf"
   ]
  },
  {
   "cell_type": "code",
   "execution_count": null,
   "metadata": {},
   "outputs": [],
   "source": [
    "# sns.set_context('talk')\n",
    "# plt.rcParams['figure.dpi'] = 100\n",
    "stemA = 'hmp2.a.r.proc'\n",
    "centroid = 75\n",
    "stemB = 'filt-poly05-cvrg05.ss-g10000-block0-seed0.fit-sfacts37-s80-seed0'\n",
    "# stemB = 'filt-poly05-cvrg05.ss-g10000-block0-seed0.approx-clust2-thresh05-s95'"
   ]
  },
  {
   "cell_type": "markdown",
   "metadata": {},
   "source": [
    "# Analysis Parameters"
   ]
  },
  {
   "cell_type": "code",
   "execution_count": null,
   "metadata": {},
   "outputs": [],
   "source": [
    "species_id = '102506'\n",
    "# depth_ratio_bound = 3\n",
    "# species_gene_corr_thresh = 0.99\n",
    "# n_species_genes = 2000\n",
    "species_gene_corr_thresh = 0.98"
   ]
  },
  {
   "cell_type": "markdown",
   "metadata": {},
   "source": [
    "# Prepare Data"
   ]
  },
  {
   "cell_type": "markdown",
   "metadata": {},
   "source": [
    "## Taxonomy"
   ]
  },
  {
   "cell_type": "code",
   "execution_count": null,
   "metadata": {},
   "outputs": [],
   "source": [
    "species_taxonomy = pd.read_table('ref/gtpro/species_taxonomy_ext.tsv', names=['genome_id', 'species_id', 'taxonomy_string']).assign(species_id=lambda x: x.species_id.astype(str)).set_index('species_id')[['taxonomy_string']].assign(taxonomy_split=lambda x: x.taxonomy_string.str.split(';'))\n",
    "\n",
    "for level_name, level_number in [('p__', 1), ('c__', 2), ('o__', 3), ('f__', 4), ('g__', 5), ('s__', 6)]:\n",
    "    species_taxonomy = species_taxonomy.assign(**{level_name: species_taxonomy.taxonomy_split.apply(lambda x: x[level_number])}) \n",
    "species_taxonomy = species_taxonomy.drop(columns=['taxonomy_split'])\n",
    "\n",
    "species_taxonomy.loc[species_id]"
   ]
  },
  {
   "cell_type": "code",
   "execution_count": null,
   "metadata": {},
   "outputs": [],
   "source": [
    "midasdb_genomes = pd.read_table('ref_temp/uhgg_genomes_all_4644.tsv')"
   ]
  },
  {
   "cell_type": "code",
   "execution_count": null,
   "metadata": {},
   "outputs": [],
   "source": [
    "midasdb_genomes.Species_rep.value_counts()"
   ]
  },
  {
   "cell_type": "markdown",
   "metadata": {},
   "source": [
    "## Species"
   ]
  },
  {
   "cell_type": "code",
   "execution_count": null,
   "metadata": {},
   "outputs": [],
   "source": [
    "all_species_depth = pd.read_table(f'data/{stemA}.gtpro.species_depth.tsv', index_col=['sample', 'species_id']).squeeze().unstack('species_id', fill_value=0).rename(str, axis='columns')\n",
    "species_rabund = all_species_depth.divide(all_species_depth.sum(1), axis=0)"
   ]
  },
  {
   "cell_type": "code",
   "execution_count": null,
   "metadata": {},
   "outputs": [],
   "source": [
    "gtpro_species_depth = pd.read_table(f'data/sp-{species_id}.{stemA}.gtpro.species_depth.tsv', dtype=dict(sample=str, species_id=str, depth=float), index_col=['sample', 'species_id']).squeeze().unstack('species_id')"
   ]
  },
  {
   "cell_type": "code",
   "execution_count": null,
   "metadata": {},
   "outputs": [],
   "source": [
    "species_depth = pd.read_table(f'data_temp/sp-{species_id}.{stemA}.midas_gene{centroid}.species_depth.tsv', names=['sample', 'depth'], index_col='sample').squeeze()"
   ]
  },
  {
   "cell_type": "code",
   "execution_count": null,
   "metadata": {},
   "outputs": [],
   "source": [
    "gene_depth = xr.load_dataarray(f'data_temp/sp-{species_id}.{stemA}.midas_gene{centroid}.depth.nc').sel(sample=species_depth.index)"
   ]
  },
  {
   "cell_type": "code",
   "execution_count": null,
   "metadata": {},
   "outputs": [],
   "source": [
    "d = pd.DataFrame(dict(gtpro=gtpro_species_depth[species_id], midas=species_depth))\n",
    "\n",
    "plt.scatter('gtpro', 'midas', data=d, s=3, alpha=0.3)\n",
    "plt.plot([0, 1e2], [0, 1e2])\n",
    "plt.yscale('symlog', linthresh=1e-4)\n",
    "plt.xscale('symlog', linthresh=1e-4)"
   ]
  },
  {
   "cell_type": "code",
   "execution_count": null,
   "metadata": {},
   "outputs": [],
   "source": [
    "d = pd.DataFrame(dict(gtpro=gtpro_species_depth[species_id], midas=species_depth))\n",
    "\n",
    "plt.scatter('gtpro', 'midas', data=np.cbrt(d), s=3, alpha=0.3)\n",
    "# plt.plot([0, 1e2], [0, 1e2])\n",
    "# plt.yscale('symlog', linthresh=1e-4)\n",
    "# plt.xscale('symlog', linthresh=1e-4)"
   ]
  },
  {
   "cell_type": "code",
   "execution_count": null,
   "metadata": {},
   "outputs": [],
   "source": [
    "species_corr = pd.read_table(f'data_temp/sp-{species_id}.{stemA}.midas_gene{centroid}.species_correlation.tsv', names=['sample', 'correlation'], index_col='sample').squeeze()"
   ]
  },
  {
   "cell_type": "markdown",
   "metadata": {},
   "source": [
    "## Metadata"
   ]
  },
  {
   "cell_type": "code",
   "execution_count": null,
   "metadata": {},
   "outputs": [],
   "source": [
    "mgen = pd.read_table('meta/hmp2/mgen.tsv', index_col='library_id')\n",
    "preparation = pd.read_table('meta/hmp2/preparation.tsv', index_col='preparation_id')\n",
    "stool = pd.read_table('meta/hmp2/stool.tsv', index_col='stool_id')\n",
    "subject = pd.read_table('meta/hmp2/subject.tsv', index_col='subject_id')\n",
    "\n",
    "sample_meta = mgen.join(preparation, on='preparation_id', rsuffix='_').join(stool, on='stool_id').join(subject, on='subject_id').loc[all_species_depth.index]"
   ]
  },
  {
   "cell_type": "code",
   "execution_count": null,
   "metadata": {},
   "outputs": [],
   "source": [
    "len(sample_meta.stool_id.unique()), len(sample_meta.subject_id.unique())"
   ]
  },
  {
   "cell_type": "markdown",
   "metadata": {},
   "source": [
    "## Strains"
   ]
  },
  {
   "cell_type": "code",
   "execution_count": null,
   "metadata": {},
   "outputs": [],
   "source": [
    "fit = sf.World.load(\n",
    "    f'data_temp/sp-{species_id}.{stemA}.gtpro.{stemB}.world.nc'\n",
    ").drop_low_abundance_strains(0.05)\n",
    "print(fit.sizes)\n",
    "\n",
    "np.random.seed(0)\n",
    "position_ss = fit.random_sample(position=min(fit.sizes['position'], 1000)).position"
   ]
  },
  {
   "cell_type": "code",
   "execution_count": null,
   "metadata": {},
   "outputs": [],
   "source": [
    "strain_corr = pd.read_table(\n",
    "    f'data_temp/sp-{species_id}.{stemA}.gtpro.{stemB}.midas_gene{centroid}.strain_correlation.tsv',\n",
    "    index_col=['gene_id', 'strain']\n",
    ").squeeze().unstack(fill_value=0)\n",
    "# strain_corr = strain_by_species_corr.sel(species_id=species_id).to_series().unstack('strain')\n",
    "strain_depth = pd.read_table(\n",
    "    f'data_temp/sp-{species_id}.{stemA}.gtpro.{stemB}.midas_gene{centroid}.strain_depth_ratio.tsv',\n",
    "    index_col=['gene_id', 'strain']\n",
    ").squeeze().unstack()\n",
    "strain_corr, strain_depth = align_indexes(*align_indexes(strain_corr, strain_depth), axis=\"columns\")"
   ]
  },
  {
   "cell_type": "code",
   "execution_count": null,
   "metadata": {},
   "outputs": [],
   "source": [
    "sample_to_strain = (\n",
    "    (fit.community.data > 0.95)\n",
    "    .to_series()\n",
    "    .unstack()\n",
    "    .apply(idxwhere, axis=1)\n",
    "    [lambda x: x.apply(bool)]\n",
    "    .str[0]\n",
    "    .rename('strain')\n",
    ")\n",
    "    \n",
    "strain_to_sample_list = (\n",
    "    sample_to_strain\n",
    "    .rename('strain_id')\n",
    "    .reset_index()\n",
    "    .groupby('strain_id')\n",
    "    .apply(lambda x: x['sample'].to_list())\n",
    ")\n",
    "strain_to_sample_list.apply(len).sort_values(ascending=False).head()"
   ]
  },
  {
   "cell_type": "code",
   "execution_count": null,
   "metadata": {},
   "outputs": [],
   "source": [
    "# species_gene_corr_thresh = species_corr.sort_values(ascending=False).head(n_species_genes + 1).min()\n",
    "species_gene_list = idxwhere(species_corr.loc[strain_corr.index] > species_gene_corr_thresh)\n",
    "print(len(species_gene_list))"
   ]
  },
  {
   "cell_type": "code",
   "execution_count": null,
   "metadata": {},
   "outputs": [],
   "source": [
    "# strain_thresh = pd.read_table(\n",
    "#     f'data_temp/sp-{species_id}.{stemA}.gtpro.{stemB}.midas_gene{centroid}.strain_correlation_threshold.tsv',\n",
    "#     names=['strain_id', 'threshold'],\n",
    "#     index_col='strain_id',\n",
    "# ).loc[strain_corr.columns]\n",
    "plt.hist(species_corr, bins=np.linspace(0, 1, num=101))\n",
    "plt.axvline(species_gene_corr_thresh, linestyle=':', color='k')"
   ]
  },
  {
   "cell_type": "code",
   "execution_count": null,
   "metadata": {},
   "outputs": [],
   "source": [
    "strain_frac = pd.read_table(f'data_temp/sp-{species_id}.{stemA}.gtpro.{stemB}.comm.tsv', index_col=['sample', 'strain']).squeeze().unstack(fill_value=0)"
   ]
  },
  {
   "cell_type": "code",
   "execution_count": null,
   "metadata": {},
   "outputs": [],
   "source": [
    "plt.hist(np.log10(species_depth[species_depth > 0]), bins=np.linspace(-4, 4))\n",
    "plt.axvline(np.log10(1.0), linestyle=':', color='k')"
   ]
  },
  {
   "cell_type": "markdown",
   "metadata": {},
   "source": [
    "## MIDAS Genes, COGs, COG categories"
   ]
  },
  {
   "cell_type": "code",
   "execution_count": null,
   "metadata": {},
   "outputs": [],
   "source": [
    "gene_cluster = pd.read_table(\n",
    "    f'ref_temp/midasdb_uhgg/pangenomes/{species_id}/cluster_info.txt'\n",
    ").set_index('centroid_99', drop=False).rename_axis(index='gene_id')\n",
    "gene_annotation = pd.read_table(\n",
    "    f'ref_temp/midasdb_uhgg.sp-{species_id}.gene{centroid}_annotations.tsv',\n",
    "    names=['locus_tag', 'ftype', 'length_bp', 'gene', 'EC_number', 'COG', 'product'],\n",
    "    index_col='locus_tag',\n",
    ").rename(columns=str.lower)\n",
    "\n",
    "gene_meta = gene_cluster.loc[gene_cluster[f'centroid_{centroid}'].unique()].join(gene_annotation)"
   ]
  },
  {
   "cell_type": "code",
   "execution_count": null,
   "metadata": {},
   "outputs": [],
   "source": [
    "gene_cluster"
   ]
  },
  {
   "cell_type": "code",
   "execution_count": null,
   "metadata": {},
   "outputs": [],
   "source": [
    "_cog_meta = pd.read_table(\n",
    "    'ref/cog-20.meta.tsv',\n",
    "    names=['cog', 'categories', 'description', 'gene', 'pathway', '_1', '_2'],\n",
    "    index_col=['cog']\n",
    ")\n",
    "cog_meta = _cog_meta.drop(columns=['categories', '_1', '_2'])\n",
    "cog_x_category = _cog_meta.categories.apply(tuple).apply(pd.Series).unstack().to_frame(name='category').reset_index()[['cog', 'category']].dropna()"
   ]
  },
  {
   "cell_type": "code",
   "execution_count": null,
   "metadata": {},
   "outputs": [],
   "source": [
    "cog_category = pd.read_table('ref/cog-20.categories.tsv', names=['category', 'description'], index_col='category')"
   ]
  },
  {
   "cell_type": "markdown",
   "metadata": {},
   "source": [
    "## Genes"
   ]
  },
  {
   "cell_type": "code",
   "execution_count": null,
   "metadata": {},
   "outputs": [],
   "source": [
    "sample_depth = xr.load_dataarray(f'data_temp/sp-{species_id}.{stemA}.midas_gene{centroid}.depth.nc')"
   ]
  },
  {
   "cell_type": "markdown",
   "metadata": {},
   "source": [
    "## References"
   ]
  },
  {
   "cell_type": "code",
   "execution_count": null,
   "metadata": {},
   "outputs": [],
   "source": [
    "reference_meta = pd.read_table('ref_temp/uhgg_genomes_all_4644.tsv', index_col='Genome').rename_axis(index='genome_id')[lambda x: x.MGnify_accession == 'MGYG-HGUT-' + species_id[1:]].rename(lambda s: 'UHGG' + s[10:])\n",
    "reference_meta.head()"
   ]
  },
  {
   "cell_type": "code",
   "execution_count": null,
   "metadata": {},
   "outputs": [],
   "source": [
    "reference_gene = xr.load_dataarray(f'data_temp/sp-{species_id}.midas_gene{centroid}.reference_copy_number.nc')\n",
    "reference_gene = pd.DataFrame(reference_gene.T.values, index=reference_gene.gene_id, columns=reference_gene.genome_id)"
   ]
  },
  {
   "cell_type": "code",
   "execution_count": null,
   "metadata": {},
   "outputs": [],
   "source": [
    "isolate_gene = reference_gene[idxwhere(reference_meta.Genome_type == 'Isolate')]"
   ]
  },
  {
   "cell_type": "markdown",
   "metadata": {},
   "source": [
    "# Select strains, genes"
   ]
  },
  {
   "cell_type": "markdown",
   "metadata": {},
   "source": [
    "## QC Strains"
   ]
  },
  {
   "cell_type": "code",
   "execution_count": null,
   "metadata": {},
   "outputs": [],
   "source": [
    "strain_thresholds = (\n",
    "    pd.read_table(f'data_temp/sp-{species_id}.{stemA}.gtpro.{stemB}.midas_gene{centroid}.strain_gene_threshold.tsv', index_col='strain')\n",
    "    .rename(columns=dict(\n",
    "        correlation_strict='corr_threshold_strict',\n",
    "        correlation_moderate='corr_threshold_moderate',\n",
    "        correlation_lenient='corr_threshold_lenient',\n",
    "        depth_high='depth_thresh_high',\n",
    "        depth_low='depth_thresh_low',\n",
    "    ))\n",
    ")"
   ]
  },
  {
   "cell_type": "code",
   "execution_count": null,
   "metadata": {},
   "outputs": [],
   "source": [
    "_strain_meta = (\n",
    "    strain_thresholds\n",
    "    .join(fit.genotype.entropy().to_series().rename('genotype_entropy'))\n",
    "    .join(fit.metagenotype.entropy().to_series().rename('metagenotype_entropy').groupby(sample_to_strain).mean().rename(int))\n",
    "    .join(strain_to_sample_list.apply(len).rename('num_samples'))\n",
    "    .join(species_depth.apply(np.cbrt).groupby(sample_to_strain).std().rename('depth_stdev').rename(int))\n",
    "    .join(species_depth.apply(np.cbrt).groupby(sample_to_strain).max().rename('depth_max').rename(int))\n",
    "    .join(species_depth.apply(np.cbrt).groupby(sample_to_strain).sum().rename('depth_sum').rename(int))\n",
    "    .assign(power_index=lambda x: (x.depth_stdev * np.sqrt(x.num_samples)).fillna(0))\n",
    ")\n",
    "strain_meta = _strain_meta\n",
    "high_power_strain_list = idxwhere((strain_meta.power_index > 1.0) & (strain_meta.metagenotype_entropy < 0.05))\n",
    "print(len(high_power_strain_list))\n",
    "highest_power_strain_list = strain_meta.sort_values('power_index', ascending=False).head(3).index\n",
    "strain_meta.sort_values('num_samples', ascending=False)"
   ]
  },
  {
   "cell_type": "code",
   "execution_count": null,
   "metadata": {},
   "outputs": [],
   "source": [
    "plt.scatter('power_index', 'corr_threshold_lenient', data=strain_meta)"
   ]
  },
  {
   "cell_type": "code",
   "execution_count": null,
   "metadata": {},
   "outputs": [],
   "source": [
    "high_power_strain_palette = lib.plot.construct_ordered_palette(high_power_strain_list, mpl.cm.Spectral)"
   ]
  },
  {
   "cell_type": "markdown",
   "metadata": {},
   "source": [
    "## Select Genes"
   ]
  },
  {
   "cell_type": "code",
   "execution_count": null,
   "metadata": {},
   "outputs": [],
   "source": [
    "strict_corr_hit = strain_corr > strain_meta.corr_threshold_strict\n",
    "lenient_corr_hit = strain_corr > strain_meta.corr_threshold_lenient\n",
    "moderate_corr_hit = strain_corr > strain_meta.corr_threshold_moderate\n",
    "low_corr =  strain_corr < strain_meta.corr_threshold_lenient\n",
    "\n",
    "low_depth = (strain_depth < strain_meta.depth_thresh_low)\n",
    "depth_hit = ~low_depth\n",
    "high_depth = (strain_depth > strain_meta.depth_thresh_high)\n",
    "high_confidence_hit = depth_hit & strict_corr_hit\n",
    "moderate_hit = depth_hit & moderate_corr_hit\n",
    "maybe_hit = depth_hit & lenient_corr_hit\n",
    "low_depth_hit = low_depth & strict_corr_hit\n",
    "high_depth_hit = high_depth & strict_corr_hit\n",
    "ambiguous_hit = depth_hit ^ strict_corr_hit\n",
    "high_confidence_not_hit = low_depth & low_corr"
   ]
  },
  {
   "cell_type": "code",
   "execution_count": null,
   "metadata": {},
   "outputs": [],
   "source": [
    "high_confidence_hit[high_power_strain_list]"
   ]
  },
  {
   "cell_type": "code",
   "execution_count": null,
   "metadata": {},
   "outputs": [],
   "source": [
    "samples_with_high_power_strains = idxwhere(fit.community.data.sel(strain=high_power_strain_list).sum(\"strain\").to_series() > 0.5)\n",
    "samples_without_high_power_strains = idxwhere(fit.community.data.sel(strain=high_power_strain_list).sum(\"strain\").to_series() < 0.5)\n",
    "len(samples_with_high_power_strains), len(samples_without_high_power_strains)"
   ]
  },
  {
   "cell_type": "code",
   "execution_count": null,
   "metadata": {},
   "outputs": [],
   "source": [
    "sf.plot.plot_genotype(\n",
    "    fit.sel(strain=high_power_strain_list, position=position_ss),\n",
    "    col_linkage_func=lambda w: w.metagenotype.linkage(\"position\"),\n",
    "    row_linkage_func=lambda w: w.genotype.linkage(\"strain\"),\n",
    ")"
   ]
  },
  {
   "cell_type": "code",
   "execution_count": null,
   "metadata": {},
   "outputs": [],
   "source": [
    "sf.plot.plot_metagenotype(\n",
    "    fit.sel(sample=samples_with_high_power_strains, position=position_ss),\n",
    "    col_linkage_func=lambda w: w.metagenotype.linkage(),\n",
    "    row_linkage_func=lambda w: w.metagenotype.linkage(\"position\"),\n",
    "    col_colors=fit.sel(sample=samples_with_high_power_strains, position=position_ss).sample.to_series().map(sample_to_strain).map(high_power_strain_palette),\n",
    ")"
   ]
  },
  {
   "cell_type": "code",
   "execution_count": null,
   "metadata": {},
   "outputs": [],
   "source": [
    "sf.plot.plot_community(\n",
    "    fit.sel(sample=samples_with_high_power_strains, position=position_ss).drop_low_abundance_strains(0.05),\n",
    "    col_linkage_func=lambda w: w.metagenotype.linkage(),\n",
    "    row_linkage_func=lambda w: w.genotype.linkage(\"strain\"),\n",
    "    col_colors=fit.sel(sample=samples_with_high_power_strains, position=position_ss).sample.to_series().map(sample_to_strain).map(high_power_strain_palette),\n",
    ")"
   ]
  },
  {
   "cell_type": "code",
   "execution_count": null,
   "metadata": {},
   "outputs": [],
   "source": [
    "strain_list = high_power_strain_list\n",
    "gene_list = idxwhere(high_confidence_hit[strain_list].sum(1) > 0)\n",
    "\n",
    "x = strain_depth.loc[gene_list, strain_list]\n",
    "\n",
    "if len(gene_list) < 2e4:\n",
    "    sns.clustermap(\n",
    "        x,\n",
    "        metric='cosine',\n",
    "        norm=mpl.colors.SymLogNorm(linthresh=1e-4, vmin=0.1, vmax=10),\n",
    "        yticklabels=0,\n",
    "        xticklabels=0,\n",
    "        col_linkage=fit.genotype.sel(strain=strain_list).linkage(\"strain\"),\n",
    "    )\n",
    "else:\n",
    "    print(\"Too many genes for clustermap:\", len(gene_list))\n",
    "\n",
    "print(len(gene_list), len(gene_list) - gene_annotation.loc[gene_list]['product'].value_counts()['hypothetical protein'])\n",
    "print()\n",
    "print(\n",
    "    gene_annotation\n",
    "    .loc[gene_list]\n",
    "    .cog.to_frame()\n",
    "    .join(cog_meta, on='cog')\n",
    "    .pathway\n",
    "    .value_counts()\n",
    "    .sort_values(ascending=False)\n",
    "    .head(10)\n",
    ")\n",
    "print()\n",
    "print(\n",
    "    gene_meta\n",
    "    .loc[gene_list]\n",
    "    ['product']\n",
    "    .value_counts()\n",
    "    .head(10)\n",
    ")\n",
    "print()\n",
    "print(pd.merge(\n",
    "    gene_annotation.loc[gene_list].cog.dropna().to_frame(),\n",
    "    cog_x_category,\n",
    "    on='cog',\n",
    ").category.value_counts().to_frame().join(cog_category).head(10))"
   ]
  },
  {
   "cell_type": "code",
   "execution_count": null,
   "metadata": {},
   "outputs": [],
   "source": [
    "reference_freq = (reference_gene > 0).mean(1)\n",
    "\n",
    "freq = reference_freq\n",
    "hit = (freq > 0.5)\n",
    "score = hit.astype(int).pipe(lambda x: -np.log(freq * x + (1 - freq) * (1 - x)))\n",
    "min_presence_score = score[hit].sum()\n",
    "min_absence_score = score[~hit].sum()"
   ]
  },
  {
   "cell_type": "code",
   "execution_count": null,
   "metadata": {},
   "outputs": [],
   "source": [
    "freq = reference_freq\n",
    "hit = high_confidence_hit.reindex(reference_freq.index, fill_value=False)\n",
    "score = hit.astype(int).apply(lambda x: -np.log(freq * x + (1 - freq) * (1 - x)))\n",
    "presence_score = score[hit].sum()\n",
    "absence_score = score[~hit].sum()"
   ]
  },
  {
   "cell_type": "code",
   "execution_count": null,
   "metadata": {},
   "outputs": [],
   "source": [
    "d = strain_meta.assign(presence_score=presence_score, absence_score=absence_score, total_score=presence_score + absence_score)\n",
    "\n",
    "fig, axs = plt.subplots(3)\n",
    "for ax, score in zip(axs, ['presence_score', 'absence_score', 'total_score']):\n",
    "    ax.scatter('power_index', score, data=d)"
   ]
  },
  {
   "cell_type": "code",
   "execution_count": null,
   "metadata": {},
   "outputs": [],
   "source": [
    "d = strain_meta.assign(presence_score=presence_score, absence_score=absence_score, total_score=presence_score + absence_score)\n",
    "\n",
    "plt.scatter('presence_score', 'absence_score', data=d, c='power_index', norm=mpl.colors.PowerNorm(1/2))\n",
    "plt.scatter(min_presence_score, min_absence_score, color='black')\n",
    "plt.axvline(min_presence_score, color='black', lw=1, linestyle='--')\n",
    "plt.axhline(min_absence_score, color='black', lw=1, linestyle='--')\n",
    "plt.yscale('log')\n",
    "plt.xscale('log')"
   ]
  },
  {
   "cell_type": "code",
   "execution_count": null,
   "metadata": {},
   "outputs": [],
   "source": [
    "freq = reference_freq\n",
    "hit = (reference_gene > 0)\n",
    "score = hit.astype(int).apply(lambda x: -np.log(freq * x + (1 - freq) * (1 - x)))\n",
    "ref_presence_score = score[hit].sum()\n",
    "ref_absence_score = score[~hit].sum()"
   ]
  },
  {
   "cell_type": "code",
   "execution_count": null,
   "metadata": {},
   "outputs": [],
   "source": [
    "freq = reference_freq\n",
    "hit = moderate_hit.reindex(reference_freq.index, fill_value=False)\n",
    "score = hit.astype(int).apply(lambda x: -np.log(freq * x + (1 - freq) * (1 - x)))\n",
    "moderate_presence_score = score[hit].sum()\n",
    "moderate_absence_score = score[~hit].sum()"
   ]
  },
  {
   "cell_type": "code",
   "execution_count": null,
   "metadata": {},
   "outputs": [],
   "source": [
    "fig, axs = plt.subplots(ncols=2, figsize=(13, 5), sharex=True, sharey=True)\n",
    "\n",
    "d_ref = pd.DataFrame(dict(\n",
    "    presence_score=ref_presence_score,\n",
    "    absence_score=ref_absence_score,\n",
    "    total_score=ref_presence_score + ref_absence_score,\n",
    "))\n",
    "d = strain_meta.assign(\n",
    "    presence_score=presence_score,\n",
    "    absence_score=absence_score,\n",
    "    moderate_presence_score=moderate_presence_score,\n",
    "    moderate_absence_score=moderate_absence_score,\n",
    "    num_genes=high_confidence_hit.sum(),\n",
    ")\n",
    "\n",
    "for ax in axs[:2]:\n",
    "    ax.scatter('presence_score', 'absence_score', data=d_ref, color='k', s=1, alpha=0.1)\n",
    "    ax.scatter(min_presence_score, min_absence_score, color='black')\n",
    "    ax.axvline(min_presence_score, color='black', lw=1, linestyle='--')\n",
    "    ax.axhline(min_absence_score, color='black', lw=1, linestyle='--')\n",
    "\n",
    "for (x, y), ax in zip([('presence_score', 'absence_score'), ('moderate_presence_score', 'moderate_absence_score')], axs):\n",
    "    mapping = ax.scatter(x, y, data=d, c='power_index', norm=mpl.colors.PowerNorm(1/2))\n",
    "# ax.set_yscale('log')\n",
    "# ax.set_xscale('log')\n",
    "# fig.colorbar(mapping, cax=axs[2])"
   ]
  },
  {
   "cell_type": "code",
   "execution_count": null,
   "metadata": {},
   "outputs": [],
   "source": [
    "freq = reference_freq\n",
    "hit = maybe_hit.reindex(reference_freq.index, fill_value=False)\n",
    "score = hit.astype(int).apply(lambda x: -np.log(freq * x + (1 - freq) * (1 - x)))\n",
    "lenient_presence_score = score[hit].sum()\n",
    "lenient_absence_score = score[~hit].sum()"
   ]
  },
  {
   "cell_type": "code",
   "execution_count": null,
   "metadata": {},
   "outputs": [],
   "source": [
    "fig, axs = plt.subplots(ncols=3, figsize=(13, 5), sharex=True, sharey=True)\n",
    "\n",
    "d_ref = pd.DataFrame(dict(\n",
    "    presence_score=ref_presence_score,\n",
    "    absence_score=ref_absence_score,\n",
    "    total_score=ref_presence_score + ref_absence_score,\n",
    "))\n",
    "d = strain_meta.loc[high_power_strain_list].assign(\n",
    "    presence_score=presence_score,\n",
    "    absence_score=absence_score,\n",
    "    moderate_presence_score=moderate_presence_score,\n",
    "    moderate_absence_score=moderate_absence_score,\n",
    "    lenient_presence_score=lenient_presence_score,\n",
    "    lenient_absence_score=lenient_absence_score,\n",
    "    num_genes=high_confidence_hit.sum(),\n",
    ")\n",
    "\n",
    "for ax in axs:\n",
    "    ax.scatter('presence_score', 'absence_score', data=d_ref, color='k', s=1, alpha=0.1)\n",
    "    ax.scatter(min_presence_score, min_absence_score, color='black')\n",
    "    ax.axvline(min_presence_score, color='black', lw=1, linestyle='--')\n",
    "    ax.axhline(min_absence_score, color='black', lw=1, linestyle='--')\n",
    "\n",
    "for (x, y), ax in zip([\n",
    "    ('presence_score', 'absence_score'),\n",
    "    ('moderate_presence_score', 'moderate_absence_score'),\n",
    "    ('lenient_presence_score', 'lenient_absence_score'),\n",
    "], axs):\n",
    "    mapping = ax.scatter(x, y, data=d, c='power_index', norm=mpl.colors.PowerNorm(1/2))\n",
    "ax.set_yscale('log')\n",
    "ax.set_xscale('log')\n",
    "# fig.colorbar(mapping, cax=axs[2])"
   ]
  },
  {
   "cell_type": "code",
   "execution_count": null,
   "metadata": {},
   "outputs": [],
   "source": [
    "d = strain_meta.loc[high_power_strain_list].assign(\n",
    "    presence_score=presence_score,\n",
    "    absence_score=absence_score,\n",
    "    moderate_presence_score=moderate_presence_score,\n",
    "    moderate_absence_score=moderate_absence_score,\n",
    "    lenient_presence_score=lenient_presence_score,\n",
    "    lenient_absence_score=lenient_absence_score,\n",
    "    num_genes=high_confidence_hit.sum(),\n",
    ")\n",
    "\n",
    "plt.scatter('presence_score', 'moderate_presence_score', data=d, c='corr_threshold_strict', norm=mpl.colors.PowerNorm(1/2))\n",
    "plt.plot([0, 20000], [0, 20000])\n",
    "# plt.yscale('log')\n",
    "# plt.xscale('log')"
   ]
  },
  {
   "cell_type": "code",
   "execution_count": null,
   "metadata": {},
   "outputs": [],
   "source": [
    "d = strain_meta.loc[high_power_strain_list].assign(\n",
    "    presence_score=presence_score,\n",
    "    absence_score=absence_score,\n",
    "    moderate_presence_score=moderate_presence_score,\n",
    "    moderate_absence_score=moderate_absence_score,\n",
    "    lenient_presence_score=lenient_presence_score,\n",
    "    lenient_absence_score=lenient_absence_score,\n",
    "    num_genes=high_confidence_hit.sum(),\n",
    ")\n",
    "\n",
    "plt.scatter('absence_score', 'moderate_absence_score', data=d, c='corr_threshold_strict', norm=mpl.colors.PowerNorm(1/2))\n",
    "plt.plot([0, 5000], [0, 5000])\n",
    "# plt.yscale('log')\n",
    "# plt.xscale('log')"
   ]
  },
  {
   "cell_type": "code",
   "execution_count": null,
   "metadata": {},
   "outputs": [],
   "source": [
    "d"
   ]
  },
  {
   "cell_type": "code",
   "execution_count": null,
   "metadata": {},
   "outputs": [],
   "source": [
    "((~high_confidence_hit) & (maybe_hit)).sum()[high_power_strain_list]"
   ]
  }
 ],
 "metadata": {
  "kernelspec": {
   "display_name": "sfacts",
   "language": "python",
   "name": "sfacts"
  },
  "language_info": {
   "codemirror_mode": {
    "name": "ipython",
    "version": 3
   },
   "file_extension": ".py",
   "mimetype": "text/x-python",
   "name": "python",
   "nbconvert_exporter": "python",
   "pygments_lexer": "ipython3",
   "version": "3.10.6"
  }
 },
 "nbformat": 4,
 "nbformat_minor": 5
}