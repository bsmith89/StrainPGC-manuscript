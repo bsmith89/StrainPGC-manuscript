{
 "cells": [
  {
   "cell_type": "code",
   "execution_count": null,
   "metadata": {},
   "outputs": [],
   "source": [
    "%load_ext autoreload"
   ]
  },
  {
   "cell_type": "code",
   "execution_count": null,
   "metadata": {},
   "outputs": [],
   "source": [
    "import os as _os\n",
    "_os.chdir(_os.environ['PROJECT_ROOT'])\n",
    "_os.path.realpath(_os.path.curdir)"
   ]
  },
  {
   "cell_type": "code",
   "execution_count": null,
   "metadata": {},
   "outputs": [],
   "source": [
    "import pandas as pd\n",
    "import numpy as np\n",
    "import scipy as sp\n",
    "import matplotlib.pyplot as plt\n",
    "import seaborn as sns\n",
    "import xarray as xr\n",
    "from lib.pandas_util import idxwhere, align_indexes, invert_mapping\n",
    "import matplotlib as mpl\n",
    "import lib.plot\n",
    "import statsmodels as sm\n",
    "from statsmodels.stats.multitest import fdrcorrection\n",
    "from tqdm import tqdm\n",
    "import subprocess\n",
    "from tempfile import mkstemp\n",
    "import time\n",
    "import subprocess\n",
    "from itertools import chain"
   ]
  },
  {
   "cell_type": "code",
   "execution_count": null,
   "metadata": {},
   "outputs": [],
   "source": [
    "import sfacts as sf"
   ]
  },
  {
   "cell_type": "code",
   "execution_count": null,
   "metadata": {},
   "outputs": [],
   "source": [
    "sns.set_context('talk')\n",
    "plt.rcParams['figure.dpi'] = 75"
   ]
  },
  {
   "cell_type": "code",
   "execution_count": null,
   "metadata": {},
   "outputs": [],
   "source": [
    "# sns.set_context('talk')\n",
    "# plt.rcParams['figure.dpi'] = 100\n",
    "group = 'hmp2'\n",
    "centroid = 75\n",
    "stemA = 'r.proc'\n",
    "stemB = 'filt-poly05-cvrg05.ss-g10000-block0-seed0.fit-sfacts33-s80-seed0'\n",
    "# stemB = 'filt-poly05-cvrg05.ss-g10000-block0-seed0.approx-clust2-thresh05-s95'"
   ]
  },
  {
   "cell_type": "markdown",
   "metadata": {},
   "source": [
    "# Analysis Parameters"
   ]
  },
  {
   "cell_type": "code",
   "execution_count": null,
   "metadata": {},
   "outputs": [],
   "source": [
    "species_id = '102506'\n",
    "# depth_ratio_bound = 3\n",
    "# species_gene_corr_thresh = 0.99\n",
    "# n_species_genes = 2000\n",
    "species_gene_corr_thresh = 0.98"
   ]
  },
  {
   "cell_type": "markdown",
   "metadata": {},
   "source": [
    "# Prepare Data"
   ]
  },
  {
   "cell_type": "markdown",
   "metadata": {},
   "source": [
    "## Taxonomy"
   ]
  },
  {
   "cell_type": "code",
   "execution_count": null,
   "metadata": {},
   "outputs": [],
   "source": [
    "species_taxonomy = pd.read_table('ref/gtpro/species_taxonomy_ext.tsv', names=['genome_id', 'species_id', 'taxonomy_string']).assign(species_id=lambda x: x.species_id.astype(str)).set_index('species_id')[['taxonomy_string']].assign(taxonomy_split=lambda x: x.taxonomy_string.str.split(';'))\n",
    "\n",
    "for level_name, level_number in [('p__', 1), ('c__', 2), ('o__', 3), ('f__', 4), ('g__', 5), ('s__', 6)]:\n",
    "    species_taxonomy = species_taxonomy.assign(**{level_name: species_taxonomy.taxonomy_split.apply(lambda x: x[level_number])}) \n",
    "species_taxonomy = species_taxonomy.drop(columns=['taxonomy_split'])\n",
    "\n",
    "species_taxonomy.loc[species_id]"
   ]
  },
  {
   "cell_type": "code",
   "execution_count": null,
   "metadata": {},
   "outputs": [],
   "source": [
    "midasdb_genomes = pd.read_table('ref/midasdb_uhgg/genomes.tsv')"
   ]
  },
  {
   "cell_type": "code",
   "execution_count": null,
   "metadata": {},
   "outputs": [],
   "source": [
    "midasdb_genomes.species.value_counts()"
   ]
  },
  {
   "cell_type": "markdown",
   "metadata": {},
   "source": [
    "## Species"
   ]
  },
  {
   "cell_type": "code",
   "execution_count": null,
   "metadata": {},
   "outputs": [],
   "source": [
    "all_species_depth = pd.read_table(f'data/group/{group}/{stemA}.gtpro.species_depth.tsv', index_col=['sample', 'species_id']).squeeze().unstack('species_id', fill_value=0).rename(str, axis='columns')\n",
    "species_rabund = all_species_depth.divide(all_species_depth.sum(1), axis=0)"
   ]
  },
  {
   "cell_type": "code",
   "execution_count": null,
   "metadata": {},
   "outputs": [],
   "source": [
    "gtpro_species_depth = pd.read_table(f'data/group/{group}/species/sp-{species_id}/{stemA}.gtpro.species_depth.tsv', dtype=dict(sample=str, species_id=str, depth=float), index_col=['sample', 'species_id']).squeeze().unstack('species_id')"
   ]
  },
  {
   "cell_type": "code",
   "execution_count": null,
   "metadata": {},
   "outputs": [],
   "source": [
    "species_depth = pd.read_table(f'data/group/{group}/species/sp-{species_id}/{stemA}.midas_gene{centroid}.species_depth.tsv', names=['sample', 'depth'], index_col='sample').squeeze()"
   ]
  },
  {
   "cell_type": "code",
   "execution_count": null,
   "metadata": {},
   "outputs": [],
   "source": [
    "gene_depth = xr.load_dataarray(f'data/group/{group}/species/sp-{species_id}/{stemA}.midas_gene{centroid}.depth.nc').sel(sample=species_depth.index)"
   ]
  },
  {
   "cell_type": "code",
   "execution_count": null,
   "metadata": {},
   "outputs": [],
   "source": [
    "d = pd.DataFrame(dict(gtpro=gtpro_species_depth[species_id], midas=species_depth))\n",
    "\n",
    "plt.scatter('gtpro', 'midas', data=d, s=3, alpha=0.3)\n",
    "plt.plot([0, 1e2], [0, 1e2])\n",
    "plt.yscale('symlog', linthresh=1e-4)\n",
    "plt.xscale('symlog', linthresh=1e-4)"
   ]
  },
  {
   "cell_type": "code",
   "execution_count": null,
   "metadata": {},
   "outputs": [],
   "source": [
    "d = pd.DataFrame(dict(gtpro=gtpro_species_depth[species_id], midas=species_depth))\n",
    "\n",
    "plt.scatter('gtpro', 'midas', data=np.cbrt(d), s=3, alpha=0.3)\n",
    "# plt.plot([0, 1e2], [0, 1e2])\n",
    "# plt.yscale('symlog', linthresh=1e-4)\n",
    "# plt.xscale('symlog', linthresh=1e-4)"
   ]
  },
  {
   "cell_type": "code",
   "execution_count": null,
   "metadata": {},
   "outputs": [],
   "source": [
    "species_corr = pd.read_table(f'data/group/{group}/species/sp-{species_id}/{stemA}.midas_gene{centroid}.species_correlation.tsv', names=['sample', 'correlation'], index_col='sample').squeeze()"
   ]
  },
  {
   "cell_type": "markdown",
   "metadata": {},
   "source": [
    "## Metadata"
   ]
  },
  {
   "cell_type": "code",
   "execution_count": null,
   "metadata": {},
   "outputs": [],
   "source": [
    "mgen = pd.read_table('meta/hmp2/mgen.tsv', index_col='library_id')\n",
    "preparation = pd.read_table('meta/hmp2/preparation.tsv', index_col='preparation_id')\n",
    "stool = pd.read_table('meta/hmp2/stool.tsv', index_col='stool_id')\n",
    "subject = pd.read_table('meta/hmp2/subject.tsv', index_col='subject_id')\n",
    "\n",
    "sample_meta = mgen.join(preparation, on='preparation_id', rsuffix='_').join(stool, on='stool_id').join(subject, on='subject_id').loc[all_species_depth.index]"
   ]
  },
  {
   "cell_type": "code",
   "execution_count": null,
   "metadata": {},
   "outputs": [],
   "source": [
    "len(sample_meta.stool_id.unique()), len(sample_meta.subject_id.unique())"
   ]
  },
  {
   "cell_type": "markdown",
   "metadata": {},
   "source": [
    "## Strains"
   ]
  },
  {
   "cell_type": "code",
   "execution_count": null,
   "metadata": {},
   "outputs": [],
   "source": [
    "fit = sf.World.load(\n",
    "    f'data/group/{group}/species/sp-{species_id}/{stemA}.gtpro.{stemB}.world.nc'\n",
    ").drop_low_abundance_strains(0.05)\n",
    "print(fit.sizes)\n",
    "\n",
    "np.random.seed(0)\n",
    "position_ss = fit.random_sample(position=min(fit.sizes['position'], 1000)).position"
   ]
  },
  {
   "cell_type": "code",
   "execution_count": null,
   "metadata": {},
   "outputs": [],
   "source": [
    "strain_corr = pd.read_table(\n",
    "    f'data/group/{group}/species/sp-{species_id}/{stemA}.gtpro.{stemB}.midas_gene{centroid}.strain_correlation.tsv',\n",
    "    index_col=['gene_id', 'strain']\n",
    ").squeeze().unstack(fill_value=0)\n",
    "# strain_corr = strain_by_species_corr.sel(species_id=species_id).to_series().unstack('strain')\n",
    "strain_depth = pd.read_table(\n",
    "    f'data/group/{group}/species/sp-{species_id}/{stemA}.gtpro.{stemB}.midas_gene{centroid}.strain_depth_ratio.tsv',\n",
    "    index_col=['gene_id', 'strain']\n",
    ").squeeze().unstack()\n",
    "strain_corr, strain_depth = align_indexes(*align_indexes(strain_corr, strain_depth), axis=\"columns\")"
   ]
  },
  {
   "cell_type": "code",
   "execution_count": null,
   "metadata": {},
   "outputs": [],
   "source": [
    "sample_to_strain = (\n",
    "    (fit.community.data > 0.95)\n",
    "    .to_series()\n",
    "    .unstack()\n",
    "    .apply(idxwhere, axis=1)\n",
    "    [lambda x: x.apply(bool)]\n",
    "    .str[0]\n",
    "    .rename('strain')\n",
    ")\n",
    "    \n",
    "strain_to_sample_list = (\n",
    "    sample_to_strain\n",
    "    .rename('strain_id')\n",
    "    .reset_index()\n",
    "    .groupby('strain_id')\n",
    "    .apply(lambda x: x['sample'].to_list())\n",
    ")\n",
    "strain_to_sample_list.apply(len).sort_values(ascending=False).head()"
   ]
  },
  {
   "cell_type": "code",
   "execution_count": null,
   "metadata": {},
   "outputs": [],
   "source": [
    "# species_gene_corr_thresh = species_corr.sort_values(ascending=False).head(n_species_genes + 1).min()\n",
    "species_gene_list = idxwhere(species_corr.loc[strain_corr.index] > species_gene_corr_thresh)\n",
    "print(len(species_gene_list))"
   ]
  },
  {
   "cell_type": "code",
   "execution_count": null,
   "metadata": {},
   "outputs": [],
   "source": [
    "# strain_thresh = pd.read_table(\n",
    "#     f'data_temp/sp-{species_id}.{stemA}.gtpro.{stemB}.midas_gene{centroid}.strain_correlation_threshold.tsv',\n",
    "#     names=['strain_id', 'threshold'],\n",
    "#     index_col='strain_id',\n",
    "# ).loc[strain_corr.columns]\n",
    "plt.hist(species_corr, bins=np.linspace(0, 1, num=101))\n",
    "plt.axvline(species_gene_corr_thresh, linestyle=':', color='k')\n",
    "plt.yscale('log')"
   ]
  },
  {
   "cell_type": "code",
   "execution_count": null,
   "metadata": {},
   "outputs": [],
   "source": [
    "strain_frac = pd.read_table(f'data/group/{group}/species/sp-{species_id}/{stemA}.gtpro.{stemB}.comm.tsv', index_col=['sample', 'strain']).squeeze().unstack(fill_value=0)"
   ]
  },
  {
   "cell_type": "code",
   "execution_count": null,
   "metadata": {},
   "outputs": [],
   "source": [
    "plt.hist(np.log10(species_depth[species_depth > 0]), bins=np.linspace(-4, 4))\n",
    "plt.axvline(np.log10(1.0), linestyle=':', color='k')"
   ]
  },
  {
   "cell_type": "markdown",
   "metadata": {},
   "source": [
    "## MIDAS Genes, COGs COG categories"
   ]
  },
  {
   "cell_type": "code",
   "execution_count": null,
   "metadata": {},
   "outputs": [],
   "source": [
    "gene_cluster = pd.read_table(\n",
    "    f'ref/midasdb_uhgg/pangenomes/{species_id}/cluster_info.txt'\n",
    ").set_index('centroid_99', drop=False).rename_axis(index='gene_id')\n",
    "gene_annotation = pd.read_table(\n",
    "    f'ref/midasdb_uhgg_gene_annotations/sp-{species_id}.gene{centroid}_annotations.tsv',\n",
    "    names=['locus_tag', 'ftype', 'length_bp', 'gene', 'EC_number', 'COG', 'product'],\n",
    "    index_col='locus_tag',\n",
    ").rename(columns=str.lower)\n",
    "\n",
    "gene_meta = gene_cluster.loc[gene_cluster[f'centroid_{centroid}'].unique()].join(gene_annotation)"
   ]
  },
  {
   "cell_type": "code",
   "execution_count": null,
   "metadata": {},
   "outputs": [],
   "source": [
    "gene_cluster"
   ]
  },
  {
   "cell_type": "code",
   "execution_count": null,
   "metadata": {},
   "outputs": [],
   "source": [
    "_cog_meta = pd.read_table(\n",
    "    'ref/cog-20.meta.tsv',\n",
    "    names=['cog', 'categories', 'description', 'gene', 'pathway', '_1', '_2'],\n",
    "    index_col=['cog']\n",
    ")\n",
    "cog_meta = _cog_meta.drop(columns=['categories', '_1', '_2'])\n",
    "cog_x_category = _cog_meta.categories.apply(tuple).apply(pd.Series).unstack().to_frame(name='category').reset_index()[['cog', 'category']].dropna()"
   ]
  },
  {
   "cell_type": "code",
   "execution_count": null,
   "metadata": {},
   "outputs": [],
   "source": [
    "cog_category = pd.read_table('ref/cog-20.categories.tsv', names=['category', 'description'], index_col='category')"
   ]
  },
  {
   "cell_type": "markdown",
   "metadata": {},
   "source": [
    "## Genes"
   ]
  },
  {
   "cell_type": "markdown",
   "metadata": {},
   "source": [
    "## References"
   ]
  },
  {
   "cell_type": "code",
   "execution_count": null,
   "metadata": {},
   "outputs": [],
   "source": [
    "reference_meta = pd.read_table('ref/uhgg_genomes_all_4644.tsv', index_col='Genome').rename_axis(index='genome_id')[lambda x: x.MGnify_accession == 'MGYG-HGUT-' + species_id[1:]].rename(lambda s: 'UHGG' + s[10:])\n",
    "reference_meta.head()"
   ]
  },
  {
   "cell_type": "code",
   "execution_count": null,
   "metadata": {},
   "outputs": [],
   "source": [
    "reference_gene = xr.load_dataarray(f'ref/midasdb_uhgg_pangenomes/{species_id}/midas_gene{centroid}.reference_copy_number.nc')\n",
    "reference_gene = pd.DataFrame(reference_gene.T.values, index=reference_gene.gene_id, columns=reference_gene.genome_id)"
   ]
  },
  {
   "cell_type": "code",
   "execution_count": null,
   "metadata": {},
   "outputs": [],
   "source": [
    "isolate_gene = reference_gene[idxwhere(reference_meta.Genome_type == 'Isolate')]"
   ]
  },
  {
   "cell_type": "markdown",
   "metadata": {},
   "source": [
    "# QC Strains"
   ]
  },
  {
   "cell_type": "code",
   "execution_count": null,
   "metadata": {},
   "outputs": [],
   "source": [
    "strain_thresholds = (\n",
    "    pd.read_table(f\"data/group/{group}/species/sp-{species_id}/{stemA}.gtpro.{stemB}.midas_gene{centroid}.strain_gene_threshold.tsv\", index_col='strain')\n",
    "    .rename(columns=dict(\n",
    "        correlation_strict='corr_threshold_strict',\n",
    "        correlation_moderate='corr_threshold_moderate',\n",
    "        correlation_lenient='corr_threshold_lenient',\n",
    "        depth_high='depth_thresh_high',\n",
    "        depth_low='depth_thresh_low',\n",
    "    ))\n",
    ")"
   ]
  },
  {
   "cell_type": "code",
   "execution_count": null,
   "metadata": {},
   "outputs": [],
   "source": [
    "_strain_meta = (\n",
    "    strain_thresholds\n",
    "    .join(fit.genotype.entropy().to_series().rename('genotype_entropy'))\n",
    "    .join(fit.metagenotype.entropy().to_series().rename('metagenotype_entropy').groupby(sample_to_strain).mean().rename(int))\n",
    "    .join(strain_to_sample_list.apply(len).rename('num_samples'))\n",
    "    .join(species_depth.apply(np.cbrt).groupby(sample_to_strain).std().rename('depth_stdev').rename(int))\n",
    "    .join(species_depth.apply(np.cbrt).groupby(sample_to_strain).max().rename('depth_max').rename(int))\n",
    "    .join(species_depth.apply(np.cbrt).groupby(sample_to_strain).sum().rename('depth_sum').rename(int))\n",
    "    .assign(power_index=lambda x: (x.depth_stdev * np.sqrt(x.num_samples)).fillna(0))\n",
    ")\n",
    "strain_meta = _strain_meta\n",
    "high_power_strain_list = idxwhere((strain_meta.power_index > 1.0) & (strain_meta.metagenotype_entropy < 0.05))\n",
    "print(len(high_power_strain_list))\n",
    "highest_power_strain_list = strain_meta.sort_values('power_index', ascending=False).head(3).index\n",
    "strain_meta.sort_values('num_samples', ascending=False)"
   ]
  },
  {
   "cell_type": "markdown",
   "metadata": {},
   "source": [
    "# Select Genes"
   ]
  },
  {
   "cell_type": "code",
   "execution_count": null,
   "metadata": {},
   "outputs": [],
   "source": [
    "strict_corr_hit = strain_corr > strain_meta.corr_threshold_strict\n",
    "lenient_corr_hit = strain_corr > strain_meta.corr_threshold_lenient\n",
    "moderate_corr_hit = strain_corr > strain_meta.corr_threshold_moderate\n",
    "low_corr =  strain_corr < strain_meta.corr_threshold_lenient\n",
    "\n",
    "low_depth = (strain_depth < strain_meta.depth_thresh_low)\n",
    "depth_hit = ~low_depth\n",
    "high_depth = (strain_depth > strain_meta.depth_thresh_high)\n",
    "high_confidence_hit = depth_hit & strict_corr_hit\n",
    "moderate_hit = depth_hit & moderate_corr_hit\n",
    "maybe_hit = depth_hit & lenient_corr_hit\n",
    "low_depth_hit = low_depth & strict_corr_hit\n",
    "high_depth_hit = high_depth & strict_corr_hit\n",
    "ambiguous_hit = depth_hit ^ strict_corr_hit\n",
    "high_confidence_not_hit = low_depth & low_corr"
   ]
  },
  {
   "cell_type": "code",
   "execution_count": null,
   "metadata": {},
   "outputs": [],
   "source": [
    "high_confidence_hit[high_power_strain_list]"
   ]
  },
  {
   "cell_type": "code",
   "execution_count": null,
   "metadata": {},
   "outputs": [],
   "source": [
    "samples_with_high_power_strains = idxwhere(fit.community.data.sel(strain=high_power_strain_list).sum(\"strain\").to_series() > 0.5)\n",
    "samples_without_high_power_strains = idxwhere(fit.community.data.sel(strain=high_power_strain_list).sum(\"strain\").to_series() < 0.5)\n",
    "len(samples_with_high_power_strains), len(samples_without_high_power_strains)"
   ]
  },
  {
   "cell_type": "code",
   "execution_count": null,
   "metadata": {},
   "outputs": [],
   "source": [
    "sf.plot.plot_genotype(\n",
    "    fit.sel(strain=high_power_strain_list, position=position_ss),\n",
    "    col_linkage_func=lambda w: w.metagenotype.linkage(\"position\"),\n",
    "    row_linkage_func=lambda w: w.genotype.linkage(\"strain\"),\n",
    ")"
   ]
  },
  {
   "cell_type": "code",
   "execution_count": null,
   "metadata": {},
   "outputs": [],
   "source": [
    "sf.plot.plot_metagenotype(\n",
    "    fit.sel(sample=samples_with_high_power_strains, position=position_ss),\n",
    "    col_linkage_func=lambda w: w.metagenotype.linkage(),\n",
    "    row_linkage_func=lambda w: w.metagenotype.linkage(\"position\"),\n",
    ")"
   ]
  },
  {
   "cell_type": "code",
   "execution_count": null,
   "metadata": {},
   "outputs": [],
   "source": [
    "sf.plot.plot_community(\n",
    "    fit.sel(sample=samples_with_high_power_strains, position=position_ss).drop_low_abundance_strains(0.05),\n",
    "    col_linkage_func=lambda w: w.metagenotype.linkage(),\n",
    "    row_linkage_func=lambda w: w.genotype.linkage(\"strain\"),\n",
    ")"
   ]
  },
  {
   "cell_type": "markdown",
   "metadata": {},
   "source": [
    "# Phylogenetic conservation"
   ]
  },
  {
   "cell_type": "code",
   "execution_count": null,
   "metadata": {},
   "outputs": [],
   "source": [
    "strain_list = high_power_strain_list\n",
    "\n",
    "m = gene_meta.join(cog_meta, on='cog', rsuffix='_cog')\n",
    "x = high_confidence_hit[strain_list]\n",
    "fdist = pd.DataFrame(sp.spatial.distance.squareform(sp.spatial.distance.pdist(x.T, metric='jaccard')), index=x.columns, columns=x.columns)\n",
    "\n",
    "gdist = fit.genotype.sel(strain=strain_list).pdist()\n",
    "\n",
    "d = pd.DataFrame(dict(\n",
    "    genotype_distance=sp.spatial.distance.squareform(gdist),\n",
    "    gene_content_distance=sp.spatial.distance.squareform(fdist)\n",
    "))\n",
    "plt.scatter('genotype_distance', 'gene_content_distance', data=d, s=5)\n",
    "sp.stats.spearmanr(d.genotype_distance, d.gene_content_distance)"
   ]
  },
  {
   "cell_type": "code",
   "execution_count": null,
   "metadata": {},
   "outputs": [],
   "source": [
    "strain_list = high_power_strain_list\n",
    "\n",
    "m = gene_meta.join(cog_meta, on='cog', rsuffix='_cog')\n",
    "x = high_confidence_hit[strain_list].groupby(m.cog).any()\n",
    "fdist = pd.DataFrame(sp.spatial.distance.squareform(sp.spatial.distance.pdist(x.T, metric='jaccard')), index=x.columns, columns=x.columns)\n",
    "\n",
    "gdist = fit.genotype.sel(strain=strain_list).pdist()\n",
    "\n",
    "d = pd.DataFrame(dict(\n",
    "    genotype_distance=sp.spatial.distance.squareform(gdist),\n",
    "    gene_content_distance=sp.spatial.distance.squareform(fdist)\n",
    "))\n",
    "plt.scatter('genotype_distance', 'gene_content_distance', data=d, s=5)\n",
    "sp.stats.spearmanr(d.genotype_distance, d.gene_content_distance)"
   ]
  },
  {
   "cell_type": "code",
   "execution_count": null,
   "metadata": {},
   "outputs": [],
   "source": [
    "strain_list = high_power_strain_list\n",
    "\n",
    "m = gene_meta.join(cog_meta, on='cog', rsuffix='_cog')\n",
    "x = high_confidence_hit[strain_list].groupby(m.pathway).any()\n",
    "fdist = pd.DataFrame(sp.spatial.distance.squareform(sp.spatial.distance.pdist(x.T, metric='jaccard')), index=x.columns, columns=x.columns)\n",
    "\n",
    "gdist = fit.genotype.sel(strain=strain_list).pdist()\n",
    "\n",
    "d = pd.DataFrame(dict(\n",
    "    genotype_distance=sp.spatial.distance.squareform(gdist),\n",
    "    gene_content_distance=sp.spatial.distance.squareform(fdist)\n",
    "))\n",
    "plt.scatter('genotype_distance', 'gene_content_distance', data=d, s=5)\n",
    "sp.stats.spearmanr(d.genotype_distance, d.gene_content_distance)"
   ]
  },
  {
   "cell_type": "code",
   "execution_count": null,
   "metadata": {},
   "outputs": [],
   "source": [
    "strain_list = high_power_strain_list\n",
    "\n",
    "tally_cog_category_reps = pd.merge(\n",
    "    gene_meta.loc[idxwhere(high_confidence_hit[strain_list].any(1))].cog.value_counts().reset_index().rename(columns=dict(index='cog', cog='tally')),\n",
    "    cog_x_category,\n",
    "    on='cog'\n",
    ").groupby('category').tally.sum().sort_values(ascending=False)\n",
    "tally_cog_category_reps"
   ]
  },
  {
   "cell_type": "code",
   "execution_count": null,
   "metadata": {},
   "outputs": [],
   "source": [
    "fig, axs = plt.subplots(5, 3, figsize=(15, 19), sharex=True, sharey=True)\n",
    "\n",
    "for this_cog_category, ax in zip(tally_cog_category_reps.index, axs.flatten()):\n",
    "    ax.set_title(this_cog_category)\n",
    "    strain_list = high_power_strain_list\n",
    "    cog_list = cog_x_category[cog_x_category.category == this_cog_category].cog.unique()\n",
    "    gene_list = gene_meta.cog.isin(cog_list)\n",
    "\n",
    "    x = high_confidence_hit.loc[gene_list, strain_list]\n",
    "    fdist = pd.DataFrame(sp.spatial.distance.squareform(sp.spatial.distance.pdist(x.T, metric='jaccard')), index=x.columns, columns=x.columns)\n",
    "\n",
    "    gdist = fit.genotype.sel(strain=strain_list).pdist()\n",
    "\n",
    "    d = pd.DataFrame(dict(\n",
    "        genotype_distance=sp.spatial.distance.squareform(gdist),\n",
    "        gene_content_distance=sp.spatial.distance.squareform(fdist)\n",
    "    ))\n",
    "    ax.scatter('genotype_distance', 'gene_content_distance', data=d, s=5)\n",
    "    ax.annotate(np.round(sp.stats.spearmanr(d.genotype_distance, d.gene_content_distance)[0], 2), xy=(0.8, 0.9), xycoords='axes fraction')\n",
    "    ax.annotate(int(x.mean(1).sum()), xy=(0.8, 0.7), xycoords='axes fraction')\n",
    "    ax.annotate(cog_category.loc[this_cog_category].description, xy=(0.0, 0.8), xycoords='axes fraction')"
   ]
  },
  {
   "cell_type": "code",
   "execution_count": null,
   "metadata": {},
   "outputs": [],
   "source": [
    "strain_list = high_power_strain_list\n",
    "gene_list = idxwhere((moderate_hit[strain_list].mean(1) > 0.2) & (high_confidence_not_hit[strain_list].mean(1) > 0.2))\n",
    "\n",
    "m = gene_meta.join(cog_meta, on='cog', rsuffix='_cog')\n",
    "x = high_confidence_hit.loc[gene_list, strain_list]\n",
    "\n",
    "fdist = pd.DataFrame(sp.spatial.distance.squareform(sp.spatial.distance.pdist(x.T, metric='jaccard')), index=x.columns, columns=x.columns)\n",
    "gdist = fit.genotype.sel(strain=strain_list).pdist()\n",
    "\n",
    "d = pd.DataFrame(dict(\n",
    "    genotype_distance=sp.spatial.distance.squareform(gdist),\n",
    "    gene_content_distance=sp.spatial.distance.squareform(fdist)\n",
    "))\n",
    "plt.scatter('genotype_distance', 'gene_content_distance', data=d, s=5)\n",
    "sp.stats.spearmanr(d.genotype_distance, d.gene_content_distance)"
   ]
  },
  {
   "cell_type": "code",
   "execution_count": null,
   "metadata": {},
   "outputs": [],
   "source": [
    "strain_list = high_power_strain_list\n",
    "gene_list = idxwhere(moderate_hit[strain_list].mean(1) > 0.7)\n",
    "\n",
    "x = strain_depth.loc[gene_list, strain_list]\n",
    "\n",
    "if len(gene_list) < 2e4:\n",
    "    sns.clustermap(\n",
    "        x,\n",
    "        metric='cosine',\n",
    "        norm=mpl.colors.SymLogNorm(linthresh=1e-4, vmin=0.1, vmax=10),\n",
    "        yticklabels=0,\n",
    "        xticklabels=0,\n",
    "        col_linkage=fit.genotype.sel(strain=strain_list).linkage(\"strain\"),\n",
    "    )\n",
    "else:\n",
    "    print(\"Too many genes for clustermap:\", len(gene_list))\n",
    "\n",
    "print(len(gene_list), len(gene_list) - gene_annotation.loc[gene_list]['product'].value_counts()['hypothetical protein'])\n",
    "print()\n",
    "print(\n",
    "    gene_annotation\n",
    "    .loc[gene_list]\n",
    "    .cog.to_frame()\n",
    "    .join(cog_meta, on='cog')\n",
    "    .pathway\n",
    "    .value_counts()\n",
    "    .sort_values(ascending=False)\n",
    "    .head(10)\n",
    ")\n",
    "print()\n",
    "print(\n",
    "    gene_meta\n",
    "    .loc[gene_list]\n",
    "    ['product']\n",
    "    .value_counts()\n",
    "    .head(10)\n",
    ")\n",
    "print()\n",
    "print(pd.merge(\n",
    "    gene_annotation.loc[gene_list].cog.dropna().to_frame(),\n",
    "    cog_x_category,\n",
    "    on='cog',\n",
    ").category.value_counts().to_frame().join(cog_category).head(10))"
   ]
  },
  {
   "cell_type": "code",
   "execution_count": null,
   "metadata": {},
   "outputs": [],
   "source": [
    "strain_list = high_power_strain_list\n",
    "gene_list = idxwhere((moderate_hit[strain_list].mean(1) > 0.05) & (high_confidence_not_hit[strain_list].mean(1) > 0.2))\n",
    "\n",
    "x = strain_depth.loc[gene_list, strain_list]\n",
    "\n",
    "if len(gene_list) < 2e4:\n",
    "    sns.clustermap(\n",
    "        x,\n",
    "        metric='cosine',\n",
    "        norm=mpl.colors.SymLogNorm(linthresh=1e-4, vmin=0.1, vmax=10),\n",
    "        yticklabels=0,\n",
    "        xticklabels=0,\n",
    "        col_linkage=fit.genotype.sel(strain=strain_list).linkage(\"strain\"),\n",
    "    )\n",
    "else:\n",
    "    print(\"Too many genes for clustermap:\", len(gene_list))\n",
    "\n",
    "print(len(gene_list), len(gene_list) - gene_annotation.loc[gene_list]['product'].value_counts()['hypothetical protein'])\n",
    "print()\n",
    "print(\n",
    "    gene_annotation\n",
    "    .loc[gene_list]\n",
    "    .cog.to_frame()\n",
    "    .join(cog_meta, on='cog')\n",
    "    .pathway\n",
    "    .value_counts()\n",
    "    .sort_values(ascending=False)\n",
    "    .head(10)\n",
    ")\n",
    "print()\n",
    "print(\n",
    "    gene_meta\n",
    "    .loc[gene_list]\n",
    "    ['product']\n",
    "    .value_counts()\n",
    "    .head(10)\n",
    ")\n",
    "print()\n",
    "print(pd.merge(\n",
    "    gene_annotation.loc[gene_list].cog.dropna().to_frame(),\n",
    "    cog_x_category,\n",
    "    on='cog',\n",
    ").category.value_counts().to_frame().join(cog_category).head(10))"
   ]
  },
  {
   "cell_type": "code",
   "execution_count": null,
   "metadata": {},
   "outputs": [],
   "source": [
    "strain_list = high_power_strain_list\n",
    "gene_list = idxwhere(high_depth_hit[strain_list].mean(1) > 0.1)\n",
    "\n",
    "x = strain_depth.loc[gene_list, strain_list]\n",
    "\n",
    "if len(gene_list) < 2e4:\n",
    "    sns.clustermap(\n",
    "        x,\n",
    "        metric='cosine',\n",
    "        norm=mpl.colors.SymLogNorm(linthresh=1e-4, vmin=0.1, vmax=10),\n",
    "        yticklabels=0,\n",
    "        xticklabels=0,\n",
    "        col_linkage=fit.genotype.sel(strain=strain_list).linkage(\"strain\"),\n",
    "    )\n",
    "else:\n",
    "    print(\"Too many genes for clustermap:\", len(gene_list))\n",
    "\n",
    "print(len(gene_list), len(gene_list) - gene_annotation.loc[gene_list]['product'].value_counts()['hypothetical protein'])\n",
    "print()\n",
    "print(\n",
    "    gene_annotation\n",
    "    .loc[gene_list]\n",
    "    .cog.to_frame()\n",
    "    .join(cog_meta, on='cog')\n",
    "    .pathway\n",
    "    .value_counts()\n",
    "    .sort_values(ascending=False)\n",
    "    .head(10)\n",
    ")\n",
    "print()\n",
    "print(\n",
    "    gene_meta\n",
    "    .loc[gene_list]\n",
    "    ['product']\n",
    "    .value_counts()\n",
    "    .head(10)\n",
    ")\n",
    "print()\n",
    "print(pd.merge(\n",
    "    gene_annotation.loc[gene_list].cog.dropna().to_frame(),\n",
    "    cog_x_category,\n",
    "    on='cog',\n",
    ").category.value_counts().to_frame().join(cog_category).head(10))"
   ]
  },
  {
   "cell_type": "code",
   "execution_count": null,
   "metadata": {},
   "outputs": [],
   "source": [
    "strain_list = high_power_strain_list\n",
    "gene_list = idxwhere(high_confidence_hit[strain_list].mean(1) > 0.05)\n",
    "\n",
    "m = gene_meta.join(cog_meta, on='cog', rsuffix='_cog')\n",
    "x = high_confidence_hit.loc[gene_list, strain_list]\n",
    "\n",
    "fdist = pd.DataFrame(sp.spatial.distance.squareform(sp.spatial.distance.pdist(x.T, metric='jaccard')), index=x.columns, columns=x.columns)\n",
    "gdist = fit.genotype.sel(strain=strain_list).pdist()\n",
    "\n",
    "d = pd.DataFrame(dict(\n",
    "    genotype_distance=sp.spatial.distance.squareform(gdist),\n",
    "    gene_content_distance=sp.spatial.distance.squareform(fdist)\n",
    "))\n",
    "plt.scatter('genotype_distance', 'gene_content_distance', data=d, s=5)\n",
    "sp.stats.spearmanr(d.genotype_distance, d.gene_content_distance)"
   ]
  },
  {
   "cell_type": "code",
   "execution_count": null,
   "metadata": {},
   "outputs": [],
   "source": [
    "strain_list = high_power_strain_list\n",
    "gene_list = idxwhere(moderate_hit[strain_list].mean(1) > 0.05)\n",
    "\n",
    "m = gene_meta.join(cog_meta, on='cog', rsuffix='_cog')\n",
    "x = moderate_hit.loc[gene_list, strain_list]\n",
    "\n",
    "fdist = pd.DataFrame(sp.spatial.distance.squareform(sp.spatial.distance.pdist(x.T, metric='jaccard')), index=x.columns, columns=x.columns)\n",
    "gdist = fit.genotype.sel(strain=strain_list).pdist()\n",
    "\n",
    "d = pd.DataFrame(dict(\n",
    "    genotype_distance=sp.spatial.distance.squareform(gdist),\n",
    "    gene_content_distance=sp.spatial.distance.squareform(fdist)\n",
    "))\n",
    "plt.scatter('genotype_distance', 'gene_content_distance', data=d, s=5)\n",
    "sp.stats.spearmanr(d.genotype_distance, d.gene_content_distance)"
   ]
  },
  {
   "cell_type": "code",
   "execution_count": null,
   "metadata": {},
   "outputs": [],
   "source": [
    "cog_to_category_list = (\n",
    "    cog_x_category\n",
    "    .groupby('cog')\n",
    "    .apply(lambda x: list(x.category.unique()))\n",
    "    .to_frame(\"categories\")\n",
    "    .assign(\n",
    "        num_categories=lambda x: x.categories.str.len(),\n",
    "        first_category=lambda x: x.categories.str[0]\n",
    "    )\n",
    ")\n",
    "cog_to_category_list.loc[idxwhere(cog_to_category_list.num_categories > 1)]\n",
    "cog_to_category = cog_to_category_list.first_category\n",
    "cog_category_order = cog_to_category.unique()\n",
    "cog_category_palette = lib.plot.construct_ordered_palette(cog_category_order)"
   ]
  },
  {
   "cell_type": "code",
   "execution_count": null,
   "metadata": {},
   "outputs": [],
   "source": []
  },
  {
   "cell_type": "code",
   "execution_count": null,
   "metadata": {},
   "outputs": [],
   "source": [
    "strain_list = high_power_strain_list\n",
    "gene_list = idxwhere((moderate_hit & ~high_depth_hit)[strain_list].mean(1) > 0.15)\n",
    "\n",
    "x = strain_depth.loc[gene_list, strain_list]\n",
    "\n",
    "if len(gene_list) < 2e4:\n",
    "    sns.clustermap(\n",
    "        x,\n",
    "        metric='cosine',\n",
    "        norm=mpl.colors.SymLogNorm(linthresh=1e-4, vmin=0.1, vmax=10),\n",
    "        yticklabels=0,\n",
    "        xticklabels=0,\n",
    "        # row_colors=x.index.to_series().map(gene_annotation.cog).map(cog_to_category).map(cog_category_palette),\n",
    "        col_linkage=fit.genotype.sel(strain=strain_list).linkage(\"strain\"),\n",
    "        cbar_pos=(0.05, 0.95, 0.1, 0.05), cbar_kws=dict(orientation='horizontal'),\n",
    "        \n",
    "    )\n",
    "else:\n",
    "    print(\"Too many genes for clustermap:\", len(gene_list))\n",
    "\n",
    "print(len(gene_list), len(gene_list) - gene_annotation.loc[gene_list]['product'].value_counts()['hypothetical protein'])\n",
    "print()\n",
    "print(\n",
    "    gene_annotation\n",
    "    .loc[gene_list]\n",
    "    .cog.to_frame()\n",
    "    .join(cog_meta, on='cog')\n",
    "    .pathway\n",
    "    .value_counts()\n",
    "    .sort_values(ascending=False)\n",
    "    .head(10)\n",
    ")\n",
    "print()\n",
    "print(\n",
    "    gene_meta\n",
    "    .loc[gene_list]\n",
    "    ['product']\n",
    "    .value_counts()\n",
    "    .head(10)\n",
    ")\n",
    "print()\n",
    "print(pd.merge(\n",
    "    gene_annotation.loc[gene_list].cog.dropna().to_frame(),\n",
    "    cog_x_category,\n",
    "    on='cog',\n",
    ").category.value_counts().to_frame().join(cog_category).head(10))"
   ]
  },
  {
   "cell_type": "markdown",
   "metadata": {},
   "source": [
    "## What are the phylogenetically co-conserved clusters of genes?"
   ]
  },
  {
   "cell_type": "markdown",
   "metadata": {},
   "source": [
    "### What about within energy metabolism"
   ]
  },
  {
   "cell_type": "code",
   "execution_count": null,
   "metadata": {},
   "outputs": [],
   "source": [
    "strain_list = high_power_strain_list\n",
    "this_cog_category = 'C'\n",
    "cog_list = cog_x_category[cog_x_category.category == this_cog_category].cog.unique()\n",
    "gene_list = list(\n",
    "    set(idxwhere(gene_meta.cog.isin(cog_list)))\n",
    "    & set(idxwhere(moderate_hit[strain_list].mean(1) > 0.05))\n",
    ")\n",
    "\n",
    "x = strain_depth.loc[gene_list, strain_list]\n",
    "\n",
    "if len(gene_list) < 2e4:\n",
    "    cg = sns.clustermap(\n",
    "        x,\n",
    "        metric='cosine',\n",
    "        norm=mpl.colors.SymLogNorm(linthresh=1e-4, vmin=0.1, vmax=10),\n",
    "        yticklabels=5,\n",
    "        xticklabels=1,\n",
    "        col_linkage=fit.genotype.sel(strain=strain_list).linkage(\"strain\"),\n",
    "    )\n",
    "else:\n",
    "    print(\"Too many genes for clustermap:\", len(gene_list))"
   ]
  },
  {
   "cell_type": "markdown",
   "metadata": {},
   "source": [
    "#### TCA Cycle genes?"
   ]
  },
  {
   "cell_type": "code",
   "execution_count": null,
   "metadata": {},
   "outputs": [],
   "source": [
    "strain_list = high_power_strain_list\n",
    "this_cog_pathway = 'C'\n",
    "cog_list = cog_x_category[cog_x_category.category == this_cog_category].cog.unique()\n",
    "gene_list = list(\n",
    "    set(idxwhere(gene_meta.cog.isin(cog_list)))\n",
    "    & set(idxwhere(moderate_hit[strain_list].mean(1) > 0.05))\n",
    ")\n",
    "# gene_list = idxwhere(high_confidence_hit[strain_list].mean(1) > 0.05)\n",
    "\n",
    "x = strain_depth.loc[gene_list, strain_list]\n",
    "\n",
    "tca_cycle_gene_cluster_list = idxwhere(pd.DataFrame(sp.spatial.distance.squareform(sp.spatial.distance.pdist(x, metric='cosine')), index=x.index, columns=x.index).loc['UHGG000026_04491'].sort_values() < 0.1)\n",
    "print(len(tca_cycle_gene_cluster_list))\n",
    "gene_meta.join(cog_meta, on='cog', rsuffix='_cog_name').loc[tca_cycle_gene_cluster_list][['gene', 'ec_number', 'cog', 'product', 'description', 'gene_cog_name', 'pathway']]"
   ]
  },
  {
   "cell_type": "code",
   "execution_count": null,
   "metadata": {},
   "outputs": [],
   "source": [
    "strain_list = high_power_strain_list\n",
    "gene_list = tca_cycle_gene_cluster_list\n",
    "\n",
    "x = strain_depth.loc[gene_list, strain_list]\n",
    "\n",
    "if len(gene_list) < 2e4:\n",
    "    cg = sns.clustermap(\n",
    "        x,\n",
    "        metric='cosine',\n",
    "        norm=mpl.colors.SymLogNorm(linthresh=1e-4, vmin=0.1, vmax=10),\n",
    "        yticklabels=1,\n",
    "        xticklabels=1,\n",
    "        col_linkage=fit.genotype.sel(strain=strain_list).linkage(\"strain\"),\n",
    "    )\n",
    "else:\n",
    "    print(\"Too many genes for clustermap:\", len(gene_list))"
   ]
  },
  {
   "cell_type": "code",
   "execution_count": null,
   "metadata": {},
   "outputs": [],
   "source": [
    "yes_clust_x_strains = [22, 85, 7, 8, 57, 34, 39, 67]\n",
    "no_clust_x_strains = [1, 3, 10, 16, 6, 27, 36, 53]\n",
    "no_clust_x_strain_samples = idxwhere(sample_to_strain.isin(no_clust_x_strains))\n",
    "yes_clust_x_strain_samples = idxwhere(sample_to_strain.isin(yes_clust_x_strains))\n",
    "\n",
    "sp.stats.mannwhitneyu(species_rabund[species_id][no_clust_x_strain_samples], species_rabund[species_id][yes_clust_x_strain_samples])"
   ]
  },
  {
   "cell_type": "code",
   "execution_count": null,
   "metadata": {},
   "outputs": [],
   "source": [
    "d = sample_to_strain.to_frame('strain').assign(rabund=species_rabund[species_id]).join(sample_meta).groupby(['subject_id', 'strain']).rabund.mean().reset_index().assign(clust_x_strain=lambda x: x.strain.isin(yes_clust_x_strains))\n",
    "sns.stripplot('strain', 'rabund', data=d, hue='clust_x_strain', order=yes_clust_x_strains + no_clust_x_strains)\n",
    "plt.yscale('log')"
   ]
  },
  {
   "cell_type": "code",
   "execution_count": null,
   "metadata": {},
   "outputs": [],
   "source": [
    "import lib.stats"
   ]
  },
  {
   "cell_type": "code",
   "execution_count": null,
   "metadata": {},
   "outputs": [],
   "source": [
    "lib.stats.mannwhitneyu('clust_x_strain', 'rabund', data=d)"
   ]
  },
  {
   "cell_type": "code",
   "execution_count": null,
   "metadata": {},
   "outputs": [],
   "source": [
    "d = sample_to_strain.to_frame('strain').assign(rabund=species_rabund[species_id])\n"
   ]
  },
  {
   "cell_type": "code",
   "execution_count": null,
   "metadata": {},
   "outputs": [],
   "source": [
    "gene_list = tca_cycle_gene_cluster_list\n",
    "\n",
    "x = (isolate_gene > 0).reindex(gene_list).fillna(False)\n",
    "plt.hist(x.sum())"
   ]
  },
  {
   "cell_type": "code",
   "execution_count": null,
   "metadata": {},
   "outputs": [],
   "source": [
    "d = gene_depth.sel(gene_id=tca_cycle_gene_cluster_list).to_series().unstack('gene_id').groupby(sample_meta.subject_id).sum()\n",
    "c = species_depth.groupby(sample_meta.subject_id).sum()\n",
    "c = (c/c.max())**(1/4)\n",
    "\n",
    "sns.clustermap(\n",
    "    d + 1e-4,\n",
    "    row_colors=c.map(mpl.cm.viridis),\n",
    "    metric='cosine',\n",
    "    norm=mpl.colors.PowerNorm(1/4),\n",
    ")\n"
   ]
  },
  {
   "cell_type": "markdown",
   "metadata": {},
   "source": [
    "#### Respiration genes?"
   ]
  },
  {
   "cell_type": "code",
   "execution_count": null,
   "metadata": {},
   "outputs": [],
   "source": [
    "strain_list = high_power_strain_list\n",
    "this_cog_pathway = 'C'\n",
    "cog_list = cog_x_category[cog_x_category.category == this_cog_category].cog.unique()\n",
    "gene_list = list(\n",
    "    set(idxwhere(gene_meta.cog.isin(cog_list)))\n",
    "    & set(idxwhere(moderate_hit[strain_list].mean(1) > 0.05))\n",
    ")\n",
    "# gene_list = idxwhere(high_confidence_hit[strain_list].mean(1) > 0.05)\n",
    "\n",
    "x = strain_depth.loc[gene_list, strain_list]\n",
    "\n",
    "respiration_gene_cluster_list = idxwhere(pd.DataFrame(sp.spatial.distance.squareform(sp.spatial.distance.pdist(x, metric='cosine')), index=x.index, columns=x.index).loc['UHGG144268_03892'].sort_values() < 0.1)\n",
    "print(len(respiration_gene_cluster_list))\n",
    "gene_meta.join(cog_meta, on='cog', rsuffix='_cog_name').loc[respiration_gene_cluster_list][['gene', 'ec_number', 'cog', 'product', 'description', 'gene_cog_name', 'pathway']]"
   ]
  },
  {
   "cell_type": "code",
   "execution_count": null,
   "metadata": {},
   "outputs": [],
   "source": [
    "strain_list = high_power_strain_list\n",
    "gene_list = respiration_gene_cluster_list\n",
    "\n",
    "x = strain_depth.loc[gene_list, strain_list]\n",
    "\n",
    "if len(gene_list) < 2e4:\n",
    "    cg = sns.clustermap(\n",
    "        x,\n",
    "        metric='cosine',\n",
    "        norm=mpl.colors.SymLogNorm(linthresh=1e-4, vmin=0.1, vmax=10),\n",
    "        yticklabels=5,\n",
    "        xticklabels=1,\n",
    "        col_linkage=fit.genotype.sel(strain=strain_list).linkage(\"strain\"),\n",
    "    )\n",
    "else:\n",
    "    print(\"Too many genes for clustermap:\", len(gene_list))"
   ]
  },
  {
   "cell_type": "code",
   "execution_count": null,
   "metadata": {},
   "outputs": [],
   "source": [
    "no_clust_x_strains = [22, 85, 7, 8, 57, 34, 39, 67]\n",
    "yes_clust_x_strains = [1, 3, 10, 16, 6, 27, 36, 53]\n",
    "no_clust_x_strain_samples = idxwhere(sample_to_strain.isin(no_clust_x_strains))\n",
    "yes_clust_x_strain_samples = idxwhere(sample_to_strain.isin(yes_clust_x_strains))\n",
    "\n",
    "sp.stats.mannwhitneyu(species_rabund[species_id][no_clust_x_strain_samples], species_rabund[species_id][yes_clust_x_strain_samples])"
   ]
  },
  {
   "cell_type": "code",
   "execution_count": null,
   "metadata": {},
   "outputs": [],
   "source": [
    "gene_list = respiration_gene_cluster_list\n",
    "\n",
    "x = (isolate_gene > 0).reindex(gene_list).fillna(False)\n",
    "plt.hist(x.sum())"
   ]
  },
  {
   "cell_type": "code",
   "execution_count": null,
   "metadata": {},
   "outputs": [],
   "source": [
    "d = gene_depth.sel(gene_id=respiration_gene_cluster_list).to_series().unstack('gene_id').groupby(sample_meta.subject_id).sum()\n",
    "c = species_depth.groupby(sample_meta.subject_id).sum()\n",
    "c = (c/c.max())**(1/4)\n",
    "\n",
    "sns.clustermap(\n",
    "    d,\n",
    "    row_colors=c.map(mpl.cm.viridis),\n",
    "    # metric='cosine',\n",
    "    norm=mpl.colors.SymLogNorm(1e-1),\n",
    ")\n"
   ]
  },
  {
   "cell_type": "markdown",
   "metadata": {},
   "source": [
    "### What about within carb metab?"
   ]
  },
  {
   "cell_type": "code",
   "execution_count": null,
   "metadata": {},
   "outputs": [],
   "source": [
    "strain_list = high_power_strain_list\n",
    "this_cog_category = 'G'\n",
    "cog_list = cog_x_category[cog_x_category.category == this_cog_category].cog.unique()\n",
    "gene_list = list(\n",
    "    set(idxwhere(gene_meta.cog.isin(cog_list)))\n",
    "    & set(idxwhere(moderate_hit[strain_list].mean(1) > 0.05))\n",
    ")\n",
    "\n",
    "x = strain_depth.loc[gene_list, strain_list]\n",
    "\n",
    "if len(gene_list) < 2e4:\n",
    "    cg = sns.clustermap(\n",
    "        x,\n",
    "        metric='cosine',\n",
    "        norm=mpl.colors.SymLogNorm(linthresh=1e-4, vmin=0.1, vmax=10),\n",
    "        yticklabels=13,\n",
    "        xticklabels=1,\n",
    "        col_linkage=fit.genotype.sel(strain=strain_list).linkage(\"strain\"),\n",
    "    )\n",
    "else:\n",
    "    print(\"Too many genes for clustermap:\", len(gene_list))"
   ]
  },
  {
   "cell_type": "markdown",
   "metadata": {},
   "source": [
    "#### Ribose import genes?"
   ]
  },
  {
   "cell_type": "code",
   "execution_count": null,
   "metadata": {},
   "outputs": [],
   "source": [
    "strain_list = high_power_strain_list\n",
    "this_cog_pathway = 'C'\n",
    "cog_list = cog_x_category[cog_x_category.category == this_cog_category].cog.unique()\n",
    "gene_list = list(\n",
    "    set(idxwhere(gene_meta.cog.isin(cog_list)))\n",
    "    & set(idxwhere(high_confidence_hit[strain_list].mean(1) > 0.05))\n",
    ")\n",
    "guide_gene = 'UHGG000489_02378'\n",
    "# gene_list = idxwhere(high_confidence_hit[strain_list].mean(1) > 0.05)\n",
    "\n",
    "x = strain_depth.loc[gene_list, strain_list]\n",
    "\n",
    "_gene_cluster_list = idxwhere(pd.DataFrame(sp.spatial.distance.squareform(sp.spatial.distance.pdist(x, metric='cosine')), index=x.index, columns=x.index).loc[guide_gene].sort_values() < 0.1)\n",
    "print(len(_gene_cluster_list))\n",
    "\n",
    "ribose_gene_cluster_list = _gene_cluster_list  # FIXME\n",
    "\n",
    "gene_meta.join(cog_meta, on='cog', rsuffix='_cog_name').loc[_gene_cluster_list][['gene', 'ec_number', 'cog', 'product', 'description', 'gene_cog_name', 'pathway']]"
   ]
  },
  {
   "cell_type": "code",
   "execution_count": null,
   "metadata": {},
   "outputs": [],
   "source": [
    "strain_list = high_power_strain_list\n",
    "gene_list = ribose_gene_cluster_list\n",
    "\n",
    "x = strain_depth.loc[gene_list, strain_list]\n",
    "\n",
    "if len(gene_list) < 2e4:\n",
    "    cg = sns.clustermap(\n",
    "        x,\n",
    "        metric='cosine',\n",
    "        norm=mpl.colors.SymLogNorm(linthresh=1e-4, vmin=0.1, vmax=10),\n",
    "        yticklabels=1,\n",
    "        xticklabels=1,\n",
    "        col_linkage=fit.genotype.sel(strain=strain_list).linkage(\"strain\"),\n",
    "    )\n",
    "else:\n",
    "    print(\"Too many genes for clustermap:\", len(gene_list))"
   ]
  },
  {
   "cell_type": "code",
   "execution_count": null,
   "metadata": {},
   "outputs": [],
   "source": [
    "gene_list = ribose_gene_cluster_list\n",
    "\n",
    "x = (reference_gene > 0).reindex(gene_list).fillna(False)\n",
    "plt.hist(x.sum())"
   ]
  },
  {
   "cell_type": "code",
   "execution_count": null,
   "metadata": {},
   "outputs": [],
   "source": [
    "gene_list = ribose_gene_cluster_list\n",
    "d = gene_depth.sel(gene_id=gene_list).to_series().unstack('gene_id').groupby(sample_meta.subject_id).sum()\n",
    "depth = species_depth.groupby(sample_meta.subject_id).sum()\n",
    "depth_colors = ((depth / depth.max())**(1/4)).map(mpl.cm.viridis)\n",
    "diagnosis_colors = subject.loc[d.index].ibd_diagnosis.map({'CD': 'red', 'UC': 'pink', 'nonIBD': 'grey'})\n",
    "\n",
    "sns.clustermap(\n",
    "    d,\n",
    "    row_colors=depth_colors.to_frame('depth').assign(ibd=diagnosis_colors),\n",
    "    # metric='cosine',\n",
    "    norm=mpl.colors.PowerNorm(1/4),\n",
    ")\n"
   ]
  },
  {
   "cell_type": "markdown",
   "metadata": {},
   "source": [
    "#### fructose/mannose catabolism"
   ]
  },
  {
   "cell_type": "code",
   "execution_count": null,
   "metadata": {},
   "outputs": [],
   "source": [
    "strain_list = high_power_strain_list\n",
    "this_cog_pathway = 'C'\n",
    "cog_list = cog_x_category[cog_x_category.category == this_cog_category].cog.unique()\n",
    "gene_list = list(\n",
    "    set(idxwhere(gene_meta.cog.isin(cog_list)))\n",
    "    & set(idxwhere(moderate_hit[strain_list].mean(1) > 0.05))\n",
    ")\n",
    "guide_gene = 'UHGG033023_00488'\n",
    "# gene_list = idxwhere(high_confidence_hit[strain_list].mean(1) > 0.05)\n",
    "\n",
    "x = strain_depth.loc[gene_list, strain_list]\n",
    "\n",
    "_gene_cluster_list = idxwhere(\n",
    "    pd.DataFrame(sp.spatial.distance.squareform(sp.spatial.distance.pdist(x, metric='cosine')), index=x.index, columns=x.index)\n",
    "    .loc[guide_gene].sort_values() < 0.05\n",
    ")\n",
    "print(len(_gene_cluster_list))\n",
    "\n",
    "mannose_gene_cluster_list = _gene_cluster_list  # FIXME\n",
    "\n",
    "gene_meta.join(cog_meta, on='cog', rsuffix='_cog_name').loc[_gene_cluster_list][['gene', 'ec_number', 'cog', 'product', 'description', 'gene_cog_name', 'pathway']]"
   ]
  },
  {
   "cell_type": "code",
   "execution_count": null,
   "metadata": {},
   "outputs": [],
   "source": [
    "strain_list = high_power_strain_list\n",
    "gene_list = mannose_gene_cluster_list\n",
    "\n",
    "x = strain_depth.loc[gene_list, strain_list]\n",
    "\n",
    "if len(gene_list) < 2e4:\n",
    "    cg = sns.clustermap(\n",
    "        x,\n",
    "        metric='cosine',\n",
    "        norm=mpl.colors.SymLogNorm(linthresh=1e-4, vmin=0.1, vmax=10),\n",
    "        yticklabels=1,\n",
    "        xticklabels=1,\n",
    "        col_linkage=fit.genotype.sel(strain=strain_list).linkage(\"strain\"),\n",
    "    )\n",
    "else:\n",
    "    print(\"Too many genes for clustermap:\", len(gene_list))"
   ]
  },
  {
   "cell_type": "code",
   "execution_count": null,
   "metadata": {},
   "outputs": [],
   "source": [
    "sample_list = strain_to_sample_list[53] + strain_to_sample_list[27]\n",
    "sf.plot.plot_metagenotype(fit.sel(sample=sample_list, position=position_ss), row_linkage_func=lambda w: w.genotype.linkage('position'))"
   ]
  },
  {
   "cell_type": "code",
   "execution_count": null,
   "metadata": {},
   "outputs": [],
   "source": [
    "gene_list = mannose_gene_cluster_list\n",
    "\n",
    "x = (reference_gene > 0).reindex(gene_list).fillna(False)\n",
    "y = (isolate_gene > 0).reindex(gene_list).fillna(False)\n",
    "z = high_confidence_hit[high_power_strain_list].reindex(gene_list).fillna(False)\n",
    "a = moderate_hit[high_power_strain_list].reindex(gene_list).fillna(False)\n",
    "\n",
    "\n",
    "bins = np.arange(len(gene_list) + 3)\n",
    "plt.hist(x.sum(), bins=bins)\n",
    "plt.hist(y.sum(), bins=bins)\n",
    "plt.hist(z.sum(), bins=bins)\n",
    "plt.hist(a.sum(), bins=bins)\n",
    "\n",
    "plt.yscale('log')"
   ]
  },
  {
   "cell_type": "code",
   "execution_count": null,
   "metadata": {},
   "outputs": [],
   "source": [
    "gene_list = mannose_gene_cluster_list\n",
    "d = gene_depth.sel(gene_id=gene_list, sample=sample_list).to_series().unstack('gene_id')\n",
    "\n",
    "sns.clustermap(\n",
    "    d,\n",
    "    # metric='cosine',\n",
    "    norm=mpl.colors.PowerNorm(1/4),\n",
    ")\n"
   ]
  },
  {
   "cell_type": "code",
   "execution_count": null,
   "metadata": {},
   "outputs": [],
   "source": [
    "gene_list = mannose_gene_cluster_list\n",
    "d = gene_depth.sel(gene_id=gene_list).to_series().unstack('gene_id').groupby(sample_meta.subject_id).sum()\n",
    "depth = species_depth.groupby(sample_meta.subject_id).sum()\n",
    "depth_colors = ((depth / depth.max())**(1/4)).map(mpl.cm.viridis)\n",
    "diagnosis_colors = subject.loc[d.index].ibd_diagnosis.map({'CD': 'red', 'UC': 'pink', 'nonIBD': 'grey'})\n",
    "\n",
    "sns.clustermap(\n",
    "    d,\n",
    "    row_colors=depth_colors.to_frame('depth').assign(ibd=diagnosis_colors),\n",
    "    # metric='cosine',\n",
    "    norm=mpl.colors.PowerNorm(1/4),\n",
    ")\n"
   ]
  },
  {
   "cell_type": "markdown",
   "metadata": {},
   "source": [
    "### What about within cell envelope?"
   ]
  },
  {
   "cell_type": "code",
   "execution_count": null,
   "metadata": {},
   "outputs": [],
   "source": [
    "strain_list = high_power_strain_list\n",
    "this_cog_category = 'M'\n",
    "cog_list = cog_x_category[cog_x_category.category == this_cog_category].cog.unique()\n",
    "gene_list = list(\n",
    "    set(idxwhere(gene_meta.cog.isin(cog_list)))\n",
    "    & set(idxwhere(high_confidence_hit[strain_list].mean(1) > 0.1))\n",
    ")\n",
    "\n",
    "x = strain_depth.loc[gene_list, strain_list]\n",
    "# x = high_confidence_hit.loc[gene_list, strain_list]\n",
    "\n",
    "\n",
    "if len(gene_list) < 2e4:\n",
    "    cg = sns.clustermap(\n",
    "        x,\n",
    "        metric='cosine',\n",
    "        norm=mpl.colors.SymLogNorm(linthresh=1e-4, vmin=0.1, vmax=10),\n",
    "        yticklabels=30,\n",
    "        xticklabels=1,\n",
    "        col_linkage=fit.genotype.sel(strain=strain_list).linkage(\"strain\"),\n",
    "    )\n",
    "else:\n",
    "    print(\"Too many genes for clustermap:\", len(gene_list))"
   ]
  },
  {
   "cell_type": "markdown",
   "metadata": {},
   "source": [
    "#### O-antigen genes?"
   ]
  },
  {
   "cell_type": "code",
   "execution_count": null,
   "metadata": {},
   "outputs": [],
   "source": [
    "strain_list = high_power_strain_list\n",
    "this_cog_pathway = 'C'\n",
    "cog_list = cog_x_category[cog_x_category.category == this_cog_category].cog.unique()\n",
    "gene_list = list(\n",
    "    set(idxwhere(gene_meta.cog.isin(cog_list)))\n",
    "    & set(idxwhere(high_confidence_hit[strain_list].mean(1) > 0.05))\n",
    ")\n",
    "guide_gene = 'UHGG004518_00665'\n",
    "# gene_list = idxwhere(high_confidence_hit[strain_list].mean(1) > 0.05)\n",
    "\n",
    "x = strain_depth.loc[gene_list, strain_list]\n",
    "\n",
    "_gene_cluster_list = idxwhere(\n",
    "    pd.DataFrame(sp.spatial.distance.squareform(sp.spatial.distance.pdist(x, metric='cosine')), index=x.index, columns=x.index)\n",
    "    .loc[guide_gene].sort_values() < 0.1\n",
    ")\n",
    "print(len(_gene_cluster_list))\n",
    "\n",
    "x_gene_cluster_list = _gene_cluster_list  # FIXME\n",
    "\n",
    "gene_meta.join(cog_meta, on='cog', rsuffix='_cog_name').loc[_gene_cluster_list][['gene', 'ec_number', 'cog', 'product', 'description', 'gene_cog_name', 'pathway']]"
   ]
  },
  {
   "cell_type": "code",
   "execution_count": null,
   "metadata": {},
   "outputs": [],
   "source": [
    "strain_list = high_power_strain_list\n",
    "gene_list = x_gene_cluster_list\n",
    "\n",
    "x = strain_depth.loc[gene_list, strain_list]\n",
    "\n",
    "if len(gene_list) < 2e4:\n",
    "    cg = sns.clustermap(\n",
    "        x,\n",
    "        metric='cosine',\n",
    "        norm=mpl.colors.SymLogNorm(linthresh=1e-4, vmin=0.1, vmax=10),\n",
    "        yticklabels=1,\n",
    "        xticklabels=1,\n",
    "        col_linkage=fit.genotype.sel(strain=strain_list).linkage(\"strain\"),\n",
    "    )\n",
    "else:\n",
    "    print(\"Too many genes for clustermap:\", len(gene_list))"
   ]
  },
  {
   "cell_type": "code",
   "execution_count": null,
   "metadata": {},
   "outputs": [],
   "source": [
    "from itertools import chain"
   ]
  },
  {
   "cell_type": "code",
   "execution_count": null,
   "metadata": {},
   "outputs": [],
   "source": [
    "strain_list = [36, 67, 39]\n",
    "sample_list = list(chain.from_iterable(strain_to_sample_list[s] for s in strain_list))\n",
    "sf.plot.plot_metagenotype(fit.sel(sample=sample_list, position=position_ss), row_linkage_func=lambda w: w.genotype.linkage('position'))"
   ]
  },
  {
   "cell_type": "code",
   "execution_count": null,
   "metadata": {},
   "outputs": [],
   "source": [
    "gene_list = x_gene_cluster_list\n",
    "\n",
    "x = (reference_gene > 0).reindex(gene_list).fillna(False)\n",
    "y = (isolate_gene > 0).reindex(gene_list).fillna(False)\n",
    "z = high_confidence_hit.reindex(gene_list).fillna(False)\n",
    "\n",
    "bins = np.arange(len(gene_list) + 3)\n",
    "plt.hist(x.sum(), bins=bins)\n",
    "plt.hist(y.sum(), bins=bins)\n",
    "plt.hist(z.sum(), bins=bins)\n",
    "\n",
    "plt.yscale('log')"
   ]
  },
  {
   "cell_type": "code",
   "execution_count": null,
   "metadata": {},
   "outputs": [],
   "source": [
    "gene_list = x_gene_cluster_list\n",
    "d = gene_depth.sel(gene_id=gene_list, sample=sample_list).to_series().unstack('gene_id')\n",
    "\n",
    "sns.clustermap(\n",
    "    d,\n",
    "    # metric='cosine',\n",
    "    # norm=mpl.colors.PowerNorm(1/4),\n",
    ")\n"
   ]
  },
  {
   "cell_type": "code",
   "execution_count": null,
   "metadata": {},
   "outputs": [],
   "source": [
    "gene_list = x_gene_cluster_list\n",
    "d = gene_depth.sel(gene_id=gene_list).to_series().unstack('gene_id').groupby(sample_meta.subject_id).sum()\n",
    "depth = species_depth.groupby(sample_meta.subject_id).sum()\n",
    "depth_colors = ((depth / depth.max())**(1/4)).map(mpl.cm.viridis)\n",
    "diagnosis_colors = subject.loc[d.index].ibd_diagnosis.map({'CD': 'red', 'UC': 'pink', 'nonIBD': 'grey'})\n",
    "\n",
    "sns.clustermap(\n",
    "    d + 1e-2,\n",
    "    row_colors=depth_colors.to_frame('depth').assign(ibd=diagnosis_colors),\n",
    "    # metric='cosine',\n",
    "    norm=mpl.colors.LogNorm(),\n",
    ")\n"
   ]
  },
  {
   "cell_type": "code",
   "execution_count": null,
   "metadata": {},
   "outputs": [],
   "source": [
    "sample_meta.assign(strain_rabund=fit.community.data.sel(strain=67).to_series()).groupby('subject_id').strain_rabund.mean().sort_values(ascending=False)"
   ]
  },
  {
   "cell_type": "code",
   "execution_count": null,
   "metadata": {},
   "outputs": [],
   "source": [
    "sample_list = idxwhere((fit.community.data.sel(strain=strain_list) > 0.05).any(\"strain\").to_series())\n",
    "sf.plot.plot_community(fit.sel(sample=sample_list).drop_low_abundance_strains(0.05), row_linkage_func=lambda w: w.genotype.linkage(\"strain\"))"
   ]
  },
  {
   "cell_type": "code",
   "execution_count": null,
   "metadata": {},
   "outputs": [],
   "source": [
    "gene_list = x_gene_cluster_list\n",
    "d = gene_depth.sel(gene_id=gene_list, sample=sample_list).to_series().unstack('gene_id')\n",
    "\n",
    "sns.clustermap(\n",
    "    d,\n",
    "    norm=mpl.colors.PowerNorm(1/4),\n",
    ")\n"
   ]
  },
  {
   "cell_type": "markdown",
   "metadata": {},
   "source": [
    "#### O-antigen genes"
   ]
  },
  {
   "cell_type": "code",
   "execution_count": null,
   "metadata": {},
   "outputs": [],
   "source": [
    "strain_list = high_power_strain_list\n",
    "this_cog_pathway = 'C'\n",
    "cog_list = cog_x_category[cog_x_category.category == this_cog_category].cog.unique()\n",
    "gene_list = list(\n",
    "    set(idxwhere(gene_meta.cog.isin(cog_list)))\n",
    "    & set(idxwhere(high_confidence_hit[strain_list].mean(1) > 0.05))\n",
    ")\n",
    "guide_gene = 'UHGG004518_00665'\n",
    "# gene_list = idxwhere(high_confidence_hit[strain_list].mean(1) > 0.05)\n",
    "\n",
    "x = strain_depth.loc[gene_list, strain_list]\n",
    "\n",
    "_gene_cluster_list = idxwhere(\n",
    "    pd.DataFrame(sp.spatial.distance.squareform(sp.spatial.distance.pdist(x, metric='cosine')), index=x.index, columns=x.index)\n",
    "    .loc[guide_gene].sort_values() < 0.15\n",
    ")\n",
    "print(len(_gene_cluster_list))\n",
    "\n",
    "x_gene_cluster_list = _gene_cluster_list  # FIXME\n",
    "\n",
    "gene_meta.join(cog_meta, on='cog', rsuffix='_cog_name').loc[_gene_cluster_list][['gene', 'ec_number', 'cog', 'product', 'description', 'gene_cog_name', 'pathway']]"
   ]
  },
  {
   "cell_type": "code",
   "execution_count": null,
   "metadata": {},
   "outputs": [],
   "source": [
    "strain_list = high_power_strain_list\n",
    "gene_list = x_gene_cluster_list\n",
    "\n",
    "x = strain_depth.loc[gene_list, strain_list]\n",
    "\n",
    "if len(gene_list) < 2e4:\n",
    "    cg = sns.clustermap(\n",
    "        x,\n",
    "        metric='cosine',\n",
    "        norm=mpl.colors.SymLogNorm(linthresh=1e-4, vmin=0.1, vmax=10),\n",
    "        yticklabels=1,\n",
    "        xticklabels=1,\n",
    "        col_linkage=fit.genotype.sel(strain=strain_list).linkage(\"strain\"),\n",
    "    )\n",
    "else:\n",
    "    print(\"Too many genes for clustermap:\", len(gene_list))"
   ]
  },
  {
   "cell_type": "code",
   "execution_count": null,
   "metadata": {},
   "outputs": [],
   "source": [
    "strain_list = [36, 67, 81]\n",
    "sample_list = list(chain.from_iterable(strain_to_sample_list[s] for s in strain_list))\n",
    "sf.plot.plot_metagenotype(fit.sel(sample=sample_list, position=position_ss), row_linkage_func=lambda w: w.genotype.linkage('position'))"
   ]
  },
  {
   "cell_type": "code",
   "execution_count": null,
   "metadata": {},
   "outputs": [],
   "source": [
    "gene_list = x_gene_cluster_list\n",
    "\n",
    "x = (reference_gene > 0).reindex(gene_list).fillna(False)\n",
    "y = (isolate_gene > 0).reindex(gene_list).fillna(False)\n",
    "z = high_confidence_hit.reindex(gene_list).fillna(False)\n",
    "a = high_confidence_hit[high_power_strain_list].reindex(gene_list).fillna(False)\n",
    "\n",
    "\n",
    "bins = np.arange(len(gene_list) + 3)\n",
    "plt.hist(x.sum(), bins=bins)\n",
    "plt.hist(y.sum(), bins=bins)\n",
    "plt.hist(z.sum(), bins=bins)\n",
    "plt.hist(a.sum(), bins=bins)\n",
    "\n",
    "\n",
    "plt.yscale('log')"
   ]
  },
  {
   "cell_type": "code",
   "execution_count": null,
   "metadata": {},
   "outputs": [],
   "source": [
    "gene_list = x_gene_cluster_list\n",
    "d = gene_depth.sel(gene_id=gene_list, sample=sample_list).to_series().unstack('gene_id')\n",
    "\n",
    "sns.clustermap(\n",
    "    d,\n",
    "    # metric='cosine',\n",
    "    norm=mpl.colors.PowerNorm(1/4),\n",
    ")\n"
   ]
  },
  {
   "cell_type": "code",
   "execution_count": null,
   "metadata": {},
   "outputs": [],
   "source": [
    "gene_list = x_gene_cluster_list\n",
    "d = gene_depth.sel(gene_id=gene_list).to_series().unstack('gene_id').groupby(sample_meta.subject_id).sum()\n",
    "depth = species_depth.groupby(sample_meta.subject_id).sum()\n",
    "depth_colors = ((depth / depth.max())**(1/4)).map(mpl.cm.viridis)\n",
    "diagnosis_colors = subject.loc[d.index].ibd_diagnosis.map({'CD': 'red', 'UC': 'pink', 'nonIBD': 'grey'})\n",
    "\n",
    "sns.clustermap(\n",
    "    d,\n",
    "    row_colors=depth_colors.to_frame('depth').assign(ibd=diagnosis_colors),\n",
    "    # metric='cosine',\n",
    "    norm=mpl.colors.PowerNorm(1/4),\n",
    ")\n"
   ]
  },
  {
   "cell_type": "code",
   "execution_count": null,
   "metadata": {},
   "outputs": [],
   "source": [
    "sf.plot.plot_community(fit.sel(sample=sample_list).drop_low_abundance_strains(0.05), row_linkage_func=lambda w: w.genotype.linkage(\"strain\"))"
   ]
  },
  {
   "cell_type": "code",
   "execution_count": null,
   "metadata": {},
   "outputs": [],
   "source": [
    "gene_list = x_gene_cluster_list\n",
    "d = gene_depth.sel(gene_id=gene_list, sample=sample_list).to_series().unstack('gene_id')\n",
    "\n",
    "sns.clustermap(\n",
    "    d,\n",
    "    norm=mpl.colors.PowerNorm(1/4),\n",
    ")\n"
   ]
  },
  {
   "cell_type": "markdown",
   "metadata": {},
   "source": [
    "### What about within defense?"
   ]
  },
  {
   "cell_type": "code",
   "execution_count": null,
   "metadata": {},
   "outputs": [],
   "source": [
    "strain_list = high_power_strain_list\n",
    "this_cog_category = 'V'\n",
    "cog_list = cog_x_category[cog_x_category.category == this_cog_category].cog.unique()\n",
    "gene_list = list(\n",
    "    set(idxwhere(gene_meta.cog.isin(cog_list)))\n",
    "    & set(idxwhere((high_confidence_hit[strain_list].mean(1) > 0.05) & (high_confidence_not_hit[strain_list].mean(1) > 0.2)))\n",
    ")\n",
    "\n",
    "x = strain_depth.loc[gene_list, strain_list]\n",
    "# x = high_confidence_hit.loc[gene_list, strain_list]\n",
    "\n",
    "\n",
    "if len(gene_list) < 2e4:\n",
    "    cg = sns.clustermap(\n",
    "        x,\n",
    "        metric='cosine',\n",
    "        norm=mpl.colors.SymLogNorm(linthresh=1e-4, vmin=0.1, vmax=10),\n",
    "        yticklabels=2,\n",
    "        xticklabels=1,\n",
    "        col_linkage=fit.genotype.sel(strain=strain_list).linkage(\"strain\"),\n",
    "        # figsize=(7, 20),\n",
    "    )\n",
    "else:\n",
    "    print(\"Too many genes for clustermap:\", len(gene_list))"
   ]
  },
  {
   "cell_type": "markdown",
   "metadata": {},
   "source": [
    "#### X genes?"
   ]
  },
  {
   "cell_type": "code",
   "execution_count": null,
   "metadata": {},
   "outputs": [],
   "source": [
    "strain_list = high_power_strain_list\n",
    "this_cog_pathway = 'C'\n",
    "cog_list = cog_x_category[cog_x_category.category == this_cog_category].cog.unique()\n",
    "gene_list = list(\n",
    "    set(idxwhere(gene_meta.cog.isin(cog_list)))\n",
    "    & set(idxwhere(high_confidence_hit[strain_list].mean(1) > 0.05))\n",
    ")\n",
    "guide_gene = 'UHGG153923_03568'\n",
    "# gene_list = idxwhere(high_confidence_hit[strain_list].mean(1) > 0.05)\n",
    "\n",
    "x = strain_depth.loc[gene_list, strain_list]\n",
    "\n",
    "_gene_cluster_list = idxwhere(\n",
    "    pd.DataFrame(sp.spatial.distance.squareform(sp.spatial.distance.pdist(x, metric='cosine')), index=x.index, columns=x.index)\n",
    "    .loc[guide_gene].sort_values() < 0.1\n",
    ")\n",
    "print(len(_gene_cluster_list))\n",
    "\n",
    "x_gene_cluster_list = _gene_cluster_list  # FIXME\n",
    "\n",
    "gene_meta.join(cog_meta, on='cog', rsuffix='_cog_name').loc[_gene_cluster_list][['gene', 'ec_number', 'cog', 'product', 'description', 'gene_cog_name', 'pathway']]"
   ]
  },
  {
   "cell_type": "code",
   "execution_count": null,
   "metadata": {},
   "outputs": [],
   "source": [
    "strain_list = high_power_strain_list\n",
    "gene_list = x_gene_cluster_list\n",
    "\n",
    "x = strain_depth.loc[gene_list, strain_list]\n",
    "\n",
    "if len(gene_list) < 2e4:\n",
    "    cg = sns.clustermap(\n",
    "        x,\n",
    "        metric='cosine',\n",
    "        norm=mpl.colors.SymLogNorm(linthresh=1e-4, vmin=0.1, vmax=10),\n",
    "        yticklabels=1,\n",
    "        xticklabels=1,\n",
    "        col_linkage=fit.genotype.sel(strain=strain_list).linkage(\"strain\"),\n",
    "    )\n",
    "else:\n",
    "    print(\"Too many genes for clustermap:\", len(gene_list))"
   ]
  },
  {
   "cell_type": "code",
   "execution_count": null,
   "metadata": {},
   "outputs": [],
   "source": [
    "strain_list = [16, 6, 27]\n",
    "sample_list = list(chain.from_iterable(strain_to_sample_list[s] for s in strain_list))\n",
    "sf.plot.plot_metagenotype(\n",
    "    fit.sel(sample=sample_list, position=position_ss),\n",
    "    row_linkage_func=lambda w: w.genotype.linkage('position'),\n",
    "    col_linkage_func=lambda w: w.metagenotype.linkage(),\n",
    ")"
   ]
  },
  {
   "cell_type": "code",
   "execution_count": null,
   "metadata": {},
   "outputs": [],
   "source": [
    "sf.plot.plot_community(\n",
    "    fit.sel(sample=sample_list, position=position_ss).drop_low_abundance_strains(0.05),\n",
    "    row_linkage_func=lambda w: w.genotype.linkage('strain'),\n",
    "    col_linkage_func=lambda w: w.metagenotype.linkage(),\n",
    ")"
   ]
  },
  {
   "cell_type": "code",
   "execution_count": null,
   "metadata": {},
   "outputs": [],
   "source": [
    "gene_list = x_gene_cluster_list\n",
    "\n",
    "x = (reference_gene > 0).reindex(gene_list).fillna(False)\n",
    "y = (isolate_gene > 0).reindex(gene_list).fillna(False)\n",
    "z = high_confidence_hit.reindex(gene_list).fillna(False)\n",
    "a = high_confidence_hit[high_power_strain_list].reindex(gene_list).fillna(False)\n",
    "\n",
    "\n",
    "bins = np.arange(len(gene_list) + 3)\n",
    "plt.hist(x.sum(), bins=bins, alpha=0.5)\n",
    "plt.hist(y.sum(), bins=bins, alpha=0.5)\n",
    "plt.hist(z.sum(), bins=bins, alpha=0.5)\n",
    "plt.hist(a.sum(), bins=bins, alpha=0.5)\n",
    "\n",
    "\n",
    "plt.yscale('log')"
   ]
  },
  {
   "cell_type": "code",
   "execution_count": null,
   "metadata": {},
   "outputs": [],
   "source": [
    "gene_list = x_gene_cluster_list\n",
    "d = gene_depth.sel(gene_id=gene_list, sample=sample_list).to_series().unstack('gene_id')\n",
    "\n",
    "sns.clustermap(\n",
    "    d,\n",
    "    # metric='cosine',\n",
    "    norm=mpl.colors.PowerNorm(1/4),\n",
    ")\n"
   ]
  },
  {
   "cell_type": "code",
   "execution_count": null,
   "metadata": {},
   "outputs": [],
   "source": [
    "gene_list = x_gene_cluster_list\n",
    "d = gene_depth.sel(gene_id=gene_list).to_series().unstack('gene_id').groupby(sample_meta.subject_id).sum()\n",
    "depth = species_depth.groupby(sample_meta.subject_id).sum()\n",
    "depth_colors = ((depth / depth.max())**(1/4)).map(mpl.cm.viridis)\n",
    "diagnosis_colors = subject.loc[d.index].ibd_diagnosis.map({'CD': 'red', 'UC': 'pink', 'nonIBD': 'grey'})\n",
    "\n",
    "sns.clustermap(\n",
    "    d + 1e-5,\n",
    "    row_colors=depth_colors.to_frame('depth').assign(ibd=diagnosis_colors),\n",
    "    metric='cosine',\n",
    "    norm=mpl.colors.PowerNorm(1/4),\n",
    ")\n"
   ]
  },
  {
   "cell_type": "markdown",
   "metadata": {},
   "source": [
    "# Do strain-private genes show up in samples with that strain at less than 100%?"
   ]
  },
  {
   "cell_type": "code",
   "execution_count": null,
   "metadata": {},
   "outputs": [],
   "source": [
    "strain_meta.loc[8]"
   ]
  },
  {
   "cell_type": "code",
   "execution_count": null,
   "metadata": {},
   "outputs": [],
   "source": [
    "strain = 8\n",
    "\n",
    "strain_private_genes = idxwhere(high_confidence_hit[strain] & (moderate_hit.sum(1) == 1))\n",
    "gene_meta.join(cog_meta, on='cog', rsuffix='_cog_name').loc[strain_private_genes][['gene', 'ec_number', 'cog', 'product', 'description', 'gene_cog_name', 'pathway']]"
   ]
  },
  {
   "cell_type": "code",
   "execution_count": null,
   "metadata": {},
   "outputs": [],
   "source": [
    "from lib.pandas_util import align_indexes\n",
    "\n",
    "x = species_depth\n",
    "y = fit.community.data.sel(strain=strain).to_series().reindex(x.index, fill_value=0)\n",
    "r = fit.community.data.sel(strain=high_power_strain_list).sum(\"strain\").to_series()\n",
    "z = x * y\n",
    "d = gene_depth.sel(gene_id=strain_private_genes).to_series().unstack('gene_id')\n",
    "b = ((d.sum(1) > 1e-3) | (y > 1e-1))[lambda x: x]\n",
    "x, y, r, z, d, b = align_indexes(x, y, r, z, d, b)\n",
    "\n",
    "sns.clustermap(\n",
    "    d + 1e-2,\n",
    "    metric='cosine',\n",
    "    norm=mpl.colors.LogNorm(),\n",
    "    row_colors=pd.DataFrame(dict(\n",
    "        y=y.map(mpl.cm.viridis),\n",
    "        r=r.map(mpl.cm.viridis),\n",
    "        x=np.log(x + 1e-2).pipe(lambda x: (x - x.min()) / (x.max() - x.min())).map(mpl.cm.viridis),\n",
    "        z=np.log(z + 1e-2).pipe(lambda x: (x - x.min()) / (x.max() - x.min())).map(mpl.cm.viridis),\n",
    "    ))\n",
    ")"
   ]
  },
  {
   "cell_type": "markdown",
   "metadata": {},
   "source": [
    "# Can we quantify the degree of genotype co-similarity between genes and SNPs?"
   ]
  },
  {
   "cell_type": "code",
   "execution_count": null,
   "metadata": {},
   "outputs": [],
   "source": []
  }
 ],
 "metadata": {
  "kernelspec": {
   "display_name": "sfacts",
   "language": "python",
   "name": "sfacts"
  },
  "language_info": {
   "codemirror_mode": {
    "name": "ipython",
    "version": 3
   },
   "file_extension": ".py",
   "mimetype": "text/x-python",
   "name": "python",
   "nbconvert_exporter": "python",
   "pygments_lexer": "ipython3",
   "version": "3.10.6"
  }
 },
 "nbformat": 4,
 "nbformat_minor": 5
}