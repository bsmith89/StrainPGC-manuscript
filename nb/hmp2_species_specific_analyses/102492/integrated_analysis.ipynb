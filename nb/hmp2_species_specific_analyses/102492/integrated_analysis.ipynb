{
 "cells": [
  {
   "cell_type": "code",
   "execution_count": null,
   "metadata": {},
   "outputs": [],
   "source": [
    "%load_ext autoreload"
   ]
  },
  {
   "cell_type": "code",
   "execution_count": null,
   "metadata": {},
   "outputs": [],
   "source": [
    "import os as _os\n",
    "_os.chdir(_os.environ['PROJECT_ROOT'])\n",
    "_os.path.realpath(_os.path.curdir)"
   ]
  },
  {
   "cell_type": "code",
   "execution_count": null,
   "metadata": {},
   "outputs": [],
   "source": [
    "import pandas as pd\n",
    "import numpy as np\n",
    "import scipy as sp\n",
    "import matplotlib.pyplot as plt\n",
    "import seaborn as sns\n",
    "import xarray as xr\n",
    "from lib.pandas_util import idxwhere, align_indexes, invert_mapping\n",
    "import matplotlib as mpl\n",
    "import lib.plot\n",
    "import statsmodels as sm\n",
    "from statsmodels.stats.multitest import fdrcorrection\n",
    "from tqdm import tqdm\n",
    "import subprocess\n",
    "from tempfile import mkstemp\n",
    "import time\n",
    "import subprocess\n",
    "from itertools import chain\n",
    "import os"
   ]
  },
  {
   "cell_type": "code",
   "execution_count": null,
   "metadata": {},
   "outputs": [],
   "source": [
    "import sfacts as sf"
   ]
  },
  {
   "cell_type": "code",
   "execution_count": null,
   "metadata": {},
   "outputs": [],
   "source": [
    "import lib.thisproject.data"
   ]
  },
  {
   "cell_type": "code",
   "execution_count": null,
   "metadata": {},
   "outputs": [],
   "source": [
    "sns.set_context('talk')\n",
    "plt.rcParams['figure.dpi'] = 50"
   ]
  },
  {
   "cell_type": "code",
   "execution_count": null,
   "metadata": {},
   "outputs": [],
   "source": [
    "group = 'hmp2'\n",
    "species = '102492'\n",
    "stemA = 'r.proc'\n",
    "stemB = 'filt-poly05-cvrg05.ss-g10000-block0-seed0.fit-sfacts37-s85-seed0'\n",
    "spgc_params = 'e100'\n",
    "centroid = 75\n",
    "\n",
    "path = dict(\n",
    "    flag=f\"data/group/{group}/species/sp-{species}/{stemA}.gtpro.{stemB}.midas_gene{centroid}.spgc-{spgc_params}.strain_files.flag\",\n",
    "    fit=f\"data/group/{group}/species/sp-{species}/{stemA}.gtpro.{stemB}.world.nc\",\n",
    "    strain_correlation=f\"data/group/{group}/species/sp-{species}/{stemA}.gtpro.{stemB}.midas_gene{centroid}.spgc-{spgc_params}.strain_correlation.tsv\",\n",
    "    strain_depth_ratio=f\"data/group/{group}/species/sp-{species}/{stemA}.gtpro.{stemB}.midas_gene{centroid}.spgc-{spgc_params}.strain_depth_ratio.tsv\",\n",
    "    strain_fraction=f\"data/group/{group}/species/sp-{species}/{stemA}.gtpro.{stemB}.comm.tsv\",\n",
    "    species_gene_mean_depth=f\"data/group/{group}/species/sp-{species}/{stemA}.gtpro.midas_gene{centroid}.spgc-{spgc_params}.species_depth.tsv\",\n",
    "    species_gtpro_depth=f\"data/group/{group}/{stemA}.gtpro.species_depth.tsv\",\n",
    "    species_correlation=f\"data/group/{group}/species/sp-{species}/{stemA}.gtpro.midas_gene{centroid}.spgc-{spgc_params}.species_correlation.tsv\",\n",
    "    strain_thresholds=f\"data/group/{group}/species/sp-{species}/{stemA}.gtpro.{stemB}.midas_gene{centroid}.spgc-{spgc_params}.strain_gene_threshold.tsv\",\n",
    "    gene_annotations=f\"ref/midasdb_uhgg_gene_annotations/sp-{species}.gene{centroid}_annotations.tsv\",\n",
    "    raw_gene_depth=f\"data/group/{group}/species/sp-{species}/{stemA}.midas_gene{centroid}.depth.nc\",\n",
    "    reference_copy_number=f\"ref/midasdb_uhgg_pangenomes/{species}/midas_gene{centroid}.reference_copy_number.nc\",\n",
    "    cluster_info=f\"ref/midasdb_uhgg/pangenomes/{species}/cluster_info.txt\",\n",
    "    species_taxonomy=\"ref/gtpro/species_taxonomy_ext.tsv\",\n",
    "    midasdb_genomes=\"ref/uhgg_genomes_all_4644.tsv\",\n",
    "    gtpro_reference_genotype=f\"data/species/sp-{species}/gtpro_ref.mgtp.nc\"\n",
    ")\n",
    "\n",
    "path_exists = {}\n",
    "for p in path:\n",
    "    path_exists[path[p]] = os.path.exists(path[p])\n",
    "\n",
    "assert all(path_exists.values()), [p for p in path_exists if not path_exists[p]]"
   ]
  },
  {
   "cell_type": "code",
   "execution_count": null,
   "metadata": {},
   "outputs": [],
   "source": [
    "species_taxonomy = lib.thisproject.data.load_species_taxonomy(path[\"species_taxonomy\"])\n",
    "species_taxonomy.loc[species]"
   ]
  },
  {
   "cell_type": "code",
   "execution_count": null,
   "metadata": {},
   "outputs": [],
   "source": [
    "all_species_gtpro_depth = lib.thisproject.data.load_species_depth(path[\"species_gtpro_depth\"])\n",
    "all_species_gtpro_rabund = all_species_gtpro_depth.divide(all_species_gtpro_depth.sum(1), axis=0) \n",
    "\n",
    "plt.hist(all_species_gtpro_rabund[species], bins=np.linspace(0, 1, num=101))\n",
    "plt.yscale('log')\n",
    "None"
   ]
  },
  {
   "cell_type": "code",
   "execution_count": null,
   "metadata": {},
   "outputs": [],
   "source": [
    "plt.hist(all_species_gtpro_depth[species], bins=np.logspace(0, 3, num=51))\n",
    "plt.xscale('log')\n",
    "None"
   ]
  },
  {
   "cell_type": "code",
   "execution_count": null,
   "metadata": {},
   "outputs": [],
   "source": [
    "focal_species_core_depth = lib.thisproject.data.load_single_species_depth(path[\"species_gene_mean_depth\"])\n",
    "\n",
    "d = pd.DataFrame(dict(\n",
    "    gtpro=all_species_gtpro_depth[species],\n",
    "    gene=focal_species_core_depth,\n",
    "))\n",
    "\n",
    "plt.scatter('gtpro', 'gene', data=d, alpha=0.1)\n",
    "plt.yscale('symlog', linthresh=1e-4)\n",
    "plt.xscale('symlog', linthresh=1e-4)\n",
    "None"
   ]
  },
  {
   "cell_type": "code",
   "execution_count": null,
   "metadata": {},
   "outputs": [],
   "source": [
    "gene_depth = xr.load_dataarray(path[\"raw_gene_depth\"])\n",
    "\n",
    "plt.hist(np.log10(gene_depth.isel(sample=0) + 1e-5), bins=50)\n",
    "plt.yscale('log')\n",
    "None"
   ]
  },
  {
   "cell_type": "code",
   "execution_count": null,
   "metadata": {},
   "outputs": [],
   "source": [
    "species_corr = pd.read_table(path[\"species_correlation\"], names=['sample', 'correlation'], index_col='sample').squeeze()\n",
    "plt.hist(species_corr, bins=np.linspace(0, 1, num=101))\n",
    "plt.yscale('log')\n",
    "None"
   ]
  },
  {
   "cell_type": "code",
   "execution_count": null,
   "metadata": {},
   "outputs": [],
   "source": [
    "mgen = pd.read_table('meta/hmp2/mgen.tsv', index_col='library_id')\n",
    "preparation = pd.read_table('meta/hmp2/preparation.tsv', index_col='preparation_id')\n",
    "stool = pd.read_table('meta/hmp2/stool.tsv', index_col='stool_id')\n",
    "subject = pd.read_table('meta/hmp2/subject.tsv', index_col='subject_id')\n",
    "\n",
    "sample_meta = mgen.join(preparation, on='preparation_id', rsuffix='_').join(stool, on='stool_id').join(subject, on='subject_id').loc[all_species_gtpro_depth.index]"
   ]
  },
  {
   "cell_type": "code",
   "execution_count": null,
   "metadata": {},
   "outputs": [],
   "source": [
    "species_depth = pd.read_table(path[\"species_gene_mean_depth\"], names=['sample', 'depth'], index_col='sample').squeeze()"
   ]
  },
  {
   "cell_type": "code",
   "execution_count": null,
   "metadata": {},
   "outputs": [],
   "source": [
    "fit = sf.World.load(\n",
    "    path[\"fit\"]\n",
    ").drop_low_abundance_strains(0.05)\n",
    "print(fit.sizes)\n",
    "\n",
    "np.random.seed(0)\n",
    "position_ss = fit.random_sample(position=min(fit.sizes['position'], 1000)).position"
   ]
  },
  {
   "cell_type": "code",
   "execution_count": null,
   "metadata": {},
   "outputs": [],
   "source": [
    "ref_geno = sf.Genotype(\n",
    "    sf.data.Metagenotype.load(path[\"gtpro_reference_genotype\"])\n",
    "    .to_estimated_genotype()\n",
    "    .to_series()\n",
    "    .unstack()\n",
    "    .rename(lambda s: 'UHGG' + s[len('GUT_GENOME'):])\n",
    "    .stack()\n",
    "    .to_xarray()\n",
    "    .sel(position=fit.position)\n",
    ")"
   ]
  },
  {
   "cell_type": "code",
   "execution_count": null,
   "metadata": {},
   "outputs": [],
   "source": [
    "sample_to_strain = (\n",
    "    (fit.community.data > 0.95)\n",
    "    .to_series()\n",
    "    .unstack()\n",
    "    .apply(idxwhere, axis=1)\n",
    "    [lambda x: x.apply(bool)]\n",
    "    .str[0]\n",
    "    .rename('strain')\n",
    ")\n",
    "    \n",
    "strain_to_sample_list = (\n",
    "    sample_to_strain\n",
    "    .rename('strain_id')\n",
    "    .reset_index()\n",
    "    .groupby('strain_id')\n",
    "    .apply(lambda x: x['sample'].to_list())\n",
    ")\n",
    "strain_to_sample_list.apply(len).sort_values(ascending=False).head()"
   ]
  },
  {
   "cell_type": "code",
   "execution_count": null,
   "metadata": {},
   "outputs": [],
   "source": [
    "strain_thresholds = (\n",
    "    pd.read_table(path[\"strain_thresholds\"], index_col='strain')\n",
    "    .rename(columns=dict(\n",
    "        correlation_strict='corr_threshold_strict',\n",
    "        correlation_moderate='corr_threshold_moderate',\n",
    "        correlation_lenient='corr_threshold_lenient',\n",
    "        depth_high='depth_thresh_high',\n",
    "        depth_low='depth_thresh_low',\n",
    "    ))\n",
    ")\n",
    "\n",
    "_strain_meta = (\n",
    "    strain_thresholds\n",
    "    .join(fit.genotype.entropy().to_series().rename('genotype_entropy'))\n",
    "    .join(fit.metagenotype.entropy().to_series().rename('metagenotype_entropy').groupby(sample_to_strain).mean().rename(int))\n",
    "    .join(strain_to_sample_list.apply(len).rename('num_samples'))\n",
    "    .join(species_depth.apply(lambda x: x**(3)).groupby(sample_to_strain).std().rename('depth_stdev').rename(int))\n",
    "    .join(species_depth.apply(lambda x: x**(3)).groupby(sample_to_strain).max().rename('depth_max').rename(int))\n",
    "    .join(species_depth.apply(lambda x: x**(3)).groupby(sample_to_strain).sum().rename('depth_sum').rename(int))\n",
    "    .assign(power_index=lambda x: (x.depth_stdev * np.sqrt(x.num_samples)).fillna(0))\n",
    ")\n",
    "strain_meta = _strain_meta\n",
    "\n",
    "\n",
    "power_index_thresh = 200\n",
    "genotype_entropy_thresh = 0.2\n",
    "\n",
    "high_power_strain_list = idxwhere((strain_meta.power_index > power_index_thresh) & (strain_meta.genotype_entropy < genotype_entropy_thresh))\n",
    "print(len(high_power_strain_list))\n",
    "highest_power_strain_list = strain_meta.sort_values('power_index', ascending=False).head(3).index\n",
    "\n",
    "plt.scatter(strain_meta.power_index, strain_meta.corr_threshold_moderate, c=strain_meta.genotype_entropy, alpha=0.5)\n",
    "plt.axvline(power_index_thresh, lw=1, linestyle='--', color='k')\n",
    "plt.colorbar()\n",
    "plt.xscale('log')"
   ]
  },
  {
   "cell_type": "code",
   "execution_count": null,
   "metadata": {},
   "outputs": [],
   "source": [
    "strain_meta.assign(high_power=lambda x: x.index.isin(high_power_strain_list)).sort_values('power_index', ascending=False).head(20)"
   ]
  },
  {
   "cell_type": "code",
   "execution_count": null,
   "metadata": {},
   "outputs": [],
   "source": [
    "high_power_strain_palette = lib.plot.construct_ordered_palette(high_power_strain_list, mpl.cm.Spectral)"
   ]
  },
  {
   "cell_type": "code",
   "execution_count": null,
   "metadata": {},
   "outputs": [],
   "source": [
    "strain_corr = pd.read_table(path[\"strain_correlation\"], index_col=['gene_id', 'strain']).squeeze().unstack('strain', fill_value=0)\n",
    "strain_depth = pd.read_table(\n",
    "    path[\"strain_depth_ratio\"],\n",
    "    index_col=['gene_id', 'strain']\n",
    ").squeeze().unstack()\n",
    "strain_corr, strain_depth = align_indexes(*align_indexes(strain_corr, strain_depth), axis=\"columns\")"
   ]
  },
  {
   "cell_type": "code",
   "execution_count": null,
   "metadata": {},
   "outputs": [],
   "source": [
    "reference_copy_number = xr.load_dataarray(path[\"reference_copy_number\"])\n",
    "reference_hit = pd.DataFrame(\n",
    "    reference_copy_number.T > 0,\n",
    "    columns=reference_copy_number.genome_id,\n",
    "    index=reference_copy_number.gene_id,\n",
    ")"
   ]
  },
  {
   "cell_type": "code",
   "execution_count": null,
   "metadata": {},
   "outputs": [],
   "source": [
    "_strain_list = high_power_strain_list\n",
    "\n",
    "fig, axs = lib.plot.subplots_grid(ncols=3, naxes=len(_strain_list), ax_width=5, ax_height=4, sharex=True)\n",
    "\n",
    "for strain, ax in zip(_strain_list, axs.flatten()):\n",
    "    ax.scatter(1 - strain_corr[strain], strain_depth[strain], s=1, alpha=0.05)\n",
    "    ax.axvline(1 - strain_meta['corr_threshold_moderate'][strain], color='k', linestyle='--')\n",
    "    ax.axhline(strain_meta['depth_thresh_low'][strain], color='k', linestyle='--')\n",
    "    ax.set_xscale('symlog', linthresh=1e-4)\n",
    "    ax.set_xlim(left=-1e-5, right=1)\n",
    "    ax.invert_xaxis()\n",
    "    ax.set_yscale('log')\n",
    "    ax.set_title(strain)\n",
    "fig.tight_layout()"
   ]
  },
  {
   "cell_type": "code",
   "execution_count": null,
   "metadata": {},
   "outputs": [],
   "source": [
    "strict_corr_hit = strain_corr > strain_meta.corr_threshold_strict\n",
    "lenient_corr_hit = strain_corr > strain_meta.corr_threshold_lenient\n",
    "moderate_corr_hit = strain_corr > strain_meta.corr_threshold_moderate\n",
    "low_corr =  strain_corr < strain_meta.corr_threshold_lenient\n",
    "\n",
    "low_depth = (strain_depth < strain_meta.depth_thresh_low)\n",
    "depth_hit = ~low_depth\n",
    "high_depth = (strain_depth > strain_meta.depth_thresh_high)\n",
    "high_confidence_hit = depth_hit & strict_corr_hit\n",
    "moderate_hit = depth_hit & moderate_corr_hit\n",
    "maybe_hit = depth_hit & lenient_corr_hit\n",
    "low_depth_hit = low_depth & strict_corr_hit\n",
    "high_depth_hit = high_depth & strict_corr_hit\n",
    "ambiguous_hit = depth_hit ^ strict_corr_hit\n",
    "high_confidence_not_hit = low_depth & low_corr"
   ]
  },
  {
   "cell_type": "code",
   "execution_count": null,
   "metadata": {},
   "outputs": [],
   "source": [
    "d = pd.DataFrame(dict(\n",
    "    tally_moderate_hits=moderate_hit.sum(),\n",
    "    sum_gene_ratio=strain_depth[moderate_hit].sum(),\n",
    ")).assign(ratio=lambda x: x.sum_gene_ratio / x.tally_moderate_hits)\n",
    "\n",
    "fig, ax = plt.subplots(figsize=(15, 5))\n",
    "bins = np.linspace(0, 10000, num=21)\n",
    "# sns.kdeplot(reference_hit.sum())\n",
    "# sns.kdeplot(d.tally_moderate_hits)\n",
    "# sns.kdeplot(d.tally_moderate_hits.loc[high_power_strain_list])\n",
    "\n",
    "\n",
    "plt.hist(reference_hit.sum(), bins=bins, density=True, alpha=0.5)\n",
    "# plt.hist(d.tally_moderate_hits, bins=bins, density=True, alpha=0.5)\n",
    "plt.hist(d.tally_moderate_hits.loc[high_power_strain_list], bins=bins, density=True, alpha=0.5)\n",
    "\n",
    "d.loc[high_power_strain_list].sort_values('ratio')"
   ]
  },
  {
   "cell_type": "code",
   "execution_count": null,
   "metadata": {},
   "outputs": [],
   "source": [
    "d = pd.DataFrame(dict(\n",
    "    tally_moderate_hits=moderate_hit.sum(),\n",
    "    sum_gene_ratio=strain_depth[moderate_hit].sum(),\n",
    ")).assign(ratio=lambda x: x.sum_gene_ratio / x.tally_moderate_hits)\n",
    "\n",
    "fig, ax = plt.subplots(figsize=(15, 5))\n",
    "bins = np.linspace(0, 10000, num=21)\n",
    "# sns.kdeplot(reference_hit.sum())\n",
    "# sns.kdeplot(d.tally_moderate_hits)\n",
    "# sns.kdeplot(d.tally_moderate_hits.loc[high_power_strain_list])\n",
    "\n",
    "\n",
    "plt.hist(reference_copy_number.sum(\"gene_id\"), bins=bins, density=True, alpha=0.5)\n",
    "# plt.hist(d.sum_gene_ratio, bins=bins, density=True, alpha=0.5)\n",
    "plt.hist(d.sum_gene_ratio.loc[high_power_strain_list], bins=bins, density=True, alpha=0.5)\n",
    "None"
   ]
  },
  {
   "cell_type": "code",
   "execution_count": null,
   "metadata": {},
   "outputs": [],
   "source": [
    "samples_with_high_power_strains = idxwhere(fit.community.data.sel(strain=high_power_strain_list).sum(\"strain\").to_series() > 0.5)\n",
    "samples_without_high_power_strains = idxwhere(fit.community.data.sel(strain=high_power_strain_list).sum(\"strain\").to_series() < 0.5)\n",
    "len(samples_with_high_power_strains), len(samples_without_high_power_strains)"
   ]
  },
  {
   "cell_type": "code",
   "execution_count": null,
   "metadata": {},
   "outputs": [],
   "source": [
    "sf.plot.plot_genotype(\n",
    "    fit.sel(strain=high_power_strain_list, position=position_ss),\n",
    "    col_linkage_func=lambda w: w.metagenotype.linkage(\"position\"),\n",
    "    row_linkage_func=lambda w: w.genotype.linkage(\"strain\"),\n",
    ")"
   ]
  },
  {
   "cell_type": "code",
   "execution_count": null,
   "metadata": {},
   "outputs": [],
   "source": [
    "sf.plot.plot_metagenotype(\n",
    "    fit.sel(sample=samples_with_high_power_strains, position=position_ss),\n",
    "    col_linkage_func=lambda w: w.metagenotype.linkage(),\n",
    "    row_linkage_func=lambda w: w.metagenotype.linkage(\"position\"),\n",
    "    col_colors=fit.sel(sample=samples_with_high_power_strains, position=position_ss).sample.to_series().map(sample_to_strain).map(high_power_strain_palette),\n",
    ")"
   ]
  },
  {
   "cell_type": "code",
   "execution_count": null,
   "metadata": {},
   "outputs": [],
   "source": [
    "sf.plot.plot_community(\n",
    "    fit.sel(sample=samples_with_high_power_strains, position=position_ss).drop_low_abundance_strains(0.05),\n",
    "    col_linkage_func=lambda w: w.metagenotype.linkage(),\n",
    "    row_linkage_func=lambda w: w.genotype.linkage(\"strain\"),\n",
    "    col_colors=fit.sel(sample=samples_with_high_power_strains, position=position_ss).sample.to_series().map(sample_to_strain).map(high_power_strain_palette),\n",
    ")"
   ]
  },
  {
   "cell_type": "code",
   "execution_count": null,
   "metadata": {},
   "outputs": [],
   "source": [
    "gene_cluster = pd.read_table(\n",
    "    path[\"cluster_info\"]\n",
    ").set_index('centroid_99', drop=False).rename_axis(index='gene_id')\n",
    "gene_annotation = pd.read_table(\n",
    "    path[\"gene_annotations\"],\n",
    "    names=['locus_tag', 'ftype', 'length_bp', 'gene', 'EC_number', 'COG', 'product'],\n",
    "    index_col='locus_tag',\n",
    ").rename(columns=str.lower)\n",
    "\n",
    "gene_meta = gene_cluster.loc[gene_cluster[f'centroid_{centroid}'].unique()].join(gene_annotation)"
   ]
  },
  {
   "cell_type": "code",
   "execution_count": null,
   "metadata": {},
   "outputs": [],
   "source": [
    "_cog_meta = pd.read_table(\n",
    "    'ref/cog-20.meta.tsv',\n",
    "    names=['cog', 'categories', 'description', 'gene', 'pathway', '_1', '_2'],\n",
    "    index_col=['cog']\n",
    ")\n",
    "cog_meta = _cog_meta.drop(columns=['categories', '_1', '_2'])\n",
    "cog_x_category = _cog_meta.categories.apply(tuple).apply(pd.Series).unstack().to_frame(name='category').reset_index()[['cog', 'category']].dropna()"
   ]
  },
  {
   "cell_type": "code",
   "execution_count": null,
   "metadata": {},
   "outputs": [],
   "source": [
    "cog_category = pd.read_table('ref/cog-20.categories.tsv', names=['category', 'description'], index_col='category')"
   ]
  },
  {
   "cell_type": "code",
   "execution_count": null,
   "metadata": {},
   "outputs": [],
   "source": [
    "strain_list = high_power_strain_list\n",
    "gene_list = idxwhere(moderate_hit[strain_list].sum(1) > 0)\n",
    "\n",
    "x = strain_depth.loc[gene_list, strain_list]\n",
    "\n",
    "# _gene_linkage = sp.cluster.hierarchy.linkage(x, metric='cosine')\n",
    "\n",
    "if len(gene_list) < 2e4:\n",
    "    sns.clustermap(\n",
    "        x,\n",
    "        metric='cosine',\n",
    "        norm=mpl.colors.SymLogNorm(linthresh=1e-4, vmin=0.1, vmax=10),\n",
    "        yticklabels=0,\n",
    "        xticklabels=0,\n",
    "        # row_linkage=_gene_linkage,\n",
    "        col_linkage=fit.genotype.discretized().sel(strain=strain_list).linkage(\"strain\"),\n",
    "    )\n",
    "else:\n",
    "    print(\"Too many genes for clustermap:\", len(gene_list))\n",
    "\n",
    "print(len(gene_list), len(gene_list) - gene_annotation.loc[gene_list]['product'].value_counts()['hypothetical protein'])\n",
    "print()\n",
    "print(\n",
    "    gene_annotation\n",
    "    .loc[gene_list]\n",
    "    .cog.to_frame()\n",
    "    .join(cog_meta, on='cog')\n",
    "    .pathway\n",
    "    .value_counts()\n",
    "    .sort_values(ascending=False)\n",
    "    .head(10)\n",
    ")\n",
    "print()\n",
    "print(\n",
    "    gene_meta\n",
    "    .loc[gene_list]\n",
    "    ['product']\n",
    "    .value_counts()\n",
    "    .head(10)\n",
    ")\n",
    "print()\n",
    "print(pd.merge(\n",
    "    gene_annotation.loc[gene_list].cog.dropna().to_frame(),\n",
    "    cog_x_category,\n",
    "    on='cog',\n",
    ").category.value_counts().to_frame().join(cog_category).head(10))"
   ]
  },
  {
   "cell_type": "code",
   "execution_count": null,
   "metadata": {},
   "outputs": [],
   "source": [
    "strain_list = high_power_strain_list\n",
    "gene_list = idxwhere(moderate_hit[strain_list].mean(1) > 0.8)\n",
    "\n",
    "x = strain_depth.loc[gene_list, strain_list]\n",
    "\n",
    "_gene_linkage = sp.cluster.hierarchy.linkage(x, metric='cosine')\n",
    "\n",
    "if len(gene_list) < 2e4:\n",
    "    sns.clustermap(\n",
    "        x,\n",
    "        metric='cosine',\n",
    "        norm=mpl.colors.SymLogNorm(linthresh=1e-4, vmin=0.1, vmax=10),\n",
    "        yticklabels=0,\n",
    "        xticklabels=0,\n",
    "        row_linkage=_gene_linkage,\n",
    "        col_linkage=fit.genotype.discretized().sel(strain=strain_list).linkage(\"strain\"),\n",
    "    )\n",
    "else:\n",
    "    print(\"Too many genes for clustermap:\", len(gene_list))\n",
    "\n",
    "print(len(gene_list), len(gene_list) - gene_annotation.loc[gene_list]['product'].value_counts()['hypothetical protein'])\n",
    "print()\n",
    "print(\n",
    "    gene_annotation\n",
    "    .loc[gene_list]\n",
    "    .cog.to_frame()\n",
    "    .join(cog_meta, on='cog')\n",
    "    .pathway\n",
    "    .value_counts()\n",
    "    .sort_values(ascending=False)\n",
    "    .head(10)\n",
    ")\n",
    "print()\n",
    "print(\n",
    "    gene_meta\n",
    "    .loc[gene_list]\n",
    "    ['product']\n",
    "    .value_counts()\n",
    "    .head(10)\n",
    ")\n",
    "print()\n",
    "print(pd.merge(\n",
    "    gene_annotation.loc[gene_list].cog.dropna().to_frame(),\n",
    "    cog_x_category,\n",
    "    on='cog',\n",
    ").category.value_counts().to_frame().join(cog_category).head(10))"
   ]
  },
  {
   "cell_type": "code",
   "execution_count": null,
   "metadata": {},
   "outputs": [],
   "source": [
    "strain_list = high_power_strain_list\n",
    "gene_list = idxwhere((moderate_hit[strain_list].mean(1) > 0.05) & (high_confidence_not_hit[strain_list].mean(1) > 0.2))\n",
    "\n",
    "x = strain_depth.loc[gene_list, strain_list]\n",
    "\n",
    "_gene_linkage = sp.cluster.hierarchy.linkage(x, metric='cosine')\n",
    "\n",
    "if len(gene_list) < 2e4:\n",
    "    sns.clustermap(\n",
    "        x,\n",
    "        metric='cosine',\n",
    "        norm=mpl.colors.SymLogNorm(linthresh=1e-4, vmin=0.1, vmax=10),\n",
    "        yticklabels=0,\n",
    "        xticklabels=0,\n",
    "        row_linkage=_gene_linkage,\n",
    "        col_linkage=fit.genotype.discretized().sel(strain=strain_list).linkage(\"strain\"),\n",
    "    )\n",
    "else:\n",
    "    print(\"Too many genes for clustermap:\", len(gene_list))\n",
    "\n",
    "print(len(gene_list), len(gene_list) - gene_annotation.loc[gene_list]['product'].value_counts()['hypothetical protein'])\n",
    "print()\n",
    "print(\n",
    "    gene_annotation\n",
    "    .loc[gene_list]\n",
    "    .cog.to_frame()\n",
    "    .join(cog_meta, on='cog')\n",
    "    .pathway\n",
    "    .value_counts()\n",
    "    .sort_values(ascending=False)\n",
    "    .head(10)\n",
    ")\n",
    "print()\n",
    "print(\n",
    "    gene_meta\n",
    "    .loc[gene_list]\n",
    "    ['product']\n",
    "    .value_counts()\n",
    "    .head(10)\n",
    ")\n",
    "print()\n",
    "print(pd.merge(\n",
    "    gene_annotation.loc[gene_list].cog.dropna().to_frame(),\n",
    "    cog_x_category,\n",
    "    on='cog',\n",
    ").category.value_counts().to_frame().join(cog_category).head(10))"
   ]
  },
  {
   "cell_type": "code",
   "execution_count": null,
   "metadata": {},
   "outputs": [],
   "source": [
    "strain_list = high_power_strain_list\n",
    "gene_list = idxwhere((moderate_hit[strain_list].mean(1) > 0.05) & (high_confidence_not_hit[strain_list].mean(1) > 0.2))\n",
    "\n",
    "x = moderate_hit.loc[gene_list, strain_list].astype(float)\n",
    "\n",
    "if len(gene_list) < 2e4:\n",
    "    sns.clustermap(\n",
    "        x,\n",
    "        metric='cosine',\n",
    "        norm=mpl.colors.SymLogNorm(linthresh=1e-4, vmin=0.1, vmax=10),\n",
    "        yticklabels=0,\n",
    "        xticklabels=0,\n",
    "        row_linkage=_gene_linkage,\n",
    "        col_linkage=fit.genotype.discretized().sel(strain=strain_list).linkage(\"strain\"),\n",
    "    )\n",
    "else:\n",
    "    print(\"Too many genes for clustermap:\", len(gene_list))"
   ]
  },
  {
   "cell_type": "code",
   "execution_count": null,
   "metadata": {},
   "outputs": [],
   "source": [
    "strain_list = high_power_strain_list\n",
    "gene_list = idxwhere((moderate_hit[strain_list].mean(1) > 0.05) & (high_confidence_not_hit[strain_list].mean(1) > 0.2))\n",
    "\n",
    "x = (\n",
    "    moderate_hit.loc[gene_list, strain_list].astype(float) * 3\n",
    "    + (1 - high_confidence_not_hit.loc[gene_list, strain_list].astype(float)) * 2\n",
    ")\n",
    "\n",
    "if len(gene_list) < 2e4:\n",
    "    sns.clustermap(\n",
    "        x,\n",
    "        metric='cosine',\n",
    "        # norm=mpl.colors.SymLogNorm(linthresh=1e-4, vmin=0.1, vmax=10),\n",
    "        yticklabels=0,\n",
    "        xticklabels=0,\n",
    "        row_linkage=_gene_linkage,\n",
    "        col_linkage=fit.genotype.discretized().sel(strain=strain_list).linkage(\"strain\"),\n",
    "        cmap='gray_r',\n",
    "    )\n",
    "else:\n",
    "    print(\"Too many genes for clustermap:\", len(gene_list))"
   ]
  },
  {
   "cell_type": "markdown",
   "metadata": {},
   "source": [
    "# Broad strokes characterization of gene sets"
   ]
  },
  {
   "cell_type": "markdown",
   "metadata": {},
   "source": [
    "## Phylogenetic conservation"
   ]
  },
  {
   "cell_type": "code",
   "execution_count": null,
   "metadata": {},
   "outputs": [],
   "source": [
    "strain_list = high_power_strain_list\n",
    "gene_list = moderate_hit.index\n",
    "\n",
    "m = gene_meta.join(cog_meta, on='cog', rsuffix='_cog')\n",
    "x = moderate_hit.loc[gene_list, strain_list]\n",
    "\n",
    "fdist = pd.DataFrame(sp.spatial.distance.squareform(sp.spatial.distance.pdist(x.T, metric='jaccard')), index=x.columns, columns=x.columns)\n",
    "gdist = fit.genotype.discretized().sel(strain=strain_list).pdist()\n",
    "\n",
    "d = pd.DataFrame(dict(\n",
    "    genotype_distance=sp.spatial.distance.squareform(gdist),\n",
    "    gene_content_distance=sp.spatial.distance.squareform(fdist)\n",
    "))\n",
    "plt.scatter('genotype_distance', 'gene_content_distance', data=d, s=5)\n",
    "sp.stats.spearmanr(d.genotype_distance, d.gene_content_distance)"
   ]
  },
  {
   "cell_type": "code",
   "execution_count": null,
   "metadata": {},
   "outputs": [],
   "source": [
    "strain_list = high_power_strain_list\n",
    "gene_list = idxwhere((moderate_hit[strain_list].mean(1) > 0.05) & (high_confidence_not_hit[strain_list].mean(1) > 0.2))\n",
    "\n",
    "m = gene_meta.join(cog_meta, on='cog', rsuffix='_cog')\n",
    "x = moderate_hit.loc[gene_list, strain_list]\n",
    "\n",
    "fdist = pd.DataFrame(sp.spatial.distance.squareform(sp.spatial.distance.pdist(x.T, metric='jaccard')), index=x.columns, columns=x.columns)\n",
    "gdist = fit.genotype.discretized().sel(strain=strain_list).pdist()\n",
    "\n",
    "d = pd.DataFrame(dict(\n",
    "    genotype_distance=sp.spatial.distance.squareform(gdist),\n",
    "    gene_content_distance=sp.spatial.distance.squareform(fdist)\n",
    "))\n",
    "plt.scatter('genotype_distance', 'gene_content_distance', data=d, s=5)\n",
    "sp.stats.spearmanr(d.genotype_distance, d.gene_content_distance)"
   ]
  },
  {
   "cell_type": "code",
   "execution_count": null,
   "metadata": {},
   "outputs": [],
   "source": [
    "tally_cog_category_reps = pd.merge(\n",
    "    gene_meta.loc[idxwhere(moderate_hit[strain_list].any(1))].cog.value_counts().reset_index().rename(columns=dict(index='cog', cog='tally')),\n",
    "    cog_x_category,\n",
    "    on='cog'\n",
    ").groupby('category').tally.sum().sort_values(ascending=False)\n",
    "tally_cog_category_reps"
   ]
  },
  {
   "cell_type": "code",
   "execution_count": null,
   "metadata": {},
   "outputs": [],
   "source": [
    "fig, axs = plt.subplots(5, 3, figsize=(15, 19), sharex=True, sharey=True)\n",
    "\n",
    "for this_cog_category, ax in zip(tally_cog_category_reps.index, axs.flatten()):\n",
    "    ax.set_title(this_cog_category)\n",
    "    strain_list = high_power_strain_list\n",
    "    cog_list = cog_x_category[cog_x_category.category == this_cog_category].cog.unique()\n",
    "    gene_list = gene_meta.cog.isin(cog_list)\n",
    "\n",
    "    x = moderate_hit.loc[gene_list, strain_list]\n",
    "    fdist = pd.DataFrame(sp.spatial.distance.squareform(sp.spatial.distance.pdist(x.T, metric='jaccard')), index=x.columns, columns=x.columns)\n",
    "\n",
    "    gdist = fit.genotype.discretized().sel(strain=strain_list).pdist()\n",
    "\n",
    "    d = pd.DataFrame(dict(\n",
    "        genotype_distance=sp.spatial.distance.squareform(gdist),\n",
    "        gene_content_distance=sp.spatial.distance.squareform(fdist)\n",
    "    ))\n",
    "    ax.scatter('genotype_distance', 'gene_content_distance', data=d, s=5)\n",
    "    ax.annotate(np.round(sp.stats.spearmanr(d.genotype_distance, d.gene_content_distance)[0], 2), xy=(0.8, 0.9), xycoords='axes fraction')\n",
    "    ax.annotate(int(x.mean(1).sum()), xy=(0.8, 0.7), xycoords='axes fraction')\n",
    "    ax.annotate(cog_category.loc[this_cog_category].description, xy=(0.0, 0.8), xycoords='axes fraction')"
   ]
  },
  {
   "cell_type": "markdown",
   "metadata": {},
   "source": [
    "# Enrichment Analysis in Reference Genomes"
   ]
  },
  {
   "cell_type": "code",
   "execution_count": null,
   "metadata": {},
   "outputs": [],
   "source": [
    "x = reference_hit\n",
    "y = moderate_hit\n",
    "\n",
    "_all_genes = list(set(x.index) | set(y.index))\n",
    "\n",
    "x = x.reindex(_all_genes, fill_value=False)\n",
    "y = y.reindex(_all_genes, fill_value=False)\n",
    "\n",
    "jac_cdist_inf_moderate = pd.DataFrame(sp.spatial.distance.cdist(x.T, y.T, metric='jaccard'), index=x.columns, columns=y.columns)"
   ]
  },
  {
   "cell_type": "code",
   "execution_count": null,
   "metadata": {},
   "outputs": [],
   "source": [
    "moderate_confidence_diff = pd.DataFrame(x[jac_cdist_inf_moderate.idxmin()].values * 2 - y[jac_cdist_inf_moderate.columns].values * 3, index=x.index, columns=y.columns).replace({-3: 'only_inf', -1: 'shared_genes', 0: 'both_lacking', 2: 'only_ref'})\n",
    "moderate_confidence_diff.apply(lambda x: x.value_counts())[high_power_strain_list]"
   ]
  },
  {
   "cell_type": "code",
   "execution_count": null,
   "metadata": {},
   "outputs": [],
   "source": [
    "x = reference_hit\n",
    "y = high_confidence_hit\n",
    "\n",
    "_all_genes = list(set(x.index) | set(y.index))\n",
    "\n",
    "x = x.reindex(_all_genes, fill_value=False)\n",
    "y = y.reindex(_all_genes, fill_value=False)\n",
    "\n",
    "jac_cdist_inf_confident = pd.DataFrame(sp.spatial.distance.cdist(x.T, y.T, metric='jaccard'), index=x.columns, columns=y.columns)"
   ]
  },
  {
   "cell_type": "code",
   "execution_count": null,
   "metadata": {},
   "outputs": [],
   "source": [
    "high_confidence_diff = pd.DataFrame(x[jac_cdist_inf_confident.idxmin()].values * 2 - y[jac_cdist_inf_confident.columns].values * 3, index=x.index, columns=y.columns).replace({-3: 'only_inf', -1: 'shared_genes', 0: 'both_lacking', 2: 'only_ref'})\n",
    "high_confidence_diff.apply(lambda x: x.value_counts())[high_power_strain_list]"
   ]
  },
  {
   "cell_type": "code",
   "execution_count": null,
   "metadata": {},
   "outputs": [],
   "source": [
    "x = reference_hit.mean(1)\n",
    "y = moderate_hit[high_power_strain_list].mean(1)\n",
    "\n",
    "_all_genes = list(set(x.index) | set(y.index))\n",
    "\n",
    "x = x.reindex(_all_genes, fill_value=False)\n",
    "y = y.reindex(_all_genes, fill_value=False)\n",
    "\n",
    "plt.scatter(x, y, alpha=0.2, s=1)\n",
    "sp.stats.pearsonr(x, y)"
   ]
  },
  {
   "cell_type": "code",
   "execution_count": null,
   "metadata": {},
   "outputs": [],
   "source": [
    "ref_geno_pdist = ref_geno.pdist()\n",
    "ref_hits_pdist = pd.DataFrame(\n",
    "    sp.spatial.distance.squareform(sp.spatial.distance.pdist(reference_hit[ref_geno.strain].T, metric='jaccard')),\n",
    "    index=ref_geno_pdist.index,\n",
    "    columns=ref_geno_pdist.columns\n",
    ")"
   ]
  },
  {
   "cell_type": "code",
   "execution_count": null,
   "metadata": {},
   "outputs": [],
   "source": [
    "x = sp.spatial.distance.squareform(ref_geno_pdist)\n",
    "y = sp.spatial.distance.squareform(ref_hits_pdist)\n",
    "plt.scatter(x, y, alpha=0.01, s=1)\n",
    "# plt.xscale('symlog', linthresh=1e-3, linscale=0.1)"
   ]
  },
  {
   "cell_type": "code",
   "execution_count": null,
   "metadata": {},
   "outputs": [],
   "source": [
    "geno_cdist_to_ref = pd.DataFrame(sf.math.genotype_cdist(fit.genotype.discretized().values, ref_geno.values), index=fit.strain, columns=ref_geno.strain)\n",
    "geno_cdist_to_ref.shape"
   ]
  },
  {
   "cell_type": "code",
   "execution_count": null,
   "metadata": {},
   "outputs": [],
   "source": [
    "hits_cdist_to_ref = pd.DataFrame(sp.spatial.distance.cdist(moderate_hit.reindex(reference_hit.index, fill_value=False).T, reference_hit[ref_geno.strain].T, metric='jaccard'), index=moderate_hit.columns, columns=ref_geno.strain)\n",
    "hits_cdist_to_ref.shape"
   ]
  },
  {
   "cell_type": "code",
   "execution_count": null,
   "metadata": {},
   "outputs": [],
   "source": [
    "depth_only_hits_cdist_to_ref = pd.DataFrame(sp.spatial.distance.cdist(depth_hit.reindex(reference_hit.index, fill_value=False).T, reference_hit[ref_geno.strain].T, metric='jaccard'), index=moderate_hit.columns, columns=ref_geno.strain)\n",
    "depth_only_hits_cdist_to_ref.shape"
   ]
  },
  {
   "cell_type": "code",
   "execution_count": null,
   "metadata": {},
   "outputs": [],
   "source": [
    "_geno_cdist, _hits_cdist, _depth_hits_cdist = align_indexes(geno_cdist_to_ref, hits_cdist_to_ref, depth_only_hits_cdist_to_ref)\n",
    "\n",
    "best_match_inf_geno = _geno_cdist.idxmin(1)\n",
    "best_match_inf_geno_diss = {}\n",
    "best_match_inf_hits_diss = {}\n",
    "best_match_depth_inf_hits_diss = {}\n",
    "for s in _geno_cdist.index:\n",
    "    best_match_inf_geno_diss[s] = _geno_cdist.loc[s, best_match_inf_geno[s]]\n",
    "    best_match_inf_hits_diss[s] = _hits_cdist.loc[s, best_match_inf_geno[s]]\n",
    "    best_match_depth_inf_hits_diss[s] = _depth_hits_cdist.loc[s, best_match_inf_geno[s]]"
   ]
  },
  {
   "cell_type": "code",
   "execution_count": null,
   "metadata": {},
   "outputs": [],
   "source": [
    "_geno_cdist, _hits_cdist = (ref_geno_pdist + np.eye(ref_geno_pdist.shape[0])), (ref_hits_pdist + np.eye(ref_hits_pdist.shape[0]))\n",
    "\n",
    "best_match_ref_geno = _geno_cdist.idxmin(1)\n",
    "# By adding 1 to the diagonal, we should make the best match NOT itself.\n",
    "assert not (best_match_ref_geno.index.to_series() == best_match_ref_geno).any()\n",
    "\n",
    "best_match_ref_geno_diss = {}\n",
    "best_match_ref_hits_diss = {}\n",
    "for s in _geno_cdist.index:\n",
    "    best_match_ref_geno_diss[s] = _geno_cdist.loc[s, best_match_ref_geno[s]]\n",
    "    best_match_ref_hits_diss[s] = _hits_cdist.loc[s, best_match_ref_geno[s]]"
   ]
  },
  {
   "cell_type": "code",
   "execution_count": null,
   "metadata": {},
   "outputs": [],
   "source": [
    "d_inf_to_ref = pd.DataFrame(dict(\n",
    "    geno=best_match_inf_geno_diss,\n",
    "    hits=best_match_inf_hits_diss,\n",
    "    depth_hits=best_match_depth_inf_hits_diss,\n",
    "    power_index=strain_meta.power_index,\n",
    "))\n",
    "\n",
    "d_ref_to_ref = pd.DataFrame(dict(\n",
    "    geno=best_match_ref_geno_diss,\n",
    "    hits=best_match_ref_hits_diss,\n",
    "    power_index=strain_meta.power_index,\n",
    "))\n",
    "\n",
    "d_all_by_all = pd.DataFrame(dict(\n",
    "    geno=sp.spatial.distance.squareform(ref_geno_pdist),\n",
    "    hits=sp.spatial.distance.squareform(ref_hits_pdist),\n",
    "))\n",
    "\n",
    "\n",
    "fig = plt.figure(figsize=(15, 10))\n",
    "xbins = np.logspace(-3, 0, num=101)\n",
    "ybins = np.linspace(0, 1.0, num=101)\n",
    "plt.hist2d('geno', 'hits', data=d_all_by_all, bins=(xbins, ybins), norm=mpl.colors.SymLogNorm(linthresh=1), cmap=mpl.cm.Greys)\n",
    "plt.colorbar()\n",
    "plt.xscale('symlog', linthresh=1e-3, linscale=0.2)\n",
    "# plt.scatter('geno', 'hits', data=d_ref_to_ref, s=20)\n",
    "# plt.scatter('geno', 'hits', data=d_inf_to_ref.loc[high_power_strain_list], s=20)\n",
    "\n",
    "\n",
    "None"
   ]
  },
  {
   "cell_type": "code",
   "execution_count": null,
   "metadata": {},
   "outputs": [],
   "source": [
    "d_inf_to_ref = pd.DataFrame(dict(\n",
    "    geno=best_match_inf_geno_diss,\n",
    "    hits=best_match_inf_hits_diss,\n",
    "    depth_hits=best_match_depth_inf_hits_diss,\n",
    "    power_index=strain_meta.power_index,\n",
    "))\n",
    "\n",
    "d_ref_to_ref = pd.DataFrame(dict(\n",
    "    geno=best_match_ref_geno_diss,\n",
    "    hits=best_match_ref_hits_diss,\n",
    "    power_index=strain_meta.power_index,\n",
    "))\n",
    "\n",
    "d_all_by_all = pd.DataFrame(dict(\n",
    "    geno=sp.spatial.distance.squareform(ref_geno_pdist),\n",
    "    hits=sp.spatial.distance.squareform(ref_hits_pdist),\n",
    "))\n",
    "\n",
    "\n",
    "fig = plt.figure(figsize=(15, 10))\n",
    "xbins = np.logspace(-3, 0, num=101)\n",
    "ybins = np.linspace(0, 1.0, num=101)\n",
    "plt.hist2d('geno', 'hits', data=d_all_by_all, bins=(xbins, ybins), norm=mpl.colors.SymLogNorm(linthresh=1), cmap=mpl.cm.Greys)\n",
    "plt.colorbar()\n",
    "plt.xscale('symlog', linthresh=1e-3, linscale=0.2)\n",
    "plt.scatter('geno', 'hits', data=d_ref_to_ref, s=20, color='tab:blue')\n",
    "# plt.scatter('geno', 'depth_hits', data=d_inf_to_ref.loc[high_power_strain_list], s=40, color='tab:purple')\n",
    "plt.scatter('geno', 'hits', data=d_inf_to_ref.loc[high_power_strain_list], s=40, color='tab:orange')\n",
    "\n",
    "\n",
    "None"
   ]
  },
  {
   "cell_type": "code",
   "execution_count": null,
   "metadata": {},
   "outputs": [],
   "source": [
    "d_inf_to_ref = pd.DataFrame(dict(\n",
    "    geno=best_match_inf_geno_diss,\n",
    "    hits=best_match_inf_hits_diss,\n",
    "    depth_hits=best_match_depth_inf_hits_diss,\n",
    "    power_index=strain_meta.power_index,\n",
    "))\n",
    "\n",
    "d_ref_to_ref = pd.DataFrame(dict(\n",
    "    geno=best_match_ref_geno_diss,\n",
    "    hits=best_match_ref_hits_diss,\n",
    "    power_index=strain_meta.power_index,\n",
    "))\n",
    "\n",
    "d_all_by_all = pd.DataFrame(dict(\n",
    "    geno=sp.spatial.distance.squareform(ref_geno_pdist),\n",
    "    hits=sp.spatial.distance.squareform(ref_hits_pdist),\n",
    "))\n",
    "\n",
    "\n",
    "fig = plt.figure(figsize=(15, 10))\n",
    "xbins = np.linspace(0, 1.0, num=101)\n",
    "ybins = np.linspace(0, 1.0, num=101)\n",
    "plt.hist2d('geno', 'hits', data=d_all_by_all, bins=(xbins, ybins), norm=mpl.colors.SymLogNorm(linthresh=1), cmap=mpl.cm.Greys)\n",
    "plt.colorbar()\n",
    "plt.scatter('geno', 'hits', data=d_ref_to_ref, s=20, color='tab:blue')\n",
    "# plt.scatter('geno', 'depth_hits', data=d_inf_to_ref.loc[high_power_strain_list], s=40, color='tab:purple')\n",
    "plt.scatter('geno', 'hits', data=d_inf_to_ref.loc[high_power_strain_list], s=40, color='tab:orange')\n",
    "\n",
    "\n",
    "None"
   ]
  },
  {
   "cell_type": "code",
   "execution_count": null,
   "metadata": {},
   "outputs": [],
   "source": [
    "d_inf_to_ref = pd.DataFrame(dict(\n",
    "    geno=best_match_inf_geno_diss,\n",
    "    hits=best_match_inf_hits_diss,\n",
    "    depth_hits=best_match_depth_inf_hits_diss,\n",
    "    power_index=strain_meta.power_index,\n",
    "))\n",
    "\n",
    "plt.scatter('hits', 'depth_hits', data=d_inf_to_ref, c='power_index', norm=mpl.colors.LogNorm())\n",
    "plt.plot([0, 1], [0, 1], lw=1, linestyle='--', color='k')"
   ]
  },
  {
   "cell_type": "code",
   "execution_count": null,
   "metadata": {},
   "outputs": [],
   "source": [
    "g = sf.Genotype.concat(dict(\n",
    "    ref=ref_geno.sel(strain=best_match_inf_geno.unique()),\n",
    "    fit=fit.genotype.discretized().sel(strain=high_power_strain_list),\n",
    "), dim='strain')\n",
    "sf.plot_genotype(g.sel(position=position_ss))"
   ]
  }
 ],
 "metadata": {
  "kernelspec": {
   "display_name": "default",
   "language": "python",
   "name": "default"
  },
  "language_info": {
   "codemirror_mode": {
    "name": "ipython",
    "version": 3
   },
   "file_extension": ".py",
   "mimetype": "text/x-python",
   "name": "python",
   "nbconvert_exporter": "python",
   "pygments_lexer": "ipython3",
   "version": "3.10.6"
  }
 },
 "nbformat": 4,
 "nbformat_minor": 5
}