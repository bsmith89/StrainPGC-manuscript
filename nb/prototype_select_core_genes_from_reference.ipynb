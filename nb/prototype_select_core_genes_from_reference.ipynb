{
 "cells": [
  {
   "cell_type": "code",
   "execution_count": null,
   "metadata": {},
   "outputs": [],
   "source": [
    "%load_ext autoreload"
   ]
  },
  {
   "cell_type": "code",
   "execution_count": null,
   "metadata": {},
   "outputs": [],
   "source": [
    "import os as _os\n",
    "_os.chdir(_os.environ['PROJECT_ROOT'])\n",
    "_os.path.realpath(_os.path.curdir)"
   ]
  },
  {
   "cell_type": "code",
   "execution_count": null,
   "metadata": {},
   "outputs": [],
   "source": [
    "import pandas as pd\n",
    "import numpy as np\n",
    "import scipy as sp\n",
    "import matplotlib.pyplot as plt\n",
    "import seaborn as sns\n",
    "import xarray as xr\n",
    "from lib.pandas_util import idxwhere, align_indexes, invert_mapping\n",
    "import matplotlib as mpl\n",
    "import lib.plot\n",
    "import statsmodels as sm\n",
    "from statsmodels.stats.multitest import fdrcorrection\n",
    "from tqdm import tqdm\n",
    "import subprocess\n",
    "from tempfile import mkstemp\n",
    "import time\n",
    "import subprocess\n",
    "from itertools import chain\n",
    "import os"
   ]
  },
  {
   "cell_type": "code",
   "execution_count": null,
   "metadata": {},
   "outputs": [],
   "source": [
    "import sfacts as sf"
   ]
  },
  {
   "cell_type": "code",
   "execution_count": null,
   "metadata": {},
   "outputs": [],
   "source": [
    "import lib.thisproject.data"
   ]
  },
  {
   "cell_type": "code",
   "execution_count": null,
   "metadata": {},
   "outputs": [],
   "source": [
    "sns.set_context('talk')\n",
    "plt.rcParams['figure.dpi'] = 50"
   ]
  },
  {
   "cell_type": "code",
   "execution_count": null,
   "metadata": {},
   "outputs": [],
   "source": [
    "group_subset = 'xjin'\n",
    "group = 'xjin_hmp2'\n",
    "stemA = 'r.proc'\n",
    "\n",
    "path = {}\n",
    "\n",
    "path.update(dict(\n",
    "    species_taxonomy=\"ref/gtpro/species_taxonomy_ext.tsv\",\n",
    "    all_species_depth=f\"data/group/{group_subset}/{stemA}.gtpro.species_depth.tsv\",\n",
    "    midasdb_genomes=\"ref/uhgg_genomes_all_4644.tsv\",\n",
    "    strain_genomes=\"meta/genome.tsv\",\n",
    "))\n",
    "\n",
    "path_exists = {}\n",
    "for p in path:\n",
    "    path_exists[path[p]] = os.path.exists(path[p])\n",
    "\n",
    "assert all(path_exists.values()), '\\n'.join([\"Missing files:\"] + [p for p in path_exists if not path_exists[p]])"
   ]
  },
  {
   "cell_type": "code",
   "execution_count": null,
   "metadata": {},
   "outputs": [],
   "source": [
    "species_depth = lib.thisproject.data.load_species_depth(path['all_species_depth'])\n",
    "rabund = species_depth.apply(lambda x: x / x.sum(), axis=1)\n",
    "\n",
    "n_species = 90\n",
    "top_species = (rabund > 1e-5).sum().sort_values(ascending=False).head(n_species).index\n",
    "\n",
    "fig, axs = plt.subplots(n_species, figsize=(10, 0.5 * n_species), sharex=True, sharey=True)\n",
    "\n",
    "bins = np.logspace(-7, 0, num=51)\n",
    "\n",
    "for species_id, ax in zip(top_species, axs):\n",
    "    ax.hist(rabund[species_id], bins=bins, alpha=0.7)\n",
    "    ax.set_xscale('log')\n",
    "    prevalence = (rabund[species_id] > 1e-5).mean()\n",
    "    ax.set_title(\"\")\n",
    "    # ax.set_xticks()\n",
    "    # ax.set_yticks()\n",
    "    ax.yaxis.set_visible(False)\n",
    "    ax.xaxis.set_visible(False)\n",
    "    ax.patch.set_alpha(0.0)\n",
    "    for spine in ['left', 'right', 'top', 'bottom']:\n",
    "        ax.spines[spine].set_visible(False)\n",
    "    ax.annotate(f'{species_id} ({prevalence:0.0%})', xy=(0.05, 0.1), ha='left', xycoords=\"axes fraction\")\n",
    "    ax.set_xlim(left=1e-7)\n",
    "    ax.set_ylim(top=300)\n",
    "    \n",
    "ax.xaxis.set_visible(True)\n",
    "ax.spines['bottom'].set_visible(True)\n",
    "\n",
    "fig.subplots_adjust(hspace=-0.75)"
   ]
  },
  {
   "cell_type": "raw",
   "metadata": {},
   "source": [
    "for species in sorted(top_species):\n",
    "    print(f'xjin_{species}_a', species, species_taxonomy.loc[species].g__, species_taxonomy.loc[species].s__, '', sep='\\t')"
   ]
  },
  {
   "cell_type": "code",
   "execution_count": null,
   "metadata": {},
   "outputs": [],
   "source": [
    "species = '102492'\n",
    "\n",
    "species_taxonomy = lib.thisproject.data.load_species_taxonomy(path[\"species_taxonomy\"])\n",
    "species_taxonomy.loc[species]"
   ]
  },
  {
   "cell_type": "code",
   "execution_count": null,
   "metadata": {},
   "outputs": [],
   "source": [
    "strain_genome = pd.read_table(path[\"strain_genomes\"], dtype='str')\n",
    "strain_genome[strain_genome.species_id == species]"
   ]
  },
  {
   "cell_type": "code",
   "execution_count": null,
   "metadata": {},
   "outputs": [],
   "source": [
    "strain_genome_ids = strain_genome[strain_genome.species_id == species].genome_id\n",
    "print(strain_genome_ids)\n",
    "strain_genome_id = strain_genome_ids.tolist()[0]\n",
    "assert strain_genome_ids.shape[0] == 1"
   ]
  },
  {
   "cell_type": "code",
   "execution_count": null,
   "metadata": {},
   "outputs": [],
   "source": [
    "path.update(dict(\n",
    "    # uhgg_x_strain=f'data/species/sp-{species}/genome/midas_uhgg_pangenome.{strain_genome_id}-blastp.tsv',\n",
    "    strain_x_uhgg=f'data/species/sp-{species}/genome/{strain_genome_id}.midas_uhgg_pangenome-blastp.tsv',\n",
    "    strain_x_strain=f'data/species/sp-{species}/genome/{strain_genome_id}.{strain_genome_id}-blastp.tsv',\n",
    "))\n",
    "\n",
    "path_exists = {}\n",
    "for p in path:\n",
    "    path_exists[path[p]] = os.path.exists(path[p])\n",
    "\n",
    "assert all(path_exists.values()), '\\n'.join([\"Missing files:\"] + [p for p in path_exists if not path_exists[p]])"
   ]
  },
  {
   "cell_type": "code",
   "execution_count": null,
   "metadata": {},
   "outputs": [],
   "source": [
    "# Default file path forming for interactive use.\n",
    "\n",
    "stemB = 'filt-poly05-cvrg05.ss-g10000-block0-seed0.fit-sfacts43-s85-seed0'\n",
    "stemC = 'sfacts42-seed0'\n",
    "spgc_params = 'e100'\n",
    "centroid = 75\n",
    "\n",
    "path.update(dict(\n",
    "    flag=f\"data/group/{group}/species/sp-{species}/{stemA}.gtpro.{stemB}.refit-{stemC}.gene{centroid}.spgc-{spgc_params}.strain_files.flag\",\n",
    "    fit=f\"data/group/{group}/species/sp-{species}/{stemA}.gtpro.{stemB}.world.nc\",\n",
    "    refit=f\"data/group/{group}/species/sp-{species}/{stemA}.gtpro.{stemB}.refit-{stemC}.world.nc\",\n",
    "    strain_correlation=f\"data/group/{group}/species/sp-{species}/{stemA}.gtpro.{stemB}.gene{centroid}.spgc-{spgc_params}.strain_correlation.tsv\",\n",
    "    strain_depth_ratio=f\"data/group/{group}/species/sp-{species}/{stemA}.gtpro.{stemB}.gene{centroid}.spgc-{spgc_params}.strain_depth_ratio.tsv\",\n",
    "    strain_fraction=f\"data/group/{group}/species/sp-{species}/{stemA}.gtpro.{stemB}.comm.tsv\",\n",
    "    # species_gene=f\"data/group/{group}/species/sp-{species}/{stemA}.gtpro.gene{centroid}.spgc-{spgc_params}.species_gene.list\",\n",
    "    species_gene_mean_depth=f\"data/group/{group}/species/sp-{species}/{stemA}.gtpro.gene{centroid}.spgc-{spgc_params}.species_depth.tsv\",\n",
    "    species_gtpro_depth=f\"data/group/{group}/{stemA}.gtpro.species_depth.tsv\",\n",
    "    species_correlation=f\"data/group/{group}/species/sp-{species}/{stemA}.gtpro.gene{centroid}.spgc.species_correlation.tsv\",\n",
    "    species_gene=f\"data/group/{group}/species/sp-{species}/{stemA}.gtpro.gene{centroid}.spgc.species_gene.list\",\n",
    "    strain_thresholds=f\"data/group/{group}/species/sp-{species}/{stemA}.gtpro.{stemB}.gene{centroid}.spgc-{spgc_params}.strain_gene_threshold.tsv\",\n",
    "    gene_annotations=f\"ref/midasdb_uhgg_gene_annotations/sp-{species}.gene{centroid}_annotations.tsv\",\n",
    "    raw_gene_depth=f\"data/group/{group}/species/sp-{species}/{stemA}.gene{centroid}.depth.nc\",\n",
    "    reference_copy_number=f\"ref/midasdb_uhgg_pangenomes/{species}/gene{centroid}.reference_copy_number.nc\",\n",
    "    cluster_info=f\"ref/midasdb_uhgg/pangenomes/{species}/cluster_info.txt\",\n",
    "    gtpro_reference_genotype=f\"data/species/sp-{species}/gtpro_ref.mgtp.nc\",\n",
    "))\n",
    "\n",
    "path_exists = {}\n",
    "for p in path:\n",
    "    path_exists[path[p]] = os.path.exists(path[p])\n",
    "\n",
    "assert all(path_exists.values()), '\\n'.join([\"Missing files:\"] + [p for p in path_exists if not path_exists[p]])"
   ]
  },
  {
   "cell_type": "code",
   "execution_count": null,
   "metadata": {},
   "outputs": [],
   "source": [
    "path['flag']"
   ]
  },
  {
   "cell_type": "code",
   "execution_count": null,
   "metadata": {},
   "outputs": [],
   "source": [
    "reference_copy_number = xr.load_dataarray(path['reference_copy_number'])\n",
    "reference_copy_number"
   ]
  },
  {
   "cell_type": "code",
   "execution_count": null,
   "metadata": {},
   "outputs": [],
   "source": [
    "gene_count = reference_copy_number.sum(\"gene_id\")"
   ]
  },
  {
   "cell_type": "code",
   "execution_count": null,
   "metadata": {},
   "outputs": [],
   "source": [
    "trim_quantile = 0.25\n",
    "threshold = 0.95"
   ]
  },
  {
   "cell_type": "code",
   "execution_count": null,
   "metadata": {},
   "outputs": [],
   "source": [
    "low_q, high_q = gene_count.quantile([trim_quantile, 1 - trim_quantile])"
   ]
  },
  {
   "cell_type": "code",
   "execution_count": null,
   "metadata": {},
   "outputs": [],
   "source": [
    "plt.hist(gene_count, bins=50)\n",
    "plt.axvline(low_q, lw=1, linestyle='--', color='k')\n",
    "plt.axvline(high_q, lw=1, linestyle='--', color='k')"
   ]
  },
  {
   "cell_type": "code",
   "execution_count": null,
   "metadata": {},
   "outputs": [],
   "source": [
    "inter_quantile_range_genomes = (gene_count > low_q) & (gene_count < high_q)"
   ]
  },
  {
   "cell_type": "code",
   "execution_count": null,
   "metadata": {},
   "outputs": [],
   "source": [
    "frac_single_copy = (reference_copy_number.sel(genome_id=inter_quantile_range_genomes) == 1).mean(\"genome_id\")"
   ]
  },
  {
   "cell_type": "code",
   "execution_count": null,
   "metadata": {},
   "outputs": [],
   "source": [
    "frac_single_copy"
   ]
  },
  {
   "cell_type": "code",
   "execution_count": null,
   "metadata": {},
   "outputs": [],
   "source": [
    "plt.hist(frac_single_copy, bins=np.linspace(0.8, 1, num=101))\n",
    "plt.axvline(threshold, lw=1, linestyle='--', color='k')\n",
    "plt.yscale('log')"
   ]
  },
  {
   "cell_type": "code",
   "execution_count": null,
   "metadata": {},
   "outputs": [],
   "source": [
    "single_copy_genes = idxwhere((frac_single_copy > threshold).to_series())"
   ]
  },
  {
   "cell_type": "code",
   "execution_count": null,
   "metadata": {},
   "outputs": [],
   "source": [
    "len(single_copy_genes)"
   ]
  },
  {
   "cell_type": "code",
   "execution_count": null,
   "metadata": {},
   "outputs": [],
   "source": []
  }
 ],
 "metadata": {
  "kernelspec": {
   "display_name": "sfacts",
   "language": "python",
   "name": "sfacts"
  },
  "language_info": {
   "codemirror_mode": {
    "name": "ipython",
    "version": 3
   },
   "file_extension": ".py",
   "mimetype": "text/x-python",
   "name": "python",
   "nbconvert_exporter": "python",
   "pygments_lexer": "ipython3",
   "version": "3.10.6"
  }
 },
 "nbformat": 4,
 "nbformat_minor": 5
}