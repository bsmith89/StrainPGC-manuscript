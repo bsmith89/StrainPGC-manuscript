{
 "cells": [
  {
   "cell_type": "markdown",
   "metadata": {},
   "source": [
    "## Preamble"
   ]
  },
  {
   "cell_type": "markdown",
   "metadata": {},
   "source": [
    "### Project Template"
   ]
  },
  {
   "cell_type": "code",
   "execution_count": null,
   "metadata": {},
   "outputs": [],
   "source": [
    "%load_ext autoreload"
   ]
  },
  {
   "cell_type": "code",
   "execution_count": null,
   "metadata": {},
   "outputs": [],
   "source": [
    "import os as _os\n",
    "\n",
    "_os.chdir(_os.environ[\"PROJECT_ROOT\"])\n",
    "_os.path.realpath(_os.path.curdir)"
   ]
  },
  {
   "cell_type": "markdown",
   "metadata": {},
   "source": [
    "### Imports"
   ]
  },
  {
   "cell_type": "code",
   "execution_count": null,
   "metadata": {},
   "outputs": [],
   "source": [
    "import os\n",
    "import subprocess\n",
    "import sys\n",
    "import time\n",
    "from datetime import datetime\n",
    "from glob import glob\n",
    "from itertools import chain, product\n",
    "from tempfile import mkstemp\n",
    "\n",
    "import matplotlib as mpl\n",
    "import matplotlib.pyplot as plt\n",
    "import numpy as np\n",
    "import pandas as pd\n",
    "import scipy as sp\n",
    "import seaborn as sns\n",
    "import sfacts as sf\n",
    "import statsmodels.api as sm\n",
    "import statsmodels.formula.api as smf\n",
    "import xarray as xr\n",
    "from mpl_toolkits.axes_grid1 import make_axes_locatable\n",
    "from statsmodels.stats.multitest import fdrcorrection\n",
    "from tqdm import tqdm\n",
    "\n",
    "import lib.plot\n",
    "from lib.dissimilarity import load_dmat_as_pickle\n",
    "from lib.pandas_util import align_indexes, aligned_index, idxwhere, invert_mapping"
   ]
  },
  {
   "cell_type": "code",
   "execution_count": null,
   "metadata": {},
   "outputs": [],
   "source": [
    "import lib.thisproject.data"
   ]
  },
  {
   "cell_type": "markdown",
   "metadata": {},
   "source": [
    "### Set Style"
   ]
  },
  {
   "cell_type": "code",
   "execution_count": null,
   "metadata": {},
   "outputs": [],
   "source": [
    "sns.set_context(\"talk\")\n",
    "plt.rcParams[\"figure.dpi\"] = 50"
   ]
  },
  {
   "cell_type": "code",
   "execution_count": null,
   "metadata": {},
   "outputs": [],
   "source": [
    "genome_type_palette = {\"SPGC\": \"tab:green\", \"MAG\": \"tab:orange\", \"Isolate\": \"tab:blue\"}"
   ]
  },
  {
   "cell_type": "markdown",
   "metadata": {},
   "source": [
    "## Data Setup"
   ]
  },
  {
   "cell_type": "markdown",
   "metadata": {},
   "source": [
    "### Metadata"
   ]
  },
  {
   "cell_type": "code",
   "execution_count": null,
   "metadata": {},
   "outputs": [],
   "source": [
    "species_list = (\n",
    "    pd.read_table(\"meta/species_group.tsv\")[\n",
    "        lambda x: x.species_group_id == \"xjin_ucfmt_hmp2\"\n",
    "    ]\n",
    "    .species_id.astype(str)\n",
    "    .unique()\n",
    ")"
   ]
  },
  {
   "cell_type": "code",
   "execution_count": null,
   "metadata": {},
   "outputs": [],
   "source": [
    "def parse_taxonomy_string(taxonomy_string):\n",
    "    values = taxonomy_string.split(\";\")\n",
    "    return pd.Series(values, index=[\"d__\", \"p__\", \"c__\", \"o__\", \"f__\", \"g__\", \"s__\"])"
   ]
  },
  {
   "cell_type": "code",
   "execution_count": null,
   "metadata": {},
   "outputs": [],
   "source": [
    "species_taxonomy_inpath = \"ref/uhgg_genomes_all_v2.tsv\"\n",
    "\n",
    "species_taxonomy = (\n",
    "    pd.read_table(species_taxonomy_inpath)[lambda x: x.Genome == x.Species_rep]\n",
    "    .assign(species_id=lambda x: \"1\" + x.MGnify_accession.str.split(\"-\").str[2])\n",
    "    .set_index(\"species_id\")\n",
    "    .Lineage.apply(parse_taxonomy_string)\n",
    ")\n",
    "species_taxonomy"
   ]
  },
  {
   "cell_type": "raw",
   "metadata": {},
   "source": [
    "phylum_palette = lib.plot.construct_ordered_palette(\n",
    "    sorted(ref_strain_stats.sort_values(\"taxonomy_string\").p__.unique()),\n",
    "    cm=\"tab10\",\n",
    ")\n",
    "\n",
    "assert len(set(phylum_palette.values())) == len((phylum_palette.values()))"
   ]
  },
  {
   "cell_type": "markdown",
   "metadata": {},
   "source": [
    "### Strain Statistics"
   ]
  },
  {
   "cell_type": "code",
   "execution_count": null,
   "metadata": {},
   "outputs": [],
   "source": [
    "filt_stats = []\n",
    "missing_species = []\n",
    "\n",
    "_species_list = species_list\n",
    "# _species_list = [\"100003\"]\n",
    "\n",
    "for species in tqdm(_species_list):\n",
    "    inpath = f\"data/group/xjin_ucfmt_hmp2/species/sp-{species}/r.proc.gtpro.sfacts-fit.gene99_new-v22-agg75.spgc-fit.eggnog-strain_gene.strain_meta_for_analysis.tsv\"\n",
    "    if not os.path.exists(inpath):\n",
    "        missing_species.append(species)\n",
    "        continue\n",
    "    data = pd.read_table(inpath, index_col=\"genome_id\").assign(species=species)\n",
    "    filt_stats.append(data)\n",
    "filt_stats = pd.concat(filt_stats)\n",
    "\n",
    "print(\n",
    "    len(missing_species),\n",
    "    \"out of\",\n",
    "    len(_species_list),\n",
    "    \"species are missing stats.\",\n",
    ")"
   ]
  },
  {
   "cell_type": "code",
   "execution_count": null,
   "metadata": {},
   "outputs": [],
   "source": [
    "filt_stats"
   ]
  },
  {
   "cell_type": "code",
   "execution_count": null,
   "metadata": {},
   "outputs": [],
   "source": [
    "plt.hist2d(\n",
    "    \"min_ref_gene_raw_diss\",\n",
    "    \"min_ref_gene_filt_diss\",\n",
    "    data=filt_stats[lambda x: x.passes_filter].dropna(subset=[\"ref_nn_genome_id\"]),\n",
    "    bins=50,\n",
    "    norm=mpl.colors.PowerNorm(1 / 3),\n",
    ")\n",
    "None"
   ]
  },
  {
   "cell_type": "code",
   "execution_count": null,
   "metadata": {},
   "outputs": [],
   "source": [
    "missing_species"
   ]
  },
  {
   "cell_type": "code",
   "execution_count": null,
   "metadata": {},
   "outputs": [],
   "source": [
    "filt_stats.columns"
   ]
  },
  {
   "cell_type": "code",
   "execution_count": null,
   "metadata": {},
   "outputs": [],
   "source": [
    "# What fraction of StrainFacts genotypes (with enough positions == 100) have a genotype dissimilarity of less than 1%?\n",
    "filt_stats[\n",
    "    lambda x: x.genome_type.isin([\"SPGC\"])\n",
    "    & x.passes_geno_positions\n",
    "    & x.passes_in_sample_list\n",
    "].min_ref_geno_diss.lt(0.01).mean()"
   ]
  },
  {
   "cell_type": "code",
   "execution_count": null,
   "metadata": {},
   "outputs": [],
   "source": [
    "# Set of species for dereplication analysis\n",
    "d = filt_stats[\n",
    "    lambda x: x.genome_type.isin([\"SPGC\"])\n",
    "    & x.passes_geno_positions\n",
    "    & x.passes_in_sample_list\n",
    "]\n",
    "species_list1 = list(d.species.unique())\n",
    "len(species_list1)"
   ]
  },
  {
   "cell_type": "code",
   "execution_count": null,
   "metadata": {},
   "outputs": [],
   "source": [
    "# Dereplication analysis: how many clusters are solely represented by an SPGC (or MAG/Isolate)?\n",
    "\n",
    "d = filt_stats[\n",
    "    lambda x: x.passes_geno_positions\n",
    "    & (\n",
    "        (x.genome_type.isin([\"SPGC\"]) & x.passes_in_sample_list)\n",
    "        | (x.genome_type.isin([\"Isolate\", \"MAG\"]))\n",
    "    )\n",
    "]\n",
    "d.genome_type.value_counts()"
   ]
  },
  {
   "cell_type": "code",
   "execution_count": null,
   "metadata": {},
   "outputs": [],
   "source": [
    "d = (\n",
    "    # Take all genomes with enough genotyped positions, and drop any SPGC\n",
    "    # genomes that are only found in UCFMT or XJIN samples.\n",
    "    filt_stats[\n",
    "        lambda x: x.passes_geno_positions\n",
    "        & (\n",
    "            (x.genome_type.isin([\"SPGC\"]) & x.passes_in_sample_list)\n",
    "            | (x.genome_type.isin([\"Isolate\", \"MAG\"]))\n",
    "        )\n",
    "    ]\n",
    "    # Count the number of genomes of each type in each cluster.\n",
    "    [[\"species\", \"clust\", \"genome_type\"]]\n",
    "    .value_counts()\n",
    "    .unstack(fill_value=0)\n",
    "    # Tag each cluster by it's \"best type\"\n",
    "    .assign(best_genome_type=lambda x: x[[\"Isolate\", \"MAG\", \"SPGC\"]].idxmax(1))\n",
    "    # Count for each species the number of clusters with each tag.\n",
    "    .groupby(\"species\")\n",
    "    .best_genome_type.value_counts()\n",
    "    .unstack(fill_value=0)\n",
    ")\n",
    "\n",
    "(\n",
    "    d.join(d.divide(d.sum(1), axis=0), rsuffix=\"_frac\")\n",
    "    .join(species_taxonomy[[\"p__\", \"f__\", \"g__\", \"s__\"]])\n",
    "    .sort_values(\"SPGC\", ascending=False)\n",
    "    .head(20)\n",
    ")"
   ]
  },
  {
   "cell_type": "code",
   "execution_count": null,
   "metadata": {},
   "outputs": [],
   "source": [
    "d = (\n",
    "    # Take all genomes that pass the full filter.\n",
    "    filt_stats[lambda x: x.passes_filter]\n",
    "    # Count the number of genomes of each type in each cluster.\n",
    "    [[\"species\", \"clust\", \"genome_type\"]]\n",
    "    .value_counts()\n",
    "    .unstack(fill_value=0)\n",
    "    # Tag each cluster by it's \"best type\"\n",
    "    .assign(best_genome_type=lambda x: x[[\"Isolate\", \"MAG\", \"SPGC\"]].idxmax(1))\n",
    "    # Count for each species the number of clusters with each tag.\n",
    "    .groupby(\"species\")\n",
    "    .best_genome_type.value_counts()\n",
    "    .unstack(fill_value=0)\n",
    ")\n",
    "\n",
    "(\n",
    "    d.join(d.divide(d.sum(1), axis=0), rsuffix=\"_frac\")\n",
    "    .join(species_taxonomy[[\"f__\", \"g__\", \"s__\"]])\n",
    "    .sort_values(\"SPGC\", ascending=False)\n",
    "    .head(40)\n",
    ")"
   ]
  },
  {
   "cell_type": "code",
   "execution_count": null,
   "metadata": {},
   "outputs": [],
   "source": [
    "print(\n",
    "    filt_stats[\n",
    "        lambda x: x.min_ref_geno_diss.isna() & x.passes_geno_positions\n",
    "    ].species.value_counts()\n",
    ")\n",
    "\n",
    "assert ~filt_stats[lambda x: x.passes_geno_positions].min_ref_geno_diss.isna().any()\n",
    "assert ~filt_stats[lambda x: x.passes_geno_positions].ref_nn_gene_raw_diss.isna().any()"
   ]
  },
  {
   "cell_type": "code",
   "execution_count": null,
   "metadata": {},
   "outputs": [],
   "source": [
    "d = filt_stats[lambda x: x.genome_type.isin([\"SPGC\"]) & x.passes_filter]\n",
    "species_list2 = idxwhere((d.species.value_counts() >= 10))"
   ]
  },
  {
   "cell_type": "code",
   "execution_count": null,
   "metadata": {},
   "outputs": [],
   "source": [
    "filt_stats.groupby(\"species\").min_ref_gene_raw_diss.apply(\n",
    "    lambda x: x.isna().mean()\n",
    ").sort_values().tail(10)"
   ]
  },
  {
   "cell_type": "code",
   "execution_count": null,
   "metadata": {},
   "outputs": [],
   "source": [
    "filt_stats[lambda x: x.passes_filter & x.genome_type.isin([\"SPGC\"])].dropna(\n",
    "    subset=[\"ref_nn_genome_id\"]\n",
    ")[\n",
    "    [\n",
    "        \"min_ref_gene_raw_diss\",\n",
    "        \"min_ref_gene_filt_diss\",\n",
    "        \"ref_nn_gene_raw_diss\",\n",
    "        \"ref_nn_gene_filt_diss\",\n",
    "    ]\n",
    "].quantile(\n",
    "    [0.25, 0.5, 0.75]\n",
    ").T"
   ]
  },
  {
   "cell_type": "markdown",
   "metadata": {},
   "source": [
    "### Relationship between genotype and gene distance"
   ]
  },
  {
   "cell_type": "code",
   "execution_count": null,
   "metadata": {},
   "outputs": [],
   "source": [
    "x = \"min_ref_geno_diss\"\n",
    "\n",
    "d0 = filt_stats[lambda x: x.passes_filter].dropna(subset=[\"ref_nn_genome_id\"])\n",
    "\n",
    "for y in [\n",
    "    \"min_ref_gene_raw_diss\",\n",
    "    \"min_ref_gene_filt_diss\",\n",
    "    \"ref_nn_gene_raw_diss\",\n",
    "    \"ref_nn_gene_filt_diss\",\n",
    "]:\n",
    "    for genome_set in [[\"SPGC\"], [\"Isolate\", \"MAG\"]]:\n",
    "        d1 = d0[lambda x: x.genome_type.isin(genome_set)]\n",
    "        print(y, genome_set, sp.stats.spearmanr(d1[x], d1[y]))"
   ]
  },
  {
   "cell_type": "code",
   "execution_count": null,
   "metadata": {},
   "outputs": [],
   "source": [
    "d0 = filt_stats[lambda x: x.passes_filter].dropna(subset=[\"ref_nn_genome_id\"])\n",
    "\n",
    "fit_raw_ref = smf.ols(\n",
    "    (\n",
    "        \"ref_nn_gene_raw_diss ~ \"\n",
    "        \"0 + C(species, Sum) + np.log10(min_ref_geno_diss)\"\n",
    "        # \"+ C(species, Sum):genome_type \"\n",
    "        # \"+ C(species, Sum):np.log10(min_ref_geno_diss) \"\n",
    "        # \"+ genome_type:np.log10(min_ref_geno_diss)\"\n",
    "        # \"+ C(species, Sum):genome_type:np.log10(min_ref_geno_diss)\"\n",
    "    ),\n",
    "    data=d0[lambda x: x.genome_type.isin([\"Isolate\", \"MAG\"])],\n",
    ").fit()\n",
    "print(fit_raw_ref.aic)"
   ]
  },
  {
   "cell_type": "code",
   "execution_count": null,
   "metadata": {},
   "outputs": [],
   "source": [
    "fig, axs = plt.subplots(2, 2, sharex=True, sharey=True, figsize=(7, 9))\n",
    "\n",
    "for (genome_type, d1), ax in zip(\n",
    "    d0.assign(predict=lambda x: fit_raw_ref.predict(x)).groupby(\"genome_type\"),\n",
    "    axs.flatten(),\n",
    "):\n",
    "    ax.set_title(genome_type)\n",
    "    bins = np.linspace(0, 0.5, num=50)\n",
    "    ax.hist2d(\n",
    "        \"predict\",\n",
    "        \"ref_nn_gene_raw_diss\",\n",
    "        data=d1,\n",
    "        bins=bins,\n",
    "        norm=mpl.colors.PowerNorm(1 / 2),\n",
    "    )\n",
    "    ax.set_aspect(1)\n",
    "    ax.plot([0, 0.6], [0, 0.6], c=\"w\", lw=1)\n",
    "fig.tight_layout()\n",
    "ax.set_xlabel(\"predicted\")\n",
    "ax.set_ylabel(\"observed\")"
   ]
  },
  {
   "cell_type": "code",
   "execution_count": null,
   "metadata": {},
   "outputs": [],
   "source": [
    "d1 = d0[lambda x: x.genome_type == \"SPGC\"].assign(\n",
    "    predict=lambda x: fit_raw_ref.predict(x)\n",
    ")\n",
    "print(d1[\"ref_nn_gene_raw_diss\"].quantile([0.25, 0.5, 0.75]))\n",
    "print(d1[\"predict\"].quantile([0.25, 0.5, 0.75]))\n",
    "print(sp.stats.pearsonr(d1[\"ref_nn_gene_raw_diss\"], d1[\"predict\"]))\n",
    "print((d1.ref_nn_gene_raw_diss - d1.predict).quantile([0.25, 0.5, 0.75]))\n",
    "plt.hist(d1.ref_nn_gene_raw_diss - d1.predict, bins=50)"
   ]
  },
  {
   "cell_type": "code",
   "execution_count": null,
   "metadata": {},
   "outputs": [],
   "source": [
    "(d1.ref_nn_gene_raw_diss - d1.predict).quantile([0.25, 0.5, 0.75])"
   ]
  },
  {
   "cell_type": "markdown",
   "metadata": {},
   "source": [
    "## Taxonomic diversity of strains"
   ]
  },
  {
   "cell_type": "code",
   "execution_count": null,
   "metadata": {},
   "outputs": [],
   "source": [
    "filt_stats[\n",
    "    lambda x: x.passes_filter & x.genome_type.isin([\"SPGC\"])\n",
    "].species.value_counts().to_frame(\"num_spgc_strains\").join(species_taxonomy)[\n",
    "    lambda x: x.p__ == \"p__Euryarchaeota\"\n",
    "]"
   ]
  },
  {
   "cell_type": "code",
   "execution_count": null,
   "metadata": {},
   "outputs": [],
   "source": [
    "d0 = (\n",
    "    filt_stats[lambda x: x.passes_filter & x.genome_type.isin([\"SPGC\"])]\n",
    "    .species.value_counts()\n",
    "    .to_frame(\"num_spgc_strains\")\n",
    "    .join(species_taxonomy)\n",
    ")\n",
    "\n",
    "fig, ax = plt.subplots(figsize=(5, 20))\n",
    "ax.invert_yaxis()\n",
    "\n",
    "_phylum_list = (\n",
    "    d0.groupby(\"p__\").num_spgc_strains.sum().sort_values(ascending=False).index\n",
    ")\n",
    "_phylum_palette = lib.plot.construct_ordered_palette(_phylum_list, cm=\"rainbow\")\n",
    "\n",
    "y_start = 0\n",
    "for p__ in _phylum_list:\n",
    "    d1 = d0[lambda x: x.p__ == p__]\n",
    "    num_species = len(d1)\n",
    "    yy = np.arange(y_start, y_start + num_species)\n",
    "    plt.scatter(\n",
    "        d1.num_spgc_strains,\n",
    "        yy,\n",
    "        color=_phylum_palette[p__],\n",
    "        s=50,\n",
    "        marker=\"x\",\n",
    "        lw=2,\n",
    "        label=(p__, num_species, d1.num_spgc_strains.sum()),\n",
    "    )\n",
    "    y_start += num_species\n",
    "ax.set_xscale(\"log\")\n",
    "ax.legend(bbox_to_anchor=(1, 1))"
   ]
  },
  {
   "cell_type": "code",
   "execution_count": null,
   "metadata": {},
   "outputs": [],
   "source": [
    "d0 = (\n",
    "    filt_stats[lambda x: x.passes_filter & x.genome_type.isin([\"SPGC\"])]\n",
    "    .species.value_counts()\n",
    "    .to_frame(\"num_spgc_strains\")\n",
    "    .join(species_taxonomy)\n",
    ")\n",
    "\n",
    "d0.groupby(\"p__\").num_spgc_strains.sum().sort_values(\n",
    "    ascending=False\n",
    ")  # sort_values('num_spgc_strains', ascending=False).head(10)"
   ]
  },
  {
   "cell_type": "code",
   "execution_count": null,
   "metadata": {},
   "outputs": [],
   "source": [
    "d0 = (\n",
    "    filt_stats[lambda x: x.passes_filter & x.genome_type.isin([\"SPGC\"])]\n",
    "    .groupby(\"species\")\n",
    "    .apply(\n",
    "        lambda x: pd.Series(\n",
    "            dict(\n",
    "                num_spgc_strains=len(x),\n",
    "                num_geno_positions=x.num_geno_positions.median(),\n",
    "            )\n",
    "        )\n",
    "    )\n",
    "    # .to_frame(\"num_spgc_strains\")\n",
    "    .join(species_taxonomy)\n",
    ")\n",
    "\n",
    "\n",
    "for p__ in [\n",
    "    \"p__Firmicutes_A\",\n",
    "    \"p__Bacteroidota\",\n",
    "    \"p__Proteobacteria\",\n",
    "    \"p__Euryarchaeota\",\n",
    "]:\n",
    "    d1 = d0[lambda x: x.p__ == p__].sort_values(\"num_spgc_strains\", ascending=False)\n",
    "    print(p__)\n",
    "    print(d1[[\"num_spgc_strains\", \"s__\"]].head(8))\n",
    "    print()"
   ]
  },
  {
   "cell_type": "raw",
   "metadata": {},
   "source": [
    "fig, ax = plt.subplots(figsize=(14, 8))\n",
    "\n",
    "ax.scatter(\n",
    "    \"min_ref_geno_diss\",\n",
    "    \"ref_nn_gene_raw_diss\",\n",
    "    data=d0,\n",
    "    label=\"__nolegend__\",\n",
    "    color=\"lightgrey\",\n",
    "    s=2,\n",
    "    alpha=0.5,\n",
    ")\n",
    "\n",
    "focal_species = \"102506\"\n",
    "genome_type_s_palette = {\"Isolate\": 2, \"MAG\": 2, \"SPGC\": 40}\n",
    "for genome_type in [\"SPGC\", \"MAG\", \"Isolate\"]:\n",
    "    ax.scatter(\n",
    "        \"min_ref_geno_diss\",\n",
    "        \"min_ref_gene_raw_diss\",\n",
    "        data=d0[\n",
    "            lambda x: x.genome_type.isin([genome_type])\n",
    "            & x.species.isin([focal_species])\n",
    "        ],\n",
    "        label=\"__nolegend__\",\n",
    "        color=genome_type_palette[genome_type],\n",
    "        s=genome_type_s_palette[genome_type],\n",
    "        alpha=0.5,\n",
    "    )\n",
    "\n",
    "for genome_type in [\"SPGC\", \"MAG\", \"Isolate\"]:\n",
    "    xx = np.logspace(-4, -1)\n",
    "    yy = (\n",
    "        fit_raw.predict(\n",
    "            pd.DataFrame(dict(min_ref_geno_diss=xx)).assign(\n",
    "                species=focal_species, genome_type=genome_type\n",
    "            )\n",
    "        ).values\n",
    "        # - fit.params[_arbitrary_species_term]\n",
    "    )\n",
    "    ax.plot(\n",
    "        xx,\n",
    "        yy,\n",
    "        color=genome_type_palette[genome_type],\n",
    "    )\n",
    "\n",
    "# ax.plot(\"nearest_ref_geno_diss\", \"gene_dist_predict\", data=d2, label=\"__nolegend__\")\n",
    "# ax.legend(bbox_to_anchor=(1, 1), markerscale=4)\n",
    "ax.set_xscale(\"symlog\", linthresh=1e-6)\n",
    "\n",
    "ax.set_xlabel(\"Minimum SNP Profile Dissimilarity\")\n",
    "ax.set_ylabel(\"Minimum Gene Content Dissimilarity\\n(filtered, Jaccard)\")\n",
    "\n",
    "ax.set_ylim(0.0, 0.45)\n",
    "# plt.scatter(spgc_strain_stats.nearest_ref_geno_diss, spgc_strain_stats.nearest_ref_gene_raw_diss, s=1)"
   ]
  },
  {
   "cell_type": "raw",
   "metadata": {},
   "source": [
    "name_to_contrast = dict(\n",
    "    # Slope of the relationship between log10(min_ref_geno_diss) and ref_nn_gene_raw_diss\n",
    "    # Isolate at\n",
    "    slope=\"np.log10(min_ref_geno_diss)\",\n",
    "    # MAG\n",
    "    slope_mag=\"np.log10(min_ref_geno_diss) + genome_type[T.MAG]:np.log10(min_ref_geno_diss)\",\n",
    "    # SPGC\n",
    "    slope_spgc=\"np.log10(min_ref_geno_diss) + genome_type[T.SPGC]:np.log10(min_ref_geno_diss)\",\n",
    "    # Difference in slope of the relationship between log10(min_ref_geno_diss) and ref_nn_gene_raw_diss\n",
    "    # SPGC vs. Isolate\n",
    "    slope_spgc_vs_iso=\"genome_type[T.SPGC]:np.log10(min_ref_geno_diss)\",\n",
    "    # SPGC vs. MAG\n",
    "    slope_spgc_vs_mag=\"genome_type[T.MAG]:np.log10(min_ref_geno_diss)\",\n",
    "    # MAG vs. Isolate\n",
    "    slope_mag_vs_iso=\"genome_type[T.SPGC]:np.log10(min_ref_geno_diss) = genome_type[T.MAG]:np.log10(min_ref_geno_diss)\",\n",
    "    # Difference in means a genotype dissimilarity of 10**(-4)\n",
    "    # SPGC vs. Isolate at\n",
    "    mean_spgc_vs_iso=\"genome_type[T.SPGC] + (-4 * genome_type[T.SPGC]:np.log10(min_ref_geno_diss))\",\n",
    "    # SPGC vs. MAG at a dissimilarity of 10**(-4)\n",
    "    mean_spgc_vs_mag=\"genome_type[T.SPGC] + (-4 * genome_type[T.SPGC]:np.log10(min_ref_geno_diss)) = genome_type[T.MAG] + (-4 * genome_type[T.MAG]:np.log10(min_ref_geno_diss))\",\n",
    "    # MAG vs. Isolate at a dissimilarity of 10**(-4)\n",
    "    mean_mag_vs_iso=\"genome_type[T.MAG] + (-4 * genome_type[T.MAG]:np.log10(min_ref_geno_diss))\",\n",
    ")\n",
    "\n",
    "fit_raw.t_test(list(name_to_contrast.values())).summary_frame().rename(\n",
    "    {f\"c{i}\": name for i, name in enumerate(name_to_contrast.keys())}\n",
    ")"
   ]
  },
  {
   "cell_type": "raw",
   "metadata": {},
   "source": [
    "#### Filtered"
   ]
  },
  {
   "cell_type": "raw",
   "metadata": {},
   "source": [
    "d0 = filt_stats[lambda x: x.passes_filter].dropna(subset=[\"ref_nn_genome_id\"])\n",
    "\n",
    "fit_filt = smf.ols(\n",
    "    (\n",
    "        \"ref_nn_gene_filt_diss ~ \"\n",
    "        \"0 + C(species, Sum) + genome_type + np.log10(min_ref_geno_diss)\"\n",
    "        \"+ C(species, Sum):genome_type \"\n",
    "        \"+ C(species, Sum):np.log10(min_ref_geno_diss) \"\n",
    "        \"+ genome_type:np.log10(min_ref_geno_diss)\"\n",
    "        \"+ C(species, Sum):genome_type:np.log10(min_ref_geno_diss)\"\n",
    "    ),\n",
    "    data=d0,\n",
    ").fit()\n",
    "print(fit_filt.aic)"
   ]
  },
  {
   "cell_type": "raw",
   "metadata": {},
   "source": [
    "fit_filt.summary()"
   ]
  },
  {
   "cell_type": "raw",
   "metadata": {},
   "source": [
    "fig, ax = plt.subplots(figsize=(14, 8))\n",
    "\n",
    "ax.scatter(\n",
    "    \"min_ref_geno_diss\",\n",
    "    \"ref_nn_gene_filt_diss\",\n",
    "    data=d0,\n",
    "    label=\"__nolegend__\",\n",
    "    color=\"lightgrey\",\n",
    "    s=2,\n",
    "    alpha=0.5,\n",
    ")\n",
    "\n",
    "focal_species = \"102492\"\n",
    "genome_type_s_palette = {\"Isolate\": 2, \"MAG\": 2, \"SPGC\": 40}\n",
    "for genome_type in [\"SPGC\", \"MAG\", \"Isolate\"]:\n",
    "    ax.scatter(\n",
    "        \"min_ref_geno_diss\",\n",
    "        \"min_ref_gene_filt_diss\",\n",
    "        data=d0[\n",
    "            lambda x: x.genome_type.isin([genome_type])\n",
    "            & x.species.isin([focal_species])\n",
    "        ],\n",
    "        label=\"__nolegend__\",\n",
    "        color=genome_type_palette[genome_type],\n",
    "        s=genome_type_s_palette[genome_type],\n",
    "        alpha=0.5,\n",
    "    )\n",
    "\n",
    "for genome_type in [\"SPGC\", \"MAG\", \"Isolate\"]:\n",
    "    xx = np.logspace(-4, -1)\n",
    "    yy = (\n",
    "        fit_filt.predict(\n",
    "            pd.DataFrame(dict(min_ref_geno_diss=xx)).assign(\n",
    "                species=focal_species, genome_type=genome_type\n",
    "            )\n",
    "        ).values\n",
    "        # - fit.params[_arbitrary_species_term]\n",
    "    )\n",
    "    ax.plot(\n",
    "        xx,\n",
    "        yy,\n",
    "        color=genome_type_palette[genome_type],\n",
    "    )\n",
    "\n",
    "# ax.plot(\"nearest_ref_geno_diss\", \"gene_dist_predict\", data=d2, label=\"__nolegend__\")\n",
    "# ax.legend(bbox_to_anchor=(1, 1), markerscale=4)\n",
    "ax.set_xscale(\"symlog\", linthresh=1e-6)\n",
    "\n",
    "ax.set_xlabel(\"Minimum SNP Profile Dissimilarity\")\n",
    "ax.set_ylabel(\"Minimum Gene Content Dissimilarity\\n(filtered, Jaccard)\")\n",
    "\n",
    "ax.set_ylim(0.0, 0.45)\n",
    "# plt.scatter(spgc_strain_stats.nearest_ref_geno_diss, spgc_strain_stats.nearest_ref_gene_raw_diss, s=1)"
   ]
  },
  {
   "cell_type": "raw",
   "metadata": {},
   "source": [
    "name_to_contrast = dict(\n",
    "    # Slope of the relationship between log10(min_ref_geno_diss) and ref_nn_gene_raw_diss\n",
    "    # Isolate at\n",
    "    slope=\"np.log10(min_ref_geno_diss)\",\n",
    "    # MAG\n",
    "    slope_mag=\"np.log10(min_ref_geno_diss) + genome_type[T.MAG]:np.log10(min_ref_geno_diss)\",\n",
    "    # SPGC\n",
    "    slope_spgc=\"np.log10(min_ref_geno_diss) + genome_type[T.SPGC]:np.log10(min_ref_geno_diss)\",\n",
    "    # Difference in slope of the relationship between log10(min_ref_geno_diss) and ref_nn_gene_raw_diss\n",
    "    # SPGC vs. Isolate\n",
    "    slope_spgc_vs_iso=\"genome_type[T.SPGC]:np.log10(min_ref_geno_diss)\",\n",
    "    # SPGC vs. MAG\n",
    "    slope_spgc_vs_mag=\"genome_type[T.MAG]:np.log10(min_ref_geno_diss)\",\n",
    "    # MAG vs. Isolate\n",
    "    slope_mag_vs_iso=\"genome_type[T.SPGC]:np.log10(min_ref_geno_diss) = genome_type[T.MAG]:np.log10(min_ref_geno_diss)\",\n",
    "    # Difference in means a genotype dissimilarity of 10**(-4)\n",
    "    # SPGC vs. Isolate at\n",
    "    mean_spgc_vs_iso=\"genome_type[T.SPGC] + (-4 * genome_type[T.SPGC]:np.log10(min_ref_geno_diss))\",\n",
    "    # SPGC vs. MAG at a dissimilarity of 10**(-4)\n",
    "    mean_spgc_vs_mag=\"genome_type[T.SPGC] + (-4 * genome_type[T.SPGC]:np.log10(min_ref_geno_diss)) = genome_type[T.MAG] + (-4 * genome_type[T.MAG]:np.log10(min_ref_geno_diss))\",\n",
    "    # MAG vs. Isolate at a dissimilarity of 10**(-4)\n",
    "    mean_mag_vs_iso=\"genome_type[T.MAG] + (-4 * genome_type[T.MAG]:np.log10(min_ref_geno_diss))\",\n",
    ")\n",
    "\n",
    "fit_filt.t_test(list(name_to_contrast.values())).summary_frame().rename(\n",
    "    {f\"c{i}\": name for i, name in enumerate(name_to_contrast.keys())}\n",
    ")"
   ]
  },
  {
   "cell_type": "markdown",
   "metadata": {},
   "source": [
    "## How many species/genomes for pangenomics?"
   ]
  },
  {
   "cell_type": "code",
   "execution_count": null,
   "metadata": {},
   "outputs": [],
   "source": [
    "cog_x_category1.index.is_unique"
   ]
  },
  {
   "cell_type": "code",
   "execution_count": null,
   "metadata": {},
   "outputs": [],
   "source": [
    "cog_x_category2 = pd.read_table('ref/cog-20.meta.tsv', encoding='latin1', names=['cog', 'category', 'description', 'preferred_name', 'pathway', '_6', '_7'], index_col='cog').category.apply(lambda x: ''.join(sorted(x)))\n"
   ]
  },
  {
   "cell_type": "code",
   "execution_count": null,
   "metadata": {},
   "outputs": [],
   "source": [
    "cog_x_category1 = gene_meta[lambda x: x.species == '102506'].assign(cog=lambda x: x.eggNOG_OGs.fillna('-').apply(lambda y: y.split('@')[0]))[lambda x: x.cog.str.startswith('COG')][['cog', 'COG_category']].drop_duplicates()#.set_index('cog').COG_category.apply(lambda x: ''.join(sorted(x)))\n",
    "# pd.DataFrame(dict(a=cog_x_category1, b=cog_x_category2))"
   ]
  },
  {
   "cell_type": "code",
   "execution_count": null,
   "metadata": {},
   "outputs": [],
   "source": [
    "cog_x_category1[cog_x_category1.duplicated(subset=['cog'], keep=False)].sort_values('cog')"
   ]
  },
  {
   "cell_type": "code",
   "execution_count": null,
   "metadata": {},
   "outputs": [],
   "source": [
    "_species_list = species_list\n",
    "\n",
    "gene_meta = []\n",
    "missing_species = []\n",
    "for species in tqdm(_species_list):\n",
    "    inpath = f\"data/species/sp-{species}/midasdb.gene_meta.tsv\"\n",
    "    if not os.path.exists(inpath):\n",
    "        missing_species.append(species)\n",
    "        continue\n",
    "    data = pd.read_table(inpath, index_col=\"gene_id\").assign(species=species)\n",
    "    gene_meta.append(data)\n",
    "gene_meta = pd.concat(gene_meta)\n",
    "\n",
    "print(\n",
    "    len(missing_species),\n",
    "    \"out of\",\n",
    "    len(_species_list),\n",
    "    \"species are missing stats.\",\n",
    ")"
   ]
  },
  {
   "cell_type": "code",
   "execution_count": null,
   "metadata": {},
   "outputs": [],
   "source": [
    "_species_list = species_list\n",
    "\n",
    "_result = []\n",
    "missing_species = []\n",
    "for species in tqdm(_species_list):\n",
    "    inpath = f\"data/species/sp-{species}/midasdb.gene_x_cog_category.tsv\"\n",
    "    if not os.path.exists(inpath):\n",
    "        missing_species.append(species)\n",
    "        continue\n",
    "    data = pd.read_table(inpath, index_col=\"gene_id\")\n",
    "    _result.append(data)\n",
    "gene_x_cog_category = pd.concat(_result)\n",
    "\n",
    "print(\n",
    "    len(missing_species),\n",
    "    \"out of\",\n",
    "    len(_species_list),\n",
    "    \"species are missing stats.\",\n",
    ")\n",
    "\n",
    "gene_x_cog_category_matrix = gene_x_cog_category.reset_index().set_index(['gene_id', 'cog_category']).assign(present=True).present.unstack('cog_category', fill_value=False)"
   ]
  },
  {
   "cell_type": "code",
   "execution_count": null,
   "metadata": {},
   "outputs": [],
   "source": [
    "cog_category_description = pd.read_table('ref/cog-20.categories.tsv', names=['cog_category', 'color', 'description'], index_col='cog_category').description\n",
    "cog_category_description.sort_index()"
   ]
  },
  {
   "cell_type": "code",
   "execution_count": null,
   "metadata": {},
   "outputs": [],
   "source": [
    "# Dereplication analysis: how many clusters are solely represented by an SPGC (or MAG/Isolate)?\n",
    "\n",
    "d = filt_stats[\n",
    "    lambda x: x.passes_filter\n",
    "    & (\n",
    "        (x.genome_type.isin([\"SPGC\"]) & x.passes_in_sample_list)\n",
    "        | (x.genome_type.isin([\"Isolate\", \"MAG\"]))\n",
    "    )\n",
    "]\n",
    "print(\"Num strains of each type:\", d.genome_type.value_counts())\n",
    "\n",
    "species_with_gt10_spgc_strains = idxwhere(\n",
    "    d[lambda x: x.genome_type.isin([\"SPGC\"])].species.value_counts() >= 10\n",
    ")\n",
    "print(\"Num species with >=10 genomes:\", len(species_with_gt10_spgc_strains))\n",
    "\n",
    "print(\n",
    "    \"Num strains of each type in pangenomics species:\",\n",
    "    d[\n",
    "        lambda x: x.species.isin(species_with_gt10_spgc_strains)\n",
    "    ].genome_type.value_counts(),\n",
    ")"
   ]
  },
  {
   "cell_type": "code",
   "execution_count": null,
   "metadata": {},
   "outputs": [],
   "source": [
    "d[lambda x: x.species.isin(species_with_gt10_spgc_strains)][\n",
    "    [\"species\", \"genome_type\"]\n",
    "].value_counts().unstack(\"genome_type\", fill_value=0).SPGC.quantile(\n",
    "    [0.25, 0.5, 0.75], interpolation=\"nearest\"\n",
    ")"
   ]
  },
  {
   "cell_type": "code",
   "execution_count": null,
   "metadata": {},
   "outputs": [],
   "source": [
    "d[lambda x: x.species.isin(species_with_gt10_spgc_strains)][\n",
    "    [\"species\", \"genome_type\"]\n",
    "].value_counts().unstack(\"genome_type\", fill_value=0).assign(\n",
    "    spgc_ratio=lambda x: x.SPGC / (x.Isolate + x.MAG)\n",
    ").sort_values(\n",
    "    \"spgc_ratio\"\n",
    ")"
   ]
  },
  {
   "cell_type": "markdown",
   "metadata": {},
   "source": [
    "## Pangenomics (TODO: this doesn't really belong in this notebook)"
   ]
  },
  {
   "cell_type": "code",
   "execution_count": null,
   "metadata": {},
   "outputs": [],
   "source": [
    "prevalence = []\n",
    "\n",
    "for species in tqdm(species_with_gt10_spgc_strains):\n",
    "    spgc_inpath = f\"data/group/xjin_ucfmt_hmp2/species/sp-{species}/r.proc.gtpro.sfacts-fit.gene99_new-v22-agg75.spgc-fit.uhgg-strain_gene.prevalence-hmp2.tsv\"\n",
    "    ref_inpath = (\n",
    "        f\"data/species/sp-{species}/midasdb.gene75_new.uhgg-strain_gene.prevalence.tsv\"\n",
    "    )\n",
    "    spgc_prev = pd.read_table(\n",
    "        spgc_inpath, names=[\"gene_id\", \"prevalence\"], index_col=\"gene_id\"\n",
    "    ).prevalence\n",
    "    ref_prev = pd.read_table(\n",
    "        ref_inpath, names=[\"gene_id\", \"prevalence\"], index_col=\"gene_id\"\n",
    "    ).prevalence\n",
    "    data = pd.DataFrame(dict(spgc=spgc_prev, ref=ref_prev)).assign(species=species)\n",
    "    prevalence.append(data)\n",
    "prevalence = pd.concat(prevalence).fillna(0)"
   ]
  },
  {
   "cell_type": "code",
   "execution_count": null,
   "metadata": {},
   "outputs": [],
   "source": [
    "print(sp.stats.pearsonr(prevalence.ref, prevalence.spgc))\n",
    "plt.hist2d(\"ref\", \"spgc\", data=prevalence, bins=20, norm=mpl.colors.LogNorm())\n",
    "plt.colorbar()\n",
    "None"
   ]
  },
  {
   "cell_type": "code",
   "execution_count": null,
   "metadata": {},
   "outputs": [],
   "source": [
    "plt.hist(prevalence.spgc[lambda x: x > 0], bins=np.linspace(0, 1, num=20))\n",
    "None"
   ]
  },
  {
   "cell_type": "code",
   "execution_count": null,
   "metadata": {},
   "outputs": [],
   "source": [
    "prevalence_class = prevalence.spgc.map(lambda x: np.where(x > 0.9, \"core\", np.where(x > 0.15, \"shell\", \"cloud\")))"
   ]
  },
  {
   "cell_type": "code",
   "execution_count": null,
   "metadata": {},
   "outputs": [],
   "source": [
    "d0 = (\n",
    "    prevalence_class.to_frame(\"prevalence_class\")\n",
    "    .join(gene_x_cog_category_matrix)\n",
    "    .assign(\n",
    "        cloud=lambda x: x.prevalence_class == \"cloud\",\n",
    "        shell=lambda x: x.prevalence_class == \"shell\",\n",
    "        core=lambda x: x.prevalence_class == \"core\",\n",
    "    )\n",
    ")\n",
    "\n",
    "result = []\n",
    "for _prevalence_class, _cog_category in tqdm(list(product(['core', 'shell', 'cloud'], gene_x_cog_category_matrix.columns))):\n",
    "    d1 = d0[[_prevalence_class, _cog_category]].value_counts().unstack().reindex(index=[True, False], columns=[True, False]).fillna(0)\n",
    "    d1_pc = d1 + 1\n",
    "    log_oddsratio = np.log2((d1_pc.loc[True, True] / d1_pc.loc[True, False]) / (d1_pc.loc[False, True] / d1_pc.loc[False, False]))\n",
    "    result.append((_prevalence_class, _cog_category, log_oddsratio, sp.stats.fisher_exact(d1)[1]))\n",
    "prevalence_class_cog_category_enrichment = pd.DataFrame(result, columns=['prevalence_class', 'cog_category', 'log2_oddsratio', 'pvalue']).set_index(['prevalence_class', 'cog_category'])"
   ]
  },
  {
   "cell_type": "code",
   "execution_count": null,
   "metadata": {},
   "outputs": [],
   "source": [
    "d = prevalence_class_cog_category_enrichment\n",
    "\n",
    "d_oddsr = d.log2_oddsratio.unstack('prevalence_class')\n",
    "d_signf = d.pvalue.map(lambda x: np.where(x < 0.05, '\u00b7', '')).unstack('prevalence_class')\n",
    "\n",
    "prevalence_class_order = ['core', 'shell', 'cloud']\n",
    "cog_category_order = d_oddsr['core'].sort_values(ascending=False).index\n",
    "\n",
    "fig, ax = plt.subplots(figsize=(10, 10))\n",
    "sns.heatmap(d_oddsr.loc[cog_category_order, prevalence_class_order], norm=mpl.colors.PowerNorm(1, vmin=-4, vmax=+4), cmap='coolwarm', ax=ax)\n",
    "# Annotations (because seaborn annotations are failing)\n",
    "for (i, _cog_category), (j, _prevalence_class) in product(enumerate(cog_category_order), enumerate(prevalence_class_order)):\n",
    "    ax.annotate(d_signf.loc[_cog_category, _prevalence_class], xy=(j + 0.5, i + 0.5), ha='center', va='center')"
   ]
  },
  {
   "cell_type": "code",
   "execution_count": null,
   "metadata": {},
   "outputs": [],
   "source": [
    "prevalence_class_cog_category_enrichment.loc['core'].sort_values(['log2_oddsratio'], ascending=False).join(cog_category_description)"
   ]
  },
  {
   "cell_type": "code",
   "execution_count": null,
   "metadata": {},
   "outputs": [],
   "source": [
    "prevalence_class_cog_category_enrichment.loc['shell'].sort_values(['log2_oddsratio'], ascending=False).join(cog_category_description)"
   ]
  },
  {
   "cell_type": "code",
   "execution_count": null,
   "metadata": {},
   "outputs": [],
   "source": [
    "prevalence_class_cog_category_enrichment.loc['cloud'].sort_values(['log2_oddsratio'], ascending=False).join(cog_category_description)"
   ]
  },
  {
   "cell_type": "code",
   "execution_count": null,
   "metadata": {},
   "outputs": [],
   "source": [
    "spgc_prevalence_class_tally = []\n",
    "ref_prevalence_class_tally = []\n",
    "\n",
    "for species in tqdm(species_with_gt10_spgc_strains):\n",
    "    spgc_inpath = f\"data/group/xjin_ucfmt_hmp2/species/sp-{species}/r.proc.gtpro.sfacts-fit.gene99_new-v22-agg75.spgc-fit.uhgg-strain_gene.prevalence_class_fraction-hmp2.tsv\"\n",
    "    spgc_data = (\n",
    "        pd.read_table(spgc_inpath)\n",
    "        .assign(species=species)\n",
    "        .rename(columns={\"strain\": \"genome_id\"})\n",
    "        .astype({\"genome_id\": str})\n",
    "        .set_index([\"species\", \"genome_id\"])\n",
    "    )\n",
    "    spgc_prevalence_class_tally.append(spgc_data)\n",
    "\n",
    "    # TODO: ref_prevalence_class_tally\n",
    "    ref_inpath = f\"data/species/sp-{species}/midasdb.gene75_new.uhgg-strain_gene.prevalence_class_fraction.tsv\"\n",
    "    ref_data = (\n",
    "        pd.read_table(ref_inpath)\n",
    "        .assign(species=species)\n",
    "        .rename(columns={\"strain\": \"genome_id\"})\n",
    "        .astype({\"genome_id\": str})\n",
    "        .set_index([\"species\", \"genome_id\"])\n",
    "    )\n",
    "    ref_prevalence_class_tally.append(ref_data)\n",
    "\n",
    "# Filter SPGC\n",
    "spgc_prevalence_class_tally = (\n",
    "    pd.concat(spgc_prevalence_class_tally)\n",
    "    .fillna(0)\n",
    "    .loc[\n",
    "        filt_stats[\n",
    "            lambda x: x.genome_type.isin([\"SPGC\"])\n",
    "            & x.species.isin(species_with_gt10_spgc_strains)\n",
    "        ]\n",
    "        .reset_index()\n",
    "        .set_index([\"species\", \"genome_id\"])\n",
    "        .passes_filter\n",
    "    ]\n",
    ")\n",
    "\n",
    "# Filter Ref\n",
    "ref_prevalence_class_tally = (\n",
    "    pd.concat(ref_prevalence_class_tally)\n",
    "    .fillna(0)\n",
    "    .loc[\n",
    "        filt_stats[\n",
    "            lambda x: x.genome_type.isin([\"MAG\", \"Isolate\"])\n",
    "            & x.species.isin(species_with_gt10_spgc_strains)\n",
    "        ]\n",
    "        .reset_index()\n",
    "        .set_index([\"species\", \"genome_id\"])\n",
    "        .passes_filter\n",
    "    ]\n",
    ")"
   ]
  },
  {
   "cell_type": "code",
   "execution_count": null,
   "metadata": {},
   "outputs": [],
   "source": [
    "spgc_prevalence_class_frac = spgc_prevalence_class_tally.divide(\n",
    "    spgc_prevalence_class_tally.sum(1), axis=0\n",
    ")  # .groupby(\"species\").median()\n",
    "ref_prevalence_class_frac = ref_prevalence_class_tally.divide(\n",
    "    ref_prevalence_class_tally.sum(1), axis=0\n",
    ")  # .groupby(\"species\").median()"
   ]
  },
  {
   "cell_type": "code",
   "execution_count": null,
   "metadata": {},
   "outputs": [],
   "source": [
    "d1 = spgc_prevalence_class_frac.groupby(\"species\").median()\n",
    "\n",
    "for frac in [\"core\", \"shell\", \"cloud\"]:\n",
    "    plt.hist(d1[frac], label=frac, alpha=0.7)\n",
    "plt.legend()\n",
    "\n",
    "d1.groupby(\"species\").median().quantile([0.25, 0.5, 0.75])"
   ]
  },
  {
   "cell_type": "code",
   "execution_count": null,
   "metadata": {},
   "outputs": [],
   "source": [
    "d1 = ref_prevalence_class_frac.groupby(\"species\").median()\n",
    "\n",
    "for frac in [\"core\", \"shell\", \"cloud\"]:\n",
    "    plt.hist(d1[frac], label=frac, alpha=0.7)\n",
    "plt.legend()\n",
    "\n",
    "d1.groupby(\"species\").median().quantile([0.25, 0.5, 0.75])"
   ]
  },
  {
   "cell_type": "code",
   "execution_count": null,
   "metadata": {},
   "outputs": [],
   "source": [
    "d0 = pd.DataFrame(\n",
    "    dict(\n",
    "        ref=ref_prevalence_class_frac.groupby(\"species\").median().stack(),\n",
    "        spgc=spgc_prevalence_class_frac.groupby(\"species\").median().stack(),\n",
    "    )\n",
    ").rename_axis(index=[\"species\", \"pangenome_fraction\"])\n",
    "for pangenome_fraction, d1 in d0.groupby(\"pangenome_fraction\"):\n",
    "    plt.scatter(\"ref\", \"spgc\", data=d1, s=10, alpha=0.7)"
   ]
  },
  {
   "cell_type": "raw",
   "metadata": {},
   "source": [
    "d0 = spgc_prevalence_class_tally\n",
    "\n",
    "d1 = (\n",
    "    d0.divide(d0.sum(1), axis=0)\n",
    "    .groupby(\"species\")\n",
    "    .median()\n",
    "    .assign(num_strains=d0.index.to_frame().species.value_counts())\n",
    ")\n",
    "plt.scatter(\"core\", \"cloud\", c=\"num_strains\", data=d1, norm=mpl.colors.PowerNorm(1 / 2))\n",
    "plt.colorbar()"
   ]
  },
  {
   "cell_type": "raw",
   "metadata": {},
   "source": [
    "plt.scatter(\n",
    "    \"shell\", \"cloud\", c=\"num_strains\", data=d1, norm=mpl.colors.PowerNorm(1 / 2)\n",
    ")\n",
    "plt.colorbar()"
   ]
  },
  {
   "cell_type": "code",
   "execution_count": null,
   "metadata": {},
   "outputs": [],
   "source": [
    "(\n",
    "    spgc_prevalence_class_frac.groupby(\"species\")\n",
    "    .median()\n",
    "    .join(ref_prevalence_class_frac.groupby(\"species\").median(), rsuffix=\"_ref\")\n",
    "    .assign(\n",
    "        total_num_ref_genomes=filt_stats[\n",
    "            lambda x: x.genome_type.isin([\"MAG\", \"Isolate\"])\n",
    "        ][\"species\"].value_counts()\n",
    "    )\n",
    "    .join(species_taxonomy[[\"f__\", \"g__\", \"s__\"]])\n",
    "    .sort_values(\"cloud\", ascending=False)\n",
    "    .head(20)\n",
    ")"
   ]
  },
  {
   "cell_type": "code",
   "execution_count": null,
   "metadata": {},
   "outputs": [],
   "source": [
    "(\n",
    "    spgc_prevalence_class_frac.groupby(\"species\")\n",
    "    .median()\n",
    "    .join(ref_prevalence_class_frac.groupby(\"species\").median(), rsuffix=\"_ref\")\n",
    "    .assign(\n",
    "        total_num_ref_genomes=filt_stats[\n",
    "            lambda x: x.genome_type.isin([\"MAG\", \"Isolate\"])\n",
    "        ][\"species\"].value_counts()\n",
    "    )\n",
    "    .join(species_taxonomy[[\"f__\", \"g__\", \"s__\"]])\n",
    "    .sort_values(\"cloud\", ascending=True)\n",
    "    .head(20)\n",
    ")"
   ]
  },
  {
   "cell_type": "code",
   "execution_count": null,
   "metadata": {},
   "outputs": [],
   "source": [
    "d2 = (\n",
    "    spgc_prevalence_class_frac.groupby(\"species\")\n",
    "    .median()\n",
    "    .rename_axis(columns=\"pangenome_fraction\")\n",
    "    .stack()\n",
    "    .to_frame(\"frac\")\n",
    "    .join(species_taxonomy, on=\"species\")\n",
    "    .reset_index()\n",
    ")\n",
    "\n",
    "sns.stripplot(x=\"pangenome_fraction\", hue=\"p__\", y=\"frac\", data=d2, dodge=True)\n",
    "lib.plot.rotate_xticklabels()\n",
    "plt.legend(bbox_to_anchor=(1, 1))"
   ]
  },
  {
   "cell_type": "code",
   "execution_count": null,
   "metadata": {},
   "outputs": [],
   "source": [
    "d = (\n",
    "    spgc_prevalence_class_frac.groupby(\"species\")\n",
    "    .median()\n",
    "    .join(ref_prevalence_class_frac.groupby(\"species\").median(), rsuffix=\"_ref\")\n",
    "    .assign(\n",
    "        total_num_ref_genomes=filt_stats[\n",
    "            lambda x: x.genome_type.isin([\"MAG\", \"Isolate\"])\n",
    "        ][\"species\"].value_counts(),\n",
    "        total_num_spgc_genomes=filt_stats[lambda x: x.genome_type.isin([\"SPGC\"])][\n",
    "            \"species\"\n",
    "        ].value_counts(),\n",
    "    )\n",
    "    .join(species_taxonomy[[\"p__\", \"f__\", \"g__\", \"s__\"]])\n",
    ")\n",
    "\n",
    "_phylum_palette = lib.plot.construct_ordered_palette(d.p__.unique(), cm=\"tab10\")\n",
    "\n",
    "\n",
    "import mpltern\n",
    "\n",
    "fig = plt.figure(figsize=(15, 15))\n",
    "ax = fig.add_subplot(projection=\"ternary\", ternary_sum=100.0)\n",
    "ax.grid()\n",
    "\n",
    "\n",
    "ax.set_tlabel(\"Core (%)\")\n",
    "ax.set_llabel(\"Shell (%)\")\n",
    "ax.set_rlabel(\"Cloud (%)\")\n",
    "\n",
    "ax.set_tlim(20, 100)\n",
    "ax.set_llim(10, 62)\n",
    "ax.set_rlim(0, 35)\n",
    "\n",
    "for p__, d1 in d.groupby(\"p__\"):\n",
    "    ax.scatter(\n",
    "        \"core\",\n",
    "        \"shell\",\n",
    "        \"cloud\",\n",
    "        data=d1,\n",
    "        s=d1[\"total_num_spgc_genomes\"],\n",
    "        marker=\"o\",\n",
    "        lw=2,\n",
    "        edgecolor=_phylum_palette[p__],\n",
    "        facecolor=\"none\",\n",
    "        alpha=0.85,\n",
    "    )\n",
    "    ax.scatter(\n",
    "        [],\n",
    "        [],\n",
    "        [],\n",
    "        edgecolor=_phylum_palette[p__],\n",
    "        label=p__,\n",
    "        lw=2,\n",
    "        facecolor=\"none\",\n",
    "    )\n",
    "\n",
    "ax.legend(loc=\"upper left\")"
   ]
  },
  {
   "cell_type": "code",
   "execution_count": null,
   "metadata": {},
   "outputs": [],
   "source": [
    "# phylum_palette = lib.plot.construct_ordered_palette(species_taxonomy.p__.unique(), cm='tab10')\n",
    "\n",
    "d = (\n",
    "    spgc_prevalence_class_frac.groupby(\"species\")\n",
    "    .median()\n",
    "    .join(ref_prevalence_class_frac.groupby(\"species\").median(), rsuffix=\"_ref\")\n",
    "    .assign(\n",
    "        total_num_ref_genomes=filt_stats[\n",
    "            lambda x: x.genome_type.isin([\"MAG\", \"Isolate\"])\n",
    "        ][\"species\"].value_counts()\n",
    "    )\n",
    "    .join(species_taxonomy[[\"f__\", \"g__\", \"s__\"]])\n",
    ")\n",
    "\n",
    "import mpltern\n",
    "\n",
    "fig = plt.figure(figsize=(5, 5))\n",
    "ax = fig.add_subplot(projection=\"ternary\", ternary_sum=100.0)\n",
    "\n",
    "ax.set_tlabel(\"Core (%)\")\n",
    "ax.set_llabel(\"Shell (%)\")\n",
    "ax.set_rlabel(\"Cloud (%)\")\n",
    "\n",
    "# ax.grid()\n",
    "\n",
    "ax.scatter(\"core_ref\", \"shell_ref\", \"cloud_ref\", data=d, s=10)"
   ]
  },
  {
   "cell_type": "code",
   "execution_count": null,
   "metadata": {},
   "outputs": [],
   "source": [
    "# phylum_palette = lib.plot.construct_ordered_palette(species_taxonomy.p__.unique(), cm='tab10')\n",
    "\n",
    "d = (\n",
    "    spgc_prevalence_class_frac.groupby(\"species\")\n",
    "    .median()\n",
    "    .rename_axis(columns=\"pangenome_fraction\")\n",
    "    # .stack()\n",
    "    # .to_frame(\"frac\")\n",
    "    .join(species_taxonomy, on=\"species\")\n",
    "    # .assign(phylum_color=lambda x: x.p__.map(phylum_palette))\n",
    "    # .reset_index()\n",
    ")\n",
    "\n",
    "import mpltern\n",
    "\n",
    "fig = plt.figure(figsize=(5, 5))\n",
    "ax = fig.add_subplot(projection=\"ternary\", ternary_sum=100.0)\n",
    "\n",
    "ax.set_tlabel(\"Core (%)\")\n",
    "ax.set_llabel(\"Shell (%)\")\n",
    "ax.set_rlabel(\"Cloud (%)\")\n",
    "\n",
    "# ax.grid()\n",
    "\n",
    "ax.scatter(\"core\", \"shell\", \"cloud\", data=d, s=10)"
   ]
  },
  {
   "cell_type": "code",
   "execution_count": null,
   "metadata": {},
   "outputs": [],
   "source": [
    "_species_list = species_list\n",
    "\n",
    "morans_i = []\n",
    "missing_species = []\n",
    "for species in tqdm(_species_list):\n",
    "    inpath = f\"data/group/xjin_ucfmt_hmp2/species/sp-{species}/r.proc.gtpro.sfacts-fit.gene99_new-v22-agg75.spgc-fit.uhgg-strain_gene.morans_i.tsv\"\n",
    "    if not os.path.exists(inpath):\n",
    "        missing_species.append(species)\n",
    "        continue\n",
    "    data = pd.read_table(inpath, index_col=\"gene_id\")\n",
    "    morans_i.append(data)\n",
    "morans_i = pd.concat(morans_i)\n",
    "\n",
    "print(\n",
    "    len(missing_species),\n",
    "    \"out of\",\n",
    "    len(_species_list),\n",
    "    \"species are missing stats.\",\n",
    ")"
   ]
  },
  {
   "cell_type": "code",
   "execution_count": null,
   "metadata": {},
   "outputs": [],
   "source": [
    "inpath"
   ]
  },
  {
   "cell_type": "code",
   "execution_count": null,
   "metadata": {},
   "outputs": [],
   "source": [
    "d = filt_stats[lambda x: x.genome_type.isin([\"SPGC\"]) & x.passes_filter]\n",
    "species_list3 = idxwhere((d.species.value_counts() >= 20))\n",
    "len(species_list3)"
   ]
  },
  {
   "cell_type": "code",
   "execution_count": null,
   "metadata": {},
   "outputs": [],
   "source": [
    "d = morans_i.join(gene_meta.species)[lambda x: x.species.isin(species_list2)]\n",
    "\n",
    "plt.hist2d('ref', 'spgc', data=d.dropna(), bins=20, norm=mpl.colors.PowerNorm(1/3))\n",
    "sp.stats.pearsonr(d.dropna()['ref'], d.dropna()['spgc'])"
   ]
  },
  {
   "cell_type": "code",
   "execution_count": null,
   "metadata": {},
   "outputs": [],
   "source": [
    "d = morans_i.join(gene_meta.species)[lambda x: x.species.isin(species_list3)]\n",
    "\n",
    "plt.hist2d('ref', 'spgc', data=d.dropna(), bins=20, norm=mpl.colors.PowerNorm(1/5))\n",
    "sp.stats.pearsonr(d.dropna()['ref'], d.dropna()['spgc'])"
   ]
  },
  {
   "cell_type": "code",
   "execution_count": null,
   "metadata": {},
   "outputs": [],
   "source": [
    "plt.hist(d.spgc.dropna(), bins=100, alpha=0.5)\n",
    "plt.hist(d.ref.dropna(), bins=100, alpha=0.5)\n",
    "\n",
    "plt.yscale('log')\n",
    "None"
   ]
  },
  {
   "cell_type": "code",
   "execution_count": null,
   "metadata": {},
   "outputs": [],
   "source": [
    "d = gene_meta.join(gene_x_cog_category_matrix).assign(cmi=morans_i.ref, prevalence=prevalence.ref).fillna({'cmi': 0})\n",
    "d"
   ]
  },
  {
   "cell_type": "raw",
   "metadata": {},
   "source": [
    "for in_cat, d2 in d1.groupby(category):\n",
    "    plt.scatter('prevalence', 'cmi_rank', data=d2)\n",
    "    plt.plot('prevalence', 'predict', data=d2.assign(predict=lambda x: fit.predict(x), residual=lambda x: x.cmi_rank - x.predict).sort_values('prevalence'))"
   ]
  },
  {
   "cell_type": "code",
   "execution_count": null,
   "metadata": {},
   "outputs": [],
   "source": [
    "# NOTE: Can take 15 or more minutes to run.\n",
    "\n",
    "d0 = pd.DataFrame(dict(cmi=morans_i.spgc, prevalence=prevalence.spgc)).assign(species=gene_meta.species).join(gene_x_cog_category_matrix).dropna()\n",
    "\n",
    "results = {}\n",
    "for species in tqdm(species_list3):\n",
    "    d1 = d0[lambda x: (x.species == species) & (x.prevalence > 0.15) & (x.prevalence < 0.9)]\n",
    "    for category in gene_x_cog_category_matrix.columns:\n",
    "        if (d1[category].mean() == 0) or (d1[category].mean() == 1):\n",
    "            continue\n",
    "        fit = smf.rlm(f'cmi ~ cr(prevalence, 4) + {category}', data=d1).fit()\n",
    "        results[(species, category)] = [fit.params[f'{category}[T.True]'], fit.pvalues[f'{category}[T.True]']]\n",
    "\n",
    "for category in tqdm(gene_x_cog_category_matrix.columns):\n",
    "    d1 = d0[lambda x: (x.species.isin(species_list3)) & (x.prevalence > 0.15) & (x.prevalence < 0.9)]\n",
    "    fit = smf.rlm(f'cmi ~ cr(prevalence, 4) + {category} + species', data=d1).fit()\n",
    "    results[('overall', category)] = [fit.params[f'{category}[T.True]'], fit.pvalues[f'{category}[T.True]']]\n",
    "\n",
    "spgc_species_by_cog_category_cdi_bias_test = pd.DataFrame(results.values(), index=results.keys(), columns=['coef', 'pvalue'])"
   ]
  },
  {
   "cell_type": "code",
   "execution_count": null,
   "metadata": {},
   "outputs": [],
   "source": [
    "# NOTE: Can take 15 or more minutes to run.\n",
    "\n",
    "d0 = pd.DataFrame(dict(cmi=morans_i.ref, prevalence=prevalence.ref)).assign(species=gene_meta.species).join(gene_x_cog_category_matrix).dropna()\n",
    "\n",
    "results = {}\n",
    "for species in tqdm(species_list3):\n",
    "    d1 = d0[lambda x: (x.species == species) & (x.prevalence > 0.15) & (x.prevalence < 0.9)]\n",
    "    for category in gene_x_cog_category_matrix.columns:\n",
    "        if (d1[category].mean() == 0) or (d1[category].mean() == 1):\n",
    "            continue\n",
    "        fit = smf.rlm(f'cmi ~ cr(prevalence, 4) + {category}', data=d1).fit()\n",
    "        results[(species, category)] = [fit.params[f'{category}[T.True]'], fit.pvalues[f'{category}[T.True]']]\n",
    "\n",
    "for category in tqdm(gene_x_cog_category_matrix.columns):\n",
    "    d1 = d0[lambda x: (x.species.isin(species_list3)) & (x.prevalence > 0.15) & (x.prevalence < 0.9)]\n",
    "    fit = smf.rlm(f'cmi ~ cr(prevalence, 4) + {category} + species', data=d1).fit()\n",
    "    results[('overall', category)] = [fit.params[f'{category}[T.True]'], fit.pvalues[f'{category}[T.True]']]\n",
    "\n",
    "ref_species_by_cog_category_cdi_bias_test = pd.DataFrame(results.values(), index=results.keys(), columns=['coef', 'pvalue'])"
   ]
  },
  {
   "cell_type": "code",
   "execution_count": null,
   "metadata": {},
   "outputs": [],
   "source": [
    "d0 = spgc_species_by_cog_category_cdi_bias_test\n",
    "d1_coef = d0.coef.unstack(fill_value=0)\n",
    "d1_signf = d0.pvalue.unstack(fill_value=1.0).map(lambda p: np.where(p < 0.05, '\u2022', ''))\n",
    "\n",
    "cmi_category_order = list(d1_coef.mean().sort_values().index)\n",
    "cmi_species_order = list(np.square(d1_coef).mean(1).sort_values(ascending=False).drop('overall').index) + ['overall']\n",
    "\n",
    "d2_coef = d1_coef.loc[cmi_species_order, cmi_category_order]\n",
    "d2_signf = d1_signf.loc[cmi_species_order, cmi_category_order]\n",
    "\n",
    "fig, ax = plt.subplots(figsize=(20, 20))\n",
    "# sns.heatmap(d2_coef)\n",
    "# sns.heatmap(d1_coef.loc[cmi_species_order, cmi_category_order], annot=d1_signf.loc[cmi_species_order, cmi_category_order], fmt='', norm=mpl.colors.SymLogNorm(linthresh=0.001, vmin=-1e5, vmax=1e5), xticklabels=1, yticklabels=1, cmap='coolwarm', ax=ax)\n",
    "sns.heatmap(d2_coef, norm=mpl.colors.SymLogNorm(linthresh=0.001, vmin=-.1, vmax=.1), xticklabels=1, yticklabels=1, cmap='PuOr', ax=ax)\n",
    "\n",
    "# Annotations (because seaborn annotations are failing)\n",
    "for (i, species), (j, category) in product(enumerate(cmi_species_order), enumerate(cmi_category_order)):\n",
    "    ax.annotate(d2_signf.loc[species, category], xy=(j + 0.5, i + 0.5), ha='center', va='center')"
   ]
  },
  {
   "cell_type": "code",
   "execution_count": null,
   "metadata": {},
   "outputs": [],
   "source": [
    "spgc_species_by_cog_category_cdi_bias_test.loc['overall'].reindex(cmi_category_order)"
   ]
  },
  {
   "cell_type": "code",
   "execution_count": null,
   "metadata": {},
   "outputs": [],
   "source": [
    "cog_category_description.reindex(cmi_category_order)"
   ]
  },
  {
   "cell_type": "code",
   "execution_count": null,
   "metadata": {},
   "outputs": [],
   "source": [
    "n = 20\n",
    "r = 0.1\n",
    "offset = 1\n",
    "\n",
    "p = int(round(n * r))\n",
    "q = int(round(n * (1 - r)))\n",
    "print(p, q)\n",
    "x = [0]*p + [1]*q\n",
    "y = [0]*(p - offset) + [1]*(q + offset)\n",
    "print(x)\n",
    "print(y)\n",
    "sp.stats.pearsonr(x, y)"
   ]
  },
  {
   "cell_type": "code",
   "execution_count": null,
   "metadata": {},
   "outputs": [],
   "source": [
    "','.join(species_list3)"
   ]
  },
  {
   "cell_type": "code",
   "execution_count": null,
   "metadata": {},
   "outputs": [],
   "source": [
    "d0 = ref_species_by_cog_category_cdi_bias_test\n",
    "d1_coef = d0.coef.unstack(fill_value=0)\n",
    "d1_signf = d0.pvalue.unstack(fill_value=1.0).map(lambda p: np.where(p < 0.05, '\u2022', ''))\n",
    "\n",
    "d2_coef = d1_coef.loc[cmi_species_order, cmi_category_order]\n",
    "d2_signf = d1_signf.loc[cmi_species_order, cmi_category_order]\n",
    "\n",
    "fig, ax = plt.subplots(figsize=(20, 20))\n",
    "# sns.heatmap(d2_coef)\n",
    "# sns.heatmap(d1_coef.loc[cmi_species_order, cmi_category_order], annot=d1_signf.loc[cmi_species_order, cmi_category_order], fmt='', norm=mpl.colors.SymLogNorm(linthresh=0.001, vmin=-1e5, vmax=1e5), xticklabels=1, yticklabels=1, cmap='coolwarm', ax=ax)\n",
    "sns.heatmap(d2_coef, norm=mpl.colors.SymLogNorm(linthresh=0.001, vmin=-.1, vmax=.1), xticklabels=1, yticklabels=1, cmap='PuOr', ax=ax)\n",
    "\n",
    "# Annotations (because seaborn annotations are failing)\n",
    "for (i, species), (j, category) in product(enumerate(cmi_species_order), enumerate(cmi_category_order)):\n",
    "    ax.annotate(d2_signf.loc[species, category], xy=(j + 0.5, i + 0.5), ha='center', va='center')"
   ]
  },
  {
   "cell_type": "code",
   "execution_count": null,
   "metadata": {},
   "outputs": [],
   "source": [
    "_species_list = species_list\n",
    "\n",
    "co_clust = []\n",
    "missing_species = []\n",
    "for species in tqdm(_species_list):\n",
    "    ref_inpath = f\"data/species/sp-{species}/midasdb.gene75_new.uhgg-strain_gene.gene_clust-t10.tsv\"\n",
    "    spgc_inpath = f\"data/group/xjin_ucfmt_hmp2/species/sp-{species}/r.proc.gtpro.sfacts-fit.gene99_new-v22-agg75.spgc-fit.uhgg-strain_gene.gene_clust-t10.tsv\"\n",
    "    if not os.path.exists(spgc_inpath):\n",
    "        missing_species.append(species)\n",
    "        continue\n",
    "    ref_data = pd.read_table(ref_inpath, names=['gene_id', 'cluster'], index_col=\"gene_id\").cluster\n",
    "    spgc_data = pd.read_table(spgc_inpath, names=['gene_id', 'cluster'], index_col=\"gene_id\").cluster\n",
    "    co_clust.append(pd.DataFrame(dict(ref_clust=ref_data, spgc_clust=spgc_data)).assign(species=species))\n",
    "co_clust = pd.concat(co_clust).fillna({'spgc_clust': -5, 'ref_clust': -5}).astype({'spgc_clust': int, 'ref_clust': int})\n",
    "\n",
    "print(\n",
    "    len(missing_species),\n",
    "    \"out of\",\n",
    "    len(_species_list),\n",
    "    \"species are missing stats.\",\n",
    ")"
   ]
  },
  {
   "cell_type": "code",
   "execution_count": null,
   "metadata": {},
   "outputs": [],
   "source": [
    "d = (co_clust[lambda x: (x.spgc_clust >= 0) & x.species.isin(species_list3)][['species', 'spgc_clust']].value_counts()[lambda x: (x > 1)])\n",
    "clust_list = d.index\n",
    "len(d), d.sum(), d.mean()"
   ]
  },
  {
   "cell_type": "code",
   "execution_count": null,
   "metadata": {},
   "outputs": [],
   "source": [
    "d.groupby('species').apply(len).median()"
   ]
  },
  {
   "cell_type": "code",
   "execution_count": null,
   "metadata": {},
   "outputs": [],
   "source": [
    "gene_x_module = gene_meta.KEGG_Module.dropna().str.split(',').explode()#[lambda x: x.str.startswith('map')]\n",
    "gene_x_module.value_counts().head(20)"
   ]
  },
  {
   "cell_type": "code",
   "execution_count": null,
   "metadata": {},
   "outputs": [],
   "source": [
    "gene_x_pathway = gene_meta.KEGG_inpathway.dropna().str.split(',').explode()[lambda x: x.str.startswith('map')]\n",
    "gene_x_pathway.value_counts().head(20)"
   ]
  },
  {
   "cell_type": "code",
   "execution_count": null,
   "metadata": {},
   "outputs": [],
   "source": [
    "d0 = (\n",
    "    co_clust[lambda x: (x.spgc_clust >= 0) & (x.index.isin(gene_x_module.index))]\n",
    "    .join(gene_x_module)\n",
    "    .assign(\n",
    "        # ref_clust=lambda x: x.species + \"-\" + x.ref_clust.astype(str),\n",
    "        spgc_clust=lambda x: x.species + \"-\" + x.spgc_clust.astype(str),\n",
    "    )\n",
    ")\n",
    "d0"
   ]
  },
  {
   "cell_type": "code",
   "execution_count": null,
   "metadata": {},
   "outputs": [],
   "source": [
    "thresh = 1\n",
    "\n",
    "obs_count_module_multihit = (\n",
    "    # Count the total number of clusters with multiple hits to the same KEGG_Module\n",
    "    d0[[\"spgc_clust\", \"KEGG_Module\"]]\n",
    "    .value_counts()\n",
    "    .gt(thresh)\n",
    "    .groupby('spgc_clust')\n",
    "    .any()\n",
    "    .sum()\n",
    ")\n",
    "perm_count_module_multihit = []\n",
    "for i in tqdm(range(999)):\n",
    "    perm_count_module_multihit.append(\n",
    "        d0.assign(\n",
    "            # Permute clusters within species.\n",
    "            spgc_clust=lambda x: x.groupby(\"species\").spgc_clust.sample(frac=1).values\n",
    "        )[[\"spgc_clust\", \"KEGG_Module\"]]\n",
    "    .value_counts()\n",
    "    .gt(thresh)\n",
    "    .groupby('spgc_clust')\n",
    "    .any()\n",
    "    .sum()\n",
    "    )\n",
    "perm_count_module_multihit = np.array(perm_count_module_multihit)\n",
    "plt.hist(perm_count_module_multihit)\n",
    "plt.axvline(obs_count_module_multihit)\n",
    "\n",
    "print(perm_count_module_multihit.mean(), perm_count_module_multihit.std(), obs_count_module_multihit, obs_count_module_multihit / perm_count_module_multihit.mean())"
   ]
  },
  {
   "cell_type": "code",
   "execution_count": null,
   "metadata": {},
   "outputs": [],
   "source": [
    "thresh = 2\n",
    "\n",
    "obs_count_module_multihit = (\n",
    "    # Count the total number of clusters with multiple hits to the same KEGG_Module\n",
    "    d0[[\"spgc_clust\", \"KEGG_Module\"]]\n",
    "    .value_counts()\n",
    "    .gt(thresh)\n",
    "    .groupby('spgc_clust')\n",
    "    .any()\n",
    "    .sum()\n",
    ")\n",
    "perm_count_module_multihit = []\n",
    "for i in tqdm(range(999)):\n",
    "    perm_count_module_multihit.append(\n",
    "        d0.assign(\n",
    "            # Permute clusters within species.\n",
    "            spgc_clust=lambda x: x.groupby(\"species\").spgc_clust.sample(frac=1).values\n",
    "        )[[\"spgc_clust\", \"KEGG_Module\"]]\n",
    "    .value_counts()\n",
    "    .gt(thresh)\n",
    "    .groupby('spgc_clust')\n",
    "    .any()\n",
    "    .sum()\n",
    "    )\n",
    "perm_count_module_multihit = np.array(perm_count_module_multihit)\n",
    "plt.hist(perm_count_module_multihit)\n",
    "plt.axvline(obs_count_module_multihit)\n",
    "\n",
    "print(perm_count_module_multihit.mean(), perm_count_module_multihit.std(), obs_count_module_multihit, obs_count_module_multihit / perm_count_module_multihit.mean())"
   ]
  },
  {
   "cell_type": "code",
   "execution_count": null,
   "metadata": {},
   "outputs": [],
   "source": [
    "thresh = 3\n",
    "\n",
    "obs_count_module_multihit = (\n",
    "    # Count the total number of clusters with multiple hits to the same KEGG_Module\n",
    "    d0[[\"spgc_clust\", \"KEGG_Module\"]]\n",
    "    .value_counts()\n",
    "    .gt(thresh)\n",
    "    .groupby('spgc_clust')\n",
    "    .any()\n",
    "    .sum()\n",
    ")\n",
    "perm_count_module_multihit = []\n",
    "for i in tqdm(range(999)):\n",
    "    perm_count_module_multihit.append(\n",
    "        d0.assign(\n",
    "            # Permute clusters within species.\n",
    "            spgc_clust=lambda x: x.groupby(\"species\").spgc_clust.sample(frac=1).values\n",
    "        )[[\"spgc_clust\", \"KEGG_Module\"]]\n",
    "    .value_counts()\n",
    "    .gt(thresh)\n",
    "    .groupby('spgc_clust')\n",
    "    .any()\n",
    "    .sum()\n",
    "    )\n",
    "perm_count_module_multihit = np.array(perm_count_module_multihit)\n",
    "plt.hist(perm_count_module_multihit)\n",
    "plt.axvline(obs_count_module_multihit)\n",
    "\n",
    "print(perm_count_module_multihit.mean(), perm_count_module_multihit.std(), obs_count_module_multihit, obs_count_module_multihit / perm_count_module_multihit.mean())"
   ]
  },
  {
   "cell_type": "code",
   "execution_count": null,
   "metadata": {},
   "outputs": [],
   "source": [
    "_species_list = species_list\n",
    "\n",
    "donor_comparison = []\n",
    "missing_species = []\n",
    "for species in tqdm(_species_list):\n",
    "    inpath = f\"data/group/xjin_ucfmt_hmp2/species/sp-{species}/r.proc.gtpro.sfacts-fit.gene99_new-v22-agg75.spgc-fit.uhgg-strain_gene-ucfmt.tsv\"\n",
    "    if not os.path.exists(inpath):\n",
    "        missing_species.append(species)\n",
    "        continue\n",
    "    donor_comparison.append(pd.read_table(inpath, index_col=\"gene_id\"))\n",
    "\n",
    "donor_comparison = pd.concat(donor_comparison).dropna(subset=['D0097', 'D0044']).assign(\n",
    "        label=lambda x: (x.D0097 * 2 + x.D0044 * 3).map(\n",
    "            {0: \"neither\", 5: \"both\", 2: \"d97\", 3: \"d44\"}\n",
    "        ))\n",
    "# mwas = pd.concat(mwas).assign(\n",
    "#     log2_oddsratio_pc_ibd=lambda x: np.log2(x.oddsratio_pc_ibd),\n",
    "#     neg_log10_pvalue=lambda x: -np.log10(x.fisher_exact_pvalue_ibd),\n",
    "#     num_subjects_present=lambda x: x[\"present-nonIBD\"] + x[\"present-IBD\"],\n",
    "#     num_subjects_absent=lambda x: x[\"absent-nonIBD\"] + x[\"absent-IBD\"],\n",
    "#     num_subjects_total=lambda x: x.num_subjects_present + x.num_subjects_absent,\n",
    "#     prevalence=lambda x: x.num_subjects_present\n",
    "#     / x.num_subjects_total,\n",
    "# )\n",
    "\n",
    "print(\n",
    "    len(missing_species),\n",
    "    \"out of\",\n",
    "    len(_species_list),\n",
    "    \"species are missing stats.\",\n",
    ")"
   ]
  },
  {
   "cell_type": "code",
   "execution_count": null,
   "metadata": {},
   "outputs": [],
   "source": [
    "d = donor_comparison.groupby(gene_meta.species).label.value_counts().unstack()\n",
    "d.apply(lambda x: x / x.sum(), axis=1).quantile([0.25, 0.5, 0.75]).T"
   ]
  },
  {
   "cell_type": "code",
   "execution_count": null,
   "metadata": {},
   "outputs": [],
   "source": [
    "_species_list = species_list\n",
    "\n",
    "mwas = []\n",
    "missing_species = []\n",
    "for species in tqdm(_species_list):\n",
    "    inpath = f\"data/group/xjin_ucfmt_hmp2/species/sp-{species}/r.proc.gtpro.sfacts-fit.gene99_new-v22-agg75.spgc-fit.uhgg-strain_gene.hmp2_mwas-f30-n1.tsv\"\n",
    "    if not os.path.exists(inpath):\n",
    "        missing_species.append(species)\n",
    "        continue\n",
    "    mwas.append(pd.read_table(inpath, index_col=\"gene_id\").assign(species=species))\n",
    "mwas = pd.concat(mwas).assign(\n",
    "    log2_oddsratio_pc_ibd=lambda x: np.log2(x.oddsratio_pc_ibd),\n",
    "    neg_log10_pvalue=lambda x: -np.log10(x.fisher_exact_pvalue_ibd),\n",
    "    num_subjects_present=lambda x: x[\"present-nonIBD\"] + x[\"present-IBD\"],\n",
    "    num_subjects_absent=lambda x: x[\"absent-nonIBD\"] + x[\"absent-IBD\"],\n",
    "    num_subjects_total=lambda x: x.num_subjects_present + x.num_subjects_absent,\n",
    "    prevalence=lambda x: x.num_subjects_present\n",
    "    / x.num_subjects_total,\n",
    ")\n",
    "\n",
    "print(\n",
    "    len(missing_species),\n",
    "    \"out of\",\n",
    "    len(_species_list),\n",
    "    \"species are missing stats.\",\n",
    ")"
   ]
  },
  {
   "cell_type": "code",
   "execution_count": null,
   "metadata": {},
   "outputs": [],
   "source": [
    "species_taxonomy.loc['102492']"
   ]
  },
  {
   "cell_type": "code",
   "execution_count": null,
   "metadata": {},
   "outputs": [],
   "source": [
    "gene_meta[['eggNOG_OGs', 'COG_category']][lambda x: ~x.eggNOG_OGs.fillna('').str.startswith('COG')].head(100).tail(50)"
   ]
  },
  {
   "cell_type": "code",
   "execution_count": null,
   "metadata": {},
   "outputs": [],
   "source": [
    "d = mwas.assign(donor=donor_comparison.label).assign(prevalence_class=prevalence_class)[\n",
    "    lambda x: (x.num_subjects_present >= 10)\n",
    "    & (x.num_subjects_absent >= 10)\n",
    "    & x.donor.isin([\"d97\", \"d44\"])\n",
    "    & (x.prevalence_class == 'shell')\n",
    "].assign(fdr=lambda x: fdrcorrection(x.fisher_exact_pvalue_ibd)[1]).sort_values(\n",
    "    \"fisher_exact_pvalue_ibd\"\n",
    ")\n",
    "\n",
    "plt.scatter('log2_oddsratio_pc_ibd', 'fisher_exact_pvalue_ibd', c='fdr', data=d, lw=1, facecolor='none', marker='o', cmap='viridis_r')\n",
    "plt.yscale('log')\n",
    "plt.gca().invert_yaxis()\n",
    "plt.colorbar()"
   ]
  },
  {
   "cell_type": "code",
   "execution_count": null,
   "metadata": {},
   "outputs": [],
   "source": [
    "d[lambda x: x.fisher_exact_pvalue_ibd < 1e-2][\n",
    "    [\n",
    "        \"fisher_exact_pvalue_ibd\",\n",
    "        \"log2_oddsratio_pc_ibd\",\n",
    "        \"num_subjects_total\",\n",
    "        \"prevalence\",\n",
    "        \"donor\",\n",
    "    ]\n",
    "].join(\n",
    "    gene_meta[\n",
    "        [\n",
    "            \"species\",\n",
    "            \"PFAMs\",\n",
    "            \"eggNOG_OGs\",\n",
    "            \"COG_category\",\n",
    "            \"Description\",\n",
    "            \"Preferred_name\",\n",
    "        ]\n",
    "    ]\n",
    ")"
   ]
  },
  {
   "cell_type": "code",
   "execution_count": null,
   "metadata": {},
   "outputs": [],
   "source": [
    "from statsmodels.graphics.gofplots import qqplot\n",
    "\n",
    "d0 = mwas.assign(donor=donor_comparison.label).assign(prevalence_class=prevalence_class)[\n",
    "    lambda x: (x.num_subjects_present >= 10)\n",
    "    & (x.num_subjects_absent >= 10)\n",
    "    & x.donor.isin([\"d97\", \"d44\"])\n",
    "    & (x.prevalence_class == 'shell')\n",
    "].assign(fdr=lambda x: fdrcorrection(x.fisher_exact_pvalue_ibd)[1]).sort_values(\n",
    "    \"fisher_exact_pvalue_ibd\"\n",
    ")\n",
    "\n",
    "d1 = d0.join(gene_x_cog_category_matrix)\n",
    "\n",
    "fig, ax = plt.subplots(figsize=(10, 10))\n",
    "\n",
    "cog_category_list = gene_x_cog_category_matrix.loc[d0.index].sum().sort_values(ascending=False).head(10).index\n",
    "\n",
    "for cat in cog_category_list:\n",
    "    d2 = d1[d1[cat]]\n",
    "    ax.scatter(np.linspace(0, 1, num=d2.shape[0] + 1)[1:], sp.stats.uniform.ppf(d2.fisher_exact_pvalue_ibd), label=cat, s=20)\n",
    "ax.plot([0, 1], [0, 1], color='k')\n",
    "ax.legend(bbox_to_anchor=(1, 1), markerscale=5)\n",
    "ax.set_yscale('log')\n",
    "ax.set_xscale('log')\n",
    "# plt.xlim(right=1e-1)\n",
    "# plt.ylim(top=1e-1)"
   ]
  },
  {
   "cell_type": "code",
   "execution_count": null,
   "metadata": {},
   "outputs": [],
   "source": [
    "d1[lambda x: (x.G) & (x.fisher_exact_pvalue_ibd < 1e-2)].oddsratio_pc_ibd.to_frame().join(gene_meta).sort_values('oddsratio_pc_ibd')"
   ]
  },
  {
   "cell_type": "code",
   "execution_count": null,
   "metadata": {},
   "outputs": [],
   "source": [
    "plt.hist2d('log2_oddsratio_pc_ibd', 'neg_log10_pvalue', data=mwas, norm=mpl.colors.PowerNorm(1/10), bins=100)\n",
    "None"
   ]
  },
  {
   "cell_type": "code",
   "execution_count": null,
   "metadata": {},
   "outputs": [],
   "source": [
    "d = mwas[\n",
    "    lambda x: (x.num_subjects_present > 20)\n",
    "    & (x.num_subjects_absent > 20)\n",
    "].sort_values(\"fisher_exact_pvalue_ibd\")\n",
    "d.assign(lambda x: x..value_counts()\n",
    "# fdrcorrection(d.fisher_exact_pvalue_ibd)[1]"
   ]
  },
  {
   "cell_type": "code",
   "execution_count": null,
   "metadata": {},
   "outputs": [],
   "source": [
    "fdr_by_species.assign(signif=lambda x: x.fdr < 0.05)[['species', 'signif']].value_counts().unstack(fill_value=0).sort_values(True, ascending=False).join(species_taxonomy).head(20)"
   ]
  },
  {
   "cell_type": "code",
   "execution_count": null,
   "metadata": {},
   "outputs": [],
   "source": [
    "mwas = mwas.assign(fdr=lambda x: x[test_filter].groupby('species').fisher_exact_pvalue_ibd.pipe()\n",
    "plt.hist2d('log2_oddsratio_pc_ibd', 'neg_log10_pvalue', data=mwas[test_filter], norm=mpl.colors.PowerNorm(1/10), bins=100)\n",
    "None"
   ]
  },
  {
   "cell_type": "code",
   "execution_count": null,
   "metadata": {},
   "outputs": [],
   "source": [
    "bins = np.logspace(-5, 0, num=40)\n",
    "plt.hist(mwas[test_filter].fisher_exact_pvalue_ibd, bins=bins)\n",
    "plt.plot(bins[1:], (bins[1:] - bins[:-1]) * mwas[test_filter].shape[0])\n",
    "plt.xscale('log')\n",
    "plt.yscale('log')"
   ]
  },
  {
   "cell_type": "code",
   "execution_count": null,
   "metadata": {},
   "outputs": [],
   "source": [
    "plt.plot(np.sort(fdrcorrection(mwas[test_filter].fisher_exact_pvalue_ibd)[1]))"
   ]
  },
  {
   "cell_type": "raw",
   "metadata": {},
   "source": [
    "_perm_coclustering = d.groupby('species', group_keys=False).apply(lambda x: x.assign(permute_clust=lambda y: y.spgc_clust.sample(frac=1).values)).drop(columns=['spgc_clust'])\n",
    "_perm_coclustering"
   ]
  },
  {
   "cell_type": "raw",
   "metadata": {},
   "source": [
    "perm_num_coclustering = []\n",
    "for i in tqdm(range(99)):\n",
    "    _perm_coclustering = d.groupby('species', group_keys=False).apply(lambda x: x.assign(permute_clust=lambda y: y.spgc_clust.sample(frac=1).values)).drop(columns=['spgc_clust']).groupby(['species', 'permute_clust']).sum().gt(1)\n",
    "    _perm_num_coclustering = _perm_coclustering.groupby('species').sum()\n",
    "    _perm_num_coclustering.loc['overall'] = _perm_coclustering.sum()\n",
    "    _perm_num_coclustering.loc[:, 'overall'] = _perm_coclustering.drop(columns=['no_category', 'S', 'R']).any(axis=1).groupby('species').sum()\n",
    "    _perm_num_coclustering.loc['overall', 'overall'] = _perm_coclustering.drop(columns=['no_category', 'S', 'R']).any(axis=1).sum()\n",
    "    perm_num_coclustering.append(_perm_num_coclustering.stack())\n",
    "perm_num_coclustering = pd.DataFrame(perm_num_coclustering)"
   ]
  },
  {
   "cell_type": "raw",
   "metadata": {},
   "source": [
    "def _calculate_2tailed_pvalue_from_perm(obs, perms, return_zscore=False):\n",
    "    hypoth_left = perms >= obs\n",
    "    hypoth_right = perms <= obs\n",
    "    null_p_left = (hypoth_left.sum() + 1) / (len(hypoth_left) + 1)\n",
    "    null_p_right = (hypoth_right.sum() + 1) / (len(hypoth_right) + 1)\n",
    "    if return_zscore:\n",
    "        null_mean = perms.mean()\n",
    "        null_std = perms.std()\n",
    "        zscore = (obs - null_mean) / null_std\n",
    "        return zscore, np.minimum(null_p_left, null_p_right)\n",
    "    return np.minimum(null_p_left, null_p_right)"
   ]
  },
  {
   "cell_type": "raw",
   "metadata": {},
   "source": [
    "_perm, _obs = align_indexes(perm_num_coclustering.T, obs_num_coclustering.stack())\n",
    "\n",
    "result = []\n",
    "for idx in _obs.index:\n",
    "    result.append(_calculate_2tailed_pvalue_from_perm(_obs.loc[idx], _perm.loc[idx], return_zscore=True))\n",
    "spgc_coclustering_enrichment_test = pd.DataFrame(result, index=_obs.index, columns=['zscore', 'pvalue'])"
   ]
  },
  {
   "cell_type": "raw",
   "metadata": {},
   "source": [
    "d0 = spgc_coclustering_enrichment_test\n",
    "d1_zscore = d0.zscore.replace({np.inf: np.nan}).unstack(fill_value=0)\n",
    "d1_signf = d0.pvalue.unstack(fill_value=1.0).map(lambda p: np.where(p < 0.05, '\u2022', ''))\n",
    "_species_order = d1_zscore.loc[:, 'overall'].sort_values().index\n",
    "_category_order = d1_zscore.loc['overall'].sort_values().index\n",
    "\n",
    "fig, ax = plt.subplots(figsize=(20, 20))\n",
    "sns.heatmap(d1_zscore.loc[_species_order, _category_order], xticklabels=1, yticklabels=1, norm=mpl.colors.SymLogNorm(linthresh=1.0, vmin=-50, vmax=50), cmap='coolwarm', ax=ax)\n",
    "\n",
    "# Annotations (because seaborn annotations are failing)\n",
    "for (i, species), (j, category) in product(enumerate(_species_order), enumerate(_category_order)):\n",
    "    ax.annotate(d1_signf.loc[species, category], xy=(j + 0.5, i + 0.5), ha='center', va='center')\n",
    "\n",
    "# d0 = ref_species_by_cog_category_cdi_bias_test\n",
    "# d1_coef = d0.coef.unstack(fill_value=0)\n",
    "# d1_signf = d0.pvalue.unstack(fill_value=1.0).map(lambda p: np.where(p < 0.05, '\u2022', ''))\n",
    "\n",
    "# d2_coef = d1_coef.loc[cmi_species_order, cmi_category_order]\n",
    "# d2_signf = d1_signf.loc[cmi_species_order, cmi_category_order]\n",
    "\n",
    "# fig, ax = plt.subplots(figsize=(20, 20))\n",
    "# # sns.heatmap(d2_coef)\n",
    "# # sns.heatmap(d1_coef.loc[cmi_species_order, cmi_category_order], annot=d1_signf.loc[cmi_species_order, cmi_category_order], fmt='', norm=mpl.colors.SymLogNorm(linthresh=0.001, vmin=-1e5, vmax=1e5), xticklabels=1, yticklabels=1, cmap='coolwarm', ax=ax)\n",
    "# sns.heatmap(d2_coef, norm=mpl.colors.SymLogNorm(linthresh=0.001, vmin=-.1, vmax=.1), xticklabels=1, yticklabels=1, cmap='coolwarm', ax=ax)\n",
    "\n",
    "# # Annotations (because seaborn annotations are failing)\n",
    "# for (i, species), (j, category) in product(enumerate(cmi_species_order), enumerate(cmi_category_order)):\n",
    "#     ax.annotate(d2_signf.loc[species, category], xy=(j + 0.5, i + 0.5), ha='center', va='center')"
   ]
  },
  {
   "cell_type": "raw",
   "metadata": {},
   "source": [
    "spgc_coclustering_enrichment_test.loc['overall', 'overall']"
   ]
  },
  {
   "cell_type": "raw",
   "metadata": {},
   "source": [
    "obs_num_coclustering.loc['overall', 'overall'] / perm_num_coclustering.T.loc['overall', 'overall'].mean()"
   ]
  },
  {
   "cell_type": "raw",
   "metadata": {},
   "source": []
  },
  {
   "cell_type": "raw",
   "metadata": {},
   "source": [
    "(obs_num_coclustering.loc['overall', :] / perm_num_coclustering.T.loc['overall', :].mean(1)).sort_values(ascending=False).to_frame('excess_clumpiness').join(spgc_coclustering_enrichment_test.loc['overall', :]).join(cog_category_description)"
   ]
  },
  {
   "cell_type": "raw",
   "metadata": {},
   "source": []
  },
  {
   "cell_type": "raw",
   "metadata": {},
   "source": [
    "frac_gt = (pd.DataFrame(perm_num_coclustering) > obs_num_coclustering.stack()).mean()\n",
    "frac_lt = (pd.DataFrame(perm_num_coclustering) < obs_num_coclustering.stack()).mean()"
   ]
  },
  {
   "cell_type": "raw",
   "metadata": {},
   "source": [
    "pvalue = np.minimum(frac_gt, frac_lt).unstack()"
   ]
  },
  {
   "cell_type": "raw",
   "metadata": {},
   "source": [
    "zscore = pd.DataFrame(perm_num_coclustering).agg(['mean', 'std']).T.assign(obs=obs_num_coclustering.stack()).apply(lambda x: (x['obs'] - x['mean']) / x['std'], axis=1).unstack().replace({np.inf: np.nan})"
   ]
  },
  {
   "cell_type": "raw",
   "metadata": {},
   "source": [
    "zscore"
   ]
  },
  {
   "cell_type": "code",
   "execution_count": null,
   "metadata": {},
   "outputs": [],
   "source": []
  }
 ],
 "metadata": {
  "kernelspec": {
   "display_name": "toolz3",
   "language": "python",
   "name": "toolz3"
  },
  "language_info": {
   "codemirror_mode": {
    "name": "ipython",
    "version": 3
   },
   "file_extension": ".py",
   "mimetype": "text/x-python",
   "name": "python",
   "nbconvert_exporter": "python",
   "pygments_lexer": "ipython3",
   "version": "3.10.12"
  }
 },
 "nbformat": 4,
 "nbformat_minor": 5
}