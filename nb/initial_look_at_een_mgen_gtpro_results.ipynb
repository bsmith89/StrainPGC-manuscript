{
 "cells": [
  {
   "cell_type": "code",
   "execution_count": null,
   "metadata": {},
   "outputs": [],
   "source": [
    "%load_ext autoreload"
   ]
  },
  {
   "cell_type": "code",
   "execution_count": null,
   "metadata": {},
   "outputs": [],
   "source": [
    "import os as _os\n",
    "\n",
    "_os.chdir(_os.environ[\"PROJECT_ROOT\"])\n",
    "_os.path.realpath(_os.path.curdir)"
   ]
  },
  {
   "cell_type": "markdown",
   "metadata": {},
   "source": [
    "#### Imports"
   ]
  },
  {
   "cell_type": "code",
   "execution_count": null,
   "metadata": {},
   "outputs": [],
   "source": [
    "import os\n",
    "import subprocess\n",
    "import time\n",
    "from itertools import chain, product\n",
    "from tempfile import mkstemp\n",
    "\n",
    "import matplotlib as mpl\n",
    "import matplotlib.pyplot as plt\n",
    "import numpy as np\n",
    "import pandas as pd\n",
    "import scipy as sp\n",
    "import seaborn as sns\n",
    "import sfacts as sf\n",
    "import statsmodels.formula.api as smf\n",
    "import xarray as xr\n",
    "from mpl_toolkits.axes_grid1 import make_axes_locatable\n",
    "from statsmodels.stats.multitest import fdrcorrection\n",
    "from tqdm import tqdm\n",
    "\n",
    "import lib.plot\n",
    "import lib.thisproject.data\n",
    "from lib.pandas_util import align_indexes, aligned_index, idxwhere, invert_mapping"
   ]
  },
  {
   "cell_type": "code",
   "execution_count": null,
   "metadata": {},
   "outputs": [],
   "source": [
    "een_metaphlan_rabund = (\n",
    "    pd.read_table(\"raw/een-mgen/2023-06-13_aritra.mahapatra@tum.de/6_species.tab\")\n",
    "    .set_index(\"clade_name\")\n",
    "    .T\n",
    "    / 100\n",
    ")\n",
    "een_metaphlan_rabund_ecoli = een_metaphlan_rabund[\n",
    "    \"k__Bacteria|p__Proteobacteria|c__Gammaproteobacteria|o__Enterobacterales|f__Enterobacteriaceae|g__Escherichia|s__Escherichia_coli\"\n",
    "]\n",
    "een_metaphlan_rabund_ecoli"
   ]
  },
  {
   "cell_type": "code",
   "execution_count": null,
   "metadata": {},
   "outputs": [],
   "source": [
    "# Recreation of one of Aritra's plots. Looks identical.\n",
    "plt.hist((een_metaphlan_rabund > 0.001).sum(1), bins=20)"
   ]
  },
  {
   "cell_type": "code",
   "execution_count": null,
   "metadata": {},
   "outputs": [],
   "source": [
    "pd.read_table(\n",
    "    \"data/group/een/r.proc.gtpro.species_depth.tsv\", index_col=[\"sample\", \"species_id\"]\n",
    ").depth.unstack(fill_value=0).sum(1).mean()"
   ]
  },
  {
   "cell_type": "code",
   "execution_count": null,
   "metadata": {},
   "outputs": [],
   "source": [
    "hmp2_ecoli_depth = pd.read_table(\n",
    "    \"data/group/xjin_hmp2/r.proc.gtpro.species_depth.tsv\",\n",
    "    index_col=[\"sample\", \"species_id\"],\n",
    ").depth.unstack(fill_value=0)[102506]\n",
    "een_ecoli_depth = pd.read_table(\n",
    "    \"data/group/een/r.proc.gtpro.species_depth.tsv\", index_col=[\"sample\", \"species_id\"]\n",
    ").depth.unstack(fill_value=0)[102506]\n",
    "\n",
    "fig, ax = plt.subplots()\n",
    "bins = [0] + list(np.logspace(-3, 3))\n",
    "\n",
    "for label, (x, color) in dict(\n",
    "    hmp2=(hmp2_ecoli_depth, \"tab:blue\"), een=(een_ecoli_depth, \"tab:orange\")\n",
    ").items():\n",
    "    ax.hist(x, bins=bins, label=label, alpha=0.6, color=color)\n",
    "\n",
    "ax.legend()\n",
    "ax.set_xscale(\"symlog\", linthresh=1e-3, linscale=0.1)\n",
    "ax.set_yscale(\"log\")\n",
    "ax.set_ylabel(f\"{label} samples\")\n",
    "ax.set_xlabel(\"depth\")\n",
    "None"
   ]
  },
  {
   "cell_type": "code",
   "execution_count": null,
   "metadata": {},
   "outputs": [],
   "source": [
    "species_rabund = (\n",
    "    pd.read_table(\n",
    "        \"data/group/een/r.proc.gtpro.species_depth.tsv\",\n",
    "        index_col=[\"sample\", \"species_id\"],\n",
    "    )\n",
    "    .depth.unstack(fill_value=0)\n",
    "    .apply(lambda x: x / x.sum(), axis=1)\n",
    ")"
   ]
  },
  {
   "cell_type": "code",
   "execution_count": null,
   "metadata": {},
   "outputs": [],
   "source": [
    "hmp2_ecoli_rabund = (\n",
    "    pd.read_table(\n",
    "        \"data/group/xjin_hmp2/r.proc.gtpro.species_depth.tsv\",\n",
    "        index_col=[\"sample\", \"species_id\"],\n",
    "    )\n",
    "    .depth.unstack(fill_value=0)\n",
    "    .apply(lambda x: x / x.sum(), axis=1)[102506]\n",
    ")\n",
    "een_ecoli_rabund = species_rabund[102506]\n",
    "\n",
    "fig, ax = plt.subplots()\n",
    "bins = [0] + list(np.logspace(-7, 1))\n",
    "\n",
    "for label, (x, color) in dict(\n",
    "    hmp2=(hmp2_ecoli_rabund, \"grey\"),\n",
    "    een=(een_ecoli_rabund, \"tab:blue\"),\n",
    "    metaphlan=(een_metaphlan_rabund_ecoli, \"tab:orange\"),\n",
    ").items():\n",
    "    ax.hist(x, bins=bins, label=label, alpha=0.6, color=color)\n",
    "\n",
    "ax.legend()\n",
    "ax.set_xscale(\"symlog\", linthresh=1e-7, linscale=0.1)\n",
    "ax.set_yscale(\"log\")\n",
    "ax.set_ylabel(f\"{label} samples\")\n",
    "ax.set_xlabel(\"relative abundance\")\n",
    "None"
   ]
  },
  {
   "cell_type": "code",
   "execution_count": null,
   "metadata": {},
   "outputs": [],
   "source": [
    "x, y = align_indexes(een_ecoli_rabund, een_metaphlan_rabund_ecoli)\n",
    "\n",
    "\n",
    "left_bound = 0.0\n",
    "bins = [0] + list(np.logspace(-7, 0, num=20))\n",
    "\n",
    "fig, ax = plt.subplots()\n",
    "*_, cbar_artist = ax.hist2d(\n",
    "    x, y, bins=bins, norm=mpl.colors.PowerNorm(1 / 2), cmap=\"magma_r\"\n",
    ")\n",
    "ax.set_aspect(1)\n",
    "\n",
    "ax.set_xscale(\"symlog\", linthresh=1e-7, linscale=1)\n",
    "ax.set_yscale(\"symlog\", linthresh=1e-7, linscale=1)\n",
    "ax.set_xlim(0, 1)\n",
    "ax.set_ylim(0, 1)\n",
    "\n",
    "fig.subplots_adjust(right=0.8)\n",
    "cbar_ax = fig.add_axes([0.85, 0.15, 0.025, 0.67])\n",
    "fig.colorbar(cbar_artist, cax=cbar_ax, label=\"count samples\")"
   ]
  },
  {
   "cell_type": "code",
   "execution_count": null,
   "metadata": {},
   "outputs": [],
   "source": [
    "x, y = align_indexes(een_ecoli_rabund, een_metaphlan_rabund_ecoli)\n",
    "\n",
    "\n",
    "fig, ax = plt.subplots()\n",
    "\n",
    "ax.scatter(x, y, alpha=0.5)\n",
    "ax.set_xlabel(\"relative abundance (GT-Pro)\")\n",
    "ax.set_ylabel(\"relative abundance (MetaPhlAn)\")\n",
    "ax.set_xscale(\"symlog\", linthresh=1e-7, linscale=0.1)\n",
    "ax.set_yscale(\"symlog\", linthresh=1e-7, linscale=0.1)\n",
    "ax.axvline(1e-3, linestyle=\":\", color=\"k\", lw=1)\n",
    "ax.axhline(1e-3, linestyle=\":\", color=\"k\", lw=1)\n",
    "\n",
    "ax.set_aspect(1)\n",
    "ax.plot([0, 1], [0, 1], linestyle=\"--\", color=\"k\")"
   ]
  },
  {
   "cell_type": "code",
   "execution_count": null,
   "metadata": {},
   "outputs": [],
   "source": [
    "species_depth = (\n",
    "    pd.read_table(\n",
    "        \"data/group/een/r.proc.gtpro.species_depth.tsv\",\n",
    "        index_col=[\"sample\", \"species_id\"],\n",
    "    )\n",
    "    .depth.unstack(fill_value=0)\n",
    "    .rename(columns=str)\n",
    ")\n",
    "\n",
    "bins = np.linspace(0, 30_000, num=200)\n",
    "\n",
    "fig, axs = plt.subplots(2, sharex=True)\n",
    "\n",
    "for (title, x), ax in zip(\n",
    "    dict(\n",
    "        total_depth_by_sample=species_depth.sum(1),\n",
    "        total_depth_by_species=species_depth.sum(0),\n",
    "    ).items(),\n",
    "    axs.flatten(),\n",
    "):\n",
    "    ax.hist(x, bins=np.logspace(-1, 5, num=100))\n",
    "    ax.set_title(title)\n",
    "    ax.set_xscale(\"log\")\n",
    "fig.tight_layout()"
   ]
  },
  {
   "cell_type": "code",
   "execution_count": null,
   "metadata": {},
   "outputs": [],
   "source": [
    "species_depth.loc[[\"CF_1\", \"CF_11\", \"CF_15\", \"CF_89\"]].sum(1)"
   ]
  },
  {
   "cell_type": "raw",
   "metadata": {},
   "source": [
    "species_depth.to_csv('fig/een.gtpro.species_depth.wide.tsv', sep='\\t', float_format=lambda f: f\"{f:0.2f}\")"
   ]
  },
  {
   "cell_type": "code",
   "execution_count": null,
   "metadata": {},
   "outputs": [],
   "source": [
    "species_rabund = species_depth.divide(species_depth.sum(1), axis=0)\n",
    "species_rabund.mean().sort_values(ascending=False).head(20)"
   ]
  },
  {
   "cell_type": "code",
   "execution_count": null,
   "metadata": {},
   "outputs": [],
   "source": [
    "bins = [0] + list(np.logspace(-6, 4, num=100))\n",
    "plt.hist(species_depth.values.flatten(), bins=bins)\n",
    "plt.xscale(\"symlog\", linthresh=1e-6, linscale=0.1)\n",
    "plt.yscale(\"log\")"
   ]
  },
  {
   "cell_type": "code",
   "execution_count": null,
   "metadata": {},
   "outputs": [],
   "source": [
    "x = (species_depth > 1e-1).sum(1)\n",
    "print(x.quantile([0.05, 0.25, 0.5, 0.75, 0.95]))\n",
    "plt.hist(x, bins=10)\n",
    "plt.xlabel(\"Number of species with depth >0.1x\")\n",
    "plt.ylabel(\"Number of samples\")"
   ]
  },
  {
   "cell_type": "code",
   "execution_count": null,
   "metadata": {},
   "outputs": [],
   "source": [
    "species_prevalence = (species_depth > 1e-1).mean()\n",
    "\n",
    "print((species_prevalence > 0.5).sum())\n",
    "print(((species_depth > 1e-1).sum() >= 2).sum())\n",
    "\n",
    "plt.hist(species_prevalence, bins=np.linspace(0, 1, num=51))\n",
    "plt.xlabel(\"Fraction of samples with depth >0.1x\")\n",
    "plt.ylabel(\"Number of species\")\n",
    "None"
   ]
  },
  {
   "cell_type": "code",
   "execution_count": null,
   "metadata": {},
   "outputs": [],
   "source": [
    "species_rabund = species_depth.divide(species_depth.sum(1), axis=0)"
   ]
  },
  {
   "cell_type": "code",
   "execution_count": null,
   "metadata": {},
   "outputs": [],
   "source": [
    "plt.hist((species_rabund > 0.001).sum(1), bins=20)\n",
    "plt.xlabel(\"Number of species with relative abundance >0.1%\")\n",
    "plt.ylabel(\"Number of samples\")"
   ]
  },
  {
   "cell_type": "code",
   "execution_count": null,
   "metadata": {},
   "outputs": [],
   "source": [
    "(species_rabund > 0.001).sum(1).median()"
   ]
  },
  {
   "cell_type": "code",
   "execution_count": null,
   "metadata": {},
   "outputs": [],
   "source": [
    "(species_depth > 1e-1).sum(1).median()"
   ]
  },
  {
   "cell_type": "code",
   "execution_count": null,
   "metadata": {},
   "outputs": [],
   "source": [
    "(een_metaphlan_rabund > 0.001).sum(1).median()"
   ]
  },
  {
   "cell_type": "code",
   "execution_count": null,
   "metadata": {},
   "outputs": [],
   "source": [
    "n_species = 10\n",
    "top_species = (\n",
    "    (species_rabund > 1e-5).sum().sort_values(ascending=False).head(n_species).index\n",
    ")\n",
    "\n",
    "fig, axs = plt.subplots(\n",
    "    n_species, figsize=(5, 0.3 * n_species), sharex=True, sharey=True\n",
    ")\n",
    "\n",
    "bins = np.logspace(-8, 1, num=51)\n",
    "\n",
    "for species_id, ax in zip(top_species, axs):\n",
    "    # ax.hist(rabund_subset[species_id], bins=bins, alpha=0.7)\n",
    "    ax.hist(species_rabund[species_id], bins=bins, alpha=0.7)\n",
    "    ax.set_xscale(\"log\")\n",
    "    prevalence = (species_rabund[species_id] > 1e-5).mean()\n",
    "    ax.set_title(\"\")\n",
    "    # ax.set_xticks()\n",
    "    # ax.set_yticks()\n",
    "    ax.yaxis.set_visible(False)\n",
    "    ax.xaxis.set_visible(False)\n",
    "    ax.patch.set_alpha(0.0)\n",
    "    for spine in [\"left\", \"right\", \"top\", \"bottom\"]:\n",
    "        ax.spines[spine].set_visible(False)\n",
    "    ax.annotate(\n",
    "        f\"{species_id} ({prevalence:0.0%})\",\n",
    "        xy=(0.05, 0.1),\n",
    "        ha=\"left\",\n",
    "        xycoords=\"axes fraction\",\n",
    "    )\n",
    "    ax.set_xlim(left=1e-9)\n",
    "    ax.set_ylim(top=20)\n",
    "    ax.axvline(1e-5, lw=1, linestyle=\":\", color=\"k\")\n",
    "\n",
    "ax.xaxis.set_visible(True)\n",
    "ax.spines[\"bottom\"].set_visible(True)\n",
    "ax.set_xticks([1e-4, 1e-2, 1e-0])\n",
    "ax.set_xticklabels([\"0.01%\", \"1%\", \"100%\"])\n",
    "ax.set_xlabel(\"Relative Abundance\")\n",
    "\n",
    "# fig.subplots_adjust(hspace=-0.75)"
   ]
  },
  {
   "cell_type": "code",
   "execution_count": null,
   "metadata": {},
   "outputs": [],
   "source": [
    "species_taxonomy = lib.thisproject.data.load_species_taxonomy(\n",
    "    \"ref/gtpro/species_taxonomy_ext.tsv\"\n",
    ")"
   ]
  },
  {
   "cell_type": "code",
   "execution_count": null,
   "metadata": {},
   "outputs": [],
   "source": [
    "for _species_id in top_species.astype(str):\n",
    "    print(_species_id, \":\", species_taxonomy.taxonomy_string.loc[_species_id])"
   ]
  },
  {
   "cell_type": "code",
   "execution_count": null,
   "metadata": {},
   "outputs": [],
   "source": [
    "(een_metaphlan_rabund_ecoli > 1e-3).mean()"
   ]
  },
  {
   "cell_type": "code",
   "execution_count": null,
   "metadata": {},
   "outputs": [],
   "source": [
    "n_species = 20\n",
    "top_species = (\n",
    "    (species_rabund > 1e-3).sum().sort_values(ascending=False).head(n_species).index\n",
    ")\n",
    "\n",
    "fig, axs = plt.subplots(\n",
    "    n_species, figsize=(5, 0.3 * n_species), sharex=True, sharey=True\n",
    ")\n",
    "\n",
    "bins = np.logspace(-8, 1, num=51)\n",
    "\n",
    "for species_id, ax in zip(top_species, axs):\n",
    "    # ax.hist(rabund_subset[species_id], bins=bins, alpha=0.7)\n",
    "    ax.hist(species_rabund[species_id], bins=bins, alpha=0.7)\n",
    "    ax.set_xscale(\"log\")\n",
    "    prevalence = (species_rabund[species_id] > 1e-3).mean()\n",
    "    ax.set_title(\"\")\n",
    "    # ax.set_xticks()\n",
    "    # ax.set_yticks()\n",
    "    ax.yaxis.set_visible(False)\n",
    "    ax.xaxis.set_visible(False)\n",
    "    ax.patch.set_alpha(0.0)\n",
    "    for spine in [\"left\", \"right\", \"top\", \"bottom\"]:\n",
    "        ax.spines[spine].set_visible(False)\n",
    "    ax.annotate(\n",
    "        f\"{species_id} ({prevalence:0.0%})\",\n",
    "        xy=(0.05, 0.1),\n",
    "        ha=\"left\",\n",
    "        xycoords=\"axes fraction\",\n",
    "    )\n",
    "    ax.set_xlim(left=1e-9)\n",
    "    ax.set_ylim(top=20)\n",
    "    ax.axvline(1e-5, lw=1, linestyle=\":\", color=\"k\")\n",
    "\n",
    "ax.xaxis.set_visible(True)\n",
    "ax.spines[\"bottom\"].set_visible(True)\n",
    "ax.set_xticks([1e-4, 1e-2, 1e-0])\n",
    "ax.set_xticklabels([\"0.01%\", \"1%\", \"100%\"])\n",
    "ax.set_xlabel(\"Relative Abundance\")\n",
    "\n",
    "# fig.subplots_adjust(hspace=-0.75)"
   ]
  },
  {
   "cell_type": "code",
   "execution_count": null,
   "metadata": {},
   "outputs": [],
   "source": [
    "for _species_id in top_species.astype(str):\n",
    "    print(_species_id, \":\", species_taxonomy.taxonomy_string.loc[_species_id])"
   ]
  },
  {
   "cell_type": "code",
   "execution_count": null,
   "metadata": {},
   "outputs": [],
   "source": [
    "species_id = \"102506\"\n",
    "species_taxonomy.loc[species_id]"
   ]
  },
  {
   "cell_type": "code",
   "execution_count": null,
   "metadata": {},
   "outputs": [],
   "source": [
    "np.random.seed(0)\n",
    "\n",
    "mgtp_all = sf.data.Metagenotype.load(\n",
    "    f\"data/group/een/species/sp-{species_id}/r.proc.gtpro.mgtp.nc\"\n",
    ")\n",
    "world = sf.data.World.load(\n",
    "    f\"data/group/een/species/sp-{species_id}/r.proc.gtpro.filt-poly05-cvrg05.ss-g10000-block0-seed0.fit-sfacts37-s85-seed0.world.nc\"\n",
    ")\n",
    "position_ss = world.random_sample(position=min(1000, world.sizes[\"position\"])).position"
   ]
  },
  {
   "cell_type": "code",
   "execution_count": null,
   "metadata": {},
   "outputs": [],
   "source": [
    "sf.plot.plot_metagenotype(\n",
    "    world.sel(position=position_ss),\n",
    "    col_linkage_func=lambda w: w.metagenotype.linkage(),\n",
    "    dwidth=0.01,\n",
    "    scalex=0.147,\n",
    "    col_colors_func=None,\n",
    ")\n",
    "sf.plot.plot_community(\n",
    "    world.sel(position=position_ss),\n",
    "    col_linkage_func=lambda w: w.metagenotype.linkage(),\n",
    "    row_linkage_func=lambda w: w.genotype.linkage(),\n",
    "    dwidth=0.01,\n",
    "    row_colors_func=None,\n",
    ")\n",
    "sf.plot.plot_genotype(\n",
    "    world.sel(position=position_ss),\n",
    "    row_linkage_func=lambda w: w.genotype.linkage(),\n",
    "    row_colors_func=lambda w: w.genotype.entropy(),\n",
    ")"
   ]
  },
  {
   "cell_type": "code",
   "execution_count": null,
   "metadata": {},
   "outputs": [],
   "source": [
    "meta = (\n",
    "    pd.read_table(\"meta/een-mgen/stool.tsv\")\n",
    "    # .rename(columns={'Seq-Name': 'sample', 'CED/Patient-recoded': 'subject_id', 'sampleDate': 'date', 'Diet (=PreEEN, EEN, PostEEN)': 'sample_type'})\n",
    "    # .assign(\n",
    "    #     date=lambda x: pd.to_datetime(x.date),\n",
    "    #     sample_type=lambda x: x.sample_type.fillna('???')\n",
    "    # )\n",
    "    .set_index(\"mgen_id\")\n",
    "    # .sort_values(['subject_id', 'date', 'sample_type'])\n",
    ")\n",
    "meta"
   ]
  },
  {
   "cell_type": "code",
   "execution_count": null,
   "metadata": {},
   "outputs": [],
   "source": [
    "micro_meta = (\n",
    "    pd.read_table(\"meta/een-mgen/microcosm.tsv\")\n",
    "    .set_index(\"mgen_id\")\n",
    ")\n",
    "micro_meta"
   ]
  },
  {
   "cell_type": "code",
   "execution_count": null,
   "metadata": {},
   "outputs": [],
   "source": [
    "assert (world.sample.isin(micro_meta.index) | world.sample.isin(meta.index)).all()"
   ]
  },
  {
   "cell_type": "code",
   "execution_count": null,
   "metadata": {},
   "outputs": [],
   "source": [
    "assert meta.index.isin(species_rabund.index).all()"
   ]
  },
  {
   "cell_type": "code",
   "execution_count": null,
   "metadata": {},
   "outputs": [],
   "source": [
    "meta[[\"subject_id\", \"sample_type\"]].value_counts().unstack(fill_value=0).sort_values(\n",
    "    \"EEN\", ascending=False\n",
    ").head(20)"
   ]
  },
  {
   "cell_type": "code",
   "execution_count": null,
   "metadata": {},
   "outputs": [],
   "source": [
    "subject_id = \"F\"\n",
    "d = meta[meta.subject_id == subject_id].assign(\n",
    "    has_strain_info=lambda x: x.index.isin(world.sample.values),\n",
    "    species_rabund=species_rabund[species_id],\n",
    "    species_depth=species_depth[species_id],\n",
    "    label=lambda x: x[[\"collection_date_relative_een_end\", \"sample_type\"]].apply(\n",
    "        tuple, axis=1\n",
    "    ),\n",
    ")\n",
    "w = world.sel(sample=idxwhere(d.has_strain_info)).drop_low_abundance_strains(0.01)\n",
    "sf.plot.plot_metagenotype(\n",
    "    w.sel(position=position_ss),\n",
    "    dwidth=0.01,\n",
    "    scalex=0.147,\n",
    "    col_colors_func=None,\n",
    "    row_cluster=False,\n",
    "    transpose=True,\n",
    "    row_linkage_func=lambda w: world.sel(position=position_ss).metagenotype.linkage(\n",
    "        \"position\"\n",
    "    ),\n",
    ")\n",
    "sf.plot.plot_dominance(\n",
    "    w.sel(position=position_ss),\n",
    "    dwidth=0.01,\n",
    "    scalex=0.147,\n",
    "    col_colors_func=None,\n",
    "    row_cluster=False,\n",
    "    transpose=True,\n",
    "    row_linkage_func=lambda w: world.sel(position=position_ss).metagenotype.linkage(\n",
    "        \"position\"\n",
    "    ),\n",
    "    norm=mpl.colors.PowerNorm(1),\n",
    ")\n",
    "sf.plot.plot_community(\n",
    "    w,\n",
    "    col_cluster=False,\n",
    ")\n",
    "\n",
    "strain_weighted_mean_rabund_by_sample_type = (\n",
    "    w.community.to_pandas()\n",
    "    .multiply(w.metagenotype.mean_depth(), axis=0)\n",
    "    .groupby(d.sample_type)\n",
    "    .sum()\n",
    "    .divide(\n",
    "        w.metagenotype.mean_depth().to_series().groupby(d.sample_type).sum(), axis=0\n",
    "    )\n",
    ")\n",
    "strain_mean_rabund_by_sample_type = (\n",
    "    w.community.to_pandas().groupby(d.sample_type).mean()\n",
    ")\n",
    "weighted_strain_turnover = sp.spatial.distance.braycurtis(\n",
    "    strain_weighted_mean_rabund_by_sample_type.loc[\"EEN\"],\n",
    "    strain_weighted_mean_rabund_by_sample_type.loc[\"PostEEN\"],\n",
    ")\n",
    "strain_turnover = sp.spatial.distance.braycurtis(\n",
    "    strain_mean_rabund_by_sample_type.loc[\"EEN\"],\n",
    "    strain_mean_rabund_by_sample_type.loc[\"PostEEN\"],\n",
    ")\n",
    "print(strain_turnover), print(weighted_strain_turnover)\n",
    "\n",
    "w.community.to_pandas().rename(d.label).plot(\n",
    "    kind=\"bar\", stacked=True, colormap=\"rainbow\"\n",
    ")\n",
    "plt.legend(bbox_to_anchor=(1, 1))\n",
    "lib.plot.rotate_xticklabels(rotation=45)\n",
    "d"
   ]
  },
  {
   "cell_type": "code",
   "execution_count": null,
   "metadata": {},
   "outputs": [],
   "source": []
  },
  {
   "cell_type": "code",
   "execution_count": null,
   "metadata": {},
   "outputs": [],
   "source": [
    "fig, axs = plt.subplots(2, figsize=(10, 5), sharex=True)\n",
    "\n",
    "subject_list = ['A', 'B', 'C', 'D', 'E', 'F', 'G', 'H', 'K', 'L', 'M', 'N', 'O',\n",
    "                # 'P',\n",
    "                'Q', 'R', 'S', 'T', 'U']\n",
    "subject_palette = lib.plot.construct_ordered_palette(subject_list, cm=\"rainbow\")\n",
    "sample_type_palette = {\"EEN\": \"o\", \"PostEEN\": \"<\", \"PreEEN\": \".\"}\n",
    "\n",
    "for subject_id in subject_list:\n",
    "    d0 = meta[meta.subject_id == subject_id].assign(\n",
    "        has_strain_info=lambda x: x.index.isin(world.sample.values),\n",
    "        species_rabund=species_rabund[species_id],\n",
    "        species_depth=species_depth[species_id],\n",
    "        label=lambda x: x[[\"collection_date_relative_een_end\", \"sample_type\"]].apply(\n",
    "            tuple, axis=1\n",
    "        ),\n",
    "        last_een_tp_days=lambda x: x[\n",
    "            (x.sample_type == \"EEN\") & x.has_strain_info\n",
    "        ].collection_date_relative_een_end.max(),\n",
    "        is_last_een_tp=lambda x: x.collection_date_relative_een_end\n",
    "        == x.last_een_tp_days,\n",
    "    )\n",
    "    d1 = d0.assign(\n",
    "        cbrt_days_since_end_een=lambda x: np.cbrt(x.collection_date_relative_een_end),\n",
    "    )\n",
    "\n",
    "    w = world.sel(sample=idxwhere(d0.has_strain_info))\n",
    "\n",
    "    # strain_mean_rabund_by_sample_type = w.community.to_pandas().groupby(d0.sample_type).mean()\n",
    "    strain_bc_to_last_een = pd.Series(\n",
    "        sp.spatial.distance.cdist(\n",
    "            w.community.to_pandas().loc[idxwhere(d1.is_last_een_tp)],\n",
    "            w.community.to_pandas(),\n",
    "            metric=\"braycurtis\",\n",
    "        )[0],\n",
    "        index=w.sample.values,\n",
    "    )\n",
    "    d2 = d1.assign(strain_bc_to_last_een=strain_bc_to_last_een).dropna(\n",
    "        subset=[\"collection_date_relative_een_end\", \"strain_bc_to_last_een\"]\n",
    "    )\n",
    "    axs[0].plot(\n",
    "        \"collection_date_relative_een_end\",\n",
    "        \"strain_bc_to_last_een\",\n",
    "        data=d2,\n",
    "        label=subject_id,\n",
    "        color=subject_palette[subject_id],\n",
    "    )\n",
    "    axs[1].plot(\n",
    "        \"collection_date_relative_een_end\",\n",
    "        \"species_rabund\",\n",
    "        data=d2,\n",
    "        label=subject_id,\n",
    "        color=subject_palette[subject_id],\n",
    "    )\n",
    "    for sample_type, d3 in d2.groupby(\"sample_type\"):\n",
    "        axs[0].scatter(\n",
    "            \"collection_date_relative_een_end\",\n",
    "            \"strain_bc_to_last_een\",\n",
    "            data=d3,\n",
    "            marker=sample_type_palette[sample_type],\n",
    "            color=subject_palette[subject_id],\n",
    "            label=\"__nolegend__\",\n",
    "        )\n",
    "        axs[1].scatter(\n",
    "            \"collection_date_relative_een_end\",\n",
    "            \"species_rabund\",\n",
    "            data=d3,\n",
    "            marker=sample_type_palette[sample_type],\n",
    "            color=subject_palette[subject_id],\n",
    "            label=\"__nolegend__\",\n",
    "        )\n",
    "axs[0].set_xscale(\"symlog\", linthresh=1, linscale=0.1)\n",
    "axs[1].set_yscale(\"log\")\n",
    "# plt.xlim(-50, 50)\n",
    "axs[0].axvline(0, linestyle=\"--\", color=\"k\", lw=1)\n",
    "axs[0].set_xlim(-300, 300)\n",
    "\n",
    "axs[0].legend(bbox_to_anchor=(1.2, 0.1))"
   ]
  },
  {
   "cell_type": "code",
   "execution_count": null,
   "metadata": {},
   "outputs": [],
   "source": [
    "x = world.community.to_pandas()\n",
    "sample_list = list(set(meta.index) & set(x.index))\n",
    "m = meta.loc[sample_list]\n",
    "\n",
    "subject_palette = lib.plot.construct_ordered_palette(m.subject_id.unique())\n",
    "\n",
    "d0 = []\n",
    "\n",
    "for subject_id, m1 in m.groupby('subject_id'):\n",
    "    d0.append(pd.DataFrame(\n",
    "        dict(\n",
    "            subject_id=subject_id,\n",
    "            bc_diss=sp.spatial.distance.pdist(x.loc[m1.index], metric='braycurtis'),\n",
    "            delta_time=sp.spatial.distance.pdist(\n",
    "                    m1.collection_date_relative_een_end.to_frame(),\n",
    "                    metric=lambda x, y: np.abs(x - y),\n",
    "                ),\n",
    "            transition_type=(\n",
    "                pd.Series(\n",
    "                    sp.spatial.distance.pdist(\n",
    "                        m1.sample_type.map(\n",
    "                            {\"PreEEN\": 2, \"EEN\": 3, \"PostEEN\": 5}\n",
    "                        ).to_frame(),\n",
    "                        metric=lambda x, y: x * y,\n",
    "                    )\n",
    "                )\n",
    "                .astype(int)\n",
    "                .map(\n",
    "                    {\n",
    "                        2 * 2: \"pre\",\n",
    "                        2 * 3: \"pre->during\",\n",
    "                        2 * 5: \"pre->post\",\n",
    "                        3 * 3: \"during\",\n",
    "                        3 * 5: \"during->post\",\n",
    "                        5 * 5: \"post->post\",\n",
    "                    }\n",
    "                )\n",
    "            ),\n",
    "        )\n",
    "    ))\n",
    "\n",
    "d0 = pd.concat(d0)\n",
    "\n",
    "num_transition_types = len(d0.transition_type.unique())\n",
    "fig, axs = lib.plot.subplots_grid(\n",
    "    ncols=2, naxes=num_transition_types, sharex=True, sharey=True\n",
    ")\n",
    "for (transition_type, d1), ax in zip(d0.groupby(\"transition_type\"), axs.flatten()):\n",
    "    ax.scatter(x=\"delta_time\", y=\"bc_diss\", data=d1.assign(subject_color=lambda x: x.subject_id.map(subject_palette)), c='subject_color')\n",
    "    ax.set_title(transition_type)\n",
    "\n",
    "ax.set_xscale('log')\n",
    "ax.set_xlim(1)"
   ]
  },
  {
   "cell_type": "code",
   "execution_count": null,
   "metadata": {},
   "outputs": [],
   "source": [
    "d1 = d0.groupby(['subject_id', 'transition_type'])[['bc_diss', 'delta_time']].mean().reset_index()\n",
    "\n",
    "sns.stripplot(x='transition_type', hue='subject_id', y='bc_diss', data=d1)\n",
    "plt.legend(bbox_to_anchor=(1, 1))"
   ]
  },
  {
   "cell_type": "code",
   "execution_count": null,
   "metadata": {},
   "outputs": [],
   "source": [
    "d1 = d0.groupby(['subject_id', 'transition_type'])[['bc_diss', 'delta_time']].mean().reset_index()\n",
    "\n",
    "sns.stripplot(x='transition_type', hue='subject_id', y='delta_time', data=d1)\n",
    "plt.legend(bbox_to_anchor=(1, 1))"
   ]
  },
  {
   "cell_type": "code",
   "execution_count": null,
   "metadata": {},
   "outputs": [],
   "source": [
    "from patsy import dmatrices\n",
    "import pymc as pm\n",
    "import pytensor as pt\n",
    "\n",
    "bc_padding = 0.1\n",
    "\n",
    "d0 = []\n",
    "for subject_id, m1 in m.groupby('subject_id'):\n",
    "    d0.append(pd.DataFrame(\n",
    "        dict(\n",
    "            subject_id=subject_id,\n",
    "            bc_diss=sp.spatial.distance.pdist(x.loc[m1.index], metric='braycurtis'),\n",
    "            delta_time=sp.spatial.distance.pdist(\n",
    "                    m1.collection_date_relative_een_end.to_frame(),\n",
    "                    metric=lambda x, y: np.abs(x - y),\n",
    "                ),\n",
    "            transition_type=(\n",
    "                pd.Series(\n",
    "                    sp.spatial.distance.pdist(\n",
    "                        m1.sample_type.map(\n",
    "                            {\"PreEEN\": 2, \"EEN\": 3, \"PostEEN\": 5}\n",
    "                        ).to_frame(),\n",
    "                        metric=lambda x, y: x * y,\n",
    "                    )\n",
    "                )\n",
    "                .astype(int)\n",
    "                .map(\n",
    "                    {\n",
    "                        2 * 2: \"pre\",\n",
    "                        2 * 3: \"pre->during\",\n",
    "                        2 * 5: \"pre->post\",\n",
    "                        3 * 3: \"during\",\n",
    "                        3 * 5: \"during->post\",\n",
    "                        5 * 5: \"post->post\",\n",
    "                    }\n",
    "                )\n",
    "            ),\n",
    "        )\n",
    "    ))\n",
    "d0 = pd.concat(d0)\n",
    "\n",
    "d1 = d0.assign(\n",
    "    trnsfm_delta_time=lambda x: x.delta_time.pipe(lambda x: np.log(x)),\n",
    "    trnsfm_bc_diss=lambda x: x.bc_diss.pipe(lambda x: sp.special.logit((x + bc_padding) / (1 + 2 * bc_padding))),\n",
    "    subject_color=lambda x: x.subject_id.map(subject_palette),\n",
    ")\n",
    "y, X = dmatrices('trnsfm_bc_diss ~ np.sqrt(delta_time) + C(subject_id, Sum) + C(transition_type, Treatment(\"during\"))', data=d1, return_type='dataframe')\n",
    "\n",
    "with pm.Model() as model0:\n",
    "    _x = pm.Data('_x', X, dims=('pair', 'covariate'), coords=dict(pair=X.index, covariate=X.columns))\n",
    "    _y = pm.Data('_y', y.squeeze(), dims=('pair'), coords=dict(pair=y.index))\n",
    "    \n",
    "    sigma = pm.HalfCauchy('sigma', beta=10)\n",
    "    beta = pm.Normal('beta', dims=('covariate',), sigma=10)\n",
    "    obs = pm.Normal('obs', mu=_x @ beta, sigma=sigma, observed=_y, dims=('pair'))\n",
    "\n",
    "    trace0 = pm.sample()"
   ]
  },
  {
   "cell_type": "code",
   "execution_count": null,
   "metadata": {},
   "outputs": [],
   "source": [
    "pm.summary(trace0)"
   ]
  },
  {
   "cell_type": "code",
   "execution_count": null,
   "metadata": {},
   "outputs": [],
   "source": [
    "x = species_rabund\n",
    "sample_list = list(set(meta.index) & set(x.index))\n",
    "m = meta.loc[sample_list]\n",
    "\n",
    "subject_palette = lib.plot.construct_ordered_palette(m.subject_id.unique())\n",
    "\n",
    "d0 = []\n",
    "\n",
    "for subject_id, m1 in m.groupby('subject_id'):\n",
    "    d0.append(pd.DataFrame(\n",
    "        dict(\n",
    "            subject_id=subject_id,\n",
    "            bc_diss=sp.spatial.distance.pdist(x.loc[m1.index], metric='braycurtis'),\n",
    "            delta_time=sp.spatial.distance.pdist(\n",
    "                    m1.collection_date_relative_een_end.to_frame(),\n",
    "                    metric=lambda x, y: np.abs(x - y),\n",
    "                ),\n",
    "            transition_type=(\n",
    "                pd.Series(\n",
    "                    sp.spatial.distance.pdist(\n",
    "                        m1.sample_type.map(\n",
    "                            {\"PreEEN\": 2, \"EEN\": 3, \"PostEEN\": 5}\n",
    "                        ).to_frame(),\n",
    "                        metric=lambda x, y: x * y,\n",
    "                    )\n",
    "                )\n",
    "                .astype(int)\n",
    "                .map(\n",
    "                    {\n",
    "                        2 * 2: \"pre\",\n",
    "                        2 * 3: \"pre->during\",\n",
    "                        2 * 5: \"pre->post\",\n",
    "                        3 * 3: \"during\",\n",
    "                        3 * 5: \"during->post\",\n",
    "                        5 * 5: \"post->post\",\n",
    "                    }\n",
    "                )\n",
    "            ),\n",
    "        )\n",
    "    ))\n",
    "\n",
    "d0 = pd.concat(d0)\n",
    "\n",
    "num_transition_types = len(d0.transition_type.unique())\n",
    "fig, axs = lib.plot.subplots_grid(\n",
    "    ncols=2, naxes=num_transition_types, sharex=True, sharey=True\n",
    ")\n",
    "for (transition_type, d1), ax in zip(d0.groupby(\"transition_type\"), axs.flatten()):\n",
    "    ax.scatter(x=\"delta_time\", y=\"bc_diss\", data=d1.assign(subject_color=lambda x: x.subject_id.map(subject_palette)), c='subject_color')\n",
    "    ax.set_title(transition_type)\n",
    "\n",
    "ax.set_xscale('log')\n",
    "ax.set_xlim(1)"
   ]
  },
  {
   "cell_type": "code",
   "execution_count": null,
   "metadata": {},
   "outputs": [],
   "source": [
    "strain_bc_to_last_een = pd.Series(\n",
    "    sp.spatial.distance.cdist(\n",
    "        w.community.to_pandas().loc[idxwhere(d1.is_last_een_tp)],\n",
    "        w.community.to_pandas(),\n",
    "        metric=\"braycurtis\",\n",
    "    )[0],\n",
    "    index=w.sample.values,\n",
    ")"
   ]
  },
  {
   "cell_type": "raw",
   "metadata": {},
   "source": [
    "sf.plot.plot_metagenotype(mgtp_all.sel(position=position_ss), col_linkage_func=lambda w: w.metagenotype.linkage(), col_colors_func=None)"
   ]
  },
  {
   "cell_type": "code",
   "execution_count": null,
   "metadata": {},
   "outputs": [],
   "source": [
    "sf.plot.plot_genotype(\n",
    "    sf.Genotype.concat(\n",
    "        dict(\n",
    "            strain=world.drop_low_abundance_strains(0.05).genotype,\n",
    "            mgen=world.metagenotype.to_estimated_genotype(),\n",
    "        ),\n",
    "        dim=\"strain\",\n",
    "    ).sel(position=position_ss),\n",
    "    transpose=True,\n",
    ")"
   ]
  },
  {
   "cell_type": "code",
   "execution_count": null,
   "metadata": {},
   "outputs": [],
   "source": [
    "sample = \"CF_060\""
   ]
  },
  {
   "cell_type": "code",
   "execution_count": null,
   "metadata": {},
   "outputs": [],
   "source": [
    "world.metagenotype.mean_depth().sel(sample=[sample])"
   ]
  },
  {
   "cell_type": "code",
   "execution_count": null,
   "metadata": {},
   "outputs": [],
   "source": [
    "world.community.sel(sample=[sample]).to_series().sort_values(ascending=False).head(4)"
   ]
  },
  {
   "cell_type": "code",
   "execution_count": null,
   "metadata": {},
   "outputs": [],
   "source": [
    "sf.plot.plot_metagenotype_frequency_spectrum(world, sample, bins=101)\n",
    "plt.yscale(\"log\")"
   ]
  },
  {
   "cell_type": "code",
   "execution_count": null,
   "metadata": {},
   "outputs": [],
   "source": [
    "sf.plot.plot_metagenotype_frequency_spectrum_compare_samples(\n",
    "    world, sample_list=[\"CF_059\", \"CF_060\"]\n",
    ")"
   ]
  },
  {
   "cell_type": "code",
   "execution_count": null,
   "metadata": {},
   "outputs": [],
   "source": [
    "sf.plot.plot_genotype_frequency_spectrum(world, strain=3, bins=100)\n",
    "plt.yscale(\"log\")"
   ]
  },
  {
   "cell_type": "raw",
   "metadata": {},
   "source": [
    "# Do two things to help convergence:\n",
    "# (1) Strains with no representation in the community get reset to fully ambiguous\n",
    "# (2) Samples where many of the counts are contributed by ambiguous positions are reset to fully hetergeneous.\n",
    "\n",
    "comm0 = world.community\n",
    "geno0 = world.genotype"
   ]
  },
  {
   "cell_type": "raw",
   "metadata": {},
   "source": [
    "geno_entropy_matrix = sf.data.Genotype()"
   ]
  },
  {
   "cell_type": "code",
   "execution_count": null,
   "metadata": {},
   "outputs": [],
   "source": [
    "sf.plot.plot_genotype_entropy(\n",
    "    world.sel(position=position_ss),\n",
    "    row_colors_func=lambda w: w.genotype.entropy(norm=2),\n",
    ")\n",
    "sf.plot.plot_genotype(\n",
    "    world.sel(position=position_ss),\n",
    "    row_colors_func=lambda w: w.genotype.entropy(norm=2),\n",
    ")"
   ]
  },
  {
   "cell_type": "code",
   "execution_count": null,
   "metadata": {},
   "outputs": [],
   "source": [
    "plt.hist(world.genotype.entropy(norm=2).to_series().sort_values(ascending=False))"
   ]
  },
  {
   "cell_type": "code",
   "execution_count": null,
   "metadata": {},
   "outputs": [],
   "source": [
    "world.genotype.entropy(norm=2).to_series().sort_values(ascending=False).head()"
   ]
  },
  {
   "cell_type": "code",
   "execution_count": null,
   "metadata": {},
   "outputs": [],
   "source": [
    "high_entropy_genotype_list = idxwhere(world.genotype.entropy(norm=2).to_series() > 0.25)\n",
    "high_entropy_genotype_list"
   ]
  },
  {
   "cell_type": "code",
   "execution_count": null,
   "metadata": {},
   "outputs": [],
   "source": [
    "low_representation_strain_list = idxwhere(\n",
    "    world.community.max(\"sample\").to_series() < 0.05\n",
    ")\n",
    "low_representation_strain_list"
   ]
  },
  {
   "cell_type": "code",
   "execution_count": null,
   "metadata": {},
   "outputs": [],
   "source": [
    "replace_strain_list = list(\n",
    "    set(low_representation_strain_list + high_entropy_genotype_list)\n",
    ")\n",
    "len(replace_strain_list)"
   ]
  },
  {
   "cell_type": "code",
   "execution_count": null,
   "metadata": {},
   "outputs": [],
   "source": [
    "geno_init = world.genotype.data.to_pandas().copy()\n",
    "geno_init.loc[replace_strain_list] = 0.5\n",
    "geno_init = sf.data.Genotype(geno_init.stack().to_xarray())\n",
    "sf.plot.plot_genotype(\n",
    "    geno_init.sel(position=position_ss),\n",
    "    row_linkage_func=lambda w: world.sel(position=position_ss).genotype.linkage(),\n",
    ")"
   ]
  },
  {
   "cell_type": "code",
   "execution_count": null,
   "metadata": {},
   "outputs": [],
   "source": [
    "comm_init = world.community.data.to_pandas().copy()\n",
    "comm_init[replace_strain_list] = pd.DataFrame(\n",
    "    {\n",
    "        s: (comm_init[replace_strain_list].sum(1) / len(replace_strain_list))\n",
    "        for s in replace_strain_list\n",
    "    }\n",
    ")\n",
    "comm_init = sf.data.Community(comm_init.stack().to_xarray()).fuzzed(eps=1e-3)\n",
    "sf.plot.plot_community(\n",
    "    comm_init,\n",
    "    row_linkage_func=lambda w: world.sel(position=position_ss).genotype.linkage(),\n",
    ")"
   ]
  },
  {
   "cell_type": "raw",
   "metadata": {},
   "source": [
    "import logging\n",
    "import torch\n",
    "\n",
    "logging.getLogger().setLevel(logging.INFO)"
   ]
  },
  {
   "cell_type": "raw",
   "metadata": {},
   "source": [
    "sf.World.from_combined(geno_init, comm_init).validate_constraints()"
   ]
  },
  {
   "cell_type": "raw",
   "metadata": {},
   "source": [
    "world_init = sf.World.from_combined(geno_init, comm_init)\n",
    "# world1.data[\"rho\"] = np.ones(world.sizes[\"strain\"]) / world.sizes[\"strain\"]  # TODO: Determine if this is necessary.\n",
    "\n",
    "world2, history = sf.workflow.fit_metagenotype_complex(\n",
    "            structure=sf.model_zoo.NAMED_STRUCTURES[\"model8\"],\n",
    "            metagenotype=world.metagenotype,\n",
    "            nstrain=world.sizes[\"strain\"],\n",
    "            init_from=world_init,\n",
    "            init_vars=[\"genotype\", \"community\"],\n",
    "            hyperparameters=dict(\n",
    "                gamma_hyper=1e-10,\n",
    "                pi_hyper=0.01,\n",
    "                pi_hyper2=0.01,\n",
    "                rho_hyper=10.0,\n",
    "                rho_hyper2=10.0,\n",
    "                alpha=10.0,\n",
    "            ),\n",
    "            device=\"cuda\",\n",
    "            dtype=torch.float64,  # FIXME: Run with float32 and new model without constraint validation.\n",
    "            estimation_kwargs=dict(\n",
    "                seed=0,\n",
    "                jit=True,\n",
    "                ignore_jit_warnings=True,\n",
    "                maxiter=1_000_000,\n",
    "                lagA=50,\n",
    "                lagB=100 ,\n",
    "                optimizer_name=\"Adamax\",\n",
    "                optimizer_kwargs=dict(lr=0.05),\n",
    "                optimizer_clip_kwargs=dict(clip_norm=0.001),\n",
    "                minimum_lr=1e-2,\n",
    "            ),\n",
    "        )"
   ]
  },
  {
   "cell_type": "raw",
   "metadata": {},
   "source": [
    "sf.plot.plot_community(world.sel(position=position_ss), col_linkage_func=lambda w: world.metagenotype.linkage(), row_linkage_func=lambda w: world.genotype.linkage(), dwidth=0.01, row_colors_func=None)\n",
    "sf.plot.plot_community(world_init.sel(position=position_ss), col_linkage_func=lambda w: world.metagenotype.linkage(), row_linkage_func=lambda w: world.genotype.linkage(), dwidth=0.01, row_colors_func=None)\n",
    "sf.plot.plot_community(world2.sel(position=position_ss), col_linkage_func=lambda w: world.metagenotype.linkage(), row_linkage_func=lambda w: world.genotype.linkage(), dwidth=0.01, row_colors_func=None)"
   ]
  },
  {
   "cell_type": "raw",
   "metadata": {},
   "source": [
    "_sample_list = [\"CF_057\", \"CF_059\", \"CF_060\", \"CF_039\", \"CF_045\", \"CF_044\", \"CF_058\", \"CF_96\", \"CF_94\", \"CF_95\", \"CF_018\", \"CF_082\", \"CF_019\", \"CF_087\", \"CF_092\"]\n",
    "\n",
    "\n",
    "# sf.plot.plot_community(world2.sel(position=position_ss, sample=_sample_list).drop_low_abundance_strains(0.05), row_linkage_func=lambda w: w.genotype.linkage())\n",
    "sf.plot.plot_community(world2.sel(position=position_ss, strain=replace_strain_list, sample=_sample_list), row_linkage_func=lambda w: w.genotype.linkage(), col_linkage_func=lambda w: w.metagenotype.linkage())\n",
    "sf.plot.plot_genotype(world2.sel(position=position_ss, strain=replace_strain_list, sample=_sample_list), col_linkage_func=lambda w: world.metagenotype.sel(position=position_ss).linkage(\"position\"), row_linkage_func=lambda w: w.genotype.linkage())\n",
    "sf.plot.plot_metagenotype(world.sel(position=position_ss, sample=_sample_list), row_linkage_func=lambda w: world.metagenotype.sel(position=position_ss).linkage(\"position\"), transpose=True)"
   ]
  },
  {
   "cell_type": "raw",
   "metadata": {},
   "source": [
    "sf.plot.plot_genotype(world.sel(position=position_ss), col_linkage_func=lambda w: world.metagenotype.sel(position=position_ss).linkage(\"position\"), row_linkage_func=lambda w: world.genotype.linkage())\n",
    "sf.plot.plot_genotype(world_init.sel(position=position_ss), col_linkage_func=lambda w: world.metagenotype.sel(position=position_ss).linkage(\"position\"), row_linkage_func=lambda w: world.genotype.linkage())\n",
    "sf.plot.plot_genotype(world2.sel(position=position_ss), col_linkage_func=lambda w: world.metagenotype.sel(position=position_ss).linkage(\"position\"), row_linkage_func=lambda w: world.genotype.linkage())"
   ]
  },
  {
   "cell_type": "raw",
   "metadata": {},
   "source": [
    "diff = world2.community.data - world.community.data\n",
    "\n",
    "sns.clustermap(np.cbrt(diff.to_pandas().T), xticklabels=1, yticklabels=1, col_linkage=world.metagenotype.linkage(), row_linkage=world.genotype.linkage(), vmin=-1, vmax=1, center=0)"
   ]
  },
  {
   "cell_type": "raw",
   "metadata": {},
   "source": [
    "geno_contributed_read_entropy = (((comm0.values @ geno0.pipe(sf.math.binary_entropy) ** 2) * world.metagenotype.total_counts()).sum(\"position\") / world.metagenotype.total_counts().sum(\"position\")).rename(\"entropy\")\n",
    "plt.hist(geno_contributed_read_entropy)"
   ]
  },
  {
   "cell_type": "raw",
   "metadata": {},
   "source": [
    "metagenotype_entropy_error = pd.DataFrame(world.metagenotype.to_estimated_genotype().pipe(sf.math.binary_entropy) - (comm0 @ geno0.round()).pipe(sf.math.binary_entropy), index=world.sample.to_series(), columns=world.position.to_series()).stack().to_xarray()"
   ]
  },
  {
   "cell_type": "raw",
   "metadata": {},
   "source": [
    "mean_entropy_error = ((metagenotype_entropy_error * world.metagenotype.total_counts()).sum(\"position\") / world.metagenotype.total_counts().sum(\"position\")).rename(\"entropy\")"
   ]
  },
  {
   "cell_type": "raw",
   "metadata": {},
   "source": [
    "sf.plot.plot_metagenotype(world.sel(position=position_ss), col_linkage_func=lambda w: w.unifrac_linkage(), col_colors_func=lambda w: mean_entropy_error, dwidth=0.28, scalex=0.153)\n",
    "sf.plot.plot_community(world.sel(position=position_ss), col_linkage_func=lambda w: w.unifrac_linkage(), row_linkage_func=lambda w: w.genotype.linkage(), col_colors_func=lambda w: mean_entropy_error, dwidth=0.01)\n",
    "sf.plot.plot_genotype(world.sel(position=position_ss), row_linkage_func=lambda w: w.genotype.linkage(), row_colors_func=lambda w: w.genotype.entropy())"
   ]
  },
  {
   "cell_type": "raw",
   "metadata": {},
   "source": [
    "plt.hist(mean_entropy_error, bins=np.linspace(-0.5, 0.5, num=100))\n",
    "None"
   ]
  },
  {
   "cell_type": "raw",
   "metadata": {},
   "source": [
    "too_little_entropy_samples = idxwhere(mean_entropy_error.to_series() < -0.05)\n",
    "too_much_entropy_samples = idxwhere(mean_entropy_error.to_series() > 0.05)\n",
    "\n",
    "print(len(too_little_entropy_samples), len(too_much_entropy_samples))"
   ]
  },
  {
   "cell_type": "raw",
   "metadata": {},
   "source": [
    "mgtp_error = sf.evaluation.metagenotype_error2(world, discretized=True)[1]\n",
    "\n",
    "high_error_samples = idxwhere(mgtp_error > 0.05)\n",
    "len(high_error_samples)"
   ]
  },
  {
   "cell_type": "raw",
   "metadata": {},
   "source": [
    "# too_much_entropy_samples\n",
    "\n",
    "# comm_fudge = 0.5\n",
    "\n",
    "comm1 = comm0.to_pandas().copy()\n",
    "comm1.loc[too_little_entropy_samples + too_much_entropy_samples, :] = 1  # np.random.lognormal(sigma=2., size=(len(too_much_entropy_samples), comm0.sizes['strain']))\n",
    "comm1 = comm1 + 1e-5  # Fudge the initialization to get rid of 0s and 1s\n",
    "comm1 = comm1.divide(comm1.sum(1), axis=0)\n",
    "comm1 = sf.data.Community(comm1.stack().to_xarray())\n",
    "\n",
    "sf.plot.plot_community(comm1, col_linkage_func=lambda w: world.unifrac_linkage(), row_linkage_func=lambda w: world.genotype.linkage(), col_colors_func=lambda w: mean_entropy_error, dwidth=0.01)"
   ]
  },
  {
   "cell_type": "raw",
   "metadata": {},
   "source": [
    "# low_representation_strains\n",
    "\n",
    "geno_fudge = 0.1\n",
    "\n",
    "low_representation_strains = idxwhere(comm0.max(\"sample\").to_series() < 0.05)\n",
    "\n",
    "geno1 = geno0.to_pandas().copy()\n",
    "# geno1 = (geno1 + geno_fudge) / (1 + 2 * geno_fudge)  # Fudge the initialization to push away from 0s and 1s.\n",
    "geno1.loc[low_representation_strains] = 0.5\n",
    "geno1 = sf.data.Genotype(geno1.stack().to_xarray())\n",
    "\n",
    "sf.plot.plot_genotype(geno1.sel(position=position_ss), row_linkage_func=lambda w: world.genotype.linkage(), transpose=True)"
   ]
  },
  {
   "cell_type": "raw",
   "metadata": {},
   "source": [
    "sf.estimation.estimate_parameters??"
   ]
  },
  {
   "cell_type": "raw",
   "metadata": {},
   "source": [
    "sf.app.components.transform_optimization_parameter_inputs??"
   ]
  },
  {
   "cell_type": "raw",
   "metadata": {},
   "source": [
    "sf.app.components.add_optimization_arguments??"
   ]
  },
  {
   "cell_type": "raw",
   "metadata": {},
   "source": [
    "sf.app.Fit??"
   ]
  },
  {
   "cell_type": "raw",
   "metadata": {},
   "source": [
    "sf.workflow.fit_metagenotype_complex??"
   ]
  },
  {
   "cell_type": "raw",
   "metadata": {},
   "source": [
    "sf.plot.plot_loss_history(history)"
   ]
  },
  {
   "cell_type": "raw",
   "metadata": {},
   "source": [
    "sf.plot.plot_community(world.sel(position=position_ss), col_linkage_func=lambda w: world.unifrac_linkage(), row_linkage_func=lambda w: world.genotype.linkage(), col_colors_func=lambda w: mean_entropy_error, dwidth=0.01)\n",
    "sf.plot.plot_community(world1.sel(position=position_ss), col_linkage_func=lambda w: world.unifrac_linkage(), row_linkage_func=lambda w: world.genotype.linkage(), col_colors_func=lambda w: mean_entropy_error, dwidth=0.01)\n",
    "sf.plot.plot_community(world2.sel(position=position_ss), col_linkage_func=lambda w: world.unifrac_linkage(), row_linkage_func=lambda w: world.genotype.linkage(), col_colors_func=lambda w: mean_entropy_error, dwidth=0.01)\n",
    "\n",
    "# sf.plot.plot_genotype(world2.sel(position=position_ss), row_linkage_func=lambda w: world.genotype.linkage())"
   ]
  },
  {
   "cell_type": "raw",
   "metadata": {},
   "source": [
    "sf.plot.plot_genotype(world.sel(position=position_ss), row_linkage_func=lambda w: world.genotype.linkage(), col_linkage_func=lambda w: world.sel(position=position_ss).metagenotype.linkage(\"position\"), row_colors_func=lambda w: w.genotype.entropy(), transpose=True)\n",
    "sf.plot.plot_genotype(world1.sel(position=position_ss), row_linkage_func=lambda w: world.genotype.linkage(), col_linkage_func=lambda w: world.sel(position=position_ss).metagenotype.linkage(\"position\"), row_colors_func=lambda w: w.genotype.entropy(), transpose=True)\n",
    "sf.plot.plot_genotype(world2.sel(position=position_ss), row_linkage_func=lambda w: world.genotype.linkage(), col_linkage_func=lambda w: world.sel(position=position_ss).metagenotype.linkage(\"position\"), row_colors_func=lambda w: w.genotype.entropy(), transpose=True)"
   ]
  },
  {
   "cell_type": "raw",
   "metadata": {},
   "source": [
    "diff = world2.community.data - world.community.data\n",
    "\n",
    "sns.clustermap(np.cbrt(diff.to_pandas().T), xticklabels=1, yticklabels=1, col_linkage=world.unifrac_linkage(), row_linkage=world.genotype.linkage(), vmin=-1, vmax=1, center=0)"
   ]
  },
  {
   "cell_type": "code",
   "execution_count": null,
   "metadata": {},
   "outputs": [],
   "source": []
  }
 ],
 "metadata": {
  "kernelspec": {
   "display_name": "sfacts",
   "language": "python",
   "name": "sfacts"
  },
  "language_info": {
   "codemirror_mode": {
    "name": "ipython",
    "version": 3
   },
   "file_extension": ".py",
   "mimetype": "text/x-python",
   "name": "python",
   "nbconvert_exporter": "python",
   "pygments_lexer": "ipython3",
   "version": "3.10.9"
  }
 },
 "nbformat": 4,
 "nbformat_minor": 5
}