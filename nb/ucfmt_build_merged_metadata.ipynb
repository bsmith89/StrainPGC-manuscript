{
 "cells": [
  {
   "cell_type": "markdown",
   "metadata": {},
   "source": [
    "## Preamble"
   ]
  },
  {
   "cell_type": "markdown",
   "metadata": {},
   "source": [
    "### Project Template"
   ]
  },
  {
   "cell_type": "code",
   "execution_count": null,
   "metadata": {},
   "outputs": [],
   "source": [
    "%load_ext autoreload"
   ]
  },
  {
   "cell_type": "code",
   "execution_count": null,
   "metadata": {},
   "outputs": [],
   "source": [
    "import os as _os\n",
    "\n",
    "_os.chdir(_os.environ[\"PROJECT_ROOT\"])\n",
    "_os.path.realpath(_os.path.curdir)"
   ]
  },
  {
   "cell_type": "code",
   "execution_count": null,
   "metadata": {},
   "outputs": [],
   "source": [
    "import pandas as pd"
   ]
  },
  {
   "cell_type": "code",
   "execution_count": null,
   "metadata": {},
   "outputs": [],
   "source": [
    "mgen = pd.read_table(\"meta/ucfmt/mgen.tsv\", index_col=\"mgen_id\")\n",
    "sample = pd.read_table(\"meta/ucfmt/sample.tsv\", index_col=\"sample_id\")\n",
    "subject = pd.read_table(\"meta/ucfmt/subject.tsv\", index_col=\"subject_id\")\n",
    "assert mgen.sample_id.isin(sample.index).all()"
   ]
  },
  {
   "cell_type": "code",
   "execution_count": null,
   "metadata": {},
   "outputs": [],
   "source": [
    "sample_metadata_joined = sample.join(\n",
    "    subject.rename(columns=lambda c: f\"subject_{c}\"), on=\"subject_id\"\n",
    ").join(\n",
    "    mgen.groupby(\"sample_id\")\n",
    "    .apply(lambda x: \",\".join(x.r1_path.str.rsplit(\"/\", n=1).str[-1]))\n",
    "    .rename(\"mgen_r1_filenames\")\n",
    ")"
   ]
  },
  {
   "cell_type": "code",
   "execution_count": null,
   "metadata": {},
   "outputs": [],
   "source": [
    "sample_metadata_joined.sort_values([\"sample_id\"]).to_csv(\n",
    "    \"fig/ucfmt_sample_metadata_big_table.tsv\", sep=\"\\t\"\n",
    ")"
   ]
  }
 ],
 "metadata": {
  "kernelspec": {
   "display_name": "toolz5",
   "language": "python",
   "name": "toolz5"
  },
  "language_info": {
   "codemirror_mode": {
    "name": "ipython",
    "version": 3
   },
   "file_extension": ".py",
   "mimetype": "text/x-python",
   "name": "python",
   "nbconvert_exporter": "python",
   "pygments_lexer": "ipython3",
   "version": "3.10.13"
  }
 },
 "nbformat": 4,
 "nbformat_minor": 5
}