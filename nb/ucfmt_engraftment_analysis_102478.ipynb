{
 "cells": [
  {
   "cell_type": "code",
   "execution_count": null,
   "metadata": {},
   "outputs": [],
   "source": [
    "%load_ext autoreload\n",
    "# %autoreload"
   ]
  },
  {
   "cell_type": "code",
   "execution_count": null,
   "metadata": {},
   "outputs": [],
   "source": [
    "import os\n",
    "os.chdir('..')\n",
    "os.path.realpath(os.path.curdir)"
   ]
  },
  {
   "cell_type": "code",
   "execution_count": null,
   "metadata": {},
   "outputs": [],
   "source": [
    "import sfacts as sf"
   ]
  },
  {
   "cell_type": "code",
   "execution_count": null,
   "metadata": {},
   "outputs": [],
   "source": [
    "import pandas as pd\n",
    "import numpy as np\n",
    "import scipy as sp\n",
    "import matplotlib.pyplot as plt\n",
    "import seaborn as sns\n",
    "import xarray as xr\n",
    "from lib.pandas_util import idxwhere\n",
    "import matplotlib as mpl\n",
    "import lib.plot"
   ]
  },
  {
   "cell_type": "code",
   "execution_count": null,
   "metadata": {},
   "outputs": [],
   "source": [
    "# d__Bacteria;p__Bacteroidota;c__Bacteroidia;o__Bacteroidales;f__Bacteroidaceae;g__Bacteroides_B;s__Bacteroides_B dorei\n",
    "species_id = '102478'"
   ]
  },
  {
   "cell_type": "code",
   "execution_count": null,
   "metadata": {},
   "outputs": [],
   "source": [
    "species_depth = (\n",
    "    pd.read_table('data/ucfmt.a.r.proc.gtpro.species_depth.tsv')\n",
    "    .assign(species_id=lambda x: x.species_id.astype(str))\n",
    "    .set_index(['sample', 'species_id'])\n",
    "    .squeeze()\n",
    "    .unstack(fill_value=0)\n",
    ")\n",
    "\n",
    "pseudo = 1e-3\n",
    "plt.hist(np.log10(species_depth[species_id] + pseudo), bins=50)\n",
    "None"
   ]
  },
  {
   "cell_type": "code",
   "execution_count": null,
   "metadata": {},
   "outputs": [],
   "source": [
    "species_rabund = species_depth.divide(species_depth.sum(1), axis=0)\n",
    "\n",
    "pseudo = 1e-6\n",
    "plt.hist(np.log10(species_rabund[species_id] + pseudo), bins=50)\n",
    "None"
   ]
  },
  {
   "cell_type": "code",
   "execution_count": null,
   "metadata": {},
   "outputs": [],
   "source": [
    "np.random.seed(0)\n",
    "\n",
    "# fit = sf.World.load(f'data/sp-{species_id}.ucfmt.a.r.proc.gtpro.filt-poly05-cvrg05.ss-g10000-block0-seed0.fit-sfacts11-s75-seed0.world.nc').collapse_similar_strains(thresh=0.05).drop_low_abundance_strains(thresh=0.01)\n",
    "fit = sf.World.load(f'data_temp/sp-{species_id}.ucfmt.a.r.proc.gtpro.filt-poly05-cvrg05.ss-g10000-block0-seed0.fit-sfacts20-s75-seed0.world.nc').collapse_similar_strains(thresh=0.05).drop_low_abundance_strains(thresh=0.01)\n",
    "\n",
    "# fit_rename = fit.data.copy()'\n",
    "# fit_rename['sample'] = fit.data.sample.to_series().map(meta['fullname']).to_list()\n",
    "# fit = sf.data.World(fit_rename)\n",
    "\n",
    "position_ss = fit.random_sample(position=min(1000, len(fit.position))).position"
   ]
  },
  {
   "cell_type": "code",
   "execution_count": null,
   "metadata": {},
   "outputs": [],
   "source": [
    "mgen = pd.read_table('meta/ucfmt/mgen.tsv', index_col=['mgen_id'])\n",
    "sample = pd.read_table('meta/ucfmt/sample.tsv', index_col=['sample_id'])\n",
    "subject = pd.read_table('meta/ucfmt/subject.tsv', index_col=['subject_id'])\n",
    "\n",
    "assert mgen.sample_id.isin(sample.index).all()\n",
    "assert sample.subject_id.isin(subject.index).all()\n",
    "\n",
    "meta_all = mgen.join(sample, on='sample_id').join(subject, on='subject_id').assign(\n",
    "    total_species_depth=species_depth.sum(1),\n",
    "    species_depth=species_depth[species_id],\n",
    "    is_fit=lambda x: x.index.to_series().isin(fit.sample.to_series()),\n",
    ")\n",
    "meta_all['fullname'] = (\n",
    "    meta_all\n",
    "    .groupby(['subject_id', 'sample_type_specific'])\n",
    "    .apply(lambda df: df.assign(_i=range(len(df.index))))\n",
    "    .apply(lambda x: x.subject_id + '.' + x.sample_type_specific + '.' + str(x._i), axis=1)\n",
    ")\n",
    "meta_all"
   ]
  },
  {
   "cell_type": "code",
   "execution_count": null,
   "metadata": {},
   "outputs": [],
   "source": [
    "sf.plot.plot_community(\n",
    "    fit.sel(position=position_ss),\n",
    "    col_linkage_func=lambda w: w.metagenotype.linkage(),\n",
    ")"
   ]
  },
  {
   "cell_type": "code",
   "execution_count": null,
   "metadata": {},
   "outputs": [],
   "source": [
    "sf.plot.plot_metagenotype(\n",
    "    fit.sel(position=position_ss),\n",
    "    col_linkage_func=lambda w: w.metagenotype.linkage(),\n",
    "    scaley=0.05,\n",
    ")"
   ]
  },
  {
   "cell_type": "code",
   "execution_count": null,
   "metadata": {},
   "outputs": [],
   "source": [
    "sf.plot.plot_genotype(\n",
    "    fit.sel(position=position_ss),\n",
    "    col_linkage_func=lambda w: w.metagenotype.linkage('position'),\n",
    ")"
   ]
  },
  {
   "cell_type": "code",
   "execution_count": null,
   "metadata": {},
   "outputs": [],
   "source": [
    "duplicated_subject_mgen_id_list = idxwhere(meta_all[lambda x: x.recipient.astype(bool)].duplicated(subset=['subject_id', 'sample_type_specific'], keep=False))\n",
    "meta_all.loc[duplicated_subject_mgen_id_list].sort_values(['subject_id', 'sample_type_specific'])[['subject_id', 'sample_type_specific', 'total_species_depth']]"
   ]
  },
  {
   "cell_type": "code",
   "execution_count": null,
   "metadata": {},
   "outputs": [],
   "source": [
    "drop_mgen_id_list = ['SS01008', 'SS01093c', 'SS01013', 'SS01117', 'SS01120', 'SS01126', 'SS01185']"
   ]
  },
  {
   "cell_type": "code",
   "execution_count": null,
   "metadata": {},
   "outputs": [],
   "source": [
    "sample_type_specific_order = [\n",
    "    'baseline',\n",
    "    'pre_maintenance_1', 'pre_maintenance_2', 'pre_maintenance_3',\n",
    "    'pre_maintenance_4', 'pre_maintenance_5', 'pre_maintenance_6',\n",
    "    'followup_1', 'followup_2', 'followup_3',\n",
    "]\n",
    "sample_type_specific_order"
   ]
  },
  {
   "cell_type": "code",
   "execution_count": null,
   "metadata": {},
   "outputs": [],
   "source": [
    "m = meta_all.drop(drop_mgen_id_list).drop(idxwhere(meta_all.recipient == 0))\n",
    "d = m.set_index(['subject_id', 'sample_type_specific']).total_species_depth.unstack()[sample_type_specific_order]\n",
    "\n",
    "sns.heatmap(d)"
   ]
  },
  {
   "cell_type": "code",
   "execution_count": null,
   "metadata": {},
   "outputs": [],
   "source": [
    "# Total metagenome depth\n",
    "\n",
    "m = meta_all.drop(drop_mgen_id_list).drop(idxwhere(meta_all.recipient == 0))\n",
    "d = m.set_index(['subject_id', 'sample_type_specific']).total_species_depth.unstack()[sample_type_specific_order]\n",
    "is_fit_annot = m.set_index(['subject_id', 'sample_type_specific']).is_fit.unstack(fill_value=False)[sample_type_specific_order]\n",
    "\n",
    "sns.heatmap(d, annot=is_fit_annot, norm=mpl.colors.SymLogNorm(linthresh=1))"
   ]
  },
  {
   "cell_type": "code",
   "execution_count": null,
   "metadata": {},
   "outputs": [],
   "source": [
    "# Species depth\n",
    "\n",
    "m = meta_all.drop(drop_mgen_id_list).drop(idxwhere(meta_all.recipient == 0))\n",
    "d = m.set_index(['subject_id', 'sample_type_specific']).species_depth.unstack()[sample_type_specific_order]\n",
    "is_fit_annot = m.set_index(['subject_id', 'sample_type_specific']).is_fit.unstack(fill_value=False)[sample_type_specific_order]\n",
    "\n",
    "sns.heatmap(d, annot=is_fit_annot, norm=mpl.colors.SymLogNorm(linthresh=1))"
   ]
  },
  {
   "cell_type": "code",
   "execution_count": null,
   "metadata": {},
   "outputs": [],
   "source": [
    "plt.hist(np.log10(species_rabund[species_id] + 1e-6))"
   ]
  },
  {
   "cell_type": "code",
   "execution_count": null,
   "metadata": {},
   "outputs": [],
   "source": [
    "strain_rabund = ((fit.community.data * species_rabund[species_id].to_xarray())).to_pandas().reindex(idxwhere(meta_all.species_depth.notna()), fill_value=0)\n",
    "strain_rabund"
   ]
  },
  {
   "cell_type": "code",
   "execution_count": null,
   "metadata": {},
   "outputs": [],
   "source": [
    "sns.clustermap(strain_rabund, figsize=(10, 15), yticklabels=1)"
   ]
  },
  {
   "cell_type": "code",
   "execution_count": null,
   "metadata": {},
   "outputs": [],
   "source": [
    "thresh = 1e-4\n",
    "color_list = [\"#35618f\", \"#9dd84e\", \"#6538ac\", \"#5c922f\", \"#e033d3\", \"#61f22d\", \"#dd8eeb\", \"#0b5313\", \"#fd8992\", \"#20d8fd\", \"#91322d\", \"#62ecb6\", \"#ed0e1c\", \"#c2dcb8\", \"#cf115d\", \"#399283\", \"#f37d21\", \"#5310f0\", \"#f1c039\", \"#5d4030\", \"#f8cac2\", \"#74aff3\", \"#aa7b1b\"]\n",
    "strain_order = strain_rabund.mean().sort_values(ascending=False).index\n",
    "strain_palette = lib.plot.construct_ordered_palette_from_list(strain_order, colors=color_list)\n",
    "m0 = meta_all.drop(drop_mgen_id_list)\n",
    "\n",
    "subject_order = subject[subject.recipient == 1].index\n",
    "ncols = 4\n",
    "nrows = int(np.ceil(len(subject_order) / ncols))\n",
    "\n",
    "fig, axs = plt.subplots(nrows, ncols, sharex=True, sharey=True, figsize=(3 * ncols, 2.5 * nrows))\n",
    "\n",
    "for subject_id, ax in zip(subject_order, axs.flatten()):\n",
    "    donor_subject_id = subject.loc[subject_id].donor_subject_id\n",
    "\n",
    "    subject_mgen_list = idxwhere(m0.subject_id == subject_id)\n",
    "    donor_subject_mgen_list = idxwhere(m0.subject_id == donor_subject_id)\n",
    "\n",
    "    rabund_donor = strain_rabund.loc[donor_subject_mgen_list].mean()\n",
    "    donor_strains = idxwhere(strain_rabund.loc[donor_subject_mgen_list].max() >= thresh)\n",
    "\n",
    "    ax.set_title((subject_id, donor_subject_id))\n",
    "    try:\n",
    "        rabund_subject = strain_rabund.loc[subject_mgen_list]\n",
    "    except KeyError as err:\n",
    "        print(err)\n",
    "        continue\n",
    "    \n",
    "    subject_strains = idxwhere(rabund_subject.max() >= thresh)\n",
    "    all_active_strains = list(set(subject_strains) | set(donor_strains))\n",
    "    \n",
    "    m1 = m0.loc[subject_mgen_list]\n",
    "    print(subject_id, m1.shape)\n",
    "    m2 = m1[['sample_type_specific']].join(strain_rabund).set_index('sample_type_specific').reindex(sample_type_specific_order)\n",
    "\n",
    "    for strain_id in strain_order:\n",
    "        ax.plot(m2[strain_id], marker='o', markerfacecolor='none', linestyle='-', color=strain_palette[strain_id])\n",
    "        ax.scatter([-1], rabund_donor[strain_id], label=strain_id, color=strain_palette[strain_id])\n",
    "\n",
    "ax.set_yscale('symlog', linthresh=thresh, linscale=0.3)\n",
    "ax.set_ylim(-thresh, 1.0)\n",
    "\n",
    "for ax in axs[-1]:\n",
    "    ax.set_xticks(range(-1, len(sample_type_specific_order)))\n",
    "    ax.set_xticklabels(['donor'] + sample_type_specific_order, rotation=45, ha='right')\n",
    "#ax.legend()\n",
    "# fig.tight_layout()"
   ]
  },
  {
   "cell_type": "code",
   "execution_count": null,
   "metadata": {},
   "outputs": [],
   "source": [
    "for strain_id in strain_palette:\n",
    "    plt.scatter([], [], marker='o', c=strain_palette[strain_id], label=strain_id)\n",
    "plt.legend()"
   ]
  }
 ],
 "metadata": {
  "kernelspec": {
   "display_name": "sfacts",
   "language": "python",
   "name": "sfacts"
  },
  "language_info": {
   "codemirror_mode": {
    "name": "ipython",
    "version": 3
   },
   "file_extension": ".py",
   "mimetype": "text/x-python",
   "name": "python",
   "nbconvert_exporter": "python",
   "pygments_lexer": "ipython3",
   "version": "3.10.5"
  }
 },
 "nbformat": 4,
 "nbformat_minor": 5
}